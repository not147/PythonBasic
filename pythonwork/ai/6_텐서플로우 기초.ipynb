{
 "cells": [
  {
   "cell_type": "code",
   "execution_count": 2,
   "id": "25a20783",
   "metadata": {},
   "outputs": [
    {
     "name": "stdout",
     "output_type": "stream",
     "text": [
      "3.7.10 (default, Feb 26 2021, 13:06:18) [MSC v.1916 64 bit (AMD64)]\n",
      "1.15.0\n"
     ]
    }
   ],
   "source": [
    "import sys\n",
    "import tensorflow as tf\n",
    "\n",
    "print(sys.version)\n",
    "print(tf.__version__)"
   ]
  },
  {
   "cell_type": "code",
   "execution_count": 3,
   "id": "84e89745",
   "metadata": {},
   "outputs": [],
   "source": [
    "import numpy as np\n",
    "import pandas as pd\n",
    "import matplotlib.pyplot as plt\n",
    "\n",
    "import matplotlib.font_manager as fm\n",
    "font_name = fm.FontProperties(fname=\"C:/Windows/Fonts/malgun.ttf\").get_name()\n",
    "plt.rc(\"font\", family=font_name)\n",
    "\n",
    "import matplotlib as mlp\n",
    "mlp.rcParams[\"axes.unicode_minus\"] = False\n",
    "\n",
    "import seaborn as sns"
   ]
  },
  {
   "cell_type": "markdown",
   "id": "9ac5bd6c",
   "metadata": {},
   "source": [
    "# 1. 텐서\n",
    "\n",
    "+ 0D tensor, 1D tensor, 2D tensor, 3D tensor, 고차원 텐서"
   ]
  },
  {
   "cell_type": "code",
   "execution_count": 7,
   "id": "b9fec1fa",
   "metadata": {},
   "outputs": [
    {
     "name": "stdout",
     "output_type": "stream",
     "text": [
      "0\n",
      "()\n",
      "int32\n"
     ]
    }
   ],
   "source": [
    "##### 0D 텐서(스칼라)\n",
    "\n",
    "x = np.array(10)\n",
    "x\n",
    "\n",
    "print(x.ndim)\n",
    "print(x.shape)\n",
    "print(x.dtype)"
   ]
  },
  {
   "cell_type": "code",
   "execution_count": 8,
   "id": "d0d1a676",
   "metadata": {},
   "outputs": [
    {
     "name": "stdout",
     "output_type": "stream",
     "text": [
      "1\n",
      "(1,)\n",
      "int32\n"
     ]
    }
   ],
   "source": [
    "##### 1D 텐서(벡터)\n",
    "\n",
    "x = np.array([10])\n",
    "\n",
    "print(x.ndim)\n",
    "print(x.shape)\n",
    "print(x.dtype)"
   ]
  },
  {
   "cell_type": "code",
   "execution_count": 9,
   "id": "7c788f60",
   "metadata": {},
   "outputs": [
    {
     "name": "stdout",
     "output_type": "stream",
     "text": [
      "2\n",
      "(3, 4)\n",
      "int32\n"
     ]
    }
   ],
   "source": [
    "##### 2D 텐서(Matrix, 행렬)\n",
    "\n",
    "x = np.array([[1, 2, 3, 4], [5, 6, 7, 8], [9, 10, 11, 12]])\n",
    "\n",
    "print(x.ndim)\n",
    "print(x.shape)\n",
    "print(x.dtype)"
   ]
  },
  {
   "cell_type": "markdown",
   "id": "3e7ba0ef",
   "metadata": {},
   "source": [
    "+ 3D 텐서, 고차원 텐서\n",
    "+ 딥러닝에서는 0D ~ 4D(주로 이미지용)까지 주로 사용\n",
    "+ 동영상을 다룰때에는 5D 텐서까지 사용"
   ]
  },
  {
   "cell_type": "markdown",
   "id": "b414c091",
   "metadata": {},
   "source": [
    "# 2. 기본 구성 요소\n",
    "\n",
    "+ placeholder()\n",
    "+ constant()\n",
    "+ Variable()"
   ]
  },
  {
   "cell_type": "markdown",
   "id": "ee4ed52f",
   "metadata": {},
   "source": [
    "### (1) constant\n",
    "\n",
    "+ 절대 변하지 않는 상수\n",
    "+ 자체적으로 그래프를 갖는다.\n",
    "+ 메서드\n",
    "\n",
    "tf.constant(\n",
    "    value, dtype=None, shape=None, name='Const', verify_shape=False\n",
    ")"
   ]
  },
  {
   "cell_type": "code",
   "execution_count": 12,
   "id": "c25b3c16",
   "metadata": {},
   "outputs": [
    {
     "name": "stdout",
     "output_type": "stream",
     "text": [
      "Tensor(\"Const_3:0\", shape=(), dtype=int32)\n",
      "Tensor(\"Const_4:0\", shape=(), dtype=int32)\n",
      "Tensor(\"Add:0\", shape=(), dtype=int32)\n"
     ]
    }
   ],
   "source": [
    "a = tf.constant(10)\n",
    "print(a)\n",
    "\n",
    "b = tf.constant(20)\n",
    "print(b)\n",
    "\n",
    "c = tf.add(a, b)\n",
    "print(c)"
   ]
  },
  {
   "cell_type": "code",
   "execution_count": 15,
   "id": "8a7e9402",
   "metadata": {},
   "outputs": [
    {
     "name": "stdout",
     "output_type": "stream",
     "text": [
      "10\n",
      "20\n",
      "30\n"
     ]
    }
   ],
   "source": [
    "sess = tf.Session()\n",
    "print(sess.run(a))\n",
    "print(sess.run(b))\n",
    "print(sess.run(c))"
   ]
  },
  {
   "cell_type": "code",
   "execution_count": 16,
   "id": "da815df3",
   "metadata": {},
   "outputs": [
    {
     "data": {
      "text/plain": [
       "<tensorflow.python.summary.writer.writer.FileWriter at 0x223dd3b35c8>"
      ]
     },
     "execution_count": 16,
     "metadata": {},
     "output_type": "execute_result"
    }
   ],
   "source": [
    "##### Tensorboard\n",
    "# tensorboard --logdir=log_dir\n",
    "# http://localhost:6006\n",
    "\n",
    "tf.summary.FileWriter(\"log_dir\", graph=sess.graph)"
   ]
  },
  {
   "cell_type": "code",
   "execution_count": 17,
   "id": "68d5843e",
   "metadata": {},
   "outputs": [],
   "source": [
    "sess.close()"
   ]
  },
  {
   "cell_type": "code",
   "execution_count": 18,
   "id": "1b735303",
   "metadata": {},
   "outputs": [],
   "source": [
    "##### (5+2)*3\n",
    "\n",
    "a = tf.constant([5])\n",
    "b = tf.constant([2])\n",
    "c = tf.add(a, b)\n",
    "d = tf.constant([3])\n",
    "e = tf.multiply(c, d)"
   ]
  },
  {
   "cell_type": "code",
   "execution_count": 19,
   "id": "011cfb28",
   "metadata": {},
   "outputs": [
    {
     "name": "stdout",
     "output_type": "stream",
     "text": [
      "[21]\n"
     ]
    }
   ],
   "source": [
    "sess = tf.Session()\n",
    "print(sess.run(e))"
   ]
  },
  {
   "cell_type": "code",
   "execution_count": 20,
   "id": "ba334b1f",
   "metadata": {},
   "outputs": [
    {
     "data": {
      "text/plain": [
       "<tensorflow.python.summary.writer.writer.FileWriter at 0x223dd4288c8>"
      ]
     },
     "execution_count": 20,
     "metadata": {},
     "output_type": "execute_result"
    }
   ],
   "source": [
    "tf.summary.FileWriter(\"log_dir\", graph=sess.graph)"
   ]
  },
  {
   "cell_type": "code",
   "execution_count": 21,
   "id": "87f70c68",
   "metadata": {},
   "outputs": [],
   "source": [
    "sess.close()"
   ]
  },
  {
   "cell_type": "markdown",
   "id": "008b17d7",
   "metadata": {},
   "source": [
    "### (2) Variable\n",
    "\n",
    "+ 객체로 정의되어 있다.\n",
    "+ weight(가중치)를 저장하는 변수\n",
    "+ 사용전에 반드시 초기화를 해야 한다.(global_variables_initializer() 호출)\n",
    "\n",
    "    tf.Variable(\n",
    "        initial_value=None, \n",
    "        trainable=None, collections=None, validate_shape=True,\n",
    "        caching_device=None, name=None, variable_def=None, dtype=None,\n",
    "        expected_shape=None, import_scope=None, constraint=None, use_resource=None,\n",
    "        synchronization=tf.VariableSynchronization.AUTO,\n",
    "        aggregation=tf.VariableAggregation.NONE, shape=None\n",
    "    )"
   ]
  },
  {
   "cell_type": "code",
   "execution_count": 22,
   "id": "a7f924c4",
   "metadata": {},
   "outputs": [
    {
     "name": "stdout",
     "output_type": "stream",
     "text": [
      "Tensor(\"add_3:0\", shape=(1,), dtype=int32)\n"
     ]
    }
   ],
   "source": [
    "v1 = tf.Variable(initial_value=[5])\n",
    "v2 = tf.Variable([3])\n",
    "v3 = tf.Variable([2])\n",
    "\n",
    "v4 = v1 + v2 + v3\n",
    "print(v4)"
   ]
  },
  {
   "cell_type": "code",
   "execution_count": 24,
   "id": "6dc26272",
   "metadata": {},
   "outputs": [
    {
     "data": {
      "text/plain": [
       "array([10])"
      ]
     },
     "execution_count": 24,
     "metadata": {},
     "output_type": "execute_result"
    }
   ],
   "source": [
    "sess = tf.Session()\n",
    "sess.run(tf.global_variables_initializer())\n",
    "sess.run(v4)"
   ]
  },
  {
   "cell_type": "code",
   "execution_count": 25,
   "id": "4dc21684",
   "metadata": {},
   "outputs": [
    {
     "data": {
      "text/plain": [
       "<tensorflow.python.summary.writer.writer.FileWriter at 0x223e0b61808>"
      ]
     },
     "execution_count": 25,
     "metadata": {},
     "output_type": "execute_result"
    }
   ],
   "source": [
    "tf.summary.FileWriter(\"log_dir\", graph=sess.graph)"
   ]
  },
  {
   "cell_type": "code",
   "execution_count": 26,
   "id": "be97dbbf",
   "metadata": {},
   "outputs": [],
   "source": [
    "sess.close()"
   ]
  },
  {
   "cell_type": "markdown",
   "id": "f6994892",
   "metadata": {},
   "source": [
    "### (3) placeholder\n",
    "\n",
    "+ 그래프를 만들지 않는다.\n",
    "+ 입력된 데이터를 텐서와 매핑하는 역할"
   ]
  },
  {
   "cell_type": "code",
   "execution_count": 27,
   "id": "794fb511",
   "metadata": {},
   "outputs": [],
   "source": [
    "p1 = tf.placeholder(dtype=tf.float32)\n",
    "p2 = tf.placeholder(dtype=tf.float32)\n",
    "p3 = tf.placeholder(dtype=tf.float32)\n",
    "\n",
    "result = p1 + p2 + p3"
   ]
  },
  {
   "cell_type": "code",
   "execution_count": 28,
   "id": "23dd675f",
   "metadata": {},
   "outputs": [
    {
     "data": {
      "text/plain": [
       "10.0"
      ]
     },
     "execution_count": 28,
     "metadata": {},
     "output_type": "execute_result"
    }
   ],
   "source": [
    "a, b, c = 5, 3, 2\n",
    "\n",
    "sess = tf.Session()\n",
    "sess.run(result, feed_dict={p1:a, p2:b, p3:c})"
   ]
  },
  {
   "cell_type": "code",
   "execution_count": 29,
   "id": "ce8d5c81",
   "metadata": {},
   "outputs": [],
   "source": [
    "sess.close()"
   ]
  },
  {
   "cell_type": "code",
   "execution_count": 31,
   "id": "54cbd29e",
   "metadata": {},
   "outputs": [],
   "source": [
    "##### 구구단 프로그램\n",
    "\n",
    "def gugu(dan):\n",
    "    left = tf.placeholder(tf.int32)\n",
    "    right = tf.placeholder(tf.int32)\n",
    "    calc = tf.multiply(left, right)\n",
    "    \n",
    "    sess = tf.Session()\n",
    "    for i in range(1, 10):\n",
    "        result = sess.run(calc, feed_dict={left:dan, right:i})\n",
    "        print(\"{} * {} = {}\".format(dan, i, result))\n",
    "    \n",
    "    sess.close()"
   ]
  },
  {
   "cell_type": "code",
   "execution_count": 32,
   "id": "1ce0ebea",
   "metadata": {},
   "outputs": [
    {
     "name": "stdout",
     "output_type": "stream",
     "text": [
      "3 * 1 = 3\n",
      "3 * 2 = 6\n",
      "3 * 3 = 9\n",
      "3 * 4 = 12\n",
      "3 * 5 = 15\n",
      "3 * 6 = 18\n",
      "3 * 7 = 21\n",
      "3 * 8 = 24\n",
      "3 * 9 = 27\n"
     ]
    }
   ],
   "source": [
    "gugu(3)"
   ]
  },
  {
   "cell_type": "code",
   "execution_count": null,
   "id": "ca991726",
   "metadata": {},
   "outputs": [],
   "source": []
  }
 ],
 "metadata": {
  "kernelspec": {
   "display_name": "Python 3",
   "language": "python",
   "name": "python3"
  },
  "language_info": {
   "codemirror_mode": {
    "name": "ipython",
    "version": 3
   },
   "file_extension": ".py",
   "mimetype": "text/x-python",
   "name": "python",
   "nbconvert_exporter": "python",
   "pygments_lexer": "ipython3",
   "version": "3.7.10"
  }
 },
 "nbformat": 4,
 "nbformat_minor": 5
}
