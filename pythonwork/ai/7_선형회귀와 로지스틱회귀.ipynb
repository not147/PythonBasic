{
 "cells": [
  {
   "cell_type": "code",
   "execution_count": 1,
   "id": "7ca8feb4",
   "metadata": {},
   "outputs": [],
   "source": [
    "import numpy as np\n",
    "import pandas as pd\n",
    "import matplotlib.pyplot as plt\n",
    "\n",
    "import matplotlib.font_manager as fm\n",
    "font_name = fm.FontProperties(fname=\"C:/Windows/Fonts/malgun.ttf\").get_name()\n",
    "plt.rc(\"font\", family=font_name)\n",
    "\n",
    "import matplotlib as mlp\n",
    "mlp.rcParams[\"axes.unicode_minus\"] = False\n",
    "\n",
    "import seaborn as sns\n",
    "\n",
    "import tensorflow as tf"
   ]
  },
  {
   "cell_type": "markdown",
   "id": "7d73b405",
   "metadata": {},
   "source": [
    "## 1. 단순 선형 회귀모델의 비용 구하기"
   ]
  },
  {
   "cell_type": "code",
   "execution_count": null,
   "id": "e192a880",
   "metadata": {},
   "outputs": [],
   "source": [
    "##### 데이터 준비\n",
    "x_train = [1, 2, 3]\n",
    "y_train = [1, 2, 3]\n",
    "\n",
    "W = tf.placeholder(tf.float32)\n",
    "\n",
    "##### 가설 준비(y = Wx)\n",
    "hypot = W * x_train\n",
    "\n",
    "##### 비용 함수\n",
    "cost = tf.reduce_mean(tf.square(hypot - y_train))\n",
    "\n",
    "#----------------- 텐서플로의 그래프 완성 -------------------#\n",
    "\n",
    "##### 비용함수를 가지고 그래프를 그려보기\n",
    "sess = tf.Session()\n",
    "cost_val = []\n",
    "\n",
    "for i in range(-30, 50):\n",
    "    result = sess.run(cost, feed_dict={W:i*0.1})\n",
    "    cost_val.append(result)\n",
    "    \n",
    "plt.plot(cost_val)\n",
    "sess.close()"
   ]
  },
  {
   "cell_type": "markdown",
   "id": "672d3bd5",
   "metadata": {},
   "source": [
    "## 2. 경사하강 알고리즘을 이용한 가중치 학습"
   ]
  },
  {
   "cell_type": "code",
   "execution_count": null,
   "id": "1961cd8e",
   "metadata": {},
   "outputs": [],
   "source": [
    "##### 데이터 준비\n",
    "x_train = [1, 2, 3]\n",
    "y_train = [1, 2, 3]\n",
    "\n",
    "W = tf.Variable(tf.random_normal([1]), dtype=tf.float32)\n",
    "b = tf.Variable(tf.random_normal([1]), dtype=tf.float32)\n",
    "\n",
    "##### 가설 준비(y = Wx)\n",
    "hypot = W * x_train + b\n",
    "\n",
    "##### 비용 함수\n",
    "cost = tf.reduce_mean(tf.square(hypot - y_train))\n",
    "\n",
    "##### 최저비용 학습을 위한 경사 하강 알고리즘(Gradient Descent)\n",
    "gradient = tf.reduce_mean((hypot-y_train)*x_train)\n",
    "learning_rate = 0.1\n",
    "descent = W - (learning_rate * gradient)\n",
    "update = W.assign(descent)\n",
    "\n",
    "################## Graph 작업 완료\n",
    "\n",
    "sess = tf.Session()\n",
    "sess.run(tf.global_variables_initializer())\n",
    "\n",
    "for step in range(20):\n",
    "    _, weight, c = sess.run([update, W, cost])\n",
    "    print(step, weight, c)\n",
    "\n",
    "sess.close()"
   ]
  },
  {
   "cell_type": "code",
   "execution_count": null,
   "id": "4040e518",
   "metadata": {},
   "outputs": [],
   "source": [
    "##### 데이터 준비\n",
    "x_train = tf.placeholder(tf.float32, shape=[None])\n",
    "y_train = tf.placeholder(tf.float32, shape=[None])\n",
    "\n",
    "W = tf.Variable(tf.random_normal([1]), dtype=tf.float32)\n",
    "b = tf.Variable(tf.random_normal([1]), dtype=tf.float32)\n",
    "\n",
    "##### 가설 준비(y = Wx)\n",
    "hypot = W * x_train + b\n",
    "\n",
    "##### 비용 함수\n",
    "cost = tf.reduce_mean(tf.square(hypot - y_train))\n",
    "\n",
    "##### 최저비용 학습을 위한 경사 하강 알고리즘(Gradient Descent)\n",
    "gradient = tf.reduce_mean((hypot-y_train)*x_train)\n",
    "learning_rate = 0.01\n",
    "descent = W - (learning_rate * gradient)\n",
    "update = W.assign(descent)\n",
    "\n",
    "################## Graph 작업 완료\n",
    "\n",
    "sess = tf.Session()\n",
    "sess.run(tf.global_variables_initializer())\n",
    "\n",
    "for step in range(20):\n",
    "    _, weight, c = sess.run([update, W, cost], feed_dict={x_train:[1, 2, 3, 4, 5], \n",
    "                                                          y_train:[1, 2, 3, 4, 5]})\n",
    "    print(step, weight, c)\n",
    "\n",
    "sess.close()"
   ]
  },
  {
   "cell_type": "markdown",
   "id": "5d33978c",
   "metadata": {},
   "source": [
    "#### 1) 경사 하강 알고리즘 객체 사용"
   ]
  },
  {
   "cell_type": "code",
   "execution_count": null,
   "id": "bd67fc74",
   "metadata": {},
   "outputs": [],
   "source": [
    "##### 데이터 준비\n",
    "x_train = tf.placeholder(tf.float32, shape=[None])\n",
    "y_train = tf.placeholder(tf.float32, shape=[None])\n",
    "\n",
    "W = tf.Variable(tf.random_normal([1]), dtype=tf.float32)\n",
    "b = tf.Variable(tf.random_normal([1]), dtype=tf.float32)\n",
    "\n",
    "##### 가설 준비(y = Wx)\n",
    "hypot = W * x_train + b\n",
    "\n",
    "##### 비용 함수\n",
    "cost = tf.reduce_mean(tf.square(hypot - y_train))\n",
    "\n",
    "##### 최저비용 학습을 위한 경사 하강 알고리즘(Gradient Descent)\n",
    "update = tf.train.GradientDescentOptimizer(learning_rate=0.01).minimize(cost)\n",
    "\n",
    "################## Graph 작업 완료\n",
    "\n",
    "sess = tf.Session()\n",
    "sess.run(tf.global_variables_initializer())\n",
    "\n",
    "for step in range(2000):\n",
    "    _, weight, c, bias = sess.run([update, W, cost, b], feed_dict={x_train:[1, 2, 3, 4, 5], \n",
    "                                                          y_train:[2.1, 3.1, 4.1, 5.1, 6.1]})\n",
    "    if step % 100 == 0:\n",
    "        print(step, weight, c, bias)\n"
   ]
  },
  {
   "cell_type": "code",
   "execution_count": null,
   "id": "9b07774c",
   "metadata": {},
   "outputs": [],
   "source": [
    "##### Testing\n",
    "\n",
    "print(sess.run(hypot, feed_dict={x_train:[27]}))\n",
    "print(sess.run(hypot, feed_dict={x_train:[2.5, 3.7]}))"
   ]
  },
  {
   "cell_type": "code",
   "execution_count": null,
   "id": "bc48aaa1",
   "metadata": {},
   "outputs": [],
   "source": [
    "sess.close()"
   ]
  },
  {
   "cell_type": "markdown",
   "id": "fd37c06f",
   "metadata": {},
   "source": [
    "## 3. 응용 예제\n",
    "\n",
    "+ 아래의 데이터를 가지고 하루 8시간을 일했을 때 매출액이 얼마인지 예측하시오."
   ]
  },
  {
   "cell_type": "code",
   "execution_count": null,
   "id": "70198c8c",
   "metadata": {},
   "outputs": [],
   "source": [
    "X = [1, 2, 3, 4, 5, 6, 7]\n",
    "y = [25000, 55000, 75000, 110000, 128000, 155000, 180000]"
   ]
  },
  {
   "cell_type": "code",
   "execution_count": null,
   "id": "02299c7d",
   "metadata": {},
   "outputs": [],
   "source": [
    "##### 데이터 준비\n",
    "x_train = tf.placeholder(tf.float32, shape=[None])\n",
    "y_train = tf.placeholder(tf.float32, shape=[None])\n",
    "\n",
    "W = tf.Variable(tf.random_normal([1]), dtype=tf.float32)\n",
    "b = tf.Variable(tf.random_normal([1]), dtype=tf.float32)\n",
    "\n",
    "##### 가설 준비(y = Wx)\n",
    "hypot = W * x_train + b\n",
    "\n",
    "##### 비용 함수\n",
    "cost = tf.reduce_mean(tf.square(hypot - y_train))\n",
    "\n",
    "##### 최저비용 학습을 위한 경사 하강 알고리즘(Gradient Descent)\n",
    "update = tf.train.GradientDescentOptimizer(learning_rate=0.01).minimize(cost)\n",
    "\n",
    "################## Graph 작업 완료\n",
    "\n",
    "sess = tf.Session()\n",
    "sess.run(tf.global_variables_initializer())\n",
    "\n",
    "for step in range(2000):\n",
    "    _, c = sess.run([update, cost], feed_dict={x_train:X, y_train:y})\n",
    "    \n",
    "    if step % 100 == 0:\n",
    "        print(step, c)\n"
   ]
  },
  {
   "cell_type": "code",
   "execution_count": null,
   "id": "960680ab",
   "metadata": {},
   "outputs": [],
   "source": [
    "print(sess.run(hypot, feed_dict={x_train:[8]}))"
   ]
  },
  {
   "cell_type": "markdown",
   "id": "bf657983",
   "metadata": {},
   "source": [
    "## 4. 다중 선형 회귀모델"
   ]
  },
  {
   "cell_type": "code",
   "execution_count": null,
   "id": "00f14ae5",
   "metadata": {},
   "outputs": [],
   "source": [
    "x1_data = [73., 93., 89., 96., 73.]\n",
    "x2_data = [80., 88., 91., 98., 66.]\n",
    "x3_data = [75., 93., 90., 100., 70.]\n",
    "y_data = [152., 185., 180., 196., 142.]"
   ]
  },
  {
   "cell_type": "markdown",
   "id": "af5496f3",
   "metadata": {},
   "source": [
    "#### 1) 단순하게 처리하는 경우"
   ]
  },
  {
   "cell_type": "code",
   "execution_count": null,
   "id": "9deeb862",
   "metadata": {},
   "outputs": [],
   "source": [
    "X1 = tf.placeholder(tf.float32, shape=[None])\n",
    "X2 = tf.placeholder(tf.float32, shape=[None])\n",
    "X3 = tf.placeholder(tf.float32, shape=[None])\n",
    "\n",
    "y = tf.placeholder(tf.float32, shape=[None])\n",
    "\n",
    "##### 가설 설정 : y = W1X1 + W2X2 + W3X3 + b\n",
    "W1 = tf.Variable(tf.random_normal([1]))\n",
    "W2 = tf.Variable(tf.random_normal([1]))\n",
    "W3 = tf.Variable(tf.random_normal([1]))\n",
    "b = tf.Variable(tf.random_normal([1]))\n",
    "\n",
    "hypot = W1*X1 + W2*X2 + W3*X3 + b\n",
    "\n",
    "##### 비용 함수\n",
    "cost = tf.reduce_mean(tf.square((hypot - y)))\n",
    "\n",
    "##### 최소 비용 계산\n",
    "train = tf.train.GradientDescentOptimizer(learning_rate=0.000001).minimize(cost)"
   ]
  },
  {
   "cell_type": "code",
   "execution_count": null,
   "id": "c86291e1",
   "metadata": {},
   "outputs": [],
   "source": [
    "sess = tf.Session()\n",
    "sess.run(tf.global_variables_initializer())\n",
    "\n",
    "for step in range(5000):\n",
    "    _, c, h = sess.run([train, cost, hypot], feed_dict={X1:x1_data, X2:x2_data, X3:x3_data, y:y_data})\n",
    "    \n",
    "    if step % 500 == 0:\n",
    "        print(step, c, h)"
   ]
  },
  {
   "cell_type": "code",
   "execution_count": null,
   "id": "b38b73a3",
   "metadata": {},
   "outputs": [],
   "source": [
    "sess.close()"
   ]
  },
  {
   "cell_type": "markdown",
   "id": "2df47fc7",
   "metadata": {},
   "source": [
    "#### 2) Matrix로 처리하는 경우"
   ]
  },
  {
   "cell_type": "code",
   "execution_count": null,
   "id": "923214d3",
   "metadata": {},
   "outputs": [],
   "source": [
    "X_data = [[73., 80., 75.],\n",
    "         [93., 88., 93.],\n",
    "         [89., 91., 90.],\n",
    "         [96., 98., 100.],\n",
    "         [73., 66., 70.]]\n",
    "\n",
    "y_data = [[152.], \n",
    "          [185.], \n",
    "          [180.], \n",
    "          [196.], \n",
    "          [142.]]"
   ]
  },
  {
   "cell_type": "code",
   "execution_count": null,
   "id": "b489d1c5",
   "metadata": {},
   "outputs": [],
   "source": [
    "X = tf.placeholder(tf.float32, shape=[None, 3])\n",
    "y = tf.placeholder(tf.float32, shape=[None, 1])\n",
    "\n",
    "##### 가설 설정 \n",
    "W = tf.Variable(tf.random_normal([3, 1]))\n",
    "b = tf.Variable(tf.random_normal([1]))\n",
    "\n",
    "hypot = tf.matmul(X, W) + b\n",
    "\n",
    "##### 비용 함수\n",
    "cost = tf.reduce_mean(tf.square((hypot - y)))\n",
    "\n",
    "##### 최소 비용 계산\n",
    "train = tf.train.GradientDescentOptimizer(learning_rate=0.000001).minimize(cost)"
   ]
  },
  {
   "cell_type": "code",
   "execution_count": null,
   "id": "f01bc453",
   "metadata": {},
   "outputs": [],
   "source": [
    "sess = tf.Session()\n",
    "sess.run(tf.global_variables_initializer())\n",
    "\n",
    "for step in range(9000):\n",
    "    _, c, h = sess.run([train, cost, hypot], feed_dict={X:X_data, y:y_data})\n",
    "    \n",
    "    if step % 1000 == 0:\n",
    "        print(step, c, h)\n",
    "        \n",
    "sess.close()"
   ]
  },
  {
   "cell_type": "markdown",
   "id": "b5ebb5e9",
   "metadata": {},
   "source": [
    "#### 3) 1차원 데이터를 2차원으로 코드 처리"
   ]
  },
  {
   "cell_type": "code",
   "execution_count": null,
   "id": "b89382a5",
   "metadata": {},
   "outputs": [],
   "source": [
    "x1_data = [73., 93., 89., 96., 73.]\n",
    "x2_data = [80., 88., 91., 98., 66.]\n",
    "x3_data = [75., 93., 90., 100., 70.]\n",
    "y_data = [152., 185., 180., 196., 142.]\n",
    "\n",
    "##### 데이터를 2차원으로 변환\n",
    "\n",
    "\n",
    "X = tf.placeholder(tf.float32, shape=[None, 3])\n",
    "y = tf.placeholder(tf.float32, shape=[None, 1])\n",
    "\n",
    "##### 가설 설정 \n",
    "W = tf.Variable(tf.random_normal([3, 1]))\n",
    "b = tf.Variable(tf.random_normal([1]))\n",
    "\n",
    "hypot = tf.matmul(X, W) + b\n",
    "\n",
    "##### 비용 함수\n",
    "cost = tf.reduce_mean(tf.square((hypot - y)))\n",
    "\n",
    "##### 최소 비용 계산\n",
    "train = tf.train.GradientDescentOptimizer(learning_rate=0.000001).minimize(cost)\n",
    "\n",
    "#----------------------------------------------------------------------------------\n",
    "\n",
    "sess = tf.Session()\n",
    "sess.run(tf.global_variables_initializer())\n",
    "\n",
    "for step in range(9000):\n",
    "    _, c, h = sess.run([train, cost, hypot], feed_dict={X:X_data, y:y_data})\n",
    "    \n",
    "    if step % 1000 == 0:\n",
    "        print(step, c, h)\n",
    "        \n",
    "sess.close()"
   ]
  },
  {
   "cell_type": "code",
   "execution_count": null,
   "id": "28babcf5",
   "metadata": {},
   "outputs": [],
   "source": [
    "x1_data = [73., 93., 89., 96., 73.]\n",
    "x2_data = [80., 88., 91., 98., 66.]\n",
    "x3_data = [75., 93., 90., 100., 70.]\n",
    "y_data = [152., 185., 180., 196., 142.]\n",
    "\n",
    "X_data = np.dstack([x1_data, x2_data, x3_data])[0]\n",
    "y_data = np.array(y_data).reshape(-1, 1)\n",
    "\n",
    "X_data\n",
    "y_data"
   ]
  },
  {
   "cell_type": "code",
   "execution_count": null,
   "id": "10948c16",
   "metadata": {},
   "outputs": [],
   "source": [
    "# X_data = list([x1_data, x2_data, x3_data])\n",
    "# X_data\n",
    "\n",
    "X_data = []\n",
    "for i in zip(x1_data, x2_data, x3_data):\n",
    "    X_data.append(list(i))\n",
    "    \n",
    "X_data\n",
    "\n",
    "y_data = np.reshape(y_data, (-1, 1))"
   ]
  },
  {
   "cell_type": "code",
   "execution_count": null,
   "id": "406df19c",
   "metadata": {},
   "outputs": [],
   "source": [
    "x_data = pd.DataFrame(zip(x1_data, x2_data, x3_data)).values\n",
    "x_data"
   ]
  },
  {
   "cell_type": "code",
   "execution_count": null,
   "id": "82c43ea6",
   "metadata": {},
   "outputs": [],
   "source": [
    "datas = np.reshape([x1_data, x2_data, x3_data], (3, 5)).T\n",
    "datas"
   ]
  },
  {
   "cell_type": "code",
   "execution_count": null,
   "id": "560f5726",
   "metadata": {},
   "outputs": [],
   "source": [
    "sess = tf.Session()\n",
    "tf.stack([x1_data, x2_data, x3_data],axis=1).eval(session=sess)"
   ]
  },
  {
   "cell_type": "markdown",
   "id": "333ea045",
   "metadata": {},
   "source": [
    "## 5. 대용량 데이터 처리"
   ]
  },
  {
   "cell_type": "markdown",
   "id": "b7f175cd",
   "metadata": {},
   "source": [
    "### (1) DASK\n",
    "\n",
    "+ 가상의 데이터 프레임\n",
    "+ 병렬처리용 작업 스케줄러"
   ]
  },
  {
   "cell_type": "code",
   "execution_count": null,
   "id": "31a07ea6",
   "metadata": {},
   "outputs": [],
   "source": [
    "%%writefile \"data/sample1.csv\"\n",
    "c1, c2, c3\n",
    "1, 1.11, one\n",
    "2, 2.22, two\n",
    "3, 3.33, three\n",
    "4, 4.44, four\n",
    "5, 5.55, five\n",
    "6, 6.66, six"
   ]
  },
  {
   "cell_type": "code",
   "execution_count": null,
   "id": "ed2843a3",
   "metadata": {},
   "outputs": [],
   "source": [
    "df1 = pd.read_csv(\"data/sample1.csv\")\n",
    "df1\n",
    "\n",
    "df1[\" c2\"].mean()"
   ]
  },
  {
   "cell_type": "code",
   "execution_count": null,
   "id": "57b26cb4",
   "metadata": {},
   "outputs": [],
   "source": [
    "import dask.dataframe as dd"
   ]
  },
  {
   "cell_type": "code",
   "execution_count": null,
   "id": "1ba56779",
   "metadata": {},
   "outputs": [],
   "source": [
    "df2 = dd.read_csv(\"data/sample1.csv\")\n",
    "df2"
   ]
  },
  {
   "cell_type": "code",
   "execution_count": null,
   "id": "e8bd39ca",
   "metadata": {},
   "outputs": [],
   "source": [
    "df2.head()"
   ]
  },
  {
   "cell_type": "code",
   "execution_count": null,
   "id": "839d24dd",
   "metadata": {},
   "outputs": [],
   "source": [
    "df2[\" c2\"].mean().compute()"
   ]
  },
  {
   "cell_type": "code",
   "execution_count": null,
   "id": "946d10e2",
   "metadata": {},
   "outputs": [],
   "source": [
    "# 변경\n",
    "df2[\" c2\"] = 100\n",
    "df2.head()\n",
    "\n",
    "# 추가\n",
    "df2[\"c4\"] = 200\n",
    "df2.head()"
   ]
  },
  {
   "cell_type": "code",
   "execution_count": null,
   "id": "bfb63224",
   "metadata": {},
   "outputs": [],
   "source": [
    "df2"
   ]
  },
  {
   "cell_type": "code",
   "execution_count": null,
   "id": "2ca8f25d",
   "metadata": {},
   "outputs": [],
   "source": [
    "df3 = dd.read_csv(\"data/crime.csv\", dtype=str, error_bad_lines=False, warn_bad_lines=False)\n",
    "df3"
   ]
  },
  {
   "cell_type": "code",
   "execution_count": null,
   "id": "e8b10e93",
   "metadata": {},
   "outputs": [],
   "source": [
    "df3.head()\n",
    "df3.tail()\n",
    "df3.count().compute()"
   ]
  },
  {
   "cell_type": "code",
   "execution_count": null,
   "id": "3098a925",
   "metadata": {},
   "outputs": [],
   "source": [
    "from dask.diagnostics import ProgressBar\n",
    "pbar = ProgressBar()\n",
    "pbar.register()"
   ]
  },
  {
   "cell_type": "code",
   "execution_count": null,
   "id": "30b03ddc",
   "metadata": {},
   "outputs": [],
   "source": [
    "%%time\n",
    "df3.count().compute()"
   ]
  },
  {
   "cell_type": "code",
   "execution_count": null,
   "id": "91b8d549",
   "metadata": {},
   "outputs": [],
   "source": [
    "%%time\n",
    "df3.count().compute(scheduler=\"processes\", num_workers=8)"
   ]
  },
  {
   "cell_type": "code",
   "execution_count": null,
   "id": "328b2a0a",
   "metadata": {},
   "outputs": [],
   "source": [
    "##### 복수 개의 데이터 처리"
   ]
  },
  {
   "cell_type": "code",
   "execution_count": null,
   "id": "c21ef65c",
   "metadata": {},
   "outputs": [],
   "source": [
    "%%writefile \"data/sample2.csv\"\n",
    "c1, c2, c3\n",
    "7, 7.77, seven\n",
    "8, 8.88, eight\n",
    "9, 9.99, nine"
   ]
  },
  {
   "cell_type": "code",
   "execution_count": null,
   "id": "9c002f34",
   "metadata": {},
   "outputs": [],
   "source": [
    "df4 = dd.read_csv(\"data/sample*.csv\")"
   ]
  },
  {
   "cell_type": "code",
   "execution_count": null,
   "id": "d7324070",
   "metadata": {},
   "outputs": [],
   "source": [
    "df4.count().compute()"
   ]
  },
  {
   "cell_type": "markdown",
   "id": "d98e05e0",
   "metadata": {},
   "source": [
    "### (2) QueueRunner"
   ]
  },
  {
   "cell_type": "markdown",
   "id": "1b0f5ad5",
   "metadata": {},
   "source": [
    "##### 1) 간단한 예제 1\n",
    "\n",
    "+ enqueue_many와 dequeue"
   ]
  },
  {
   "cell_type": "code",
   "execution_count": 2,
   "id": "232575e3",
   "metadata": {},
   "outputs": [
    {
     "name": "stdout",
     "output_type": "stream",
     "text": [
      "WARNING:tensorflow:From <ipython-input-2-999d42f80376>:10: QueueRunner.__init__ (from tensorflow.python.training.queue_runner_impl) is deprecated and will be removed in a future version.\n",
      "Instructions for updating:\n",
      "To construct input pipelines, use the `tf.data` module.\n",
      "1.0\n",
      "2.0\n",
      "3.0\n",
      "4.0\n",
      "5.0\n",
      "6.0\n",
      "7.0\n",
      "8.0\n",
      "9.0\n",
      "4.0\n",
      "5.0\n",
      "6.0\n",
      "1.0\n",
      "2.0\n",
      "3.0\n",
      "4.0\n",
      "5.0\n",
      "6.0\n",
      "1.0\n",
      "2.0\n"
     ]
    }
   ],
   "source": [
    "##### queue의 길이와 저장될 데이터 형식\n",
    "q = tf.FIFOQueue(20, \"float\")\n",
    "\n",
    "# enc_ops = q.enqueue_many(([1.0, 2.0, 3.0, 4.0],))\n",
    "# qr = tf.train.QueueRunner(q, [enc_ops]*3)\n",
    "\n",
    "enc_ops1 = q.enqueue_many(([1.0, 2.0, 3.0],))\n",
    "enc_ops2 = q.enqueue_many(([4.0, 5.0, 6.0],))\n",
    "enc_ops3 = q.enqueue_many(([7.0, 8.0, 9.0],))\n",
    "qr = tf.train.QueueRunner(q, [enc_ops1, enc_ops2, enc_ops3])\n",
    "\n",
    "sess = tf.Session()\n",
    "coordi = tf.train.Coordinator()\n",
    "threads = qr.create_threads(sess, coord=coordi, start=True)\n",
    "\n",
    "for step in range(20):\n",
    "    print(sess.run(q.dequeue()))\n",
    "\n",
    "coordi.request_stop()\n",
    "coordi.join(threads)\n",
    "sess.close()"
   ]
  },
  {
   "cell_type": "markdown",
   "id": "f00604b7",
   "metadata": {},
   "source": [
    "##### 2) 파일로부터 데이터 불러오기"
   ]
  },
  {
   "cell_type": "code",
   "execution_count": 3,
   "id": "6056a104",
   "metadata": {},
   "outputs": [
    {
     "name": "stdout",
     "output_type": "stream",
     "text": [
      "WARNING:tensorflow:From <ipython-input-3-bc7b54ad4546>:3: string_input_producer (from tensorflow.python.training.input) is deprecated and will be removed in a future version.\n",
      "Instructions for updating:\n",
      "Queue-based input pipelines have been replaced by `tf.data`. Use `tf.data.Dataset.from_tensor_slices(string_tensor).shuffle(tf.shape(input_tensor, out_type=tf.int64)[0]).repeat(num_epochs)`. If `shuffle=False`, omit the `.shuffle(...)`.\n",
      "WARNING:tensorflow:From C:\\Users\\acorn\\anaconda3\\envs\\tf1\\lib\\site-packages\\tensorflow_core\\python\\training\\input.py:277: input_producer (from tensorflow.python.training.input) is deprecated and will be removed in a future version.\n",
      "Instructions for updating:\n",
      "Queue-based input pipelines have been replaced by `tf.data`. Use `tf.data.Dataset.from_tensor_slices(input_tensor).shuffle(tf.shape(input_tensor, out_type=tf.int64)[0]).repeat(num_epochs)`. If `shuffle=False`, omit the `.shuffle(...)`.\n",
      "WARNING:tensorflow:From C:\\Users\\acorn\\anaconda3\\envs\\tf1\\lib\\site-packages\\tensorflow_core\\python\\training\\input.py:189: limit_epochs (from tensorflow.python.training.input) is deprecated and will be removed in a future version.\n",
      "Instructions for updating:\n",
      "Queue-based input pipelines have been replaced by `tf.data`. Use `tf.data.Dataset.from_tensors(tensor).repeat(num_epochs)`.\n",
      "WARNING:tensorflow:From C:\\Users\\acorn\\anaconda3\\envs\\tf1\\lib\\site-packages\\tensorflow_core\\python\\training\\input.py:198: add_queue_runner (from tensorflow.python.training.queue_runner_impl) is deprecated and will be removed in a future version.\n",
      "Instructions for updating:\n",
      "To construct input pipelines, use the `tf.data` module.\n",
      "WARNING:tensorflow:From <ipython-input-3-bc7b54ad4546>:5: TextLineReader.__init__ (from tensorflow.python.ops.io_ops) is deprecated and will be removed in a future version.\n",
      "Instructions for updating:\n",
      "Queue-based input pipelines have been replaced by `tf.data`. Use `tf.data.TextLineDataset`.\n"
     ]
    }
   ],
   "source": [
    "# sample1, sample2 파일 불러올 때 변수명 삭제하기(c1, c2, c3)\n",
    "filename_queue = tf.train.string_input_producer([\"data/sample1.csv\", \"data/sample2.csv\"],\n",
    "                                               shuffle=False, name=\"filename_queue\")\n",
    "\n",
    "reader = tf.TextLineReader()\n",
    "key, value = reader.read(filename_queue)\n",
    "\n",
    "recored_defaults = [[0], [0.0], [\"null\"]]\n",
    "a1, a2, a3 = tf.decode_csv(value, record_defaults=recored_defaults, field_delim=\",\")"
   ]
  },
  {
   "cell_type": "code",
   "execution_count": 4,
   "id": "e44e6f37",
   "metadata": {},
   "outputs": [
    {
     "name": "stdout",
     "output_type": "stream",
     "text": [
      "WARNING:tensorflow:From <ipython-input-4-4d6cd27e0e52>:3: start_queue_runners (from tensorflow.python.training.queue_runner_impl) is deprecated and will be removed in a future version.\n",
      "Instructions for updating:\n",
      "To construct input pipelines, use the `tf.data` module.\n",
      "[1, 1.11, b' one']\n",
      "[2, 2.22, b' two']\n",
      "[3, 3.33, b' three']\n",
      "[4, 4.44, b' four']\n",
      "[5, 5.55, b' five']\n",
      "[6, 6.66, b' six']\n",
      "[7, 7.77, b' seven']\n",
      "[8, 8.88, b' eight']\n",
      "[9, 9.99, b' nine']\n",
      "[1, 1.11, b' one']\n",
      "[2, 2.22, b' two']\n",
      "[3, 3.33, b' three']\n",
      "[4, 4.44, b' four']\n",
      "[5, 5.55, b' five']\n",
      "[6, 6.66, b' six']\n",
      "[7, 7.77, b' seven']\n",
      "[8, 8.88, b' eight']\n",
      "[9, 9.99, b' nine']\n",
      "[1, 1.11, b' one']\n",
      "[2, 2.22, b' two']\n",
      "[3, 3.33, b' three']\n",
      "[4, 4.44, b' four']\n",
      "[5, 5.55, b' five']\n",
      "[6, 6.66, b' six']\n",
      "[7, 7.77, b' seven']\n",
      "[8, 8.88, b' eight']\n",
      "[9, 9.99, b' nine']\n",
      "[1, 1.11, b' one']\n",
      "[2, 2.22, b' two']\n",
      "[3, 3.33, b' three']\n"
     ]
    }
   ],
   "source": [
    "sess = tf.Session()\n",
    "coordi = tf.train.Coordinator()\n",
    "threads = tf.train.start_queue_runners(sess=sess, coord=coordi)\n",
    "\n",
    "for i in range(30):\n",
    "    print(sess.run([a1, a2, a3]))\n",
    "    \n",
    "coordi.request_stop()\n",
    "coordi.join(threads)\n",
    "sess.close()"
   ]
  },
  {
   "cell_type": "markdown",
   "id": "c4557df5",
   "metadata": {},
   "source": [
    "##### 3) 슬라이드 소스보기\n",
    "\n",
    "+ 커널이 계속 재시작됨"
   ]
  },
  {
   "cell_type": "code",
   "execution_count": 2,
   "id": "19370124",
   "metadata": {},
   "outputs": [
    {
     "name": "stdout",
     "output_type": "stream",
     "text": [
      "WARNING:tensorflow:From <ipython-input-2-38086f846340>:1: string_input_producer (from tensorflow.python.training.input) is deprecated and will be removed in a future version.\n",
      "Instructions for updating:\n",
      "Queue-based input pipelines have been replaced by `tf.data`. Use `tf.data.Dataset.from_tensor_slices(string_tensor).shuffle(tf.shape(input_tensor, out_type=tf.int64)[0]).repeat(num_epochs)`. If `shuffle=False`, omit the `.shuffle(...)`.\n",
      "WARNING:tensorflow:From C:\\Users\\acorn\\anaconda3\\envs\\tf1\\lib\\site-packages\\tensorflow_core\\python\\training\\input.py:277: input_producer (from tensorflow.python.training.input) is deprecated and will be removed in a future version.\n",
      "Instructions for updating:\n",
      "Queue-based input pipelines have been replaced by `tf.data`. Use `tf.data.Dataset.from_tensor_slices(input_tensor).shuffle(tf.shape(input_tensor, out_type=tf.int64)[0]).repeat(num_epochs)`. If `shuffle=False`, omit the `.shuffle(...)`.\n",
      "WARNING:tensorflow:From C:\\Users\\acorn\\anaconda3\\envs\\tf1\\lib\\site-packages\\tensorflow_core\\python\\training\\input.py:189: limit_epochs (from tensorflow.python.training.input) is deprecated and will be removed in a future version.\n",
      "Instructions for updating:\n",
      "Queue-based input pipelines have been replaced by `tf.data`. Use `tf.data.Dataset.from_tensors(tensor).repeat(num_epochs)`.\n",
      "WARNING:tensorflow:From C:\\Users\\acorn\\anaconda3\\envs\\tf1\\lib\\site-packages\\tensorflow_core\\python\\training\\input.py:198: QueueRunner.__init__ (from tensorflow.python.training.queue_runner_impl) is deprecated and will be removed in a future version.\n",
      "Instructions for updating:\n",
      "To construct input pipelines, use the `tf.data` module.\n",
      "WARNING:tensorflow:From C:\\Users\\acorn\\anaconda3\\envs\\tf1\\lib\\site-packages\\tensorflow_core\\python\\training\\input.py:198: add_queue_runner (from tensorflow.python.training.queue_runner_impl) is deprecated and will be removed in a future version.\n",
      "Instructions for updating:\n",
      "To construct input pipelines, use the `tf.data` module.\n",
      "WARNING:tensorflow:From <ipython-input-2-38086f846340>:3: TextLineReader.__init__ (from tensorflow.python.ops.io_ops) is deprecated and will be removed in a future version.\n",
      "Instructions for updating:\n",
      "Queue-based input pipelines have been replaced by `tf.data`. Use `tf.data.TextLineDataset`.\n"
     ]
    },
    {
     "data": {
      "text/plain": [
       "[<tf.Tensor 'DecodeCSV:0' shape=() dtype=float32>,\n",
       " <tf.Tensor 'DecodeCSV:1' shape=() dtype=float32>,\n",
       " <tf.Tensor 'DecodeCSV:2' shape=() dtype=float32>,\n",
       " <tf.Tensor 'DecodeCSV:3' shape=() dtype=float32>]"
      ]
     },
     "execution_count": 2,
     "metadata": {},
     "output_type": "execute_result"
    }
   ],
   "source": [
    "filename_queue = tf.train.string_input_producer(['data/data-01-test-score.csv'])\n",
    "\n",
    "reader = tf.TextLineReader()\n",
    "key, value = reader.read(filename_queue)\n",
    "\n",
    "xy = tf.decode_csv(value, record_defaults=[[0.], [0.], [0.], [0.]])\n",
    "xy"
   ]
  },
  {
   "cell_type": "code",
   "execution_count": 3,
   "id": "c1efb9d5",
   "metadata": {},
   "outputs": [
    {
     "data": {
      "text/plain": [
       "'\\nBATCH\\n-------\\n- Full Batch 또는 Batch : 전체 데이터\\n    - 샘플 전체를 계산하므로 시간이 많이 걸린다.\\n    - 데이터가 많을 경우(한번에 데이터를 메모리에 load하지 못하는 경우) 사용이 불가\\n    - 오차율이 적다.\\n    \\n- Stochastic Gradient Descent: 한 개의 데이터\\n    - 데이터를 한개씩 추출해서 처리해보고 이를 모든 데이터에 반복\\n    - 오차율이 클 수 있다.\\n    - 하드웨어 성능을 제대로 발휘할 수 없다.(특히 GPU)\\n\\n- Mini Batch\\n    - 전체 훈련데이터를 배치 사이즈로 등분하여 각 배치 셋을 순차적으로 수행\\n    - Full Batch보다 빠르고 SGD보다 오차율도 낮다.\\n    \\n- Epoch(또는 Iteration) : 배치의 수행 횟수\\n'"
      ]
     },
     "execution_count": 3,
     "metadata": {},
     "output_type": "execute_result"
    }
   ],
   "source": [
    "\"\"\"\n",
    "BATCH\n",
    "-------\n",
    "- Full Batch 또는 Batch : 전체 데이터\n",
    "    - 샘플 전체를 계산하므로 시간이 많이 걸린다.\n",
    "    - 데이터가 많을 경우(한번에 데이터를 메모리에 load하지 못하는 경우) 사용이 불가\n",
    "    - 오차율이 적다.\n",
    "    \n",
    "- Stochastic Gradient Descent: 한 개의 데이터\n",
    "    - 데이터를 한개씩 추출해서 처리해보고 이를 모든 데이터에 반복\n",
    "    - 오차율이 클 수 있다.\n",
    "    - 하드웨어 성능을 제대로 발휘할 수 없다.(특히 GPU)\n",
    "\n",
    "- Mini Batch\n",
    "    - 전체 훈련데이터를 배치 사이즈로 등분하여 각 배치 셋을 순차적으로 수행\n",
    "    - Full Batch보다 빠르고 SGD보다 오차율도 낮다.\n",
    "    \n",
    "- Epoch(또는 Iteration) : 배치의 수행 횟수\n",
    "\"\"\""
   ]
  },
  {
   "cell_type": "code",
   "execution_count": 4,
   "id": "76ee28c2",
   "metadata": {},
   "outputs": [
    {
     "name": "stdout",
     "output_type": "stream",
     "text": [
      "WARNING:tensorflow:From <ipython-input-4-0b0cfd580cd5>:1: batch (from tensorflow.python.training.input) is deprecated and will be removed in a future version.\n",
      "Instructions for updating:\n",
      "Queue-based input pipelines have been replaced by `tf.data`. Use `tf.data.Dataset.batch(batch_size)` (or `padded_batch(...)` if `dynamic_pad=True`).\n"
     ]
    }
   ],
   "source": [
    "train_x_batch, train_y_batch = tf.train.batch([xy[0:-1], xy[-1:]], batch_size=10)"
   ]
  },
  {
   "cell_type": "code",
   "execution_count": 5,
   "id": "11c4fbaa",
   "metadata": {},
   "outputs": [],
   "source": [
    "X = tf.placeholder(tf.float32, shape=[None, 3])\n",
    "y = tf.placeholder(tf.float32, shape=[None, 1])\n",
    "\n",
    "W = tf.Variable(tf.random_normal([3, 1]))\n",
    "b = tf.Variable(tf.random_normal([1]))\n",
    "\n",
    "hypot = tf.matmul(X, W) + b\n",
    "cost = tf.reduce_mean(tf.square(hypot-y))\n",
    "\n",
    "train = tf.train.GradientDescentOptimizer(learning_rate=1e-5).minimize(cost)"
   ]
  },
  {
   "cell_type": "code",
   "execution_count": null,
   "id": "796cc30c",
   "metadata": {},
   "outputs": [
    {
     "name": "stdout",
     "output_type": "stream",
     "text": [
      "WARNING:tensorflow:From <ipython-input-6-eab0007b25de>:7: start_queue_runners (from tensorflow.python.training.queue_runner_impl) is deprecated and will be removed in a future version.\n",
      "Instructions for updating:\n",
      "To construct input pipelines, use the `tf.data` module.\n"
     ]
    }
   ],
   "source": [
    "sess = tf.Session()\n",
    "sess.run(tf.global_variables_initializer())\n",
    "\n",
    "coordi = tf.train.Coordinator()\n",
    "threads = tf.train.start_queue_runners(sess=sess, coord=coordi)\n",
    "\n",
    "for step in range(2000):\n",
    "    x_batch, y_batch = sess.run([train_x_batch, train_y_batch])\n",
    "    _, c, h = sess.run([train, cost, hypot], feed_dict={X:x_batch, y:y_batch})\n",
    "        \n",
    "    if step%500 == 0:\n",
    "        print(step, c, h)\n",
    "        \n",
    "coordi.request_stop()\n",
    "coordi.join(threads)\n",
    "\n",
    "sess.run(hypot, feed_dict={X:[[100, 70, 101]]})"
   ]
  },
  {
   "cell_type": "markdown",
   "id": "f0c5402f",
   "metadata": {},
   "source": [
    "## 6. 로지스틱 회귀 모델"
   ]
  },
  {
   "cell_type": "code",
   "execution_count": 2,
   "id": "2ebdb22d",
   "metadata": {},
   "outputs": [],
   "source": [
    "X_data = [[1, 2], [2, 3], [3, 1], [4, 3], [5, 3], [6, 2]]\n",
    "y_data = [[0], [0], [0], [1], [1], [1]]"
   ]
  },
  {
   "cell_type": "code",
   "execution_count": 12,
   "id": "f6731a15",
   "metadata": {},
   "outputs": [],
   "source": [
    "X = tf.placeholder(tf.float32, shape=[None, 2])\n",
    "y = tf.placeholder(tf.float32, shape=[None, 1])\n",
    "\n",
    "W = tf.Variable(tf.random_normal([2, 1]))\n",
    "b = tf.Variable(tf.random_normal([1]))\n",
    "\n",
    "# 가설\n",
    "hypot = tf.sigmoid(tf.matmul(X, W) + b)\n",
    "\n",
    "# 비용\n",
    "cost = -tf.reduce_mean(y * tf.log(hypot) + (1 - y) * tf.log(1 - hypot))\n",
    "\n",
    "# 최소비용\n",
    "train = tf.train.GradientDescentOptimizer(learning_rate=0.01).minimize(cost)"
   ]
  },
  {
   "cell_type": "code",
   "execution_count": 19,
   "id": "7cdc3346",
   "metadata": {
    "collapsed": true
   },
   "outputs": [
    {
     "name": "stdout",
     "output_type": "stream",
     "text": [
      "0 [[0.5582257 ]\n",
      " [0.4134882 ]\n",
      " [0.5041346 ]\n",
      " [0.2924463 ]\n",
      " [0.24039465]\n",
      " [0.24956048]]\n",
      "100 [[0.6100351 ]\n",
      " [0.5548015 ]\n",
      " [0.742378  ]\n",
      " [0.616751  ]\n",
      " [0.6464854 ]\n",
      " [0.74775714]]\n",
      "200 [[0.53894544]\n",
      " [0.47981304]\n",
      " [0.7595339 ]\n",
      " [0.60443205]\n",
      " [0.6629227 ]\n",
      " [0.8050238 ]]\n",
      "300 [[0.4804067 ]\n",
      " [0.42198294]\n",
      " [0.77082735]\n",
      " [0.59599686]\n",
      " [0.6771136 ]\n",
      " [0.842933  ]]\n",
      "400 [[0.43325308]\n",
      " [0.37856176]\n",
      " [0.77847314]\n",
      " [0.59143156]\n",
      " [0.6905429 ]\n",
      " [0.86935496]]\n",
      "500 [[0.39504772]\n",
      " [0.34561184]\n",
      " [0.7832766 ]\n",
      " [0.5892323 ]\n",
      " [0.7027403 ]\n",
      " [0.88813186]]\n",
      "600 [[0.36373785]\n",
      " [0.32022882]\n",
      " [0.78586197]\n",
      " [0.58851004]\n",
      " [0.7136288 ]\n",
      " [0.9017788 ]]\n",
      "700 [[0.33774143]\n",
      " [0.30037817]\n",
      " [0.7867014 ]\n",
      " [0.5887439 ]\n",
      " [0.7233043 ]\n",
      " [0.91192   ]]\n",
      "800 [[0.31587067]\n",
      " [0.28464034]\n",
      " [0.78614795]\n",
      " [0.5896199 ]\n",
      " [0.731917  ]\n",
      " [0.9196106 ]]\n",
      "900 [[0.29723713]\n",
      " [0.27201405]\n",
      " [0.78446794]\n",
      " [0.5909442 ]\n",
      " [0.7396247 ]\n",
      " [0.9255496 ]]\n",
      "1000 [[0.28117216]\n",
      " [0.26178065]\n",
      " [0.78186387]\n",
      " [0.5925918 ]\n",
      " [0.74657017]\n",
      " [0.9302091 ]]\n",
      "1100 [[0.2671683 ]\n",
      " [0.25341514]\n",
      " [0.77849317]\n",
      " [0.59448093]\n",
      " [0.75287807]\n",
      " [0.9339163 ]]\n",
      "1200 [[0.25483546]\n",
      " [0.24652654]\n",
      " [0.77447987]\n",
      " [0.5965548 ]\n",
      " [0.7586528 ]\n",
      " [0.9369026 ]]\n",
      "1300 [[0.2438707 ]\n",
      " [0.24081856]\n",
      " [0.76992345]\n",
      " [0.59877336]\n",
      " [0.7639815 ]\n",
      " [0.9393353 ]]\n",
      "1400 [[0.23403646]\n",
      " [0.23606345]\n",
      " [0.76490545]\n",
      " [0.601107  ]\n",
      " [0.7689358 ]\n",
      " [0.9413375 ]]\n",
      "1500 [[0.22514415]\n",
      " [0.23208314]\n",
      " [0.7594937 ]\n",
      " [0.60353327]\n",
      " [0.77357465]\n",
      " [0.943002  ]]\n",
      "1600 [[0.21704297]\n",
      " [0.22873685]\n",
      " [0.75374544]\n",
      " [0.60603446]\n",
      " [0.7779465 ]\n",
      " [0.9443989 ]]\n",
      "1700 [[0.20961136]\n",
      " [0.225912  ]\n",
      " [0.74770975]\n",
      " [0.6085964 ]\n",
      " [0.78209114]\n",
      " [0.94558275]]\n",
      "1800 [[0.20275044]\n",
      " [0.22351769]\n",
      " [0.74142903]\n",
      " [0.61120737]\n",
      " [0.78604144]\n",
      " [0.9465962 ]]\n",
      "1900 [[0.19637924]\n",
      " [0.22147948]\n",
      " [0.73494047]\n",
      " [0.613857  ]\n",
      " [0.7898239 ]\n",
      " [0.94747293]]\n",
      "2000 [[0.19043131]\n",
      " [0.21973655]\n",
      " [0.72827715]\n",
      " [0.61653703]\n",
      " [0.79346085]\n",
      " [0.9482397 ]]\n",
      "2100 [[0.18485135]\n",
      " [0.21823823]\n",
      " [0.72146815]\n",
      " [0.6192401 ]\n",
      " [0.7969707 ]\n",
      " [0.94891846]]\n",
      "2200 [[0.17959368]\n",
      " [0.21694273]\n",
      " [0.7145397 ]\n",
      " [0.62195945]\n",
      " [0.8003681 ]\n",
      " [0.94952637]]\n",
      "2300 [[0.17462006]\n",
      " [0.21581511]\n",
      " [0.7075151 ]\n",
      " [0.6246895 ]\n",
      " [0.8036654 ]\n",
      " [0.9500779 ]]\n",
      "2400 [[0.16989829]\n",
      " [0.21482578]\n",
      " [0.7004157 ]\n",
      " [0.6274251 ]\n",
      " [0.80687296]\n",
      " [0.95058453]]\n",
      "2500 [[0.16540125]\n",
      " [0.21395   ]\n",
      " [0.6932603 ]\n",
      " [0.6301615 ]\n",
      " [0.80999905]\n",
      " [0.9510558 ]]\n",
      "2600 [[0.16110617]\n",
      " [0.21316706]\n",
      " [0.68606615]\n",
      " [0.63289475]\n",
      " [0.8130502 ]\n",
      " [0.9514996 ]]\n",
      "2700 [[0.15699351]\n",
      " [0.21245915]\n",
      " [0.6788488 ]\n",
      " [0.6356212 ]\n",
      " [0.8160325 ]\n",
      " [0.95192236]]\n",
      "2800 [[0.15304683]\n",
      " [0.21181159]\n",
      " [0.6716219 ]\n",
      " [0.63833743]\n",
      " [0.8189505 ]\n",
      " [0.952329  ]]\n",
      "2900 [[0.14925192]\n",
      " [0.21121176]\n",
      " [0.6643984 ]\n",
      " [0.64104074]\n",
      " [0.82180786]\n",
      " [0.952724  ]]\n",
      "3000 [[0.14559668]\n",
      " [0.21064913]\n",
      " [0.65718937]\n",
      " [0.6437286 ]\n",
      " [0.8246081 ]\n",
      " [0.95311075]]\n",
      "3100 [[0.14207071]\n",
      " [0.21011488]\n",
      " [0.65000486]\n",
      " [0.6463989 ]\n",
      " [0.8273537 ]\n",
      " [0.95349187]]\n",
      "3200 [[0.13866489]\n",
      " [0.20960134]\n",
      " [0.6428541 ]\n",
      " [0.6490494 ]\n",
      " [0.830047  ]\n",
      " [0.9538698 ]]\n",
      "3300 [[0.13537137]\n",
      " [0.20910232]\n",
      " [0.6357451 ]\n",
      " [0.65167844]\n",
      " [0.83268964]\n",
      " [0.9542463 ]]\n",
      "3400 [[0.13218325]\n",
      " [0.20861253]\n",
      " [0.6286849 ]\n",
      " [0.65428454]\n",
      " [0.8352833 ]\n",
      " [0.9546223 ]]\n",
      "3500 [[0.12909456]\n",
      " [0.20812766]\n",
      " [0.6216802 ]\n",
      " [0.6568664 ]\n",
      " [0.83782935]\n",
      " [0.95499945]]\n",
      "3600 [[0.1260999 ]\n",
      " [0.20764408]\n",
      " [0.614736  ]\n",
      " [0.65942276]\n",
      " [0.8403289 ]\n",
      " [0.95537794]]\n",
      "3700 [[0.12319455]\n",
      " [0.20715874]\n",
      " [0.60785747]\n",
      " [0.66195256]\n",
      " [0.8427827 ]\n",
      " [0.95575845]]\n",
      "3800 [[0.12037447]\n",
      " [0.20666966]\n",
      " [0.60104936]\n",
      " [0.6644558 ]\n",
      " [0.8451924 ]\n",
      " [0.9561417 ]]\n",
      "3900 [[0.11763572]\n",
      " [0.20617476]\n",
      " [0.59431535]\n",
      " [0.6669318 ]\n",
      " [0.8475586 ]\n",
      " [0.95652777]]\n",
      "4000 [[0.11497466]\n",
      " [0.20567186]\n",
      " [0.58765715]\n",
      " [0.66937816]\n",
      " [0.84988093]\n",
      " [0.9569161 ]]\n",
      "4100 [[0.11238846]\n",
      " [0.20516059]\n",
      " [0.58107895]\n",
      " [0.67179644]\n",
      " [0.8521616 ]\n",
      " [0.9573074 ]]\n",
      "4200 [[0.10987416]\n",
      " [0.20463987]\n",
      " [0.5745828 ]\n",
      " [0.67418605]\n",
      " [0.85440063]\n",
      " [0.9577014 ]]\n",
      "4300 [[0.10742911]\n",
      " [0.20410894]\n",
      " [0.5681703 ]\n",
      " [0.67654645]\n",
      " [0.85659873]\n",
      " [0.9580978 ]]\n",
      "4400 [[0.10505083]\n",
      " [0.2035675 ]\n",
      " [0.56184316]\n",
      " [0.6788777 ]\n",
      " [0.85875666]\n",
      " [0.9584965 ]]\n",
      "4500 [[0.10273717]\n",
      " [0.20301534]\n",
      " [0.55560267]\n",
      " [0.68117994]\n",
      " [0.860875  ]\n",
      " [0.9588973 ]]\n",
      "4600 [[0.1004859 ]\n",
      " [0.20245235]\n",
      " [0.5494496 ]\n",
      " [0.683453  ]\n",
      " [0.8629544 ]\n",
      " [0.95929986]]\n",
      "4700 [[0.09829501]\n",
      " [0.20187837]\n",
      " [0.543384  ]\n",
      " [0.6856963 ]\n",
      " [0.8649948 ]\n",
      " [0.9597036 ]]\n",
      "4800 [[0.09616257]\n",
      " [0.20129341]\n",
      " [0.5374064 ]\n",
      " [0.68790996]\n",
      " [0.866997  ]\n",
      " [0.9601084 ]]\n",
      "4900 [[0.0940868 ]\n",
      " [0.20069796]\n",
      " [0.5315174 ]\n",
      " [0.6900948 ]\n",
      " [0.86896217]\n",
      " [0.9605141 ]]\n",
      "5000 [[0.092066  ]\n",
      " [0.20009229]\n",
      " [0.525717  ]\n",
      " [0.69225115]\n",
      " [0.8708906 ]\n",
      " [0.9609204 ]]\n",
      "5100 [[0.09009854]\n",
      " [0.19947673]\n",
      " [0.5200051 ]\n",
      " [0.694379  ]\n",
      " [0.872783  ]\n",
      " [0.96132684]]\n",
      "5200 [[0.08818286]\n",
      " [0.19885172]\n",
      " [0.51438135]\n",
      " [0.6964788 ]\n",
      " [0.87464   ]\n",
      " [0.96173316]]\n",
      "5300 [[0.08631733]\n",
      " [0.19821729]\n",
      " [0.50884455]\n",
      " [0.6985499 ]\n",
      " [0.8764615 ]\n",
      " [0.962139  ]]\n",
      "5400 [[0.08450057]\n",
      " [0.19757408]\n",
      " [0.5033943 ]\n",
      " [0.70059305]\n",
      " [0.8782486 ]\n",
      " [0.96254396]]\n",
      "5500 [[0.08273131]\n",
      " [0.19692294]\n",
      " [0.49803105]\n",
      " [0.7026096 ]\n",
      " [0.8800024 ]\n",
      " [0.96294826]]\n",
      "5600 [[0.08100799]\n",
      " [0.19626394]\n",
      " [0.49275315]\n",
      " [0.704599  ]\n",
      " [0.8817229 ]\n",
      " [0.9633511 ]]\n",
      "5700 [[0.07932933]\n",
      " [0.19559735]\n",
      " [0.48755902]\n",
      " [0.70656097]\n",
      " [0.8834105 ]\n",
      " [0.9637524 ]]\n",
      "5800 [[0.07769418]\n",
      " [0.19492427]\n",
      " [0.4824495 ]\n",
      " [0.70849776]\n",
      " [0.88506675]\n",
      " [0.96415216]]\n",
      "5900 [[0.07610114]\n",
      " [0.19424453]\n",
      " [0.47742176]\n",
      " [0.7104078 ]\n",
      " [0.88669115]\n",
      " [0.9645497 ]]\n",
      "6000 [[0.0745491 ]\n",
      " [0.19355884]\n",
      " [0.4724757 ]\n",
      " [0.7122923 ]\n",
      " [0.8882848 ]\n",
      " [0.96494514]]\n",
      "6100 [[0.07303694]\n",
      " [0.19286801]\n",
      " [0.46761078]\n",
      " [0.71415216]\n",
      " [0.8898486 ]\n",
      " [0.96533835]]\n",
      "6200 [[0.07156349]\n",
      " [0.19217202]\n",
      " [0.46282476]\n",
      " [0.7159869 ]\n",
      " [0.89138246]\n",
      " [0.965729  ]]\n",
      "6300 [[0.07012761]\n",
      " [0.19147137]\n",
      " [0.4581167 ]\n",
      " [0.71779704]\n",
      " [0.89288735]\n",
      " [0.9661167 ]]\n",
      "6400 [[0.06872825]\n",
      " [0.19076653]\n",
      " [0.45348567]\n",
      " [0.7195832 ]\n",
      " [0.89436376]\n",
      " [0.9665018 ]]\n",
      "6500 [[0.06736445]\n",
      " [0.19005816]\n",
      " [0.4489308 ]\n",
      " [0.7213459 ]\n",
      " [0.89581233]\n",
      " [0.9668838 ]]\n",
      "6600 [[0.06603514]\n",
      " [0.18934636]\n",
      " [0.44445047]\n",
      " [0.7230854 ]\n",
      " [0.89723366]\n",
      " [0.96726257]]\n",
      "6700 [[0.06473937]\n",
      " [0.18863165]\n",
      " [0.44004345]\n",
      " [0.7248019 ]\n",
      " [0.8986282 ]\n",
      " [0.96763813]]\n",
      "6800 [[0.06347617]\n",
      " [0.1879144 ]\n",
      " [0.43570873]\n",
      " [0.7264961 ]\n",
      " [0.89999646]\n",
      " [0.9680104 ]]\n",
      "6900 [[0.06224464]\n",
      " [0.18719508]\n",
      " [0.43144512]\n",
      " [0.7281685 ]\n",
      " [0.9013393 ]\n",
      " [0.9683792 ]]\n",
      "7000 [[0.06104389]\n",
      " [0.18647379]\n",
      " [0.42725107]\n",
      " [0.729819  ]\n",
      " [0.9026569 ]\n",
      " [0.96874446]]\n",
      "7100 [[0.059873  ]\n",
      " [0.18575087]\n",
      " [0.4231252 ]\n",
      " [0.73144794]\n",
      " [0.9039497 ]\n",
      " [0.969106  ]]\n",
      "7200 [[0.05873115]\n",
      " [0.18502676]\n",
      " [0.41906664]\n",
      " [0.7330559 ]\n",
      " [0.9052185 ]\n",
      " [0.969464  ]]\n",
      "7300 [[0.05761756]\n",
      " [0.18430188]\n",
      " [0.41507435]\n",
      " [0.73464364]\n",
      " [0.9064638 ]\n",
      " [0.9698182 ]]\n",
      "7400 [[0.0565314 ]\n",
      " [0.18357643]\n",
      " [0.41114718]\n",
      " [0.73621136]\n",
      " [0.9076862 ]\n",
      " [0.97016865]]\n",
      "7500 [[0.05547184]\n",
      " [0.18285038]\n",
      " [0.40728286]\n",
      " [0.7377585 ]\n",
      " [0.9088856 ]\n",
      " [0.97051513]]\n",
      "7600 [[0.05443826]\n",
      " [0.18212454]\n",
      " [0.4034815 ]\n",
      " [0.7392867 ]\n",
      " [0.91006315]\n",
      " [0.97085786]]\n",
      "7700 [[0.05342986]\n",
      " [0.18139899]\n",
      " [0.39974177]\n",
      " [0.740796  ]\n",
      " [0.91121924]\n",
      " [0.9711969 ]]\n",
      "7800 [[0.05244584]\n",
      " [0.1806734 ]\n",
      " [0.39606133]\n",
      " [0.74228567]\n",
      " [0.9123537 ]\n",
      " [0.9715317 ]]\n",
      "7900 [[0.05148569]\n",
      " [0.17994891]\n",
      " [0.39244053]\n",
      " [0.7437576 ]\n",
      " [0.91346794]\n",
      " [0.97186273]]\n",
      "8000 [[0.05054859]\n",
      " [0.17922504]\n",
      " [0.38887724]\n",
      " [0.74521106]\n",
      " [0.9145618 ]\n",
      " [0.97218984]]\n",
      "8100 [[0.04963394]\n",
      " [0.1785022 ]\n",
      " [0.38537058]\n",
      " [0.74664664]\n",
      " [0.91563565]\n",
      " [0.97251284]]\n",
      "8200 [[0.04874117]\n",
      " [0.17778082]\n",
      " [0.38192025]\n",
      " [0.74806523]\n",
      " [0.91669047]\n",
      " [0.97283214]]\n",
      "8300 [[0.04786954]\n",
      " [0.17706053]\n",
      " [0.37852338]\n",
      " [0.7494658 ]\n",
      " [0.9177259 ]\n",
      " [0.9731472 ]]\n",
      "8400 [[0.04701859]\n",
      " [0.1763421 ]\n",
      " [0.37518072]\n",
      " [0.75085   ]\n",
      " [0.91874313]\n",
      " [0.9734586 ]]\n",
      "8500 [[0.0461877 ]\n",
      " [0.17562538]\n",
      " [0.3718904 ]\n",
      " [0.75221753]\n",
      " [0.919742  ]\n",
      " [0.97376597]]\n",
      "8600 [[0.04537628]\n",
      " [0.17491056]\n",
      " [0.36865127]\n",
      " [0.7535687 ]\n",
      " [0.9207232 ]\n",
      " [0.9740693 ]]\n",
      "8700 [[0.04458382]\n",
      " [0.17419787]\n",
      " [0.365463  ]\n",
      " [0.75490427]\n",
      " [0.9216872 ]\n",
      " [0.97436905]]\n",
      "8800 [[0.04380978]\n",
      " [0.17348725]\n",
      " [0.36232382]\n",
      " [0.7562237 ]\n",
      " [0.92263395]\n",
      " [0.9746646 ]]\n",
      "8900 [[0.04305367]\n",
      " [0.17277913]\n",
      " [0.35923332]\n",
      " [0.75752807]\n",
      " [0.9235643 ]\n",
      " [0.9749566 ]]\n",
      "9000 [[0.04231495]\n",
      " [0.17207313]\n",
      " [0.35618976]\n",
      " [0.7588165 ]\n",
      " [0.924478  ]\n",
      " [0.9752446 ]]\n",
      "9100 [[0.04159321]\n",
      " [0.17136997]\n",
      " [0.3531933 ]\n",
      " [0.7600909 ]\n",
      " [0.9253762 ]\n",
      " [0.9755288 ]]\n",
      "9200 [[0.04088793]\n",
      " [0.17066932]\n",
      " [0.35024232]\n",
      " [0.76135015]\n",
      " [0.9262587 ]\n",
      " [0.97580916]]\n"
     ]
    },
    {
     "name": "stdout",
     "output_type": "stream",
     "text": [
      "9300 [[0.04019864]\n",
      " [0.16997138]\n",
      " [0.3473357 ]\n",
      " [0.762595  ]\n",
      " [0.92712575]\n",
      " [0.9760859 ]]\n",
      "9400 [[0.03952504]\n",
      " [0.16927657]\n",
      " [0.3444738 ]\n",
      " [0.7638263 ]\n",
      " [0.9279783 ]\n",
      " [0.976359  ]]\n",
      "9500 [[0.03886652]\n",
      " [0.16858432]\n",
      " [0.34165412]\n",
      " [0.76504296]\n",
      " [0.9288159 ]\n",
      " [0.9766283 ]]\n",
      "9600 [[0.03822283]\n",
      " [0.1678954 ]\n",
      " [0.33887735]\n",
      " [0.7662466 ]\n",
      " [0.92963946]\n",
      " [0.97689396]]\n",
      "9700 [[0.03759347]\n",
      " [0.16720937]\n",
      " [0.3361414 ]\n",
      " [0.7674364 ]\n",
      " [0.9304489 ]\n",
      " [0.97715604]]\n",
      "9800 [[0.03697807]\n",
      " [0.16652657]\n",
      " [0.3334461 ]\n",
      " [0.7686131 ]\n",
      " [0.93124473]\n",
      " [0.9774146 ]]\n",
      "9900 [[0.03637628]\n",
      " [0.16584703]\n",
      " [0.33079076]\n",
      " [0.7697772 ]\n",
      " [0.9320273 ]\n",
      " [0.97766966]]\n"
     ]
    }
   ],
   "source": [
    "sess = tf.Session()\n",
    "sess.run(tf.global_variables_initializer())\n",
    "\n",
    "for step in range(10000):\n",
    "    _, h= sess.run([train, hypot], feed_dict={X:X_data, y:y_data})\n",
    "    \n",
    "    if step % 100 == 0:\n",
    "        print(step, h)"
   ]
  },
  {
   "cell_type": "code",
   "execution_count": 24,
   "id": "d4c90b5c",
   "metadata": {},
   "outputs": [
    {
     "name": "stdout",
     "output_type": "stream",
     "text": [
      "[[0.0357877 ]\n",
      " [0.16517057]\n",
      " [0.32817388]\n",
      " [0.77092785]\n",
      " [0.9327965 ]\n",
      " [0.9779212 ]]\n",
      "[[0.]\n",
      " [0.]\n",
      " [0.]\n",
      " [1.]\n",
      " [1.]\n",
      " [1.]]\n",
      "1.0\n"
     ]
    }
   ],
   "source": [
    "preds = tf.cast(hypot > 0.5, dtype=tf.float32)\n",
    "sess.run(preds, feed_dict={X:X_data, y:y_data})\n",
    "accuracy = tf.reduce_mean(tf.cast(tf.equal(preds, y), dtype=tf.float32))\n",
    "\n",
    "h, p, a = sess.run([hypot, preds, accuracy], feed_dict={X:X_data, y:y_data})\n",
    "print(h)\n",
    "print(p)\n",
    "print(a)"
   ]
  },
  {
   "cell_type": "markdown",
   "id": "79ba2d28",
   "metadata": {},
   "source": [
    "#### (1) Softmax"
   ]
  },
  {
   "cell_type": "code",
   "execution_count": 25,
   "id": "7e4dd3fc",
   "metadata": {},
   "outputs": [],
   "source": [
    "X_data = [[1, 2, 1, 1], [2, 1, 3, 2], [3, 1, 3, 4], [4, 1, 5, 5], [1, 7, 5, 5], \n",
    "                                                        [1, 2, 5, 6], [1, 6, 6, 6], [1, 7, 7, 7]]\n",
    "y_data = [[0, 0, 1], [0, 0, 1], [0, 0, 1], [0, 1, 0], [0, 1, 0], [0, 1, 0], [1, 0, 0], [1, 0, 0]]"
   ]
  },
  {
   "cell_type": "code",
   "execution_count": 27,
   "id": "ba55912b",
   "metadata": {},
   "outputs": [],
   "source": [
    "X = tf.placeholder(tf.float32, shape=[None, 4])\n",
    "y = tf.placeholder(tf.float32, shape=[None, 3])\n",
    "\n",
    "W = tf.Variable(tf.random_normal([4, 3]))\n",
    "b = tf.Variable(tf.random_normal([3]))\n",
    "\n",
    "# 가설\n",
    "hypot = tf.nn.softmax(tf.matmul(X, W) + b)\n",
    "\n",
    "# 비용\n",
    "cost = tf.reduce_mean(-tf.reduce_sum(y*tf.log(hypot), axis=1))\n",
    "\n",
    "# 최소비용\n",
    "train = tf.train.GradientDescentOptimizer(learning_rate=0.01).minimize(cost)"
   ]
  },
  {
   "cell_type": "code",
   "execution_count": 31,
   "id": "c36d70c4",
   "metadata": {
    "collapsed": true
   },
   "outputs": [
    {
     "name": "stdout",
     "output_type": "stream",
     "text": [
      "0 6.668322\n",
      "100 1.6710966\n",
      "200 1.0050349\n",
      "300 0.87072027\n",
      "400 0.8030908\n",
      "500 0.7542876\n",
      "600 0.7160576\n",
      "700 0.685074\n",
      "800 0.6593447\n",
      "900 0.63752806\n",
      "1000 0.618693\n",
      "1100 0.6021799\n",
      "1200 0.58751464\n",
      "1300 0.5743493\n",
      "1400 0.56242204\n",
      "1500 0.55153227\n",
      "1600 0.5415227\n",
      "1700 0.5322666\n",
      "1800 0.52366304\n",
      "1900 0.5156269\n",
      "2000 0.50808877\n",
      "2100 0.50098926\n",
      "2200 0.49427944\n",
      "2300 0.4879159\n",
      "2400 0.48186266\n",
      "2500 0.47608793\n",
      "2600 0.47056472\n",
      "2700 0.4652688\n",
      "2800 0.46017972\n",
      "2900 0.45527935\n"
     ]
    }
   ],
   "source": [
    "sess = tf.Session()\n",
    "sess.run(tf.global_variables_initializer())\n",
    "\n",
    "for step in range(3000):\n",
    "    _, c = sess.run([train, cost], feed_dict={X:X_data, y:y_data})\n",
    "    \n",
    "    if step%100 == 0:\n",
    "        print(step, c)"
   ]
  },
  {
   "cell_type": "code",
   "execution_count": 35,
   "id": "6b399b2a",
   "metadata": {},
   "outputs": [
    {
     "data": {
      "text/plain": [
       "array([2, 2, 2, 1, 0, 1, 0, 0], dtype=int64)"
      ]
     },
     "execution_count": 35,
     "metadata": {},
     "output_type": "execute_result"
    }
   ],
   "source": [
    "preds = tf.argmax(hypot, 1)\n",
    "sess.run(preds, feed_dict={X:X_data, y:y_data})"
   ]
  },
  {
   "cell_type": "code",
   "execution_count": 37,
   "id": "41a540fb",
   "metadata": {},
   "outputs": [
    {
     "data": {
      "text/plain": [
       "array([ True,  True,  True,  True, False,  True,  True,  True])"
      ]
     },
     "execution_count": 37,
     "metadata": {},
     "output_type": "execute_result"
    }
   ],
   "source": [
    "correct = tf.equal(preds, tf.argmax(y, 1))\n",
    "sess.run(correct, feed_dict={X:X_data, y:y_data})"
   ]
  },
  {
   "cell_type": "code",
   "execution_count": 40,
   "id": "099e4fae",
   "metadata": {},
   "outputs": [
    {
     "data": {
      "text/plain": [
       "0.875"
      ]
     },
     "execution_count": 40,
     "metadata": {},
     "output_type": "execute_result"
    }
   ],
   "source": [
    "accuracy = tf.reduce_mean(tf.cast(correct, dtype=tf.float32))\n",
    "sess.run(accuracy, feed_dict={X:X_data, y:y_data})"
   ]
  },
  {
   "cell_type": "code",
   "execution_count": 44,
   "id": "18b3143e",
   "metadata": {},
   "outputs": [
    {
     "name": "stdout",
     "output_type": "stream",
     "text": [
      "[[9.4789177e-01 5.1933322e-02 1.7495222e-04]]\n",
      "[0]\n"
     ]
    }
   ],
   "source": [
    "##### 테스트 : [1, 11, 7, 9]\n",
    "\n",
    "result = sess.run(hypot, feed_dict={X:[[1, 11, 7, 9]]})\n",
    "print(result)\n",
    "\n",
    "print(sess.run(tf.argmax(result, 1)))"
   ]
  },
  {
   "cell_type": "markdown",
   "id": "2aeeab58",
   "metadata": {},
   "source": [
    "#### (2) softmax_cross_entropy_with_logits() "
   ]
  },
  {
   "cell_type": "code",
   "execution_count": 47,
   "id": "be368116",
   "metadata": {},
   "outputs": [
    {
     "name": "stdout",
     "output_type": "stream",
     "text": [
      "[[8.5100368e-02 9.1489339e-01 6.2558524e-06]]\n",
      "[1]\n"
     ]
    }
   ],
   "source": [
    "X = tf.placeholder(tf.float32, shape=[None, 4])\n",
    "y = tf.placeholder(tf.float32, shape=[None, 3])\n",
    "\n",
    "W = tf.Variable(tf.random_normal([4, 3]))\n",
    "b = tf.Variable(tf.random_normal([3]))\n",
    "\n",
    "# 가설과 비용\n",
    "logit = tf.matmul(X, W) + b\n",
    "hypot = tf.nn.softmax(logit)\n",
    "cost = tf.nn.softmax_cross_entropy_with_logits_v2(logits=logit, labels=y_data)\n",
    "\n",
    "# 최소비용\n",
    "train = tf.train.GradientDescentOptimizer(learning_rate=0.01).minimize(cost)\n",
    "\n",
    "# 그래프 실행\n",
    "sess = tf.Session()\n",
    "sess.run(tf.global_variables_initializer())\n",
    "\n",
    "for step in range(3000):\n",
    "    _, c = sess.run([train, cost], feed_dict={X:X_data, y:y_data})\n",
    "        \n",
    "# 테스트\n",
    "result = sess.run(hypot, feed_dict={X:[[1, 11, 7, 9]]})\n",
    "print(result)\n",
    "\n",
    "print(sess.run(tf.argmax(result, 1)))"
   ]
  },
  {
   "cell_type": "markdown",
   "id": "05f57dcb",
   "metadata": {},
   "source": [
    "#### (3) 사례1 : 동물 분류"
   ]
  },
  {
   "cell_type": "code",
   "execution_count": 50,
   "id": "14b025ee",
   "metadata": {},
   "outputs": [
    {
     "name": "stdout",
     "output_type": "stream",
     "text": [
      "(101, 17)\n",
      "(101, 16) (101, 1)\n"
     ]
    }
   ],
   "source": [
    "xy = np.loadtxt(\"data/data-04-zoo.csv\", dtype=np.float32, delimiter=\",\")\n",
    "print(xy.shape)\n",
    "\n",
    "X_data = xy[:, 0 : -1]\n",
    "y_data = xy[:, [-1]]\n",
    "\n",
    "print(X_data.shape, y_data.shape)"
   ]
  },
  {
   "cell_type": "code",
   "execution_count": 54,
   "id": "f7636b45",
   "metadata": {},
   "outputs": [],
   "source": [
    "X = tf.placeholder(tf.float32, shape=[None, 16])\n",
    "y = tf.placeholder(tf.int32, shape=[None, 1])\n",
    "\n",
    "W = tf.Variable(tf.random_normal([16, 7]))\n",
    "b = tf.Variable(tf.random_normal([7]))\n",
    "\n",
    "##### Label을 Onehot encoding으로 처리\n",
    "y_one_hot = tf.one_hot(y, 7)\n",
    "#sess = tf.Session()\n",
    "#print(sess.run(y_one_hot, feed_dict={y:y_data}))\n",
    "y_one_hot = tf.reshape(y_one_hot, [-1, 7])\n",
    "\n",
    "##### 가설과 비용\n",
    "logit = tf.matmul(X, W) + b\n",
    "hypot = tf.nn.softmax(logit)\n",
    "cost = tf.nn.softmax_cross_entropy_with_logits_v2(logits=logit, labels=y_one_hot)\n",
    "\n",
    "##### 최소 비용\n",
    "train = tf.train.GradientDescentOptimizer(learning_rate=0.01).minimize(cost)"
   ]
  },
  {
   "cell_type": "code",
   "execution_count": 57,
   "id": "24b86df9",
   "metadata": {
    "collapsed": true
   },
   "outputs": [
    {
     "name": "stdout",
     "output_type": "stream",
     "text": [
      "0 4.318383\n",
      "10 0.5863058\n",
      "20 0.383935\n",
      "30 0.28276885\n",
      "40 0.22393472\n",
      "50 0.18508594\n",
      "60 0.1577622\n",
      "70 0.13755041\n",
      "80 0.12198649\n",
      "90 0.1096151\n",
      "100 0.09953153\n",
      "110 0.09114672\n",
      "120 0.084060885\n",
      "130 0.077992804\n",
      "140 0.07273827\n",
      "150 0.06814502\n",
      "160 0.06409685\n",
      "170 0.060503423\n",
      "180 0.05729331\n",
      "190 0.054409157\n"
     ]
    }
   ],
   "source": [
    "sess = tf.Session()\n",
    "sess.run(tf.global_variables_initializer())\n",
    "\n",
    "for step in range(200):\n",
    "    _, c = sess.run([train, tf.reduce_mean(cost)], feed_dict={X:X_data, y:y_data})\n",
    "    \n",
    "    if step%10 == 0:\n",
    "        print(step, c)"
   ]
  },
  {
   "cell_type": "code",
   "execution_count": 58,
   "id": "47391b04",
   "metadata": {},
   "outputs": [
    {
     "data": {
      "text/plain": [
       "1.0"
      ]
     },
     "execution_count": 58,
     "metadata": {},
     "output_type": "execute_result"
    }
   ],
   "source": [
    "preds = tf.argmax(hypot, 1)\n",
    "correct = tf.equal(preds, tf.argmax(y_one_hot, 1))\n",
    "accuracy = tf.reduce_mean(tf.cast(correct, dtype=tf.float32))\n",
    "\n",
    "sess.run(accuracy, feed_dict={X:X_data, y:y_data})"
   ]
  },
  {
   "cell_type": "markdown",
   "id": "e567ce83",
   "metadata": {},
   "source": [
    "#### (4) 사례2 : MNIST 이미지 데이터셋"
   ]
  },
  {
   "cell_type": "code",
   "execution_count": 2,
   "id": "e781b75d",
   "metadata": {},
   "outputs": [],
   "source": [
    "from tensorflow.examples.tutorials.mnist import input_data"
   ]
  },
  {
   "cell_type": "code",
   "execution_count": 3,
   "id": "b659549f",
   "metadata": {
    "collapsed": true
   },
   "outputs": [
    {
     "name": "stdout",
     "output_type": "stream",
     "text": [
      "WARNING:tensorflow:From <ipython-input-3-a307ee916bfa>:1: read_data_sets (from tensorflow.contrib.learn.python.learn.datasets.mnist) is deprecated and will be removed in a future version.\n",
      "Instructions for updating:\n",
      "Please use alternatives such as official/mnist/dataset.py from tensorflow/models.\n",
      "WARNING:tensorflow:From C:\\Users\\acorn\\anaconda3\\envs\\tf1\\lib\\site-packages\\tensorflow_core\\contrib\\learn\\python\\learn\\datasets\\mnist.py:260: maybe_download (from tensorflow.contrib.learn.python.learn.datasets.base) is deprecated and will be removed in a future version.\n",
      "Instructions for updating:\n",
      "Please write your own downloading logic.\n",
      "WARNING:tensorflow:From C:\\Users\\acorn\\anaconda3\\envs\\tf1\\lib\\site-packages\\tensorflow_core\\contrib\\learn\\python\\learn\\datasets\\mnist.py:262: extract_images (from tensorflow.contrib.learn.python.learn.datasets.mnist) is deprecated and will be removed in a future version.\n",
      "Instructions for updating:\n",
      "Please use tf.data to implement this functionality.\n",
      "Extracting data/MNIST_data/train-images-idx3-ubyte.gz\n",
      "WARNING:tensorflow:From C:\\Users\\acorn\\anaconda3\\envs\\tf1\\lib\\site-packages\\tensorflow_core\\contrib\\learn\\python\\learn\\datasets\\mnist.py:267: extract_labels (from tensorflow.contrib.learn.python.learn.datasets.mnist) is deprecated and will be removed in a future version.\n",
      "Instructions for updating:\n",
      "Please use tf.data to implement this functionality.\n",
      "Extracting data/MNIST_data/train-labels-idx1-ubyte.gz\n",
      "WARNING:tensorflow:From C:\\Users\\acorn\\anaconda3\\envs\\tf1\\lib\\site-packages\\tensorflow_core\\contrib\\learn\\python\\learn\\datasets\\mnist.py:110: dense_to_one_hot (from tensorflow.contrib.learn.python.learn.datasets.mnist) is deprecated and will be removed in a future version.\n",
      "Instructions for updating:\n",
      "Please use tf.one_hot on tensors.\n",
      "Extracting data/MNIST_data/t10k-images-idx3-ubyte.gz\n",
      "Extracting data/MNIST_data/t10k-labels-idx1-ubyte.gz\n",
      "WARNING:tensorflow:From C:\\Users\\acorn\\anaconda3\\envs\\tf1\\lib\\site-packages\\tensorflow_core\\contrib\\learn\\python\\learn\\datasets\\mnist.py:290: DataSet.__init__ (from tensorflow.contrib.learn.python.learn.datasets.mnist) is deprecated and will be removed in a future version.\n",
      "Instructions for updating:\n",
      "Please use alternatives such as official/mnist/dataset.py from tensorflow/models.\n"
     ]
    }
   ],
   "source": [
    "mnist = input_data.read_data_sets(\"data/MNIST_data/\", one_hot=True)"
   ]
  },
  {
   "cell_type": "code",
   "execution_count": 4,
   "id": "2947dd6c",
   "metadata": {},
   "outputs": [
    {
     "name": "stdout",
     "output_type": "stream",
     "text": [
      "<class 'tensorflow.contrib.learn.python.learn.datasets.base.Datasets'>\n",
      "55000\n",
      "10000\n"
     ]
    }
   ],
   "source": [
    "print(type(mnist))\n",
    "dir(mnist)\n",
    "\n",
    "mnist.train.labels\n",
    "print(mnist.train.num_examples)\n",
    "print(mnist.test.num_examples)"
   ]
  },
  {
   "cell_type": "code",
   "execution_count": 25,
   "id": "6ea9025e",
   "metadata": {},
   "outputs": [],
   "source": [
    "X = tf.placeholder(tf.float32, shape=[None, 28*28])\n",
    "y = tf.placeholder(tf.float32, shape=[None, 10])\n",
    "\n",
    "W = tf.Variable(tf.random_normal([28*28, 10]))\n",
    "b = tf.Variable(tf.random_normal([10]))\n",
    "\n",
    "##### 가설과 비용\n",
    "logit = tf.matmul(X, W) + b\n",
    "hypot = tf.nn.softmax(logit)\n",
    "cost = tf.nn.softmax_cross_entropy_with_logits_v2(logits=logit, labels=y)\n",
    "\n",
    "##### 최소 비용\n",
    "train = tf.train.GradientDescentOptimizer(learning_rate=0.1).minimize(cost)"
   ]
  },
  {
   "cell_type": "code",
   "execution_count": 26,
   "id": "f32df7a3",
   "metadata": {},
   "outputs": [],
   "source": [
    "sess = tf.Session()\n",
    "sess.run(tf.global_variables_initializer())\n",
    "\n",
    "correct = tf.equal(tf.argmax(hypot, 1), tf.argmax(y, 1))\n",
    "accuracy = tf.reduce_mean(tf.cast(correct, tf.float32))"
   ]
  },
  {
   "cell_type": "code",
   "execution_count": 20,
   "id": "c43c5a20",
   "metadata": {
    "collapsed": true
   },
   "outputs": [
    {
     "name": "stdout",
     "output_type": "stream",
     "text": [
      "0.95444703 \t 0.8031818\n",
      "0.9170624 \t 0.8098182\n",
      "0.8847155 \t 0.8150727\n",
      "0.85636103 \t 0.8203091\n",
      "0.8312328 \t 0.8251455\n",
      "0.8087558 \t 0.8295818\n",
      "0.7884909 \t 0.8326909\n",
      "0.7700966 \t 0.8355455\n",
      "0.7533031 \t 0.83843637\n",
      "0.73789304 \t 0.84098184\n",
      "0.72368836 \t 0.8435818\n",
      "0.7105409 \t 0.8459273\n",
      "0.6983259 \t 0.8477455\n",
      "0.68693763 \t 0.8500182\n",
      "0.6762861 \t 0.8518364\n",
      "0.6662936 \t 0.8537273\n",
      "0.6568939 \t 0.8552909\n",
      "0.648029 \t 0.8568182\n",
      "0.6396488 \t 0.85818183\n",
      "0.6317092 \t 0.85954547\n"
     ]
    }
   ],
   "source": [
    "##### full batch\n",
    "\n",
    "for step in range(400):\n",
    "    _, c, a = sess.run([train, tf.reduce_mean(cost), accuracy],\n",
    "              feed_dict={X:mnist.train.images , y:mnist.train.labels})\n",
    "    \n",
    "    if step%20 == 0:\n",
    "        print(c, '\\t', a)"
   ]
  },
  {
   "cell_type": "code",
   "execution_count": 27,
   "id": "01444f35",
   "metadata": {
    "collapsed": true
   },
   "outputs": [
    {
     "name": "stdout",
     "output_type": "stream",
     "text": [
      "3.4821466621485584 \t 0.89\n",
      "2.113929007378489 \t 0.87\n",
      "1.9453723824024187 \t 0.88\n",
      "1.961715141507711 \t 0.94\n",
      "1.8876371998678558 \t 0.91\n"
     ]
    }
   ],
   "source": [
    "##### mini batch\n",
    "\n",
    "training_epochs = 5\n",
    "batch_size = 100\n",
    "\n",
    "for epoch in range(training_epochs):\n",
    "    total_batch = int(mnist.train.num_examples/batch_size)\n",
    "    avg_cost = 0\n",
    "    \n",
    "    for i in range(total_batch):\n",
    "        batch_x, batch_y = mnist.train.next_batch(batch_size)\n",
    "        \n",
    "        _, c, a = sess.run([train, tf.reduce_mean(cost), accuracy],\n",
    "              feed_dict={X:batch_x , y:batch_y})\n",
    "            \n",
    "        avg_cost += c / total_batch\n",
    "        \n",
    "    print(avg_cost, \"\\t\", a)"
   ]
  },
  {
   "cell_type": "code",
   "execution_count": 30,
   "id": "fc1e22e9",
   "metadata": {},
   "outputs": [
    {
     "data": {
      "text/plain": [
       "4829"
      ]
     },
     "execution_count": 30,
     "metadata": {},
     "output_type": "execute_result"
    }
   ],
   "source": [
    "import random\n",
    "\n",
    "r = random.randint(0, mnist.test.num_examples-1)\n",
    "r"
   ]
  },
  {
   "cell_type": "code",
   "execution_count": 31,
   "id": "7a24faf5",
   "metadata": {},
   "outputs": [
    {
     "name": "stdout",
     "output_type": "stream",
     "text": [
      "Label :  [8]\n"
     ]
    }
   ],
   "source": [
    "print(\"Label : \", sess.run(tf.argmax(mnist.test.labels[r:r+1], 1)))"
   ]
  },
  {
   "cell_type": "code",
   "execution_count": 32,
   "id": "2aaa05d2",
   "metadata": {
    "collapsed": true
   },
   "outputs": [
    {
     "data": {
      "text/plain": [
       "<matplotlib.image.AxesImage at 0x1bc33927c48>"
      ]
     },
     "execution_count": 32,
     "metadata": {},
     "output_type": "execute_result"
    },
    {
     "data": {
      "image/png": "[encoded data removed]",
      "text/plain": [
       "<Figure size 432x288 with 1 Axes>"
      ]
     },
     "metadata": {
      "needs_background": "light"
     },
     "output_type": "display_data"
    }
   ],
   "source": [
    "plt.imshow(mnist.test.images[r:r+1].reshape(28, 28))"
   ]
  },
  {
   "cell_type": "code",
   "execution_count": 33,
   "id": "6d2b7ed7",
   "metadata": {},
   "outputs": [
    {
     "name": "stdout",
     "output_type": "stream",
     "text": [
      "Prediction :  [8]\n"
     ]
    }
   ],
   "source": [
    "print(\"Prediction : \", sess.run(tf.argmax(hypot, 1), feed_dict={X:mnist.test.images[r:r+1]}))"
   ]
  }
 ],
 "metadata": {
  "kernelspec": {
   "display_name": "Python 3",
   "language": "python",
   "name": "python3"
  },
  "language_info": {
   "codemirror_mode": {
    "name": "ipython",
    "version": 3
   },
   "file_extension": ".py",
   "mimetype": "text/x-python",
   "name": "python",
   "nbconvert_exporter": "python",
   "pygments_lexer": "ipython3",
   "version": "3.7.10"
  }
 },
 "nbformat": 4,
 "nbformat_minor": 5
}
