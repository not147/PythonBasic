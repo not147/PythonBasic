{
 "cells": [
  {
   "cell_type": "code",
   "execution_count": 1,
   "id": "7ca8feb4",
   "metadata": {},
   "outputs": [],
   "source": [
    "import numpy as np\n",
    "import pandas as pd\n",
    "import matplotlib.pyplot as plt\n",
    "\n",
    "import matplotlib.font_manager as fm\n",
    "font_name = fm.FontProperties(fname=\"C:/Windows/Fonts/malgun.ttf\").get_name()\n",
    "plt.rc(\"font\", family=font_name)\n",
    "\n",
    "import matplotlib as mlp\n",
    "mlp.rcParams[\"axes.unicode_minus\"] = False\n",
    "\n",
    "import seaborn as sns\n",
    "\n",
    "import tensorflow as tf"
   ]
  },
  {
   "cell_type": "markdown",
   "id": "7d73b405",
   "metadata": {},
   "source": [
    "## 1. 단순 선형 회귀모델의 비용 구하기"
   ]
  },
  {
   "cell_type": "code",
   "execution_count": 3,
   "id": "e192a880",
   "metadata": {},
   "outputs": [
    {
     "data": {
      "image/png": "[encoded data removed]",
      "text/plain": [
       "<Figure size 432x288 with 1 Axes>"
      ]
     },
     "metadata": {
      "needs_background": "light"
     },
     "output_type": "display_data"
    }
   ],
   "source": [
    "##### 데이터 준비\n",
    "x_train = [1, 2, 3]\n",
    "y_train = [1, 2, 3]\n",
    "\n",
    "W = tf.placeholder(tf.float32)\n",
    "\n",
    "##### 가설 준비(y = Wx)\n",
    "hypot = W * x_train\n",
    "\n",
    "##### 비용 함수\n",
    "cost = tf.reduce_mean(tf.square(hypot - y_train))\n",
    "\n",
    "#----------------- 텐서플로의 그래프 완성 -------------------#\n",
    "\n",
    "##### 비용함수를 가지고 그래프를 그려보기\n",
    "sess = tf.Session()\n",
    "cost_val = []\n",
    "\n",
    "for i in range(-30, 50):\n",
    "    result = sess.run(cost, feed_dict={W:i*0.1})\n",
    "    cost_val.append(result)\n",
    "    \n",
    "plt.plot(cost_val)\n",
    "sess.close()"
   ]
  },
  {
   "cell_type": "markdown",
   "id": "672d3bd5",
   "metadata": {},
   "source": [
    "## 2. 경사하강 알고리즘을 이용한 가중치 학습"
   ]
  },
  {
   "cell_type": "code",
   "execution_count": 10,
   "id": "1961cd8e",
   "metadata": {},
   "outputs": [
    {
     "name": "stdout",
     "output_type": "stream",
     "text": [
      "0 [0.27586097] 14.645836\n",
      "1 [0.716216] 4.1927357\n",
      "2 [0.95107204] 1.2194095\n",
      "3 [1.0763285] 0.37366343\n",
      "4 [1.1431321] 0.13309582\n",
      "5 [1.1787606] 0.06466757\n",
      "6 [1.1977625] 0.04520355\n",
      "7 [1.2078968] 0.039667137\n",
      "8 [1.2133018] 0.03809234\n",
      "9 [1.2161844] 0.0376444\n",
      "10 [1.2177218] 0.037516978\n",
      "11 [1.2185419] 0.037480723\n",
      "12 [1.2189791] 0.037470426\n",
      "13 [1.2192123] 0.03746749\n",
      "14 [1.2193367] 0.037466656\n",
      "15 [1.219403] 0.037466418\n",
      "16 [1.2194384] 0.03746635\n",
      "17 [1.2194574] 0.03746632\n",
      "18 [1.2194674] 0.03746633\n",
      "19 [1.2194728] 0.03746633\n"
     ]
    }
   ],
   "source": [
    "##### 데이터 준비\n",
    "x_train = [1, 2, 3]\n",
    "y_train = [1, 2, 3]\n",
    "\n",
    "W = tf.Variable(tf.random_normal([1]), dtype=tf.float32)\n",
    "b = tf.Variable(tf.random_normal([1]), dtype=tf.float32)\n",
    "\n",
    "##### 가설 준비(y = Wx)\n",
    "hypot = W * x_train + b\n",
    "\n",
    "##### 비용 함수\n",
    "cost = tf.reduce_mean(tf.square(hypot - y_train))\n",
    "\n",
    "##### 최저비용 학습을 위한 경사 하강 알고리즘(Gradient Descent)\n",
    "gradient = tf.reduce_mean((hypot-y_train)*x_train)\n",
    "learning_rate = 0.1\n",
    "descent = W - (learning_rate * gradient)\n",
    "update = W.assign(descent)\n",
    "\n",
    "################## Graph 작업 완료\n",
    "\n",
    "sess = tf.Session()\n",
    "sess.run(tf.global_variables_initializer())\n",
    "\n",
    "for step in range(20):\n",
    "    _, weight, c = sess.run([update, W, cost])\n",
    "    print(step, weight, c)\n",
    "\n",
    "sess.close()"
   ]
  },
  {
   "cell_type": "code",
   "execution_count": 12,
   "id": "4040e518",
   "metadata": {},
   "outputs": [
    {
     "name": "stdout",
     "output_type": "stream",
     "text": [
      "0 [0.20633665] 12.806427\n",
      "1 [0.31169778] 10.157667\n",
      "2 [0.40546918] 8.059584\n",
      "3 [0.48892573] 6.3976927\n",
      "4 [0.5632021] 5.081309\n",
      "5 [0.629308] 4.0386004\n",
      "6 [0.68814224] 3.2126718\n",
      "7 [0.74050474] 2.5584538\n",
      "8 [0.7871074] 2.0402474\n",
      "9 [0.8285838] 1.629776\n",
      "10 [0.8654977] 1.3046412\n",
      "11 [0.89835113] 1.0471027\n",
      "12 [0.92759067] 0.84310615\n",
      "13 [0.9536139] 0.68152034\n",
      "14 [0.9767745] 0.55352825\n",
      "15 [0.99738747] 0.45214587\n",
      "16 [1.015733] 0.3718408\n",
      "17 [1.0320605] 0.30823126\n",
      "18 [1.046592] 0.25784612\n",
      "19 [1.059525] 0.21793607\n"
     ]
    }
   ],
   "source": [
    "##### 데이터 준비\n",
    "x_train = tf.placeholder(tf.float32, shape=[None])\n",
    "y_train = tf.placeholder(tf.float32, shape=[None])\n",
    "\n",
    "W = tf.Variable(tf.random_normal([1]), dtype=tf.float32)\n",
    "b = tf.Variable(tf.random_normal([1]), dtype=tf.float32)\n",
    "\n",
    "##### 가설 준비(y = Wx)\n",
    "hypot = W * x_train + b\n",
    "\n",
    "##### 비용 함수\n",
    "cost = tf.reduce_mean(tf.square(hypot - y_train))\n",
    "\n",
    "##### 최저비용 학습을 위한 경사 하강 알고리즘(Gradient Descent)\n",
    "gradient = tf.reduce_mean((hypot-y_train)*x_train)\n",
    "learning_rate = 0.01\n",
    "descent = W - (learning_rate * gradient)\n",
    "update = W.assign(descent)\n",
    "\n",
    "################## Graph 작업 완료\n",
    "\n",
    "sess = tf.Session()\n",
    "sess.run(tf.global_variables_initializer())\n",
    "\n",
    "for step in range(20):\n",
    "    _, weight, c = sess.run([update, W, cost], feed_dict={x_train:[1, 2, 3, 4, 5], \n",
    "                                                          y_train:[1, 2, 3, 4, 5]})\n",
    "    print(step, weight, c)\n",
    "\n",
    "sess.close()"
   ]
  },
  {
   "cell_type": "markdown",
   "id": "5d33978c",
   "metadata": {},
   "source": [
    "#### 1) 경사 하강 알고리즘 객체 사용"
   ]
  },
  {
   "cell_type": "code",
   "execution_count": 39,
   "id": "bd67fc74",
   "metadata": {
    "collapsed": true
   },
   "outputs": [
    {
     "name": "stdout",
     "output_type": "stream",
     "text": [
      "0 [0.28346822] 18.880089 [0.08433424]\n",
      "100 [1.1498294] 0.05362155 [0.5590683]\n",
      "200 [1.1067863] 0.027238036 [0.71446794]\n",
      "300 [1.0761085] 0.013836039 [0.82522416]\n",
      "400 [1.0542439] 0.0070282533 [0.90416217]\n",
      "500 [1.0386606] 0.0035701215 [0.9604227]\n",
      "600 [1.0275542] 0.0018135123 [1.0005206]\n",
      "700 [1.0196383] 0.0009212078 [1.0290991]\n",
      "800 [1.0139966] 0.00046794157 [1.0494677]\n",
      "900 [1.0099754] 0.00023769704 [1.0639848]\n",
      "1000 [1.0071098] 0.000120743585 [1.0743313]\n",
      "1100 [1.0050673] 6.133607e-05 [1.081705]\n",
      "1200 [1.0036116] 3.115635e-05 [1.086961]\n",
      "1300 [1.002574] 1.5825924e-05 [1.090707]\n",
      "1400 [1.0018346] 8.039186e-06 [1.0933765]\n",
      "1500 [1.0013076] 4.0839504e-06 [1.0952793]\n",
      "1600 [1.000932] 2.0748303e-06 [1.0966351]\n",
      "1700 [1.0006644] 1.0541992e-06 [1.0976015]\n",
      "1800 [1.0004735] 5.3563923e-07 [1.0982903]\n",
      "1900 [1.0003376] 2.7214963e-07 [1.0987811]\n"
     ]
    }
   ],
   "source": [
    "##### 데이터 준비\n",
    "x_train = tf.placeholder(tf.float32, shape=[None])\n",
    "y_train = tf.placeholder(tf.float32, shape=[None])\n",
    "\n",
    "W = tf.Variable(tf.random_normal([1]), dtype=tf.float32)\n",
    "b = tf.Variable(tf.random_normal([1]), dtype=tf.float32)\n",
    "\n",
    "##### 가설 준비(y = Wx)\n",
    "hypot = W * x_train + b\n",
    "\n",
    "##### 비용 함수\n",
    "cost = tf.reduce_mean(tf.square(hypot - y_train))\n",
    "\n",
    "##### 최저비용 학습을 위한 경사 하강 알고리즘(Gradient Descent)\n",
    "update = tf.train.GradientDescentOptimizer(learning_rate=0.01).minimize(cost)\n",
    "\n",
    "################## Graph 작업 완료\n",
    "\n",
    "sess = tf.Session()\n",
    "sess.run(tf.global_variables_initializer())\n",
    "\n",
    "for step in range(2000):\n",
    "    _, weight, c, bias = sess.run([update, W, cost, b], feed_dict={x_train:[1, 2, 3, 4, 5], \n",
    "                                                          y_train:[2.1, 3.1, 4.1, 5.1, 6.1]})\n",
    "    if step % 100 == 0:\n",
    "        print(step, weight, c, bias)\n"
   ]
  },
  {
   "cell_type": "code",
   "execution_count": 40,
   "id": "9b07774c",
   "metadata": {},
   "outputs": [
    {
     "name": "stdout",
     "output_type": "stream",
     "text": [
      "[28.105652]\n",
      "[3.599732 4.800022]\n"
     ]
    }
   ],
   "source": [
    "##### Testing\n",
    "\n",
    "print(sess.run(hypot, feed_dict={x_train:[27]}))\n",
    "print(sess.run(hypot, feed_dict={x_train:[2.5, 3.7]}))"
   ]
  },
  {
   "cell_type": "code",
   "execution_count": 41,
   "id": "bc48aaa1",
   "metadata": {},
   "outputs": [],
   "source": [
    "sess.close()"
   ]
  },
  {
   "cell_type": "markdown",
   "id": "fd37c06f",
   "metadata": {},
   "source": [
    "## 3. 응용 예제\n",
    "\n",
    "+ 아래의 데이터를 가지고 하루 8시간을 일했을 때 매출액이 얼마인지 예측하시오."
   ]
  },
  {
   "cell_type": "code",
   "execution_count": 42,
   "id": "70198c8c",
   "metadata": {},
   "outputs": [],
   "source": [
    "X = [1, 2, 3, 4, 5, 6, 7]\n",
    "y = [25000, 55000, 75000, 110000, 128000, 155000, 180000]"
   ]
  },
  {
   "cell_type": "code",
   "execution_count": 53,
   "id": "02299c7d",
   "metadata": {
    "collapsed": true
   },
   "outputs": [
    {
     "name": "stdout",
     "output_type": "stream",
     "text": [
      "0 13454615000.0\n",
      "100 9834326.0\n",
      "200 9188806.0\n",
      "300 8890047.0\n",
      "400 8751783.0\n",
      "500 8687786.0\n",
      "600 8658156.0\n",
      "700 8644457.0\n",
      "800 8638122.0\n",
      "900 8635182.0\n",
      "1000 8633825.0\n",
      "1100 8633198.0\n",
      "1200 8632910.0\n",
      "1300 8632769.0\n",
      "1400 8632706.0\n",
      "1500 8632674.0\n",
      "1600 8632659.0\n",
      "1700 8632660.0\n",
      "1800 8632654.0\n",
      "1900 8632652.0\n"
     ]
    }
   ],
   "source": [
    "##### 데이터 준비\n",
    "x_train = tf.placeholder(tf.float32, shape=[None])\n",
    "y_train = tf.placeholder(tf.float32, shape=[None])\n",
    "\n",
    "W = tf.Variable(tf.random_normal([1]), dtype=tf.float32)\n",
    "b = tf.Variable(tf.random_normal([1]), dtype=tf.float32)\n",
    "\n",
    "##### 가설 준비(y = Wx)\n",
    "hypot = W * x_train + b\n",
    "\n",
    "##### 비용 함수\n",
    "cost = tf.reduce_mean(tf.square(hypot - y_train))\n",
    "\n",
    "##### 최저비용 학습을 위한 경사 하강 알고리즘(Gradient Descent)\n",
    "update = tf.train.GradientDescentOptimizer(learning_rate=0.01).minimize(cost)\n",
    "\n",
    "################## Graph 작업 완료\n",
    "\n",
    "sess = tf.Session()\n",
    "sess.run(tf.global_variables_initializer())\n",
    "\n",
    "for step in range(2000):\n",
    "    _, c = sess.run([update, cost], feed_dict={x_train:X, y_train:y})\n",
    "    \n",
    "    if step % 100 == 0:\n",
    "        print(step, c)\n"
   ]
  },
  {
   "cell_type": "code",
   "execution_count": 54,
   "id": "960680ab",
   "metadata": {},
   "outputs": [
    {
     "name": "stdout",
     "output_type": "stream",
     "text": [
      "[206570.42]\n"
     ]
    }
   ],
   "source": [
    "print(sess.run(hypot, feed_dict={x_train:[8]}))"
   ]
  },
  {
   "cell_type": "markdown",
   "id": "bf657983",
   "metadata": {},
   "source": [
    "## 4. 다중 선형 회귀모델"
   ]
  },
  {
   "cell_type": "code",
   "execution_count": 55,
   "id": "00f14ae5",
   "metadata": {},
   "outputs": [],
   "source": [
    "x1_data = [73., 93., 89., 96., 73.]\n",
    "x2_data = [80., 88., 91., 98., 66.]\n",
    "x3_data = [75., 93., 90., 100., 70.]\n",
    "y_data = [152., 185., 180., 196., 142.]"
   ]
  },
  {
   "cell_type": "markdown",
   "id": "af5496f3",
   "metadata": {},
   "source": [
    "#### 1) 단순하게 처리하는 경우"
   ]
  },
  {
   "cell_type": "code",
   "execution_count": null,
   "id": "9deeb862",
   "metadata": {},
   "outputs": [],
   "source": [
    "X1 = tf.placeholder(tf.float32, shape=[None])\n",
    "X2 = tf.placeholder(tf.float32, shape=[None])\n",
    "X3 = tf.placeholder(tf.float32, shape=[None])\n",
    "\n",
    "y = tf.placeholder(tf.float32, shape=[None])\n",
    "\n",
    "##### 가설 설정\n",
    "\n",
    "\n",
    "##### 비용 함수\n",
    "\n",
    "\n",
    "##### 최소 비용 계산"
   ]
  },
  {
   "cell_type": "code",
   "execution_count": null,
   "id": "c86291e1",
   "metadata": {},
   "outputs": [],
   "source": []
  },
  {
   "cell_type": "code",
   "execution_count": null,
   "id": "ef06b251",
   "metadata": {},
   "outputs": [],
   "source": []
  },
  {
   "cell_type": "code",
   "execution_count": null,
   "id": "923214d3",
   "metadata": {},
   "outputs": [],
   "source": []
  }
 ],
 "metadata": {
  "kernelspec": {
   "display_name": "Python 3",
   "language": "python",
   "name": "python3"
  },
  "language_info": {
   "codemirror_mode": {
    "name": "ipython",
    "version": 3
   },
   "file_extension": ".py",
   "mimetype": "text/x-python",
   "name": "python",
   "nbconvert_exporter": "python",
   "pygments_lexer": "ipython3",
   "version": "3.7.10"
  }
 },
 "nbformat": 4,
 "nbformat_minor": 5
}
