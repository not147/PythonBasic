{
 "cells": [
  {
   "cell_type": "code",
   "execution_count": 1,
   "id": "7ca8feb4",
   "metadata": {},
   "outputs": [],
   "source": [
    "import numpy as np\n",
    "import pandas as pd\n",
    "import matplotlib.pyplot as plt\n",
    "\n",
    "import matplotlib.font_manager as fm\n",
    "font_name = fm.FontProperties(fname=\"C:/Windows/Fonts/malgun.ttf\").get_name()\n",
    "plt.rc(\"font\", family=font_name)\n",
    "\n",
    "import matplotlib as mlp\n",
    "mlp.rcParams[\"axes.unicode_minus\"] = False\n",
    "\n",
    "import seaborn as sns\n",
    "\n",
    "import tensorflow as tf"
   ]
  },
  {
   "cell_type": "markdown",
   "id": "7d73b405",
   "metadata": {},
   "source": [
    "## 1. 단순 선형 회귀모델의 비용 구하기"
   ]
  },
  {
   "cell_type": "code",
   "execution_count": 3,
   "id": "e192a880",
   "metadata": {},
   "outputs": [
    {
     "data": {
      "image/png": "[encoded data removed]",
      "text/plain": [
       "<Figure size 432x288 with 1 Axes>"
      ]
     },
     "metadata": {
      "needs_background": "light"
     },
     "output_type": "display_data"
    }
   ],
   "source": [
    "##### 데이터 준비\n",
    "x_train = [1, 2, 3]\n",
    "y_train = [1, 2, 3]\n",
    "\n",
    "W = tf.placeholder(tf.float32)\n",
    "\n",
    "##### 가설 준비(y = Wx)\n",
    "hypot = W * x_train\n",
    "\n",
    "##### 비용 함수\n",
    "cost = tf.reduce_mean(tf.square(hypot - y_train))\n",
    "\n",
    "#----------------- 텐서플로의 그래프 완성 -------------------#\n",
    "\n",
    "##### 비용함수를 가지고 그래프를 그려보기\n",
    "sess = tf.Session()\n",
    "cost_val = []\n",
    "\n",
    "for i in range(-30, 50):\n",
    "    result = sess.run(cost, feed_dict={W:i*0.1})\n",
    "    cost_val.append(result)\n",
    "    \n",
    "plt.plot(cost_val)\n",
    "sess.close()"
   ]
  },
  {
   "cell_type": "markdown",
   "id": "672d3bd5",
   "metadata": {},
   "source": [
    "## 2. 경사하강 알고리즘을 이용한 가중치 학습"
   ]
  },
  {
   "cell_type": "code",
   "execution_count": 10,
   "id": "1961cd8e",
   "metadata": {},
   "outputs": [
    {
     "name": "stdout",
     "output_type": "stream",
     "text": [
      "0 [0.27586097] 14.645836\n",
      "1 [0.716216] 4.1927357\n",
      "2 [0.95107204] 1.2194095\n",
      "3 [1.0763285] 0.37366343\n",
      "4 [1.1431321] 0.13309582\n",
      "5 [1.1787606] 0.06466757\n",
      "6 [1.1977625] 0.04520355\n",
      "7 [1.2078968] 0.039667137\n",
      "8 [1.2133018] 0.03809234\n",
      "9 [1.2161844] 0.0376444\n",
      "10 [1.2177218] 0.037516978\n",
      "11 [1.2185419] 0.037480723\n",
      "12 [1.2189791] 0.037470426\n",
      "13 [1.2192123] 0.03746749\n",
      "14 [1.2193367] 0.037466656\n",
      "15 [1.219403] 0.037466418\n",
      "16 [1.2194384] 0.03746635\n",
      "17 [1.2194574] 0.03746632\n",
      "18 [1.2194674] 0.03746633\n",
      "19 [1.2194728] 0.03746633\n"
     ]
    }
   ],
   "source": [
    "##### 데이터 준비\n",
    "x_train = [1, 2, 3]\n",
    "y_train = [1, 2, 3]\n",
    "\n",
    "W = tf.Variable(tf.random_normal([1]), dtype=tf.float32)\n",
    "b = tf.Variable(tf.random_normal([1]), dtype=tf.float32)\n",
    "\n",
    "##### 가설 준비(y = Wx)\n",
    "hypot = W * x_train + b\n",
    "\n",
    "##### 비용 함수\n",
    "cost = tf.reduce_mean(tf.square(hypot - y_train))\n",
    "\n",
    "##### 최저비용 학습을 위한 경사 하강 알고리즘(Gradient Descent)\n",
    "gradient = tf.reduce_mean((hypot-y_train)*x_train)\n",
    "learning_rate = 0.1\n",
    "descent = W - (learning_rate * gradient)\n",
    "update = W.assign(descent)\n",
    "\n",
    "################## Graph 작업 완료\n",
    "\n",
    "sess = tf.Session()\n",
    "sess.run(tf.global_variables_initializer())\n",
    "\n",
    "for step in range(20):\n",
    "    _, weight, c = sess.run([update, W, cost])\n",
    "    print(step, weight, c)\n",
    "\n",
    "sess.close()"
   ]
  },
  {
   "cell_type": "code",
   "execution_count": 12,
   "id": "4040e518",
   "metadata": {},
   "outputs": [
    {
     "name": "stdout",
     "output_type": "stream",
     "text": [
      "0 [0.20633665] 12.806427\n",
      "1 [0.31169778] 10.157667\n",
      "2 [0.40546918] 8.059584\n",
      "3 [0.48892573] 6.3976927\n",
      "4 [0.5632021] 5.081309\n",
      "5 [0.629308] 4.0386004\n",
      "6 [0.68814224] 3.2126718\n",
      "7 [0.74050474] 2.5584538\n",
      "8 [0.7871074] 2.0402474\n",
      "9 [0.8285838] 1.629776\n",
      "10 [0.8654977] 1.3046412\n",
      "11 [0.89835113] 1.0471027\n",
      "12 [0.92759067] 0.84310615\n",
      "13 [0.9536139] 0.68152034\n",
      "14 [0.9767745] 0.55352825\n",
      "15 [0.99738747] 0.45214587\n",
      "16 [1.015733] 0.3718408\n",
      "17 [1.0320605] 0.30823126\n",
      "18 [1.046592] 0.25784612\n",
      "19 [1.059525] 0.21793607\n"
     ]
    }
   ],
   "source": [
    "##### 데이터 준비\n",
    "x_train = tf.placeholder(tf.float32, shape=[None])\n",
    "y_train = tf.placeholder(tf.float32, shape=[None])\n",
    "\n",
    "W = tf.Variable(tf.random_normal([1]), dtype=tf.float32)\n",
    "b = tf.Variable(tf.random_normal([1]), dtype=tf.float32)\n",
    "\n",
    "##### 가설 준비(y = Wx)\n",
    "hypot = W * x_train + b\n",
    "\n",
    "##### 비용 함수\n",
    "cost = tf.reduce_mean(tf.square(hypot - y_train))\n",
    "\n",
    "##### 최저비용 학습을 위한 경사 하강 알고리즘(Gradient Descent)\n",
    "gradient = tf.reduce_mean((hypot-y_train)*x_train)\n",
    "learning_rate = 0.01\n",
    "descent = W - (learning_rate * gradient)\n",
    "update = W.assign(descent)\n",
    "\n",
    "################## Graph 작업 완료\n",
    "\n",
    "sess = tf.Session()\n",
    "sess.run(tf.global_variables_initializer())\n",
    "\n",
    "for step in range(20):\n",
    "    _, weight, c = sess.run([update, W, cost], feed_dict={x_train:[1, 2, 3, 4, 5], \n",
    "                                                          y_train:[1, 2, 3, 4, 5]})\n",
    "    print(step, weight, c)\n",
    "\n",
    "sess.close()"
   ]
  },
  {
   "cell_type": "markdown",
   "id": "5d33978c",
   "metadata": {},
   "source": [
    "#### 1) 경사 하강 알고리즘 객체 사용"
   ]
  },
  {
   "cell_type": "code",
   "execution_count": 39,
   "id": "bd67fc74",
   "metadata": {
    "collapsed": true
   },
   "outputs": [
    {
     "name": "stdout",
     "output_type": "stream",
     "text": [
      "0 [0.28346822] 18.880089 [0.08433424]\n",
      "100 [1.1498294] 0.05362155 [0.5590683]\n",
      "200 [1.1067863] 0.027238036 [0.71446794]\n",
      "300 [1.0761085] 0.013836039 [0.82522416]\n",
      "400 [1.0542439] 0.0070282533 [0.90416217]\n",
      "500 [1.0386606] 0.0035701215 [0.9604227]\n",
      "600 [1.0275542] 0.0018135123 [1.0005206]\n",
      "700 [1.0196383] 0.0009212078 [1.0290991]\n",
      "800 [1.0139966] 0.00046794157 [1.0494677]\n",
      "900 [1.0099754] 0.00023769704 [1.0639848]\n",
      "1000 [1.0071098] 0.000120743585 [1.0743313]\n",
      "1100 [1.0050673] 6.133607e-05 [1.081705]\n",
      "1200 [1.0036116] 3.115635e-05 [1.086961]\n",
      "1300 [1.002574] 1.5825924e-05 [1.090707]\n",
      "1400 [1.0018346] 8.039186e-06 [1.0933765]\n",
      "1500 [1.0013076] 4.0839504e-06 [1.0952793]\n",
      "1600 [1.000932] 2.0748303e-06 [1.0966351]\n",
      "1700 [1.0006644] 1.0541992e-06 [1.0976015]\n",
      "1800 [1.0004735] 5.3563923e-07 [1.0982903]\n",
      "1900 [1.0003376] 2.7214963e-07 [1.0987811]\n"
     ]
    }
   ],
   "source": [
    "##### 데이터 준비\n",
    "x_train = tf.placeholder(tf.float32, shape=[None])\n",
    "y_train = tf.placeholder(tf.float32, shape=[None])\n",
    "\n",
    "W = tf.Variable(tf.random_normal([1]), dtype=tf.float32)\n",
    "b = tf.Variable(tf.random_normal([1]), dtype=tf.float32)\n",
    "\n",
    "##### 가설 준비(y = Wx)\n",
    "hypot = W * x_train + b\n",
    "\n",
    "##### 비용 함수\n",
    "cost = tf.reduce_mean(tf.square(hypot - y_train))\n",
    "\n",
    "##### 최저비용 학습을 위한 경사 하강 알고리즘(Gradient Descent)\n",
    "update = tf.train.GradientDescentOptimizer(learning_rate=0.01).minimize(cost)\n",
    "\n",
    "################## Graph 작업 완료\n",
    "\n",
    "sess = tf.Session()\n",
    "sess.run(tf.global_variables_initializer())\n",
    "\n",
    "for step in range(2000):\n",
    "    _, weight, c, bias = sess.run([update, W, cost, b], feed_dict={x_train:[1, 2, 3, 4, 5], \n",
    "                                                          y_train:[2.1, 3.1, 4.1, 5.1, 6.1]})\n",
    "    if step % 100 == 0:\n",
    "        print(step, weight, c, bias)\n"
   ]
  },
  {
   "cell_type": "code",
   "execution_count": 40,
   "id": "9b07774c",
   "metadata": {},
   "outputs": [
    {
     "name": "stdout",
     "output_type": "stream",
     "text": [
      "[28.105652]\n",
      "[3.599732 4.800022]\n"
     ]
    }
   ],
   "source": [
    "##### Testing\n",
    "\n",
    "print(sess.run(hypot, feed_dict={x_train:[27]}))\n",
    "print(sess.run(hypot, feed_dict={x_train:[2.5, 3.7]}))"
   ]
  },
  {
   "cell_type": "code",
   "execution_count": 41,
   "id": "bc48aaa1",
   "metadata": {},
   "outputs": [],
   "source": [
    "sess.close()"
   ]
  },
  {
   "cell_type": "markdown",
   "id": "fd37c06f",
   "metadata": {},
   "source": [
    "## 3. 응용 예제\n",
    "\n",
    "+ 아래의 데이터를 가지고 하루 8시간을 일했을 때 매출액이 얼마인지 예측하시오."
   ]
  },
  {
   "cell_type": "code",
   "execution_count": 42,
   "id": "70198c8c",
   "metadata": {},
   "outputs": [],
   "source": [
    "X = [1, 2, 3, 4, 5, 6, 7]\n",
    "y = [25000, 55000, 75000, 110000, 128000, 155000, 180000]"
   ]
  },
  {
   "cell_type": "code",
   "execution_count": 53,
   "id": "02299c7d",
   "metadata": {
    "collapsed": true
   },
   "outputs": [
    {
     "name": "stdout",
     "output_type": "stream",
     "text": [
      "0 13454615000.0\n",
      "100 9834326.0\n",
      "200 9188806.0\n",
      "300 8890047.0\n",
      "400 8751783.0\n",
      "500 8687786.0\n",
      "600 8658156.0\n",
      "700 8644457.0\n",
      "800 8638122.0\n",
      "900 8635182.0\n",
      "1000 8633825.0\n",
      "1100 8633198.0\n",
      "1200 8632910.0\n",
      "1300 8632769.0\n",
      "1400 8632706.0\n",
      "1500 8632674.0\n",
      "1600 8632659.0\n",
      "1700 8632660.0\n",
      "1800 8632654.0\n",
      "1900 8632652.0\n"
     ]
    }
   ],
   "source": [
    "##### 데이터 준비\n",
    "x_train = tf.placeholder(tf.float32, shape=[None])\n",
    "y_train = tf.placeholder(tf.float32, shape=[None])\n",
    "\n",
    "W = tf.Variable(tf.random_normal([1]), dtype=tf.float32)\n",
    "b = tf.Variable(tf.random_normal([1]), dtype=tf.float32)\n",
    "\n",
    "##### 가설 준비(y = Wx)\n",
    "hypot = W * x_train + b\n",
    "\n",
    "##### 비용 함수\n",
    "cost = tf.reduce_mean(tf.square(hypot - y_train))\n",
    "\n",
    "##### 최저비용 학습을 위한 경사 하강 알고리즘(Gradient Descent)\n",
    "update = tf.train.GradientDescentOptimizer(learning_rate=0.01).minimize(cost)\n",
    "\n",
    "################## Graph 작업 완료\n",
    "\n",
    "sess = tf.Session()\n",
    "sess.run(tf.global_variables_initializer())\n",
    "\n",
    "for step in range(2000):\n",
    "    _, c = sess.run([update, cost], feed_dict={x_train:X, y_train:y})\n",
    "    \n",
    "    if step % 100 == 0:\n",
    "        print(step, c)\n"
   ]
  },
  {
   "cell_type": "code",
   "execution_count": 54,
   "id": "960680ab",
   "metadata": {},
   "outputs": [
    {
     "name": "stdout",
     "output_type": "stream",
     "text": [
      "[206570.42]\n"
     ]
    }
   ],
   "source": [
    "print(sess.run(hypot, feed_dict={x_train:[8]}))"
   ]
  },
  {
   "cell_type": "markdown",
   "id": "bf657983",
   "metadata": {},
   "source": [
    "## 4. 다중 선형 회귀모델"
   ]
  },
  {
   "cell_type": "code",
   "execution_count": 19,
   "id": "00f14ae5",
   "metadata": {},
   "outputs": [],
   "source": [
    "x1_data = [73., 93., 89., 96., 73.]\n",
    "x2_data = [80., 88., 91., 98., 66.]\n",
    "x3_data = [75., 93., 90., 100., 70.]\n",
    "y_data = [152., 185., 180., 196., 142.]"
   ]
  },
  {
   "cell_type": "markdown",
   "id": "af5496f3",
   "metadata": {},
   "source": [
    "#### 1) 단순하게 처리하는 경우"
   ]
  },
  {
   "cell_type": "code",
   "execution_count": 20,
   "id": "9deeb862",
   "metadata": {},
   "outputs": [],
   "source": [
    "X1 = tf.placeholder(tf.float32, shape=[None])\n",
    "X2 = tf.placeholder(tf.float32, shape=[None])\n",
    "X3 = tf.placeholder(tf.float32, shape=[None])\n",
    "\n",
    "y = tf.placeholder(tf.float32, shape=[None])\n",
    "\n",
    "##### 가설 설정 : y = W1X1 + W2X2 + W3X3 + b\n",
    "W1 = tf.Variable(tf.random_normal([1]))\n",
    "W2 = tf.Variable(tf.random_normal([1]))\n",
    "W3 = tf.Variable(tf.random_normal([1]))\n",
    "b = tf.Variable(tf.random_normal([1]))\n",
    "\n",
    "hypot = W1*X1 + W2*X2 + W3*X3 + b\n",
    "\n",
    "##### 비용 함수\n",
    "cost = tf.reduce_mean(tf.square((hypot - y)))\n",
    "\n",
    "##### 최소 비용 계산\n",
    "train = tf.train.GradientDescentOptimizer(learning_rate=0.000001).minimize(cost)"
   ]
  },
  {
   "cell_type": "code",
   "execution_count": 21,
   "id": "c86291e1",
   "metadata": {},
   "outputs": [
    {
     "name": "stdout",
     "output_type": "stream",
     "text": [
      "0 5400.1167 [ 83.83698 107.75762 102.38859 113.57444  82.24635]\n",
      "500 2.5598214 [149.04585 186.09492 179.59615 197.64624 141.99272]\n",
      "1000 2.5299983 [149.06628 186.08105 179.60269 197.6481  141.97697]\n",
      "1500 2.5008607 [149.08653 186.06743 179.60924 197.64998 141.96152]\n",
      "2000 2.4724176 [149.10663 186.05412 179.61586 197.65193 141.94641]\n",
      "2500 2.444752 [149.12642 186.04099 179.62236 197.65388 141.93147]\n",
      "3000 2.4177597 [149.1459  186.02798 179.62871 197.65572 141.91673]\n",
      "3500 2.3914084 [149.16507 186.01506 179.63492 197.65741 141.90216]\n",
      "4000 2.365638 [149.184   186.0023  179.64105 197.65901 141.8878 ]\n",
      "4500 2.340449 [149.20271 185.98967 179.64711 197.66057 141.87364]\n"
     ]
    }
   ],
   "source": [
    "sess = tf.Session()\n",
    "sess.run(tf.global_variables_initializer())\n",
    "\n",
    "for step in range(5000):\n",
    "    _, c, h = sess.run([train, cost, hypot], feed_dict={X1:x1_data, X2:x2_data, X3:x3_data, y:y_data})\n",
    "    \n",
    "    if step % 500 == 0:\n",
    "        print(step, c, h)"
   ]
  },
  {
   "cell_type": "code",
   "execution_count": 22,
   "id": "b38b73a3",
   "metadata": {},
   "outputs": [],
   "source": [
    "sess.close()"
   ]
  },
  {
   "cell_type": "markdown",
   "id": "2df47fc7",
   "metadata": {},
   "source": [
    "#### 2) Matrix로 처리하는 경우"
   ]
  },
  {
   "cell_type": "code",
   "execution_count": 27,
   "id": "923214d3",
   "metadata": {},
   "outputs": [],
   "source": [
    "X_data = [[73., 80., 75.],\n",
    "         [93., 88., 93.],\n",
    "         [89., 91., 90.],\n",
    "         [96., 98., 100.],\n",
    "         [73., 66., 70.]]\n",
    "\n",
    "y_data = [[152.], \n",
    "          [185.], \n",
    "          [180.], \n",
    "          [196.], \n",
    "          [142.]]"
   ]
  },
  {
   "cell_type": "code",
   "execution_count": 28,
   "id": "b489d1c5",
   "metadata": {},
   "outputs": [],
   "source": [
    "X = tf.placeholder(tf.float32, shape=[None, 3])\n",
    "y = tf.placeholder(tf.float32, shape=[None, 1])\n",
    "\n",
    "##### 가설 설정 \n",
    "W = tf.Variable(tf.random_normal([3, 1]))\n",
    "b = tf.Variable(tf.random_normal([1]))\n",
    "\n",
    "hypot = tf.matmul(X, W) + b\n",
    "\n",
    "##### 비용 함수\n",
    "cost = tf.reduce_mean(tf.square((hypot - y)))\n",
    "\n",
    "##### 최소 비용 계산\n",
    "train = tf.train.GradientDescentOptimizer(learning_rate=0.000001).minimize(cost)"
   ]
  },
  {
   "cell_type": "code",
   "execution_count": 30,
   "id": "f01bc453",
   "metadata": {
    "collapsed": true
   },
   "outputs": [
    {
     "name": "stdout",
     "output_type": "stream",
     "text": [
      "0 22460.467 [[19.354876]\n",
      " [24.02852 ]\n",
      " [23.103537]\n",
      " [26.910383]\n",
      " [17.148134]]\n",
      "1000 3.145681 [[152.27667]\n",
      " [183.8795 ]\n",
      " [180.56166]\n",
      " [198.37761]\n",
      " [139.09692]]\n",
      "2000 3.0561223 [[152.2312 ]\n",
      " [183.91113]\n",
      " [180.5484 ]\n",
      " [198.36224]\n",
      " [139.14333]]\n",
      "3000 2.9709616 [[152.18715]\n",
      " [183.94211]\n",
      " [180.53574]\n",
      " [198.34741]\n",
      " [139.18872]]\n",
      "4000 2.8900123 [[152.14421]\n",
      " [183.97223]\n",
      " [180.52336]\n",
      " [198.3329 ]\n",
      " [139.23294]]\n",
      "5000 2.8129466 [[152.10234]\n",
      " [184.00127]\n",
      " [180.51112]\n",
      " [198.31836]\n",
      " [139.2759 ]]\n",
      "6000 2.7395997 [[152.06183]\n",
      " [184.02957]\n",
      " [180.49944]\n",
      " [198.30417]\n",
      " [139.31787]]\n",
      "7000 2.669849 [[152.02252]\n",
      " [184.05722]\n",
      " [180.48819]\n",
      " [198.29044]\n",
      " [139.35889]]\n",
      "8000 2.6034884 [[151.98425]\n",
      " [184.08415]\n",
      " [180.47722]\n",
      " [198.277  ]\n",
      " [139.39885]]\n"
     ]
    }
   ],
   "source": [
    "sess = tf.Session()\n",
    "sess.run(tf.global_variables_initializer())\n",
    "\n",
    "for step in range(9000):\n",
    "    _, c, h = sess.run([train, cost, hypot], feed_dict={X:X_data, y:y_data})\n",
    "    \n",
    "    if step % 1000 == 0:\n",
    "        print(step, c, h)\n",
    "        \n",
    "sess.close()"
   ]
  },
  {
   "cell_type": "markdown",
   "id": "b5ebb5e9",
   "metadata": {},
   "source": [
    "#### 3) 1차원 데이터를 2차원으로 코드 처리"
   ]
  },
  {
   "cell_type": "code",
   "execution_count": null,
   "id": "b89382a5",
   "metadata": {},
   "outputs": [],
   "source": [
    "x1_data = [73., 93., 89., 96., 73.]\n",
    "x2_data = [80., 88., 91., 98., 66.]\n",
    "x3_data = [75., 93., 90., 100., 70.]\n",
    "y_data = [152., 185., 180., 196., 142.]\n",
    "\n",
    "##### 데이터를 2차원으로 변환\n",
    "\n",
    "\n",
    "X = tf.placeholder(tf.float32, shape=[None, 3])\n",
    "y = tf.placeholder(tf.float32, shape=[None, 1])\n",
    "\n",
    "##### 가설 설정 \n",
    "W = tf.Variable(tf.random_normal([3, 1]))\n",
    "b = tf.Variable(tf.random_normal([1]))\n",
    "\n",
    "hypot = tf.matmul(X, W) + b\n",
    "\n",
    "##### 비용 함수\n",
    "cost = tf.reduce_mean(tf.square((hypot - y)))\n",
    "\n",
    "##### 최소 비용 계산\n",
    "train = tf.train.GradientDescentOptimizer(learning_rate=0.000001).minimize(cost)\n",
    "\n",
    "#----------------------------------------------------------------------------------\n",
    "\n",
    "sess = tf.Session()\n",
    "sess.run(tf.global_variables_initializer())\n",
    "\n",
    "for step in range(9000):\n",
    "    _, c, h = sess.run([train, cost, hypot], feed_dict={X:X_data, y:y_data})\n",
    "    \n",
    "    if step % 1000 == 0:\n",
    "        print(step, c, h)\n",
    "        \n",
    "sess.close()"
   ]
  },
  {
   "cell_type": "code",
   "execution_count": 32,
   "id": "28babcf5",
   "metadata": {
    "collapsed": true
   },
   "outputs": [
    {
     "data": {
      "text/plain": [
       "array([[152.],\n",
       "       [185.],\n",
       "       [180.],\n",
       "       [196.],\n",
       "       [142.]])"
      ]
     },
     "execution_count": 32,
     "metadata": {},
     "output_type": "execute_result"
    }
   ],
   "source": [
    "x1_data = [73., 93., 89., 96., 73.]\n",
    "x2_data = [80., 88., 91., 98., 66.]\n",
    "x3_data = [75., 93., 90., 100., 70.]\n",
    "y_data = [152., 185., 180., 196., 142.]\n",
    "\n",
    "X_data = np.dstack([x1_data, x2_data, x3_data])[0]\n",
    "y_data = np.array(y_data).reshape(-1, 1)\n",
    "\n",
    "X_data\n",
    "y_data"
   ]
  },
  {
   "cell_type": "code",
   "execution_count": 38,
   "id": "10948c16",
   "metadata": {
    "collapsed": true
   },
   "outputs": [
    {
     "data": {
      "text/plain": [
       "array([[152.],\n",
       "       [185.],\n",
       "       [180.],\n",
       "       [196.],\n",
       "       [142.]])"
      ]
     },
     "execution_count": 38,
     "metadata": {},
     "output_type": "execute_result"
    }
   ],
   "source": [
    "# X_data = list([x1_data, x2_data, x3_data])\n",
    "# X_data\n",
    "\n",
    "X_data = []\n",
    "for i in zip(x1_data, x2_data, x3_data):\n",
    "    X_data.append(list(i))\n",
    "    \n",
    "X_data\n",
    "\n",
    "y_data = np.reshape(y_data, (-1, 1))"
   ]
  },
  {
   "cell_type": "code",
   "execution_count": 39,
   "id": "406df19c",
   "metadata": {
    "collapsed": true
   },
   "outputs": [
    {
     "data": {
      "text/plain": [
       "array([[ 73.,  80.,  75.],\n",
       "       [ 93.,  88.,  93.],\n",
       "       [ 89.,  91.,  90.],\n",
       "       [ 96.,  98., 100.],\n",
       "       [ 73.,  66.,  70.]])"
      ]
     },
     "execution_count": 39,
     "metadata": {},
     "output_type": "execute_result"
    }
   ],
   "source": [
    "x_data = pd.DataFrame(zip(x1_data, x2_data, x3_data)).values\n",
    "x_data"
   ]
  },
  {
   "cell_type": "code",
   "execution_count": 40,
   "id": "82c43ea6",
   "metadata": {},
   "outputs": [
    {
     "data": {
      "text/plain": [
       "array([[ 73.,  80.,  75.],\n",
       "       [ 93.,  88.,  93.],\n",
       "       [ 89.,  91.,  90.],\n",
       "       [ 96.,  98., 100.],\n",
       "       [ 73.,  66.,  70.]])"
      ]
     },
     "execution_count": 40,
     "metadata": {},
     "output_type": "execute_result"
    }
   ],
   "source": [
    "datas = np.reshape([x1_data, x2_data, x3_data], (3, 5)).T\n",
    "datas"
   ]
  },
  {
   "cell_type": "code",
   "execution_count": 42,
   "id": "560f5726",
   "metadata": {},
   "outputs": [
    {
     "data": {
      "text/plain": [
       "array([[ 73.,  80.,  75.],\n",
       "       [ 93.,  88.,  93.],\n",
       "       [ 89.,  91.,  90.],\n",
       "       [ 96.,  98., 100.],\n",
       "       [ 73.,  66.,  70.]], dtype=float32)"
      ]
     },
     "execution_count": 42,
     "metadata": {},
     "output_type": "execute_result"
    }
   ],
   "source": [
    "sess = tf.Session()\n",
    "tf.stack([x1_data, x2_data, x3_data],axis=1).eval(session=sess)"
   ]
  },
  {
   "cell_type": "markdown",
   "id": "333ea045",
   "metadata": {},
   "source": [
    "## 5. 대용량 데이터 처리"
   ]
  },
  {
   "cell_type": "markdown",
   "id": "b7f175cd",
   "metadata": {},
   "source": [
    "### (1) DASK\n",
    "\n",
    "+ 가상의 데이터 프레임\n",
    "+ 병렬처리용 작업 스케줄러"
   ]
  },
  {
   "cell_type": "code",
   "execution_count": 114,
   "id": "31a07ea6",
   "metadata": {},
   "outputs": [
    {
     "name": "stdout",
     "output_type": "stream",
     "text": [
      "Overwriting data/sample1.csv\n"
     ]
    }
   ],
   "source": [
    "%%writefile \"data/sample1.csv\"\n",
    "c1, c2, c3\n",
    "1, 1.11, one\n",
    "2, 2.22, two\n",
    "3, 3.33, three\n",
    "4, 4.44, four\n",
    "5, 5.55, five\n",
    "6, 6.66, six"
   ]
  },
  {
   "cell_type": "code",
   "execution_count": 45,
   "id": "ed2843a3",
   "metadata": {},
   "outputs": [
    {
     "data": {
      "text/plain": [
       "2.22"
      ]
     },
     "execution_count": 45,
     "metadata": {},
     "output_type": "execute_result"
    }
   ],
   "source": [
    "df1 = pd.read_csv(\"data/sample1.csv\")\n",
    "df1\n",
    "\n",
    "df1[\" c2\"].mean()"
   ]
  },
  {
   "cell_type": "code",
   "execution_count": 46,
   "id": "57b26cb4",
   "metadata": {},
   "outputs": [],
   "source": [
    "import dask.dataframe as dd"
   ]
  },
  {
   "cell_type": "code",
   "execution_count": 83,
   "id": "1ba56779",
   "metadata": {},
   "outputs": [
    {
     "data": {
      "text/html": [
       "<div><strong>Dask DataFrame Structure:</strong></div>\n",
       "<div>\n",
       "<style scoped>\n",
       "    .dataframe tbody tr th:only-of-type {\n",
       "        vertical-align: middle;\n",
       "    }\n",
       "\n",
       "    .dataframe tbody tr th {\n",
       "        vertical-align: top;\n",
       "    }\n",
       "\n",
       "    .dataframe thead th {\n",
       "        text-align: right;\n",
       "    }\n",
       "</style>\n",
       "<table border=\"1\" class=\"dataframe\">\n",
       "  <thead>\n",
       "    <tr style=\"text-align: right;\">\n",
       "      <th></th>\n",
       "      <th>c1</th>\n",
       "      <th>c2</th>\n",
       "      <th>c3</th>\n",
       "    </tr>\n",
       "    <tr>\n",
       "      <th>npartitions=1</th>\n",
       "      <th></th>\n",
       "      <th></th>\n",
       "      <th></th>\n",
       "    </tr>\n",
       "  </thead>\n",
       "  <tbody>\n",
       "    <tr>\n",
       "      <th></th>\n",
       "      <td>int64</td>\n",
       "      <td>float64</td>\n",
       "      <td>object</td>\n",
       "    </tr>\n",
       "    <tr>\n",
       "      <th></th>\n",
       "      <td>...</td>\n",
       "      <td>...</td>\n",
       "      <td>...</td>\n",
       "    </tr>\n",
       "  </tbody>\n",
       "</table>\n",
       "</div>\n",
       "<div>Dask Name: read-csv, 1 tasks</div>"
      ],
      "text/plain": [
       "Dask DataFrame Structure:\n",
       "                  c1       c2      c3\n",
       "npartitions=1                        \n",
       "               int64  float64  object\n",
       "                 ...      ...     ...\n",
       "Dask Name: read-csv, 1 tasks"
      ]
     },
     "execution_count": 83,
     "metadata": {},
     "output_type": "execute_result"
    }
   ],
   "source": [
    "df2 = dd.read_csv(\"data/sample1.csv\")\n",
    "df2"
   ]
  },
  {
   "cell_type": "code",
   "execution_count": 50,
   "id": "e8bd39ca",
   "metadata": {},
   "outputs": [
    {
     "data": {
      "text/html": [
       "<div>\n",
       "<style scoped>\n",
       "    .dataframe tbody tr th:only-of-type {\n",
       "        vertical-align: middle;\n",
       "    }\n",
       "\n",
       "    .dataframe tbody tr th {\n",
       "        vertical-align: top;\n",
       "    }\n",
       "\n",
       "    .dataframe thead th {\n",
       "        text-align: right;\n",
       "    }\n",
       "</style>\n",
       "<table border=\"1\" class=\"dataframe\">\n",
       "  <thead>\n",
       "    <tr style=\"text-align: right;\">\n",
       "      <th></th>\n",
       "      <th>c1</th>\n",
       "      <th>c2</th>\n",
       "      <th>c3</th>\n",
       "    </tr>\n",
       "  </thead>\n",
       "  <tbody>\n",
       "    <tr>\n",
       "      <th>0</th>\n",
       "      <td>1</td>\n",
       "      <td>1.11</td>\n",
       "      <td>one</td>\n",
       "    </tr>\n",
       "    <tr>\n",
       "      <th>1</th>\n",
       "      <td>2</td>\n",
       "      <td>2.22</td>\n",
       "      <td>two</td>\n",
       "    </tr>\n",
       "    <tr>\n",
       "      <th>2</th>\n",
       "      <td>3</td>\n",
       "      <td>3.33</td>\n",
       "      <td>three</td>\n",
       "    </tr>\n",
       "    <tr>\n",
       "      <th>3</th>\n",
       "      <td>4</td>\n",
       "      <td>4.44</td>\n",
       "      <td>four</td>\n",
       "    </tr>\n",
       "    <tr>\n",
       "      <th>4</th>\n",
       "      <td>5</td>\n",
       "      <td>5.55</td>\n",
       "      <td>five</td>\n",
       "    </tr>\n",
       "  </tbody>\n",
       "</table>\n",
       "</div>"
      ],
      "text/plain": [
       "   c1    c2      c3\n",
       "0   1  1.11     one\n",
       "1   2  2.22     two\n",
       "2   3  3.33   three\n",
       "3   4  4.44    four\n",
       "4   5  5.55    five"
      ]
     },
     "execution_count": 50,
     "metadata": {},
     "output_type": "execute_result"
    }
   ],
   "source": [
    "df2.head()"
   ]
  },
  {
   "cell_type": "code",
   "execution_count": 53,
   "id": "839d24dd",
   "metadata": {},
   "outputs": [
    {
     "data": {
      "text/plain": [
       "3.8850000000000002"
      ]
     },
     "execution_count": 53,
     "metadata": {},
     "output_type": "execute_result"
    }
   ],
   "source": [
    "df2[\" c2\"].mean().compute()"
   ]
  },
  {
   "cell_type": "code",
   "execution_count": 56,
   "id": "946d10e2",
   "metadata": {},
   "outputs": [
    {
     "data": {
      "text/html": [
       "<div>\n",
       "<style scoped>\n",
       "    .dataframe tbody tr th:only-of-type {\n",
       "        vertical-align: middle;\n",
       "    }\n",
       "\n",
       "    .dataframe tbody tr th {\n",
       "        vertical-align: top;\n",
       "    }\n",
       "\n",
       "    .dataframe thead th {\n",
       "        text-align: right;\n",
       "    }\n",
       "</style>\n",
       "<table border=\"1\" class=\"dataframe\">\n",
       "  <thead>\n",
       "    <tr style=\"text-align: right;\">\n",
       "      <th></th>\n",
       "      <th>c1</th>\n",
       "      <th>c2</th>\n",
       "      <th>c3</th>\n",
       "      <th>c4</th>\n",
       "    </tr>\n",
       "  </thead>\n",
       "  <tbody>\n",
       "    <tr>\n",
       "      <th>0</th>\n",
       "      <td>1</td>\n",
       "      <td>100</td>\n",
       "      <td>one</td>\n",
       "      <td>200</td>\n",
       "    </tr>\n",
       "    <tr>\n",
       "      <th>1</th>\n",
       "      <td>2</td>\n",
       "      <td>100</td>\n",
       "      <td>two</td>\n",
       "      <td>200</td>\n",
       "    </tr>\n",
       "    <tr>\n",
       "      <th>2</th>\n",
       "      <td>3</td>\n",
       "      <td>100</td>\n",
       "      <td>three</td>\n",
       "      <td>200</td>\n",
       "    </tr>\n",
       "    <tr>\n",
       "      <th>3</th>\n",
       "      <td>4</td>\n",
       "      <td>100</td>\n",
       "      <td>four</td>\n",
       "      <td>200</td>\n",
       "    </tr>\n",
       "    <tr>\n",
       "      <th>4</th>\n",
       "      <td>5</td>\n",
       "      <td>100</td>\n",
       "      <td>five</td>\n",
       "      <td>200</td>\n",
       "    </tr>\n",
       "  </tbody>\n",
       "</table>\n",
       "</div>"
      ],
      "text/plain": [
       "   c1   c2      c3   c4\n",
       "0   1  100     one  200\n",
       "1   2  100     two  200\n",
       "2   3  100   three  200\n",
       "3   4  100    four  200\n",
       "4   5  100    five  200"
      ]
     },
     "execution_count": 56,
     "metadata": {},
     "output_type": "execute_result"
    }
   ],
   "source": [
    "# 변경\n",
    "df2[\" c2\"] = 100\n",
    "df2.head()\n",
    "\n",
    "# 추가\n",
    "df2[\"c4\"] = 200\n",
    "df2.head()"
   ]
  },
  {
   "cell_type": "code",
   "execution_count": 57,
   "id": "bfb63224",
   "metadata": {
    "collapsed": true
   },
   "outputs": [
    {
     "data": {
      "text/html": [
       "<div><strong>Dask DataFrame Structure:</strong></div>\n",
       "<div>\n",
       "<style scoped>\n",
       "    .dataframe tbody tr th:only-of-type {\n",
       "        vertical-align: middle;\n",
       "    }\n",
       "\n",
       "    .dataframe tbody tr th {\n",
       "        vertical-align: top;\n",
       "    }\n",
       "\n",
       "    .dataframe thead th {\n",
       "        text-align: right;\n",
       "    }\n",
       "</style>\n",
       "<table border=\"1\" class=\"dataframe\">\n",
       "  <thead>\n",
       "    <tr style=\"text-align: right;\">\n",
       "      <th></th>\n",
       "      <th>c1</th>\n",
       "      <th>c2</th>\n",
       "      <th>c3</th>\n",
       "      <th>c4</th>\n",
       "    </tr>\n",
       "    <tr>\n",
       "      <th>npartitions=1</th>\n",
       "      <th></th>\n",
       "      <th></th>\n",
       "      <th></th>\n",
       "      <th></th>\n",
       "    </tr>\n",
       "  </thead>\n",
       "  <tbody>\n",
       "    <tr>\n",
       "      <th></th>\n",
       "      <td>int64</td>\n",
       "      <td>int64</td>\n",
       "      <td>object</td>\n",
       "      <td>int64</td>\n",
       "    </tr>\n",
       "    <tr>\n",
       "      <th></th>\n",
       "      <td>...</td>\n",
       "      <td>...</td>\n",
       "      <td>...</td>\n",
       "      <td>...</td>\n",
       "    </tr>\n",
       "  </tbody>\n",
       "</table>\n",
       "</div>\n",
       "<div>Dask Name: assign, 6 tasks</div>"
      ],
      "text/plain": [
       "Dask DataFrame Structure:\n",
       "                  c1     c2      c3     c4\n",
       "npartitions=1                             \n",
       "               int64  int64  object  int64\n",
       "                 ...    ...     ...    ...\n",
       "Dask Name: assign, 6 tasks"
      ]
     },
     "execution_count": 57,
     "metadata": {},
     "output_type": "execute_result"
    }
   ],
   "source": [
    "df2"
   ]
  },
  {
   "cell_type": "code",
   "execution_count": 60,
   "id": "2ca8f25d",
   "metadata": {
    "collapsed": true
   },
   "outputs": [
    {
     "data": {
      "text/html": [
       "<div><strong>Dask DataFrame Structure:</strong></div>\n",
       "<div>\n",
       "<style scoped>\n",
       "    .dataframe tbody tr th:only-of-type {\n",
       "        vertical-align: middle;\n",
       "    }\n",
       "\n",
       "    .dataframe tbody tr th {\n",
       "        vertical-align: top;\n",
       "    }\n",
       "\n",
       "    .dataframe thead th {\n",
       "        text-align: right;\n",
       "    }\n",
       "</style>\n",
       "<table border=\"1\" class=\"dataframe\">\n",
       "  <thead>\n",
       "    <tr style=\"text-align: right;\">\n",
       "      <th></th>\n",
       "      <th>ID</th>\n",
       "      <th>Case Number</th>\n",
       "      <th>Date</th>\n",
       "      <th>Block</th>\n",
       "      <th>IUCR</th>\n",
       "      <th>Primary Type</th>\n",
       "      <th>Description</th>\n",
       "      <th>Location Description</th>\n",
       "      <th>Arrest</th>\n",
       "      <th>Domestic</th>\n",
       "      <th>Beat</th>\n",
       "      <th>District</th>\n",
       "      <th>Ward</th>\n",
       "      <th>Community Area</th>\n",
       "      <th>FBI Code</th>\n",
       "      <th>X Coordinate</th>\n",
       "      <th>Y Coordinate</th>\n",
       "      <th>Year</th>\n",
       "      <th>Updated On</th>\n",
       "      <th>Latitude</th>\n",
       "      <th>Longitude</th>\n",
       "      <th>Location</th>\n",
       "      <th>Historical Wards 2003-2015</th>\n",
       "      <th>Zip Codes</th>\n",
       "      <th>Community Areas</th>\n",
       "      <th>Census Tracts</th>\n",
       "      <th>Wards</th>\n",
       "      <th>Boundaries - ZIP Codes</th>\n",
       "      <th>Police Districts</th>\n",
       "      <th>Police Beats</th>\n",
       "    </tr>\n",
       "    <tr>\n",
       "      <th>npartitions=29</th>\n",
       "      <th></th>\n",
       "      <th></th>\n",
       "      <th></th>\n",
       "      <th></th>\n",
       "      <th></th>\n",
       "      <th></th>\n",
       "      <th></th>\n",
       "      <th></th>\n",
       "      <th></th>\n",
       "      <th></th>\n",
       "      <th></th>\n",
       "      <th></th>\n",
       "      <th></th>\n",
       "      <th></th>\n",
       "      <th></th>\n",
       "      <th></th>\n",
       "      <th></th>\n",
       "      <th></th>\n",
       "      <th></th>\n",
       "      <th></th>\n",
       "      <th></th>\n",
       "      <th></th>\n",
       "      <th></th>\n",
       "      <th></th>\n",
       "      <th></th>\n",
       "      <th></th>\n",
       "      <th></th>\n",
       "      <th></th>\n",
       "      <th></th>\n",
       "      <th></th>\n",
       "    </tr>\n",
       "  </thead>\n",
       "  <tbody>\n",
       "    <tr>\n",
       "      <th></th>\n",
       "      <td>object</td>\n",
       "      <td>object</td>\n",
       "      <td>object</td>\n",
       "      <td>object</td>\n",
       "      <td>object</td>\n",
       "      <td>object</td>\n",
       "      <td>object</td>\n",
       "      <td>object</td>\n",
       "      <td>object</td>\n",
       "      <td>object</td>\n",
       "      <td>object</td>\n",
       "      <td>object</td>\n",
       "      <td>object</td>\n",
       "      <td>object</td>\n",
       "      <td>object</td>\n",
       "      <td>object</td>\n",
       "      <td>object</td>\n",
       "      <td>object</td>\n",
       "      <td>object</td>\n",
       "      <td>object</td>\n",
       "      <td>object</td>\n",
       "      <td>object</td>\n",
       "      <td>object</td>\n",
       "      <td>object</td>\n",
       "      <td>object</td>\n",
       "      <td>object</td>\n",
       "      <td>object</td>\n",
       "      <td>object</td>\n",
       "      <td>object</td>\n",
       "      <td>object</td>\n",
       "    </tr>\n",
       "    <tr>\n",
       "      <th></th>\n",
       "      <td>...</td>\n",
       "      <td>...</td>\n",
       "      <td>...</td>\n",
       "      <td>...</td>\n",
       "      <td>...</td>\n",
       "      <td>...</td>\n",
       "      <td>...</td>\n",
       "      <td>...</td>\n",
       "      <td>...</td>\n",
       "      <td>...</td>\n",
       "      <td>...</td>\n",
       "      <td>...</td>\n",
       "      <td>...</td>\n",
       "      <td>...</td>\n",
       "      <td>...</td>\n",
       "      <td>...</td>\n",
       "      <td>...</td>\n",
       "      <td>...</td>\n",
       "      <td>...</td>\n",
       "      <td>...</td>\n",
       "      <td>...</td>\n",
       "      <td>...</td>\n",
       "      <td>...</td>\n",
       "      <td>...</td>\n",
       "      <td>...</td>\n",
       "      <td>...</td>\n",
       "      <td>...</td>\n",
       "      <td>...</td>\n",
       "      <td>...</td>\n",
       "      <td>...</td>\n",
       "    </tr>\n",
       "    <tr>\n",
       "      <th>...</th>\n",
       "      <td>...</td>\n",
       "      <td>...</td>\n",
       "      <td>...</td>\n",
       "      <td>...</td>\n",
       "      <td>...</td>\n",
       "      <td>...</td>\n",
       "      <td>...</td>\n",
       "      <td>...</td>\n",
       "      <td>...</td>\n",
       "      <td>...</td>\n",
       "      <td>...</td>\n",
       "      <td>...</td>\n",
       "      <td>...</td>\n",
       "      <td>...</td>\n",
       "      <td>...</td>\n",
       "      <td>...</td>\n",
       "      <td>...</td>\n",
       "      <td>...</td>\n",
       "      <td>...</td>\n",
       "      <td>...</td>\n",
       "      <td>...</td>\n",
       "      <td>...</td>\n",
       "      <td>...</td>\n",
       "      <td>...</td>\n",
       "      <td>...</td>\n",
       "      <td>...</td>\n",
       "      <td>...</td>\n",
       "      <td>...</td>\n",
       "      <td>...</td>\n",
       "      <td>...</td>\n",
       "    </tr>\n",
       "    <tr>\n",
       "      <th></th>\n",
       "      <td>...</td>\n",
       "      <td>...</td>\n",
       "      <td>...</td>\n",
       "      <td>...</td>\n",
       "      <td>...</td>\n",
       "      <td>...</td>\n",
       "      <td>...</td>\n",
       "      <td>...</td>\n",
       "      <td>...</td>\n",
       "      <td>...</td>\n",
       "      <td>...</td>\n",
       "      <td>...</td>\n",
       "      <td>...</td>\n",
       "      <td>...</td>\n",
       "      <td>...</td>\n",
       "      <td>...</td>\n",
       "      <td>...</td>\n",
       "      <td>...</td>\n",
       "      <td>...</td>\n",
       "      <td>...</td>\n",
       "      <td>...</td>\n",
       "      <td>...</td>\n",
       "      <td>...</td>\n",
       "      <td>...</td>\n",
       "      <td>...</td>\n",
       "      <td>...</td>\n",
       "      <td>...</td>\n",
       "      <td>...</td>\n",
       "      <td>...</td>\n",
       "      <td>...</td>\n",
       "    </tr>\n",
       "    <tr>\n",
       "      <th></th>\n",
       "      <td>...</td>\n",
       "      <td>...</td>\n",
       "      <td>...</td>\n",
       "      <td>...</td>\n",
       "      <td>...</td>\n",
       "      <td>...</td>\n",
       "      <td>...</td>\n",
       "      <td>...</td>\n",
       "      <td>...</td>\n",
       "      <td>...</td>\n",
       "      <td>...</td>\n",
       "      <td>...</td>\n",
       "      <td>...</td>\n",
       "      <td>...</td>\n",
       "      <td>...</td>\n",
       "      <td>...</td>\n",
       "      <td>...</td>\n",
       "      <td>...</td>\n",
       "      <td>...</td>\n",
       "      <td>...</td>\n",
       "      <td>...</td>\n",
       "      <td>...</td>\n",
       "      <td>...</td>\n",
       "      <td>...</td>\n",
       "      <td>...</td>\n",
       "      <td>...</td>\n",
       "      <td>...</td>\n",
       "      <td>...</td>\n",
       "      <td>...</td>\n",
       "      <td>...</td>\n",
       "    </tr>\n",
       "  </tbody>\n",
       "</table>\n",
       "</div>\n",
       "<div>Dask Name: read-csv, 29 tasks</div>"
      ],
      "text/plain": [
       "Dask DataFrame Structure:\n",
       "                    ID Case Number    Date   Block    IUCR Primary Type Description Location Description  Arrest Domestic    Beat District    Ward Community Area FBI Code X Coordinate Y Coordinate    Year Updated On Latitude Longitude Location Historical Wards 2003-2015 Zip Codes Community Areas Census Tracts   Wards Boundaries - ZIP Codes Police Districts Police Beats\n",
       "npartitions=29                                                                                                                                                                                                                                                                                                                                                                     \n",
       "                object      object  object  object  object       object      object               object  object   object  object   object  object         object   object       object       object  object     object   object    object   object                     object    object          object        object  object                 object           object       object\n",
       "                   ...         ...     ...     ...     ...          ...         ...                  ...     ...      ...     ...      ...     ...            ...      ...          ...          ...     ...        ...      ...       ...      ...                        ...       ...             ...           ...     ...                    ...              ...          ...\n",
       "...                ...         ...     ...     ...     ...          ...         ...                  ...     ...      ...     ...      ...     ...            ...      ...          ...          ...     ...        ...      ...       ...      ...                        ...       ...             ...           ...     ...                    ...              ...          ...\n",
       "                   ...         ...     ...     ...     ...          ...         ...                  ...     ...      ...     ...      ...     ...            ...      ...          ...          ...     ...        ...      ...       ...      ...                        ...       ...             ...           ...     ...                    ...              ...          ...\n",
       "                   ...         ...     ...     ...     ...          ...         ...                  ...     ...      ...     ...      ...     ...            ...      ...          ...          ...     ...        ...      ...       ...      ...                        ...       ...             ...           ...     ...                    ...              ...          ...\n",
       "Dask Name: read-csv, 29 tasks"
      ]
     },
     "execution_count": 60,
     "metadata": {},
     "output_type": "execute_result"
    }
   ],
   "source": [
    "df3 = dd.read_csv(\"data/crime.csv\", dtype=str, error_bad_lines=False, warn_bad_lines=False)\n",
    "df3"
   ]
  },
  {
   "cell_type": "code",
   "execution_count": 63,
   "id": "e8b10e93",
   "metadata": {
    "collapsed": true
   },
   "outputs": [
    {
     "data": {
      "text/plain": [
       "ID                            6954279\n",
       "Case Number                   6954275\n",
       "Date                          6954279\n",
       "Block                         6954279\n",
       "IUCR                          6954279\n",
       "Primary Type                  6954279\n",
       "Description                   6954279\n",
       "Location Description          6948835\n",
       "Arrest                        6954279\n",
       "Domestic                      6954279\n",
       "Beat                          6954279\n",
       "District                      6954232\n",
       "Ward                          6339453\n",
       "Community Area                6340784\n",
       "FBI Code                      6954279\n",
       "X Coordinate                  6888372\n",
       "Y Coordinate                  6888372\n",
       "Year                          6954279\n",
       "Updated On                    6954279\n",
       "Latitude                      6888372\n",
       "Longitude                     6888372\n",
       "Location                      6888372\n",
       "Historical Wards 2003-2015    6868367\n",
       "Zip Codes                     6888372\n",
       "Community Areas               6871115\n",
       "Census Tracts                 6873256\n",
       "Wards                         6871227\n",
       "Boundaries - ZIP Codes        6871162\n",
       "Police Districts              6872194\n",
       "Police Beats                  6872217\n",
       "dtype: int64"
      ]
     },
     "execution_count": 63,
     "metadata": {},
     "output_type": "execute_result"
    }
   ],
   "source": [
    "df3.head()\n",
    "df3.tail()\n",
    "df3.count().compute()"
   ]
  },
  {
   "cell_type": "code",
   "execution_count": 64,
   "id": "3098a925",
   "metadata": {},
   "outputs": [],
   "source": [
    "from dask.diagnostics import ProgressBar\n",
    "pbar = ProgressBar()\n",
    "pbar.register()"
   ]
  },
  {
   "cell_type": "code",
   "execution_count": 65,
   "id": "30b03ddc",
   "metadata": {
    "collapsed": true
   },
   "outputs": [
    {
     "name": "stdout",
     "output_type": "stream",
     "text": [
      "[########################################] | 100% Completed | 37.1s\n",
      "Wall time: 37.1 s\n"
     ]
    },
    {
     "data": {
      "text/plain": [
       "ID                            6954279\n",
       "Case Number                   6954275\n",
       "Date                          6954279\n",
       "Block                         6954279\n",
       "IUCR                          6954279\n",
       "Primary Type                  6954279\n",
       "Description                   6954279\n",
       "Location Description          6948835\n",
       "Arrest                        6954279\n",
       "Domestic                      6954279\n",
       "Beat                          6954279\n",
       "District                      6954232\n",
       "Ward                          6339453\n",
       "Community Area                6340784\n",
       "FBI Code                      6954279\n",
       "X Coordinate                  6888372\n",
       "Y Coordinate                  6888372\n",
       "Year                          6954279\n",
       "Updated On                    6954279\n",
       "Latitude                      6888372\n",
       "Longitude                     6888372\n",
       "Location                      6888372\n",
       "Historical Wards 2003-2015    6868367\n",
       "Zip Codes                     6888372\n",
       "Community Areas               6871115\n",
       "Census Tracts                 6873256\n",
       "Wards                         6871227\n",
       "Boundaries - ZIP Codes        6871162\n",
       "Police Districts              6872194\n",
       "Police Beats                  6872217\n",
       "dtype: int64"
      ]
     },
     "execution_count": 65,
     "metadata": {},
     "output_type": "execute_result"
    }
   ],
   "source": [
    "%%time\n",
    "df3.count().compute()"
   ]
  },
  {
   "cell_type": "code",
   "execution_count": 67,
   "id": "91b8d549",
   "metadata": {
    "collapsed": true
   },
   "outputs": [
    {
     "name": "stdout",
     "output_type": "stream",
     "text": [
      "[########################################] | 100% Completed | 29.1s\n",
      "Wall time: 29.3 s\n"
     ]
    },
    {
     "data": {
      "text/plain": [
       "ID                            6954279\n",
       "Case Number                   6954275\n",
       "Date                          6954279\n",
       "Block                         6954279\n",
       "IUCR                          6954279\n",
       "Primary Type                  6954279\n",
       "Description                   6954279\n",
       "Location Description          6948835\n",
       "Arrest                        6954279\n",
       "Domestic                      6954279\n",
       "Beat                          6954279\n",
       "District                      6954232\n",
       "Ward                          6339453\n",
       "Community Area                6340784\n",
       "FBI Code                      6954279\n",
       "X Coordinate                  6888372\n",
       "Y Coordinate                  6888372\n",
       "Year                          6954279\n",
       "Updated On                    6954279\n",
       "Latitude                      6888372\n",
       "Longitude                     6888372\n",
       "Location                      6888372\n",
       "Historical Wards 2003-2015    6868367\n",
       "Zip Codes                     6888372\n",
       "Community Areas               6871115\n",
       "Census Tracts                 6873256\n",
       "Wards                         6871227\n",
       "Boundaries - ZIP Codes        6871162\n",
       "Police Districts              6872194\n",
       "Police Beats                  6872217\n",
       "dtype: int64"
      ]
     },
     "execution_count": 67,
     "metadata": {},
     "output_type": "execute_result"
    }
   ],
   "source": [
    "%%time\n",
    "df3.count().compute(scheduler=\"processes\", num_workers=8)"
   ]
  },
  {
   "cell_type": "code",
   "execution_count": 84,
   "id": "328b2a0a",
   "metadata": {},
   "outputs": [],
   "source": [
    "##### 복수 개의 데이터 처리"
   ]
  },
  {
   "cell_type": "code",
   "execution_count": 115,
   "id": "c21ef65c",
   "metadata": {},
   "outputs": [
    {
     "name": "stdout",
     "output_type": "stream",
     "text": [
      "Overwriting data/sample2.csv\n"
     ]
    }
   ],
   "source": [
    "%%writefile \"data/sample2.csv\"\n",
    "c1, c2, c3\n",
    "7, 7.77, seven\n",
    "8, 8.88, eight\n",
    "9, 9.99, nine"
   ]
  },
  {
   "cell_type": "code",
   "execution_count": 87,
   "id": "9c002f34",
   "metadata": {},
   "outputs": [],
   "source": [
    "df4 = dd.read_csv(\"data/sample*.csv\")"
   ]
  },
  {
   "cell_type": "code",
   "execution_count": 88,
   "id": "d7324070",
   "metadata": {},
   "outputs": [
    {
     "name": "stdout",
     "output_type": "stream",
     "text": [
      "[########################################] | 100% Completed |  0.1s\n"
     ]
    },
    {
     "data": {
      "text/plain": [
       "c1     9\n",
       " c2    9\n",
       " c3    9\n",
       "dtype: int64"
      ]
     },
     "execution_count": 88,
     "metadata": {},
     "output_type": "execute_result"
    }
   ],
   "source": [
    "df4.count().compute()"
   ]
  },
  {
   "cell_type": "markdown",
   "id": "d98e05e0",
   "metadata": {},
   "source": [
    "### (2) QueueRunner"
   ]
  },
  {
   "cell_type": "markdown",
   "id": "1b0f5ad5",
   "metadata": {},
   "source": [
    "##### 1) 간단한 예제 1\n",
    "\n",
    "+ enqueue_many와 dequeue"
   ]
  },
  {
   "cell_type": "code",
   "execution_count": 95,
   "id": "232575e3",
   "metadata": {
    "collapsed": true
   },
   "outputs": [
    {
     "name": "stdout",
     "output_type": "stream",
     "text": [
      "1.0\n",
      "2.0\n",
      "3.0\n",
      "4.0\n",
      "5.0\n",
      "6.0\n",
      "7.0\n",
      "8.0\n",
      "9.0\n",
      "4.0\n",
      "5.0\n",
      "6.0\n",
      "1.0\n",
      "2.0\n",
      "3.0\n",
      "7.0\n",
      "8.0\n",
      "9.0\n",
      "4.0\n",
      "5.0\n"
     ]
    }
   ],
   "source": [
    "##### queue의 길이와 저장될 데이터 형식\n",
    "q = tf.FIFOQueue(20, \"float\")\n",
    "\n",
    "# enc_ops = q.enqueue_many(([1.0, 2.0, 3.0, 4.0],))\n",
    "# qr = tf.train.QueueRunner(q, [enc_ops]*3)\n",
    "\n",
    "enc_ops1 = q.enqueue_many(([1.0, 2.0, 3.0],))\n",
    "enc_ops2 = q.enqueue_many(([4.0, 5.0, 6.0],))\n",
    "enc_ops3 = q.enqueue_many(([7.0, 8.0, 9.0],))\n",
    "qr = tf.train.QueueRunner(q, [enc_ops1, enc_ops2, enc_ops3])\n",
    "\n",
    "sess = tf.Session()\n",
    "coordi = tf.train.Coordinator()\n",
    "threads = qr.create_threads(sess, coord=coordi, start=True)\n",
    "\n",
    "for step in range(20):\n",
    "    print(sess.run(q.dequeue()))\n",
    "\n",
    "coordi.request_stop()\n",
    "coordi.join(threads)\n",
    "sess.close()"
   ]
  },
  {
   "cell_type": "markdown",
   "id": "f00604b7",
   "metadata": {},
   "source": [
    "##### 2) 파일로부터 데이터 불러오기"
   ]
  },
  {
   "cell_type": "code",
   "execution_count": 116,
   "id": "6056a104",
   "metadata": {},
   "outputs": [],
   "source": [
    "# sample1, sample2 파일 불러올 때 변수명 삭제하기(c1, c2, c3)\n",
    "filename_queue = tf.train.string_input_producer([\"data/sample1.csv\", \"data/sample2.csv\"],\n",
    "                                               shuffle=False, name=\"filename_queue\")\n",
    "\n",
    "reader = tf.TextLineReader()\n",
    "key, value = reader.read(filename_queue)\n",
    "\n",
    "recored_defaults = [[0], [0.0], [\"null\"]]\n",
    "a1, a2, a3 = tf.decode_csv(value, record_defaults=recored_defaults, field_delim=\",\")"
   ]
  },
  {
   "cell_type": "code",
   "execution_count": 117,
   "id": "e44e6f37",
   "metadata": {
    "collapsed": true
   },
   "outputs": [
    {
     "name": "stdout",
     "output_type": "stream",
     "text": [
      "[1, 1.11, b' one']\n",
      "[2, 2.22, b' two']\n",
      "[3, 3.33, b' three']\n",
      "[4, 4.44, b' four']\n",
      "[5, 5.55, b' five']\n",
      "[6, 6.66, b' six']\n",
      "[7, 7.77, b' seven']\n",
      "[8, 8.88, b' eight']\n",
      "[9, 9.99, b' nine']\n",
      "[1, 1.11, b' one']\n",
      "[2, 2.22, b' two']\n",
      "[3, 3.33, b' three']\n",
      "[4, 4.44, b' four']\n",
      "[5, 5.55, b' five']\n",
      "[6, 6.66, b' six']\n",
      "[7, 7.77, b' seven']\n",
      "[8, 8.88, b' eight']\n",
      "[9, 9.99, b' nine']\n",
      "[1, 1.11, b' one']\n",
      "[2, 2.22, b' two']\n",
      "[3, 3.33, b' three']\n",
      "[4, 4.44, b' four']\n",
      "[5, 5.55, b' five']\n",
      "[6, 6.66, b' six']\n",
      "[7, 7.77, b' seven']\n",
      "[8, 8.88, b' eight']\n",
      "[9, 9.99, b' nine']\n",
      "[1, 1.11, b' one']\n",
      "[2, 2.22, b' two']\n",
      "[3, 3.33, b' three']\n"
     ]
    }
   ],
   "source": [
    "sess = tf.Session()\n",
    "coordi = tf.train.Coordinator()\n",
    "threads = tf.train.start_queue_runners(sess=sess, coord=coordi)\n",
    "\n",
    "for i in range(30):\n",
    "    print(sess.run([a1, a2, a3]))\n",
    "    \n",
    "coordi.request_stop()\n",
    "coordi.join(threads)\n",
    "sess.close()"
   ]
  },
  {
   "cell_type": "markdown",
   "id": "c4557df5",
   "metadata": {},
   "source": [
    "##### 3) 슬라이드 소스보기"
   ]
  },
  {
   "cell_type": "code",
   "execution_count": 118,
   "id": "19370124",
   "metadata": {},
   "outputs": [],
   "source": [
    "filename_queue = tf.train.string_input_producer(['data/data-01-test-score.csv'], shuffle=False, \n",
    "                                                name='filename_queue')\n",
    "\n",
    "reader = tf.TextLineReader()\n",
    "key, value = reader.read(filename_queue)\n",
    "\n",
    "record_defaults = [[0.], [0.], [0.], [0.]]\n",
    "xy = tf.decode_csv(value, record_defaults=record_defaults)"
   ]
  },
  {
   "cell_type": "code",
   "execution_count": null,
   "id": "c1efb9d5",
   "metadata": {},
   "outputs": [],
   "source": [
    "\"\"\"\n",
    "BATCH\n",
    "-------\n",
    "- Full Batch 또는 Batch : 전체 데이터\n",
    "    - 샘플 전체를 계산하므로 시간이 많이 걸린다.\n",
    "    - 데이터가 많을 경우(한번에 데이터를 메모리에 load하지 못하는 경우) 사용이 불가\n",
    "    - 오차율이 적다.\n",
    "    \n",
    "- Stochastic Gradient Descent: 한 개의 데이터\n",
    "    - 데이터를 한개씩 추출해서 처리해보고 이를 모든 데이터에 반복\n",
    "    - 오차율이 클 수 있다.\n",
    "    - 하드웨어 성능을 제대로 발휘할 수 없다.(특히 GPU)\n",
    "\n",
    "- Mini Batch\n",
    "    - 전체 훈련데이터를 배치 사이즈로 등분하여 각 배치 셋을 순차적으로 수행\n",
    "    - Full Batch보다 빠르고 SGD보다 오차율도 낮다.\n",
    "\"\"\""
   ]
  },
  {
   "cell_type": "code",
   "execution_count": null,
   "id": "76ee28c2",
   "metadata": {},
   "outputs": [],
   "source": [
    "tf.train.batch([xy[0:-1], xy[-1:]], batch_size=10)"
   ]
  },
  {
   "cell_type": "code",
   "execution_count": null,
   "id": "11c4fbaa",
   "metadata": {},
   "outputs": [],
   "source": []
  },
  {
   "cell_type": "code",
   "execution_count": null,
   "id": "796cc30c",
   "metadata": {},
   "outputs": [],
   "source": []
  },
  {
   "cell_type": "code",
   "execution_count": null,
   "id": "691d0d0f",
   "metadata": {},
   "outputs": [],
   "source": []
  },
  {
   "cell_type": "code",
   "execution_count": null,
   "id": "1a0550b9",
   "metadata": {},
   "outputs": [],
   "source": []
  },
  {
   "cell_type": "code",
   "execution_count": null,
   "id": "2ebdb22d",
   "metadata": {},
   "outputs": [],
   "source": []
  },
  {
   "cell_type": "code",
   "execution_count": null,
   "id": "f6731a15",
   "metadata": {},
   "outputs": [],
   "source": []
  },
  {
   "cell_type": "code",
   "execution_count": null,
   "id": "7cdc3346",
   "metadata": {},
   "outputs": [],
   "source": []
  },
  {
   "cell_type": "code",
   "execution_count": null,
   "id": "d4c90b5c",
   "metadata": {},
   "outputs": [],
   "source": []
  },
  {
   "cell_type": "code",
   "execution_count": null,
   "id": "69db2340",
   "metadata": {},
   "outputs": [],
   "source": []
  },
  {
   "cell_type": "code",
   "execution_count": null,
   "id": "7e4dd3fc",
   "metadata": {},
   "outputs": [],
   "source": []
  },
  {
   "cell_type": "code",
   "execution_count": null,
   "id": "ba55912b",
   "metadata": {},
   "outputs": [],
   "source": []
  },
  {
   "cell_type": "code",
   "execution_count": null,
   "id": "c36d70c4",
   "metadata": {},
   "outputs": [],
   "source": []
  },
  {
   "cell_type": "code",
   "execution_count": null,
   "id": "6b399b2a",
   "metadata": {},
   "outputs": [],
   "source": []
  },
  {
   "cell_type": "code",
   "execution_count": null,
   "id": "41a540fb",
   "metadata": {},
   "outputs": [],
   "source": []
  },
  {
   "cell_type": "code",
   "execution_count": null,
   "id": "099e4fae",
   "metadata": {},
   "outputs": [],
   "source": []
  },
  {
   "cell_type": "code",
   "execution_count": null,
   "id": "18b3143e",
   "metadata": {},
   "outputs": [],
   "source": []
  },
  {
   "cell_type": "code",
   "execution_count": null,
   "id": "2568f9db",
   "metadata": {},
   "outputs": [],
   "source": []
  },
  {
   "cell_type": "code",
   "execution_count": null,
   "id": "be368116",
   "metadata": {},
   "outputs": [],
   "source": []
  },
  {
   "cell_type": "code",
   "execution_count": null,
   "id": "e3271838",
   "metadata": {},
   "outputs": [],
   "source": []
  },
  {
   "cell_type": "code",
   "execution_count": null,
   "id": "14b025ee",
   "metadata": {},
   "outputs": [],
   "source": []
  },
  {
   "cell_type": "code",
   "execution_count": null,
   "id": "f7636b45",
   "metadata": {},
   "outputs": [],
   "source": []
  },
  {
   "cell_type": "code",
   "execution_count": null,
   "id": "24b86df9",
   "metadata": {},
   "outputs": [],
   "source": []
  },
  {
   "cell_type": "code",
   "execution_count": null,
   "id": "47391b04",
   "metadata": {},
   "outputs": [],
   "source": []
  },
  {
   "cell_type": "code",
   "execution_count": null,
   "id": "235d8823",
   "metadata": {},
   "outputs": [],
   "source": []
  },
  {
   "cell_type": "code",
   "execution_count": null,
   "id": "e781b75d",
   "metadata": {},
   "outputs": [],
   "source": []
  },
  {
   "cell_type": "code",
   "execution_count": null,
   "id": "b659549f",
   "metadata": {},
   "outputs": [],
   "source": []
  },
  {
   "cell_type": "code",
   "execution_count": null,
   "id": "2947dd6c",
   "metadata": {},
   "outputs": [],
   "source": []
  },
  {
   "cell_type": "code",
   "execution_count": null,
   "id": "6ea9025e",
   "metadata": {},
   "outputs": [],
   "source": []
  },
  {
   "cell_type": "code",
   "execution_count": null,
   "id": "3559ceb1",
   "metadata": {},
   "outputs": [],
   "source": []
  },
  {
   "cell_type": "code",
   "execution_count": null,
   "id": "f32df7a3",
   "metadata": {},
   "outputs": [],
   "source": []
  },
  {
   "cell_type": "code",
   "execution_count": null,
   "id": "c43c5a20",
   "metadata": {},
   "outputs": [],
   "source": []
  },
  {
   "cell_type": "code",
   "execution_count": null,
   "id": "01444f35",
   "metadata": {},
   "outputs": [],
   "source": []
  },
  {
   "cell_type": "code",
   "execution_count": null,
   "id": "cb248f7b",
   "metadata": {},
   "outputs": [],
   "source": []
  },
  {
   "cell_type": "code",
   "execution_count": null,
   "id": "fc1e22e9",
   "metadata": {},
   "outputs": [],
   "source": []
  },
  {
   "cell_type": "code",
   "execution_count": null,
   "id": "7a24faf5",
   "metadata": {},
   "outputs": [],
   "source": []
  },
  {
   "cell_type": "code",
   "execution_count": null,
   "id": "2aaa05d2",
   "metadata": {},
   "outputs": [],
   "source": []
  },
  {
   "cell_type": "code",
   "execution_count": null,
   "id": "6d2b7ed7",
   "metadata": {},
   "outputs": [],
   "source": []
  },
  {
   "cell_type": "code",
   "execution_count": null,
   "id": "87285055",
   "metadata": {},
   "outputs": [],
   "source": []
  },
  {
   "cell_type": "code",
   "execution_count": null,
   "id": "50c635a6",
   "metadata": {},
   "outputs": [],
   "source": []
  },
  {
   "cell_type": "code",
   "execution_count": null,
   "id": "9c7ad057",
   "metadata": {},
   "outputs": [],
   "source": []
  },
  {
   "cell_type": "code",
   "execution_count": null,
   "id": "6c85ec19",
   "metadata": {},
   "outputs": [],
   "source": []
  },
  {
   "cell_type": "code",
   "execution_count": null,
   "id": "d5883f6a",
   "metadata": {},
   "outputs": [],
   "source": []
  },
  {
   "cell_type": "code",
   "execution_count": null,
   "id": "c616973a",
   "metadata": {},
   "outputs": [],
   "source": []
  },
  {
   "cell_type": "code",
   "execution_count": null,
   "id": "644bbfcd",
   "metadata": {},
   "outputs": [],
   "source": []
  },
  {
   "cell_type": "code",
   "execution_count": null,
   "id": "d262d183",
   "metadata": {},
   "outputs": [],
   "source": []
  },
  {
   "cell_type": "code",
   "execution_count": null,
   "id": "cc9a4444",
   "metadata": {},
   "outputs": [],
   "source": []
  },
  {
   "cell_type": "code",
   "execution_count": null,
   "id": "f10a9eab",
   "metadata": {},
   "outputs": [],
   "source": []
  },
  {
   "cell_type": "code",
   "execution_count": null,
   "id": "64155fe1",
   "metadata": {},
   "outputs": [],
   "source": []
  },
  {
   "cell_type": "code",
   "execution_count": null,
   "id": "d9ad1b1f",
   "metadata": {},
   "outputs": [],
   "source": []
  },
  {
   "cell_type": "code",
   "execution_count": null,
   "id": "2e3ebe6e",
   "metadata": {},
   "outputs": [],
   "source": []
  },
  {
   "cell_type": "code",
   "execution_count": null,
   "id": "a623d02a",
   "metadata": {},
   "outputs": [],
   "source": []
  },
  {
   "cell_type": "code",
   "execution_count": null,
   "id": "391ec19d",
   "metadata": {},
   "outputs": [],
   "source": []
  },
  {
   "cell_type": "code",
   "execution_count": null,
   "id": "464f6532",
   "metadata": {},
   "outputs": [],
   "source": []
  },
  {
   "cell_type": "code",
   "execution_count": null,
   "id": "543f4191",
   "metadata": {},
   "outputs": [],
   "source": []
  },
  {
   "cell_type": "code",
   "execution_count": null,
   "id": "c78ea617",
   "metadata": {},
   "outputs": [],
   "source": []
  },
  {
   "cell_type": "code",
   "execution_count": null,
   "id": "6c23be98",
   "metadata": {},
   "outputs": [],
   "source": []
  },
  {
   "cell_type": "code",
   "execution_count": null,
   "id": "c1f5d05d",
   "metadata": {},
   "outputs": [],
   "source": []
  },
  {
   "cell_type": "code",
   "execution_count": null,
   "id": "f7f20dba",
   "metadata": {},
   "outputs": [],
   "source": []
  },
  {
   "cell_type": "code",
   "execution_count": null,
   "id": "b58165c0",
   "metadata": {},
   "outputs": [],
   "source": []
  },
  {
   "cell_type": "code",
   "execution_count": null,
   "id": "2eec85e4",
   "metadata": {},
   "outputs": [],
   "source": []
  },
  {
   "cell_type": "code",
   "execution_count": null,
   "id": "0d36cd56",
   "metadata": {},
   "outputs": [],
   "source": []
  },
  {
   "cell_type": "code",
   "execution_count": null,
   "id": "49083703",
   "metadata": {},
   "outputs": [],
   "source": []
  },
  {
   "cell_type": "code",
   "execution_count": null,
   "id": "b5e0f43a",
   "metadata": {},
   "outputs": [],
   "source": []
  },
  {
   "cell_type": "code",
   "execution_count": null,
   "id": "2b17ed82",
   "metadata": {},
   "outputs": [],
   "source": []
  },
  {
   "cell_type": "code",
   "execution_count": null,
   "id": "bdf07991",
   "metadata": {},
   "outputs": [],
   "source": []
  },
  {
   "cell_type": "code",
   "execution_count": null,
   "id": "a0c2209f",
   "metadata": {},
   "outputs": [],
   "source": []
  },
  {
   "cell_type": "code",
   "execution_count": null,
   "id": "f35579b1",
   "metadata": {},
   "outputs": [],
   "source": []
  },
  {
   "cell_type": "code",
   "execution_count": null,
   "id": "8504d59d",
   "metadata": {},
   "outputs": [],
   "source": []
  }
 ],
 "metadata": {
  "kernelspec": {
   "display_name": "Python 3",
   "language": "python",
   "name": "python3"
  },
  "language_info": {
   "codemirror_mode": {
    "name": "ipython",
    "version": 3
   },
   "file_extension": ".py",
   "mimetype": "text/x-python",
   "name": "python",
   "nbconvert_exporter": "python",
   "pygments_lexer": "ipython3",
   "version": "3.7.10"
  }
 },
 "nbformat": 4,
 "nbformat_minor": 5
}
