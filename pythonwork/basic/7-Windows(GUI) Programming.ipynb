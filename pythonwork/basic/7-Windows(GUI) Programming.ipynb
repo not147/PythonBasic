{
 "cells": [
  {
   "cell_type": "markdown",
   "metadata": {},
   "source": [
    "### 모듈\n",
    "\n",
    "+ Tkinter, wxPython, PyQt, ....\n",
    "+ http://wxpython.org\n",
    "+ pip install wxPython\n",
    "\n",
    "\n",
    "### Layout Manager\n",
    "\n",
    "+ Sizer 클래스\n",
    "    - 각각의 시각적 요소에 대한 적절한 크기를 계산\n",
    "    - 특정 규칙에 따라 요소를 배치\n",
    "    - 프레임의 크기를 조정할 때 동적으로 요소의 위치를 변경\n",
    "    \n",
    "    \n",
    "+ Sizer 구현 클래스\n",
    "    - wx.BoxSizer : 가로 또는 세로로 컨트롤을 배치\n",
    "    - wx.GridSizer : 그리드와 같은 구조로 컨트롤을 배치\n",
    "    - wx.FlexGridSizer : GridSizer와 유사하나 좀 더 유연성을 가지고 있다.\n",
    "    \n",
    "    \n",
    "### Design Tool : wxFormBuilder\n",
    "\n",
    "+ https://sourceforge.net/projects/wxformbuilder/"
   ]
  },
  {
   "cell_type": "code",
   "execution_count": null,
   "metadata": {},
   "outputs": [],
   "source": []
  }
 ],
 "metadata": {
  "kernelspec": {
   "display_name": "Python 3",
   "language": "python",
   "name": "python3"
  },
  "language_info": {
   "codemirror_mode": {
    "name": "ipython",
    "version": 3
   },
   "file_extension": ".py",
   "mimetype": "text/x-python",
   "name": "python",
   "nbconvert_exporter": "python",
   "pygments_lexer": "ipython3",
   "version": "3.8.5"
  }
 },
 "nbformat": 4,
 "nbformat_minor": 4
}
