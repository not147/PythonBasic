{
 "cells": [
  {
   "cell_type": "markdown",
   "metadata": {},
   "source": [
    "### 모듈\n",
    "\n",
    "+ Tkinter, wxPython, PyQt, ....\n",
    "+ http://wxpython.org\n",
    "+ pip install wxPython\n",
    "\n",
    "\n",
    "### Layout Manager\n",
    "\n",
    "+ Sizer 클래스\n",
    "    - 각각의 시각적 요소에 대한 적절한 크기를 계산\n",
    "    - 특정 규칙에 따라 요소를 배치\n",
    "    - 프레임의 크기를 조정할 때 동적으로 요소의 위치를 변경\n",
    "    \n",
    "    \n",
    "+ Sizer 구현 클래스\n",
    "    - wx.BoxSizer : 가로 또는 세로로 컨트롤을 배치\n",
    "    - wx.GridSizer : 그리드와 같은 구조로 컨트롤을 배치\n",
    "    - wx.FlexGridSizer : GridSizer와 유사하나 좀 더 유연성을 가지고 있다.\n",
    "    \n",
    "    \n",
    "### Design Tool : wxFormBuilder\n",
    "\n",
    "+ https://sourceforge.net/projects/wxformbuilder/\n",
    "\n",
    "+ 사용법\n",
    "    - 폼 선택(메인 윈도우)\n",
    "    - 레이아웃 관리자 선택(BoxSizer클래스 선택)\n",
    "    - 컨테이너탭 선택 후 패널(wxPanel) 지정\n",
    "    - 각 패널에서 레이아웃 관리자 선택\n",
    "    - common탭을 선택하여 필요한 컨트롤 배치\n",
    "    \n",
    "    \n",
    "+ 실행파일 만들기\n",
    "\n",
    "    pip install pyinstaller\n",
    "    \n",
    "    pyinstaller -F --noconsole test8.py --hidden-import [wx]\n",
    "    \n",
    "    만약 hidden import not found가 나오면 wx모듈을 anaconda3/lib/site-packages에 복사를 해본다."
   ]
  },
  {
   "cell_type": "code",
   "execution_count": null,
   "metadata": {},
   "outputs": [],
   "source": []
  }
 ],
 "metadata": {
  "kernelspec": {
   "display_name": "Python 3",
   "language": "python",
   "name": "python3"
  },
  "language_info": {
   "codemirror_mode": {
    "name": "ipython",
    "version": 3
   },
   "file_extension": ".py",
   "mimetype": "text/x-python",
   "name": "python",
   "nbconvert_exporter": "python",
   "pygments_lexer": "ipython3",
   "version": "3.8.5"
  }
 },
 "nbformat": 4,
 "nbformat_minor": 4
}
