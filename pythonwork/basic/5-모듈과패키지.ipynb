{
 "cells": [
  {
   "cell_type": "markdown",
   "metadata": {},
   "source": [
    "### 1. 정의\n",
    "\n",
    "+ 비슷하거나 관련된 일을 하는 함수, 클래스, 상수값들을 모아서 하나의 파일에 저장하고 추후에 재사용하기 위한 목적\n",
    "+ 상수, 함수, 클래스 들을 모아놓은 파일 : .py\n",
    "\n",
    "\n",
    "\n",
    "### 2. 종류\n",
    "\n",
    "+ 표준 모듈\n",
    "+ 사용자 정의 모듈\n",
    "+ 서드 파티 모듈\n",
    "\n",
    "\n",
    "\n",
    "### 3. 선언 방법\n",
    "\n",
    "+ import 모듈\n",
    "+ import 모듈 as 별칭\n",
    "+ from 모듈 import 상수, 함수, 클래스\n",
    "+ from 모듈 import *\n",
    "+ from 모듈 import 이름 as 별칭\n",
    "\n",
    "\n",
    "\n",
    "### 4. 참조\n",
    "\n",
    "+ 같은 경로\n",
    "+ 기존 모듈 경로에 추가 : 아나콘다의 경우에는 주로 Lib/site-packages\n",
    "+ sys모듈을 이용해서 path 경로 추가\n",
    "    - sys.path.append(\"경로\")\n",
    "+ windows의 환경변수 pythonpath 추가"
   ]
  },
  {
   "cell_type": "code",
   "execution_count": null,
   "metadata": {},
   "outputs": [],
   "source": []
  },
  {
   "cell_type": "code",
   "execution_count": null,
   "metadata": {},
   "outputs": [],
   "source": []
  },
  {
   "cell_type": "code",
   "execution_count": null,
   "metadata": {},
   "outputs": [],
   "source": []
  },
  {
   "cell_type": "code",
   "execution_count": null,
   "metadata": {},
   "outputs": [],
   "source": []
  },
  {
   "cell_type": "code",
   "execution_count": null,
   "metadata": {},
   "outputs": [],
   "source": []
  },
  {
   "cell_type": "code",
   "execution_count": null,
   "metadata": {},
   "outputs": [],
   "source": []
  },
  {
   "cell_type": "code",
   "execution_count": null,
   "metadata": {},
   "outputs": [],
   "source": []
  },
  {
   "cell_type": "code",
   "execution_count": null,
   "metadata": {},
   "outputs": [],
   "source": []
  },
  {
   "cell_type": "code",
   "execution_count": null,
   "metadata": {},
   "outputs": [],
   "source": []
  },
  {
   "cell_type": "code",
   "execution_count": null,
   "metadata": {},
   "outputs": [],
   "source": []
  },
  {
   "cell_type": "code",
   "execution_count": null,
   "metadata": {},
   "outputs": [],
   "source": []
  },
  {
   "cell_type": "code",
   "execution_count": null,
   "metadata": {},
   "outputs": [],
   "source": []
  },
  {
   "cell_type": "code",
   "execution_count": null,
   "metadata": {},
   "outputs": [],
   "source": []
  },
  {
   "cell_type": "code",
   "execution_count": null,
   "metadata": {},
   "outputs": [],
   "source": []
  },
  {
   "cell_type": "code",
   "execution_count": null,
   "metadata": {},
   "outputs": [],
   "source": []
  },
  {
   "cell_type": "code",
   "execution_count": null,
   "metadata": {},
   "outputs": [],
   "source": []
  },
  {
   "cell_type": "code",
   "execution_count": null,
   "metadata": {},
   "outputs": [],
   "source": []
  }
 ],
 "metadata": {
  "kernelspec": {
   "display_name": "Python 3",
   "language": "python",
   "name": "python3"
  },
  "language_info": {
   "codemirror_mode": {
    "name": "ipython",
    "version": 3
   },
   "file_extension": ".py",
   "mimetype": "text/x-python",
   "name": "python",
   "nbconvert_exporter": "python",
   "pygments_lexer": "ipython3",
   "version": "3.8.5"
  }
 },
 "nbformat": 4,
 "nbformat_minor": 4
}
