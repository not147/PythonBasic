{
 "cells": [
  {
   "cell_type": "markdown",
   "metadata": {},
   "source": [
    "## 1. 입력 기능"
   ]
  },
  {
   "cell_type": "code",
   "execution_count": 2,
   "metadata": {},
   "outputs": [
    {
     "name": "stdout",
     "output_type": "stream",
     "text": [
      "당신의 이름은?홍길동\n",
      "안녕하세요! 홍길동님 어서 오세요\n"
     ]
    }
   ],
   "source": [
    "name = input(\"당신의 이름은?\")\n",
    "print(\"안녕하세요! {}님 어서 오세요\".format(name))"
   ]
  },
  {
   "cell_type": "code",
   "execution_count": 4,
   "metadata": {},
   "outputs": [
    {
     "name": "stdout",
     "output_type": "stream",
     "text": [
      "첫번째 숫자 : 10\n",
      "두번째 숫자 : 20\n",
      "결과 :  30\n"
     ]
    }
   ],
   "source": [
    "num1 = int(input(\"첫번째 숫자 : \"))\n",
    "num2 = int(input(\"두번째 숫자 : \"))\n",
    "\n",
    "print(\"결과 : \", num1 + num2)"
   ]
  },
  {
   "cell_type": "code",
   "execution_count": null,
   "metadata": {},
   "outputs": [],
   "source": [
    "\"\"\"\n",
    "동전 교환 프로그램\n",
    "==================\n",
    "교환할 돈은 얼마입니까? 2763 (엔터키)\n",
    "\n",
    "결과:\n",
    "오백원짜리 ===> 5개\n",
    "백원짜리 ===> 2개\n",
    "오십원짜리 ===> 1개\n",
    "십원짜리 ===> 1개\n",
    "나머지 바꾸지 못한 잔돈 ===> 3원\n",
    "\"\"\""
   ]
  },
  {
   "cell_type": "markdown",
   "metadata": {},
   "source": [
    "---\n",
    "## 2. 제어문\n",
    "\n",
    "    1) 조건문\n",
    "        - if\n",
    "        - switch\n",
    "        \n",
    "    2) 반복문\n",
    "        - while\n",
    "        - for"
   ]
  },
  {
   "cell_type": "markdown",
   "metadata": {},
   "source": [
    "---\n",
    "### (1) IF\n",
    "\n",
    "    1) if 조건식:\n",
    "           문장\n",
    "           ...\n",
    "           \n",
    "       if 조건식: 문장\n",
    "       \n",
    "    2) if 조건식:\n",
    "           문장\n",
    "           ...\n",
    "       else:\n",
    "           문장\n",
    "           ...\n",
    "           \n",
    "    3) if 조건식:\n",
    "           문장\n",
    "           ...\n",
    "       elif 조건식:\n",
    "           문장\n",
    "           ...\n",
    "       elif 조건식:\n",
    "           문장\n",
    "           ...\n",
    "      [else:\n",
    "           문장\n",
    "           ...]\n",
    "           \n",
    "    4) 조건문의 중첩(nested)\n",
    "        if 조건문:\n",
    "            문장\n",
    "            ...\n",
    "            if 조건문\n",
    "                문장\n",
    "                ..."
   ]
  },
  {
   "cell_type": "code",
   "execution_count": 8,
   "metadata": {},
   "outputs": [
    {
     "name": "stdout",
     "output_type": "stream",
     "text": [
      "숫자 : 2\n",
      "2 은 짝수\n"
     ]
    }
   ],
   "source": [
    "# 입력받은 숫자가 짝수/홀수인지 판별하는 프로그램\n",
    "\n",
    "num1 = int(input(\"숫자 : \"))\n",
    "\n",
    "if num1 % 2 == 0 :\n",
    "    print(num1, \"은 짝수\")\n",
    "    \n",
    "if num1 % 2 != 0 : print(num1, \"은 홀수\")"
   ]
  },
  {
   "cell_type": "code",
   "execution_count": null,
   "metadata": {},
   "outputs": [],
   "source": [
    "num1 = int(input(\"숫자 : \"))\n",
    "\n",
    "if num1 % 2 == 0 :\n",
    "    print(num1, \"은 짝수\")\n",
    "else:\n",
    "    print(num1, \"은 홀수\")"
   ]
  },
  {
   "cell_type": "code",
   "execution_count": 26,
   "metadata": {},
   "outputs": [
    {
     "name": "stdout",
     "output_type": "stream",
     "text": [
      "답 입력 : k\n",
      "오답\n",
      "------------------------------------------------------\n",
      "오답\n",
      "------------------------------------------------------\n",
      "오답\n",
      "------------------------------------------------------\n",
      "오답\n"
     ]
    }
   ],
   "source": [
    "# 입력받은 값이 a, b, c, d 이면 \"정답\"이라고 출력하고 그렇지 않으면 \"오답\"이라고 출력\n",
    "\n",
    "answer = input(\"답 입력 : \")\n",
    "\n",
    "if answer==\"a\" or answer==\"b\" or answer==\"c\" or answer==\"d\":\n",
    "    print(\"정답\")\n",
    "else:\n",
    "    print(\"오답\")\n",
    "    \n",
    "print(\"------------------------------------------------------\")\n",
    "\n",
    "if answer in ['a', 'b', 'c', 'd']:\n",
    "    print(\"정답\")\n",
    "else:\n",
    "    print(\"오답\")\n",
    "    \n",
    "print(\"------------------------------------------------------\")\n",
    "\n",
    "correct = ('a', 'b', 'c', 'd')\n",
    "if correct.count(answer) > 0:\n",
    "    print(\"정답\")\n",
    "else:\n",
    "    print(\"오답\")\n",
    "    \n",
    "print(\"------------------------------------------------------\")\n",
    "\n",
    "if answer >= 'a' and answer <= 'd':\n",
    "    print(\"정답\")\n",
    "else:\n",
    "    print(\"오답\")"
   ]
  },
  {
   "cell_type": "code",
   "execution_count": 24,
   "metadata": {},
   "outputs": [
    {
     "name": "stdout",
     "output_type": "stream",
     "text": [
      "97 98 65 66\n",
      "a b A B\n"
     ]
    }
   ],
   "source": [
    "print(ord('a'), ord('b'), ord('A'), ord('B'))\n",
    "print(chr(97), chr(98), chr(65), chr(66))"
   ]
  },
  {
   "cell_type": "code",
   "execution_count": null,
   "metadata": {},
   "outputs": [],
   "source": [
    "\"\"\"\n",
    "윤년 계산 프로그램\n",
    "-------------------\n",
    "1) 기원 연수가 4로 나누어 떨어지는 해는 우선 윤년으로 한다.\n",
    "2) 그 중에서 100으로 나누어 떨어지는 해는 평년으로 한다.\n",
    "3) 다만 400으로 나누어 떨어지는 해는 다시 윤년으로 정한다.\n",
    "\n",
    "연도를 입력 : 2019(엔터) 참고로 2020년이 윤년윤년\n",
    "결과 : 윤년입니다.(윤년이 아닙니다)\n",
    "\"\"\""
   ]
  },
  {
   "cell_type": "code",
   "execution_count": 27,
   "metadata": {},
   "outputs": [
    {
     "name": "stdout",
     "output_type": "stream",
     "text": [
      "C\n"
     ]
    }
   ],
   "source": [
    "# 다중 if\n",
    "\n",
    "avg = 73\n",
    "\n",
    "if avg >= 90:\n",
    "    print(\"A\")\n",
    "elif avg >= 80:\n",
    "    print(\"B\")\n",
    "elif avg >= 70:\n",
    "    print(\"C\")\n",
    "elif avg >= 60:\n",
    "    print(\"D\")\n",
    "else:\n",
    "    print(\"F\")"
   ]
  },
  {
   "cell_type": "code",
   "execution_count": null,
   "metadata": {},
   "outputs": [],
   "source": [
    "\"\"\"\n",
    "전자 계산기 프로그램(사칙연산)\n",
    "----------------------------------\n",
    "연산자 : +\n",
    "숫자1 : 10\n",
    "숫자2 : 5\n",
    "\n",
    "결과 : 10 + 5 = 15\n",
    "\"\"\""
   ]
  },
  {
   "cell_type": "code",
   "execution_count": 3,
   "metadata": {},
   "outputs": [
    {
     "name": "stdout",
     "output_type": "stream",
     "text": [
      "b가 제일 크다\n",
      "------------------------------------------\n",
      "아이디 : tiger\n",
      "패스워드 : 1111\n",
      "로그인 성공\n"
     ]
    }
   ],
   "source": [
    "# 조건문의 중첩\n",
    "\n",
    "a, b, c = 8, 10, 3\n",
    "\n",
    "if a > b:\n",
    "    if a > c:\n",
    "        print(\"a가 제일 크다\")\n",
    "    else:\n",
    "        print(\"c가 제일 크다\")\n",
    "else:\n",
    "    if b > c:\n",
    "        print(\"b가 제일 크다\")\n",
    "    else:\n",
    "        print(\"c가 제일 크다\")\n",
    "        \n",
    "print(\"------------------------------------------\")\n",
    "\n",
    "id = input(\"아이디 : \")  # tiger\n",
    "pw = input(\"패스워드 : \") # 1111\n",
    "\n",
    "if id != \"tiger\":\n",
    "    if pw != \"1111\":\n",
    "        print(\"둘 다 틀림\")\n",
    "    else:\n",
    "        print(\"아이디가 틀림\")\n",
    "else:\n",
    "    if pw != \"1111\":\n",
    "        print(\"패스워드가 틀림\")\n",
    "    else:\n",
    "        print(\"로그인 성공\")"
   ]
  },
  {
   "cell_type": "code",
   "execution_count": 26,
   "metadata": {},
   "outputs": [
    {
     "data": {
      "text/plain": [
       "2"
      ]
     },
     "execution_count": 26,
     "metadata": {},
     "output_type": "execute_result"
    }
   ],
   "source": [
    "import random\n",
    "\n",
    "random.randint(0, 10)"
   ]
  },
  {
   "cell_type": "code",
   "execution_count": null,
   "metadata": {},
   "outputs": [],
   "source": [
    "# 가위 바위 보 게임\n",
    "\"\"\"\n",
    "(가위, 바위, 보) 중에서 하나를 입력 : 가위(엔터)\n",
    "컴퓨터 : 보, 사용자 : 가위\n",
    "사용자 승\n",
    "\"\"\""
   ]
  },
  {
   "cell_type": "markdown",
   "metadata": {},
   "source": [
    "---\n",
    "### (2) while\n",
    "\n",
    "+ 문법\n",
    "    \n",
    "    while 조건식:\n",
    "        문장\n",
    "        ..."
   ]
  },
  {
   "cell_type": "code",
   "execution_count": 33,
   "metadata": {},
   "outputs": [
    {
     "name": "stdout",
     "output_type": "stream",
     "text": [
      "**********\n",
      "**********\n",
      "*\t*\t*\t*\t*\t*\t*\t*\t*\t*\t"
     ]
    }
   ],
   "source": [
    "print(\"**********\")\n",
    "print(\"*\" * 10)\n",
    "\n",
    "cnt = 0\n",
    "while cnt < 10:\n",
    "    print(\"*\", end=\"\\t\")\n",
    "    #cnt = cnt + 1\n",
    "    cnt += 1"
   ]
  },
  {
   "cell_type": "code",
   "execution_count": 36,
   "metadata": {},
   "outputs": [
    {
     "name": "stdout",
     "output_type": "stream",
     "text": [
      "결과 :  55\n"
     ]
    }
   ],
   "source": [
    "# 1부터 10까지의 합계 : 55\n",
    "\n",
    "cnt = 0\n",
    "sum = 0\n",
    "\n",
    "while cnt <= 10:\n",
    "    sum += cnt # sum = sum + cnt\n",
    "    cnt += 1 # cnt = cnt + 1\n",
    "    \n",
    "print(\"결과 : \", sum)"
   ]
  },
  {
   "cell_type": "code",
   "execution_count": 40,
   "metadata": {},
   "outputs": [
    {
     "name": "stdout",
     "output_type": "stream",
     "text": [
      "1024\n",
      "결과 :  1024\n"
     ]
    }
   ],
   "source": [
    "# 2의 10승 : 1024\n",
    "print(2 ** 10)\n",
    "\n",
    "cnt = 0\n",
    "sum = 1\n",
    "\n",
    "while cnt < 10:\n",
    "    sum = sum * 2\n",
    "    cnt += 1\n",
    "    \n",
    "print(\"결과 : \", sum)"
   ]
  },
  {
   "cell_type": "markdown",
   "metadata": {},
   "source": [
    "---\n",
    "### (3) for\n",
    "\n",
    "+ 문법\n",
    "\n",
    "    for 변수 in 집합자료형:\n",
    "        문장\n",
    "        ..."
   ]
  },
  {
   "cell_type": "code",
   "execution_count": 46,
   "metadata": {},
   "outputs": [
    {
     "name": "stdout",
     "output_type": "stream",
     "text": [
      "10\n",
      "20\n",
      "홍길동\n",
      "3.14\n",
      "True\n",
      "-----------------------------\n",
      "10\n",
      "20\n",
      "홍길동\n",
      "3.14\n",
      "True\n",
      "-----------------------------\n",
      "**********\n",
      "-----------------------------\n",
      "**********"
     ]
    }
   ],
   "source": [
    "data = [10, 20, \"홍길동\", 3.14, True]\n",
    "\n",
    "cnt = 0\n",
    "while cnt < len(data):\n",
    "    print(data[cnt])\n",
    "    cnt += 1\n",
    "    \n",
    "print(\"-----------------------------\")\n",
    "\n",
    "for val in data:\n",
    "    print(val)\n",
    "    \n",
    "print(\"-----------------------------\")\n",
    "\n",
    "for val in [1, 1, 1, 1, 1, 1, 1, 1, 1, 1]:\n",
    "    print(\"*\", end=\"\")\n",
    "    \n",
    "print(\"\\n-----------------------------\")\n",
    "\n",
    "for val in range(10): # [0, 1, 2, 3, 4, 5, 6, 7, 8, 9]\n",
    "    print(\"*\", end=\"\")"
   ]
  },
  {
   "cell_type": "markdown",
   "metadata": {},
   "source": [
    "---\n",
    "#### (4) 반복문의 강제 종료\n",
    "\n",
    "+ break : 완전 종료\n",
    "+ continue : 일시 종료"
   ]
  },
  {
   "cell_type": "code",
   "execution_count": 51,
   "metadata": {},
   "outputs": [
    {
     "name": "stdout",
     "output_type": "stream",
     "text": [
      "0\n",
      "1\n",
      "2\n",
      "3\n",
      "4\n",
      "6\n",
      "7\n",
      "8\n",
      "9\n",
      "-----------------------\n",
      "********************"
     ]
    }
   ],
   "source": [
    "for v in range(10):\n",
    "    if v == 5:\n",
    "        #break\n",
    "        continue\n",
    "        \n",
    "    print(v)\n",
    "    \n",
    "print(\"-----------------------\")\n",
    "\n",
    "cnt = 0\n",
    "while True:\n",
    "    if cnt == 20:\n",
    "        break\n",
    "    \n",
    "    print(\"*\", end=\"\")\n",
    "    cnt += 1"
   ]
  },
  {
   "cell_type": "markdown",
   "metadata": {},
   "source": [
    "---\n",
    "#### (5) 반복문의 중첩"
   ]
  },
  {
   "cell_type": "code",
   "execution_count": 52,
   "metadata": {},
   "outputs": [
    {
     "name": "stdout",
     "output_type": "stream",
     "text": [
      "**********\n",
      "**********\n",
      "**********\n"
     ]
    }
   ],
   "source": [
    "\"\"\"\n",
    "**********\n",
    "**********\n",
    "**********\n",
    "\"\"\"\n",
    "\n",
    "for v1 in range(3):\n",
    "    for v2 in range(10):\n",
    "        print(\"*\", end=\"\")\n",
    "    print()\n",
    "    "
   ]
  },
  {
   "cell_type": "code",
   "execution_count": 54,
   "metadata": {},
   "outputs": [
    {
     "name": "stdout",
     "output_type": "stream",
     "text": [
      "\n",
      "*\n",
      "**\n",
      "***\n",
      "****\n",
      "*****\n"
     ]
    }
   ],
   "source": [
    "\"\"\"\n",
    "*\n",
    "**\n",
    "***\n",
    "****\n",
    "*****\n",
    "\"\"\"\n",
    "\n",
    "for v1 in range(6):\n",
    "    for v2 in range(v1):\n",
    "        print(\"*\", end=\"\")\n",
    "    print()"
   ]
  },
  {
   "cell_type": "code",
   "execution_count": null,
   "metadata": {},
   "outputs": [],
   "source": [
    "\"\"\"\n",
    "     *\n",
    "    ***\n",
    "   *****\n",
    "  *******\n",
    " *********\n",
    "\"\"\""
   ]
  },
  {
   "cell_type": "markdown",
   "metadata": {},
   "source": [
    "---\n",
    "#### (6) List Comprehension"
   ]
  },
  {
   "cell_type": "code",
   "execution_count": 66,
   "metadata": {},
   "outputs": [
    {
     "name": "stdout",
     "output_type": "stream",
     "text": [
      "[0, 1, 2, 3, 4, 5, 6, 7, 8, 9]\n",
      "[0, 1, 2, 3, 4, 5, 6, 7, 8, 9]\n",
      "[0, 2, 4, 6, 8]\n",
      "['AD', 'AE', 'AA', 'BD', 'BE', 'BA', 'CD', 'CE', 'CA']\n",
      "['AD', 'AE', 'AA', 'BD', 'BE', 'BA', 'CD', 'CE', 'CA']\n",
      "['AD', 'AE', 'BD', 'BE', 'BA', 'CD', 'CE', 'CA']\n",
      "[['AD', 'AE', 'AA'], ['BD', 'BE', 'BA'], ['CD', 'CE', 'CA']]\n",
      "[['AD', 'AE', 'AA'], ['BD', 'BE', 'BA'], ['CD', 'CE', 'CA']]\n"
     ]
    }
   ],
   "source": [
    "# [0 ~ 9]\n",
    "result = []\n",
    "for i in range(10):\n",
    "    result.append(i)\n",
    "    \n",
    "print(result)\n",
    "\n",
    "########################################\n",
    "\n",
    "result = [i for i in range(10)]\n",
    "print(result)\n",
    "\n",
    "########################################\n",
    "\n",
    "result = [i for i in range(10) if i%2 == 0]\n",
    "print(result)\n",
    "\n",
    "########################################\n",
    "\n",
    "c1 = [\"A\", \"B\", \"C\"]\n",
    "c2 = [\"D\", \"E\", \"A\"]\n",
    "\n",
    "# [\"AD\", \"AE\", \"AA\", \"BD\", \"BE\", \"BA\", \"CD\", \"CE\", \"CA\"]\n",
    "result = []\n",
    "for row in c1:\n",
    "    for col in c2:\n",
    "        result.append(row+col)\n",
    "        \n",
    "print(result)\n",
    "\n",
    "result = [row+col for row in c1 for col in c2]\n",
    "print(result)\n",
    "\n",
    "# [\"AD\", \"AE\", \"BD\", \"BE\", \"BA\", \"CD\", \"CE\", \"CA\"]\n",
    "result = [row+col for row in c1 for col in c2 if not row==col]\n",
    "print(result)\n",
    "\n",
    "# [[\"AD\", \"AE\", \"AA\"], [BD\", \"BE\", \"BA\"], [\"CD\", \"CE\", \"CA\"]]\n",
    "result = [[row+col for col in c2] for row in c1]\n",
    "print(result)\n",
    "\n",
    "#################################\n",
    "result = []\n",
    "temp = []\n",
    "for row in c1:\n",
    "    for col in c2:\n",
    "        temp.append(row+col)\n",
    "        \n",
    "    result.append(temp)\n",
    "    temp = []\n",
    "\n",
    "print(result)\n"
   ]
  },
  {
   "cell_type": "code",
   "execution_count": null,
   "metadata": {},
   "outputs": [],
   "source": [
    "words = \"some where over the rainbow way up high\"\n",
    "\"\"\"\n",
    "[\"SOME\", \"some\", 4]\n",
    "[\"WHERE\", \"where\", 5]\n",
    "...\n",
    "\"\"\""
   ]
  },
  {
   "cell_type": "markdown",
   "metadata": {},
   "source": [
    "---\n",
    "#### (7) 실행 파일 만들기(exe파일 만들기)\n",
    "\n",
    "+ pyinstaller, py2exe, ...\n",
    "+ pip install pyinstaller\n",
    "+ https://media.readthedocs.org/pdf/pyinstaller/cross-compiling/pyinstaller.pdf\n",
    "+ pyinstaller 파일명.py\n",
    "+ pyinstaller -F 파일명.py (pyinstaller --onefile 파일명.py)"
   ]
  },
  {
   "cell_type": "markdown",
   "metadata": {},
   "source": [
    "---\n",
    "#### 문제1\n",
    "\n",
    "전자계산기 프로그램을 반복문을 이용하여 업그레이드<br>\n",
    "(끝나는 조건은 연산자에 x를 입력하면 종료)"
   ]
  },
  {
   "cell_type": "markdown",
   "metadata": {},
   "source": [
    "---\n",
    "#### 문제2\n",
    "\n",
    "가위바위보 게임을 반복문을 이용하여 업그레이드<br>\n",
    "(끝나는 조건은 x나 q를 입력하면 종료)\n",
    "\n",
    "끝날 때 결과에 ?승 ?패를 출력"
   ]
  },
  {
   "cell_type": "markdown",
   "metadata": {},
   "source": [
    "---\n",
    "#### 문제3\n",
    "\n",
    "숫자를 입력받아 짝수의 합과 홀수의 합을 구하시오.(0을 입력하면 종료)\n",
    "\n",
    "숫자1: 2<br>\n",
    "숫자2: 3<br>\n",
    "숫자3: 1<br>\n",
    "숫자4: 6<br>\n",
    "숫자5: 0<br>\n",
    "<br>\n",
    "짝수의 합:?<br>\n",
    "홀수의 합:?"
   ]
  },
  {
   "cell_type": "markdown",
   "metadata": {},
   "source": [
    "---\n",
    "#### 문제4\n",
    "\n",
    "숫자 맞추기 게임\n",
    "\n",
    "예시)\n",
    "1부터 100사이의 숫자를 맞추시오\n",
    "\n",
    "숫자 입력 : 50<br>\n",
    "낮음!\n",
    "\n",
    "숫자 입력 : 75<br>\n",
    "낮음\n",
    "\n",
    "....\n",
    "\n",
    "숫자 입력 : 89<br>\n",
    "정답입니다. 시도회수는 ?번입니다."
   ]
  },
  {
   "cell_type": "code",
   "execution_count": null,
   "metadata": {},
   "outputs": [],
   "source": [
    "# 문제5\n",
    "\n",
    "\"\"\"\n",
    "친구 관리 프로그램\n",
    "====================\n",
    "\n",
    "1.친구 리스트 출력\n",
    "2.친구 추가\n",
    "3.친구 삭제\n",
    "4.이름 변경\n",
    "9.종료\n",
    "메뉴를 선택 : 2 (엔터)\n",
    "이름을 입력 : 홍길동 (엔터)\n",
    "-----------------------\n",
    "1.친구 리스트 출력\n",
    "2.친구 추가\n",
    "3.친구 삭제\n",
    "4.이름 변경\n",
    "9.종료\n",
    "메뉴를 선택 : 2 (엔터)\n",
    "이름을 입력 : 임꺽정 (엔터)\n",
    "-----------------------\n",
    "1.친구 리스트 출력\n",
    "2.친구 추가\n",
    "3.친구 삭제\n",
    "4.이름 변경\n",
    "9.종료\n",
    "메뉴를 선택 : 1 (엔터)\n",
    "[\"홍길동\", \"임꺽정\"]\n",
    "----------------------\n",
    "1.친구 리스트 출력\n",
    "2.친구 추가\n",
    "3.친구 삭제\n",
    "4.이름 변경\n",
    "9.종료\n",
    "메뉴를 선택 : 4 (엔터)\n",
    "변경할 이름 선택 : 홍길동 (엔터)\n",
    "변경하고 싶은 이름 입력 : 홍길순 (엔터)\n",
    "-------------------------------\n",
    "1.친구 리스트 출력\n",
    "2.친구 추가\n",
    "3.친구 삭제\n",
    "4.이름 변경\n",
    "9.종료\n",
    "메뉴를 선택 : 1 (엔터)\n",
    "[\"홍길순\", \"임꺽정\"]\n",
    "-------------------------------\n",
    "1.친구 리스트 출력\n",
    "2.친구 추가\n",
    "3.친구 삭제\n",
    "4.이름 변경\n",
    "9.종료\n",
    "메뉴를 선택 : 3 (엔터)\n",
    "삭제할 이름 입력 : 홍길순\n",
    "------------------------------\n",
    "\"\"\""
   ]
  }
 ],
 "metadata": {
  "kernelspec": {
   "display_name": "Python 3",
   "language": "python",
   "name": "python3"
  },
  "language_info": {
   "codemirror_mode": {
    "name": "ipython",
    "version": 3
   },
   "file_extension": ".py",
   "mimetype": "text/x-python",
   "name": "python",
   "nbconvert_exporter": "python",
   "pygments_lexer": "ipython3",
   "version": "3.8.5"
  }
 },
 "nbformat": 4,
 "nbformat_minor": 4
}
