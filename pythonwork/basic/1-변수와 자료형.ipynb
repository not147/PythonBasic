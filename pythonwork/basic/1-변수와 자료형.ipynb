{
 "cells": [
  {
   "cell_type": "markdown",
   "metadata": {},
   "source": [
    "## 1. 변수의 정의 : 임시 기억(저장) 공간\n",
    "\n",
    "\n",
    "## 2. 변수의 특징\n",
    "  + 묵시적 선언\n",
    "  + 동적 바인딩\n",
    "  + immutable (불변성)"
   ]
  },
  {
   "cell_type": "code",
   "execution_count": 10,
   "metadata": {},
   "outputs": [
    {
     "name": "stdout",
     "output_type": "stream",
     "text": [
      "10\n",
      "11\n",
      "가나다\n",
      "3.14\n",
      "True\n"
     ]
    }
   ],
   "source": [
    "a = 10\n",
    "print(a)\n",
    "\n",
    "a = 11\n",
    "print(a)\n",
    "\n",
    "a = \"가나다\"\n",
    "print(a)\n",
    "\n",
    "a = 3.14\n",
    "print(a)\n",
    "\n",
    "a = True\n",
    "print(a)"
   ]
  },
  {
   "cell_type": "markdown",
   "metadata": {},
   "source": [
    "## 3. Data Type\n",
    "\n",
    "* 종류\n",
    "    1. 기본 자료형\n",
    "        * int\n",
    "        * float\n",
    "        * str\n",
    "        * bool\n",
    "              \n",
    "    2. 집합 자료형\n",
    "        * list\n",
    "        * tuple\n",
    "        * dict\n",
    "        * set"
   ]
  },
  {
   "cell_type": "markdown",
   "metadata": {},
   "source": [
    "---\n",
    "\n",
    "#### (1)  str"
   ]
  },
  {
   "cell_type": "code",
   "execution_count": 13,
   "metadata": {},
   "outputs": [
    {
     "name": "stdout",
     "output_type": "stream",
     "text": [
      "안녕하세요. \n",
      "    저는 홍길동 입니다. \n",
      "    안녕히 계세요\n"
     ]
    }
   ],
   "source": [
    "# 문자열 저장\n",
    "\n",
    "a = 10\n",
    "type(a)\n",
    "\n",
    "a = '10'\n",
    "type(a)\n",
    "\n",
    "a = \"안녕하세요\"\n",
    "\n",
    "a = \"\"\"안녕하세요. \n",
    "    저는 홍길동 입니다. \n",
    "    안녕히 계세요\"\"\"\n",
    "print(a)"
   ]
  },
  {
   "cell_type": "code",
   "execution_count": 21,
   "metadata": {},
   "outputs": [
    {
     "name": "stdout",
     "output_type": "stream",
     "text": [
      "이것은 파이썬입니다. \\n\\n\\n열심히 공부합시다.\n",
      "현재 시간은 \t\t\t\t9시 입니다.\n",
      "\"\\t는 탭키의 역할이다.\"\n"
     ]
    }
   ],
   "source": [
    "##### 특수 문자(제어 문자) : \\문자, \\ (escape 문자)\n",
    "\n",
    "a = \"이것은 파이썬입니다. \\\\n\\\\n\\\\n열심히 공부합시다.\"\n",
    "print(a)\n",
    "\n",
    "b = \"현재 시간은 \\t\\t\\t\\t9시 입니다.\"\n",
    "print(b)\n",
    "\n",
    "# \"\\t는 탭키의 역할이다.\"\n",
    "print(\"\\\"\\\\t는 탭키의 역할이다.\\\"\")"
   ]
  },
  {
   "cell_type": "code",
   "execution_count": 26,
   "metadata": {},
   "outputs": [
    {
     "name": "stdout",
     "output_type": "stream",
     "text": [
      "10 + 2 - 3 + 5 + 6 * 7\n"
     ]
    }
   ],
   "source": [
    "# \\를 줄바꿈의 용도로 사용\n",
    "\n",
    "a = \"10 + 2 - 3 + 5 \\\n",
    "+ 6 * 7\"\n",
    "print(a)"
   ]
  },
  {
   "cell_type": "code",
   "execution_count": 33,
   "metadata": {},
   "outputs": [
    {
     "name": "stdout",
     "output_type": "stream",
     "text": [
      "('python', ' is fun', ' and great')\n",
      "python is fun and great\n"
     ]
    }
   ],
   "source": [
    "# 문자열을 연결하기\n",
    "\n",
    "a = \"python\"\n",
    "b = \" is fun\"\n",
    "c = \" and great\"\n",
    "\n",
    "d = a,b,c\n",
    "print(d)\n",
    "\n",
    "e = a + b + c\n",
    "print(e)"
   ]
  },
  {
   "cell_type": "code",
   "execution_count": 34,
   "metadata": {},
   "outputs": [
    {
     "name": "stdout",
     "output_type": "stream",
     "text": [
      "pythonpythonpython\n"
     ]
    }
   ],
   "source": [
    "# 문자열 곱하기(반복)\n",
    "print(a * 3)"
   ]
  },
  {
   "cell_type": "code",
   "execution_count": 36,
   "metadata": {},
   "outputs": [
    {
     "name": "stdout",
     "output_type": "stream",
     "text": [
      "6\n",
      "7\n",
      "10\n"
     ]
    }
   ],
   "source": [
    "# 문자열의 길이\n",
    "print(len(a))\n",
    "print(len(b))\n",
    "print(len(c))"
   ]
  },
  {
   "cell_type": "code",
   "execution_count": 43,
   "metadata": {
    "collapsed": true
   },
   "outputs": [
    {
     "name": "stdout",
     "output_type": "stream",
     "text": [
      "e\n",
      "o\n",
      "n\n",
      "o\n",
      "n\n"
     ]
    }
   ],
   "source": [
    "# 인덱싱(Indexing) : 원하는 문자에 접근할 수 있는 방법 제공\n",
    "\n",
    "a = \"Life is too short, You need python\"\n",
    "print(a[3])\n",
    "print(a[10])\n",
    "print(a[-1])\n",
    "print(a[-2])\n",
    "print(a[len(a)-1])"
   ]
  },
  {
   "cell_type": "code",
   "execution_count": 51,
   "metadata": {},
   "outputs": [
    {
     "name": "stdout",
     "output_type": "stream",
     "text": [
      "Life i\n",
      "Life i\n",
      "s too short, You need python\n",
      "Life is too short, You need python\n",
      "You need\n"
     ]
    }
   ],
   "source": [
    "# 슬라이싱(Slicing) : [시작위치 : 끝위치]\n",
    "\n",
    "print(a[0:6])\n",
    "print(a[:6])\n",
    "print(a[6:])\n",
    "print(a[:])\n",
    "print(a[19 : -7])"
   ]
  },
  {
   "cell_type": "code",
   "execution_count": 54,
   "metadata": {},
   "outputs": [
    {
     "name": "stdout",
     "output_type": "stream",
     "text": [
      "Life is too short, You need python\n",
      "Lf stosot o edpto\n",
      "nohtyp deen uoY ,trohs oot si efiL\n"
     ]
    }
   ],
   "source": [
    "# step : [시작위치 : 끝위치 : 간격]\n",
    "\n",
    "print(a[::1])\n",
    "print(a[::2])\n",
    "print(a[::-1])"
   ]
  },
  {
   "cell_type": "code",
   "execution_count": 59,
   "metadata": {},
   "outputs": [
    {
     "name": "stdout",
     "output_type": "stream",
     "text": [
      "python\n"
     ]
    }
   ],
   "source": [
    "### 수정 불가\n",
    "\n",
    "a = \"pithon\"\n",
    "# a[1] = 'y'\n",
    "\n",
    "a = a[:1] + 'y' + a[2:]\n",
    "print(a)"
   ]
  },
  {
   "cell_type": "code",
   "execution_count": 7,
   "metadata": {},
   "outputs": [
    {
     "name": "stdout",
     "output_type": "stream",
     "text": [
      "23\n",
      "3\n",
      "-------------------------------------------\n",
      "a,b,c,d,e,f,g\n",
      "-------------------------------------------\n",
      "['홍길동', '홍경래', '홍장군', '입경업', '신돌석']\n",
      "-------------------------------------------\n",
      "1 17 -1\n",
      "1 17\n",
      "-------------------------------------------\n",
      "           python\n",
      "python\n",
      "python\n",
      "-------------------------------------------\n",
      "Hello, Python!\n",
      "일이삼사오육칠팔구\n",
      "1이3사5육칠팔구\n"
     ]
    }
   ],
   "source": [
    "### 문자열 관련 함수\n",
    "\n",
    "# count()\n",
    "str1 = \"홍길동, 홍경래, 홍장군, 입경업, 신돌석\"\n",
    "print(len(str1))\n",
    "print(str1.count(\"홍\"))\n",
    "print(\"-------------------------------------------\")\n",
    "\n",
    "# join()\n",
    "str1 = \"abcdefg\"\n",
    "print(\",\".join(str1))\n",
    "print(\"-------------------------------------------\")\n",
    "\n",
    "# split()\n",
    "str1 = \"홍길동:홍경래:홍장군:입경업:신돌석\"\n",
    "print(str1.split(\":\"))\n",
    "print(\"-------------------------------------------\")\n",
    "\n",
    "# find(), index()\n",
    "print(str1.find(\"길\"), str1.find(\"돌\"), str1.find(\"별\"))\n",
    "print(str1.index(\"길\"), str1.index(\"돌\"))\n",
    "print(\"-------------------------------------------\")\n",
    "\n",
    "# lstrip(), rstrip(), strip()\n",
    "a = \"           python\"\n",
    "print(a)\n",
    "print(a.lstrip())\n",
    "\n",
    "a = \",.python\"\n",
    "print(a.lstrip(\",.\"))\n",
    "print(\"-------------------------------------------\")\n",
    "\n",
    "# replace(), [maketrans(), translate()]\n",
    "a = \"Hello, World!\"\n",
    "print(a.replace(\"World\", \"Python\"))\n",
    "\n",
    "a = \"일이삼사오육칠팔구\"\n",
    "print(a.replace(\"일삼오\", \"135\"))\n",
    "print(a.translate(a.maketrans(\"일삼오\", \"135\")))"
   ]
  },
  {
   "cell_type": "code",
   "execution_count": 25,
   "metadata": {},
   "outputs": [
    {
     "name": "stdout",
     "output_type": "stream",
     "text": [
      "현재 온도는 18도입니다.\n",
      "현재 온도는 18도입니다.그리고 오늘의 날씨는 맑음 입니다.\n",
      "나눗셈  의 결과  3 / 5 = 0.60 입니다.\n",
      "나눗셈의 결과 : 3 / 5 = 0.6 입니다.\n",
      "나눗셈의 결과 : 3 / 5 = 0.6 입니다.\n",
      "나눗셈의 결과 : 3 / 5 = 0.6 입니다.\n",
      "***나눗셈****의 결과 : 3 / 5 =  0.60 입니다.\n"
     ]
    }
   ],
   "source": [
    "### 문자열 포맷팅\n",
    "\n",
    "# %를 이용한 방법 #\n",
    "print(\"현재 온도는 18도입니다.\")\n",
    "print(\"현재 온도는 %d도입니다.그리고 오늘의 날씨는 %s 입니다.\" % (18, \"맑음\"))\n",
    "\n",
    "# 나눗셈의 결과 : 3 / 5 = 0.6 입니다.\n",
    "print(\"%-5s의 결과  %d %c %d = %0.2f 입니다.\" %(\"나눗셈\", 3, \"/\", 5, 3/5))\n",
    "\n",
    "# format()를 이용한 방법 #\n",
    "print(\"{}의 결과 : {} {} {} = {} 입니다.\".format(\"나눗셈\", 3, \"/\", 5, 3/5))\n",
    "print(\"{3}의 결과 : {0} {1} {2} = {4} 입니다.\".format(3, \"/\", 5, \"나눗셈\", 3/5))\n",
    "print(\"{title}의 결과 : {num1} {op} {num2} = {result} 입니다.\".format(\n",
    "    num1=3, op=\"/\", num2=5, result=3/5, title=\"나눗셈\"))\n",
    "print(\"{3:*^10}의 결과 : {0} / {1} = {2:5.2f} 입니다.\".format(3, 5, 3/5, \"나눗셈\"))"
   ]
  },
  {
   "cell_type": "markdown",
   "metadata": {},
   "source": [
    "#### (2)  bool"
   ]
  },
  {
   "cell_type": "code",
   "execution_count": 37,
   "metadata": {},
   "outputs": [
    {
     "name": "stdout",
     "output_type": "stream",
     "text": [
      "True True False True\n",
      "True True False False True\n",
      "<class 'bool'>\n"
     ]
    }
   ],
   "source": [
    "print(bool(10), bool(3.14), bool(0), bool(-2))\n",
    "print(bool('가'), bool(\"가나다\"), bool(''), bool(None), bool(' '))\n",
    "\n",
    "a = True\n",
    "print(type(a))"
   ]
  },
  {
   "cell_type": "markdown",
   "metadata": {},
   "source": [
    "---\n",
    "#### (3) list\n",
    "\n",
    "* '[ ]' 사용\n",
    "* 임의의 객체를 순차적으로 저장하는 집합적 자료형(Sequence Data)\n",
    "* 인덱스 사용\n",
    "* mutable(변경 가능)"
   ]
  },
  {
   "cell_type": "code",
   "execution_count": 43,
   "metadata": {},
   "outputs": [
    {
     "name": "stdout",
     "output_type": "stream",
     "text": [
      "<class 'int'> <class 'list'>\n",
      "10 [10, 11, 12]\n",
      "10 11 12\n",
      "['james', 180, 3.14, True]\n"
     ]
    }
   ],
   "source": [
    "#a = 10\n",
    "#b = 11\n",
    "#c = 12\n",
    "\n",
    "a, b, c = 10, 11, 12\n",
    "\n",
    "d = [10, 11, 12]\n",
    "\n",
    "print(type(a), type(d))\n",
    "print(a, d)\n",
    "print(d[0], d[1], d[2])\n",
    "\n",
    "e = [\"james\", 178, 3.14, True]\n",
    "e[1] = 180\n",
    "print(e)"
   ]
  },
  {
   "cell_type": "code",
   "execution_count": 48,
   "metadata": {},
   "outputs": [
    {
     "name": "stdout",
     "output_type": "stream",
     "text": [
      "[1, 2, 3, '가', 3.14, ['a', 'b', 'c']]\n",
      "['a', 'b', 'c']\n",
      "a\n",
      "b\n"
     ]
    }
   ],
   "source": [
    "### Indexing\n",
    "\n",
    "a = [1, 2, 3, \"가\", 3.14, [\"a\", \"b\", \"c\"]]\n",
    "print(a)\n",
    "print(a[5])\n",
    "print(a[5][0])\n",
    "print(a[-1][-2])"
   ]
  },
  {
   "cell_type": "code",
   "execution_count": 50,
   "metadata": {},
   "outputs": [
    {
     "name": "stdout",
     "output_type": "stream",
     "text": [
      "[10, 2, 3, 4, 5]\n",
      "[10, 2, 3, 4, 5]\n",
      "-------------------------------\n",
      "[1, 2, 3, 4, 5]\n",
      "[10, 2, 3, 4, 5]\n"
     ]
    }
   ],
   "source": [
    "### 복사 (얕은 복사, 깊은 복사)\n",
    "\n",
    "a = [1, 2, 3, 4, 5]\n",
    "b = a\n",
    "b[0] = 10\n",
    "print(a)\n",
    "print(b)\n",
    "\n",
    "print(\"-------------------------------\")\n",
    "\n",
    "a = [1, 2, 3, 4, 5]\n",
    "# b = a[0:5]\n",
    "b = a[:]\n",
    "\n",
    "b[0] = 10\n",
    "print(a)\n",
    "print(b)"
   ]
  },
  {
   "cell_type": "code",
   "execution_count": 75,
   "metadata": {},
   "outputs": [
    {
     "name": "stdout",
     "output_type": "stream",
     "text": [
      "<class 'list'>\n",
      "--------------------------------\n",
      "<class 'int'> 10\n",
      "<class 'str'> 10\n",
      "<class 'float'> 10.0\n",
      "<class 'bool'> True\n",
      "<class 'list'> ['1', '0']\n",
      "<class 'list'> ['10']\n",
      "--------------------------------\n",
      "[0, 1, 2, 3]\n",
      "[0, 1, 2, 3, 4, 5, 6, 7, 8, 9]\n",
      "[5, 6, 7, 8, 9, 10, 11]\n",
      "[5, 7, 9, 11]\n",
      "[-4, -3, -2, -1, 0, 1, 2, 3, 4, 5, 6, 7, 8, 9, 10, 11]\n",
      "[10, 9, 8, 7, 6, 5, 4, 3, 2, 1]\n"
     ]
    }
   ],
   "source": [
    "### list 생성\n",
    "a = []\n",
    "a = list()\n",
    "a = [1, 2, 3]\n",
    "print(type(a))\n",
    "\n",
    "print(\"--------------------------------\")\n",
    "\n",
    "#  각 자료형 함수(참고)\n",
    "a = '10'\n",
    "print(type(int(a)), int(a))\n",
    "print(type(str(a)), str(a))\n",
    "print(type(float(a)), float(a))\n",
    "print(type(bool(a)), bool(a))\n",
    "\n",
    "print(type(list(a)), list(a))\n",
    "print(type(list([a])), list([a]))\n",
    "\n",
    "print(\"--------------------------------\")\n",
    "\n",
    "# 초기화 방법\n",
    "\n",
    "a = list([0, 1, 2, 3])\n",
    "print(a)\n",
    "\n",
    "a = list(range(10)) # range(0, 10), range(0, 10, 1)\n",
    "print(a)\n",
    "\n",
    "a = list(range(5, 12))\n",
    "print(a)\n",
    "\n",
    "a = list(range(5, 12, 2))\n",
    "print(a)\n",
    "\n",
    "a = list(range(-4, 12, 1))\n",
    "print(a)\n",
    "\n",
    "# 10 9 8 7 6 5 4 3 2 1 \n",
    "a = list(range(10, 0, -1))\n",
    "print(a)"
   ]
  },
  {
   "cell_type": "code",
   "execution_count": 79,
   "metadata": {},
   "outputs": [
    {
     "name": "stdout",
     "output_type": "stream",
     "text": [
      "[1, 2, 3, 4, 5, 6]\n",
      "[1, 2, 3, 1, 2, 3, 1, 2, 3]\n",
      "2 hi\n"
     ]
    }
   ],
   "source": [
    "### 연산 가능\n",
    "\n",
    "a = [1, 2, 3]\n",
    "b = [4, 5, 6]\n",
    "\n",
    "print(a + b)\n",
    "print(a * 3)\n",
    "print(str(a[1]) + \" hi\")"
   ]
  },
  {
   "cell_type": "code",
   "execution_count": 87,
   "metadata": {},
   "outputs": [
    {
     "name": "stdout",
     "output_type": "stream",
     "text": [
      "[1, 2, 3]\n",
      "[0, 1, 2, 3]\n",
      "[0, 1, 2, 3, 4]\n",
      "[0, 1, 2, 3, 4, 5]\n",
      "[0, 1, 2, 3, 4, 5, 6, 7, 8]\n",
      "[0, 1, 2, 3, 4, 5, 6, 7, 8, [9, 10, 11]]\n"
     ]
    }
   ],
   "source": [
    "### 추가하기 : insert(), append(), extend()\n",
    "\n",
    "a = [1, 2, 3]\n",
    "print(a)\n",
    "\n",
    "a.insert(0, 0)\n",
    "print(a)\n",
    "\n",
    "a.append(4)\n",
    "print(a)\n",
    "\n",
    "a.extend([5])\n",
    "print(a)\n",
    "\n",
    "a.extend([6, 7, 8])\n",
    "print(a)\n",
    "\n",
    "a.append([9, 10, 11])\n",
    "print(a)"
   ]
  },
  {
   "cell_type": "code",
   "execution_count": 102,
   "metadata": {},
   "outputs": [
    {
     "name": "stdout",
     "output_type": "stream",
     "text": [
      "[1, 2, 3, 4]\n",
      "[4, 3, 2, 1]\n"
     ]
    }
   ],
   "source": [
    "### 정렬\n",
    "\n",
    "a = [1, 4, 3, 2]\n",
    "a.sort()\n",
    "print(a)\n",
    "\n",
    "#print(sorted(a))\n",
    "#print(a)\n",
    "\n",
    "#a = sorted(a)\n",
    "#print(a)\n",
    "\n",
    "a.reverse()\n",
    "print(a)"
   ]
  },
  {
   "cell_type": "code",
   "execution_count": 103,
   "metadata": {},
   "outputs": [
    {
     "name": "stdout",
     "output_type": "stream",
     "text": [
      "[1, 1, 2, 3]\n",
      "[1, 2, 1, 2, 3]\n",
      "[1, 2, 1, 2]\n",
      "[]\n",
      "[1, 2] 3\n",
      "[1] 2\n"
     ]
    }
   ],
   "source": [
    "### 제거\n",
    "\n",
    "# 범위를 지정해서 삭제\n",
    "a = [1, 2, 3, 1, 2, 3]\n",
    "a[1:3] = []\n",
    "print(a)\n",
    "\n",
    "# 값을 찾아서 삭제\n",
    "a = [1, 2, 3, 1, 2, 3]\n",
    "a.remove(3)\n",
    "print(a)\n",
    "\n",
    "# 위치를 찾아서 삭제\n",
    "del a[4]\n",
    "print(a)\n",
    "\n",
    "# 전체 데이터 삭제\n",
    "a = [1, 2, 3, 1, 2, 3]\n",
    "a[:] = []\n",
    "print(a)\n",
    "\n",
    "a = [1, 2, 3, 1, 2, 3]\n",
    "del a\n",
    "#print(a)\n",
    "\n",
    "# stack\n",
    "a = [1, 2, 3]\n",
    "b = a.pop()\n",
    "print(a, b)\n",
    "\n",
    "b = a.pop()\n",
    "print(a, b)"
   ]
  },
  {
   "cell_type": "code",
   "execution_count": 109,
   "metadata": {},
   "outputs": [
    {
     "name": "stdout",
     "output_type": "stream",
     "text": [
      "3\n",
      "True\n",
      "False\n"
     ]
    }
   ],
   "source": [
    "### 검색\n",
    "\n",
    "a = [1, 2, 3, 4, 5]\n",
    "\n",
    "print(a.index(4))\n",
    "#print(a.index(7))\n",
    "#print(a.find(4))\n",
    "\n",
    "print(2 in a)\n",
    "print(7 in a)"
   ]
  },
  {
   "cell_type": "markdown",
   "metadata": {},
   "source": [
    "---\n",
    "#### (4) tuple\n",
    "\n",
    "* ( ) 사용\n",
    "* immutable"
   ]
  },
  {
   "cell_type": "code",
   "execution_count": 112,
   "metadata": {},
   "outputs": [
    {
     "name": "stdout",
     "output_type": "stream",
     "text": [
      "('a', 'b', 'c', 'd')\n",
      "<class 'tuple'>\n",
      "4\n",
      "1\n",
      "1\n"
     ]
    }
   ],
   "source": [
    "a = ('a', 'b', 'c', 'd')\n",
    "print(a)\n",
    "print(type(a))\n",
    "print(len(a))\n",
    "print(a.count('c'))\n",
    "print(a.index('b'))"
   ]
  },
  {
   "cell_type": "code",
   "execution_count": 115,
   "metadata": {},
   "outputs": [
    {
     "name": "stdout",
     "output_type": "stream",
     "text": [
      "['a', 10, 'c', 'd']\n",
      "('a', 10, 'c', 'd')\n"
     ]
    }
   ],
   "source": [
    "# a[1] = 10\n",
    "b = list(a)\n",
    "b[1] = 10\n",
    "print(b)\n",
    "\n",
    "c = tuple(b)\n",
    "print(c)"
   ]
  },
  {
   "cell_type": "code",
   "execution_count": 117,
   "metadata": {},
   "outputs": [
    {
     "name": "stdout",
     "output_type": "stream",
     "text": [
      "(10, 20, 30)\n",
      "10 20 30\n"
     ]
    }
   ],
   "source": [
    "# packing과 unpacking\n",
    "\n",
    "a = 10, 20, 30\n",
    "print(a)\n",
    "\n",
    "a1, a2, a3 = a\n",
    "print(a1, a2, a3)"
   ]
  },
  {
   "cell_type": "markdown",
   "metadata": {},
   "source": [
    "---\n",
    "#### (5) dict (dictionary)\n",
    "\n",
    "* 순서가 없다.\n",
    "* {키 : 값}\n",
    "* 키를 이용해서 값을 조회"
   ]
  },
  {
   "cell_type": "code",
   "execution_count": 2,
   "metadata": {},
   "outputs": [
    {
     "name": "stdout",
     "output_type": "stream",
     "text": [
      "{'name': '홍길동', 'tel': '111-1111', 'age': 25}\n",
      "<class 'dict'>\n"
     ]
    }
   ],
   "source": [
    "a = {\"name\":\"홍길동\", \"tel\":\"111-1111\", \"age\":25}\n",
    "print(a)\n",
    "print(type(a))"
   ]
  },
  {
   "cell_type": "code",
   "execution_count": 5,
   "metadata": {},
   "outputs": [
    {
     "name": "stdout",
     "output_type": "stream",
     "text": [
      "홍길동 111-1111 25\n"
     ]
    }
   ],
   "source": [
    "print(a[\"name\"], a[\"tel\"], a[\"age\"])"
   ]
  },
  {
   "cell_type": "code",
   "execution_count": 8,
   "metadata": {},
   "outputs": [
    {
     "name": "stdout",
     "output_type": "stream",
     "text": [
      "dict_keys(['name', 'tel', 'age'])\n",
      "dict_values(['홍길동', '111-1111', 25])\n",
      "dict_items([('name', '홍길동'), ('tel', '111-1111'), ('age', 25)])\n"
     ]
    }
   ],
   "source": [
    "print(a.keys())\n",
    "print(a.values())\n",
    "print(a.items())"
   ]
  },
  {
   "cell_type": "code",
   "execution_count": 14,
   "metadata": {},
   "outputs": [
    {
     "name": "stdout",
     "output_type": "stream",
     "text": [
      "<class 'dict_items'>\n",
      "[('name', '홍길동'), ('tel', '111-1111'), ('age', 25)]\n",
      "<class 'list'>\n",
      "('name', '홍길동') name\n"
     ]
    }
   ],
   "source": [
    "b = a.items()\n",
    "print(type(b))\n",
    "\n",
    "c = list(a.items())\n",
    "print(c)\n",
    "print(type(c))\n",
    "print(c[0], c[0][0])"
   ]
  },
  {
   "cell_type": "code",
   "execution_count": 15,
   "metadata": {},
   "outputs": [
    {
     "name": "stdout",
     "output_type": "stream",
     "text": [
      "{'name': '임꺽정', 'tel': '111-1111', 'age': 25}\n"
     ]
    }
   ],
   "source": [
    "# 수정\n",
    "a[\"name\"] = \"임꺽정\"\n",
    "print(a)"
   ]
  },
  {
   "cell_type": "code",
   "execution_count": 16,
   "metadata": {},
   "outputs": [
    {
     "name": "stdout",
     "output_type": "stream",
     "text": [
      "{'name': '임꺽정', 'tel': '111-1111', 'age': 25, 'hobby': ['낚시', '여행']}\n"
     ]
    }
   ],
   "source": [
    "# 추가\n",
    "a[\"hobby\"] = [\"낚시\", \"여행\"]\n",
    "print(a)"
   ]
  },
  {
   "cell_type": "code",
   "execution_count": 17,
   "metadata": {},
   "outputs": [
    {
     "name": "stdout",
     "output_type": "stream",
     "text": [
      "{'name': '임꺽정', 'age': 25, 'hobby': ['낚시', '여행']}\n"
     ]
    }
   ],
   "source": [
    "# 삭제\n",
    "del a[\"tel\"]\n",
    "print(a)"
   ]
  },
  {
   "cell_type": "code",
   "execution_count": 18,
   "metadata": {},
   "outputs": [
    {
     "name": "stdout",
     "output_type": "stream",
     "text": [
      "{}\n"
     ]
    }
   ],
   "source": [
    "a.clear()\n",
    "print(a)"
   ]
  },
  {
   "cell_type": "code",
   "execution_count": 22,
   "metadata": {},
   "outputs": [
    {
     "name": "stdout",
     "output_type": "stream",
     "text": [
      "홍길동\n",
      "홍길동\n",
      "독서\n"
     ]
    }
   ],
   "source": [
    "# 데이터 가져오기 : get(\"키\", default)\n",
    "a = {\"name\":\"홍길동\", \"tel\":\"111-1111\", \"age\":25}\n",
    "print(a[\"name\"])\n",
    "print(a.get(\"name\"))\n",
    "\n",
    "print(a.get(\"hobby\", \"독서\"))"
   ]
  },
  {
   "cell_type": "markdown",
   "metadata": {},
   "source": [
    "---\n",
    "#### (6) set\n",
    "\n",
    "* {} 사용\n",
    "* 순서가 없다.\n",
    "* 중복 불가"
   ]
  },
  {
   "cell_type": "code",
   "execution_count": 27,
   "metadata": {},
   "outputs": [
    {
     "name": "stdout",
     "output_type": "stream",
     "text": [
      "{1, 2, 3, 4}\n",
      "<class 'set'>\n"
     ]
    }
   ],
   "source": [
    "a = {1, 2, 3, 4, 2, 4}\n",
    "print(a)\n",
    "print(type(a))"
   ]
  },
  {
   "cell_type": "code",
   "execution_count": 26,
   "metadata": {},
   "outputs": [
    {
     "name": "stdout",
     "output_type": "stream",
     "text": [
      "1\n"
     ]
    }
   ],
   "source": [
    "# print(a[0])\n",
    "b = list(a)\n",
    "print(b[0])"
   ]
  },
  {
   "cell_type": "code",
   "execution_count": 29,
   "metadata": {},
   "outputs": [
    {
     "name": "stdout",
     "output_type": "stream",
     "text": [
      "{1, 2, 3, 4, 5, 6, 7, 8, 9}\n",
      "{4, 5, 6}\n",
      "{1, 2, 3}\n"
     ]
    }
   ],
   "source": [
    "### 연산\n",
    "\n",
    "s1 = {1, 2, 3, 4, 5, 6}\n",
    "s2 = {4, 5, 6, 7, 8, 9}\n",
    "\n",
    "# 합집합\n",
    "print(s1.union(s2))\n",
    "\n",
    "# 교집합\n",
    "print(s1.intersection(s2))\n",
    "\n",
    "# 차집합\n",
    "print(s1.difference(s2))"
   ]
  },
  {
   "cell_type": "code",
   "execution_count": 35,
   "metadata": {},
   "outputs": [
    {
     "name": "stdout",
     "output_type": "stream",
     "text": [
      "{1, 2, 3, 4, 5, 6, 7, 8}\n",
      "{1, 2, 3, 4, 5, 6, 7, 9, 8}\n",
      "{1, 2, 3, 4, 5, 6, 7, 8}\n",
      "{1, 2, 3, 4, 5, 6, 7}\n"
     ]
    }
   ],
   "source": [
    "### 관련 함수\n",
    "\n",
    "# 여러 개 추가\n",
    "s1.update({7, 8})\n",
    "print(s1)\n",
    "\n",
    "# 한 개 추가\n",
    "s1.add(9)\n",
    "print(s1)\n",
    "\n",
    "# 삭제\n",
    "s1.remove(9)\n",
    "print(s1)\n",
    "\n",
    "s1.discard(8)\n",
    "print(s1)\n",
    "\n",
    "# s1.remove(9)\n",
    "s1.discard(8)"
   ]
  },
  {
   "cell_type": "code",
   "execution_count": 37,
   "metadata": {},
   "outputs": [
    {
     "name": "stdout",
     "output_type": "stream",
     "text": [
      "{1, 2, 3, 4, 5}\n",
      "[1, 2, 3, 4, 5]\n"
     ]
    }
   ],
   "source": [
    "# 중복된 데이터를 제거하고 재구성\n",
    "a = [1, 2, 3, 4, 4, 5, 2]\n",
    "\n",
    "b = set(a)\n",
    "print(b)\n",
    "\n",
    "a = list(b)\n",
    "print(a)"
   ]
  },
  {
   "cell_type": "markdown",
   "metadata": {},
   "source": [
    "---\n",
    "## 4. Operator\n",
    "\n",
    "    1) 산술 연산자\n",
    "        *  /  +  -  %(나머지)  //(몫)  **\n",
    "        \n",
    "    2) 비교 연산자\n",
    "        >  <  >=  <=  ==  !=\n",
    "        \n",
    "    3) 논리 연산자(단락회로 연산자)\n",
    "        and   or  not(단항, toggle)\n",
    "        \n",
    "        x    y    x and y   x or y  not x     x^y\n",
    "        -------------------------------------------\n",
    "        T    T       T        T       F        F\n",
    "        T    F       F        T       F        T\n",
    "        F    T       F        T       T        T\n",
    "        F    F       F        F       T        F\n",
    "        \n",
    "    4) 대입(치환, 할당) 연산자\n",
    "        =  +=  -=  *=  /=  ...\n",
    "        \n",
    "    =====================================================\n",
    "    \n",
    "    5) 포함 여부 연산자\n",
    "        in,  not in\n",
    "        \n",
    "    6) 비트 연산자\n",
    "        &(and)  |(or)  ^(xor)  ~  >>  << ..."
   ]
  },
  {
   "cell_type": "code",
   "execution_count": 39,
   "metadata": {},
   "outputs": [
    {
     "name": "stdout",
     "output_type": "stream",
     "text": [
      "3\n",
      "9\n"
     ]
    }
   ],
   "source": [
    "### 대입 연산자\n",
    "\n",
    "a = 1\n",
    "a = 5\n",
    "a = 3\n",
    "print(a)\n",
    "\n",
    "b = 1\n",
    "b += 5   # b = b + 5\n",
    "b += 3   # b = b + 3\n",
    "print(b)"
   ]
  },
  {
   "cell_type": "code",
   "execution_count": 48,
   "metadata": {},
   "outputs": [
    {
     "name": "stdout",
     "output_type": "stream",
     "text": [
      "False\n",
      "False\n",
      "3\n"
     ]
    }
   ],
   "source": [
    "### 비트 연산자\n",
    "\n",
    "a = 7>3 and 3>5\n",
    "print(a)\n",
    "\n",
    "b = 7>3 & 3>5\n",
    "print(b)\n",
    "\n",
    "c = 7 & 3\n",
    "print(c)"
   ]
  },
  {
   "cell_type": "code",
   "execution_count": 50,
   "metadata": {},
   "outputs": [
    {
     "name": "stdout",
     "output_type": "stream",
     "text": [
      "35402823\n",
      "648723\n"
     ]
    }
   ],
   "source": [
    "data = 648723\n",
    "key = 34984532\n",
    "\n",
    "encode = data ^ key\n",
    "print(encode)\n",
    "\n",
    "\n",
    "decode = encode ^ key\n",
    "print(decode)"
   ]
  }
 ],
 "metadata": {
  "kernelspec": {
   "display_name": "Python 3",
   "language": "python",
   "name": "python3"
  },
  "language_info": {
   "codemirror_mode": {
    "name": "ipython",
    "version": 3
   },
   "file_extension": ".py",
   "mimetype": "text/x-python",
   "name": "python",
   "nbconvert_exporter": "python",
   "pygments_lexer": "ipython3",
   "version": "3.8.5"
  }
 },
 "nbformat": 4,
 "nbformat_minor": 4
}
