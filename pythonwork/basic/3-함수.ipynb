{
 "cells": [
  {
   "cell_type": "markdown",
   "metadata": {},
   "source": [
    "### 1. 함수의 정의\n",
    "\n",
    "+ 일정한 작업을 수행하는 코드 블럭\n",
    "\n",
    "\n",
    "### 2. 함수의 장점\n",
    "\n",
    "+ 반복적인 코드를 없애주어 전체 코드의 길이를 짧게 만들어준다.(재사용)\n",
    "+ 프로그램의 유지 보수를 쉽게 만들어준다.\n",
    "\n",
    "\n",
    "### 3. 함수의 구현\n",
    "\n",
    "    def 함수명(...):\n",
    "        코드 정의\n",
    "        ...\n",
    "        [ return ... ]\n",
    "\n",
    "\n",
    "### 4. 함수의 호출 방식\n",
    "\n",
    "    1) 인자(인수)가 없는 방식\n",
    "    2) 인자가 있는 방식\n",
    "    3) 반환값(return value)이 있는 방식\n",
    "    4) return의 두 가지 기능\n",
    "        - 값을 반환 : 값은 1개만 반환\n",
    "        - 함수의 강제 종료\n",
    "        \n",
    "\n",
    "### 5. 함수의 설계\n",
    "\n",
    "    1) 단일 기능\n",
    "    2) 재사용성\n",
    "    \n",
    "    \n",
    "### 6. 함수의 종류\n",
    "    \n",
    "    1) 사용자 정의 함수(User Define Function)\n",
    "    2) 내장 함수(Built-in)\n",
    "    3) 외장 함수"
   ]
  },
  {
   "cell_type": "code",
   "execution_count": 15,
   "metadata": {},
   "outputs": [],
   "source": [
    "def line(cnt, type):\n",
    "    for v in range(cnt):\n",
    "        print(type, end=\"\")\n",
    "        \n",
    "    print()"
   ]
  },
  {
   "cell_type": "code",
   "execution_count": 16,
   "metadata": {},
   "outputs": [
    {
     "name": "stdout",
     "output_type": "stream",
     "text": [
      "------------------------------\n",
      "      친구 관리 프로그램      \n",
      "=============================================\n",
      "1. 리스트 출력\n",
      "2. 친구 추가\n",
      "3. 종료\n",
      "********************\n"
     ]
    }
   ],
   "source": [
    "line(30, \"-\")\n",
    "print(\"      친구 관리 프로그램      \")\n",
    "line(45, \"=\")\n",
    "print(\"1. 리스트 출력\")\n",
    "print(\"2. 친구 추가\")\n",
    "print(\"3. 종료\")\n",
    "line(20, '*')"
   ]
  },
  {
   "cell_type": "code",
   "execution_count": 25,
   "metadata": {},
   "outputs": [
    {
     "name": "stdout",
     "output_type": "stream",
     "text": [
      "두 수의 교환\n",
      "결과 :  (5, 10)\n"
     ]
    }
   ],
   "source": [
    "def swap(num1, num2):\n",
    "    #temp = num1\n",
    "    #num1 = num2\n",
    "    #num2 = temp\n",
    "    \n",
    "    num1, num2 = num2, num1\n",
    "    \n",
    "    return num1, num2\n",
    "    \n",
    "    print(\"이 문장이 보이는가?\")\n",
    "################################\n",
    "\n",
    "num1, num2 = 10, 5\n",
    "\n",
    "print(\"두 수의 교환\")\n",
    "\n",
    "#n1, n2 = swap(num1, num2)\n",
    "#print(\"결과 : \", n1, n2)\n",
    "\n",
    "print(\"결과 : \", swap(num1, num2))\n"
   ]
  },
  {
   "cell_type": "markdown",
   "metadata": {},
   "source": [
    "---\n",
    "### 파이썬에서 함수를 지원하기 위한 문법"
   ]
  },
  {
   "cell_type": "code",
   "execution_count": 33,
   "metadata": {},
   "outputs": [
    {
     "name": "stdout",
     "output_type": "stream",
     "text": [
      "전국 대표\n",
      "홍길동 지역 대표\n",
      "지역 대표\n"
     ]
    }
   ],
   "source": [
    "### 변수의 유효(생존) 범위 : 지역변수, 전역변수\n",
    "\n",
    "player = \"전국 대표\"\n",
    "\n",
    "def funcSoccer():\n",
    "    global player\n",
    "    \n",
    "    name = \"홍길동\"\n",
    "    player = \"지역 대표\"\n",
    "    print(name, player)\n",
    "    \n",
    "#######################################\n",
    "\n",
    "print(player)\n",
    "# print(name)\n",
    "\n",
    "funcSoccer()\n",
    "print(player)"
   ]
  },
  {
   "cell_type": "code",
   "execution_count": 46,
   "metadata": {},
   "outputs": [
    {
     "name": "stdout",
     "output_type": "stream",
     "text": [
      "********************\n",
      "******************************\n",
      "**********\n",
      "안녕하세요 홍길동님\n",
      "반드시 이름을 입력해야 합니다.\n",
      "안녕하세요~ 서울에 사는 홍길동님... 당신의 나이는30세 입니다.\n",
      "안녕하세요~ 서울에 사는 임꺽정님... 당신의 나이는20세 입니다.\n",
      "안녕하세요~ 서울에 사는 신돌석님... 당신의 나이는30세 입니다.\n",
      "안녕하세요~ 경기도에 사는 유비님... 당신의 나이는25세 입니다.\n",
      "안녕하세요~ 인천에 사는 관우님... 당신의 나이는30세 입니다.\n"
     ]
    }
   ],
   "source": [
    "### default 인수\n",
    "\n",
    "def line(cnt=10):\n",
    "    for v in range(cnt):\n",
    "        print(\"*\", end=\"\")\n",
    "        \n",
    "    print()\n",
    "\n",
    "def hello1(name=None):\n",
    "    if name == None:\n",
    "        print(\"반드시 이름을 입력해야 합니다.\")\n",
    "        return\n",
    "    \n",
    "    print(\"안녕하세요 %s님\" %name)\n",
    "\n",
    "def hello2(name, age=30, addr=\"서울\"):\n",
    "    print(\"안녕하세요~ {}에 사는 {}님... 당신의 나이는{}세 입니다.\"\n",
    "          .format(addr, name, age))\n",
    "##################################################\n",
    "\n",
    "line(20)\n",
    "line(30)\n",
    "line()\n",
    "\n",
    "hello1(\"홍길동\")\n",
    "hello1()\n",
    "\n",
    "hello2('홍길동', 30, '서울')\n",
    "hello2(\"임꺽정\", 20)\n",
    "hello2(\"신돌석\")\n",
    "\n",
    "hello2(age=25, addr=\"경기도\", name=\"유비\")\n",
    "hello2(name=\"관우\", addr=\"인천\")"
   ]
  },
  {
   "cell_type": "code",
   "execution_count": 55,
   "metadata": {},
   "outputs": [
    {
     "name": "stdout",
     "output_type": "stream",
     "text": [
      "('홍길동',)  안녕하세요\n",
      "<class 'tuple'>\n",
      "('홍길동', '임꺽정', '신돌석')  안녕하세요\n",
      "<class 'tuple'>\n",
      "[1, 2] [3, 4] [5, 6]\n",
      "[1, 2] [3, 4] [5, 6]\n",
      "75 175 홍길동\n",
      "{}\n",
      "85 185 임꺽정\n",
      "{'age': 30, 'addr': '서울', 'blood': 'B'}\n"
     ]
    }
   ],
   "source": [
    "### 가변 인수\n",
    "#-------------------\n",
    "# * : 곱셈, 반복, 매개변수(가변인수, packing), 일반 변수(unpacking)\n",
    "# ** : 거듭제곱, 매개변수(가변인수, dict)\n",
    "\n",
    "def greeting(*name):\n",
    "    print(name, \" 안녕하세요\")\n",
    "    print(type(name))\n",
    "\n",
    "def info(weight, height, name, **other):\n",
    "    print(weight, height, name)\n",
    "    print(other)\n",
    "###########################################\n",
    "\n",
    "greeting(\"홍길동\")\n",
    "greeting(\"홍길동\", \"임꺽정\", \"신돌석\")\n",
    "\n",
    "# unpacking\n",
    "a, b, c = ([1, 2], [3, 4], [5, 6])\n",
    "print(a, b, c)\n",
    "\n",
    "a = ([1, 2], [3, 4], [5, 6])\n",
    "print(*a)\n",
    "\n",
    "info(75, 175, \"홍길동\")\n",
    "info(85, 185, \"임꺽정\", age=30, addr=\"서울\", blood=\"B\")\n"
   ]
  },
  {
   "cell_type": "markdown",
   "metadata": {},
   "source": [
    "---\n",
    "### 내장 함수"
   ]
  },
  {
   "cell_type": "code",
   "execution_count": 59,
   "metadata": {
    "collapsed": true
   },
   "outputs": [
    {
     "name": "stdout",
     "output_type": "stream",
     "text": [
      "True\n",
      "False\n",
      "False\n",
      "False\n",
      "True\n",
      "True\n",
      "True\n",
      "True\n"
     ]
    }
   ],
   "source": [
    "#-----------------------------------------------------------\n",
    "# all(), any() : and, or 연산자 (0과 빈값들은 False로 처리)\n",
    "#-----------------------------------------------------------\n",
    "print(all([1, 2, 3, -1, -2]))\n",
    "print(all([1, 2, 3, 0, -2]))\n",
    "print(all([1, 2, 3, \"\", -2]))\n",
    "print(all([1, 2, 3, None, -2]))\n",
    "\n",
    "print(any([1, 2, 3, -1, -2]))\n",
    "print(any([1, 2, 3, 0, -2]))\n",
    "print(any([1, 2, 3, \"\", -2]))\n",
    "print(any([1, 2, 3, None, -2]))"
   ]
  },
  {
   "cell_type": "code",
   "execution_count": 63,
   "metadata": {},
   "outputs": [
    {
     "name": "stdout",
     "output_type": "stream",
     "text": [
      "100 홍길동\n",
      "101 임꺽정\n",
      "102 Tom\n",
      "103 Jerry\n"
     ]
    }
   ],
   "source": [
    "#-------------------------------------------------------------------------------\n",
    "# enumerate(iterator) : 순서가 있는 자료형을 입력받아 인덱스 값을 포함해서 리턴\n",
    "#-------------------------------------------------------------------------------\n",
    "for idx, i in enumerate([\"홍길동\", \"임꺽정\", \"Tom\", \"Jerry\"], start=100):\n",
    "    print(idx, i)"
   ]
  },
  {
   "cell_type": "code",
   "execution_count": 74,
   "metadata": {},
   "outputs": [
    {
     "name": "stdout",
     "output_type": "stream",
     "text": [
      "3+4\n",
      "7\n",
      "7\n",
      "7\n"
     ]
    },
    {
     "data": {
      "text/plain": [
       "(2, 1)"
      ]
     },
     "execution_count": 74,
     "metadata": {},
     "output_type": "execute_result"
    }
   ],
   "source": [
    "#----------------------------------------------------------------------\n",
    "# eval(expression) : 표현식을 파이썬에서 실행 가능히게 만들어주는 역할\n",
    "#----------------------------------------------------------------------\n",
    "print(\"3+4\")\n",
    "print(eval(\"3+4\"))\n",
    "print(int(\"3\") + int(\"4\"))\n",
    "print(eval(\"3\") + eval(\"4\"))\n",
    "\n",
    "#expr = input(\"수식 입력 : \")\n",
    "#print(eval(expr))\n",
    "\n",
    "eval(\"divmod(9, 4)\")"
   ]
  },
  {
   "cell_type": "code",
   "execution_count": 82,
   "metadata": {},
   "outputs": [
    {
     "name": "stdout",
     "output_type": "stream",
     "text": [
      "12\n",
      "[12, 22, 32, 42, 52]\n",
      "[12, 22, 32, 42, 52]\n",
      "12\n",
      "22\n",
      "32\n",
      "42\n",
      "52\n"
     ]
    }
   ],
   "source": [
    "#---------------------------------------------------------------------------------\n",
    "# map(function, iterator) : 집합의 각 요소가 함수에 의해 수행된 결과를 묶어서 리턴\n",
    "#---------------------------------------------------------------------------------\n",
    "\n",
    "def calc(x):\n",
    "    return x + 2\n",
    "\n",
    "###################\n",
    "\n",
    "a = calc(10)\n",
    "print(a)\n",
    "\n",
    "data = [10, 20, 30, 40, 50]\n",
    "\n",
    "result = []\n",
    "for v in data:\n",
    "    temp = calc(v)\n",
    "    result.append(temp)\n",
    "    \n",
    "print(result)\n",
    "\n",
    "# map\n",
    "print(list(map(calc, data)))\n",
    "\n",
    "for v in map(calc, data):\n",
    "    print(v)"
   ]
  },
  {
   "cell_type": "code",
   "execution_count": 89,
   "metadata": {
    "scrolled": true
   },
   "outputs": [
    {
     "name": "stdout",
     "output_type": "stream",
     "text": [
      "<zip object at 0x00000208F805C840>\n",
      "[('a1', 'b1', 'c1'), ('a2', 'b2', 'c2'), ('a3', 'b3', 'c3')]\n",
      "('a1', 'b1', 'c1')\n",
      "('a2', 'b2', 'c2')\n",
      "('a3', 'b3', 'c3')\n",
      "0 a1 b1 c1\n",
      "1 a2 b2 c2\n",
      "2 a3 b3 c3\n"
     ]
    }
   ],
   "source": [
    "#---------------------------------------------------------------\n",
    "# zip(iterator) : 동일한 갯수로 이루어진 자료형을 묶어주는 역할\n",
    "#---------------------------------------------------------------\n",
    "\n",
    "a = [\"a1\", \"a2\", \"a3\"]\n",
    "b = [\"b1\", \"b2\", \"b3\"]\n",
    "c = [\"c1\", \"c2\", \"c3\"]\n",
    "\n",
    "print(zip(a, b, c))\n",
    "print(list(zip(a, b, c)))\n",
    "\n",
    "for v in zip(a, b, c):\n",
    "    print(v)\n",
    "    \n",
    "for i, (v1, v2, v3) in enumerate(zip(a, b, c)):\n",
    "    print(i, v1, v2, v3)"
   ]
  },
  {
   "cell_type": "markdown",
   "metadata": {},
   "source": [
    "---\n",
    "### 외장 함수\n",
    "\n",
    "+ import 모듈명\n",
    "+ C:\\Users\\acorn\\anaconda3\\Lib\\site-packages"
   ]
  },
  {
   "cell_type": "code",
   "execution_count": 4,
   "metadata": {
    "collapsed": true
   },
   "outputs": [
    {
     "name": "stdout",
     "output_type": "stream",
     "text": [
      "['__breakpointhook__', '__displayhook__', '__doc__', '__excepthook__', '__interactivehook__', '__loader__', '__name__', '__package__', '__spec__', '__stderr__', '__stdin__', '__stdout__', '__unraisablehook__', '_base_executable', '_clear_type_cache', '_current_frames', '_debugmallocstats', '_enablelegacywindowsfsencoding', '_framework', '_getframe', '_git', '_home', '_xoptions', 'addaudithook', 'api_version', 'argv', 'audit', 'base_exec_prefix', 'base_prefix', 'breakpointhook', 'builtin_module_names', 'byteorder', 'call_tracing', 'callstats', 'copyright', 'displayhook', 'dllhandle', 'dont_write_bytecode', 'exc_info', 'excepthook', 'exec_prefix', 'executable', 'exit', 'flags', 'float_info', 'float_repr_style', 'get_asyncgen_hooks', 'get_coroutine_origin_tracking_depth', 'getallocatedblocks', 'getcheckinterval', 'getdefaultencoding', 'getfilesystemencodeerrors', 'getfilesystemencoding', 'getprofile', 'getrecursionlimit', 'getrefcount', 'getsizeof', 'getswitchinterval', 'gettrace', 'getwindowsversion', 'hash_info', 'hexversion', 'implementation', 'int_info', 'intern', 'is_finalizing', 'maxsize', 'maxunicode', 'meta_path', 'modules', 'path', 'path_hooks', 'path_importer_cache', 'platform', 'prefix', 'ps1', 'ps2', 'ps3', 'pycache_prefix', 'set_asyncgen_hooks', 'set_coroutine_origin_tracking_depth', 'setcheckinterval', 'setprofile', 'setrecursionlimit', 'setswitchinterval', 'settrace', 'stderr', 'stdin', 'stdout', 'thread_info', 'unraisablehook', 'version', 'version_info', 'warnoptions', 'winver']\n",
      "------------------------------------\n",
      "['C:\\\\netsong7\\\\pythonwork\\\\basic', 'C:\\\\Users\\\\acorn\\\\anaconda3\\\\python38.zip', 'C:\\\\Users\\\\acorn\\\\anaconda3\\\\DLLs', 'C:\\\\Users\\\\acorn\\\\anaconda3\\\\lib', 'C:\\\\Users\\\\acorn\\\\anaconda3', '', 'C:\\\\Users\\\\acorn\\\\anaconda3\\\\lib\\\\site-packages', 'C:\\\\Users\\\\acorn\\\\anaconda3\\\\lib\\\\site-packages\\\\win32', 'C:\\\\Users\\\\acorn\\\\anaconda3\\\\lib\\\\site-packages\\\\win32\\\\lib', 'C:\\\\Users\\\\acorn\\\\anaconda3\\\\lib\\\\site-packages\\\\Pythonwin', 'C:\\\\Users\\\\acorn\\\\anaconda3\\\\lib\\\\site-packages\\\\IPython\\\\extensions', 'C:\\\\Users\\\\acorn\\\\.ipython']\n",
      "win32\n",
      "3.8.5 (default, Sep  3 2020, 21:29:08) [MSC v.1916 64 bit (AMD64)]\n"
     ]
    }
   ],
   "source": [
    "import sys\n",
    "\n",
    "print(dir(sys))\n",
    "print(\"------------------------------------\")\n",
    "print(sys.path)\n",
    "print(sys.platform)\n",
    "print(sys.version)"
   ]
  },
  {
   "cell_type": "code",
   "execution_count": 6,
   "metadata": {
    "collapsed": true
   },
   "outputs": [
    {
     "name": "stdout",
     "output_type": "stream",
     "text": [
      "['DirEntry', 'F_OK', 'MutableMapping', 'O_APPEND', 'O_BINARY', 'O_CREAT', 'O_EXCL', 'O_NOINHERIT', 'O_RANDOM', 'O_RDONLY', 'O_RDWR', 'O_SEQUENTIAL', 'O_SHORT_LIVED', 'O_TEMPORARY', 'O_TEXT', 'O_TRUNC', 'O_WRONLY', 'P_DETACH', 'P_NOWAIT', 'P_NOWAITO', 'P_OVERLAY', 'P_WAIT', 'PathLike', 'R_OK', 'SEEK_CUR', 'SEEK_END', 'SEEK_SET', 'TMP_MAX', 'W_OK', 'X_OK', '_AddedDllDirectory', '_Environ', '__all__', '__builtins__', '__cached__', '__doc__', '__file__', '__loader__', '__name__', '__package__', '__spec__', '_check_methods', '_execvpe', '_exists', '_exit', '_fspath', '_get_exports_list', '_putenv', '_unsetenv', '_wrap_close', 'abc', 'abort', 'access', 'add_dll_directory', 'altsep', 'chdir', 'chmod', 'close', 'closerange', 'cpu_count', 'curdir', 'defpath', 'device_encoding', 'devnull', 'dup', 'dup2', 'environ', 'error', 'execl', 'execle', 'execlp', 'execlpe', 'execv', 'execve', 'execvp', 'execvpe', 'extsep', 'fdopen', 'fsdecode', 'fsencode', 'fspath', 'fstat', 'fsync', 'ftruncate', 'get_exec_path', 'get_handle_inheritable', 'get_inheritable', 'get_terminal_size', 'getcwd', 'getcwdb', 'getenv', 'getlogin', 'getpid', 'getppid', 'isatty', 'kill', 'linesep', 'link', 'listdir', 'lseek', 'lstat', 'makedirs', 'mkdir', 'name', 'open', 'pardir', 'path', 'pathsep', 'pipe', 'popen', 'putenv', 'read', 'readlink', 'remove', 'removedirs', 'rename', 'renames', 'replace', 'rmdir', 'scandir', 'sep', 'set_handle_inheritable', 'set_inheritable', 'spawnl', 'spawnle', 'spawnv', 'spawnve', 'st', 'startfile', 'stat', 'stat_result', 'statvfs_result', 'strerror', 'supports_bytes_environ', 'supports_dir_fd', 'supports_effective_ids', 'supports_fd', 'supports_follow_symlinks', 'symlink', 'sys', 'system', 'terminal_size', 'times', 'times_result', 'truncate', 'umask', 'uname_result', 'unlink', 'urandom', 'utime', 'waitpid', 'walk', 'write']\n",
      "----------------------\n",
      "C:\\netsong7\\pythonwork\\basic\n"
     ]
    }
   ],
   "source": [
    "import os\n",
    "\n",
    "print(dir(os))\n",
    "print(\"----------------------\")\n",
    "print(os.getcwd())"
   ]
  },
  {
   "cell_type": "code",
   "execution_count": 12,
   "metadata": {
    "collapsed": true
   },
   "outputs": [
    {
     "name": "stdout",
     "output_type": "stream",
     "text": [
      "['__builtins__', '__cached__', '__doc__', '__file__', '__loader__', '__name__', '__package__', '__spec__', 'company', 'info', 'sum']\n",
      "30\n",
      "키 :  178\n",
      "몸무게 :  75\n",
      "기타 :  {'name': '홍길동', 'age': 30, 'addr': '서울시 강남구'}\n",
      "파이썬 주식회사\n"
     ]
    }
   ],
   "source": [
    "import mymodule\n",
    "\n",
    "print(dir(mymodule))\n",
    "\n",
    "print(mymodule.sum(10, 20))\n",
    "mymodule.info(75, 178, name=\"홍길동\", age=30, addr=\"서울시 강남구\")\n",
    "print(mymodule.company)"
   ]
  },
  {
   "cell_type": "code",
   "execution_count": 29,
   "metadata": {
    "collapsed": true
   },
   "outputs": [
    {
     "name": "stdout",
     "output_type": "stream",
     "text": [
      "2021-04-07 ,  2021 ,  4 ,  7\n",
      "--------------------------------------------\n",
      "2021-04-07 11:38:38.786891\n",
      "--------------------------------------------\n",
      "-1 day, 0:00:00\n",
      "어제 : 2021-04-06\n",
      "2021-04-07 03:38:38.786891\n",
      "--------------------------------------------\n",
      "04/07/2021\n",
      "2021-04-07 11:38:38\n",
      "--------------------------------------------\n",
      "<class 'str'>\n",
      "<class 'datetime.datetime'>\n",
      "<class 'str'>\n",
      "<class 'str'>\n",
      "<class 'datetime.datetime'>\n"
     ]
    }
   ],
   "source": [
    "import datetime\n",
    "\n",
    "# 현재 날짜\n",
    "today = datetime.date.today()\n",
    "print(today, \", \", today.year, \", \", today.month, \", \", today.day)\n",
    "\n",
    "print(\"--------------------------------------------\")\n",
    "\n",
    "# 현재 시간\n",
    "ctime = datetime.datetime.today()\n",
    "print(ctime)\n",
    "\n",
    "print(\"--------------------------------------------\")\n",
    "\n",
    "# 날짜와 시간을 계산\n",
    "mydays = datetime.timedelta(days = -1)\n",
    "print(mydays)\n",
    "print(\"어제 : {}\".format(today + mydays))\n",
    "\n",
    "# 8시간 전의 시간\n",
    "myhours = datetime.timedelta(hours = -8)\n",
    "print(ctime + myhours)\n",
    "\n",
    "print(\"--------------------------------------------\")\n",
    "\n",
    "# 날짜의 형식 지정\n",
    "print(today.strftime(\"%m/%d/%Y\"))\n",
    "print(ctime.strftime(\"%Y-%m-%d %H:%M:%S\"))\n",
    "\n",
    "print(\"--------------------------------------------\")\n",
    "\n",
    "# 날짜의 형식 변환날짜의 형식 변환\n",
    "# (날짜를 문자열로 : strftime(), 문자열을 날짜로 : strptime())\n",
    "\n",
    "print(type(today.strftime(\"%m/%d/%Y\")))\n",
    "\n",
    "print(type(ctime))\n",
    "t = ctime.strftime(\"%Y-%m-%d %H:%M:%S\")\n",
    "print(type(t))\n",
    "\n",
    "strDate = \"2021-5-5 11:56:50\"\n",
    "print(type(strDate))\n",
    "d = datetime.datetime.strptime(strDate, \"%Y-%m-%d %H:%M:%S\")\n",
    "print(type(d))"
   ]
  },
  {
   "cell_type": "markdown",
   "metadata": {},
   "source": [
    "---\n",
    "### 명령행 인자 (Command Line Argument)"
   ]
  },
  {
   "cell_type": "code",
   "execution_count": null,
   "metadata": {},
   "outputs": [],
   "source": [
    "\"\"\"\n",
    "파일명 : phoneBook.py\n",
    "데이터 : 임의로 준비\n",
    "실행 예시 :\n",
    "    python phoneBook.py 관우(엔터)\n",
    "    \n",
    "    이름:관우\n",
    "    전화:010-333-3333\n",
    "    주소:서울시 강서구\n",
    "\"\"\"\n",
    "data = [\n",
    "    [\"홍길동\", \"010-111-1111\", \"서울시 강남구\"],\n",
    "    [\"유비\", \"010-222-2222\", \"서울시 강북구\"],\n",
    "    [\"관우\", \"010-333-3333\", \"서울시 강서구\"],\n",
    "    [\"장비\", \"010-444-4444\", \"서울시 강동구\"]\n",
    "]"
   ]
  },
  {
   "cell_type": "markdown",
   "metadata": {},
   "source": [
    "---\n",
    "### 재귀 함수(Recursive Function)"
   ]
  },
  {
   "cell_type": "code",
   "execution_count": 34,
   "metadata": {
    "collapsed": true
   },
   "outputs": [
    {
     "name": "stdout",
     "output_type": "stream",
     "text": [
      "5\n",
      "4\n",
      "3\n",
      "2\n",
      "1\n"
     ]
    }
   ],
   "source": [
    "def countDown(n):\n",
    "    if n == 0:\n",
    "        return\n",
    "    else:\n",
    "        print(n)\n",
    "        countDown(n-1)\n",
    "    \n",
    "#################    \n",
    "\n",
    "# countDown(5)\n",
    "\n",
    "#for i in range(5, 0, -1):\n",
    "#    countDown(i)\n",
    "\n",
    "countDown(5)"
   ]
  },
  {
   "cell_type": "code",
   "execution_count": 54,
   "metadata": {},
   "outputs": [
    {
     "name": "stdout",
     "output_type": "stream",
     "text": [
      "93326215443944152681699238856266700490715968264381621468592963895217599993229915608941463976156518286253697920827223758251185210916864000000000000000000000000\n",
      "걸린 시간 :  0.0\n",
      "------------------------\n",
      "93326215443944152681699238856266700490715968264381621468592963895217599993229915608941463976156518286253697920827223758251185210916864000000000000000000000000\n",
      "걸린 시간 :  0.0\n"
     ]
    }
   ],
   "source": [
    "import time\n",
    "\n",
    "def fact1(n):\n",
    "    result = 1\n",
    "    \n",
    "    while n > 0:\n",
    "        #print(n)\n",
    "        result = result * n\n",
    "        n = n - 1\n",
    "    \n",
    "    return result\n",
    "\n",
    "def fact2(n):\n",
    "    if n == 1:\n",
    "        return 1\n",
    "    \n",
    "    #print(n)\n",
    "    return n * fact2(n-1)\n",
    "\n",
    "###########################\n",
    "start_time = time.time()\n",
    "print(fact1(100))\n",
    "end_time = time.time()\n",
    "\n",
    "print(\"걸린 시간 : \", end_time - start_time)\n",
    "\n",
    "print(\"------------------------\")\n",
    "\n",
    "start_time = time.time()\n",
    "print(fact2(100))\n",
    "end_time = time.time()\n",
    "\n",
    "print(\"걸린 시간 : \", end_time - start_time)"
   ]
  },
  {
   "cell_type": "markdown",
   "metadata": {},
   "source": [
    "---\n",
    "### 파일 처리\n",
    "\n",
    "+ open(파일명(경로 포함), 모드) - mode : r, w, a, rb, wb, ab\n",
    "+ close()\n",
    "+ 읽어올 때 : readline(), readlines(), read()\n",
    "+ 저장할 때 : write()"
   ]
  },
  {
   "cell_type": "code",
   "execution_count": 62,
   "metadata": {},
   "outputs": [
    {
     "name": "stdout",
     "output_type": "stream",
     "text": [
      "# mymodule.py (현재 작업위치에 저장)\n",
      "\n",
      "\n",
      "\n",
      "def sum(num1, num2):\n",
      "\n",
      "\thap = num1 + num2\n",
      "\n",
      "\treturn hap\n",
      "\n",
      "\n",
      "\n",
      "def info(weight, height, **other):\n",
      "\n",
      "\tprint(\"키 : \", height)\n",
      "\n",
      "\tprint(\"몸무게 : \", weight)\n",
      "\n",
      "\tprint(\"기타 : \", other)\n",
      "\n",
      "\n",
      "\n",
      "company = \"파이썬 주식회사\" \n"
     ]
    }
   ],
   "source": [
    "f = open(\"mymodule.py\", \"r\")\n",
    "# print(f)\n",
    "\n",
    "# print(type(f.readline()))\n",
    "# print(f.readline())\n",
    "# print(f.readline())\n",
    "# print(f.readline())\n",
    "# print(f.readline())\n",
    "# print(f.readline())\n",
    "# print(f.readline())\n",
    "# print(f.readline())\n",
    "# print(f.readline())\n",
    "\n",
    "while True:\n",
    "    line = f.readline()\n",
    "    \n",
    "    if not line:\n",
    "        break\n",
    "        \n",
    "    print(line)\n",
    "\n",
    "f.close()"
   ]
  },
  {
   "cell_type": "code",
   "execution_count": 64,
   "metadata": {},
   "outputs": [
    {
     "name": "stdout",
     "output_type": "stream",
     "text": [
      "abcd\n",
      "efgh\n",
      "ijklmn\n",
      "1234\n",
      "5678\n",
      "가나다라\n",
      "마바사아"
     ]
    }
   ],
   "source": [
    "# f = open(\"C:\\\\netsong7\\\\pythonwork\\\\basic\\\\data\\\\filetest1.txt\", \"r\")\n",
    "f = open(\".\\\\data\\\\filetest1.txt\", \"r\")\n",
    "\n",
    "while True:\n",
    "    line = f.readline()\n",
    "    \n",
    "    if not line:\n",
    "        break\n",
    "        \n",
    "    print(line, end=\"\")\n",
    "\n",
    "f.close()"
   ]
  },
  {
   "cell_type": "code",
   "execution_count": 68,
   "metadata": {},
   "outputs": [
    {
     "name": "stdout",
     "output_type": "stream",
     "text": [
      "['abcd\\n', 'efgh\\n', 'ijklmn\\n', '1234\\n', '5678\\n', '가나다라\\n', '마바사아']\n",
      "abcd\n",
      "efgh\n",
      "ijklmn\n",
      "1234\n",
      "5678\n",
      "가나다라\n",
      "마바사아"
     ]
    }
   ],
   "source": [
    "f = open(\"data\\\\filetest1.txt\", \"r\")\n",
    "\n",
    "lines = f.readlines()\n",
    "print(lines)\n",
    "\n",
    "f.close()\n",
    "\n",
    "for i in lines:\n",
    "    print(i, end=\"\")"
   ]
  },
  {
   "cell_type": "code",
   "execution_count": 13,
   "metadata": {},
   "outputs": [
    {
     "name": "stdout",
     "output_type": "stream",
     "text": [
      "abcd\n",
      "efgh\n",
      "ijklmn\n",
      "1234\n",
      "5678\n",
      "가나다라\n",
      "마바사아\n",
      "<class 'str'>\n",
      "----------------------------------------\n",
      "1 : abcd\n",
      "2 : efgh\n",
      "3 : ijklmn\n",
      "4 : 1234\n",
      "5 : 5678\n",
      "6 : 가나다라\n",
      "7 : 마바사아\n",
      "-------------------------\n",
      "1 : abcd\n",
      "2 : efgh\n",
      "3 : ijklmn\n",
      "4 : 1234\n",
      "5 : 5678\n",
      "6 : 가나다라\n",
      "7 : 마바사아\n"
     ]
    }
   ],
   "source": [
    "f = open(\"data\\\\filetest1.txt\", \"r\")\n",
    "\n",
    "data = f.read()\n",
    "print(data)\n",
    "print(type(data))\n",
    "\n",
    "print(\"----------------------------------------\")\n",
    "\"\"\"\n",
    "1:abcd\n",
    "2:efgh\n",
    "3:ijklmn\n",
    "...\n",
    "\"\"\"\n",
    "sdata = data.split(\"\\n\")\n",
    "count = 1\n",
    "for line in sdata:\n",
    "    print(count, \":\", line)\n",
    "    count += 1\n",
    "\n",
    "print(\"-------------------------\")\n",
    "\n",
    "sdata = data.split(\"\\n\")\n",
    "\n",
    "for ix, line in enumerate(sdata):\n",
    "    print(ix+1, \":\", line)\n",
    "\n",
    "f.close()"
   ]
  },
  {
   "cell_type": "code",
   "execution_count": 74,
   "metadata": {},
   "outputs": [],
   "source": [
    "f = open(\"data\\\\filetest2.txt\", \"w\")\n",
    "\n",
    "f.write(\"이름 : 홍길동, \")\n",
    "f.write(\"전화 : 010-111-1111, \")\n",
    "f.write(\"주소 : 서울시 강남구\\n\")\n",
    "\n",
    "f.write(\"이름 : 임꺽정, \")\n",
    "f.write(\"전화 : 010-222-2222, \")\n",
    "f.write(\"주소 : 서울시 강북구\\n\")\n",
    "\n",
    "f.close()"
   ]
  },
  {
   "cell_type": "code",
   "execution_count": 75,
   "metadata": {},
   "outputs": [],
   "source": [
    "f = open(\"data\\\\filetest2.txt\", \"a\")\n",
    "\n",
    "f.write(\"이름 : 신돌석, \")\n",
    "f.write(\"전화 : 010-222-2222, \")\n",
    "f.write(\"주소 : 서울시 강남구\\n\")\n",
    "\n",
    "f.close()"
   ]
  },
  {
   "cell_type": "code",
   "execution_count": 81,
   "metadata": {},
   "outputs": [],
   "source": [
    "# csv 형식으로 데이터 저장\n",
    "\n",
    "nums = [11, 21, 31, 41, 51, 61, 71, 81, 91]\n",
    "\n",
    "f = open(\"data\\\\filetest3.txt\", \"w\")\n",
    "f.write(str(nums))\n",
    "    \n",
    "f.close()"
   ]
  },
  {
   "cell_type": "code",
   "execution_count": 83,
   "metadata": {},
   "outputs": [],
   "source": [
    "f = open(\"data\\\\filetest3.txt\", \"w\")\n",
    "\n",
    "for i in range(len(nums)):\n",
    "    f.write(str(nums[i]) + \", \")\n",
    "    \n",
    "f.close()"
   ]
  },
  {
   "cell_type": "code",
   "execution_count": 86,
   "metadata": {},
   "outputs": [],
   "source": [
    "f = open(\"data\\\\filetest3.txt\", \"w\")\n",
    "\n",
    "count = len(nums)\n",
    "for i in range(count):\n",
    "    if i < count-1:\n",
    "        f.write(str(nums[i]) + \", \")\n",
    "    else:\n",
    "        f.write(str(nums[i]))\n",
    "    \n",
    "f.close()"
   ]
  },
  {
   "cell_type": "code",
   "execution_count": 87,
   "metadata": {},
   "outputs": [
    {
     "name": "stdout",
     "output_type": "stream",
     "text": [
      "11,21,31,41,51,61,71,81,91\n"
     ]
    }
   ],
   "source": [
    "f_str = \",\".join([str(i) for i in nums]) \n",
    "print(f_str)"
   ]
  },
  {
   "cell_type": "code",
   "execution_count": 11,
   "metadata": {},
   "outputs": [
    {
     "name": "stdout",
     "output_type": "stream",
     "text": [
      "파일 포인터 : 0\n",
      "abcd\n",
      "\n",
      "파일 포인터 : 6\n",
      "파일 포인터 : 0\n",
      "gh\n",
      "\n"
     ]
    }
   ],
   "source": [
    "# 임의 접근 : seek(이동할 위치, 기준 위치), tell()\n",
    "# 기준 위치 : 0(default, 파일의 시작 위치), 1(파일의 현재 위치), 2(파일의 끝 위치)\n",
    "\n",
    "# f = open(\"data\\\\filetest1.txt\", \"r\")\n",
    "\n",
    "# print(\"파일 포인터 : %d\"%f.tell())\n",
    "# print(f.readline())\n",
    "# print(\"파일 포인터 : %d\"%f.tell())\n",
    "\n",
    "# f.seek(0, 0)\n",
    "# print(\"파일 포인터 : %d\"%f.tell())\n",
    "\n",
    "# f.seek(8, 0)\n",
    "# print(f.readline())\n",
    "\n",
    "# f.close()\n",
    "\n",
    "with open(\"data\\\\filetest1.txt\", \"r\") as f:\n",
    "    print(\"파일 포인터 : %d\"%f.tell())\n",
    "    print(f.readline())\n",
    "    print(\"파일 포인터 : %d\"%f.tell())\n",
    "\n",
    "    f.seek(0, 0)\n",
    "    print(\"파일 포인터 : %d\"%f.tell())\n",
    "\n",
    "    f.seek(8, 0)\n",
    "    print(f.readline())"
   ]
  },
  {
   "cell_type": "code",
   "execution_count": 12,
   "metadata": {},
   "outputs": [
    {
     "name": "stdout",
     "output_type": "stream",
     "text": [
      "['0-markdown.ipynb', '1-변수와 자료형.ipynb', '2-제어문.ipynb', '3-함수.ipynb']\n"
     ]
    }
   ],
   "source": [
    "# 동시에 여러 개의 파일을 읽어오는 방법\n",
    "\n",
    "import glob\n",
    "\n",
    "# files = glob.glob(\"*\")\n",
    "# files = glob.glob(\"*.*\")\n",
    "files = glob.glob(\"*.ipynb\")\n",
    "print(files)"
   ]
  }
 ],
 "metadata": {
  "kernelspec": {
   "display_name": "Python 3",
   "language": "python",
   "name": "python3"
  },
  "language_info": {
   "codemirror_mode": {
    "name": "ipython",
    "version": 3
   },
   "file_extension": ".py",
   "mimetype": "text/x-python",
   "name": "python",
   "nbconvert_exporter": "python",
   "pygments_lexer": "ipython3",
   "version": "3.8.5"
  }
 },
 "nbformat": 4,
 "nbformat_minor": 4
}
