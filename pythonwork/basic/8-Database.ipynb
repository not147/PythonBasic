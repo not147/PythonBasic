{
 "cells": [
  {
   "cell_type": "markdown",
   "metadata": {},
   "source": [
    "## 1. 파이썬과 MySQL 활용\n",
    "\n",
    "+ 파이썬과 MySQL을 연결해주는 모듈 : mysqlclient, PyMySQL\n",
    "    - pip install mysqlclient\n",
    "    - pip install PyMySQL"
   ]
  },
  {
   "cell_type": "code",
   "execution_count": 1,
   "metadata": {},
   "outputs": [
    {
     "name": "stdout",
     "output_type": "stream",
     "text": [
      "Collecting mysqlclient\n",
      "  Downloading mysqlclient-2.0.3-cp38-cp38-win_amd64.whl (179 kB)\n",
      "Installing collected packages: mysqlclient\n",
      "Successfully installed mysqlclient-2.0.3\n"
     ]
    }
   ],
   "source": [
    "! pip install mysqlclient"
   ]
  },
  {
   "cell_type": "code",
   "execution_count": 2,
   "metadata": {},
   "outputs": [
    {
     "name": "stdout",
     "output_type": "stream",
     "text": [
      "Collecting PyMySQL\n",
      "  Downloading PyMySQL-1.0.2-py3-none-any.whl (43 kB)\n",
      "Installing collected packages: PyMySQL\n",
      "Successfully installed PyMySQL-1.0.2\n"
     ]
    }
   ],
   "source": [
    "! pip install PyMySQL"
   ]
  },
  {
   "cell_type": "code",
   "execution_count": 5,
   "metadata": {},
   "outputs": [
    {
     "name": "stdout",
     "output_type": "stream",
     "text": [
      "<_mysql.connection open to '127.0.0.1' at 00000275C0B10CF0>\n"
     ]
    }
   ],
   "source": [
    "# mysqlclient 모듈 사용\n",
    "import MySQLdb\n",
    "\n",
    "conn = MySQLdb.connect(host=\"127.0.0.1\", user=\"root\", password=\"1111\", database=\"world\")\n",
    "print(conn)\n",
    "conn.close()"
   ]
  },
  {
   "cell_type": "code",
   "execution_count": 6,
   "metadata": {},
   "outputs": [
    {
     "name": "stdout",
     "output_type": "stream",
     "text": [
      "<pymysql.connections.Connection object at 0x00000275C11C15E0>\n"
     ]
    }
   ],
   "source": [
    "# pymysql 모듈 사용\n",
    "import pymysql\n",
    "\n",
    "conn = pymysql.connect(host=\"127.0.0.1\", user=\"root\", password=\"1111\", database=\"world\")\n",
    "print(conn)\n",
    "conn.close()"
   ]
  },
  {
   "cell_type": "code",
   "execution_count": 9,
   "metadata": {},
   "outputs": [],
   "source": [
    "config = {\"host\":\"127.0.0.1\", \"user\":\"root\", \"password\":\"1111\", \"database\":\"world\"}"
   ]
  },
  {
   "cell_type": "code",
   "execution_count": 13,
   "metadata": {},
   "outputs": [
    {
     "name": "stdout",
     "output_type": "stream",
     "text": [
      "<_mysql.connection open to '127.0.0.1' at 00000275C1736F20>\n"
     ]
    }
   ],
   "source": [
    "conn = MySQLdb.connect(**config)\n",
    "print(conn)\n",
    "conn.close()"
   ]
  },
  {
   "cell_type": "markdown",
   "metadata": {},
   "source": [
    "#### (1) SELECT"
   ]
  },
  {
   "cell_type": "code",
   "execution_count": 18,
   "metadata": {},
   "outputs": [
    {
     "name": "stdout",
     "output_type": "stream",
     "text": [
      "[(1, 'Kabul', 'AFG', 'Kabol', 1780000), (2, 'Qandahar', 'AFG', 'Qandahar', 237500), (3, 'Herat', 'AFG', 'Herat', 186800), (4, 'Mazar-e-Sharif', 'AFG', 'Balkh', 127800), (5, 'Amsterdam', 'NLD', 'Noord-Holland', 731200), (6, 'Rotterdam', 'NLD', 'Zuid-Holland', 593321), (7, 'Haag', 'NLD', 'Zuid-Holland', 440900), (8, 'Utrecht', 'NLD', 'Utrecht', 234323), (9, 'Eindhoven', 'NLD', 'Noord-Brabant', 201843), (10, 'Tilburg', 'NLD', 'Noord-Brabant', 193238)]\n"
     ]
    }
   ],
   "source": [
    "conn = MySQLdb.connect(**config)\n",
    "\n",
    "sql = \"select * from city limit 10\"\n",
    "\n",
    "cur = conn.cursor()\n",
    "cur.execute(sql)\n",
    "\n",
    "# print(cur)\n",
    "# for data in cur:\n",
    "    # print(data)\n",
    "    # print(\"%d %s %s %s %d\"% data)\n",
    "    \n",
    "#for a, b, c, d, e in cur:\n",
    "#    print(a, b, c, d, e)\n",
    "\n",
    "result = list()\n",
    "for data in cur:\n",
    "    result.append(data)\n",
    "    \n",
    "conn.close()\n",
    "\n",
    "print(result)"
   ]
  },
  {
   "cell_type": "markdown",
   "metadata": {},
   "source": [
    "#### (2) INSERT"
   ]
  },
  {
   "cell_type": "code",
   "execution_count": 21,
   "metadata": {},
   "outputs": [],
   "source": [
    "conn = MySQLdb.connect(**config)\n",
    "\n",
    "sql = \"create table if not exists tbltest(empno  int, ename  varchar(10), sal  int,  job varchar(10))\"\n",
    "cur = conn.cursor()\n",
    "cur.execute(sql)\n",
    "\n",
    "sql = \"insert into tbltest(empno, ename, sal) values(1, 'scott', 5000)\"\n",
    "cur.execute(sql)\n",
    "conn.commit()\n",
    "\n",
    "conn.close()"
   ]
  },
  {
   "cell_type": "code",
   "execution_count": 28,
   "metadata": {},
   "outputs": [],
   "source": [
    "empno = 2\n",
    "ename = 'miller'\n",
    "sal = 1300\n",
    "\n",
    "conn = MySQLdb.connect(**config)\n",
    "cur = conn.cursor()\n",
    "\n",
    "sql = \"insert into tbltest(empno, ename, sal) values(\"+str(empno)+\",'\"+ename+\"',\"+str(sal)+\")\"\n",
    "#print(sql)\n",
    "cur.execute(sql)\n",
    "conn.commit()\n",
    "\n",
    "conn.close()"
   ]
  },
  {
   "cell_type": "code",
   "execution_count": 30,
   "metadata": {},
   "outputs": [],
   "source": [
    "empno = 3\n",
    "ename = 'tom'\n",
    "sal = 2000\n",
    "\n",
    "conn = MySQLdb.connect(**config)\n",
    "cur = conn.cursor()\n",
    "\n",
    "sql = \"insert into tbltest(empno, ename, sal) values(%s, %s, %s)\"\n",
    "sql_data = (str(empno), ename, str(sal))\n",
    "\n",
    "cur.execute(sql, sql_data)\n",
    "conn.commit()\n",
    "\n",
    "conn.close()"
   ]
  },
  {
   "cell_type": "code",
   "execution_count": 34,
   "metadata": {},
   "outputs": [],
   "source": [
    "try :\n",
    "    conn = MySQLdb.connect(**config)\n",
    "    cur = conn.cursor()\n",
    "    \n",
    "    empno = 4\n",
    "    ename = 'jerry'\n",
    "    sal = 2000\n",
    "    \n",
    "    sql = \"insert into tbltest(empno, ename, sal) values(%s, %s, %s)\"\n",
    "    sql_data = (str(empno), ename, str(sal))\n",
    "    \n",
    "    cur.execute(sql, sql_data)\n",
    "    conn.commit()\n",
    "except Exception as e:\n",
    "    print(\"error : \", e)\n",
    "finally:\n",
    "    conn.close() "
   ]
  },
  {
   "cell_type": "code",
   "execution_count": 35,
   "metadata": {},
   "outputs": [],
   "source": [
    "# 데이터 여러 개 입력하기\n",
    "conn = MySQLdb.connect(**config)\n",
    "cur = conn.cursor()\n",
    "\n",
    "for i in range(10):\n",
    "    sql = \"insert into tbltest(empno, ename, sal) values(5, 'jane', 10000)\"\n",
    "    cur.execute(sql)\n",
    "    conn.commit()\n",
    "    \n",
    "conn.close()"
   ]
  },
  {
   "cell_type": "markdown",
   "metadata": {},
   "source": [
    "#### (3) cursor 객체의 fetchall(), fetchmany(), fetchone()\n",
    "\n",
    "+ default는 fetchall()"
   ]
  },
  {
   "cell_type": "code",
   "execution_count": 39,
   "metadata": {},
   "outputs": [
    {
     "name": "stdout",
     "output_type": "stream",
     "text": [
      "(1, 'scott', 5000, None)\n"
     ]
    }
   ],
   "source": [
    "try:\n",
    "    conn = MySQLdb.connect(**config)\n",
    "    cur = conn.cursor()\n",
    "    \n",
    "    cur.execute(\"select * from tbltest\")\n",
    "    \n",
    "    #for i in cur.fetchall():\n",
    "    #    print(i)\n",
    "    \n",
    "    #for i in cur.fetchmany(5):\n",
    "    #    print(i)\n",
    "    \n",
    "    print(cur.fetchone())\n",
    "\n",
    "finally:\n",
    "    conn.close()"
   ]
  },
  {
   "cell_type": "markdown",
   "metadata": {},
   "source": [
    "#### (4) DictCursor\n",
    "\n",
    "+ 필드명을 인덱스 대신 키로 사용"
   ]
  },
  {
   "cell_type": "code",
   "execution_count": 43,
   "metadata": {},
   "outputs": [
    {
     "name": "stdout",
     "output_type": "stream",
     "text": [
      "1 scott 5000\n",
      "2 miller 1300\n",
      "3 tom 2000\n",
      "3 tom 2000\n",
      "4 jerry 2000\n",
      "5 jane 10000\n",
      "5 jane 10000\n",
      "5 jane 10000\n",
      "5 jane 10000\n",
      "5 jane 10000\n",
      "5 jane 10000\n",
      "5 jane 10000\n",
      "5 jane 10000\n",
      "5 jane 10000\n",
      "5 jane 10000\n"
     ]
    }
   ],
   "source": [
    "try:\n",
    "    conn = MySQLdb.connect(**config)\n",
    "    cur = conn.cursor(MySQLdb.cursors.DictCursor)\n",
    "    \n",
    "    cur.execute(\"select * from tbltest\")\n",
    "    \n",
    "    for i in cur.fetchall():\n",
    "        # print(i[0], i[1], i[2])\n",
    "        print(i[\"empno\"], i[\"ename\"], i[\"sal\"])\n",
    "    \n",
    "finally:\n",
    "    conn.close()"
   ]
  },
  {
   "cell_type": "markdown",
   "metadata": {},
   "source": [
    "#### (5) 응용 실습1 : CSV파일을 DB에 저장"
   ]
  },
  {
   "cell_type": "code",
   "execution_count": null,
   "metadata": {},
   "outputs": [],
   "source": [
    "\"\"\"\n",
    "CREATE TABLE IF NOT EXISTS suppliers(\n",
    "    Supplier_Name    varchar(20),\n",
    "    Invoice_Number   varchar(20),\n",
    "    Part_Number      varchar(20),\n",
    "    Cost             float,\n",
    "    Purchase_Date    date\n",
    ");\n",
    "\n",
    "\"\"\""
   ]
  },
  {
   "cell_type": "code",
   "execution_count": 53,
   "metadata": {},
   "outputs": [
    {
     "name": "stdout",
     "output_type": "stream",
     "text": [
      "<_csv.reader object at 0x00000275C28173A0>\n"
     ]
    }
   ],
   "source": [
    "import csv\n",
    "\n",
    "file = csv.reader(open(\"data/input.csv\"))\n",
    "print(file)\n",
    "\n",
    "# print(next(file))\n",
    "# print(next(file))\n",
    "# print(next(file))\n",
    "\n",
    "header = next(file)\n",
    "\n",
    "try:\n",
    "    conn = MySQLdb.connect(**config)\n",
    "    cur = conn.cursor()\n",
    "    \n",
    "    cur.execute(\"delete from suppliers\")\n",
    "    conn.commit()\n",
    "    \n",
    "    for row in file:\n",
    "        # print(row)\n",
    "        cur.execute(\"insert into suppliers values(%s, %s, %s, %s, %s)\", row)\n",
    "        \n",
    "    conn.commit()\n",
    "finally:\n",
    "    conn.close()"
   ]
  },
  {
   "cell_type": "code",
   "execution_count": null,
   "metadata": {},
   "outputs": [],
   "source": []
  },
  {
   "cell_type": "code",
   "execution_count": null,
   "metadata": {},
   "outputs": [],
   "source": []
  },
  {
   "cell_type": "code",
   "execution_count": null,
   "metadata": {},
   "outputs": [],
   "source": []
  },
  {
   "cell_type": "code",
   "execution_count": null,
   "metadata": {},
   "outputs": [],
   "source": []
  },
  {
   "cell_type": "code",
   "execution_count": null,
   "metadata": {},
   "outputs": [],
   "source": []
  }
 ],
 "metadata": {
  "kernelspec": {
   "display_name": "Python 3",
   "language": "python",
   "name": "python3"
  },
  "language_info": {
   "codemirror_mode": {
    "name": "ipython",
    "version": 3
   },
   "file_extension": ".py",
   "mimetype": "text/x-python",
   "name": "python",
   "nbconvert_exporter": "python",
   "pygments_lexer": "ipython3",
   "version": "3.8.5"
  }
 },
 "nbformat": 4,
 "nbformat_minor": 4
}
