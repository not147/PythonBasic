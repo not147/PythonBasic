{
 "cells": [
  {
   "cell_type": "markdown",
   "metadata": {},
   "source": [
    "## 1. 파이썬과 MySQL 활용\n",
    "\n",
    "+ 파이썬과 MySQL을 연결해주는 모듈 : mysqlclient, PyMySQL\n",
    "    - pip install mysqlclient\n",
    "    - pip install PyMySQL"
   ]
  },
  {
   "cell_type": "code",
   "execution_count": 1,
   "metadata": {},
   "outputs": [
    {
     "name": "stdout",
     "output_type": "stream",
     "text": [
      "Collecting mysqlclient\n",
      "  Downloading mysqlclient-2.0.3-cp38-cp38-win_amd64.whl (179 kB)\n",
      "Installing collected packages: mysqlclient\n",
      "Successfully installed mysqlclient-2.0.3\n"
     ]
    }
   ],
   "source": [
    "! pip install mysqlclient"
   ]
  },
  {
   "cell_type": "code",
   "execution_count": 2,
   "metadata": {},
   "outputs": [
    {
     "name": "stdout",
     "output_type": "stream",
     "text": [
      "Collecting PyMySQL\n",
      "  Downloading PyMySQL-1.0.2-py3-none-any.whl (43 kB)\n",
      "Installing collected packages: PyMySQL\n",
      "Successfully installed PyMySQL-1.0.2\n"
     ]
    }
   ],
   "source": [
    "! pip install PyMySQL"
   ]
  },
  {
   "cell_type": "code",
   "execution_count": 1,
   "metadata": {},
   "outputs": [
    {
     "name": "stdout",
     "output_type": "stream",
     "text": [
      "<_mysql.connection open to '127.0.0.1' at 0000021C2BA60AD0>\n"
     ]
    }
   ],
   "source": [
    "# mysqlclient 모듈 사용\n",
    "import MySQLdb\n",
    "\n",
    "conn = MySQLdb.connect(host=\"127.0.0.1\", user=\"root\", password=\"1111\", database=\"world\")\n",
    "print(conn)\n",
    "conn.close()"
   ]
  },
  {
   "cell_type": "code",
   "execution_count": 6,
   "metadata": {},
   "outputs": [
    {
     "name": "stdout",
     "output_type": "stream",
     "text": [
      "<pymysql.connections.Connection object at 0x00000275C11C15E0>\n"
     ]
    }
   ],
   "source": [
    "# pymysql 모듈 사용\n",
    "import pymysql\n",
    "\n",
    "conn = pymysql.connect(host=\"127.0.0.1\", user=\"root\", password=\"1111\", database=\"world\")\n",
    "print(conn)\n",
    "conn.close()"
   ]
  },
  {
   "cell_type": "code",
   "execution_count": 3,
   "metadata": {},
   "outputs": [],
   "source": [
    "config = {\"host\":\"127.0.0.1\", \"user\":\"root\", \"password\":\"1111\", \"database\":\"world\"}"
   ]
  },
  {
   "cell_type": "code",
   "execution_count": 13,
   "metadata": {},
   "outputs": [
    {
     "name": "stdout",
     "output_type": "stream",
     "text": [
      "<_mysql.connection open to '127.0.0.1' at 00000275C1736F20>\n"
     ]
    }
   ],
   "source": [
    "conn = MySQLdb.connect(**config)\n",
    "print(conn)\n",
    "conn.close()"
   ]
  },
  {
   "cell_type": "markdown",
   "metadata": {},
   "source": [
    "#### (1) SELECT"
   ]
  },
  {
   "cell_type": "code",
   "execution_count": 18,
   "metadata": {},
   "outputs": [
    {
     "name": "stdout",
     "output_type": "stream",
     "text": [
      "[(1, 'Kabul', 'AFG', 'Kabol', 1780000), (2, 'Qandahar', 'AFG', 'Qandahar', 237500), (3, 'Herat', 'AFG', 'Herat', 186800), (4, 'Mazar-e-Sharif', 'AFG', 'Balkh', 127800), (5, 'Amsterdam', 'NLD', 'Noord-Holland', 731200), (6, 'Rotterdam', 'NLD', 'Zuid-Holland', 593321), (7, 'Haag', 'NLD', 'Zuid-Holland', 440900), (8, 'Utrecht', 'NLD', 'Utrecht', 234323), (9, 'Eindhoven', 'NLD', 'Noord-Brabant', 201843), (10, 'Tilburg', 'NLD', 'Noord-Brabant', 193238)]\n"
     ]
    }
   ],
   "source": [
    "conn = MySQLdb.connect(**config)\n",
    "\n",
    "sql = \"select * from city limit 10\"\n",
    "\n",
    "cur = conn.cursor()\n",
    "cur.execute(sql)\n",
    "\n",
    "# print(cur)\n",
    "# for data in cur:\n",
    "    # print(data)\n",
    "    # print(\"%d %s %s %s %d\"% data)\n",
    "    \n",
    "#for a, b, c, d, e in cur:\n",
    "#    print(a, b, c, d, e)\n",
    "\n",
    "result = list()\n",
    "for data in cur:\n",
    "    result.append(data)\n",
    "    \n",
    "conn.close()\n",
    "\n",
    "print(result)"
   ]
  },
  {
   "cell_type": "markdown",
   "metadata": {},
   "source": [
    "#### (2) INSERT"
   ]
  },
  {
   "cell_type": "code",
   "execution_count": 21,
   "metadata": {},
   "outputs": [],
   "source": [
    "conn = MySQLdb.connect(**config)\n",
    "\n",
    "sql = \"create table if not exists tbltest(empno  int, ename  varchar(10), sal  int,  job varchar(10))\"\n",
    "cur = conn.cursor()\n",
    "cur.execute(sql)\n",
    "\n",
    "sql = \"insert into tbltest(empno, ename, sal) values(1, 'scott', 5000)\"\n",
    "cur.execute(sql)\n",
    "conn.commit()\n",
    "\n",
    "conn.close()"
   ]
  },
  {
   "cell_type": "code",
   "execution_count": 28,
   "metadata": {},
   "outputs": [],
   "source": [
    "empno = 2\n",
    "ename = 'miller'\n",
    "sal = 1300\n",
    "\n",
    "conn = MySQLdb.connect(**config)\n",
    "cur = conn.cursor()\n",
    "\n",
    "sql = \"insert into tbltest(empno, ename, sal) values(\"+str(empno)+\",'\"+ename+\"',\"+str(sal)+\")\"\n",
    "#print(sql)\n",
    "cur.execute(sql)\n",
    "conn.commit()\n",
    "\n",
    "conn.close()"
   ]
  },
  {
   "cell_type": "code",
   "execution_count": 30,
   "metadata": {},
   "outputs": [],
   "source": [
    "empno = 3\n",
    "ename = 'tom'\n",
    "sal = 2000\n",
    "\n",
    "conn = MySQLdb.connect(**config)\n",
    "cur = conn.cursor()\n",
    "\n",
    "sql = \"insert into tbltest(empno, ename, sal) values(%s, %s, %s)\"\n",
    "sql_data = (str(empno), ename, str(sal))\n",
    "\n",
    "cur.execute(sql, sql_data)\n",
    "conn.commit()\n",
    "\n",
    "conn.close()"
   ]
  },
  {
   "cell_type": "code",
   "execution_count": 34,
   "metadata": {},
   "outputs": [],
   "source": [
    "try :\n",
    "    conn = MySQLdb.connect(**config)\n",
    "    cur = conn.cursor()\n",
    "    \n",
    "    empno = 4\n",
    "    ename = 'jerry'\n",
    "    sal = 2000\n",
    "    \n",
    "    sql = \"insert into tbltest(empno, ename, sal) values(%s, %s, %s)\"\n",
    "    sql_data = (str(empno), ename, str(sal))\n",
    "    \n",
    "    cur.execute(sql, sql_data)\n",
    "    conn.commit()\n",
    "except Exception as e:\n",
    "    print(\"error : \", e)\n",
    "finally:\n",
    "    conn.close() "
   ]
  },
  {
   "cell_type": "code",
   "execution_count": 35,
   "metadata": {},
   "outputs": [],
   "source": [
    "# 데이터 여러 개 입력하기\n",
    "conn = MySQLdb.connect(**config)\n",
    "cur = conn.cursor()\n",
    "\n",
    "for i in range(10):\n",
    "    sql = \"insert into tbltest(empno, ename, sal) values(5, 'jane', 10000)\"\n",
    "    cur.execute(sql)\n",
    "    conn.commit()\n",
    "    \n",
    "conn.close()"
   ]
  },
  {
   "cell_type": "markdown",
   "metadata": {},
   "source": [
    "#### (3) cursor 객체의 fetchall(), fetchmany(), fetchone()\n",
    "\n",
    "+ default는 fetchall()"
   ]
  },
  {
   "cell_type": "code",
   "execution_count": 39,
   "metadata": {},
   "outputs": [
    {
     "name": "stdout",
     "output_type": "stream",
     "text": [
      "(1, 'scott', 5000, None)\n"
     ]
    }
   ],
   "source": [
    "try:\n",
    "    conn = MySQLdb.connect(**config)\n",
    "    cur = conn.cursor()\n",
    "    \n",
    "    cur.execute(\"select * from tbltest\")\n",
    "    \n",
    "    #for i in cur.fetchall():\n",
    "    #    print(i)\n",
    "    \n",
    "    #for i in cur.fetchmany(5):\n",
    "    #    print(i)\n",
    "    \n",
    "    print(cur.fetchone())\n",
    "\n",
    "finally:\n",
    "    conn.close()"
   ]
  },
  {
   "cell_type": "markdown",
   "metadata": {},
   "source": [
    "#### (4) DictCursor\n",
    "\n",
    "+ 필드명을 인덱스 대신 키로 사용"
   ]
  },
  {
   "cell_type": "code",
   "execution_count": 43,
   "metadata": {},
   "outputs": [
    {
     "name": "stdout",
     "output_type": "stream",
     "text": [
      "1 scott 5000\n",
      "2 miller 1300\n",
      "3 tom 2000\n",
      "3 tom 2000\n",
      "4 jerry 2000\n",
      "5 jane 10000\n",
      "5 jane 10000\n",
      "5 jane 10000\n",
      "5 jane 10000\n",
      "5 jane 10000\n",
      "5 jane 10000\n",
      "5 jane 10000\n",
      "5 jane 10000\n",
      "5 jane 10000\n",
      "5 jane 10000\n"
     ]
    }
   ],
   "source": [
    "try:\n",
    "    conn = MySQLdb.connect(**config)\n",
    "    cur = conn.cursor(MySQLdb.cursors.DictCursor)\n",
    "    \n",
    "    cur.execute(\"select * from tbltest\")\n",
    "    \n",
    "    for i in cur.fetchall():\n",
    "        # print(i[0], i[1], i[2])\n",
    "        print(i[\"empno\"], i[\"ename\"], i[\"sal\"])\n",
    "    \n",
    "finally:\n",
    "    conn.close()"
   ]
  },
  {
   "cell_type": "markdown",
   "metadata": {},
   "source": [
    "#### (5) 응용 실습1 : CSV파일을 DB에 저장"
   ]
  },
  {
   "cell_type": "code",
   "execution_count": null,
   "metadata": {},
   "outputs": [],
   "source": [
    "\"\"\"\n",
    "CREATE TABLE IF NOT EXISTS suppliers(\n",
    "    Supplier_Name    varchar(20),\n",
    "    Invoice_Number   varchar(20),\n",
    "    Part_Number      varchar(20),\n",
    "    Cost             float,\n",
    "    Purchase_Date    date\n",
    ");\n",
    "\n",
    "\"\"\""
   ]
  },
  {
   "cell_type": "code",
   "execution_count": 5,
   "metadata": {},
   "outputs": [
    {
     "name": "stdout",
     "output_type": "stream",
     "text": [
      "<_csv.reader object at 0x0000021C2C420280>\n"
     ]
    }
   ],
   "source": [
    "import csv\n",
    "import datetime\n",
    "\n",
    "file = csv.reader(open(\"data/input.csv\"))\n",
    "print(file)\n",
    "\n",
    "# print(next(file))\n",
    "# print(next(file))\n",
    "# print(next(file))\n",
    "\n",
    "header = next(file)\n",
    "\n",
    "try:\n",
    "    conn = MySQLdb.connect(**config)\n",
    "    cur = conn.cursor()\n",
    "    \n",
    "    cur.execute(\"delete from suppliers\")\n",
    "    conn.commit()\n",
    "    \n",
    "    for row in file:\n",
    "        # print(row)\n",
    "        # cur.execute(\"insert into suppliers values(%s, %s, %s, %s, %s)\", row)\n",
    "        data = []\n",
    "        for col in range(len(header)):\n",
    "            if col == 4:\n",
    "                tmp = datetime.datetime.strptime(row[col], '%Y-%m-%d')\n",
    "                data.append(tmp)\n",
    "            else:\n",
    "                data.append(row[col])\n",
    "                \n",
    "        cur.execute(\"insert into suppliers values(%s, %s, %s, %s, %s)\", data)\n",
    "        \n",
    "    conn.commit()\n",
    "finally:\n",
    "    conn.close()"
   ]
  },
  {
   "cell_type": "markdown",
   "metadata": {},
   "source": [
    "#### (5) DB에서 가져온 데이터를 파일로 저장"
   ]
  },
  {
   "cell_type": "code",
   "execution_count": 11,
   "metadata": {},
   "outputs": [],
   "source": [
    "try:\n",
    "    conn = MySQLdb.connect(**config)\n",
    "    cur = conn.cursor()\n",
    "    \n",
    "    cur.execute(\"select * from suppliers where cost > 500000\")\n",
    "    \n",
    "    #for i in cur:\n",
    "    #    print(i)\n",
    "    \n",
    "    file = csv.writer(open(\"data/output.csv\", \"w\"), delimiter=\",\")\n",
    "    \n",
    "    header = [\"Supplier Name\",\"Invoice Number\",\"Part Number\",\"Cost\",\"Purchase Date\"]\n",
    "    file.writerow(header)\n",
    "    \n",
    "    for row in cur:\n",
    "        file.writerow(row)\n",
    "    \n",
    "finally:\n",
    "    conn.close()"
   ]
  },
  {
   "cell_type": "markdown",
   "metadata": {},
   "source": [
    "## 2. 파이썬과 SQLite\n",
    "\n",
    "1. 로컬로 사용할 수 있는 DBMS\n",
    "    + Access\n",
    "    + SQLite\n",
    "    + Microsoft SQL Server Compact Edition\n",
    "    + Firebird Embedded Server\n",
    "    + H2\n",
    "    + HSQL\n",
    "    + Apache Derby\n",
    "    + ...\n",
    "    \n",
    "    \n",
    "2. 특징\n",
    "    + 파일 기반의 DBMS, 저메모리, 빠른 처리속도\n",
    "    + 오픈 소스\n",
    "    + 별도의 DB서버가 없어도 쉽고 편리하게 사용할 수 있는 Embeded SQL DB엔진\n",
    "    + 안드로이드, 아이폰 등의 스마트폰에 기본 내장된 DB\n",
    "    + 파이썬에도 내장\n",
    "    + 표준SQL 지원\n",
    "    -------------------------\n",
    "    + 컬럼을 삭제하거나 변경하는 것 등이 제한\n",
    "    + Left Outer Join 만 지원\n",
    "    + 읽기 전용 뷰만 제공\n",
    "    + ...\n",
    "    \n",
    "    \n",
    "3. 공식 사이트\n",
    "    + http://sqlite.org\n",
    "    \n",
    "    \n",
    "4. 클라이언트 툴\n",
    "    + http://www.sqliteexpert.com"
   ]
  },
  {
   "cell_type": "code",
   "execution_count": 1,
   "metadata": {},
   "outputs": [],
   "source": [
    "import sqlite3"
   ]
  },
  {
   "cell_type": "code",
   "execution_count": 14,
   "metadata": {},
   "outputs": [
    {
     "name": "stdout",
     "output_type": "stream",
     "text": [
      "2.6.0\n",
      "3.33.0\n"
     ]
    }
   ],
   "source": [
    "print(sqlite3.version)\n",
    "print(sqlite3.sqlite_version)"
   ]
  },
  {
   "cell_type": "code",
   "execution_count": 16,
   "metadata": {},
   "outputs": [
    {
     "name": "stdout",
     "output_type": "stream",
     "text": [
      "<sqlite3.Connection object at 0x0000021C2C1F7B70>\n"
     ]
    }
   ],
   "source": [
    "conn = sqlite3.connect(\"data/sqlitetest.db\")\n",
    "print(conn)\n",
    "conn.close()"
   ]
  },
  {
   "cell_type": "code",
   "execution_count": 17,
   "metadata": {},
   "outputs": [
    {
     "name": "stdout",
     "output_type": "stream",
     "text": [
      "('최주현', '하늘과 땅')\n",
      "('최주현', '바다')\n",
      "('유은정', '바다')\n",
      "('박성우', '문')\n",
      "('최주현', '문')\n",
      "('박성우', '천국')\n",
      "('최지은', '천국')\n",
      "('최주현', '천국')\n",
      "('박성우', '고슴도치')\n",
      "('서금동', '나')\n"
     ]
    }
   ],
   "source": [
    "# select\n",
    "\n",
    "conn = sqlite3.connect(\"data/sqlitetest.db\")\n",
    "cur = conn.cursor()\n",
    "\n",
    "cur.execute(\"select * from tblbook\")\n",
    "for row in cur:\n",
    "    print(row)\n",
    "\n",
    "conn.close()"
   ]
  },
  {
   "cell_type": "code",
   "execution_count": null,
   "metadata": {},
   "outputs": [],
   "source": [
    "\"\"\"\n",
    "CREATE TABLE tblMember(\n",
    "    id   int,\n",
    "    name  varchar(10),\n",
    "    regdate  datetime\n",
    ");\n",
    "\n",
    "insert into tblMember(id, name, regdate) values(1, '홍길동', '2020-12-25');\n",
    "insert into tblMember(id, name, regdate) values(2, '임꺽정', date('now'));\n",
    "\"\"\""
   ]
  },
  {
   "cell_type": "code",
   "execution_count": 18,
   "metadata": {},
   "outputs": [
    {
     "name": "stdout",
     "output_type": "stream",
     "text": [
      "(1, '홍길동', '2020-12-25')\n",
      "(2, '임꺽정', '2021-04-27')\n"
     ]
    }
   ],
   "source": [
    "conn = sqlite3.connect(\"data/sqlitetest.db\")\n",
    "cur = conn.cursor()\n",
    "\n",
    "cur.execute(\"select * from tblMember\")\n",
    "for row in cur:\n",
    "    print(row)\n",
    "\n",
    "conn.close()"
   ]
  },
  {
   "cell_type": "code",
   "execution_count": 21,
   "metadata": {},
   "outputs": [
    {
     "name": "stdout",
     "output_type": "stream",
     "text": [
      "(1, '홍길동')\n",
      "(1, '홍길동')\n"
     ]
    }
   ],
   "source": [
    "# 자동으로 db 생성하고 테이블 생성\n",
    "\n",
    "conn = sqlite3.connect(\"data/auto.db\")\n",
    "# print(conn)\n",
    "cur = conn.cursor()\n",
    "\n",
    "cur.execute(\"create table if not exists tblmember(id   int, name varchar(10))\")\n",
    "conn.commit()\n",
    "\n",
    "cur.execute(\"insert into tblmember values(1, '홍길동')\")\n",
    "conn.commit()\n",
    "\n",
    "cur.execute(\"select * from tblMember\")\n",
    "for row in cur:\n",
    "    print(row)\n",
    "\n",
    "conn.close()"
   ]
  },
  {
   "cell_type": "code",
   "execution_count": 6,
   "metadata": {},
   "outputs": [
    {
     "name": "stdout",
     "output_type": "stream",
     "text": [
      "('table', 'tblBook', 'tblBook', 2, 'CREATE TABLE tblBook(\\r\\n                          \\t\\tauthor  varchar(20),\\r\\n                          \\t\\ttitle varchar(20)\\r\\n\\t\\t)')\n",
      "('table', 'tblMember', 'tblMember', 3, 'CREATE TABLE tblMember(\\r\\n    id   int,\\r\\n    name  varchar(10),\\r\\n    regdate  datetime\\r\\n)')\n",
      "('table', 'suppliers', 'suppliers', 4, 'CREATE TABLE suppliers(\\r\\n    Supplier_Name    varchar(20),\\r\\n    Invoice_Number   varchar(20),\\r\\n    Part_Number      varchar(20),\\r\\n    Cost             float,\\r\\n    Purchase_Date    date\\r\\n)')\n"
     ]
    }
   ],
   "source": [
    "################# csv 파일을 읽어들여서 DB에 저장 ##################\n",
    "\n",
    "import csv\n",
    "\n",
    "conn = sqlite3.connect(\"data/sqlitetest.db\")\n",
    "cur = conn.cursor()\n",
    "\n",
    "# 테이블 조회\n",
    "tables = cur.execute(\"select * from sqlite_master where type='table'\")\n",
    "for i in tables:\n",
    "    print(i)\n",
    "    \n",
    "# 파일 불러오기\n",
    "file = csv.reader(open(\"data/input.csv\", \"r\"), delimiter=\",\")\n",
    "#for i in file:\n",
    "#    print(i)\n",
    "\n",
    "next(file)\n",
    "\n",
    "for row in file:\n",
    "    cur.execute(\"insert into suppliers values(?, ?, ?, ?, ?)\", row)\n",
    "\n",
    "conn.commit()\n",
    "\n",
    "conn.close()"
   ]
  },
  {
   "cell_type": "code",
   "execution_count": 7,
   "metadata": {},
   "outputs": [
    {
     "name": "stdout",
     "output_type": "stream",
     "text": [
      "('A', '001-1001', '2341', 500000.0, '2014-01-20')\n",
      "('A', '001-1002', '2341', 500000.0, '2014-01-20')\n",
      "('A', '001-1003', '5467', 750000.0, '2014-01-20')\n",
      "('A', '001-1004', '5467', 750000.0, '2014-01-20')\n",
      "('B', '001-1005', '7009', 250000.0, '2018-01-30')\n"
     ]
    }
   ],
   "source": [
    "# expert로 확인하거나 select로 확인\n",
    "conn = sqlite3.connect(\"data/sqlitetest.db\")\n",
    "cur = conn.cursor()\n",
    "\n",
    "cur.execute(\"select * from suppliers\")\n",
    "for i in cur.fetchmany(5):\n",
    "    print(i)\n",
    "    \n",
    "conn.close()"
   ]
  },
  {
   "cell_type": "code",
   "execution_count": 13,
   "metadata": {},
   "outputs": [
    {
     "name": "stdout",
     "output_type": "stream",
     "text": [
      "('tom', '010-111-1111')\n",
      "('Johnson', '010-222-2222')\n",
      "('jane', '010-333-3333')\n",
      "('jerry', '010-444-4444')\n",
      "('marry', '010-555-5555')\n"
     ]
    }
   ],
   "source": [
    "################ Memory DB #################\n",
    "\n",
    "conn = sqlite3.connect(\":memory:\")\n",
    "# print(conn)\n",
    "cur = conn.cursor()\n",
    "\n",
    "cur.execute(\"create table phonebook(name varchar(10), phonenumber text);\")\n",
    "cur.execute(\"insert into phonebook values(?, ?);\", (\"tom\", \"010-111-1111\"))\n",
    "\n",
    "# 입력 데이터 인자를 변수명으로 처리\n",
    "sql = \"insert into phonebook values(:vName, :vPhone)\"\n",
    "cur.execute(sql, {\"vPhone\":\"010-222-2222\", \"vName\":\"Johnson\"})\n",
    "\n",
    "# 여러 개의 데이터를 한번에 입력\n",
    "datalist = (('jane', '010-333-3333'), ('jerry', '010-444-4444'), ('marry', '010-555-5555'))\n",
    "cur.executemany(\"insert into phonebook values(?, ?)\", datalist)\n",
    "\n",
    "cur.execute(\"select * from phonebook\")\n",
    "for row in cur:\n",
    "    print(row)\n",
    "    \n",
    "# 지금 작업 내용을 script로 저장\n",
    "f = open(\"data/dump.sql\", \"w\")\n",
    "for line in conn.iterdump():\n",
    "    f.write(\"{}\\n\".format(line))\n",
    "    \n",
    "f.close()\n",
    "conn.close()"
   ]
  },
  {
   "cell_type": "code",
   "execution_count": 15,
   "metadata": {},
   "outputs": [
    {
     "name": "stdout",
     "output_type": "stream",
     "text": [
      "BEGIN TRANSACTION;\n",
      "CREATE TABLE phonebook(name varchar(10), phonenumber text);\n",
      "INSERT INTO \"phonebook\" VALUES('tom','010-111-1111');\n",
      "INSERT INTO \"phonebook\" VALUES('Johnson','010-222-2222');\n",
      "INSERT INTO \"phonebook\" VALUES('jane','010-333-3333');\n",
      "INSERT INTO \"phonebook\" VALUES('jerry','010-444-4444');\n",
      "INSERT INTO \"phonebook\" VALUES('marry','010-555-5555');\n",
      "COMMIT;\n",
      "\n"
     ]
    }
   ],
   "source": [
    "# 스크립트 불러오기\n",
    "conn = sqlite3.connect(\"data/sqlitetest.db\")\n",
    "cur = conn.cursor()\n",
    "\n",
    "file = open(\"data/dump.sql\", \"r\")\n",
    "script = file.read()\n",
    "print(script)\n",
    "\n",
    "cur.executescript(script)\n",
    "\n",
    "conn.close()"
   ]
  },
  {
   "cell_type": "markdown",
   "metadata": {},
   "source": [
    "---\n",
    "## 3. 파이썬과 MongoDB 연동\n",
    "\n",
    "+ pip install pymongo"
   ]
  },
  {
   "cell_type": "code",
   "execution_count": 4,
   "metadata": {},
   "outputs": [],
   "source": [
    "# import pymongo\n",
    "from pymongo import MongoClient"
   ]
  },
  {
   "cell_type": "markdown",
   "metadata": {},
   "source": [
    "#### (1) 서버 연결"
   ]
  },
  {
   "cell_type": "code",
   "execution_count": 5,
   "metadata": {},
   "outputs": [
    {
     "name": "stdout",
     "output_type": "stream",
     "text": [
      "MongoClient(host=['127.0.0.1:27017'], document_class=dict, tz_aware=False, connect=True)\n"
     ]
    }
   ],
   "source": [
    "# conn = pymongo.MongoClient(\"127.0.0.1\", 27017)\n",
    "conn = MongoClient(\"127.0.0.1\", 27017)\n",
    "print(conn)\n",
    "conn.close()"
   ]
  },
  {
   "cell_type": "markdown",
   "metadata": {},
   "source": [
    "#### (2) DB 연결"
   ]
  },
  {
   "cell_type": "code",
   "execution_count": 9,
   "metadata": {},
   "outputs": [
    {
     "name": "stdout",
     "output_type": "stream",
     "text": [
      "Database(MongoClient(host=['127.0.0.1:27017'], document_class=dict, tz_aware=False, connect=True), 'test')\n"
     ]
    }
   ],
   "source": [
    "conn = MongoClient(\"127.0.0.1\", 27017)\n",
    "\n",
    "# dbname = conn.get_database(\"test\")\n",
    "# dbname = conn.test\n",
    "# dbname = conn.test2\n",
    "dbname = conn[\"test\"]\n",
    "print(dbname)\n",
    "\n",
    "conn.close()"
   ]
  },
  {
   "cell_type": "markdown",
   "metadata": {},
   "source": [
    "#### (3) Collection 연결"
   ]
  },
  {
   "cell_type": "code",
   "execution_count": 11,
   "metadata": {},
   "outputs": [
    {
     "name": "stdout",
     "output_type": "stream",
     "text": [
      "Collection(Database(MongoClient(host=['127.0.0.1:27017'], document_class=dict, tz_aware=False, connect=True), 'test'), 'articles')\n"
     ]
    }
   ],
   "source": [
    "conn = MongoClient(\"127.0.0.1\", 27017)\n",
    "dbname = conn.test\n",
    "\n",
    "# collect = dbname.articles\n",
    "collect = dbname[\"articles\"]\n",
    "print(collect)\n",
    "\n",
    "conn.close()"
   ]
  },
  {
   "cell_type": "markdown",
   "metadata": {},
   "source": [
    "#### (4) 데이터 입력(1개)"
   ]
  },
  {
   "cell_type": "code",
   "execution_count": 16,
   "metadata": {
    "collapsed": true
   },
   "outputs": [
    {
     "name": "stdout",
     "output_type": "stream",
     "text": [
      "7\n",
      "{'_id': ObjectId('608a59194b63366b2452ff0f'), 'name': 'Abet', 'age': 19.0, 'score': 10.0}\n",
      "{'_id': ObjectId('608a59194b63366b2452ff10'), 'name': 'Betty', 'age': 20.0, 'score': 10.0}\n",
      "{'_id': ObjectId('608a59194b63366b2452ff11'), 'name': 'Charlie', 'age': 23.0, 'skills': ['mongodb', 'nodejs']}\n",
      "{'_id': ObjectId('608a59194b63366b2452ff12'), 'name': 'David', 'age': 23.0, 'score': 20.0}\n",
      "{'_id': ObjectId('608a61e75000cf932a925e2a'), 'name': 'Elly', 'age': 17.0, 'score': 10.0}\n",
      "{'_id': ObjectId('608b570e6292855080b97d10'), 'author': 'Mike', 'text': 'my first blog post!', 'tag': ['mongodb', 'python']}\n",
      "{'_id': ObjectId('608b58726292855080b97d12'), 'author': 'Tom', 'text': 'my first blog post!', 'tag': ['mongodb', 'python']}\n"
     ]
    }
   ],
   "source": [
    "conn = MongoClient(\"127.0.0.1\", 27017)\n",
    "dbname = conn.test\n",
    "collect = dbname.people\n",
    "\n",
    "#data = {\"author\":\"Mike\", \"text\":\"my first blog post!\", \"tag\":[\"mongodb\", \"python\"]}\n",
    "#collect.insert_one(data)\n",
    "\n",
    "# 입력하면서 id 가져오기\n",
    "#data = {\"author\":\"Tom\", \"text\":\"my first blog post!\", \"tag\":[\"mongodb\", \"python\"]}\n",
    "#post_id = collect.insert_one(data).inserted_id\n",
    "#print(post_id)\n",
    "\n",
    "print(collect.count_documents({}))\n",
    "\n",
    "for i in collect.find():\n",
    "    print(i)\n",
    "\n",
    "conn.close()"
   ]
  },
  {
   "cell_type": "markdown",
   "metadata": {},
   "source": [
    "#### (5) 데이터 입력하기(여러 개)"
   ]
  },
  {
   "cell_type": "code",
   "execution_count": 18,
   "metadata": {},
   "outputs": [
    {
     "name": "stdout",
     "output_type": "stream",
     "text": [
      "7\n",
      "17\n"
     ]
    }
   ],
   "source": [
    "conn = MongoClient(\"127.0.0.1\", 27017)\n",
    "dbname = conn.test\n",
    "collect = dbname.people\n",
    "\n",
    "print(collect.count_documents({}))\n",
    "\n",
    "collect.insert_many([{\"number\": i} for i in range(10)])\n",
    "\n",
    "print(collect.count_documents({}))\n",
    "\n",
    "conn.close()"
   ]
  },
  {
   "cell_type": "code",
   "execution_count": 19,
   "metadata": {},
   "outputs": [
    {
     "name": "stdout",
     "output_type": "stream",
     "text": [
      "[{'number': 0}, {'number': 1}, {'number': 2}, {'number': 3}, {'number': 4}, {'number': 5}, {'number': 6}, {'number': 7}, {'number': 8}, {'number': 9}]\n"
     ]
    }
   ],
   "source": [
    "datas = []\n",
    "for i in range(10):\n",
    "    data = {\"number\" : i}\n",
    "    datas.append(data)\n",
    "    \n",
    "print(datas)"
   ]
  },
  {
   "cell_type": "code",
   "execution_count": 21,
   "metadata": {},
   "outputs": [],
   "source": [
    "conn = MongoClient(\"127.0.0.1\", 27017)\n",
    "dbname = conn.test\n",
    "collect = dbname.people\n",
    "\n",
    "data = list()\n",
    "data.append({\"name\":\"aron\", \"age\":20})\n",
    "data.append({\"name\":\"tom\", \"age\":21})\n",
    "data.append({\"name\":\"jane\", \"age\":22})\n",
    "data.append({\"name\":\"jerry\", \"age\":23})\n",
    "\n",
    "collect.insert_many(data)\n",
    "\n",
    "conn.close()"
   ]
  },
  {
   "cell_type": "markdown",
   "metadata": {},
   "source": [
    "#### (6) 조회"
   ]
  },
  {
   "cell_type": "code",
   "execution_count": 30,
   "metadata": {
    "collapsed": true
   },
   "outputs": [
    {
     "name": "stdout",
     "output_type": "stream",
     "text": [
      "{'_id': ObjectId('608a59194b63366b2452ff10'), 'name': 'Betty', 'age': 20.0, 'score': 10.0}\n",
      "{'_id': ObjectId('608b5e696292855080b97d24'), 'name': 'aron', 'age': 20}\n",
      "---------------------------\n",
      "{'_id': ObjectId('608a59194b63366b2452ff11'), 'name': 'Charlie', 'age': 23.0, 'skills': ['mongodb', 'nodejs']}\n",
      "{'_id': ObjectId('608a59194b63366b2452ff12'), 'name': 'David', 'age': 23.0, 'score': 20.0}\n",
      "{'_id': ObjectId('608b5e696292855080b97d27'), 'name': 'jerry', 'age': 23}\n",
      "---------------------------\n",
      "{'_id': ObjectId('608a59194b63366b2452ff0f'), 'name': 'Abet', 'age': 19.0, 'score': 10.0}\n",
      "{'_id': ObjectId('608a59194b63366b2452ff11'), 'name': 'Charlie', 'age': 23.0, 'skills': ['mongodb', 'nodejs']}\n"
     ]
    }
   ],
   "source": [
    "conn = MongoClient(\"127.0.0.1\", 27017)\n",
    "dbname = conn.test\n",
    "collect = dbname.people\n",
    "\n",
    "# 전체 조회\n",
    "#for i in collect.find():\n",
    "#    print(i)\n",
    "\n",
    "# 나이가 20살인 document 조회\n",
    "for i in collect.find({\"age\" : 20}):\n",
    "    print(i)\n",
    "    \n",
    "print(\"---------------------------\")\n",
    "\n",
    "# 나이가 23세 이상인 document 조회\n",
    "for i in collect.find({\"age\" : {\"$gte\" : 23}}):\n",
    "    print(i)\n",
    "\n",
    "print(\"---------------------------\")\n",
    "\n",
    "print(collect.find_one())\n",
    "print(collect.find_one({\"age\" : {\"$gte\" : 23}}))\n",
    "\n",
    "conn.close()"
   ]
  },
  {
   "cell_type": "markdown",
   "metadata": {},
   "source": [
    "#### (7) 수정"
   ]
  },
  {
   "cell_type": "code",
   "execution_count": 32,
   "metadata": {},
   "outputs": [
    {
     "name": "stdout",
     "output_type": "stream",
     "text": [
      "{'_id': ObjectId('608b58726292855080b97d12'), 'author': 'Tom', 'text': 'my first blog post!', 'tag': ['mongodb', 'python']}\n",
      "{'_id': ObjectId('608b58726292855080b97d12'), 'author': 'Tom', 'text': 'my second blog post!', 'tag': ['mongodb', 'python']}\n"
     ]
    }
   ],
   "source": [
    "conn = MongoClient(\"127.0.0.1\", 27017)\n",
    "dbname = conn.test\n",
    "collect = dbname.people\n",
    "\n",
    "print(collect.find_one({\"author\" : \"Tom\"}))\n",
    "\n",
    "collect.update_one({\"author\" : \"Tom\"}, {\"$set\" : {\"text\" : \"my second blog post!\"}})\n",
    "\n",
    "print(collect.find_one({\"author\" : \"Tom\"}))\n",
    "\n",
    "conn.close()"
   ]
  },
  {
   "cell_type": "code",
   "execution_count": null,
   "metadata": {},
   "outputs": [],
   "source": []
  }
 ],
 "metadata": {
  "kernelspec": {
   "display_name": "Python 3",
   "language": "python",
   "name": "python3"
  },
  "language_info": {
   "codemirror_mode": {
    "name": "ipython",
    "version": 3
   },
   "file_extension": ".py",
   "mimetype": "text/x-python",
   "name": "python",
   "nbconvert_exporter": "python",
   "pygments_lexer": "ipython3",
   "version": "3.8.5"
  }
 },
 "nbformat": 4,
 "nbformat_minor": 4
}
