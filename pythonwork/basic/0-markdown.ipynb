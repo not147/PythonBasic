{
 "cells": [
  {
   "cell_type": "markdown",
   "metadata": {},
   "source": [
    "# 글자 크기\n",
    "\n",
    "## 글자 크기\n",
    "\n",
    "### 글자 크기\n",
    "\n",
    "#### 글자 크기\n",
    "\n",
    "##### 글자 크기\n",
    "\n",
    "글자 크기\n",
    "\n",
    "글자 크기\n",
    "=\n",
    "\n",
    "글자 크기\n",
    "--"
   ]
  },
  {
   "cell_type": "markdown",
   "metadata": {},
   "source": [
    "---\n",
    "\n",
    "여기서부터 문장 시작입니다.\n",
    ">첫번째 들여쓰기\n",
    "\n",
    ">두번째 들여쓰기\n",
    "\n",
    ">> 세번째 들여쓰기"
   ]
  },
  {
   "cell_type": "markdown",
   "metadata": {},
   "source": [
    "---\n",
    "\n",
    "과일의 종류\n",
    "1. 사과\n",
    "2. 배\n",
    "3. 포도\n",
    "\n",
    "\n",
    "좋아하는 색상\n",
    "* 빨강\n",
    "+ 노랑\n",
    "- 파랑\n",
    "\n",
    "\n",
    "지역\n",
    "* 서울\n",
    "    + 강남구\n",
    "    + 강북구\n",
    "    \n",
    "* 경기\n",
    "    - 의정부\n",
    "    - 포천"
   ]
  },
  {
   "cell_type": "markdown",
   "metadata": {},
   "source": [
    "[네이버](http://www.naver.com)\n",
    "<br>[다음](http://www.daum.net)"
   ]
  },
  {
   "cell_type": "markdown",
   "metadata": {},
   "source": [
    "*이탤릭체* \n",
    "\n",
    "이것은 **볼드체** <br> 입니다. \n",
    "\n",
    "안녕하세요 이것은 \" ~ \" 을 이용한 ~관통선~ 입니다.\n"
   ]
  },
  {
   "cell_type": "markdown",
   "metadata": {},
   "source": [
    "내가 붙인 이미지 :\n",
    "\n",
    "![이미지](images/images.jfif)"
   ]
  },
  {
   "cell_type": "code",
   "execution_count": null,
   "metadata": {},
   "outputs": [],
   "source": []
  }
 ],
 "metadata": {
  "kernelspec": {
   "display_name": "Python 3",
   "language": "python",
   "name": "python3"
  },
  "language_info": {
   "codemirror_mode": {
    "name": "ipython",
    "version": 3
   },
   "file_extension": ".py",
   "mimetype": "text/x-python",
   "name": "python",
   "nbconvert_exporter": "python",
   "pygments_lexer": "ipython3",
   "version": "3.8.5"
  }
 },
 "nbformat": 4,
 "nbformat_minor": 4
}
