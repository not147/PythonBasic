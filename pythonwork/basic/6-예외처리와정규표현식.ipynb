{
 "cells": [
  {
   "cell_type": "markdown",
   "metadata": {},
   "source": [
    "## 1. 예외 처리\n",
    "\n",
    "\n",
    "#### (1) 예외처리를 하는 이유\n",
    "+ 자연스러운 예외 메시지를 출력\n",
    "+ 프로그램의 비정상적인 종료를 방지\n",
    "\n",
    "\n",
    "#### (2) 문법\n",
    "\n",
    "    try :\n",
    "        코드\n",
    "        ...\n",
    "\n",
    "    except [예외처리 클래스 [as 변수]]:\n",
    "        코드\n",
    "        ...\n",
    "    \n",
    "    [else :\n",
    "        코드 (예외가 발생하지 않았을 때 실행)\n",
    "        ... ]\n",
    "        \n",
    "    [finally:\n",
    "        코드 (예외발생과는 무관하게 반드시 실행)\n",
    "        ...]"
   ]
  },
  {
   "cell_type": "code",
   "execution_count": 3,
   "metadata": {},
   "outputs": [
    {
     "name": "stdout",
     "output_type": "stream",
     "text": [
      "3.3333333333333335\n",
      "나머지 코드 실행~~~\n",
      "5.0\n",
      "나머지 코드 실행~~~\n"
     ]
    },
    {
     "ename": "ZeroDivisionError",
     "evalue": "division by zero",
     "output_type": "error",
     "traceback": [
      "\u001b[1;31m---------------------------------------------------------------------------\u001b[0m",
      "\u001b[1;31mZeroDivisionError\u001b[0m                         Traceback (most recent call last)",
      "\u001b[1;32m<ipython-input-3-0d53156be8d3>\u001b[0m in \u001b[0;36m<module>\u001b[1;34m\u001b[0m\n\u001b[0;32m      9\u001b[0m \u001b[0mtest\u001b[0m\u001b[1;33m(\u001b[0m\u001b[1;36m3\u001b[0m\u001b[1;33m)\u001b[0m\u001b[1;33m\u001b[0m\u001b[1;33m\u001b[0m\u001b[0m\n\u001b[0;32m     10\u001b[0m \u001b[0mtest\u001b[0m\u001b[1;33m(\u001b[0m\u001b[1;36m2\u001b[0m\u001b[1;33m)\u001b[0m\u001b[1;33m\u001b[0m\u001b[1;33m\u001b[0m\u001b[0m\n\u001b[1;32m---> 11\u001b[1;33m \u001b[0mtest\u001b[0m\u001b[1;33m(\u001b[0m\u001b[1;36m0\u001b[0m\u001b[1;33m)\u001b[0m\u001b[1;33m\u001b[0m\u001b[1;33m\u001b[0m\u001b[0m\n\u001b[0m",
      "\u001b[1;32m<ipython-input-3-0d53156be8d3>\u001b[0m in \u001b[0;36mtest\u001b[1;34m(num)\u001b[0m\n\u001b[0;32m      1\u001b[0m \u001b[1;32mdef\u001b[0m \u001b[0mtest\u001b[0m\u001b[1;33m(\u001b[0m\u001b[0mnum\u001b[0m\u001b[1;33m)\u001b[0m\u001b[1;33m:\u001b[0m\u001b[1;33m\u001b[0m\u001b[1;33m\u001b[0m\u001b[0m\n\u001b[1;32m----> 2\u001b[1;33m     \u001b[0mresult\u001b[0m \u001b[1;33m=\u001b[0m \u001b[1;36m10\u001b[0m\u001b[1;33m/\u001b[0m\u001b[0mnum\u001b[0m\u001b[1;33m\u001b[0m\u001b[1;33m\u001b[0m\u001b[0m\n\u001b[0m\u001b[0;32m      3\u001b[0m     \u001b[0mprint\u001b[0m\u001b[1;33m(\u001b[0m\u001b[0mresult\u001b[0m\u001b[1;33m)\u001b[0m\u001b[1;33m\u001b[0m\u001b[1;33m\u001b[0m\u001b[0m\n\u001b[0;32m      4\u001b[0m \u001b[1;33m\u001b[0m\u001b[0m\n\u001b[0;32m      5\u001b[0m     \u001b[0mprint\u001b[0m\u001b[1;33m(\u001b[0m\u001b[1;34m\"나머지 코드 실행~~~\"\u001b[0m\u001b[1;33m)\u001b[0m\u001b[1;33m\u001b[0m\u001b[1;33m\u001b[0m\u001b[0m\n",
      "\u001b[1;31mZeroDivisionError\u001b[0m: division by zero"
     ]
    }
   ],
   "source": [
    "def test(num):\n",
    "    result = 10/num\n",
    "    print(result)\n",
    "    \n",
    "    print(\"나머지 코드 실행~~~\")\n",
    "    \n",
    "###########################################\n",
    "\n",
    "test(3)\n",
    "test(2)\n",
    "test(0)"
   ]
  },
  {
   "cell_type": "code",
   "execution_count": 5,
   "metadata": {},
   "outputs": [
    {
     "name": "stdout",
     "output_type": "stream",
     "text": [
      "3.3333333333333335\n",
      "나머지 코드 실행~~~\n",
      "에러가 났어요\n",
      "나머지 코드 실행~~~\n"
     ]
    }
   ],
   "source": [
    "def test(num):\n",
    "    try:\n",
    "        result = 10/num\n",
    "        print(result)\n",
    "    except:\n",
    "        print(\"에러가 났어요\")\n",
    "    \n",
    "    print(\"나머지 코드 실행~~~\")\n",
    "    \n",
    "###########################################\n",
    "\n",
    "test(3)\n",
    "test(0)"
   ]
  },
  {
   "cell_type": "code",
   "execution_count": 10,
   "metadata": {},
   "outputs": [
    {
     "name": "stdout",
     "output_type": "stream",
     "text": [
      "3.3333333333333335\n",
      "나머지 코드 실행~~~\n",
      "0으로 나누면 안됩니다.\n",
      "나머지 코드 실행~~~\n",
      "알수없는 오류\n",
      "나머지 코드 실행~~~\n"
     ]
    }
   ],
   "source": [
    "def test(num):\n",
    "    try:\n",
    "        result = 10/num\n",
    "        print(result)\n",
    "    except ZeroDivisionError:\n",
    "        print(\"0으로 나누면 안됩니다.\")\n",
    "    except:\n",
    "        print(\"알수없는 오류\")\n",
    "        \n",
    "    print(\"나머지 코드 실행~~~\")\n",
    "    \n",
    "###########################################\n",
    "\n",
    "test(3)\n",
    "test(0)\n",
    "test('가')"
   ]
  },
  {
   "cell_type": "code",
   "execution_count": 13,
   "metadata": {},
   "outputs": [
    {
     "name": "stdout",
     "output_type": "stream",
     "text": [
      "2.0\n",
      "인덱스를 잘못 사용했습니다\n",
      "나머지 코드 실행~~~\n"
     ]
    }
   ],
   "source": [
    "def test(num):\n",
    "    try:\n",
    "        result = 10/num\n",
    "        print(result)\n",
    "        \n",
    "        arr = [0, 1, 2]\n",
    "        print(arr[num])\n",
    "    except ZeroDivisionError:\n",
    "        print(\"0으로 나누면 안됩니다.\")\n",
    "    except IndexError:\n",
    "        print(\"인덱스를 잘못 사용했습니다\")\n",
    "    except:\n",
    "        print(\"알수없는 오류\")\n",
    "        \n",
    "    print(\"나머지 코드 실행~~~\")\n",
    "    \n",
    "###########################################\n",
    "\n",
    "test(5)"
   ]
  },
  {
   "cell_type": "code",
   "execution_count": 14,
   "metadata": {},
   "outputs": [
    {
     "name": "stdout",
     "output_type": "stream",
     "text": [
      "2.0\n",
      "0으로 나누거나 인덱스를 잘못 사용했습니다.\n",
      "나머지 코드 실행~~~\n"
     ]
    }
   ],
   "source": [
    "def test(num):\n",
    "    try:\n",
    "        result = 10/num\n",
    "        print(result)\n",
    "        \n",
    "        arr = [0, 1, 2]\n",
    "        print(arr[num])\n",
    "    except (ZeroDivisionError, IndexError):\n",
    "        print(\"0으로 나누거나 인덱스를 잘못 사용했습니다.\")\n",
    "    except:\n",
    "        print(\"알수없는 오류\")\n",
    "        \n",
    "    print(\"나머지 코드 실행~~~\")\n",
    "    \n",
    "###########################################\n",
    "\n",
    "test(5)"
   ]
  },
  {
   "cell_type": "code",
   "execution_count": 16,
   "metadata": {},
   "outputs": [
    {
     "name": "stdout",
     "output_type": "stream",
     "text": [
      "2.0\n",
      "인덱스를 잘못 사용했습니다 list index out of range\n",
      "나머지 코드 실행~~~\n"
     ]
    }
   ],
   "source": [
    "def test(num):\n",
    "    try:\n",
    "        result = 10/num\n",
    "        print(result)\n",
    "        \n",
    "        arr = [0, 1, 2]\n",
    "        print(arr[num])\n",
    "    except ZeroDivisionError as e:\n",
    "        print(\"0으로 나누면 안됩니다.\", e)\n",
    "    except IndexError as e:\n",
    "        print(\"인덱스를 잘못 사용했습니다\", e)\n",
    "    except:\n",
    "        print(\"알수없는 오류\")\n",
    "        \n",
    "    print(\"나머지 코드 실행~~~\")\n",
    "    \n",
    "###########################################\n",
    "\n",
    "# test(0)\n",
    "test(5)"
   ]
  },
  {
   "cell_type": "code",
   "execution_count": 18,
   "metadata": {},
   "outputs": [
    {
     "name": "stdout",
     "output_type": "stream",
     "text": [
      "5.0\n",
      "2\n",
      "나머지 코드 실행~~~\n",
      "2.0\n",
      "인덱스를 잘못 사용했습니다 list index out of range\n"
     ]
    }
   ],
   "source": [
    "def test(num):\n",
    "    try:\n",
    "        result = 10/num\n",
    "        print(result)\n",
    "        \n",
    "        arr = [0, 1, 2]\n",
    "        print(arr[num])\n",
    "    except ZeroDivisionError as e:\n",
    "        print(\"0으로 나누면 안됩니다.\", e)\n",
    "    except IndexError as e:\n",
    "        print(\"인덱스를 잘못 사용했습니다\", e)\n",
    "    except:\n",
    "        print(\"알수없는 오류\")\n",
    "    else:    \n",
    "        print(\"나머지 코드 실행~~~\")\n",
    "    \n",
    "###########################################\n",
    "\n",
    "test(2)\n",
    "test(5)"
   ]
  },
  {
   "cell_type": "code",
   "execution_count": 25,
   "metadata": {},
   "outputs": [
    {
     "name": "stdout",
     "output_type": "stream",
     "text": [
      "0으로 나누면 안됩니다. division by zero\n",
      "이곳의 코드는 반드시 실행됨.\n",
      "나머지 코드 실행~~~\n"
     ]
    }
   ],
   "source": [
    "import sys\n",
    "\n",
    "def test(num):\n",
    "    f = None\n",
    "    try:\n",
    "        result = 10/num\n",
    "        print(result)\n",
    "        \n",
    "        arr = [0, 1, 2]\n",
    "        print(arr[num])\n",
    "        \n",
    "        f = open(\"cmdTest.py\")\n",
    "    except ZeroDivisionError as e:\n",
    "        print(\"0으로 나누면 안됩니다.\", e)\n",
    "        # return\n",
    "        # sys.exit()\n",
    "    except IndexError as e:\n",
    "        print(\"인덱스를 잘못 사용했습니다\", e)\n",
    "        return\n",
    "    except:\n",
    "        print(\"알수없는 오류\")\n",
    "        return\n",
    "    finally:\n",
    "        print(\"이곳의 코드는 반드시 실행됨.\")\n",
    "        if f != None:\n",
    "            f.close()\n",
    "        \n",
    "    print(\"나머지 코드 실행~~~\")\n",
    "    \n",
    "###########################################\n",
    "\n",
    "#test(2)\n",
    "#test(5)\n",
    "test(0)"
   ]
  },
  {
   "cell_type": "code",
   "execution_count": 27,
   "metadata": {},
   "outputs": [
    {
     "name": "stdout",
     "output_type": "stream",
     "text": [
      "에러원인 :  division by zero\n"
     ]
    },
    {
     "name": "stderr",
     "output_type": "stream",
     "text": [
      "Traceback (most recent call last):\n",
      "  File \"<ipython-input-27-f55327dc21b8>\", line 6, in third\n",
      "    a = 10/0\n",
      "ZeroDivisionError: division by zero\n"
     ]
    }
   ],
   "source": [
    "# traceback\n",
    "import traceback\n",
    "\n",
    "def third():\n",
    "    try:\n",
    "        a = 10/0\n",
    "        print(a)\n",
    "    except ZeroDivisionError as e:\n",
    "        print(\"에러원인 : \", e)\n",
    "        traceback.print_exc()\n",
    "\n",
    "def second():\n",
    "    third()\n",
    "\n",
    "def first():\n",
    "    second()\n",
    "\n",
    "##############################################\n",
    "\n",
    "first()"
   ]
  },
  {
   "cell_type": "code",
   "execution_count": 29,
   "metadata": {},
   "outputs": [
    {
     "name": "stdout",
     "output_type": "stream",
     "text": [
      "5.0\n",
      "0으로 나누면 안됩니다. \n",
      "잘 실행되었습니까?\n"
     ]
    }
   ],
   "source": [
    "# 예외를 일부러 발생 : raise\n",
    "\n",
    "def test():\n",
    "    try:\n",
    "        a = 10/2\n",
    "        print(a)\n",
    "        raise ZeroDivisionError\n",
    "    except ZeroDivisionError as e:\n",
    "        print(\"0으로 나누면 안됩니다.\", e)\n",
    "        \n",
    "    print(\"잘 실행되었습니까?\")\n",
    "    \n",
    "#############################################\n",
    "\n",
    "test()"
   ]
  },
  {
   "cell_type": "code",
   "execution_count": 33,
   "metadata": {},
   "outputs": [
    {
     "name": "stdout",
     "output_type": "stream",
     "text": [
      "프로그램 시작\n",
      "5.0\n",
      "음수로 나눌 수 없다\n"
     ]
    }
   ],
   "source": [
    "# 음수로 나누었을 때 예외 발생을 위한 예외 처리 클래스 작성\n",
    "\n",
    "class NegativeDivideError(Exception):\n",
    "    pass\n",
    "\n",
    "def positiveDivide(a, b):\n",
    "    if b < 0:\n",
    "        raise NegativeDivideError\n",
    "    \n",
    "    return a / b\n",
    "\n",
    "def main():\n",
    "    print(\"프로그램 시작\")\n",
    "    \n",
    "    try:\n",
    "        result = positiveDivide(10, 2)\n",
    "        print(result)\n",
    "\n",
    "        result = positiveDivide(10, -2)\n",
    "        print(result)\n",
    "    except NegativeDivideError as e:\n",
    "        print(\"음수로 나눌 수 없다\")\n",
    "######################################\n",
    "\n",
    "main()"
   ]
  },
  {
   "cell_type": "markdown",
   "metadata": {},
   "source": [
    "---\n",
    "## 2. 정규 표현식(Regular Expression)\n",
    "\n",
    "+ https://docs.python.org/3.8/library/re.html"
   ]
  },
  {
   "cell_type": "markdown",
   "metadata": {},
   "source": [
    "#### (1) 반복\n",
    "\n",
    "    * : 0회 이상\n",
    "        ab* : a, ab, abb, abbb, abbbbbb, ....\n",
    "        lo*l : ll, lol, lool, loool, loooooool, ...\n",
    "        \n",
    "    + : 1회 이상\n",
    "        ab+ : ab, abb, abbbb, abbbbbbb, ....\n",
    "        \n",
    "    ? : 0회 또는 1회\n",
    "        ab? : a, ab\n",
    "        \n",
    "    {m} : m회 반복\n",
    "        a{3}bc : aaabc\n",
    "        \n",
    "    {m,n} : m회부터 n회까지 반복\n",
    "        a{2,4}bc : aabc, aaabc, aaaabc\n",
    "        \n",
    "        \n",
    "        \n",
    "#### (2) 매칭\n",
    "\n",
    "    . : 줄바꿈 문자를 제외한 모든 문자와 매치\n",
    "        a.b : aab, abb, acb, adb, ....\n",
    "        \n",
    "    ^ : 문자열의 시작과 매치\n",
    "        ^abc : abc, abcd, abcde, abcdefg, ....\n",
    "        \n",
    "    $ : 문자열의 마지막과 매치\n",
    "        $a : zdba, ccca, dba, ....\n",
    "        \n",
    "    [] : 문자 집합 중 한 문자와 매치\n",
    "        [abc]xyz : axyz, bxyz, cxyz\n",
    "        [a-z]bc : abc, bbc, cbc, dbc, ... zbc\n",
    "        a[.]b : a.b\n",
    "        [a^bc]hello : ahello, chello\n",
    "        [a-zA-Z0-9]hello : 특수문자를 제외한 모든 숫자와 문자\n",
    "        \n",
    "        \n",
    "    \n",
    "#### (3) 특수문자(\\문자)\n",
    "\n",
    "    \\d : 모든 숫자와 매치\n",
    "        ab\\d\\dc : ab00c, ab23c, ab99c, ...\n",
    "        ab[0-9][0-9]c\n",
    "        \n",
    "    \\D : 숫자가 아닌 문자와 매치\n",
    "    \n",
    "    \\s : 공백문자와 매치\n",
    "    \n",
    "    \\S : 공백문자를 제외한 모든 것과 매치\n",
    "    \n",
    "    \\w : 숫자 또는 문자와 매치\n",
    "    \n",
    "    \\W : 숫자 또는 문자가 아닌 모든 문자와 매치\n",
    "    \n",
    "    \n",
    "    \n",
    "#### (4) 파이썬 제공하는 객체 또는 메서드\n",
    "\n",
    "    - compile() : 정규 표현식 객체 생성\n",
    "    - match() : 문자열의 처음부터 정규식과 매치되는지 조사\n",
    "    - search() : 문자열 전체를 검색하여 정규식과 매치되는지 조사\n",
    "    - findall() : 정규식과 매치되는 모든 문자열을 리스트로 리턴\n",
    "    - finditer() : 정규식과 매치되는 모든 문자열을 반복 가능한 객체로 리턴\n",
    "    - split() : 문자열 분리\n",
    "    - sub() : 변경(교체)\n",
    "        sub(\"패턴\", \"바꿀 문자열\", \"문자열\", [바꿀 횟수])\n",
    "    ..."
   ]
  },
  {
   "cell_type": "code",
   "execution_count": 1,
   "metadata": {},
   "outputs": [],
   "source": [
    "import re"
   ]
  },
  {
   "cell_type": "code",
   "execution_count": 17,
   "metadata": {},
   "outputs": [
    {
     "name": "stdout",
     "output_type": "stream",
     "text": [
      "True\n",
      "False\n",
      "------------------------------------------------------\n",
      "True\n",
      "False\n",
      "True\n",
      "<re.Match object; span=(3, 7), match='35th'>\n",
      "------------------------------------------------------\n",
      "True\n",
      "True\n"
     ]
    }
   ],
   "source": [
    "# 객체를 생성해서 사용하는 방법\n",
    "p = re.compile(\"[0-9] [a-z]+ .+\")\n",
    "print(bool(p.match(\"3 dkjdkj alkdf343\")))\n",
    "print(bool(p.match(\"aklfkl 3 dkjdkj alkdf343\")))\n",
    "\n",
    "print(\"------------------------------------------------------\")\n",
    "\n",
    "# 바로 함수를 사용하는 방법\n",
    "print(bool(re.match(\"[0-9]*th\", \"35th is everything\")))\n",
    "print(bool(re.match(\"[0-9]*th\", \"   35th is everything\")))\n",
    "print(bool(re.search(\"[0-9]*th\", \"   35th is everything\")))\n",
    "print(re.search(\"[0-9]*th\", \"   35th is everything 60th is very very\"))\n",
    "\n",
    "print(\"------------------------------------------------------\")\n",
    "\n",
    "# 전화번호와 매칭되는 패턴 작성\n",
    "print(bool(re.match(\"[0-9]{3}-[0-9]{3,4}-[0-9]{4}\", \"010-222-2323은 내 전화번호 입니다.\")))\n",
    "print(bool(re.match(\"\\d{3}-\\d{3,4}-\\d{4}\", \"010-222-2323은 내 전화번호 입니다.\")))"
   ]
  },
  {
   "cell_type": "code",
   "execution_count": 47,
   "metadata": {},
   "outputs": [
    {
     "name": "stdout",
     "output_type": "stream",
     "text": [
      "['life', 'is', 'too', 'short']\n",
      "<callable_iterator object at 0x000002880E9080A0>\n",
      "<re.Match object; span=(0, 4), match='life'>\n",
      "life\n",
      "(0, 4)\n",
      "<re.Match object; span=(10, 12), match='is'>\n",
      "is\n",
      "(10, 12)\n",
      "<re.Match object; span=(25, 28), match='too'>\n",
      "too\n",
      "(25, 28)\n",
      "<re.Match object; span=(32, 37), match='short'>\n",
      "short\n",
      "(32, 37)\n"
     ]
    }
   ],
   "source": [
    "# findall 과 finditer\n",
    "\n",
    "data = \"life 3333 is 222 333 444 too 10 short\"\n",
    "p = re.compile(\"[a-z]+\")\n",
    "\n",
    "# p.match(data)\n",
    "# p.search(data)\n",
    "\n",
    "m = p.findall(data)\n",
    "print(m)\n",
    "\n",
    "m1 = p.finditer(data)\n",
    "print(m1)\n",
    "\n",
    "for i in m1:\n",
    "    print(i)\n",
    "    print(i.group())\n",
    "    print(i.span())"
   ]
  },
  {
   "cell_type": "code",
   "execution_count": 32,
   "metadata": {},
   "outputs": [
    {
     "name": "stdout",
     "output_type": "stream",
     "text": [
      "['1', '2', '3', '4', '5', '5', '5', '6']\n",
      "['1234', '555', '6']\n",
      "['12', '34', '55']\n",
      "['123', '555']\n"
     ]
    }
   ],
   "source": [
    "data = \"1234 abc가나다ABC_555_6\"\n",
    "\n",
    "print(re.findall(\"[0-9]\", data)) # 숫자 1개만 일치하는 패턴\n",
    "print(re.findall(\"[0-9]+\", data)) # 숫자 1개이상 일치하는 패턴\n",
    "print(re.findall(\"[0-9]{2}\", data)) # 숫자 2개와 일치하는 패턴\n",
    "print(re.findall(\"[0-9]{2,3}\", data)) # 숫자 2개부터 3개까지 일치하는 패턴"
   ]
  },
  {
   "cell_type": "code",
   "execution_count": 38,
   "metadata": {},
   "outputs": [
    {
     "name": "stdout",
     "output_type": "stream",
     "text": [
      "['abc', 'mbc']\n",
      "['abc', 'air', 'air']\n",
      "['air']\n",
      "['1234']\n",
      "['234 abc가나다ABC_555_6 mbc air air']\n"
     ]
    }
   ],
   "source": [
    "data = \"1234 abc가나다ABC_555_6 mbc air air\"\n",
    "\n",
    "print(re.findall(\".bc\", data)) # bc로 끝나는 세글자 (abc, mbc)\n",
    "print(re.findall(\"a..\", data)) # a로 시작하는 세글자 (abc, air, air)\n",
    "print(re.findall(\"air$\", data)) # 가장 마지막에 air로 끝나는 패턴 (air)\n",
    "print(re.findall(\"^1[0-9]+\", data)) # 가장 처음에 1로 시작하는 숫자들 (1) (1234)\n",
    "print(re.findall(\"[^1]+\", data)) # 1을 뺀 모든 데이터 (234 abc가나다ABC_555_6 mbc air air)"
   ]
  },
  {
   "cell_type": "code",
   "execution_count": 43,
   "metadata": {},
   "outputs": [
    {
     "name": "stdout",
     "output_type": "stream",
     "text": [
      "['mbc,kbs', 'sbs:ytn']\n",
      "['mbc', 'kbs sbs:ytn']\n",
      "['mbc', 'kbs', 'sbs', 'ytn']\n",
      "['mbc', 'kbs', 'sbs', 'ytn']\n"
     ]
    }
   ],
   "source": [
    "# split\n",
    "\n",
    "data = \"mbc,kbs sbs:ytn\"\n",
    "\n",
    "print(data.split(\" \"))\n",
    "print(data.split(\",\"))\n",
    "\n",
    "print(re.split(\",|:| \", data))\n",
    "print(re.split(\"\\W+\", data))"
   ]
  },
  {
   "cell_type": "code",
   "execution_count": 46,
   "metadata": {},
   "outputs": [
    {
     "name": "stdout",
     "output_type": "stream",
     "text": [
      "8888 abc가나다ABC_888_8\n",
      "----------------------------------------\n",
      "mbc,kbs,sbs,ytn\n"
     ]
    }
   ],
   "source": [
    "# sub\n",
    "\n",
    "data = \"1234 abc가나다ABC_555_6\"\n",
    "\n",
    "# m = re.sub(\"[0-9]+\", \"888\", data)\n",
    "m = re.sub(\"[0-9]\", \"8\", data)\n",
    "print(m)\n",
    "\n",
    "print(\"----------------------------------------\")\n",
    "\n",
    "# 주어진 데이터에서 구분기호를 \",\"로 통일\n",
    "data = \"mbc,kbs sbs:ytn\"\n",
    "\n",
    "m = re.sub(\"\\W+\", \",\", data)\n",
    "print(m)"
   ]
  },
  {
   "cell_type": "code",
   "execution_count": 51,
   "metadata": {},
   "outputs": [
    {
     "name": "stdout",
     "output_type": "stream",
     "text": [
      "<re.Match object; span=(0, 6), match='python'>\n",
      "python\n",
      "0 6\n",
      "(0, 6)\n"
     ]
    }
   ],
   "source": [
    "# match, search 객체의 메서드\n",
    "\n",
    "p = re.compile(\"[a-z]+\")\n",
    "data = \"python 123 !? python\"\n",
    "\n",
    "m = p.match(data)\n",
    "print(m)\n",
    "print(m.group())\n",
    "print(m.start(), m.end())\n",
    "print(m.span())"
   ]
  },
  {
   "cell_type": "code",
   "execution_count": 61,
   "metadata": {},
   "outputs": [
    {
     "name": "stdout",
     "output_type": "stream",
     "text": [
      "<re.Match object; span=(0, 3), match='axb'>\n",
      "<re.Match object; span=(0, 3), match='a+b'>\n",
      "<re.Match object; span=(0, 3), match='a\\nb'>\n",
      "------------------------------------------\n",
      "<re.Match object; span=(0, 1), match='p'>\n",
      "<re.Match object; span=(0, 1), match='P'>\n",
      "------------------------------------------\n",
      "['python one', 'python two', 'Python three']\n"
     ]
    }
   ],
   "source": [
    "# 컴파일 옵션 : S(or DOTALL), I(or IGNORECASE), M(or MULTILINE)\n",
    "\n",
    "p = re.compile(\"a.b\", re.S)\n",
    "\n",
    "m1 = p.match(\"axb is bla bla bla~~~\")\n",
    "print(m1)\n",
    "\n",
    "m2 = p.match(\"a+b is bla bla bla~~~\")\n",
    "print(m2)\n",
    "\n",
    "m3 = p.match(\"a\\nb is bla bla bla~~~\")\n",
    "print(m3)\n",
    "\n",
    "print(\"------------------------------------------\")\n",
    "\n",
    "# p = re.compile(\"[a-z]\")\n",
    "# p = re.compile(\"[a-zA-Z]\")\n",
    "p = re.compile(\"[a-z]\", re.I)\n",
    "\n",
    "print(p.match(\"python\"))\n",
    "print(p.match(\"Python\"))\n",
    "\n",
    "print(\"------------------------------------------\")\n",
    "\n",
    "data = \"\"\"python one\n",
    "life is too short\n",
    "python two\n",
    "you need python\n",
    "Python three\n",
    "\"\"\"\n",
    "\n",
    "p = re.compile(\"^[p|P]ython\\s\\w+\", re.M) # 첫글자 대소문자 상관없이 python으로 시작하는 문자열\n",
    "print(p.findall(data))"
   ]
  },
  {
   "cell_type": "code",
   "execution_count": 66,
   "metadata": {},
   "outputs": [
    {
     "name": "stdout",
     "output_type": "stream",
     "text": [
      "['abc1.html', 'abc2.html', 'abc3.html', 'xyz.html', 'pic.jpg']\n"
     ]
    }
   ],
   "source": [
    "data = \"\"\"\n",
    "<a href=\"abc1.html\">abc1</a>\n",
    "<a href=\"abc2.html\">abc2</a>\n",
    "<a href=\"abc3.html\">abc3</a>\n",
    "<a href=\"xyz.html\">xyz</a>\n",
    "<a href=\"pic.jpg\">pic</a>\n",
    "\"\"\"\n",
    "# [\"abc1.html\", \"abc2.html\", \"abc3.html\", \"xyz.html\", \"pic.jpg\"]\n",
    "\n",
    "p = re.findall('href=\"(.+)\"', data)\n",
    "print(p)"
   ]
  },
  {
   "cell_type": "code",
   "execution_count": 63,
   "metadata": {},
   "outputs": [
    {
     "name": "stdout",
     "output_type": "stream",
     "text": [
      "['abc1.html', 'abc2.html', 'abc3.html', 'xyz.html']\n"
     ]
    }
   ],
   "source": [
    "p=re.compile(\"[\\s|\\w]+[.]html\",re.M)\n",
    "print(p.findall(data))"
   ]
  },
  {
   "cell_type": "code",
   "execution_count": 64,
   "metadata": {},
   "outputs": [
    {
     "data": {
      "text/plain": [
       "['abc1.html', 'abc2.html', 'abc3.html', 'xyz.html', 'pic.jpg']"
      ]
     },
     "execution_count": 64,
     "metadata": {},
     "output_type": "execute_result"
    }
   ],
   "source": [
    "p = re.compile(\"\\w{3,4}[.]\\w{3,4}\", re.M)\n",
    "p.findall(data)"
   ]
  },
  {
   "cell_type": "code",
   "execution_count": 65,
   "metadata": {},
   "outputs": [
    {
     "name": "stdout",
     "output_type": "stream",
     "text": [
      "['abc1.html', 'abc2.html', 'abc3.html', 'xyz.html', 'pic.jpg']\n"
     ]
    }
   ],
   "source": [
    "p=re.compile(\"\\w*[.]\\w*\",re.M)\n",
    "print(p.findall(data))"
   ]
  },
  {
   "cell_type": "code",
   "execution_count": 70,
   "metadata": {},
   "outputs": [
    {
     "name": "stdout",
     "output_type": "stream",
     "text": [
      "['abc1.html', 'abc2.html', 'abc3.html', 'xyz.html', 'pic.jpg']\n"
     ]
    }
   ],
   "source": [
    "p = re.findall('\\w+[.][h|j]\\w+',data)\n",
    "print(p)"
   ]
  },
  {
   "cell_type": "code",
   "execution_count": null,
   "metadata": {},
   "outputs": [],
   "source": []
  }
 ],
 "metadata": {
  "kernelspec": {
   "display_name": "Python 3",
   "language": "python",
   "name": "python3"
  },
  "language_info": {
   "codemirror_mode": {
    "name": "ipython",
    "version": 3
   },
   "file_extension": ".py",
   "mimetype": "text/x-python",
   "name": "python",
   "nbconvert_exporter": "python",
   "pygments_lexer": "ipython3",
   "version": "3.8.5"
  }
 },
 "nbformat": 4,
 "nbformat_minor": 4
}
