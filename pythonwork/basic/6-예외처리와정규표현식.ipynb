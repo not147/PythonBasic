{
 "cells": [
  {
   "cell_type": "markdown",
   "metadata": {},
   "source": [
    "## 1. 예외 처리\n",
    "\n",
    "\n",
    "#### (1) 예외처리를 하는 이유\n",
    "+ 자연스러운 예외 메시지를 출력\n",
    "+ 프로그램의 비정상적인 종료를 방지\n",
    "\n",
    "\n",
    "#### (2) 문법\n",
    "\n",
    "    try :\n",
    "        코드\n",
    "        ...\n",
    "\n",
    "    except [예외처리 클래스 [as 변수]]:\n",
    "        코드\n",
    "        ...\n",
    "    \n",
    "    [else :\n",
    "        코드 (예외가 발생하지 않았을 때 실행)\n",
    "        ... ]\n",
    "        \n",
    "    [finally:\n",
    "        코드 (예외발생과는 무관하게 반드시 실행)\n",
    "        ...]"
   ]
  },
  {
   "cell_type": "code",
   "execution_count": 3,
   "metadata": {},
   "outputs": [
    {
     "name": "stdout",
     "output_type": "stream",
     "text": [
      "3.3333333333333335\n",
      "나머지 코드 실행~~~\n",
      "5.0\n",
      "나머지 코드 실행~~~\n"
     ]
    },
    {
     "ename": "ZeroDivisionError",
     "evalue": "division by zero",
     "output_type": "error",
     "traceback": [
      "\u001b[1;31m---------------------------------------------------------------------------\u001b[0m",
      "\u001b[1;31mZeroDivisionError\u001b[0m                         Traceback (most recent call last)",
      "\u001b[1;32m<ipython-input-3-0d53156be8d3>\u001b[0m in \u001b[0;36m<module>\u001b[1;34m\u001b[0m\n\u001b[0;32m      9\u001b[0m \u001b[0mtest\u001b[0m\u001b[1;33m(\u001b[0m\u001b[1;36m3\u001b[0m\u001b[1;33m)\u001b[0m\u001b[1;33m\u001b[0m\u001b[1;33m\u001b[0m\u001b[0m\n\u001b[0;32m     10\u001b[0m \u001b[0mtest\u001b[0m\u001b[1;33m(\u001b[0m\u001b[1;36m2\u001b[0m\u001b[1;33m)\u001b[0m\u001b[1;33m\u001b[0m\u001b[1;33m\u001b[0m\u001b[0m\n\u001b[1;32m---> 11\u001b[1;33m \u001b[0mtest\u001b[0m\u001b[1;33m(\u001b[0m\u001b[1;36m0\u001b[0m\u001b[1;33m)\u001b[0m\u001b[1;33m\u001b[0m\u001b[1;33m\u001b[0m\u001b[0m\n\u001b[0m",
      "\u001b[1;32m<ipython-input-3-0d53156be8d3>\u001b[0m in \u001b[0;36mtest\u001b[1;34m(num)\u001b[0m\n\u001b[0;32m      1\u001b[0m \u001b[1;32mdef\u001b[0m \u001b[0mtest\u001b[0m\u001b[1;33m(\u001b[0m\u001b[0mnum\u001b[0m\u001b[1;33m)\u001b[0m\u001b[1;33m:\u001b[0m\u001b[1;33m\u001b[0m\u001b[1;33m\u001b[0m\u001b[0m\n\u001b[1;32m----> 2\u001b[1;33m     \u001b[0mresult\u001b[0m \u001b[1;33m=\u001b[0m \u001b[1;36m10\u001b[0m\u001b[1;33m/\u001b[0m\u001b[0mnum\u001b[0m\u001b[1;33m\u001b[0m\u001b[1;33m\u001b[0m\u001b[0m\n\u001b[0m\u001b[0;32m      3\u001b[0m     \u001b[0mprint\u001b[0m\u001b[1;33m(\u001b[0m\u001b[0mresult\u001b[0m\u001b[1;33m)\u001b[0m\u001b[1;33m\u001b[0m\u001b[1;33m\u001b[0m\u001b[0m\n\u001b[0;32m      4\u001b[0m \u001b[1;33m\u001b[0m\u001b[0m\n\u001b[0;32m      5\u001b[0m     \u001b[0mprint\u001b[0m\u001b[1;33m(\u001b[0m\u001b[1;34m\"나머지 코드 실행~~~\"\u001b[0m\u001b[1;33m)\u001b[0m\u001b[1;33m\u001b[0m\u001b[1;33m\u001b[0m\u001b[0m\n",
      "\u001b[1;31mZeroDivisionError\u001b[0m: division by zero"
     ]
    }
   ],
   "source": [
    "def test(num):\n",
    "    result = 10/num\n",
    "    print(result)\n",
    "    \n",
    "    print(\"나머지 코드 실행~~~\")\n",
    "    \n",
    "###########################################\n",
    "\n",
    "test(3)\n",
    "test(2)\n",
    "test(0)"
   ]
  },
  {
   "cell_type": "code",
   "execution_count": 5,
   "metadata": {},
   "outputs": [
    {
     "name": "stdout",
     "output_type": "stream",
     "text": [
      "3.3333333333333335\n",
      "나머지 코드 실행~~~\n",
      "에러가 났어요\n",
      "나머지 코드 실행~~~\n"
     ]
    }
   ],
   "source": [
    "def test(num):\n",
    "    try:\n",
    "        result = 10/num\n",
    "        print(result)\n",
    "    except:\n",
    "        print(\"에러가 났어요\")\n",
    "    \n",
    "    print(\"나머지 코드 실행~~~\")\n",
    "    \n",
    "###########################################\n",
    "\n",
    "test(3)\n",
    "test(0)"
   ]
  },
  {
   "cell_type": "code",
   "execution_count": 10,
   "metadata": {},
   "outputs": [
    {
     "name": "stdout",
     "output_type": "stream",
     "text": [
      "3.3333333333333335\n",
      "나머지 코드 실행~~~\n",
      "0으로 나누면 안됩니다.\n",
      "나머지 코드 실행~~~\n",
      "알수없는 오류\n",
      "나머지 코드 실행~~~\n"
     ]
    }
   ],
   "source": [
    "def test(num):\n",
    "    try:\n",
    "        result = 10/num\n",
    "        print(result)\n",
    "    except ZeroDivisionError:\n",
    "        print(\"0으로 나누면 안됩니다.\")\n",
    "    except:\n",
    "        print(\"알수없는 오류\")\n",
    "        \n",
    "    print(\"나머지 코드 실행~~~\")\n",
    "    \n",
    "###########################################\n",
    "\n",
    "test(3)\n",
    "test(0)\n",
    "test('가')"
   ]
  },
  {
   "cell_type": "code",
   "execution_count": 13,
   "metadata": {},
   "outputs": [
    {
     "name": "stdout",
     "output_type": "stream",
     "text": [
      "2.0\n",
      "인덱스를 잘못 사용했습니다\n",
      "나머지 코드 실행~~~\n"
     ]
    }
   ],
   "source": [
    "def test(num):\n",
    "    try:\n",
    "        result = 10/num\n",
    "        print(result)\n",
    "        \n",
    "        arr = [0, 1, 2]\n",
    "        print(arr[num])\n",
    "    except ZeroDivisionError:\n",
    "        print(\"0으로 나누면 안됩니다.\")\n",
    "    except IndexError:\n",
    "        print(\"인덱스를 잘못 사용했습니다\")\n",
    "    except:\n",
    "        print(\"알수없는 오류\")\n",
    "        \n",
    "    print(\"나머지 코드 실행~~~\")\n",
    "    \n",
    "###########################################\n",
    "\n",
    "test(5)"
   ]
  },
  {
   "cell_type": "code",
   "execution_count": 14,
   "metadata": {},
   "outputs": [
    {
     "name": "stdout",
     "output_type": "stream",
     "text": [
      "2.0\n",
      "0으로 나누거나 인덱스를 잘못 사용했습니다.\n",
      "나머지 코드 실행~~~\n"
     ]
    }
   ],
   "source": [
    "def test(num):\n",
    "    try:\n",
    "        result = 10/num\n",
    "        print(result)\n",
    "        \n",
    "        arr = [0, 1, 2]\n",
    "        print(arr[num])\n",
    "    except (ZeroDivisionError, IndexError):\n",
    "        print(\"0으로 나누거나 인덱스를 잘못 사용했습니다.\")\n",
    "    except:\n",
    "        print(\"알수없는 오류\")\n",
    "        \n",
    "    print(\"나머지 코드 실행~~~\")\n",
    "    \n",
    "###########################################\n",
    "\n",
    "test(5)"
   ]
  },
  {
   "cell_type": "code",
   "execution_count": 16,
   "metadata": {},
   "outputs": [
    {
     "name": "stdout",
     "output_type": "stream",
     "text": [
      "2.0\n",
      "인덱스를 잘못 사용했습니다 list index out of range\n",
      "나머지 코드 실행~~~\n"
     ]
    }
   ],
   "source": [
    "def test(num):\n",
    "    try:\n",
    "        result = 10/num\n",
    "        print(result)\n",
    "        \n",
    "        arr = [0, 1, 2]\n",
    "        print(arr[num])\n",
    "    except ZeroDivisionError as e:\n",
    "        print(\"0으로 나누면 안됩니다.\", e)\n",
    "    except IndexError as e:\n",
    "        print(\"인덱스를 잘못 사용했습니다\", e)\n",
    "    except:\n",
    "        print(\"알수없는 오류\")\n",
    "        \n",
    "    print(\"나머지 코드 실행~~~\")\n",
    "    \n",
    "###########################################\n",
    "\n",
    "# test(0)\n",
    "test(5)"
   ]
  },
  {
   "cell_type": "code",
   "execution_count": 18,
   "metadata": {},
   "outputs": [
    {
     "name": "stdout",
     "output_type": "stream",
     "text": [
      "5.0\n",
      "2\n",
      "나머지 코드 실행~~~\n",
      "2.0\n",
      "인덱스를 잘못 사용했습니다 list index out of range\n"
     ]
    }
   ],
   "source": [
    "def test(num):\n",
    "    try:\n",
    "        result = 10/num\n",
    "        print(result)\n",
    "        \n",
    "        arr = [0, 1, 2]\n",
    "        print(arr[num])\n",
    "    except ZeroDivisionError as e:\n",
    "        print(\"0으로 나누면 안됩니다.\", e)\n",
    "    except IndexError as e:\n",
    "        print(\"인덱스를 잘못 사용했습니다\", e)\n",
    "    except:\n",
    "        print(\"알수없는 오류\")\n",
    "    else:    \n",
    "        print(\"나머지 코드 실행~~~\")\n",
    "    \n",
    "###########################################\n",
    "\n",
    "test(2)\n",
    "test(5)"
   ]
  },
  {
   "cell_type": "code",
   "execution_count": 25,
   "metadata": {},
   "outputs": [
    {
     "name": "stdout",
     "output_type": "stream",
     "text": [
      "0으로 나누면 안됩니다. division by zero\n",
      "이곳의 코드는 반드시 실행됨.\n",
      "나머지 코드 실행~~~\n"
     ]
    }
   ],
   "source": [
    "import sys\n",
    "\n",
    "def test(num):\n",
    "    f = None\n",
    "    try:\n",
    "        result = 10/num\n",
    "        print(result)\n",
    "        \n",
    "        arr = [0, 1, 2]\n",
    "        print(arr[num])\n",
    "        \n",
    "        f = open(\"cmdTest.py\")\n",
    "    except ZeroDivisionError as e:\n",
    "        print(\"0으로 나누면 안됩니다.\", e)\n",
    "        # return\n",
    "        # sys.exit()\n",
    "    except IndexError as e:\n",
    "        print(\"인덱스를 잘못 사용했습니다\", e)\n",
    "        return\n",
    "    except:\n",
    "        print(\"알수없는 오류\")\n",
    "        return\n",
    "    finally:\n",
    "        print(\"이곳의 코드는 반드시 실행됨.\")\n",
    "        if f != None:\n",
    "            f.close()\n",
    "        \n",
    "    print(\"나머지 코드 실행~~~\")\n",
    "    \n",
    "###########################################\n",
    "\n",
    "#test(2)\n",
    "#test(5)\n",
    "test(0)"
   ]
  },
  {
   "cell_type": "code",
   "execution_count": 27,
   "metadata": {},
   "outputs": [
    {
     "name": "stdout",
     "output_type": "stream",
     "text": [
      "에러원인 :  division by zero\n"
     ]
    },
    {
     "name": "stderr",
     "output_type": "stream",
     "text": [
      "Traceback (most recent call last):\n",
      "  File \"<ipython-input-27-f55327dc21b8>\", line 6, in third\n",
      "    a = 10/0\n",
      "ZeroDivisionError: division by zero\n"
     ]
    }
   ],
   "source": [
    "# traceback\n",
    "import traceback\n",
    "\n",
    "def third():\n",
    "    try:\n",
    "        a = 10/0\n",
    "        print(a)\n",
    "    except ZeroDivisionError as e:\n",
    "        print(\"에러원인 : \", e)\n",
    "        traceback.print_exc()\n",
    "\n",
    "def second():\n",
    "    third()\n",
    "\n",
    "def first():\n",
    "    second()\n",
    "\n",
    "##############################################\n",
    "\n",
    "first()"
   ]
  },
  {
   "cell_type": "code",
   "execution_count": 29,
   "metadata": {},
   "outputs": [
    {
     "name": "stdout",
     "output_type": "stream",
     "text": [
      "5.0\n",
      "0으로 나누면 안됩니다. \n",
      "잘 실행되었습니까?\n"
     ]
    }
   ],
   "source": [
    "# 예외를 일부러 발생 : raise\n",
    "\n",
    "def test():\n",
    "    try:\n",
    "        a = 10/2\n",
    "        print(a)\n",
    "        raise ZeroDivisionError\n",
    "    except ZeroDivisionError as e:\n",
    "        print(\"0으로 나누면 안됩니다.\", e)\n",
    "        \n",
    "    print(\"잘 실행되었습니까?\")\n",
    "    \n",
    "#############################################\n",
    "\n",
    "test()"
   ]
  },
  {
   "cell_type": "code",
   "execution_count": 33,
   "metadata": {},
   "outputs": [
    {
     "name": "stdout",
     "output_type": "stream",
     "text": [
      "프로그램 시작\n",
      "5.0\n",
      "음수로 나눌 수 없다\n"
     ]
    }
   ],
   "source": [
    "# 음수로 나누었을 때 예외 발생을 위한 예외 처리 클래스 작성\n",
    "\n",
    "class NegativeDivideError(Exception):\n",
    "    pass\n",
    "\n",
    "def positiveDivide(a, b):\n",
    "    if b < 0:\n",
    "        raise NegativeDivideError\n",
    "    \n",
    "    return a / b\n",
    "\n",
    "def main():\n",
    "    print(\"프로그램 시작\")\n",
    "    \n",
    "    try:\n",
    "        result = positiveDivide(10, 2)\n",
    "        print(result)\n",
    "\n",
    "        result = positiveDivide(10, -2)\n",
    "        print(result)\n",
    "    except NegativeDivideError as e:\n",
    "        print(\"음수로 나눌 수 없다\")\n",
    "######################################\n",
    "\n",
    "main()"
   ]
  },
  {
   "cell_type": "markdown",
   "metadata": {},
   "source": [
    "---\n",
    "## 2. 정규 표현식(Regular Expression)\n",
    "\n",
    "+ https://docs.python.org/3.8/library/re.html"
   ]
  },
  {
   "cell_type": "markdown",
   "metadata": {},
   "source": [
    "#### (1) 반복\n",
    "\n",
    "    * : 0회 이상\n",
    "        ab* : a, ab, abb, abbb, abbbbbb, ....\n",
    "        lo*l : ll, lol, lool, loool, loooooool, ...\n",
    "        \n",
    "    + : 1회 이상\n",
    "        ab+ : ab, abb, abbbb, abbbbbbb, ....\n",
    "        \n",
    "    ? : 0회 또는 1회\n",
    "        ab? : a, ab\n",
    "        \n",
    "    {m} : m회 반복\n",
    "        a{3}bc : aaabc\n",
    "        \n",
    "    {m,n} : m회부터 n회까지 반복\n",
    "        a{2,4}bc : aabc, aaabc, aaaabc\n",
    "        \n",
    "        \n",
    "        \n",
    "#### (2) 매칭\n",
    "\n",
    "    . : 줄바꿈 문자를 제외한 모든 문자와 매치\n",
    "        a.b : aab, abb, acb, adb, ....\n",
    "        \n",
    "    ^ : 문자열의 시작과 매치\n",
    "        ^abc : abc, abcd, abcde, abcdefg, ....\n",
    "        \n",
    "    $ : 문자열의 마지막과 매치\n",
    "        $a : zdba, ccca, dba, ....\n",
    "        \n",
    "    [] : 문자 집합 중 한 문자와 매치\n",
    "        [abc]xyz : axyz, bxyz, cxyz\n",
    "        [a-z]bc : abc, bbc, cbc, dbc, ... zbc\n",
    "        a[.]b : a.b\n",
    "        [a^bc]hello : ahello, chello\n",
    "        [a-zA-Z0-9]hello : 특수문자를 제외한 모든 숫자와 문자\n",
    "        \n",
    "        \n",
    "    \n",
    "#### (3) 특수문자(\\문자)\n",
    "\n",
    "    \\d : 모든 숫자와 매치\n",
    "        ab\\d\\dc : ab00c, ab23c, ab99c, ...\n",
    "        ab[0-9][0-9]c\n",
    "        \n",
    "    \\D : 숫자가 아닌 문자와 매치\n",
    "    \n",
    "    \\s : 공백문자와 매치\n",
    "    \n",
    "    \\S : 공백문자를 제외한 모든 것과 매치\n",
    "    \n",
    "    \\w : 숫자 또는 문자와 매치\n",
    "    \n",
    "    \\W : 숫자 또는 문자가 아닌 모든 문자와 매치"
   ]
  },
  {
   "cell_type": "code",
   "execution_count": null,
   "metadata": {},
   "outputs": [],
   "source": []
  },
  {
   "cell_type": "code",
   "execution_count": null,
   "metadata": {},
   "outputs": [],
   "source": []
  },
  {
   "cell_type": "code",
   "execution_count": null,
   "metadata": {},
   "outputs": [],
   "source": []
  },
  {
   "cell_type": "code",
   "execution_count": null,
   "metadata": {},
   "outputs": [],
   "source": []
  },
  {
   "cell_type": "code",
   "execution_count": null,
   "metadata": {},
   "outputs": [],
   "source": []
  },
  {
   "cell_type": "code",
   "execution_count": null,
   "metadata": {},
   "outputs": [],
   "source": []
  },
  {
   "cell_type": "code",
   "execution_count": null,
   "metadata": {},
   "outputs": [],
   "source": []
  },
  {
   "cell_type": "code",
   "execution_count": null,
   "metadata": {},
   "outputs": [],
   "source": []
  },
  {
   "cell_type": "code",
   "execution_count": null,
   "metadata": {},
   "outputs": [],
   "source": []
  },
  {
   "cell_type": "code",
   "execution_count": null,
   "metadata": {},
   "outputs": [],
   "source": []
  },
  {
   "cell_type": "code",
   "execution_count": null,
   "metadata": {},
   "outputs": [],
   "source": []
  },
  {
   "cell_type": "code",
   "execution_count": null,
   "metadata": {},
   "outputs": [],
   "source": []
  },
  {
   "cell_type": "code",
   "execution_count": null,
   "metadata": {},
   "outputs": [],
   "source": []
  },
  {
   "cell_type": "code",
   "execution_count": null,
   "metadata": {},
   "outputs": [],
   "source": []
  },
  {
   "cell_type": "code",
   "execution_count": null,
   "metadata": {},
   "outputs": [],
   "source": []
  }
 ],
 "metadata": {
  "kernelspec": {
   "display_name": "Python 3",
   "language": "python",
   "name": "python3"
  },
  "language_info": {
   "codemirror_mode": {
    "name": "ipython",
    "version": 3
   },
   "file_extension": ".py",
   "mimetype": "text/x-python",
   "name": "python",
   "nbconvert_exporter": "python",
   "pygments_lexer": "ipython3",
   "version": "3.8.5"
  }
 },
 "nbformat": 4,
 "nbformat_minor": 4
}
