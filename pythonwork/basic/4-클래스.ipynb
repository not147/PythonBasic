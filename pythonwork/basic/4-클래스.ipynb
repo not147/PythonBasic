{
 "cells": [
  {
   "cell_type": "markdown",
   "metadata": {},
   "source": [
    "### 1. 특징\n",
    "\n",
    "+ 묶음(block) \n",
    "    - 변수(멤버 변수, 속성, 필드), 함수(멤버 함수, 메서드)\n",
    "    - 여러 개의 함수를 묶어서 좀 더 큰 단위의 모듈로 관리\n",
    "     \n",
    "     \n",
    "+ 설계도(추상적)\n",
    "    - 인스턴스(instance), 객체(Object)\n",
    "    \n",
    "    \n",
    "+ 사용자 정의 자료형을 만들 수 있는 도구\n",
    "\n",
    "\n",
    "+ 객체의 조건\n",
    "    - 상속성(Inheritance)\n",
    "    - 다형성(Polymorphism)\n",
    "    - 캡슐화(Capsulation)\n",
    "    \n",
    "  \n",
    "+ 객체 설계 5원칙 : SOLID"
   ]
  },
  {
   "cell_type": "markdown",
   "metadata": {},
   "source": [
    "---\n",
    "### 2. 클래스 작성 방법\n",
    "\n",
    "    class 이름:\n",
    "        변수\n",
    "        함수\n",
    "    \n",
    "    또는\n",
    "\n",
    "    class 이름(...):\n",
    "        변수\n",
    "        함수"
   ]
  },
  {
   "cell_type": "code",
   "execution_count": 8,
   "metadata": {},
   "outputs": [
    {
     "name": "stdout",
     "output_type": "stream",
     "text": [
      "100\n",
      "Test 클래스\n",
      "<class 'int'>\n"
     ]
    }
   ],
   "source": [
    "class Test:\n",
    "    a = 10\n",
    "    \n",
    "    def show(self):\n",
    "        print(\"Test 클래스\")\n",
    "        \n",
    "###############################################\n",
    "\n",
    "#Test().a\n",
    "#Test().show()\n",
    "\n",
    "ob = Test()\n",
    "ob.a = 100\n",
    "print(ob.a)\n",
    "ob.show()\n",
    "\n",
    "a = 20\n",
    "print(type(a))"
   ]
  },
  {
   "cell_type": "code",
   "execution_count": 9,
   "metadata": {},
   "outputs": [
    {
     "name": "stdout",
     "output_type": "stream",
     "text": [
      "국적 :  한국\n",
      "이름 :  홍길동\n",
      "나이 :  20\n",
      "신장 :  170\n",
      "취미 :  ['독서', '여행']\n",
      "\n",
      "---------------------------\n",
      "국적 :  프랑스\n",
      "이름 :  몽블랑\n",
      "나이 :  25\n",
      "신장 :  172\n",
      "취미 :  ['독서', '여행', '우표수집']\n",
      "\n",
      "---------------------------\n",
      "국적 :  칠레\n",
      "이름 :  신돌석\n",
      "나이 :  25\n",
      "신장 :  165\n",
      "취미 :  ['낚시']\n",
      "\n",
      "---------------------------\n"
     ]
    }
   ],
   "source": [
    "### 사용자 정의 자료형\n",
    "# 국적, 이름, 나이, 신장, 취미\n",
    "\n",
    "class Person:\n",
    "    nation = \"한국\"\n",
    "    name = str()\n",
    "    age = int()\n",
    "    height = float()\n",
    "    hobbies = []\n",
    "    \n",
    "    def show(self):\n",
    "        print(\"국적 : \", self.nation)\n",
    "        print(\"이름 : \", self.name)\n",
    "        print(\"나이 : \", self.age)\n",
    "        print(\"신장 : \", self.height)\n",
    "        print(\"취미 : \", self.hobbies)\n",
    "        print(\"\\n---------------------------\")\n",
    "        \n",
    "##############################################################\n",
    "\n",
    "p1 = Person()\n",
    "p2 = Person()\n",
    "p3 = Person()\n",
    "\n",
    "p1.nation = \"한국\"\n",
    "p1.name = \"홍길동\"\n",
    "p1.age = 20\n",
    "p1.height = 170\n",
    "p1.hobbies = [\"독서\", \"여행\"]\n",
    "\n",
    "p2.nation = \"프랑스\"\n",
    "p2.name = \"몽블랑\"\n",
    "p2.age = 25\n",
    "p2.height = 172\n",
    "p2.hobbies = [\"독서\", \"여행\", \"우표수집\"]\n",
    "\n",
    "p3.nation = \"칠레\"\n",
    "p3.name = \"신돌석\"\n",
    "p3.age = 25\n",
    "p3.height = 165\n",
    "p3.hobbies = [\"낚시\"]\n",
    "\n",
    "data = [p1, p2, p3]\n",
    "\n",
    "for i in range(len(data)):\n",
    "    data[i].show()\n"
   ]
  },
  {
   "cell_type": "markdown",
   "metadata": {},
   "source": [
    "---\n",
    "### 3. 클래스 작성 문법\n",
    "\n",
    "+ self\n",
    "    - 현재 사용중인 객체의 주소를 저장하고 있는 참조 변수\n",
    "    - read only"
   ]
  },
  {
   "cell_type": "code",
   "execution_count": 27,
   "metadata": {},
   "outputs": [],
   "source": [
    "class Test:\n",
    "    #a = int()\n",
    "    #b = float()\n",
    "    #c = str()\n",
    "    \n",
    "    def show(self):\n",
    "        print(self.a, self.b, self.c)\n",
    "        print(\"현재 주소 : \", id(self))\n",
    "        \n",
    "    def setValue(self, a, b, c):\n",
    "        # 검증 또는 방어코드\n",
    "        self.a = a\n",
    "        self.b = b\n",
    "        self.c = c"
   ]
  },
  {
   "cell_type": "code",
   "execution_count": 28,
   "metadata": {},
   "outputs": [
    {
     "name": "stdout",
     "output_type": "stream",
     "text": [
      "1426119941808\n",
      "10 3.14 홍길동\n",
      "현재 주소 :  1426119941808\n"
     ]
    }
   ],
   "source": [
    "t1 = Test()\n",
    "t2 = Test()\n",
    "t3 = Test()\n",
    "\n",
    "#t1.a = 10\n",
    "#t1.b = 3.14\n",
    "#t1.c = \"홍길동\"\n",
    "t1.setValue(10, 3.14, \"홍길동\")\n",
    "\n",
    "print(id(t1))\n",
    "t1.show()"
   ]
  },
  {
   "cell_type": "markdown",
   "metadata": {},
   "source": [
    "---\n",
    "+ 생성자(Constructor) 메서드와 소멸자(Deconstructor) 메서드\n",
    "    - 객체를 생성하는 용도\n",
    "    - 객체를 처음 만들 때 호출된다.(단 한번만 호출됨)\n",
    "    - 초기화"
   ]
  },
  {
   "cell_type": "code",
   "execution_count": 53,
   "metadata": {},
   "outputs": [],
   "source": [
    "class Test:\n",
    "    a = int()\n",
    "    b = str()\n",
    "    \n",
    "    def __init__(self, x=0, y=None):\n",
    "        print(\"생성자 호출됨\")\n",
    "        self.a = x\n",
    "        self.b = y\n",
    "        \n",
    "    def setValue(self, x, y):\n",
    "        self.a = x\n",
    "        self.b = y\n",
    "        \n",
    "    def __del__(self):\n",
    "        print(\"소멸자 호출\")\n",
    "        \n",
    "class Test2:\n",
    "    pass"
   ]
  },
  {
   "cell_type": "code",
   "execution_count": 51,
   "metadata": {},
   "outputs": [
    {
     "name": "stdout",
     "output_type": "stream",
     "text": [
      "생성자 호출됨\n",
      "10 홍길동\n",
      "20 임꺽정\n",
      "생성자 호출됨\n",
      "0 None\n",
      "생성자 호출됨\n",
      "30 None\n",
      "생성자 호출됨\n",
      "신돌석 None\n"
     ]
    }
   ],
   "source": [
    "t = Test(10, \"홍길동\")\n",
    "print(t.a, t.b)\n",
    "\n",
    "t.setValue(20, \"임꺽정\")\n",
    "print(t.a, t.b)\n",
    "\n",
    "t1 = Test()\n",
    "print(t1.a, t1.b)\n",
    "\n",
    "t2 = Test(30)\n",
    "print(t2.a, t2.b)\n",
    "\n",
    "t3 = Test(\"신돌석\")\n",
    "print(t3.a, t3.b)"
   ]
  },
  {
   "cell_type": "code",
   "execution_count": 52,
   "metadata": {},
   "outputs": [
    {
     "name": "stdout",
     "output_type": "stream",
     "text": [
      "소멸자 호출\n"
     ]
    }
   ],
   "source": [
    "del t3"
   ]
  },
  {
   "cell_type": "code",
   "execution_count": 57,
   "metadata": {},
   "outputs": [
    {
     "name": "stdout",
     "output_type": "stream",
     "text": [
      "생성자 호출됨\n",
      "소멸자 호출\n",
      "<class '__main__.Test'> <class '__main__.Test2'>\n",
      "True\n",
      "False\n",
      "False\n",
      "True\n"
     ]
    }
   ],
   "source": [
    "ob1 = Test()\n",
    "ob2 = Test2()\n",
    "\n",
    "print(type(ob1), type(ob2))\n",
    "\n",
    "print(isinstance(ob1, Test))\n",
    "print(isinstance(ob1, Test2))\n",
    "print(isinstance(ob2, Test))\n",
    "print(isinstance(ob2, Test2))"
   ]
  },
  {
   "cell_type": "code",
   "execution_count": null,
   "metadata": {},
   "outputs": [],
   "source": []
  },
  {
   "cell_type": "code",
   "execution_count": null,
   "metadata": {},
   "outputs": [],
   "source": []
  },
  {
   "cell_type": "code",
   "execution_count": null,
   "metadata": {},
   "outputs": [],
   "source": []
  },
  {
   "cell_type": "code",
   "execution_count": null,
   "metadata": {},
   "outputs": [],
   "source": []
  },
  {
   "cell_type": "code",
   "execution_count": null,
   "metadata": {},
   "outputs": [],
   "source": []
  },
  {
   "cell_type": "code",
   "execution_count": null,
   "metadata": {},
   "outputs": [],
   "source": []
  },
  {
   "cell_type": "code",
   "execution_count": null,
   "metadata": {},
   "outputs": [],
   "source": []
  },
  {
   "cell_type": "code",
   "execution_count": null,
   "metadata": {},
   "outputs": [],
   "source": []
  },
  {
   "cell_type": "code",
   "execution_count": null,
   "metadata": {},
   "outputs": [],
   "source": []
  },
  {
   "cell_type": "code",
   "execution_count": null,
   "metadata": {},
   "outputs": [],
   "source": []
  },
  {
   "cell_type": "code",
   "execution_count": null,
   "metadata": {},
   "outputs": [],
   "source": []
  },
  {
   "cell_type": "code",
   "execution_count": null,
   "metadata": {},
   "outputs": [],
   "source": []
  },
  {
   "cell_type": "code",
   "execution_count": null,
   "metadata": {},
   "outputs": [],
   "source": []
  },
  {
   "cell_type": "code",
   "execution_count": null,
   "metadata": {},
   "outputs": [],
   "source": []
  },
  {
   "cell_type": "code",
   "execution_count": null,
   "metadata": {},
   "outputs": [],
   "source": []
  },
  {
   "cell_type": "code",
   "execution_count": null,
   "metadata": {},
   "outputs": [],
   "source": []
  },
  {
   "cell_type": "code",
   "execution_count": null,
   "metadata": {},
   "outputs": [],
   "source": []
  },
  {
   "cell_type": "code",
   "execution_count": null,
   "metadata": {},
   "outputs": [],
   "source": []
  },
  {
   "cell_type": "code",
   "execution_count": null,
   "metadata": {},
   "outputs": [],
   "source": []
  }
 ],
 "metadata": {
  "kernelspec": {
   "display_name": "Python 3",
   "language": "python",
   "name": "python3"
  },
  "language_info": {
   "codemirror_mode": {
    "name": "ipython",
    "version": 3
   },
   "file_extension": ".py",
   "mimetype": "text/x-python",
   "name": "python",
   "nbconvert_exporter": "python",
   "pygments_lexer": "ipython3",
   "version": "3.8.5"
  }
 },
 "nbformat": 4,
 "nbformat_minor": 4
}
