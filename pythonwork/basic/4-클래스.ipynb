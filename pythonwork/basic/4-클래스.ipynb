{
 "cells": [
  {
   "cell_type": "markdown",
   "metadata": {},
   "source": [
    "### 1. 특징\n",
    "\n",
    "+ 묶음(block) \n",
    "    - 변수(멤버 변수, 속성, 필드), 함수(멤버 함수, 메서드)\n",
    "    - 여러 개의 함수를 묶어서 좀 더 큰 단위의 모듈로 관리\n",
    "     \n",
    "     \n",
    "+ 설계도(추상적)\n",
    "    - 인스턴스(instance), 객체(Object)\n",
    "    \n",
    "    \n",
    "+ 사용자 정의 자료형을 만들 수 있는 도구\n",
    "\n",
    "\n",
    "+ 객체의 조건\n",
    "    - 상속성(Inheritance)\n",
    "    - 다형성(Polymorphism)\n",
    "    - 캡슐화(Capsulation)\n",
    "    \n",
    "  \n",
    "+ 객체 설계 5원칙 : SOLID"
   ]
  },
  {
   "cell_type": "markdown",
   "metadata": {},
   "source": [
    "---\n",
    "### 2. 클래스 작성 방법\n",
    "\n",
    "    class 이름:\n",
    "        변수\n",
    "        함수\n",
    "    \n",
    "    또는\n",
    "\n",
    "    class 이름(...):\n",
    "        변수\n",
    "        함수"
   ]
  },
  {
   "cell_type": "code",
   "execution_count": null,
   "metadata": {},
   "outputs": [],
   "source": [
    "class Test:\n",
    "    a = 10\n",
    "    \n",
    "    def show(self):\n",
    "        print(\"Test 클래스\")\n",
    "        \n",
    "###############################################\n",
    "\n",
    "#Test().a\n",
    "#Test().show()\n",
    "\n",
    "ob = Test()\n",
    "ob.a = 100\n",
    "print(ob.a)\n",
    "ob.show()\n",
    "\n",
    "a = 20\n",
    "print(type(a))"
   ]
  },
  {
   "cell_type": "code",
   "execution_count": null,
   "metadata": {},
   "outputs": [],
   "source": [
    "### 사용자 정의 자료형\n",
    "# 국적, 이름, 나이, 신장, 취미\n",
    "\n",
    "class Person:\n",
    "    nation = \"한국\"\n",
    "    name = str()\n",
    "    age = int()\n",
    "    height = float()\n",
    "    hobbies = []\n",
    "    \n",
    "    def show(self):\n",
    "        print(\"국적 : \", self.nation)\n",
    "        print(\"이름 : \", self.name)\n",
    "        print(\"나이 : \", self.age)\n",
    "        print(\"신장 : \", self.height)\n",
    "        print(\"취미 : \", self.hobbies)\n",
    "        print(\"\\n---------------------------\")\n",
    "        \n",
    "##############################################################\n",
    "\n",
    "p1 = Person()\n",
    "p2 = Person()\n",
    "p3 = Person()\n",
    "\n",
    "p1.nation = \"한국\"\n",
    "p1.name = \"홍길동\"\n",
    "p1.age = 20\n",
    "p1.height = 170\n",
    "p1.hobbies = [\"독서\", \"여행\"]\n",
    "\n",
    "p2.nation = \"프랑스\"\n",
    "p2.name = \"몽블랑\"\n",
    "p2.age = 25\n",
    "p2.height = 172\n",
    "p2.hobbies = [\"독서\", \"여행\", \"우표수집\"]\n",
    "\n",
    "p3.nation = \"칠레\"\n",
    "p3.name = \"신돌석\"\n",
    "p3.age = 25\n",
    "p3.height = 165\n",
    "p3.hobbies = [\"낚시\"]\n",
    "\n",
    "data = [p1, p2, p3]\n",
    "\n",
    "for i in range(len(data)):\n",
    "    data[i].show()\n"
   ]
  },
  {
   "cell_type": "markdown",
   "metadata": {},
   "source": [
    "---\n",
    "### 3. 클래스 작성 문법\n",
    "\n",
    "+ self\n",
    "    - 현재 사용중인 객체의 주소를 저장하고 있는 참조 변수\n",
    "    - read only"
   ]
  },
  {
   "cell_type": "code",
   "execution_count": null,
   "metadata": {},
   "outputs": [],
   "source": [
    "class Test:\n",
    "    #a = int()\n",
    "    #b = float()\n",
    "    #c = str()\n",
    "    \n",
    "    def show(self):\n",
    "        print(self.a, self.b, self.c)\n",
    "        print(\"현재 주소 : \", id(self))\n",
    "        \n",
    "    def setValue(self, a, b, c):\n",
    "        # 검증 또는 방어코드\n",
    "        self.a = a\n",
    "        self.b = b\n",
    "        self.c = c"
   ]
  },
  {
   "cell_type": "code",
   "execution_count": null,
   "metadata": {},
   "outputs": [],
   "source": [
    "t1 = Test()\n",
    "t2 = Test()\n",
    "t3 = Test()\n",
    "\n",
    "#t1.a = 10\n",
    "#t1.b = 3.14\n",
    "#t1.c = \"홍길동\"\n",
    "t1.setValue(10, 3.14, \"홍길동\")\n",
    "\n",
    "print(id(t1))\n",
    "t1.show()"
   ]
  },
  {
   "cell_type": "markdown",
   "metadata": {},
   "source": [
    "---\n",
    "+ 생성자(Constructor) 메서드와 소멸자(Deconstructor) 메서드\n",
    "    - 객체를 생성하는 용도\n",
    "    - 객체를 처음 만들 때 호출된다.(단 한번만 호출됨)\n",
    "    - 초기화"
   ]
  },
  {
   "cell_type": "code",
   "execution_count": null,
   "metadata": {},
   "outputs": [],
   "source": [
    "class Test:\n",
    "    a = int()\n",
    "    b = str()\n",
    "    \n",
    "    def __init__(self, x=0, y=None):\n",
    "        print(\"생성자 호출됨\")\n",
    "        self.a = x\n",
    "        self.b = y\n",
    "        \n",
    "    def setValue(self, x, y):\n",
    "        self.a = x\n",
    "        self.b = y\n",
    "        \n",
    "    def __del__(self):\n",
    "        print(\"소멸자 호출\")\n",
    "        \n",
    "class Test2:\n",
    "    pass"
   ]
  },
  {
   "cell_type": "code",
   "execution_count": null,
   "metadata": {},
   "outputs": [],
   "source": [
    "t = Test(10, \"홍길동\")\n",
    "print(t.a, t.b)\n",
    "\n",
    "t.setValue(20, \"임꺽정\")\n",
    "print(t.a, t.b)\n",
    "\n",
    "t1 = Test()\n",
    "print(t1.a, t1.b)\n",
    "\n",
    "t2 = Test(30)\n",
    "print(t2.a, t2.b)\n",
    "\n",
    "t3 = Test(\"신돌석\")\n",
    "print(t3.a, t3.b)"
   ]
  },
  {
   "cell_type": "code",
   "execution_count": null,
   "metadata": {},
   "outputs": [],
   "source": [
    "del t3"
   ]
  },
  {
   "cell_type": "code",
   "execution_count": null,
   "metadata": {},
   "outputs": [],
   "source": [
    "ob1 = Test()\n",
    "ob2 = Test2()\n",
    "\n",
    "print(type(ob1), type(ob2))\n",
    "\n",
    "print(isinstance(ob1, Test))\n",
    "print(isinstance(ob1, Test2))\n",
    "print(isinstance(ob2, Test))\n",
    "print(isinstance(ob2, Test2))"
   ]
  },
  {
   "cell_type": "markdown",
   "metadata": {},
   "source": [
    "---\n",
    "+ 정적 메서드 <-> 인스턴스 메서드\n",
    "    - 정적(클래스) 변수, 정적(클래스) 메서드\n",
    "    - 동일한 공간을 모든 객체들이 공동으로 사용\n",
    "    - staticmethod, classmethod"
   ]
  },
  {
   "cell_type": "code",
   "execution_count": 32,
   "metadata": {},
   "outputs": [],
   "source": [
    "class Person:\n",
    "    nation = \"한국\"\n",
    "    name = str()\n",
    "    age = int()\n",
    "    height = float()\n",
    "    hobbies = []\n",
    "    telephone = []\n",
    "    \n",
    "    def show(self):\n",
    "        print(\"국적 : \", self.nation)\n",
    "        print(\"이름 : \", self.name)\n",
    "        print(\"나이 : \", self.age)\n",
    "        print(\"신장 : \", self.height)\n",
    "        print(\"취미 : \", self.hobbies)\n",
    "        print(\"전화번호 : \", self.telephone)\n",
    "        print(\"\\n---------------------------\")\n",
    "    \n",
    "    @staticmethod\n",
    "    def tel(num = \"02-111-1111\"):\n",
    "        Person.telephone.append(num)\n",
    "        return \"대표 전화번호 :\" + Person.telephone[0]"
   ]
  },
  {
   "cell_type": "code",
   "execution_count": 33,
   "metadata": {},
   "outputs": [
    {
     "name": "stdout",
     "output_type": "stream",
     "text": [
      "한국\n"
     ]
    }
   ],
   "source": [
    "print(Person.nation)"
   ]
  },
  {
   "cell_type": "code",
   "execution_count": 34,
   "metadata": {},
   "outputs": [
    {
     "name": "stdout",
     "output_type": "stream",
     "text": [
      "한국 한국\n",
      "독일 프랑스\n",
      "한국\n"
     ]
    }
   ],
   "source": [
    "p1 = Person()\n",
    "p2 = Person()\n",
    "\n",
    "print(p1.nation, p2.nation)\n",
    "\n",
    "p1.nation = \"독일\"\n",
    "p2.nation = \"프랑스\"\n",
    "\n",
    "print(p1.nation, p2.nation)\n",
    "print(Person.nation)"
   ]
  },
  {
   "cell_type": "code",
   "execution_count": 35,
   "metadata": {},
   "outputs": [
    {
     "name": "stdout",
     "output_type": "stream",
     "text": [
      "대표 전화번호 :02-111-1111\n",
      "대표 전화번호 :02-111-1111\n",
      "대표 전화번호 :02-111-1111\n"
     ]
    }
   ],
   "source": [
    "print(Person.tel())\n",
    "print(p1.tel())\n",
    "print(p2.tel())"
   ]
  },
  {
   "cell_type": "code",
   "execution_count": 40,
   "metadata": {},
   "outputs": [
    {
     "name": "stdout",
     "output_type": "stream",
     "text": [
      "객체의 수 :  3\n",
      "객체의 수 :  3\n",
      "객체의 수 :  3\n",
      "객체의 수 :  3\n"
     ]
    }
   ],
   "source": [
    "# 객체의 수를 카운팅\n",
    "class Counter:\n",
    "    m_cnt = 0\n",
    "    \n",
    "    def __init__(self):\n",
    "        Counter.m_cnt += 1\n",
    "    \n",
    "    @staticmethod\n",
    "    def printCount():\n",
    "        print(\"객체의 수 : \", Counter.m_cnt)\n",
    "################################\n",
    "a, b, c = Counter(), Counter(), Counter() \n",
    "a.printCount()\n",
    "b.printCount()\n",
    "c.printCount()\n",
    "\n",
    "Counter.printCount()"
   ]
  },
  {
   "cell_type": "code",
   "execution_count": 42,
   "metadata": {},
   "outputs": [
    {
     "name": "stdout",
     "output_type": "stream",
     "text": [
      "객체의 수 :  3\n",
      "객체의 수 :  3\n",
      "객체의 수 :  3\n",
      "객체의 수 :  3\n"
     ]
    }
   ],
   "source": [
    "class Counter:\n",
    "    m_cnt = 0\n",
    "    \n",
    "    def __init__(self):\n",
    "        Counter.m_cnt += 1\n",
    "    \n",
    "    @staticmethod\n",
    "    def printCount():\n",
    "        print(\"객체의 수 : \", Counter.m_cnt)\n",
    "    \n",
    "    @classmethod\n",
    "    def printCount2(cls):\n",
    "        print(\"객체의 수 : \", cls.m_cnt)\n",
    "################################\n",
    "a, b, c = Counter(), Counter(), Counter() \n",
    "a.printCount2()\n",
    "b.printCount2()\n",
    "c.printCount2()\n",
    "\n",
    "Counter.printCount2()"
   ]
  },
  {
   "cell_type": "code",
   "execution_count": 45,
   "metadata": {},
   "outputs": [
    {
     "name": "stdout",
     "output_type": "stream",
     "text": [
      "객체의 수 :  3\n",
      "객체의 수 :  3\n",
      "객체의 수 :  3\n",
      "객체의 수 :  3\n",
      "객체의 수 :  3\n",
      "객체의 수 :  3\n",
      "객체의 수 :  3\n",
      "객체의 수 :  3\n"
     ]
    }
   ],
   "source": [
    "# decorator를 사용하지 않을 경우\n",
    "\n",
    "class Counter:\n",
    "    m_cnt = 0\n",
    "    \n",
    "    def __init__(self):\n",
    "        Counter.m_cnt += 1\n",
    "    \n",
    "    def printCount():\n",
    "        print(\"객체의 수 : \", Counter.m_cnt)\n",
    "    \n",
    "    def printCount2(cls):\n",
    "        print(\"객체의 수 : \", cls.m_cnt)\n",
    "        \n",
    "    cnt1 = staticmethod(printCount)\n",
    "    cnt2 = classmethod(printCount2)\n",
    "################################\n",
    "a, b, c = Counter(), Counter(), Counter() \n",
    "a.cnt1()\n",
    "b.cnt1()\n",
    "c.cnt1()\n",
    "a.cnt2()\n",
    "b.cnt2()\n",
    "c.cnt2()\n",
    "\n",
    "Counter.cnt1()\n",
    "Counter.cnt2()"
   ]
  },
  {
   "cell_type": "code",
   "execution_count": null,
   "metadata": {},
   "outputs": [],
   "source": [
    "\"\"\"\n",
    "e1 = Employee(1111, \"홍길동\", 1000000, [\"여행\", \"낚시\", \"운동\"])\n",
    "e1.display()\n",
    "\n",
    "결과 :\n",
    "    사번 : 1111\n",
    "    이름 : 홍길동\n",
    "    급여 : 1000000\n",
    "    취미 : 여행, 낚시, 운동\n",
    "    \n",
    "e2 = Employee(1112, \"임꺽정\", 1200000, [\"자전거\", \"볼링\"])\n",
    "e3 = Employee(1113, \"신돌석\", 1400000, [\"독서\"])\n",
    "\n",
    "total = Employee.getCount()\n",
    "print(\"인원수 : \", total)\n",
    "\n",
    "# 데이터 수정\n",
    "e3.setSalary(2000000)\n",
    "e3.appendHobby(\"피아노\", \"드론\")\n",
    "e3.display()\n",
    "\n",
    "결과 :\n",
    "    사번 : 1113\n",
    "    이름 : 신돌석\n",
    "    급여 : 2000000\n",
    "    취미 : 독서, 피아노, 드론\n",
    "\"\"\""
   ]
  },
  {
   "cell_type": "markdown",
   "metadata": {},
   "source": [
    "---\n",
    "+ 원래 설계된 멤버변수외에 객체 별로 멤버변수를 추가할 수 있다."
   ]
  },
  {
   "cell_type": "code",
   "execution_count": 50,
   "metadata": {},
   "outputs": [
    {
     "name": "stdout",
     "output_type": "stream",
     "text": [
      "0\n",
      "0\n",
      "20\n"
     ]
    }
   ],
   "source": [
    "class Test:\n",
    "    a = 0\n",
    "    \n",
    "    def display(self):\n",
    "        print(self.a)\n",
    "        \n",
    "#####################################\n",
    "\n",
    "ob1 = Test()\n",
    "ob1.display()\n",
    "\n",
    "ob2 = Test()\n",
    "ob2.display()\n",
    "\n",
    "ob2.b = 20\n",
    "print(ob2.b)\n",
    "\n",
    "# print(ob1.b)"
   ]
  },
  {
   "cell_type": "markdown",
   "metadata": {},
   "source": [
    "___\n",
    "+ _ 와 __\n",
    "    - 기본 인터프리터에서 사용(최근에 사용한 값을 저장하고 불러오기)\n",
    "    - 값을 무시\n",
    "    - 접근 권한"
   ]
  },
  {
   "cell_type": "code",
   "execution_count": 56,
   "metadata": {},
   "outputs": [
    {
     "name": "stdout",
     "output_type": "stream",
     "text": [
      "20 30\n"
     ]
    }
   ],
   "source": [
    "_, b, c = (10, 20, 30)\n",
    "# a, _, c = (10, 20, 30)\n",
    "# _, _, c = (10, 20, 30)\n",
    "print(b, c)"
   ]
  },
  {
   "cell_type": "code",
   "execution_count": 58,
   "metadata": {},
   "outputs": [
    {
     "name": "stdout",
     "output_type": "stream",
     "text": [
      "10 60\n"
     ]
    }
   ],
   "source": [
    "a, _, _, _, _ , b = (10, 20, 30, 40, 50, 60)\n",
    "a, *_ , b = (10, 20, 30, 40, 50, 60)\n",
    "print(a, b)"
   ]
  },
  {
   "cell_type": "code",
   "execution_count": 62,
   "metadata": {},
   "outputs": [
    {
     "name": "stdout",
     "output_type": "stream",
     "text": [
      "0\n",
      "1\n",
      "2\n",
      "3\n",
      "**********"
     ]
    }
   ],
   "source": [
    "for idx, _ in enumerate([\"가\", \"나\", \"다\", \"라\"]):\n",
    "    print(idx)\n",
    "    \n",
    "for _ in range(10):\n",
    "    print(\"*\", end=\"\")"
   ]
  },
  {
   "cell_type": "code",
   "execution_count": 76,
   "metadata": {},
   "outputs": [
    {
     "name": "stdout",
     "output_type": "stream",
     "text": [
      "안녕하세요~~\n",
      "홍길동입니다...\n",
      "임꺽정입니다.\n",
      "['_Test__funcTest', '_Test__str3', '__class__', '__delattr__', '__dict__', '__dir__', '__doc__', '__eq__', '__format__', '__ge__', '__getattribute__', '__gt__', '__hash__', '__init__', '__init_subclass__', '__le__', '__lt__', '__module__', '__ne__', '__new__', '__reduce__', '__reduce_ex__', '__repr__', '__setattr__', '__sizeof__', '__str__', '__subclasshook__', '__weakref__', '_str2', 'str1']\n",
      "이것은 건드리지 마세요~~\n",
      "funcTest 입니다. 안녕하세요~~\n"
     ]
    }
   ],
   "source": [
    "# _ 와 __ 를 이용한 접근 권한\n",
    "\n",
    "class Test:\n",
    "    str1 = \"안녕하세요~~\"\n",
    "    _str2 = \"홍길동입니다...\"\n",
    "    __str3 = \"이것은 건드리지 마세요~~\"\n",
    "    \n",
    "    def __funcTest(self):\n",
    "        print(\"funcTest 입니다.\", self.str1)\n",
    "        \n",
    "    def setStr(self, str):\n",
    "        self.__str3 = str\n",
    "        \n",
    "    def getStr(self):\n",
    "        return self.__str3\n",
    "        \n",
    "###################################################\n",
    "\n",
    "ob1 = Test()\n",
    "print(ob1.str1)\n",
    "print(ob1._str2)\n",
    "ob1._str2 = \"임꺽정입니다.\"\n",
    "print(ob1._str2)\n",
    "\n",
    "# print(ob1.__str3)\n",
    "print(dir(ob1))\n",
    "\n",
    "print(ob1._Test__str3)\n",
    "\n",
    "# ob1._funcTest()\n",
    "# ob1.__funcTest()\n",
    "ob1._Test__funcTest()"
   ]
  },
  {
   "cell_type": "markdown",
   "metadata": {},
   "source": [
    "___\n",
    "### 상속(Inheritance)\n",
    "\n",
    "+ 상속 설계 시 고려할 점\n",
    "    - 부모 클래스는 최소한의 코드로 작성(모든 자식들이 공통적으로 필요로 한 것들로 구성)\n",
    "    - 상속받은 자식 클래스는 반드시 기능을 확장(추가)시켜야 한다.\n",
    "    - 중복된 기능이 있어서는 안된다.\n",
    "    \n",
    "    \n",
    "+ Override(재정의), Overload(중복정의) : 파이썬에서는 Overload를 지원하지 않는다."
   ]
  },
  {
   "cell_type": "code",
   "execution_count": 81,
   "metadata": {},
   "outputs": [],
   "source": [
    "class Animal:\n",
    "    def move(self):\n",
    "        print(\"움직인다.\")\n",
    "        \n",
    "class Dog(Animal):\n",
    "    def bark(self):\n",
    "        print(\"멍멍~~~~\")\n",
    "    \n",
    "class Horse(Animal):\n",
    "    def speed(self, s):\n",
    "        print(\"현재 속도는 \", s)"
   ]
  },
  {
   "cell_type": "code",
   "execution_count": 82,
   "metadata": {},
   "outputs": [
    {
     "name": "stdout",
     "output_type": "stream",
     "text": [
      "움직인다.\n",
      "멍멍~~~~\n",
      "움직인다.\n",
      "현재 속도는  100\n"
     ]
    }
   ],
   "source": [
    "d1 = Dog()\n",
    "d1.move()\n",
    "d1.bark()\n",
    "\n",
    "h1 = Horse()\n",
    "h1.move()\n",
    "h1.speed(100)"
   ]
  },
  {
   "cell_type": "markdown",
   "metadata": {},
   "source": [
    "---\n",
    "+ Override"
   ]
  },
  {
   "cell_type": "code",
   "execution_count": 91,
   "metadata": {},
   "outputs": [],
   "source": [
    "class Calculator:\n",
    "    first = 0\n",
    "    second = 0\n",
    "    \n",
    "    def __init__(self, first=None, second=None):\n",
    "        self.first = first\n",
    "        self.second = second\n",
    "    \n",
    "    def setData(self, first=None, second=None):\n",
    "        self.first = first\n",
    "        self.second = second\n",
    "        \n",
    "    def sum(self):\n",
    "        return self.first + self.second\n",
    "    \n",
    "    def div(self):\n",
    "        return self.first / self.second\n",
    "    \n",
    "    def mul(self):\n",
    "        return self.first * self.second\n",
    "    \n",
    "    def sub(self):\n",
    "        return self.first - self.second\n",
    "    \n",
    "\n",
    "class Calculator2(Calculator):\n",
    "    def pow(self):\n",
    "        return self.first ** self.second\n",
    "    \n",
    "    def div(self):\n",
    "        if self.second == 0:\n",
    "            return \"0으로 나눌 수 없습니다\"\n",
    "        else:\n",
    "            return self.first / self.second"
   ]
  },
  {
   "cell_type": "code",
   "execution_count": 92,
   "metadata": {},
   "outputs": [
    {
     "name": "stdout",
     "output_type": "stream",
     "text": [
      "30\n",
      "600\n",
      "1024\n",
      "0으로 나눌 수 없습니다\n"
     ]
    }
   ],
   "source": [
    "cal1 = Calculator()\n",
    "cal1.setData(10, 20)\n",
    "print(cal1.sum())\n",
    "\n",
    "cal2 = Calculator(20, 30)\n",
    "print(cal2.mul())\n",
    "\n",
    "cal3 = Calculator2(2, 10)\n",
    "print(cal3.pow())\n",
    "\n",
    "cal3.setData(10, 0)\n",
    "print(cal3.div())"
   ]
  },
  {
   "cell_type": "code",
   "execution_count": null,
   "metadata": {},
   "outputs": [],
   "source": [
    "# Override 이용한 표준화 구현\n",
    "\n",
    "class Phone:\n",
    "    def call(self):\n",
    "        print(\"전화 걸기\")\n",
    "        \n",
    "class FolderPhone(Phone):\n",
    "    def call(self):\n",
    "        print(\"전화 걸기 + 게임\")\n",
    "        \n",
    "class CameraPhone(Phone):\n",
    "    def call(self):\n",
    "        print(\"전화 걸기 + 카메라 추가\")\n",
    "        \n",
    "class SmartPhone(Phone):\n",
    "    def call(self):\n",
    "        print(\"전화 걸기 + 카메라 추가 + 인터넷 기능\")"
   ]
  },
  {
   "cell_type": "markdown",
   "metadata": {},
   "source": [
    "---\n",
    "+ super()"
   ]
  },
  {
   "cell_type": "code",
   "execution_count": 100,
   "metadata": {},
   "outputs": [
    {
     "name": "stdout",
     "output_type": "stream",
     "text": [
      "Employee 클래스\n",
      "20\n",
      "난 회사원이다.\n",
      "난 사람이다.\n",
      "나이:20, 하고싶은 말:난 회사원이다.\n"
     ]
    }
   ],
   "source": [
    "class Person:\n",
    "    say = \"난 사람이다.\"\n",
    "    age = 20\n",
    "    \n",
    "    def info(self):\n",
    "        print(\"나이:{}, 하고싶은 말:{}\".format(self.age, self.say))\n",
    "        \n",
    "    def __init__(self):\n",
    "        print(\"Person 클래스\")\n",
    "        \n",
    "\n",
    "class Employee(Person):\n",
    "    say = \"난 회사원이다.\"\n",
    "    \n",
    "    def __init__(self):\n",
    "        print(\"Employee 클래스\")\n",
    "    \n",
    "    def info(self):\n",
    "        print(self.age)\n",
    "        print(self.say)\n",
    "        print(super().say)\n",
    "        super().info()\n",
    "        \n",
    "#########################################\n",
    "\n",
    "e1 = Employee()\n",
    "e1.info()"
   ]
  },
  {
   "cell_type": "markdown",
   "metadata": {},
   "source": [
    "---\n",
    "+ 상속에서의 staticmethod, classmethod\n",
    "    - staticmethod의 경우 상속을 해도 부모의 리소스를 먼저 접근(오버라이딩 무효)\n",
    "    - classmethod는 오버라이딩 적용"
   ]
  },
  {
   "cell_type": "code",
   "execution_count": 104,
   "metadata": {},
   "outputs": [
    {
     "name": "stdout",
     "output_type": "stream",
     "text": [
      "내가 상속해 주었음\n",
      "내가 상속 받았음\n"
     ]
    }
   ],
   "source": [
    "class Test:\n",
    "    t = \"내가 상속해 주었음\"\n",
    "    \n",
    "    #@staticmethod\n",
    "    #def display():\n",
    "    #    return Test.t\n",
    "    \n",
    "    @classmethod\n",
    "    def display(cls):\n",
    "        return cls.t\n",
    "    \n",
    "    \n",
    "class ChildTest(Test):\n",
    "    t = \"내가 상속 받았음\"\n",
    "    \n",
    "######################################\n",
    "\n",
    "print(Test.display())\n",
    "print(ChildTest.display())"
   ]
  },
  {
   "cell_type": "markdown",
   "metadata": {},
   "source": [
    "---\n",
    "+ 다중 상속"
   ]
  },
  {
   "cell_type": "code",
   "execution_count": 106,
   "metadata": {},
   "outputs": [
    {
     "name": "stdout",
     "output_type": "stream",
     "text": [
      "전화 걸기\n",
      "촬영 기능\n"
     ]
    }
   ],
   "source": [
    "class Phone:\n",
    "    def call(self):\n",
    "        print(\"전화 걸기\")\n",
    "        \n",
    "class Camera:\n",
    "    def picture(self):\n",
    "        print(\"촬영 기능\")\n",
    "        \n",
    "class Game:\n",
    "    def rendering(self):\n",
    "        print(\"화면 그리기\")\n",
    "        \n",
    "class CameraPhone(Phone, Camera):\n",
    "    pass\n",
    "\n",
    "########################################\n",
    "\n",
    "cp = CameraPhone()\n",
    "cp.call()\n",
    "cp.picture()"
   ]
  },
  {
   "cell_type": "markdown",
   "metadata": {},
   "source": [
    "---\n",
    "+ 추상클래스와 추상메서드"
   ]
  },
  {
   "cell_type": "code",
   "execution_count": 115,
   "metadata": {},
   "outputs": [
    {
     "name": "stdout",
     "output_type": "stream",
     "text": [
      "테스트 제품 소리 증가 :  100\n",
      "테스트 제품 소리 감소 :  50\n"
     ]
    }
   ],
   "source": [
    "import abc\n",
    "\n",
    "class Volume(metaclass=abc.ABCMeta):\n",
    "    vol = 0\n",
    "    \n",
    "    @abc.abstractmethod\n",
    "    def volumeUp(self, vol):\n",
    "        pass\n",
    "    \n",
    "    @abc.abstractmethod\n",
    "    def volumeDown(self, vol):\n",
    "        pass\n",
    "        \n",
    "        \n",
    "class TestVolume(Volume):\n",
    "    def volumeUp(self, vol):\n",
    "        self.vol += vol\n",
    "        print(\"테스트 제품 소리 증가 : \", self.vol)\n",
    "    \n",
    "    def volumeDown(self, vol):\n",
    "        self.vol -= vol\n",
    "        print(\"테스트 제품 소리 감소 : \", self.vol)\n",
    "        \n",
    "##############################################################\n",
    "\n",
    "t = TestVolume()\n",
    "t.volumeUp(100)\n",
    "\n",
    "t.volumeDown(50)\n",
    "\n",
    "#Volume()"
   ]
  },
  {
   "cell_type": "code",
   "execution_count": 116,
   "metadata": {},
   "outputs": [],
   "source": [
    "class Volume:\n",
    "    vol = 0\n",
    "    \n",
    "    def volumeUp(self, vol):\n",
    "        self.vol += vol\n",
    "        print(\"볼륨의 크기는 %d만큼 증가하여 현재 볼륨은 %d 입니다.\"%(vol, self.vol))\n",
    "        \n",
    "    def volumeDown(self, vol):\n",
    "        self.vol -= vol\n",
    "        print(\"볼륨의 크기는 %d만큼 감소하여 현재 볼륨은 %d 입니다.\"%(vol, self.vol))\n",
    "\n",
    "############################################################################\n",
    "\n",
    "class TV(Volume):   \n",
    "    def volumeUp(self, vol):\n",
    "        self.vol += vol\n",
    "        print(\"TV 볼륨의 크기는 %d만큼 증가하여 현재 볼륨은 %d 입니다.\"%(vol, self.vol))\n",
    "        \n",
    "    def volumeDown(self, vol):\n",
    "        self.vol -= vol\n",
    "        print(\"TV 볼륨의 크기는 %d만큼 감소하여 현재 볼륨은 %d 입니다.\"%(vol, self.vol))\n",
    "\n",
    "##############################################################################\n",
    "\n",
    "class Radio(Volume):   \n",
    "    def volumeUp(self, vol):\n",
    "        self.vol += vol\n",
    "        print(\"Radio 볼륨의 크기는 %d만큼 증가하여 현재 볼륨은 %d 입니다.\"%(vol, self.vol))\n",
    "        \n",
    "    def volumeDown(self, vol):\n",
    "        self.vol -= vol\n",
    "        print(\"Radio 볼륨의 크기는 %d만큼 감소하여 현재 볼륨은 %d 입니다.\"%(vol, self.vol))\n",
    "        \n",
    "##############################################################################\n",
    "\n",
    "class Speaker(Volume):   \n",
    "    def volumeUp(self, vol):\n",
    "        self.vol += vol\n",
    "        print(\"Speaker 볼륨의 크기는 %d만큼 증가하여 현재 볼륨은 %d 입니다.\"%(vol, self.vol))\n",
    "        \n",
    "    def volumeDown(self, vol):\n",
    "        self.vol -= vol\n",
    "        print(\"Speaker 볼륨의 크기는 %d만큼 감소하여 현재 볼륨은 %d 입니다.\"%(vol, self.vol))"
   ]
  },
  {
   "cell_type": "code",
   "execution_count": 117,
   "metadata": {},
   "outputs": [
    {
     "data": {
      "text/plain": [
       "'\\n1. 부모 클래스로 Power를 추가한다. : 다중 상속 구현\\n    - powerOn(), powerOff()\\n    \\n2. 부모 클래스는 추상 클래스로 구현한다.\\n\\n3. 전원을 켰을 때만 볼륨 조정을 할 수 있게 한다.\\n\\n4. 볼륨 조정은 max값을 100으로 하고 min값을 0으로 한다.\\n\\n-----------------------------------------------------------\\n1. TV\\n2. Radio\\n3. Speaker\\n4. 종료\\n메뉴 : 1\\n\\n1. 전원 \\n2. 볼륨 조정\\n3. 나가기\\n메뉴 : 2\\n\\n볼륨 레벨 : 20\\n현재 TV의 볼륨은 20입니다.\\n...\\n\\n'"
      ]
     },
     "execution_count": 117,
     "metadata": {},
     "output_type": "execute_result"
    }
   ],
   "source": [
    "\"\"\"\n",
    "1. 부모 클래스로 Power를 추가한다. : 다중 상속 구현\n",
    "    - powerOn(), powerOff()\n",
    "    \n",
    "2. 부모 클래스는 추상 클래스로 구현한다.\n",
    "\n",
    "3. 전원을 켰을 때만 볼륨 조정을 할 수 있게 한다.\n",
    "\n",
    "4. 볼륨 조정은 max값을 100으로 하고 min값을 0으로 한다.\n",
    "\n",
    "-----------------------------------------------------------\n",
    "1. TV\n",
    "2. Radio\n",
    "3. Speaker\n",
    "4. 종료\n",
    "메뉴 : 1\n",
    "\n",
    "1. 전원 \n",
    "2. 볼륨 조정\n",
    "3. 나가기\n",
    "메뉴 : 2\n",
    "\n",
    "볼륨 레벨 : 20\n",
    "현재 TV의 볼륨은 20입니다.\n",
    "...\n",
    "\n",
    "\"\"\""
   ]
  },
  {
   "cell_type": "code",
   "execution_count": null,
   "metadata": {},
   "outputs": [],
   "source": []
  },
  {
   "cell_type": "code",
   "execution_count": null,
   "metadata": {},
   "outputs": [],
   "source": []
  },
  {
   "cell_type": "code",
   "execution_count": null,
   "metadata": {},
   "outputs": [],
   "source": []
  },
  {
   "cell_type": "code",
   "execution_count": null,
   "metadata": {},
   "outputs": [],
   "source": []
  },
  {
   "cell_type": "code",
   "execution_count": null,
   "metadata": {},
   "outputs": [],
   "source": []
  },
  {
   "cell_type": "code",
   "execution_count": null,
   "metadata": {},
   "outputs": [],
   "source": []
  },
  {
   "cell_type": "code",
   "execution_count": null,
   "metadata": {},
   "outputs": [],
   "source": []
  },
  {
   "cell_type": "code",
   "execution_count": null,
   "metadata": {},
   "outputs": [],
   "source": []
  },
  {
   "cell_type": "code",
   "execution_count": null,
   "metadata": {},
   "outputs": [],
   "source": []
  },
  {
   "cell_type": "code",
   "execution_count": null,
   "metadata": {},
   "outputs": [],
   "source": []
  },
  {
   "cell_type": "code",
   "execution_count": null,
   "metadata": {},
   "outputs": [],
   "source": []
  },
  {
   "cell_type": "code",
   "execution_count": null,
   "metadata": {},
   "outputs": [],
   "source": []
  },
  {
   "cell_type": "code",
   "execution_count": null,
   "metadata": {},
   "outputs": [],
   "source": []
  },
  {
   "cell_type": "code",
   "execution_count": null,
   "metadata": {},
   "outputs": [],
   "source": []
  },
  {
   "cell_type": "code",
   "execution_count": null,
   "metadata": {},
   "outputs": [],
   "source": []
  },
  {
   "cell_type": "code",
   "execution_count": null,
   "metadata": {},
   "outputs": [],
   "source": []
  },
  {
   "cell_type": "code",
   "execution_count": null,
   "metadata": {},
   "outputs": [],
   "source": []
  },
  {
   "cell_type": "code",
   "execution_count": null,
   "metadata": {},
   "outputs": [],
   "source": []
  },
  {
   "cell_type": "code",
   "execution_count": null,
   "metadata": {},
   "outputs": [],
   "source": []
  },
  {
   "cell_type": "code",
   "execution_count": null,
   "metadata": {},
   "outputs": [],
   "source": []
  },
  {
   "cell_type": "code",
   "execution_count": null,
   "metadata": {},
   "outputs": [],
   "source": []
  },
  {
   "cell_type": "code",
   "execution_count": null,
   "metadata": {},
   "outputs": [],
   "source": []
  },
  {
   "cell_type": "code",
   "execution_count": null,
   "metadata": {},
   "outputs": [],
   "source": []
  },
  {
   "cell_type": "code",
   "execution_count": null,
   "metadata": {},
   "outputs": [],
   "source": []
  },
  {
   "cell_type": "code",
   "execution_count": null,
   "metadata": {},
   "outputs": [],
   "source": []
  },
  {
   "cell_type": "code",
   "execution_count": null,
   "metadata": {},
   "outputs": [],
   "source": []
  },
  {
   "cell_type": "code",
   "execution_count": null,
   "metadata": {},
   "outputs": [],
   "source": []
  },
  {
   "cell_type": "code",
   "execution_count": null,
   "metadata": {},
   "outputs": [],
   "source": []
  },
  {
   "cell_type": "code",
   "execution_count": null,
   "metadata": {},
   "outputs": [],
   "source": []
  },
  {
   "cell_type": "code",
   "execution_count": null,
   "metadata": {},
   "outputs": [],
   "source": []
  },
  {
   "cell_type": "code",
   "execution_count": null,
   "metadata": {},
   "outputs": [],
   "source": []
  },
  {
   "cell_type": "code",
   "execution_count": null,
   "metadata": {},
   "outputs": [],
   "source": []
  },
  {
   "cell_type": "code",
   "execution_count": null,
   "metadata": {},
   "outputs": [],
   "source": []
  }
 ],
 "metadata": {
  "kernelspec": {
   "display_name": "Python 3",
   "language": "python",
   "name": "python3"
  },
  "language_info": {
   "codemirror_mode": {
    "name": "ipython",
    "version": 3
   },
   "file_extension": ".py",
   "mimetype": "text/x-python",
   "name": "python",
   "nbconvert_exporter": "python",
   "pygments_lexer": "ipython3",
   "version": "3.8.5"
  }
 },
 "nbformat": 4,
 "nbformat_minor": 4
}
