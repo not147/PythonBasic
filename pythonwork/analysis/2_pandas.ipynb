{
 "cells": [
  {
   "cell_type": "markdown",
   "metadata": {},
   "source": [
    "## PANDAS에서 제공하는 대표적인 자료구조\n",
    "\n",
    "    1) Series\n",
    "        - 값 + index\n",
    "    \n",
    "    \n",
    "    2) DataFrame\n",
    "        - 여러 개의 Series를 묶어놓은 형태\n",
    "\n",
    "\n",
    "    3) https://pandas.pydata.org"
   ]
  },
  {
   "cell_type": "code",
   "execution_count": 1,
   "metadata": {},
   "outputs": [],
   "source": [
    "import pandas as pd\n",
    "import numpy as np"
   ]
  },
  {
   "cell_type": "markdown",
   "metadata": {},
   "source": [
    "### 1. Series"
   ]
  },
  {
   "cell_type": "code",
   "execution_count": 4,
   "metadata": {},
   "outputs": [
    {
     "name": "stdout",
     "output_type": "stream",
     "text": [
      "0    9904312\n",
      "1    3448737\n",
      "2    2890451\n",
      "3    2466052\n",
      "dtype: int64\n",
      "<class 'pandas.core.series.Series'>\n"
     ]
    }
   ],
   "source": [
    "s = pd.Series([9904312, 3448737, 2890451, 2466052])\n",
    "print(s)\n",
    "print(type(s))"
   ]
  },
  {
   "cell_type": "code",
   "execution_count": 5,
   "metadata": {},
   "outputs": [
    {
     "name": "stdout",
     "output_type": "stream",
     "text": [
      "(0, 9904312)\n",
      "(1, 3448737)\n",
      "(2, 2890451)\n",
      "(3, 2466052)\n"
     ]
    }
   ],
   "source": [
    "for i in enumerate([9904312, 3448737, 2890451, 2466052]):\n",
    "    print(i)"
   ]
  },
  {
   "cell_type": "code",
   "execution_count": 11,
   "metadata": {
    "collapsed": true
   },
   "outputs": [
    {
     "name": "stdout",
     "output_type": "stream",
     "text": [
      "서울    9904312\n",
      "부산    3448737\n",
      "인천    2890451\n",
      "대구    2466052\n",
      "dtype: int64\n",
      "---------------------------------------------------\n",
      "[9904312 3448737 2890451 2466052] <class 'numpy.ndarray'>\n",
      "Index(['서울', '부산', '인천', '대구'], dtype='object')\n",
      "---------------------------------------------------\n",
      "도시\n",
      "서울    9904312\n",
      "부산    3448737\n",
      "인천    2890451\n",
      "대구    2466052\n",
      "dtype: int64\n",
      "---------------------------------------------------\n",
      "도시\n",
      "서울    9904312\n",
      "부산    3448737\n",
      "인천    2890451\n",
      "대구    2466052\n",
      "Name: 인구, dtype: int64\n"
     ]
    }
   ],
   "source": [
    "##### 인덱스를 자유롭게 지정\n",
    "\n",
    "s = pd.Series([9904312, 3448737, 2890451, 2466052], index=[\"서울\", \"부산\", \"인천\", \"대구\"])\n",
    "print(s)\n",
    "\n",
    "print(\"---------------------------------------------------\")\n",
    "\n",
    "print(s.values, type(s.values))\n",
    "print(s.index)\n",
    "\n",
    "print(\"---------------------------------------------------\")\n",
    "\n",
    "# 인덱스에 이름 지정\n",
    "s.index.name = \"도시\"\n",
    "print(s)\n",
    "\n",
    "print(\"---------------------------------------------------\")\n",
    "\n",
    "# Series 전체에 이름 지정\n",
    "s.name = \"인구\"\n",
    "print(s)"
   ]
  },
  {
   "cell_type": "code",
   "execution_count": 12,
   "metadata": {},
   "outputs": [
    {
     "name": "stdout",
     "output_type": "stream",
     "text": [
      "도시\n",
      "서울    9.904312\n",
      "부산    3.448737\n",
      "인천    2.890451\n",
      "대구    2.466052\n",
      "Name: 인구, dtype: float64\n"
     ]
    }
   ],
   "source": [
    "##### 벡터화 연산\n",
    "\n",
    "s1 = s / 1000000\n",
    "print(s1)"
   ]
  },
  {
   "cell_type": "code",
   "execution_count": 22,
   "metadata": {
    "collapsed": true
   },
   "outputs": [
    {
     "name": "stdout",
     "output_type": "stream",
     "text": [
      "3448737 3448737\n",
      "-----------------------------\n",
      "도시\n",
      "서울    9904312\n",
      "대구    2466052\n",
      "부산    3448737\n",
      "Name: 인구, dtype: int64 도시\n",
      "서울    9904312\n",
      "대구    2466052\n",
      "부산    3448737\n",
      "Name: 인구, dtype: int64\n",
      "-----------------------------\n",
      "도시\n",
      "부산    3448737\n",
      "인천    2890451\n",
      "Name: 인구, dtype: int64\n",
      "-----------------------------\n",
      "도시\n",
      "부산    3448737\n",
      "인천    2890451\n",
      "Name: 인구, dtype: int64\n",
      "도시\n",
      "부산    3448737\n",
      "인천    2890451\n",
      "대구    2466052\n",
      "Name: 인구, dtype: int64\n",
      "-----------------------------\n",
      "3448737 ,  9904312\n"
     ]
    }
   ],
   "source": [
    "##### 인덱싱\n",
    "\n",
    "print(s[1], s[\"부산\"])\n",
    "\n",
    "print(\"-----------------------------\")\n",
    "\n",
    "print(s[[0, 3, 1]], s[[\"서울\", \"대구\", \"부산\"]])\n",
    "\n",
    "print(\"-----------------------------\")\n",
    "\n",
    "print(s[(s>250e4) & (s<500e4)])\n",
    "\n",
    "print(\"-----------------------------\")\n",
    "\n",
    "print(s[1:3])\n",
    "print(s[\"부산\":\"대구\"])\n",
    "\n",
    "print(\"-----------------------------\")\n",
    "\n",
    "print(s.부산, \", \", s.서울)"
   ]
  },
  {
   "cell_type": "code",
   "execution_count": 28,
   "metadata": {
    "collapsed": true
   },
   "outputs": [
    {
     "name": "stdout",
     "output_type": "stream",
     "text": [
      "True\n",
      "False\n",
      "-----------------------------\n",
      "[('서울', 9904312), ('부산', 3448737), ('인천', 2890451), ('대구', 2466052)]\n",
      "서울 = 9904312\n",
      "부산 = 3448737\n",
      "인천 = 2890451\n",
      "대구 = 2466052\n",
      "-----------------------------\n",
      "서울    9631482\n",
      "부산    3448737\n",
      "인천    2632035\n",
      "대전    1490158\n",
      "dtype: int64\n"
     ]
    }
   ],
   "source": [
    "##### Series 와 dict\n",
    "\n",
    "print(\"서울\" in s)\n",
    "print(\"대전\" in s)\n",
    "\n",
    "print(\"-----------------------------\")\n",
    "\n",
    "print(list(s.items()))\n",
    "for k, v in s.items():\n",
    "    print(\"%s = %d\"%(k, v))\n",
    "    \n",
    "print(\"-----------------------------\")\n",
    "\n",
    "s2 = pd.Series({\"서울\":9631482, \"부산\":3448737, \"인천\":2632035, \"대전\":1490158})\n",
    "print(s2)"
   ]
  },
  {
   "cell_type": "code",
   "execution_count": 33,
   "metadata": {
    "collapsed": true
   },
   "outputs": [
    {
     "name": "stdout",
     "output_type": "stream",
     "text": [
      "도시\n",
      "서울    9904312\n",
      "부산    3448737\n",
      "인천    2890451\n",
      "대구    2466052\n",
      "Name: 인구, dtype: int64\n",
      "------------------\n",
      "서울    9631482\n",
      "부산    3448737\n",
      "인천    2632035\n",
      "대전    1490158\n",
      "dtype: int64\n",
      "------------------\n",
      "대구         NaN\n",
      "대전         NaN\n",
      "부산         0.0\n",
      "서울    272830.0\n",
      "인천    258416.0\n",
      "dtype: float64\n",
      "------------------\n",
      "[272830      0 258416 975894]\n"
     ]
    }
   ],
   "source": [
    "##### 인덱스 기반 연산\n",
    "\n",
    "print(s)\n",
    "print(\"------------------\")\n",
    "print(s2)\n",
    "print(\"------------------\")\n",
    "\n",
    "result = s - s2\n",
    "print(result)\n",
    "\n",
    "print(\"------------------\")\n",
    "\n",
    "print(s.values - s2.values)"
   ]
  },
  {
   "cell_type": "code",
   "execution_count": 38,
   "metadata": {},
   "outputs": [
    {
     "name": "stdout",
     "output_type": "stream",
     "text": [
      "대구         NaN\n",
      "대전         NaN\n",
      "부산         0.0\n",
      "서울    272830.0\n",
      "인천    258416.0\n",
      "dtype: float64\n",
      "대구    False\n",
      "대전    False\n",
      "부산     True\n",
      "서울     True\n",
      "인천     True\n",
      "dtype: bool\n",
      "부산         0.0\n",
      "서울    272830.0\n",
      "인천    258416.0\n",
      "dtype: float64\n",
      "-------------------------------------\n",
      "대구         NaN\n",
      "대전         NaN\n",
      "부산    0.000000\n",
      "서울   -2.754659\n",
      "인천   -8.940335\n",
      "dtype: float64\n",
      "부산    0.000000\n",
      "서울   -2.754659\n",
      "인천   -8.940335\n",
      "dtype: float64\n"
     ]
    }
   ],
   "source": [
    "##### 결측치 제거\n",
    "\n",
    "print(result)\n",
    "print(result.notnull())\n",
    "print(result[result.notnull()])\n",
    "\n",
    "print(\"-------------------------------------\")\n",
    "\n",
    "# s와 s2 데이터를 이용해서 인구 증가율 : (끝 연도 - 시작연도) / 시작연도 * 100\n",
    "result2 = (s2 - s) / s * 100\n",
    "print(result2)\n",
    "\n",
    "result2 = result2[result2.notnull()]\n",
    "print(result2)"
   ]
  },
  {
   "cell_type": "code",
   "execution_count": 42,
   "metadata": {
    "collapsed": true
   },
   "outputs": [
    {
     "name": "stdout",
     "output_type": "stream",
     "text": [
      "부산    1.630000\n",
      "서울   -2.754659\n",
      "인천   -8.940335\n",
      "대구    1.410000\n",
      "dtype: float64\n",
      "부산    1.630000\n",
      "서울   -2.754659\n",
      "인천   -8.940335\n",
      "대구    1.410000\n",
      "dtype: float64\n",
      "부산    1.630000\n",
      "인천   -8.940335\n",
      "대구    1.410000\n",
      "dtype: float64\n"
     ]
    }
   ],
   "source": [
    "##### 데이터를 수정, 삭제, 갱신\n",
    "\n",
    "result2[\"부산\"] = 1.63  # 수정\n",
    "print(result2)\n",
    "\n",
    "result2[\"대구\"] = 1.41  # 갱신\n",
    "print(result2)\n",
    "\n",
    "del result2[\"서울\"]  # 삭제\n",
    "print(result2)"
   ]
  },
  {
   "cell_type": "markdown",
   "metadata": {},
   "source": [
    "### 2. DataFrame"
   ]
  },
  {
   "cell_type": "code",
   "execution_count": 43,
   "metadata": {},
   "outputs": [],
   "source": [
    "data = {\n",
    "    \"2015\": [9904312, 3448737, 2890451, 2466052],\n",
    "    \"2010\": [9631482, 3393191, 2632035, 2431774],\n",
    "    \"2005\": [9762546, 3512547, 2517680, 2456016],\n",
    "    \"2000\": [9853972, 3655437, 2466338, 2473990],\n",
    "    \"지역\": [\"수도권\", \"경상권\", \"수도권\", \"경상권\"],\n",
    "    \"2010-2015 증가율\": [0.0283, 0.0163, 0.0982, 0.0141]\n",
    "}"
   ]
  },
  {
   "cell_type": "code",
   "execution_count": 45,
   "metadata": {},
   "outputs": [
    {
     "name": "stdout",
     "output_type": "stream",
     "text": [
      "<class 'dict'>\n",
      "{'2015': [9904312, 3448737, 2890451, 2466052], '2010': [9631482, 3393191, 2632035, 2431774], '2005': [9762546, 3512547, 2517680, 2456016], '2000': [9853972, 3655437, 2466338, 2473990], '지역': ['수도권', '경상권', '수도권', '경상권'], '2010-2015 증가율': [0.0283, 0.0163, 0.0982, 0.0141]}\n"
     ]
    }
   ],
   "source": [
    "print(type(data))\n",
    "print(data)"
   ]
  },
  {
   "cell_type": "code",
   "execution_count": 49,
   "metadata": {},
   "outputs": [
    {
     "name": "stdout",
     "output_type": "stream",
     "text": [
      "<class 'pandas.core.frame.DataFrame'>\n"
     ]
    },
    {
     "data": {
      "text/html": [
       "<div>\n",
       "<style scoped>\n",
       "    .dataframe tbody tr th:only-of-type {\n",
       "        vertical-align: middle;\n",
       "    }\n",
       "\n",
       "    .dataframe tbody tr th {\n",
       "        vertical-align: top;\n",
       "    }\n",
       "\n",
       "    .dataframe thead th {\n",
       "        text-align: right;\n",
       "    }\n",
       "</style>\n",
       "<table border=\"1\" class=\"dataframe\">\n",
       "  <thead>\n",
       "    <tr style=\"text-align: right;\">\n",
       "      <th></th>\n",
       "      <th>2015</th>\n",
       "      <th>2010</th>\n",
       "      <th>2005</th>\n",
       "      <th>2000</th>\n",
       "      <th>지역</th>\n",
       "      <th>2010-2015 증가율</th>\n",
       "    </tr>\n",
       "  </thead>\n",
       "  <tbody>\n",
       "    <tr>\n",
       "      <th>0</th>\n",
       "      <td>9904312</td>\n",
       "      <td>9631482</td>\n",
       "      <td>9762546</td>\n",
       "      <td>9853972</td>\n",
       "      <td>수도권</td>\n",
       "      <td>0.0283</td>\n",
       "    </tr>\n",
       "    <tr>\n",
       "      <th>1</th>\n",
       "      <td>3448737</td>\n",
       "      <td>3393191</td>\n",
       "      <td>3512547</td>\n",
       "      <td>3655437</td>\n",
       "      <td>경상권</td>\n",
       "      <td>0.0163</td>\n",
       "    </tr>\n",
       "    <tr>\n",
       "      <th>2</th>\n",
       "      <td>2890451</td>\n",
       "      <td>2632035</td>\n",
       "      <td>2517680</td>\n",
       "      <td>2466338</td>\n",
       "      <td>수도권</td>\n",
       "      <td>0.0982</td>\n",
       "    </tr>\n",
       "    <tr>\n",
       "      <th>3</th>\n",
       "      <td>2466052</td>\n",
       "      <td>2431774</td>\n",
       "      <td>2456016</td>\n",
       "      <td>2473990</td>\n",
       "      <td>경상권</td>\n",
       "      <td>0.0141</td>\n",
       "    </tr>\n",
       "  </tbody>\n",
       "</table>\n",
       "</div>"
      ],
      "text/plain": [
       "      2015     2010     2005     2000   지역  2010-2015 증가율\n",
       "0  9904312  9631482  9762546  9853972  수도권         0.0283\n",
       "1  3448737  3393191  3512547  3655437  경상권         0.0163\n",
       "2  2890451  2632035  2517680  2466338  수도권         0.0982\n",
       "3  2466052  2431774  2456016  2473990  경상권         0.0141"
      ]
     },
     "execution_count": 49,
     "metadata": {},
     "output_type": "execute_result"
    }
   ],
   "source": [
    "df = pd.DataFrame(data)\n",
    "print(type(df))\n",
    "df"
   ]
  },
  {
   "cell_type": "markdown",
   "metadata": {},
   "source": [
    "#### 1) 컬럼의 위치(순서) 바꾸기"
   ]
  },
  {
   "cell_type": "code",
   "execution_count": 52,
   "metadata": {},
   "outputs": [
    {
     "data": {
      "text/html": [
       "<div>\n",
       "<style scoped>\n",
       "    .dataframe tbody tr th:only-of-type {\n",
       "        vertical-align: middle;\n",
       "    }\n",
       "\n",
       "    .dataframe tbody tr th {\n",
       "        vertical-align: top;\n",
       "    }\n",
       "\n",
       "    .dataframe thead th {\n",
       "        text-align: right;\n",
       "    }\n",
       "</style>\n",
       "<table border=\"1\" class=\"dataframe\">\n",
       "  <thead>\n",
       "    <tr style=\"text-align: right;\">\n",
       "      <th></th>\n",
       "      <th>지역</th>\n",
       "      <th>2015</th>\n",
       "      <th>2010</th>\n",
       "      <th>2005</th>\n",
       "      <th>2000</th>\n",
       "      <th>2010-2015 증가율</th>\n",
       "    </tr>\n",
       "  </thead>\n",
       "  <tbody>\n",
       "    <tr>\n",
       "      <th>0</th>\n",
       "      <td>수도권</td>\n",
       "      <td>9904312</td>\n",
       "      <td>9631482</td>\n",
       "      <td>9762546</td>\n",
       "      <td>9853972</td>\n",
       "      <td>0.0283</td>\n",
       "    </tr>\n",
       "    <tr>\n",
       "      <th>1</th>\n",
       "      <td>경상권</td>\n",
       "      <td>3448737</td>\n",
       "      <td>3393191</td>\n",
       "      <td>3512547</td>\n",
       "      <td>3655437</td>\n",
       "      <td>0.0163</td>\n",
       "    </tr>\n",
       "    <tr>\n",
       "      <th>2</th>\n",
       "      <td>수도권</td>\n",
       "      <td>2890451</td>\n",
       "      <td>2632035</td>\n",
       "      <td>2517680</td>\n",
       "      <td>2466338</td>\n",
       "      <td>0.0982</td>\n",
       "    </tr>\n",
       "    <tr>\n",
       "      <th>3</th>\n",
       "      <td>경상권</td>\n",
       "      <td>2466052</td>\n",
       "      <td>2431774</td>\n",
       "      <td>2456016</td>\n",
       "      <td>2473990</td>\n",
       "      <td>0.0141</td>\n",
       "    </tr>\n",
       "  </tbody>\n",
       "</table>\n",
       "</div>"
      ],
      "text/plain": [
       "    지역     2015     2010     2005     2000  2010-2015 증가율\n",
       "0  수도권  9904312  9631482  9762546  9853972         0.0283\n",
       "1  경상권  3448737  3393191  3512547  3655437         0.0163\n",
       "2  수도권  2890451  2632035  2517680  2466338         0.0982\n",
       "3  경상권  2466052  2431774  2456016  2473990         0.0141"
      ]
     },
     "execution_count": 52,
     "metadata": {},
     "output_type": "execute_result"
    }
   ],
   "source": [
    "?pd.DataFrame\n",
    "cols = [\"지역\", \"2015\", \"2010\", \"2005\", \"2000\", \"2010-2015 증가율\"]\n",
    "\n",
    "df = pd.DataFrame(data, columns=cols)\n",
    "df"
   ]
  },
  {
   "cell_type": "markdown",
   "metadata": {},
   "source": [
    "#### 2) 인덱스 변경"
   ]
  },
  {
   "cell_type": "code",
   "execution_count": 55,
   "metadata": {},
   "outputs": [
    {
     "data": {
      "text/html": [
       "<div>\n",
       "<style scoped>\n",
       "    .dataframe tbody tr th:only-of-type {\n",
       "        vertical-align: middle;\n",
       "    }\n",
       "\n",
       "    .dataframe tbody tr th {\n",
       "        vertical-align: top;\n",
       "    }\n",
       "\n",
       "    .dataframe thead th {\n",
       "        text-align: right;\n",
       "    }\n",
       "</style>\n",
       "<table border=\"1\" class=\"dataframe\">\n",
       "  <thead>\n",
       "    <tr style=\"text-align: right;\">\n",
       "      <th></th>\n",
       "      <th>지역</th>\n",
       "      <th>2015</th>\n",
       "      <th>2010</th>\n",
       "      <th>2005</th>\n",
       "      <th>2000</th>\n",
       "      <th>2010-2015 증가율</th>\n",
       "    </tr>\n",
       "  </thead>\n",
       "  <tbody>\n",
       "    <tr>\n",
       "      <th>서울</th>\n",
       "      <td>수도권</td>\n",
       "      <td>9904312</td>\n",
       "      <td>9631482</td>\n",
       "      <td>9762546</td>\n",
       "      <td>9853972</td>\n",
       "      <td>0.0283</td>\n",
       "    </tr>\n",
       "    <tr>\n",
       "      <th>부산</th>\n",
       "      <td>경상권</td>\n",
       "      <td>3448737</td>\n",
       "      <td>3393191</td>\n",
       "      <td>3512547</td>\n",
       "      <td>3655437</td>\n",
       "      <td>0.0163</td>\n",
       "    </tr>\n",
       "    <tr>\n",
       "      <th>인천</th>\n",
       "      <td>수도권</td>\n",
       "      <td>2890451</td>\n",
       "      <td>2632035</td>\n",
       "      <td>2517680</td>\n",
       "      <td>2466338</td>\n",
       "      <td>0.0982</td>\n",
       "    </tr>\n",
       "    <tr>\n",
       "      <th>대구</th>\n",
       "      <td>경상권</td>\n",
       "      <td>2466052</td>\n",
       "      <td>2431774</td>\n",
       "      <td>2456016</td>\n",
       "      <td>2473990</td>\n",
       "      <td>0.0141</td>\n",
       "    </tr>\n",
       "  </tbody>\n",
       "</table>\n",
       "</div>"
      ],
      "text/plain": [
       "     지역     2015     2010     2005     2000  2010-2015 증가율\n",
       "서울  수도권  9904312  9631482  9762546  9853972         0.0283\n",
       "부산  경상권  3448737  3393191  3512547  3655437         0.0163\n",
       "인천  수도권  2890451  2632035  2517680  2466338         0.0982\n",
       "대구  경상권  2466052  2431774  2456016  2473990         0.0141"
      ]
     },
     "execution_count": 55,
     "metadata": {},
     "output_type": "execute_result"
    }
   ],
   "source": [
    "idx = [\"서울\", \"부산\", \"인천\", \"대구\"]\n",
    "\n",
    "df = pd.DataFrame(data, columns=cols, index=idx)\n",
    "df"
   ]
  },
  {
   "cell_type": "code",
   "execution_count": 56,
   "metadata": {},
   "outputs": [
    {
     "name": "stdout",
     "output_type": "stream",
     "text": [
      "[['수도권' 9904312 9631482 9762546 9853972 0.0283]\n",
      " ['경상권' 3448737 3393191 3512547 3655437 0.0163]\n",
      " ['수도권' 2890451 2632035 2517680 2466338 0.0982]\n",
      " ['경상권' 2466052 2431774 2456016 2473990 0.0141]]\n",
      "Index(['지역', '2015', '2010', '2005', '2000', '2010-2015 증가율'], dtype='object')\n",
      "Index(['서울', '부산', '인천', '대구'], dtype='object')\n"
     ]
    }
   ],
   "source": [
    "print(df.values)\n",
    "print(df.columns)\n",
    "print(df.index)"
   ]
  },
  {
   "cell_type": "code",
   "execution_count": 58,
   "metadata": {},
   "outputs": [
    {
     "data": {
      "text/html": [
       "<div>\n",
       "<style scoped>\n",
       "    .dataframe tbody tr th:only-of-type {\n",
       "        vertical-align: middle;\n",
       "    }\n",
       "\n",
       "    .dataframe tbody tr th {\n",
       "        vertical-align: top;\n",
       "    }\n",
       "\n",
       "    .dataframe thead th {\n",
       "        text-align: right;\n",
       "    }\n",
       "</style>\n",
       "<table border=\"1\" class=\"dataframe\">\n",
       "  <thead>\n",
       "    <tr style=\"text-align: right;\">\n",
       "      <th>특성</th>\n",
       "      <th>지역</th>\n",
       "      <th>2015</th>\n",
       "      <th>2010</th>\n",
       "      <th>2005</th>\n",
       "      <th>2000</th>\n",
       "      <th>2010-2015 증가율</th>\n",
       "    </tr>\n",
       "    <tr>\n",
       "      <th>도시</th>\n",
       "      <th></th>\n",
       "      <th></th>\n",
       "      <th></th>\n",
       "      <th></th>\n",
       "      <th></th>\n",
       "      <th></th>\n",
       "    </tr>\n",
       "  </thead>\n",
       "  <tbody>\n",
       "    <tr>\n",
       "      <th>서울</th>\n",
       "      <td>수도권</td>\n",
       "      <td>9904312</td>\n",
       "      <td>9631482</td>\n",
       "      <td>9762546</td>\n",
       "      <td>9853972</td>\n",
       "      <td>0.0283</td>\n",
       "    </tr>\n",
       "    <tr>\n",
       "      <th>부산</th>\n",
       "      <td>경상권</td>\n",
       "      <td>3448737</td>\n",
       "      <td>3393191</td>\n",
       "      <td>3512547</td>\n",
       "      <td>3655437</td>\n",
       "      <td>0.0163</td>\n",
       "    </tr>\n",
       "    <tr>\n",
       "      <th>인천</th>\n",
       "      <td>수도권</td>\n",
       "      <td>2890451</td>\n",
       "      <td>2632035</td>\n",
       "      <td>2517680</td>\n",
       "      <td>2466338</td>\n",
       "      <td>0.0982</td>\n",
       "    </tr>\n",
       "    <tr>\n",
       "      <th>대구</th>\n",
       "      <td>경상권</td>\n",
       "      <td>2466052</td>\n",
       "      <td>2431774</td>\n",
       "      <td>2456016</td>\n",
       "      <td>2473990</td>\n",
       "      <td>0.0141</td>\n",
       "    </tr>\n",
       "  </tbody>\n",
       "</table>\n",
       "</div>"
      ],
      "text/plain": [
       "특성   지역     2015     2010     2005     2000  2010-2015 증가율\n",
       "도시                                                        \n",
       "서울  수도권  9904312  9631482  9762546  9853972         0.0283\n",
       "부산  경상권  3448737  3393191  3512547  3655437         0.0163\n",
       "인천  수도권  2890451  2632035  2517680  2466338         0.0982\n",
       "대구  경상권  2466052  2431774  2456016  2473990         0.0141"
      ]
     },
     "execution_count": 58,
     "metadata": {},
     "output_type": "execute_result"
    }
   ],
   "source": [
    "##### 컬럼과 인덱스에 이름 부여\n",
    "\n",
    "df.index.name = \"도시\"\n",
    "df.columns.name = \"특성\"\n",
    "df"
   ]
  },
  {
   "cell_type": "code",
   "execution_count": 59,
   "metadata": {},
   "outputs": [
    {
     "data": {
      "text/html": [
       "<div>\n",
       "<style scoped>\n",
       "    .dataframe tbody tr th:only-of-type {\n",
       "        vertical-align: middle;\n",
       "    }\n",
       "\n",
       "    .dataframe tbody tr th {\n",
       "        vertical-align: top;\n",
       "    }\n",
       "\n",
       "    .dataframe thead th {\n",
       "        text-align: right;\n",
       "    }\n",
       "</style>\n",
       "<table border=\"1\" class=\"dataframe\">\n",
       "  <thead>\n",
       "    <tr style=\"text-align: right;\">\n",
       "      <th>도시</th>\n",
       "      <th>서울</th>\n",
       "      <th>부산</th>\n",
       "      <th>인천</th>\n",
       "      <th>대구</th>\n",
       "    </tr>\n",
       "    <tr>\n",
       "      <th>특성</th>\n",
       "      <th></th>\n",
       "      <th></th>\n",
       "      <th></th>\n",
       "      <th></th>\n",
       "    </tr>\n",
       "  </thead>\n",
       "  <tbody>\n",
       "    <tr>\n",
       "      <th>지역</th>\n",
       "      <td>수도권</td>\n",
       "      <td>경상권</td>\n",
       "      <td>수도권</td>\n",
       "      <td>경상권</td>\n",
       "    </tr>\n",
       "    <tr>\n",
       "      <th>2015</th>\n",
       "      <td>9904312</td>\n",
       "      <td>3448737</td>\n",
       "      <td>2890451</td>\n",
       "      <td>2466052</td>\n",
       "    </tr>\n",
       "    <tr>\n",
       "      <th>2010</th>\n",
       "      <td>9631482</td>\n",
       "      <td>3393191</td>\n",
       "      <td>2632035</td>\n",
       "      <td>2431774</td>\n",
       "    </tr>\n",
       "    <tr>\n",
       "      <th>2005</th>\n",
       "      <td>9762546</td>\n",
       "      <td>3512547</td>\n",
       "      <td>2517680</td>\n",
       "      <td>2456016</td>\n",
       "    </tr>\n",
       "    <tr>\n",
       "      <th>2000</th>\n",
       "      <td>9853972</td>\n",
       "      <td>3655437</td>\n",
       "      <td>2466338</td>\n",
       "      <td>2473990</td>\n",
       "    </tr>\n",
       "    <tr>\n",
       "      <th>2010-2015 증가율</th>\n",
       "      <td>0.0283</td>\n",
       "      <td>0.0163</td>\n",
       "      <td>0.0982</td>\n",
       "      <td>0.0141</td>\n",
       "    </tr>\n",
       "  </tbody>\n",
       "</table>\n",
       "</div>"
      ],
      "text/plain": [
       "도시                  서울       부산       인천       대구\n",
       "특성                                               \n",
       "지역                 수도권      경상권      수도권      경상권\n",
       "2015           9904312  3448737  2890451  2466052\n",
       "2010           9631482  3393191  2632035  2431774\n",
       "2005           9762546  3512547  2517680  2456016\n",
       "2000           9853972  3655437  2466338  2473990\n",
       "2010-2015 증가율   0.0283   0.0163   0.0982   0.0141"
      ]
     },
     "execution_count": 59,
     "metadata": {},
     "output_type": "execute_result"
    }
   ],
   "source": [
    "##### 전치 가능\n",
    "df.T"
   ]
  },
  {
   "cell_type": "markdown",
   "metadata": {},
   "source": [
    "#### 3) 인덱싱"
   ]
  },
  {
   "cell_type": "code",
   "execution_count": 68,
   "metadata": {
    "collapsed": true
   },
   "outputs": [
    {
     "name": "stdout",
     "output_type": "stream",
     "text": [
      "특성   지역     2015     2010     2005     2000  2010-2015 증가율\n",
      "도시                                                        \n",
      "서울  수도권  9904312  9631482  9762546  9853972         0.0283\n",
      "부산  경상권  3448737  3393191  3512547  3655437         0.0163\n",
      "인천  수도권  2890451  2632035  2517680  2466338         0.0982\n",
      "대구  경상권  2466052  2431774  2456016  2473990         0.0141\n",
      "-----------------------------------------------------------------------\n",
      "도시\n",
      "서울    수도권\n",
      "부산    경상권\n",
      "인천    수도권\n",
      "대구    경상권\n",
      "Name: 지역, dtype: object\n",
      "<class 'pandas.core.series.Series'>\n",
      "---------------------------------------\n",
      "특성   지역\n",
      "도시     \n",
      "서울  수도권\n",
      "부산  경상권\n",
      "인천  수도권\n",
      "대구  경상권\n",
      "<class 'pandas.core.frame.DataFrame'>\n",
      "---------------------------------------\n",
      "특성     2015     2010\n",
      "도시                  \n",
      "서울  9904312  9631482\n",
      "부산  3448737  3393191\n",
      "인천  2890451  2632035\n",
      "대구  2466052  2431774\n"
     ]
    }
   ],
   "source": [
    "##### 열 인덱싱\n",
    "\n",
    "print(df)\n",
    "print(\"-----------------------------------------------------------------------\")\n",
    "\n",
    "print(df[\"지역\"])\n",
    "print(type(df[\"지역\"]))\n",
    "print(\"---------------------------------------\")\n",
    "print(df[[\"지역\"]])\n",
    "print(type(df[[\"지역\"]]))\n",
    "print(\"---------------------------------------\")\n",
    "print(df[[\"2015\", \"2010\"]])\n",
    "\n",
    "# df[0] : 숫자로 지정 안됨\n",
    "# df[\"2010\" : \"2000\"] : 슬라이싱 안됨"
   ]
  },
  {
   "cell_type": "code",
   "execution_count": 73,
   "metadata": {
    "collapsed": true
   },
   "outputs": [
    {
     "name": "stdout",
     "output_type": "stream",
     "text": [
      "특성   지역     2015     2010     2005     2000  2010-2015 증가율\n",
      "도시                                                        \n",
      "서울  수도권  9904312  9631482  9762546  9853972         0.0283\n",
      "부산  경상권  3448737  3393191  3512547  3655437         0.0163\n",
      "인천  수도권  2890451  2632035  2517680  2466338         0.0982\n",
      "대구  경상권  2466052  2431774  2456016  2473990         0.0141\n",
      "----------------------------------------------------------------\n",
      "특성   지역     2015     2010     2005     2000  2010-2015 증가율\n",
      "도시                                                        \n",
      "서울  수도권  9904312  9631482  9762546  9853972         0.0283\n",
      "----------------------------------------------------------------\n",
      "특성   지역     2015     2010     2005     2000  2010-2015 증가율\n",
      "도시                                                        \n",
      "부산  경상권  3448737  3393191  3512547  3655437         0.0163\n",
      "인천  수도권  2890451  2632035  2517680  2466338         0.0982\n",
      "----------------------------------------------------------------\n",
      "특성   지역     2015     2010     2005     2000  2010-2015 증가율\n",
      "도시                                                        \n",
      "서울  수도권  9904312  9631482  9762546  9853972         0.0283\n",
      "부산  경상권  3448737  3393191  3512547  3655437         0.0163\n"
     ]
    }
   ],
   "source": [
    "##### 행 인덱싱 (반드시 : 으로 슬라이싱)\n",
    "\n",
    "print(df[:])\n",
    "print(\"----------------------------------------------------------------\")\n",
    "print(df[:1])\n",
    "print(\"----------------------------------------------------------------\")\n",
    "print(df[1:3])\n",
    "print(\"----------------------------------------------------------------\")\n",
    "print(df[\"서울\":\"부산\"])"
   ]
  },
  {
   "cell_type": "code",
   "execution_count": 77,
   "metadata": {},
   "outputs": [
    {
     "name": "stdout",
     "output_type": "stream",
     "text": [
      "------------------------------\n"
     ]
    },
    {
     "data": {
      "text/html": [
       "<div>\n",
       "<style scoped>\n",
       "    .dataframe tbody tr th:only-of-type {\n",
       "        vertical-align: middle;\n",
       "    }\n",
       "\n",
       "    .dataframe tbody tr th {\n",
       "        vertical-align: top;\n",
       "    }\n",
       "\n",
       "    .dataframe thead th {\n",
       "        text-align: right;\n",
       "    }\n",
       "</style>\n",
       "<table border=\"1\" class=\"dataframe\">\n",
       "  <thead>\n",
       "    <tr style=\"text-align: right;\">\n",
       "      <th>특성</th>\n",
       "      <th>2005</th>\n",
       "      <th>2010</th>\n",
       "    </tr>\n",
       "    <tr>\n",
       "      <th>도시</th>\n",
       "      <th></th>\n",
       "      <th></th>\n",
       "    </tr>\n",
       "  </thead>\n",
       "  <tbody>\n",
       "    <tr>\n",
       "      <th>서울</th>\n",
       "      <td>9762546</td>\n",
       "      <td>9631482</td>\n",
       "    </tr>\n",
       "  </tbody>\n",
       "</table>\n",
       "</div>"
      ],
      "text/plain": [
       "특성     2005     2010\n",
       "도시                  \n",
       "서울  9762546  9631482"
      ]
     },
     "execution_count": 77,
     "metadata": {},
     "output_type": "execute_result"
    }
   ],
   "source": [
    "##### 동시에 행과 열에 접근\n",
    "\n",
    "df[\"2005\"][\"서울\"]\n",
    "# df[\"2005\", \"서울\"] 이건 안됨\n",
    "\n",
    "print(\"------------------------------\")\n",
    "\n",
    "# 2005년도와 2010년의 서울 인구를 조회\n",
    "df[[\"2005\", \"2010\"]][:\"서울\"]"
   ]
  },
  {
   "cell_type": "markdown",
   "metadata": {},
   "source": [
    "#### 4) 열 데이터 갱신, 추가, 삭제"
   ]
  },
  {
   "cell_type": "code",
   "execution_count": 80,
   "metadata": {},
   "outputs": [
    {
     "data": {
      "text/html": [
       "<div>\n",
       "<style scoped>\n",
       "    .dataframe tbody tr th:only-of-type {\n",
       "        vertical-align: middle;\n",
       "    }\n",
       "\n",
       "    .dataframe tbody tr th {\n",
       "        vertical-align: top;\n",
       "    }\n",
       "\n",
       "    .dataframe thead th {\n",
       "        text-align: right;\n",
       "    }\n",
       "</style>\n",
       "<table border=\"1\" class=\"dataframe\">\n",
       "  <thead>\n",
       "    <tr style=\"text-align: right;\">\n",
       "      <th>특성</th>\n",
       "      <th>지역</th>\n",
       "      <th>2015</th>\n",
       "      <th>2010</th>\n",
       "      <th>2005</th>\n",
       "      <th>2000</th>\n",
       "      <th>2005-2010 증가율</th>\n",
       "    </tr>\n",
       "    <tr>\n",
       "      <th>도시</th>\n",
       "      <th></th>\n",
       "      <th></th>\n",
       "      <th></th>\n",
       "      <th></th>\n",
       "      <th></th>\n",
       "      <th></th>\n",
       "    </tr>\n",
       "  </thead>\n",
       "  <tbody>\n",
       "    <tr>\n",
       "      <th>서울</th>\n",
       "      <td>수도권</td>\n",
       "      <td>9904312</td>\n",
       "      <td>9631482</td>\n",
       "      <td>9762546</td>\n",
       "      <td>9853972</td>\n",
       "      <td>-1.34</td>\n",
       "    </tr>\n",
       "    <tr>\n",
       "      <th>부산</th>\n",
       "      <td>경상권</td>\n",
       "      <td>3448737</td>\n",
       "      <td>3393191</td>\n",
       "      <td>3512547</td>\n",
       "      <td>3655437</td>\n",
       "      <td>-3.40</td>\n",
       "    </tr>\n",
       "    <tr>\n",
       "      <th>인천</th>\n",
       "      <td>수도권</td>\n",
       "      <td>2890451</td>\n",
       "      <td>2632035</td>\n",
       "      <td>2517680</td>\n",
       "      <td>2466338</td>\n",
       "      <td>4.54</td>\n",
       "    </tr>\n",
       "    <tr>\n",
       "      <th>대구</th>\n",
       "      <td>경상권</td>\n",
       "      <td>2466052</td>\n",
       "      <td>2431774</td>\n",
       "      <td>2456016</td>\n",
       "      <td>2473990</td>\n",
       "      <td>-0.99</td>\n",
       "    </tr>\n",
       "  </tbody>\n",
       "</table>\n",
       "</div>"
      ],
      "text/plain": [
       "특성   지역     2015     2010     2005     2000  2005-2010 증가율\n",
       "도시                                                        \n",
       "서울  수도권  9904312  9631482  9762546  9853972          -1.34\n",
       "부산  경상권  3448737  3393191  3512547  3655437          -3.40\n",
       "인천  수도권  2890451  2632035  2517680  2466338           4.54\n",
       "대구  경상권  2466052  2431774  2456016  2473990          -0.99"
      ]
     },
     "execution_count": 80,
     "metadata": {},
     "output_type": "execute_result"
    }
   ],
   "source": [
    "# 갱신\n",
    "df[\"2010-2015 증가율\"] = df[\"2010-2015 증가율\"] * 100\n",
    "df\n",
    "\n",
    "# 추가\n",
    "df[\"2005-2010 증가율\"] = ((df[\"2010\"] - df[\"2005\"]) / df[\"2005\"] * 100).round(2)\n",
    "df\n",
    "\n",
    "# 삭제\n",
    "del df[\"2010-2015 증가율\"]\n",
    "df"
   ]
  },
  {
   "cell_type": "markdown",
   "metadata": {},
   "source": [
    "#### 5) 실습1"
   ]
  },
  {
   "cell_type": "code",
   "execution_count": 11,
   "metadata": {},
   "outputs": [],
   "source": [
    "data = {\n",
    "    \"국어\":[80, 90, 70, 30],\n",
    "    \"영어\":[90, 70, 60, 40],\n",
    "    \"수학\":[90, 60, 80, 70]\n",
    "}"
   ]
  },
  {
   "cell_type": "code",
   "execution_count": 12,
   "metadata": {},
   "outputs": [
    {
     "data": {
      "text/html": [
       "<div>\n",
       "<style scoped>\n",
       "    .dataframe tbody tr th:only-of-type {\n",
       "        vertical-align: middle;\n",
       "    }\n",
       "\n",
       "    .dataframe tbody tr th {\n",
       "        vertical-align: top;\n",
       "    }\n",
       "\n",
       "    .dataframe thead th {\n",
       "        text-align: right;\n",
       "    }\n",
       "</style>\n",
       "<table border=\"1\" class=\"dataframe\">\n",
       "  <thead>\n",
       "    <tr style=\"text-align: right;\">\n",
       "      <th></th>\n",
       "      <th>국어</th>\n",
       "      <th>영어</th>\n",
       "      <th>수학</th>\n",
       "    </tr>\n",
       "  </thead>\n",
       "  <tbody>\n",
       "    <tr>\n",
       "      <th>춘향</th>\n",
       "      <td>80</td>\n",
       "      <td>90</td>\n",
       "      <td>90</td>\n",
       "    </tr>\n",
       "    <tr>\n",
       "      <th>몽룡</th>\n",
       "      <td>90</td>\n",
       "      <td>70</td>\n",
       "      <td>60</td>\n",
       "    </tr>\n",
       "    <tr>\n",
       "      <th>향단</th>\n",
       "      <td>70</td>\n",
       "      <td>60</td>\n",
       "      <td>80</td>\n",
       "    </tr>\n",
       "    <tr>\n",
       "      <th>방자</th>\n",
       "      <td>30</td>\n",
       "      <td>40</td>\n",
       "      <td>70</td>\n",
       "    </tr>\n",
       "  </tbody>\n",
       "</table>\n",
       "</div>"
      ],
      "text/plain": [
       "    국어  영어  수학\n",
       "춘향  80  90  90\n",
       "몽룡  90  70  60\n",
       "향단  70  60  80\n",
       "방자  30  40  70"
      ]
     },
     "execution_count": 12,
     "metadata": {},
     "output_type": "execute_result"
    }
   ],
   "source": [
    "##### 1. 인덱스를 춘향, 몽룡, 향단, 방자로 구성된 데이터 프레임 df를 작성\n",
    "\n",
    "df = pd.DataFrame(data, index=[\"춘향\", \"몽룡\", \"향단\", \"방자\"])\n",
    "df"
   ]
  },
  {
   "cell_type": "code",
   "execution_count": 13,
   "metadata": {},
   "outputs": [
    {
     "data": {
      "text/plain": [
       "춘향    90\n",
       "몽룡    60\n",
       "향단    80\n",
       "방자    70\n",
       "Name: 수학, dtype: int64"
      ]
     },
     "execution_count": 13,
     "metadata": {},
     "output_type": "execute_result"
    }
   ],
   "source": [
    "##### 2. 모든 학생의 수학 점수를 조회\n",
    "\n",
    "df[\"수학\"]"
   ]
  },
  {
   "cell_type": "code",
   "execution_count": 14,
   "metadata": {},
   "outputs": [
    {
     "data": {
      "text/html": [
       "<div>\n",
       "<style scoped>\n",
       "    .dataframe tbody tr th:only-of-type {\n",
       "        vertical-align: middle;\n",
       "    }\n",
       "\n",
       "    .dataframe tbody tr th {\n",
       "        vertical-align: top;\n",
       "    }\n",
       "\n",
       "    .dataframe thead th {\n",
       "        text-align: right;\n",
       "    }\n",
       "</style>\n",
       "<table border=\"1\" class=\"dataframe\">\n",
       "  <thead>\n",
       "    <tr style=\"text-align: right;\">\n",
       "      <th></th>\n",
       "      <th>국어</th>\n",
       "      <th>영어</th>\n",
       "    </tr>\n",
       "  </thead>\n",
       "  <tbody>\n",
       "    <tr>\n",
       "      <th>춘향</th>\n",
       "      <td>80</td>\n",
       "      <td>90</td>\n",
       "    </tr>\n",
       "    <tr>\n",
       "      <th>몽룡</th>\n",
       "      <td>90</td>\n",
       "      <td>70</td>\n",
       "    </tr>\n",
       "    <tr>\n",
       "      <th>향단</th>\n",
       "      <td>70</td>\n",
       "      <td>60</td>\n",
       "    </tr>\n",
       "    <tr>\n",
       "      <th>방자</th>\n",
       "      <td>30</td>\n",
       "      <td>40</td>\n",
       "    </tr>\n",
       "  </tbody>\n",
       "</table>\n",
       "</div>"
      ],
      "text/plain": [
       "    국어  영어\n",
       "춘향  80  90\n",
       "몽룡  90  70\n",
       "향단  70  60\n",
       "방자  30  40"
      ]
     },
     "execution_count": 14,
     "metadata": {},
     "output_type": "execute_result"
    }
   ],
   "source": [
    "##### 3. 모든 학생의 국어와 영어 점수를 조회\n",
    "\n",
    "df[[\"국어\", \"영어\"]]"
   ]
  },
  {
   "cell_type": "code",
   "execution_count": 15,
   "metadata": {},
   "outputs": [
    {
     "data": {
      "text/html": [
       "<div>\n",
       "<style scoped>\n",
       "    .dataframe tbody tr th:only-of-type {\n",
       "        vertical-align: middle;\n",
       "    }\n",
       "\n",
       "    .dataframe tbody tr th {\n",
       "        vertical-align: top;\n",
       "    }\n",
       "\n",
       "    .dataframe thead th {\n",
       "        text-align: right;\n",
       "    }\n",
       "</style>\n",
       "<table border=\"1\" class=\"dataframe\">\n",
       "  <thead>\n",
       "    <tr style=\"text-align: right;\">\n",
       "      <th></th>\n",
       "      <th>국어</th>\n",
       "      <th>영어</th>\n",
       "      <th>수학</th>\n",
       "      <th>과목평균</th>\n",
       "      <th>과목평균2</th>\n",
       "    </tr>\n",
       "  </thead>\n",
       "  <tbody>\n",
       "    <tr>\n",
       "      <th>춘향</th>\n",
       "      <td>80</td>\n",
       "      <td>90</td>\n",
       "      <td>90</td>\n",
       "      <td>86.67</td>\n",
       "      <td>86.67</td>\n",
       "    </tr>\n",
       "    <tr>\n",
       "      <th>몽룡</th>\n",
       "      <td>90</td>\n",
       "      <td>70</td>\n",
       "      <td>60</td>\n",
       "      <td>73.33</td>\n",
       "      <td>73.33</td>\n",
       "    </tr>\n",
       "    <tr>\n",
       "      <th>향단</th>\n",
       "      <td>70</td>\n",
       "      <td>60</td>\n",
       "      <td>80</td>\n",
       "      <td>70.00</td>\n",
       "      <td>70.00</td>\n",
       "    </tr>\n",
       "    <tr>\n",
       "      <th>방자</th>\n",
       "      <td>30</td>\n",
       "      <td>40</td>\n",
       "      <td>70</td>\n",
       "      <td>46.67</td>\n",
       "      <td>46.67</td>\n",
       "    </tr>\n",
       "  </tbody>\n",
       "</table>\n",
       "</div>"
      ],
      "text/plain": [
       "    국어  영어  수학   과목평균  과목평균2\n",
       "춘향  80  90  90  86.67  86.67\n",
       "몽룡  90  70  60  73.33  73.33\n",
       "향단  70  60  80  70.00  70.00\n",
       "방자  30  40  70  46.67  46.67"
      ]
     },
     "execution_count": 15,
     "metadata": {},
     "output_type": "execute_result"
    }
   ],
   "source": [
    "##### 4. 모든 학생의 각 과목평균점수를 새로운 열(과목평균)로 추가하시오.\n",
    "\n",
    "df[\"과목평균\"] = ((df[\"국어\"] + df[\"영어\"] + df[\"수학\"]) / 3).round(2)\n",
    "df[\"과목평균2\"] = (df[:].mean(axis=1)).round(2)\n",
    "df"
   ]
  },
  {
   "cell_type": "code",
   "execution_count": 18,
   "metadata": {},
   "outputs": [
    {
     "name": "stderr",
     "output_type": "stream",
     "text": [
      "<ipython-input-18-12d31d3f5557>:3: SettingWithCopyWarning: \n",
      "A value is trying to be set on a copy of a slice from a DataFrame\n",
      "\n",
      "See the caveats in the documentation: https://pandas.pydata.org/pandas-docs/stable/user_guide/indexing.html#returning-a-view-versus-a-copy\n",
      "  df[\"영어\"][\"방자\":\"방자\"] = 80\n",
      "C:\\Users\\acorn\\anaconda3\\lib\\site-packages\\pandas\\core\\indexing.py:670: SettingWithCopyWarning: \n",
      "A value is trying to be set on a copy of a slice from a DataFrame\n",
      "\n",
      "See the caveats in the documentation: https://pandas.pydata.org/pandas-docs/stable/user_guide/indexing.html#returning-a-view-versus-a-copy\n",
      "  iloc._setitem_with_indexer(indexer, value)\n",
      "<ipython-input-18-12d31d3f5557>:5: SettingWithCopyWarning: \n",
      "A value is trying to be set on a copy of a slice from a DataFrame\n",
      "\n",
      "See the caveats in the documentation: https://pandas.pydata.org/pandas-docs/stable/user_guide/indexing.html#returning-a-view-versus-a-copy\n",
      "  df[\"과목평균2\"][\"방자\"] = (df[[\"국어\", \"영어\", \"수학\"]][\"방자\":\"방자\"].mean(axis=1)).round(2)\n"
     ]
    },
    {
     "data": {
      "text/html": [
       "<div>\n",
       "<style scoped>\n",
       "    .dataframe tbody tr th:only-of-type {\n",
       "        vertical-align: middle;\n",
       "    }\n",
       "\n",
       "    .dataframe tbody tr th {\n",
       "        vertical-align: top;\n",
       "    }\n",
       "\n",
       "    .dataframe thead th {\n",
       "        text-align: right;\n",
       "    }\n",
       "</style>\n",
       "<table border=\"1\" class=\"dataframe\">\n",
       "  <thead>\n",
       "    <tr style=\"text-align: right;\">\n",
       "      <th></th>\n",
       "      <th>국어</th>\n",
       "      <th>영어</th>\n",
       "      <th>수학</th>\n",
       "      <th>과목평균</th>\n",
       "      <th>과목평균2</th>\n",
       "    </tr>\n",
       "  </thead>\n",
       "  <tbody>\n",
       "    <tr>\n",
       "      <th>춘향</th>\n",
       "      <td>80</td>\n",
       "      <td>90</td>\n",
       "      <td>90</td>\n",
       "      <td>86.67</td>\n",
       "      <td>86.67</td>\n",
       "    </tr>\n",
       "    <tr>\n",
       "      <th>몽룡</th>\n",
       "      <td>90</td>\n",
       "      <td>70</td>\n",
       "      <td>60</td>\n",
       "      <td>73.33</td>\n",
       "      <td>73.33</td>\n",
       "    </tr>\n",
       "    <tr>\n",
       "      <th>향단</th>\n",
       "      <td>70</td>\n",
       "      <td>60</td>\n",
       "      <td>80</td>\n",
       "      <td>70.00</td>\n",
       "      <td>70.00</td>\n",
       "    </tr>\n",
       "    <tr>\n",
       "      <th>방자</th>\n",
       "      <td>30</td>\n",
       "      <td>80</td>\n",
       "      <td>70</td>\n",
       "      <td>60.00</td>\n",
       "      <td>60.00</td>\n",
       "    </tr>\n",
       "  </tbody>\n",
       "</table>\n",
       "</div>"
      ],
      "text/plain": [
       "    국어  영어  수학   과목평균  과목평균2\n",
       "춘향  80  90  90  86.67  86.67\n",
       "몽룡  90  70  60  73.33  73.33\n",
       "향단  70  60  80  70.00  70.00\n",
       "방자  30  80  70  60.00  60.00"
      ]
     },
     "execution_count": 18,
     "metadata": {},
     "output_type": "execute_result"
    }
   ],
   "source": [
    "##### 5. 방자의 영어점수를 80점으로 수정하고 평균 점수도 다시 수정하시오.\n",
    "\n",
    "df[\"영어\"][\"방자\":\"방자\"] = 80\n",
    "df[\"과목평균\"] = ((df[\"국어\"] + df[\"영어\"] + df[\"수학\"]) / 3).round(2)\n",
    "df[\"과목평균2\"][\"방자\"] = (df[[\"국어\", \"영어\", \"수학\"]][\"방자\":\"방자\"].mean(axis=1)).round(2)\n",
    "df"
   ]
  },
  {
   "cell_type": "code",
   "execution_count": 24,
   "metadata": {},
   "outputs": [
    {
     "name": "stdout",
     "output_type": "stream",
     "text": [
      "    국어  영어  수학   과목평균  과목평균2\n",
      "춘향  80  90  90  86.67  86.67\n",
      "    국어  영어  수학   과목평균  과목평균2\n",
      "춘향  80  90  90  86.67  86.67\n"
     ]
    }
   ],
   "source": [
    "##### 6. 춘향의 점수를 데이터 프레임 형식으로 출력하시오\n",
    "\n",
    "print(df[:1])\n",
    "print(df[\"춘향\":\"춘향\"])"
   ]
  },
  {
   "cell_type": "code",
   "execution_count": 35,
   "metadata": {},
   "outputs": [
    {
     "name": "stdout",
     "output_type": "stream",
     "text": [
      "향단    [70.0, 60.0, 80.0, 70.0, 70.0]\n",
      "dtype: object\n"
     ]
    },
    {
     "data": {
      "text/plain": [
       "국어       70.0\n",
       "영어       60.0\n",
       "수학       80.0\n",
       "과목평균     70.0\n",
       "과목평균2    70.0\n",
       "Name: 향단, dtype: float64"
      ]
     },
     "execution_count": 35,
     "metadata": {},
     "output_type": "execute_result"
    }
   ],
   "source": [
    "##### 7. 향단의 점수를 Series로 출력하시오.\n",
    "\n",
    "df[2:3]\n",
    "df[\"향단\":\"향단\"]\n",
    "\n",
    "result = pd.Series([i for i in df[\"향단\":\"향단\"].values], \n",
    "                   index=[\"향단\"])\n",
    "print(result)\n",
    "\n",
    "df2 = df.T\n",
    "df2\n",
    "df2[\"향단\"]"
   ]
  },
  {
   "cell_type": "code",
   "execution_count": 34,
   "metadata": {},
   "outputs": [
    {
     "data": {
      "text/plain": [
       "[array([70., 60., 80., 70., 70.])]"
      ]
     },
     "execution_count": 34,
     "metadata": {},
     "output_type": "execute_result"
    }
   ],
   "source": [
    "[i for i in df[\"향단\":\"향단\"].values]"
   ]
  },
  {
   "cell_type": "markdown",
   "metadata": {},
   "source": [
    "#### 6) 파일 입출력\n",
    "\n",
    "+ read_csv()\n",
    "+ to_csv()\n",
    "+ read_table()"
   ]
  },
  {
   "cell_type": "code",
   "execution_count": 36,
   "metadata": {},
   "outputs": [
    {
     "name": "stdout",
     "output_type": "stream",
     "text": [
      "Writing data/sample1.csv\n"
     ]
    }
   ],
   "source": [
    "%%writefile data/sample1.csv\n",
    "c1, c2, c3\n",
    "1, 1.11, one\n",
    "2, 2.22, two\n",
    "3, 3.33, three"
   ]
  },
  {
   "cell_type": "code",
   "execution_count": 37,
   "metadata": {},
   "outputs": [
    {
     "data": {
      "text/html": [
       "<div>\n",
       "<style scoped>\n",
       "    .dataframe tbody tr th:only-of-type {\n",
       "        vertical-align: middle;\n",
       "    }\n",
       "\n",
       "    .dataframe tbody tr th {\n",
       "        vertical-align: top;\n",
       "    }\n",
       "\n",
       "    .dataframe thead th {\n",
       "        text-align: right;\n",
       "    }\n",
       "</style>\n",
       "<table border=\"1\" class=\"dataframe\">\n",
       "  <thead>\n",
       "    <tr style=\"text-align: right;\">\n",
       "      <th></th>\n",
       "      <th>c1</th>\n",
       "      <th>c2</th>\n",
       "      <th>c3</th>\n",
       "    </tr>\n",
       "  </thead>\n",
       "  <tbody>\n",
       "    <tr>\n",
       "      <th>0</th>\n",
       "      <td>1</td>\n",
       "      <td>1.11</td>\n",
       "      <td>one</td>\n",
       "    </tr>\n",
       "    <tr>\n",
       "      <th>1</th>\n",
       "      <td>2</td>\n",
       "      <td>2.22</td>\n",
       "      <td>two</td>\n",
       "    </tr>\n",
       "    <tr>\n",
       "      <th>2</th>\n",
       "      <td>3</td>\n",
       "      <td>3.33</td>\n",
       "      <td>three</td>\n",
       "    </tr>\n",
       "  </tbody>\n",
       "</table>\n",
       "</div>"
      ],
      "text/plain": [
       "   c1    c2      c3\n",
       "0   1  1.11     one\n",
       "1   2  2.22     two\n",
       "2   3  3.33   three"
      ]
     },
     "execution_count": 37,
     "metadata": {},
     "output_type": "execute_result"
    }
   ],
   "source": [
    "sample1 = pd.read_csv(\"data/sample1.csv\")\n",
    "sample1"
   ]
  },
  {
   "cell_type": "code",
   "execution_count": 38,
   "metadata": {},
   "outputs": [
    {
     "name": "stdout",
     "output_type": "stream",
     "text": [
      "Writing data/sample2.csv\n"
     ]
    }
   ],
   "source": [
    "%%writefile data/sample2.csv\n",
    "1, 1.11, one\n",
    "2, 2.22, two\n",
    "3, 3.33, three"
   ]
  },
  {
   "cell_type": "code",
   "execution_count": 40,
   "metadata": {},
   "outputs": [
    {
     "data": {
      "text/html": [
       "<div>\n",
       "<style scoped>\n",
       "    .dataframe tbody tr th:only-of-type {\n",
       "        vertical-align: middle;\n",
       "    }\n",
       "\n",
       "    .dataframe tbody tr th {\n",
       "        vertical-align: top;\n",
       "    }\n",
       "\n",
       "    .dataframe thead th {\n",
       "        text-align: right;\n",
       "    }\n",
       "</style>\n",
       "<table border=\"1\" class=\"dataframe\">\n",
       "  <thead>\n",
       "    <tr style=\"text-align: right;\">\n",
       "      <th></th>\n",
       "      <th>c1</th>\n",
       "      <th>c2</th>\n",
       "      <th>c3</th>\n",
       "    </tr>\n",
       "  </thead>\n",
       "  <tbody>\n",
       "    <tr>\n",
       "      <th>0</th>\n",
       "      <td>1</td>\n",
       "      <td>1.11</td>\n",
       "      <td>one</td>\n",
       "    </tr>\n",
       "    <tr>\n",
       "      <th>1</th>\n",
       "      <td>2</td>\n",
       "      <td>2.22</td>\n",
       "      <td>two</td>\n",
       "    </tr>\n",
       "    <tr>\n",
       "      <th>2</th>\n",
       "      <td>3</td>\n",
       "      <td>3.33</td>\n",
       "      <td>three</td>\n",
       "    </tr>\n",
       "  </tbody>\n",
       "</table>\n",
       "</div>"
      ],
      "text/plain": [
       "   c1    c2      c3\n",
       "0   1  1.11     one\n",
       "1   2  2.22     two\n",
       "2   3  3.33   three"
      ]
     },
     "execution_count": 40,
     "metadata": {},
     "output_type": "execute_result"
    }
   ],
   "source": [
    "sample2 = pd.read_csv(\"data/sample2.csv\", names=[\"c1\", \"c2\", \"c3\"])\n",
    "sample2"
   ]
  },
  {
   "cell_type": "code",
   "execution_count": 42,
   "metadata": {},
   "outputs": [
    {
     "data": {
      "text/html": [
       "<div>\n",
       "<style scoped>\n",
       "    .dataframe tbody tr th:only-of-type {\n",
       "        vertical-align: middle;\n",
       "    }\n",
       "\n",
       "    .dataframe tbody tr th {\n",
       "        vertical-align: top;\n",
       "    }\n",
       "\n",
       "    .dataframe thead th {\n",
       "        text-align: right;\n",
       "    }\n",
       "</style>\n",
       "<table border=\"1\" class=\"dataframe\">\n",
       "  <thead>\n",
       "    <tr style=\"text-align: right;\">\n",
       "      <th></th>\n",
       "      <th>c2</th>\n",
       "      <th>c3</th>\n",
       "    </tr>\n",
       "    <tr>\n",
       "      <th>c1</th>\n",
       "      <th></th>\n",
       "      <th></th>\n",
       "    </tr>\n",
       "  </thead>\n",
       "  <tbody>\n",
       "    <tr>\n",
       "      <th>1</th>\n",
       "      <td>1.11</td>\n",
       "      <td>one</td>\n",
       "    </tr>\n",
       "    <tr>\n",
       "      <th>2</th>\n",
       "      <td>2.22</td>\n",
       "      <td>two</td>\n",
       "    </tr>\n",
       "    <tr>\n",
       "      <th>3</th>\n",
       "      <td>3.33</td>\n",
       "      <td>three</td>\n",
       "    </tr>\n",
       "  </tbody>\n",
       "</table>\n",
       "</div>"
      ],
      "text/plain": [
       "      c2      c3\n",
       "c1              \n",
       "1   1.11     one\n",
       "2   2.22     two\n",
       "3   3.33   three"
      ]
     },
     "execution_count": 42,
     "metadata": {},
     "output_type": "execute_result"
    }
   ],
   "source": [
    "# 특정한 열을 인덱스로 지정\n",
    "sample3 = pd.read_csv(\"data/sample1.csv\", index_col=\"c1\")\n",
    "sample3"
   ]
  },
  {
   "cell_type": "code",
   "execution_count": 43,
   "metadata": {},
   "outputs": [
    {
     "name": "stdout",
     "output_type": "stream",
     "text": [
      "Writing data/sample3.txt\n"
     ]
    }
   ],
   "source": [
    "%%writefile data/sample3.txt\n",
    "c1       c2       c3       c4\n",
    "0.23     0.33     0.354    0.2389\n",
    "0.123    0.345    0.567    0.986"
   ]
  },
  {
   "cell_type": "code",
   "execution_count": 46,
   "metadata": {},
   "outputs": [
    {
     "data": {
      "text/html": [
       "<div>\n",
       "<style scoped>\n",
       "    .dataframe tbody tr th:only-of-type {\n",
       "        vertical-align: middle;\n",
       "    }\n",
       "\n",
       "    .dataframe tbody tr th {\n",
       "        vertical-align: top;\n",
       "    }\n",
       "\n",
       "    .dataframe thead th {\n",
       "        text-align: right;\n",
       "    }\n",
       "</style>\n",
       "<table border=\"1\" class=\"dataframe\">\n",
       "  <thead>\n",
       "    <tr style=\"text-align: right;\">\n",
       "      <th></th>\n",
       "      <th>c1</th>\n",
       "      <th>c2</th>\n",
       "      <th>c3</th>\n",
       "      <th>c4</th>\n",
       "    </tr>\n",
       "  </thead>\n",
       "  <tbody>\n",
       "    <tr>\n",
       "      <th>0</th>\n",
       "      <td>0.230</td>\n",
       "      <td>0.330</td>\n",
       "      <td>0.354</td>\n",
       "      <td>0.2389</td>\n",
       "    </tr>\n",
       "    <tr>\n",
       "      <th>1</th>\n",
       "      <td>0.123</td>\n",
       "      <td>0.345</td>\n",
       "      <td>0.567</td>\n",
       "      <td>0.9860</td>\n",
       "    </tr>\n",
       "  </tbody>\n",
       "</table>\n",
       "</div>"
      ],
      "text/plain": [
       "      c1     c2     c3      c4\n",
       "0  0.230  0.330  0.354  0.2389\n",
       "1  0.123  0.345  0.567  0.9860"
      ]
     },
     "execution_count": 46,
     "metadata": {},
     "output_type": "execute_result"
    }
   ],
   "source": [
    "sample3 = pd.read_table(\"data/sample3.txt\", sep=\"\\s+\")\n",
    "sample3"
   ]
  },
  {
   "cell_type": "code",
   "execution_count": 47,
   "metadata": {},
   "outputs": [
    {
     "name": "stdout",
     "output_type": "stream",
     "text": [
      "Writing data/sample4.txt\n"
     ]
    }
   ],
   "source": [
    "%%writefile data/sample4.txt\n",
    "파일제목 : sample4.txt\n",
    "데이터 포맷의 설명 : 어쩌구 저쩌구\n",
    "c1, c2, c3\n",
    "1, 1.11, one\n",
    "2, 2.22, two\n",
    "3, 3.33, three"
   ]
  },
  {
   "cell_type": "code",
   "execution_count": 49,
   "metadata": {},
   "outputs": [
    {
     "data": {
      "text/html": [
       "<div>\n",
       "<style scoped>\n",
       "    .dataframe tbody tr th:only-of-type {\n",
       "        vertical-align: middle;\n",
       "    }\n",
       "\n",
       "    .dataframe tbody tr th {\n",
       "        vertical-align: top;\n",
       "    }\n",
       "\n",
       "    .dataframe thead th {\n",
       "        text-align: right;\n",
       "    }\n",
       "</style>\n",
       "<table border=\"1\" class=\"dataframe\">\n",
       "  <thead>\n",
       "    <tr style=\"text-align: right;\">\n",
       "      <th></th>\n",
       "      <th>c1, c2, c3</th>\n",
       "    </tr>\n",
       "  </thead>\n",
       "  <tbody>\n",
       "    <tr>\n",
       "      <th>0</th>\n",
       "      <td>1, 1.11, one</td>\n",
       "    </tr>\n",
       "    <tr>\n",
       "      <th>1</th>\n",
       "      <td>2, 2.22, two</td>\n",
       "    </tr>\n",
       "    <tr>\n",
       "      <th>2</th>\n",
       "      <td>3, 3.33, three</td>\n",
       "    </tr>\n",
       "  </tbody>\n",
       "</table>\n",
       "</div>"
      ],
      "text/plain": [
       "       c1, c2, c3\n",
       "0    1, 1.11, one\n",
       "1    2, 2.22, two\n",
       "2  3, 3.33, three"
      ]
     },
     "execution_count": 49,
     "metadata": {},
     "output_type": "execute_result"
    }
   ],
   "source": [
    "# sample4 = pd.read_table(\"data/sample4.txt\", skiprows=[0, 1])\n",
    "sample4 = pd.read_table(\"data/sample4.txt\", skiprows=2)\n",
    "sample4"
   ]
  },
  {
   "cell_type": "code",
   "execution_count": 50,
   "metadata": {},
   "outputs": [
    {
     "name": "stdout",
     "output_type": "stream",
     "text": [
      "Writing data/sample5.csv\n"
     ]
    }
   ],
   "source": [
    "%%writefile data/sample5.csv\n",
    "c1, c2, c3\n",
    "1, 1.11, \n",
    "2, , two\n",
    "누락, 3.33, three"
   ]
  },
  {
   "cell_type": "code",
   "execution_count": 53,
   "metadata": {},
   "outputs": [
    {
     "data": {
      "text/html": [
       "<div>\n",
       "<style scoped>\n",
       "    .dataframe tbody tr th:only-of-type {\n",
       "        vertical-align: middle;\n",
       "    }\n",
       "\n",
       "    .dataframe tbody tr th {\n",
       "        vertical-align: top;\n",
       "    }\n",
       "\n",
       "    .dataframe thead th {\n",
       "        text-align: right;\n",
       "    }\n",
       "</style>\n",
       "<table border=\"1\" class=\"dataframe\">\n",
       "  <thead>\n",
       "    <tr style=\"text-align: right;\">\n",
       "      <th></th>\n",
       "      <th>c1</th>\n",
       "      <th>c2</th>\n",
       "      <th>c3</th>\n",
       "    </tr>\n",
       "  </thead>\n",
       "  <tbody>\n",
       "    <tr>\n",
       "      <th>0</th>\n",
       "      <td>1.0</td>\n",
       "      <td>1.11</td>\n",
       "      <td>NaN</td>\n",
       "    </tr>\n",
       "    <tr>\n",
       "      <th>1</th>\n",
       "      <td>2.0</td>\n",
       "      <td>NaN</td>\n",
       "      <td>two</td>\n",
       "    </tr>\n",
       "    <tr>\n",
       "      <th>2</th>\n",
       "      <td>NaN</td>\n",
       "      <td>3.33</td>\n",
       "      <td>three</td>\n",
       "    </tr>\n",
       "  </tbody>\n",
       "</table>\n",
       "</div>"
      ],
      "text/plain": [
       "    c1    c2      c3\n",
       "0  1.0  1.11     NaN\n",
       "1  2.0   NaN     two\n",
       "2  NaN  3.33   three"
      ]
     },
     "execution_count": 53,
     "metadata": {},
     "output_type": "execute_result"
    }
   ],
   "source": [
    "sample5 = pd.read_csv(\"data/sample5.csv\", na_values=[\" \", \"누락\"])\n",
    "sample5"
   ]
  },
  {
   "cell_type": "code",
   "execution_count": 58,
   "metadata": {},
   "outputs": [],
   "source": [
    "# csv로 저장\n",
    "\n",
    "df.to_csv(\"data/sample6.csv\")\n",
    "df.to_csv(\"data/sample7.txt\", sep=\"|\")\n",
    "df.to_csv(\"data/sample8.csv\", index=False, header=False)\n",
    "sample5.to_csv(\"data/sample9.txt\", sep=\":\", na_rep=\"누락\")"
   ]
  },
  {
   "cell_type": "markdown",
   "metadata": {},
   "source": [
    "#### 7) Indexer\n",
    "\n",
    "+ loc : 라벨값 기반의 2차원 인덱싱을 지원하는 인덱서\n",
    "+ iloc : 순서를 나타내는 정수 기반의 인덱서\n",
    "+ ix\n",
    "+ at\n",
    "+ iat"
   ]
  },
  {
   "cell_type": "markdown",
   "metadata": {},
   "source": [
    "##### - loc"
   ]
  },
  {
   "cell_type": "code",
   "execution_count": 59,
   "metadata": {},
   "outputs": [
    {
     "data": {
      "text/html": [
       "<div>\n",
       "<style scoped>\n",
       "    .dataframe tbody tr th:only-of-type {\n",
       "        vertical-align: middle;\n",
       "    }\n",
       "\n",
       "    .dataframe tbody tr th {\n",
       "        vertical-align: top;\n",
       "    }\n",
       "\n",
       "    .dataframe thead th {\n",
       "        text-align: right;\n",
       "    }\n",
       "</style>\n",
       "<table border=\"1\" class=\"dataframe\">\n",
       "  <thead>\n",
       "    <tr style=\"text-align: right;\">\n",
       "      <th></th>\n",
       "      <th>A</th>\n",
       "      <th>B</th>\n",
       "      <th>C</th>\n",
       "      <th>D</th>\n",
       "    </tr>\n",
       "  </thead>\n",
       "  <tbody>\n",
       "    <tr>\n",
       "      <th>a</th>\n",
       "      <td>10</td>\n",
       "      <td>11</td>\n",
       "      <td>12</td>\n",
       "      <td>13</td>\n",
       "    </tr>\n",
       "    <tr>\n",
       "      <th>b</th>\n",
       "      <td>14</td>\n",
       "      <td>15</td>\n",
       "      <td>16</td>\n",
       "      <td>17</td>\n",
       "    </tr>\n",
       "    <tr>\n",
       "      <th>c</th>\n",
       "      <td>18</td>\n",
       "      <td>19</td>\n",
       "      <td>20</td>\n",
       "      <td>21</td>\n",
       "    </tr>\n",
       "  </tbody>\n",
       "</table>\n",
       "</div>"
      ],
      "text/plain": [
       "    A   B   C   D\n",
       "a  10  11  12  13\n",
       "b  14  15  16  17\n",
       "c  18  19  20  21"
      ]
     },
     "execution_count": 59,
     "metadata": {},
     "output_type": "execute_result"
    }
   ],
   "source": [
    "df = pd.DataFrame(np.arange(10, 22).reshape(3, 4), index=[\"a\", \"b\", \"c\"], \n",
    "                 columns=[\"A\", \"B\", \"C\", \"D\"])\n",
    "\n",
    "df"
   ]
  },
  {
   "cell_type": "code",
   "execution_count": 66,
   "metadata": {},
   "outputs": [
    {
     "name": "stdout",
     "output_type": "stream",
     "text": [
      "    A   B   C   D\n",
      "a  10  11  12  13\n",
      "    A   B   C   D\n",
      "a  10  11  12  13\n",
      "----------------------\n",
      "A    10\n",
      "B    11\n",
      "C    12\n",
      "D    13\n",
      "Name: a, dtype: int32\n",
      "<class 'pandas.core.series.Series'>\n",
      "----------------------\n",
      "    A   B   C   D\n",
      "c  18  19  20  21\n",
      "----------------------\n",
      "    A   B   C   D\n",
      "c  18  19  20  21\n"
     ]
    }
   ],
   "source": [
    "##### 첫번째 행 추출\n",
    "\n",
    "print(df[:1])\n",
    "print(df[:\"a\"])\n",
    "\n",
    "print(\"----------------------\")\n",
    "\n",
    "print(df.loc[\"a\"])\n",
    "print(type(df.loc[\"a\"]))\n",
    "\n",
    "print(\"----------------------\")\n",
    "\n",
    "print(df.loc[df[\"A\"] > 15])\n",
    "\n",
    "print(\"----------------------\")\n",
    "\n",
    "def select_row(df, num):\n",
    "    return df.A > num\n",
    "\n",
    "print(df.loc[select_row(df, 15)])"
   ]
  },
  {
   "cell_type": "code",
   "execution_count": 75,
   "metadata": {},
   "outputs": [
    {
     "name": "stdout",
     "output_type": "stream",
     "text": [
      "15\n",
      "------------------------------\n",
      "15\n",
      "15\n",
      "------------------------------\n",
      "    B   C   D\n",
      "b  15  16  17\n",
      "c  19  20  21\n",
      "    B   C\n",
      "a  11  12\n",
      "c  19  20\n",
      "------------------------------\n",
      "    A   B\n",
      "a  10  11\n",
      "b  14  15\n",
      "c  18  19\n"
     ]
    }
   ],
   "source": [
    "##### 행과 열을 모두 사용할 경우\n",
    "\n",
    "# b행 B열에 있는 하나의 값을 추출\n",
    "print(df[\"B\"][\"b\"])\n",
    "# print(df[\"B\", \"b\"])\n",
    "\n",
    "print(\"------------------------------\")\n",
    "\n",
    "print(df.loc[\"b\"][\"B\"])\n",
    "print(df.loc[\"b\", \"B\"])\n",
    "\n",
    "print(\"------------------------------\")\n",
    "\n",
    "print(df.loc[\"b\":, \"B\":])\n",
    "print(df.loc[[\"a\", \"c\"], [\"B\", \"C\"]])\n",
    "\n",
    "print(\"------------------------------\")\n",
    "\n",
    "# 모든 행에 대해서 첫번째 행에 있는 값이 11보다 작거나 같은 행의 컬럼을 조회\n",
    "print(df.loc[:, df.loc[\"a\", :] <= 11])"
   ]
  },
  {
   "cell_type": "code",
   "execution_count": 83,
   "metadata": {},
   "outputs": [],
   "source": [
    "# 반드시 레이블로만 접근해야 한다.\n",
    "\n",
    "# print(df.loc[1:, 1:])\n",
    "# print(df.loc[[0, 2], [1, 2]])"
   ]
  },
  {
   "cell_type": "markdown",
   "metadata": {},
   "source": [
    "##### - iloc"
   ]
  },
  {
   "cell_type": "code",
   "execution_count": 101,
   "metadata": {},
   "outputs": [
    {
     "name": "stdout",
     "output_type": "stream",
     "text": [
      "a    10\n",
      "b    14\n",
      "c    18\n",
      "Name: A, dtype: int32\n",
      "---------------\n",
      "10\n",
      "---------------\n",
      "10\n",
      "a    12\n",
      "b    16\n",
      "Name: C, dtype: int32\n",
      "C    12\n",
      "D    13\n",
      "Name: a, dtype: int32\n",
      "---------------\n",
      "    B   C\n",
      "c  19  20\n"
     ]
    },
    {
     "data": {
      "text/html": [
       "<div>\n",
       "<style scoped>\n",
       "    .dataframe tbody tr th:only-of-type {\n",
       "        vertical-align: middle;\n",
       "    }\n",
       "\n",
       "    .dataframe tbody tr th {\n",
       "        vertical-align: top;\n",
       "    }\n",
       "\n",
       "    .dataframe thead th {\n",
       "        text-align: right;\n",
       "    }\n",
       "</style>\n",
       "<table border=\"1\" class=\"dataframe\">\n",
       "  <thead>\n",
       "    <tr style=\"text-align: right;\">\n",
       "      <th></th>\n",
       "      <th>B</th>\n",
       "      <th>C</th>\n",
       "    </tr>\n",
       "  </thead>\n",
       "  <tbody>\n",
       "    <tr>\n",
       "      <th>c</th>\n",
       "      <td>19</td>\n",
       "      <td>20</td>\n",
       "    </tr>\n",
       "  </tbody>\n",
       "</table>\n",
       "</div>"
      ],
      "text/plain": [
       "    B   C\n",
       "c  19  20"
      ]
     },
     "execution_count": 101,
     "metadata": {},
     "output_type": "execute_result"
    }
   ],
   "source": [
    "print(df[\"A\"])\n",
    "# df[0]\n",
    "\n",
    "print(\"---------------\")\n",
    "\n",
    "#df.loc[0, 0]\n",
    "print(df.loc[\"a\", \"A\"])\n",
    "\n",
    "print(\"---------------\")\n",
    "\n",
    "print(df.iloc[0, 0])\n",
    "print(df.iloc[:2, 2])\n",
    "print(df.iloc[0, -2:])\n",
    "\n",
    "print(\"---------------\")\n",
    "\n",
    "\"\"\"\n",
    "    B   C\n",
    "c   19  20\n",
    "\"\"\"\n",
    "print(df.iloc[[2], [1,2]])\n",
    "\n",
    "pd.DataFrame(df.iloc[2, 1:3]).T\n",
    "\n",
    "df.iloc[2:, 1:3]"
   ]
  },
  {
   "cell_type": "markdown",
   "metadata": {},
   "source": [
    "##### - at"
   ]
  },
  {
   "cell_type": "code",
   "execution_count": 102,
   "metadata": {},
   "outputs": [
    {
     "name": "stdout",
     "output_type": "stream",
     "text": [
      "5.43 µs ± 37.4 ns per loop (mean ± std. dev. of 7 runs, 100000 loops each)\n",
      "3.35 µs ± 17.7 ns per loop (mean ± std. dev. of 7 runs, 100000 loops each)\n"
     ]
    }
   ],
   "source": [
    "%timeit df.loc[\"a\", \"A\"]\n",
    "%timeit df.at[\"a\", \"A\"]"
   ]
  },
  {
   "cell_type": "markdown",
   "metadata": {},
   "source": [
    "---\n",
    "\n",
    "### 3. Data Manipulation"
   ]
  },
  {
   "cell_type": "markdown",
   "metadata": {},
   "source": [
    "#### 1) 데이터의 갯수 세기"
   ]
  },
  {
   "cell_type": "code",
   "execution_count": 106,
   "metadata": {},
   "outputs": [
    {
     "data": {
      "text/plain": [
       "9"
      ]
     },
     "execution_count": 106,
     "metadata": {},
     "output_type": "execute_result"
    }
   ],
   "source": [
    "##### Series에서 갯수 세기\n",
    "\n",
    "s = pd.Series(range(10))\n",
    "s\n",
    "s.count()\n",
    "\n",
    "s[3] = np.nan\n",
    "s\n",
    "s.count()"
   ]
  },
  {
   "cell_type": "code",
   "execution_count": 109,
   "metadata": {},
   "outputs": [
    {
     "data": {
      "text/plain": [
       "0    4\n",
       "1    4\n",
       "2    4\n",
       "3    3\n",
       "dtype: int64"
      ]
     },
     "execution_count": 109,
     "metadata": {},
     "output_type": "execute_result"
    }
   ],
   "source": [
    "##### DataFrame에서 갯수 세기\n",
    "\n",
    "np.random.seed(2)\n",
    "df = pd.DataFrame(np.random.randint(5, size=(4, 4)), dtype=float)\n",
    "df\n",
    "df.count()\n",
    "\n",
    "df.iloc[2, 3] = np.nan\n",
    "df.count()"
   ]
  },
  {
   "cell_type": "code",
   "execution_count": 111,
   "metadata": {
    "collapsed": true
   },
   "outputs": [
    {
     "data": {
      "text/plain": [
       "survived       891\n",
       "pclass         891\n",
       "sex            891\n",
       "age            714\n",
       "sibsp          891\n",
       "parch          891\n",
       "fare           891\n",
       "embarked       889\n",
       "class          891\n",
       "who            891\n",
       "adult_male     891\n",
       "deck           203\n",
       "embark_town    889\n",
       "alive          891\n",
       "alone          891\n",
       "dtype: int64"
      ]
     },
     "execution_count": 111,
     "metadata": {},
     "output_type": "execute_result"
    }
   ],
   "source": [
    "##### titanic \n",
    "\n",
    "import seaborn as sns\n",
    "titanic = sns.load_dataset(\"titanic\")\n",
    "titanic.head()\n",
    "titanic.count()"
   ]
  },
  {
   "cell_type": "markdown",
   "metadata": {},
   "source": [
    "#### 2) 카테고리별 갯수 세기"
   ]
  },
  {
   "cell_type": "code",
   "execution_count": 117,
   "metadata": {},
   "outputs": [
    {
     "data": {
      "text/plain": [
       "0.0    2\n",
       "3.0    1\n",
       "2.0    1\n",
       "Name: 1, dtype: int64"
      ]
     },
     "execution_count": 117,
     "metadata": {},
     "output_type": "execute_result"
    }
   ],
   "source": [
    "np.random.seed(1)\n",
    "\n",
    "s2 = pd.Series(np.random.randint(6, size=100))\n",
    "s2\n",
    "\n",
    "s2.value_counts()\n",
    "\n",
    "# DataFrame에서 사용 시\n",
    "df[0].value_counts()\n",
    "df[1].value_counts()"
   ]
  },
  {
   "cell_type": "markdown",
   "metadata": {},
   "source": [
    "#### 3) 정렬\n",
    "\n",
    "+ sort_index()\n",
    "+ sort_values()\n",
    "+ 결측치는 정렬의 대상이 되지 않는다."
   ]
  },
  {
   "cell_type": "code",
   "execution_count": 8,
   "metadata": {},
   "outputs": [
    {
     "data": {
      "text/plain": [
       "0     5\n",
       "11    5\n",
       "46    5\n",
       "40    5\n",
       "71    5\n",
       "     ..\n",
       "28    0\n",
       "85    0\n",
       "39    0\n",
       "38    0\n",
       "57    0\n",
       "Length: 100, dtype: int32"
      ]
     },
     "execution_count": 8,
     "metadata": {},
     "output_type": "execute_result"
    }
   ],
   "source": [
    "##### Series를 이용한 정렬\n",
    "\n",
    "np.random.seed(1)\n",
    "s = pd.Series(np.random.randint(6, size=100))\n",
    "\n",
    "s.value_counts().sort_index()\n",
    "s.value_counts().sort_values()\n",
    "s.sort_values()\n",
    "s.sort_values(ascending=False)"
   ]
  },
  {
   "cell_type": "code",
   "execution_count": 40,
   "metadata": {},
   "outputs": [
    {
     "name": "stdout",
     "output_type": "stream",
     "text": [
      "     0    1    2    3\n",
      "0  0.0  0.0  3.0  2.0\n",
      "1  3.0  0.0  2.0  1.0\n",
      "2  3.0  2.0  4.0  4.0\n",
      "3  4.0  3.0  4.0  2.0\n",
      "-------------------\n",
      "-------------------\n",
      "   seq  name  age\n",
      "0    1  park   30\n",
      "1    3   lee   20\n",
      "2    2  choi   40\n",
      "================================\n",
      "==============================\n",
      "   seq  name  age\n",
      "0  1.0  park   30\n",
      "1  NaN   lee   20\n",
      "2  2.0  choi   40\n",
      "-------------------\n"
     ]
    },
    {
     "data": {
      "text/html": [
       "<div>\n",
       "<style scoped>\n",
       "    .dataframe tbody tr th:only-of-type {\n",
       "        vertical-align: middle;\n",
       "    }\n",
       "\n",
       "    .dataframe tbody tr th {\n",
       "        vertical-align: top;\n",
       "    }\n",
       "\n",
       "    .dataframe thead th {\n",
       "        text-align: right;\n",
       "    }\n",
       "</style>\n",
       "<table border=\"1\" class=\"dataframe\">\n",
       "  <thead>\n",
       "    <tr style=\"text-align: right;\">\n",
       "      <th></th>\n",
       "      <th>seq</th>\n",
       "      <th>name</th>\n",
       "      <th>age</th>\n",
       "    </tr>\n",
       "  </thead>\n",
       "  <tbody>\n",
       "    <tr>\n",
       "      <th>1</th>\n",
       "      <td>NaN</td>\n",
       "      <td>lee</td>\n",
       "      <td>20</td>\n",
       "    </tr>\n",
       "    <tr>\n",
       "      <th>0</th>\n",
       "      <td>1.0</td>\n",
       "      <td>park</td>\n",
       "      <td>30</td>\n",
       "    </tr>\n",
       "    <tr>\n",
       "      <th>2</th>\n",
       "      <td>2.0</td>\n",
       "      <td>choi</td>\n",
       "      <td>40</td>\n",
       "    </tr>\n",
       "  </tbody>\n",
       "</table>\n",
       "</div>"
      ],
      "text/plain": [
       "   seq  name  age\n",
       "1  NaN   lee   20\n",
       "0  1.0  park   30\n",
       "2  2.0  choi   40"
      ]
     },
     "execution_count": 40,
     "metadata": {},
     "output_type": "execute_result"
    }
   ],
   "source": [
    "##### DataFrame을 이용한 정렬\n",
    "\n",
    "np.random.seed(2)\n",
    "df = pd.DataFrame(np.random.randint(5, size=(4, 4)), dtype=float)\n",
    "print(df)\n",
    "print(\"-------------------\")\n",
    "\n",
    "df.sort_values(by=2)  # 2번 컬럼을 기준으로\n",
    "df.sort_values(by=[1, 2])\n",
    "\n",
    "print(\"-------------------\")\n",
    "\n",
    "df1 = pd.DataFrame({\n",
    "    \"seq\":[1, 3, 2], \"name\":[\"park\", \"lee\", \"choi\"], \"age\":[30, 20, 40]\n",
    "})\n",
    "\n",
    "print(df1)\n",
    "\n",
    "print(\"================================\")\n",
    "\n",
    "# seq를 기준으로 정렬(내림차순)\n",
    "df1.sort_values(by=\"seq\", ascending=False, axis=0)\n",
    "\n",
    "# index를 기준으로 정렬\n",
    "df1.sort_index()\n",
    "df1.sort_index(axis=0)\n",
    "df1.sort_index(axis=1, ascending=False)\n",
    "\n",
    "# inplace\n",
    "df1 = df1.sort_index(axis=1)\n",
    "df1\n",
    "\n",
    "df1.sort_values(by=[\"seq\", \"name\"], axis=0, ascending=False, inplace=True)\n",
    "df1\n",
    "\n",
    "print(\"==============================\")\n",
    "\n",
    "# 결측치의 위치 선정\n",
    "df2 = pd.DataFrame({\n",
    "    \"seq\":[1, np.nan, 2], \"name\":[\"park\", \"lee\", \"choi\"], \"age\":[30, 20, 40]\n",
    "})\n",
    "\n",
    "print(df2)\n",
    "\n",
    "print(\"-------------------\")\n",
    "\n",
    "df2.sort_values(by=[\"seq\"])\n",
    "df2.sort_values(by=[\"seq\"], na_position=\"first\")"
   ]
  },
  {
   "cell_type": "markdown",
   "metadata": {},
   "source": [
    "#### 4) 행, 열의 합계(평균, ...)"
   ]
  },
  {
   "cell_type": "code",
   "execution_count": 45,
   "metadata": {
    "collapsed": true
   },
   "outputs": [
    {
     "name": "stdout",
     "output_type": "stream",
     "text": [
      "   0  1  2  3  4  5  6  7\n",
      "0  5  8  9  5  0  0  1  7\n",
      "1  6  9  2  4  5  2  4  2\n",
      "2  4  7  7  9  1  7  0  6\n",
      "3  9  9  7  6  9  1  0  1\n",
      "----------------------------------------------\n"
     ]
    },
    {
     "data": {
      "text/html": [
       "<div>\n",
       "<style scoped>\n",
       "    .dataframe tbody tr th:only-of-type {\n",
       "        vertical-align: middle;\n",
       "    }\n",
       "\n",
       "    .dataframe tbody tr th {\n",
       "        vertical-align: top;\n",
       "    }\n",
       "\n",
       "    .dataframe thead th {\n",
       "        text-align: right;\n",
       "    }\n",
       "</style>\n",
       "<table border=\"1\" class=\"dataframe\">\n",
       "  <thead>\n",
       "    <tr style=\"text-align: right;\">\n",
       "      <th></th>\n",
       "      <th>0</th>\n",
       "      <th>1</th>\n",
       "      <th>2</th>\n",
       "      <th>3</th>\n",
       "      <th>4</th>\n",
       "      <th>5</th>\n",
       "      <th>6</th>\n",
       "      <th>7</th>\n",
       "      <th>RowSum</th>\n",
       "    </tr>\n",
       "  </thead>\n",
       "  <tbody>\n",
       "    <tr>\n",
       "      <th>0</th>\n",
       "      <td>5.0</td>\n",
       "      <td>8.0</td>\n",
       "      <td>9.0</td>\n",
       "      <td>5.0</td>\n",
       "      <td>0.0</td>\n",
       "      <td>0.0</td>\n",
       "      <td>1.0</td>\n",
       "      <td>7.0</td>\n",
       "      <td>35.0</td>\n",
       "    </tr>\n",
       "    <tr>\n",
       "      <th>1</th>\n",
       "      <td>6.0</td>\n",
       "      <td>9.0</td>\n",
       "      <td>2.0</td>\n",
       "      <td>4.0</td>\n",
       "      <td>5.0</td>\n",
       "      <td>2.0</td>\n",
       "      <td>4.0</td>\n",
       "      <td>2.0</td>\n",
       "      <td>34.0</td>\n",
       "    </tr>\n",
       "    <tr>\n",
       "      <th>2</th>\n",
       "      <td>4.0</td>\n",
       "      <td>7.0</td>\n",
       "      <td>7.0</td>\n",
       "      <td>9.0</td>\n",
       "      <td>1.0</td>\n",
       "      <td>7.0</td>\n",
       "      <td>0.0</td>\n",
       "      <td>6.0</td>\n",
       "      <td>41.0</td>\n",
       "    </tr>\n",
       "    <tr>\n",
       "      <th>3</th>\n",
       "      <td>9.0</td>\n",
       "      <td>9.0</td>\n",
       "      <td>7.0</td>\n",
       "      <td>6.0</td>\n",
       "      <td>9.0</td>\n",
       "      <td>1.0</td>\n",
       "      <td>0.0</td>\n",
       "      <td>1.0</td>\n",
       "      <td>42.0</td>\n",
       "    </tr>\n",
       "    <tr>\n",
       "      <th>ColSum</th>\n",
       "      <td>24.0</td>\n",
       "      <td>33.0</td>\n",
       "      <td>25.0</td>\n",
       "      <td>24.0</td>\n",
       "      <td>15.0</td>\n",
       "      <td>10.0</td>\n",
       "      <td>5.0</td>\n",
       "      <td>16.0</td>\n",
       "      <td>152.0</td>\n",
       "    </tr>\n",
       "  </tbody>\n",
       "</table>\n",
       "</div>"
      ],
      "text/plain": [
       "           0     1     2     3     4     5    6     7  RowSum\n",
       "0        5.0   8.0   9.0   5.0   0.0   0.0  1.0   7.0    35.0\n",
       "1        6.0   9.0   2.0   4.0   5.0   2.0  4.0   2.0    34.0\n",
       "2        4.0   7.0   7.0   9.0   1.0   7.0  0.0   6.0    41.0\n",
       "3        9.0   9.0   7.0   6.0   9.0   1.0  0.0   1.0    42.0\n",
       "ColSum  24.0  33.0  25.0  24.0  15.0  10.0  5.0  16.0   152.0"
      ]
     },
     "execution_count": 45,
     "metadata": {},
     "output_type": "execute_result"
    }
   ],
   "source": [
    "np.random.seed(1)\n",
    "df = pd.DataFrame(np.random.randint(10, size=(4, 8)))\n",
    "print(df)\n",
    "\n",
    "print(\"----------------------------------------------\")\n",
    "\n",
    "df.sum()\n",
    "df.sum(axis=0)\n",
    "\n",
    "df.loc[\"ColSum\", :] = df.sum()\n",
    "df\n",
    "\n",
    "df[\"RowSum\"] = df.sum(axis=1)\n",
    "df"
   ]
  },
  {
   "cell_type": "markdown",
   "metadata": {},
   "source": [
    "#### 5) apply()\n",
    "\n",
    "+ 행이나 열 단위로 더 복잡한 처리를 하고자 할 때 사용\n",
    "+ 인수로 행 또는 열을 받는 함수를 apply()의 인수로 넣으면 각 열(또는 행)을 반복하여 그 함수에 적용"
   ]
  },
  {
   "cell_type": "code",
   "execution_count": 46,
   "metadata": {},
   "outputs": [
    {
     "data": {
      "text/html": [
       "<div>\n",
       "<style scoped>\n",
       "    .dataframe tbody tr th:only-of-type {\n",
       "        vertical-align: middle;\n",
       "    }\n",
       "\n",
       "    .dataframe tbody tr th {\n",
       "        vertical-align: top;\n",
       "    }\n",
       "\n",
       "    .dataframe thead th {\n",
       "        text-align: right;\n",
       "    }\n",
       "</style>\n",
       "<table border=\"1\" class=\"dataframe\">\n",
       "  <thead>\n",
       "    <tr style=\"text-align: right;\">\n",
       "      <th></th>\n",
       "      <th>A</th>\n",
       "      <th>B</th>\n",
       "      <th>C</th>\n",
       "    </tr>\n",
       "  </thead>\n",
       "  <tbody>\n",
       "    <tr>\n",
       "      <th>0</th>\n",
       "      <td>1</td>\n",
       "      <td>2</td>\n",
       "      <td>1</td>\n",
       "    </tr>\n",
       "    <tr>\n",
       "      <th>1</th>\n",
       "      <td>3</td>\n",
       "      <td>3</td>\n",
       "      <td>5</td>\n",
       "    </tr>\n",
       "    <tr>\n",
       "      <th>2</th>\n",
       "      <td>4</td>\n",
       "      <td>1</td>\n",
       "      <td>2</td>\n",
       "    </tr>\n",
       "    <tr>\n",
       "      <th>3</th>\n",
       "      <td>3</td>\n",
       "      <td>2</td>\n",
       "      <td>4</td>\n",
       "    </tr>\n",
       "    <tr>\n",
       "      <th>4</th>\n",
       "      <td>4</td>\n",
       "      <td>3</td>\n",
       "      <td>4</td>\n",
       "    </tr>\n",
       "  </tbody>\n",
       "</table>\n",
       "</div>"
      ],
      "text/plain": [
       "   A  B  C\n",
       "0  1  2  1\n",
       "1  3  3  5\n",
       "2  4  1  2\n",
       "3  3  2  4\n",
       "4  4  3  4"
      ]
     },
     "execution_count": 46,
     "metadata": {},
     "output_type": "execute_result"
    }
   ],
   "source": [
    "df = pd.DataFrame({\n",
    "    \"A\":[1, 3, 4, 3, 4],\n",
    "    \"B\":[2, 3, 1, 2, 3],\n",
    "    \"C\":[1, 5, 2, 4, 4],\n",
    "})\n",
    "df"
   ]
  },
  {
   "cell_type": "code",
   "execution_count": 51,
   "metadata": {},
   "outputs": [
    {
     "name": "stdout",
     "output_type": "stream",
     "text": [
      "3\n",
      "2\n",
      "4\n",
      "---------------------------\n",
      "A    3\n",
      "B    2\n",
      "C    4\n",
      "dtype: int64\n",
      "0    1\n",
      "1    2\n",
      "2    3\n",
      "3    2\n",
      "4    1\n",
      "dtype: int64\n"
     ]
    }
   ],
   "source": [
    "##### 각 열(행)별로 최대값에서 최소값을 뺀 값을 구하고자 한다.\n",
    "\n",
    "def diff(x):\n",
    "    return x.max() - x.min()\n",
    "\n",
    "print(diff(df[\"A\"]))\n",
    "print(diff(df[\"B\"]))\n",
    "print(diff(df[\"C\"]))\n",
    "\n",
    "print(\"---------------------------\")\n",
    "\n",
    "print(df.apply(diff, axis=0))\n",
    "print(df.apply(diff, axis=1))"
   ]
  },
  {
   "cell_type": "code",
   "execution_count": 52,
   "metadata": {},
   "outputs": [
    {
     "data": {
      "text/plain": [
       "A    3\n",
       "B    2\n",
       "C    4\n",
       "dtype: int64"
      ]
     },
     "execution_count": 52,
     "metadata": {},
     "output_type": "execute_result"
    }
   ],
   "source": [
    "##### 람다 함수\n",
    "df.apply(lambda x : x.max() - x.min(), axis=0)"
   ]
  },
  {
   "cell_type": "code",
   "execution_count": 56,
   "metadata": {
    "collapsed": true
   },
   "outputs": [
    {
     "name": "stdout",
     "output_type": "stream",
     "text": [
      "4    2\n",
      "3    2\n",
      "1    1\n",
      "Name: A, dtype: int64\n",
      "3    2\n",
      "2    2\n",
      "1    1\n",
      "Name: B, dtype: int64\n",
      "4    2\n",
      "5    1\n",
      "2    1\n",
      "1    1\n",
      "Name: C, dtype: int64\n",
      "------------------------------\n"
     ]
    },
    {
     "data": {
      "text/html": [
       "<div>\n",
       "<style scoped>\n",
       "    .dataframe tbody tr th:only-of-type {\n",
       "        vertical-align: middle;\n",
       "    }\n",
       "\n",
       "    .dataframe tbody tr th {\n",
       "        vertical-align: top;\n",
       "    }\n",
       "\n",
       "    .dataframe thead th {\n",
       "        text-align: right;\n",
       "    }\n",
       "</style>\n",
       "<table border=\"1\" class=\"dataframe\">\n",
       "  <thead>\n",
       "    <tr style=\"text-align: right;\">\n",
       "      <th></th>\n",
       "      <th>A</th>\n",
       "      <th>B</th>\n",
       "      <th>C</th>\n",
       "    </tr>\n",
       "  </thead>\n",
       "  <tbody>\n",
       "    <tr>\n",
       "      <th>1</th>\n",
       "      <td>1.0</td>\n",
       "      <td>1.0</td>\n",
       "      <td>1.0</td>\n",
       "    </tr>\n",
       "    <tr>\n",
       "      <th>2</th>\n",
       "      <td>0.0</td>\n",
       "      <td>2.0</td>\n",
       "      <td>1.0</td>\n",
       "    </tr>\n",
       "    <tr>\n",
       "      <th>3</th>\n",
       "      <td>2.0</td>\n",
       "      <td>2.0</td>\n",
       "      <td>0.0</td>\n",
       "    </tr>\n",
       "    <tr>\n",
       "      <th>4</th>\n",
       "      <td>2.0</td>\n",
       "      <td>0.0</td>\n",
       "      <td>2.0</td>\n",
       "    </tr>\n",
       "    <tr>\n",
       "      <th>5</th>\n",
       "      <td>0.0</td>\n",
       "      <td>0.0</td>\n",
       "      <td>1.0</td>\n",
       "    </tr>\n",
       "  </tbody>\n",
       "</table>\n",
       "</div>"
      ],
      "text/plain": [
       "     A    B    C\n",
       "1  1.0  1.0  1.0\n",
       "2  0.0  2.0  1.0\n",
       "3  2.0  2.0  0.0\n",
       "4  2.0  0.0  2.0\n",
       "5  0.0  0.0  1.0"
      ]
     },
     "execution_count": 56,
     "metadata": {},
     "output_type": "execute_result"
    }
   ],
   "source": [
    "##### 각 열의 대해 어떤 값이 얼마나 사용되었는지 조회 : value_counts()\n",
    "\n",
    "print(df[\"A\"].value_counts())\n",
    "print(df[\"B\"].value_counts())\n",
    "print(df[\"C\"].value_counts())\n",
    "\n",
    "print(\"------------------------------\")\n",
    "\n",
    "df.apply(pd.value_counts, axis=0).fillna(0)"
   ]
  },
  {
   "cell_type": "markdown",
   "metadata": {},
   "source": [
    "#### 6) 실수값을 카테고리로 변경(양적 데이터 -> 질적 데이터)\n",
    "\n",
    "+ cut()\n",
    "+ qcut()"
   ]
  },
  {
   "cell_type": "code",
   "execution_count": 57,
   "metadata": {},
   "outputs": [
    {
     "name": "stdout",
     "output_type": "stream",
     "text": [
      "[NaN, '미성년자', '미성년자', '청년', '청년', ..., '노년', '청년', '장년', '중년', NaN]\n",
      "Length: 12\n",
      "Categories (5, object): ['미성년자' < '청년' < '중년' < '장년' < '노년']\n"
     ]
    }
   ],
   "source": [
    "# 1 ~ 15 : 미성년자, 16 ~ 25 : 청년, 26 ~ 35 : 중년, 36 ~ 60 : 장년, 61 ~ 99 : 노년\n",
    "\n",
    "ages = [0, 2, 10, 21, 23, 37, 31, 61, 20, 41, 32, 100]\n",
    "\n",
    "cat = pd.cut(x=ages, bins=[1, 15, 25, 35, 60, 99], labels=[\"미성년자\", \"청년\", \"중년\", \"장년\", \"노년\"])\n",
    "print(cat)"
   ]
  },
  {
   "cell_type": "code",
   "execution_count": 60,
   "metadata": {},
   "outputs": [
    {
     "name": "stdout",
     "output_type": "stream",
     "text": [
      "<class 'pandas.core.arrays.categorical.Categorical'>\n",
      "Index(['미성년자', '청년', '중년', '장년', '노년'], dtype='object')\n",
      "[-1  0  0  1  1  3  2  4  1  3  2 -1]\n"
     ]
    }
   ],
   "source": [
    "print(type(cat))\n",
    "print(cat.categories)\n",
    "print(cat.codes)"
   ]
  },
  {
   "cell_type": "code",
   "execution_count": 64,
   "metadata": {
    "collapsed": true
   },
   "outputs": [
    {
     "data": {
      "text/html": [
       "<div>\n",
       "<style scoped>\n",
       "    .dataframe tbody tr th:only-of-type {\n",
       "        vertical-align: middle;\n",
       "    }\n",
       "\n",
       "    .dataframe tbody tr th {\n",
       "        vertical-align: top;\n",
       "    }\n",
       "\n",
       "    .dataframe thead th {\n",
       "        text-align: right;\n",
       "    }\n",
       "</style>\n",
       "<table border=\"1\" class=\"dataframe\">\n",
       "  <thead>\n",
       "    <tr style=\"text-align: right;\">\n",
       "      <th></th>\n",
       "      <th>ages</th>\n",
       "      <th>age_cat</th>\n",
       "      <th>age_cat_num</th>\n",
       "    </tr>\n",
       "  </thead>\n",
       "  <tbody>\n",
       "    <tr>\n",
       "      <th>0</th>\n",
       "      <td>0</td>\n",
       "      <td>NaN</td>\n",
       "      <td>-1</td>\n",
       "    </tr>\n",
       "    <tr>\n",
       "      <th>1</th>\n",
       "      <td>2</td>\n",
       "      <td>미성년자</td>\n",
       "      <td>0</td>\n",
       "    </tr>\n",
       "    <tr>\n",
       "      <th>2</th>\n",
       "      <td>10</td>\n",
       "      <td>미성년자</td>\n",
       "      <td>0</td>\n",
       "    </tr>\n",
       "    <tr>\n",
       "      <th>3</th>\n",
       "      <td>21</td>\n",
       "      <td>청년</td>\n",
       "      <td>1</td>\n",
       "    </tr>\n",
       "    <tr>\n",
       "      <th>4</th>\n",
       "      <td>23</td>\n",
       "      <td>청년</td>\n",
       "      <td>1</td>\n",
       "    </tr>\n",
       "    <tr>\n",
       "      <th>5</th>\n",
       "      <td>37</td>\n",
       "      <td>장년</td>\n",
       "      <td>3</td>\n",
       "    </tr>\n",
       "    <tr>\n",
       "      <th>6</th>\n",
       "      <td>31</td>\n",
       "      <td>중년</td>\n",
       "      <td>2</td>\n",
       "    </tr>\n",
       "    <tr>\n",
       "      <th>7</th>\n",
       "      <td>61</td>\n",
       "      <td>노년</td>\n",
       "      <td>4</td>\n",
       "    </tr>\n",
       "    <tr>\n",
       "      <th>8</th>\n",
       "      <td>20</td>\n",
       "      <td>청년</td>\n",
       "      <td>1</td>\n",
       "    </tr>\n",
       "    <tr>\n",
       "      <th>9</th>\n",
       "      <td>41</td>\n",
       "      <td>장년</td>\n",
       "      <td>3</td>\n",
       "    </tr>\n",
       "    <tr>\n",
       "      <th>10</th>\n",
       "      <td>32</td>\n",
       "      <td>중년</td>\n",
       "      <td>2</td>\n",
       "    </tr>\n",
       "    <tr>\n",
       "      <th>11</th>\n",
       "      <td>100</td>\n",
       "      <td>NaN</td>\n",
       "      <td>-1</td>\n",
       "    </tr>\n",
       "  </tbody>\n",
       "</table>\n",
       "</div>"
      ],
      "text/plain": [
       "    ages age_cat  age_cat_num\n",
       "0      0     NaN           -1\n",
       "1      2    미성년자            0\n",
       "2     10    미성년자            0\n",
       "3     21      청년            1\n",
       "4     23      청년            1\n",
       "5     37      장년            3\n",
       "6     31      중년            2\n",
       "7     61      노년            4\n",
       "8     20      청년            1\n",
       "9     41      장년            3\n",
       "10    32      중년            2\n",
       "11   100     NaN           -1"
      ]
     },
     "execution_count": 64,
     "metadata": {},
     "output_type": "execute_result"
    }
   ],
   "source": [
    "df = pd.DataFrame(ages, columns=[\"ages\"])\n",
    "df\n",
    "\n",
    "df[\"age_cat\"] = cat\n",
    "df\n",
    "\n",
    "df[\"age_cat_num\"] = cat.codes\n",
    "df"
   ]
  },
  {
   "cell_type": "code",
   "execution_count": 66,
   "metadata": {},
   "outputs": [
    {
     "data": {
      "text/plain": [
       "Q4    25\n",
       "Q3    25\n",
       "Q2    25\n",
       "Q1    25\n",
       "dtype: int64"
      ]
     },
     "execution_count": 66,
     "metadata": {},
     "output_type": "execute_result"
    }
   ],
   "source": [
    "##### qcut()\n",
    "\n",
    "data = np.random.randn(100)\n",
    "cat1 = pd.qcut(data, 4, labels=[\"Q1\", \"Q2\", \"Q3\", \"Q4\"])\n",
    "cat1\n",
    "pd.value_counts(cat1)"
   ]
  },
  {
   "cell_type": "markdown",
   "metadata": {},
   "source": [
    "---\n",
    "### 4. Index Manipulation"
   ]
  },
  {
   "cell_type": "markdown",
   "metadata": {},
   "source": [
    "#### 1) set_index(), reset_index()"
   ]
  },
  {
   "cell_type": "code",
   "execution_count": 77,
   "metadata": {},
   "outputs": [
    {
     "data": {
      "text/html": [
       "<div>\n",
       "<style scoped>\n",
       "    .dataframe tbody tr th:only-of-type {\n",
       "        vertical-align: middle;\n",
       "    }\n",
       "\n",
       "    .dataframe tbody tr th {\n",
       "        vertical-align: top;\n",
       "    }\n",
       "\n",
       "    .dataframe thead th {\n",
       "        text-align: right;\n",
       "    }\n",
       "</style>\n",
       "<table border=\"1\" class=\"dataframe\">\n",
       "  <thead>\n",
       "    <tr style=\"text-align: right;\">\n",
       "      <th></th>\n",
       "      <th>C1</th>\n",
       "      <th>C2</th>\n",
       "      <th>C3</th>\n",
       "      <th>C4</th>\n",
       "    </tr>\n",
       "  </thead>\n",
       "  <tbody>\n",
       "    <tr>\n",
       "      <th>0</th>\n",
       "      <td>A</td>\n",
       "      <td>1.0</td>\n",
       "      <td>1.0</td>\n",
       "      <td>1.0</td>\n",
       "    </tr>\n",
       "    <tr>\n",
       "      <th>1</th>\n",
       "      <td>B</td>\n",
       "      <td>1.0</td>\n",
       "      <td>0.0</td>\n",
       "      <td>1.0</td>\n",
       "    </tr>\n",
       "    <tr>\n",
       "      <th>2</th>\n",
       "      <td>C</td>\n",
       "      <td>1.0</td>\n",
       "      <td>1.0</td>\n",
       "      <td>1.0</td>\n",
       "    </tr>\n",
       "    <tr>\n",
       "      <th>3</th>\n",
       "      <td>D</td>\n",
       "      <td>1.0</td>\n",
       "      <td>1.0</td>\n",
       "      <td>1.0</td>\n",
       "    </tr>\n",
       "    <tr>\n",
       "      <th>4</th>\n",
       "      <td>E</td>\n",
       "      <td>0.0</td>\n",
       "      <td>0.0</td>\n",
       "      <td>0.0</td>\n",
       "    </tr>\n",
       "  </tbody>\n",
       "</table>\n",
       "</div>"
      ],
      "text/plain": [
       "  C1   C2   C3   C4\n",
       "0  A  1.0  1.0  1.0\n",
       "1  B  1.0  0.0  1.0\n",
       "2  C  1.0  1.0  1.0\n",
       "3  D  1.0  1.0  1.0\n",
       "4  E  0.0  0.0  0.0"
      ]
     },
     "execution_count": 77,
     "metadata": {},
     "output_type": "execute_result"
    }
   ],
   "source": [
    "np.random.seed(0)\n",
    "\n",
    "df1 = pd.DataFrame(np.vstack([list(\"ABCDE\"), np.round(np.random.rand(3, 5))]).T, \n",
    "            columns=[\"C1\", \"C2\", \"C3\", \"C4\"])\n",
    "df1"
   ]
  },
  {
   "cell_type": "code",
   "execution_count": 78,
   "metadata": {},
   "outputs": [
    {
     "data": {
      "text/html": [
       "<div>\n",
       "<style scoped>\n",
       "    .dataframe tbody tr th:only-of-type {\n",
       "        vertical-align: middle;\n",
       "    }\n",
       "\n",
       "    .dataframe tbody tr th {\n",
       "        vertical-align: top;\n",
       "    }\n",
       "\n",
       "    .dataframe thead th {\n",
       "        text-align: right;\n",
       "    }\n",
       "</style>\n",
       "<table border=\"1\" class=\"dataframe\">\n",
       "  <thead>\n",
       "    <tr style=\"text-align: right;\">\n",
       "      <th></th>\n",
       "      <th>C2</th>\n",
       "      <th>C3</th>\n",
       "      <th>C4</th>\n",
       "    </tr>\n",
       "    <tr>\n",
       "      <th>C1</th>\n",
       "      <th></th>\n",
       "      <th></th>\n",
       "      <th></th>\n",
       "    </tr>\n",
       "  </thead>\n",
       "  <tbody>\n",
       "    <tr>\n",
       "      <th>A</th>\n",
       "      <td>1.0</td>\n",
       "      <td>1.0</td>\n",
       "      <td>1.0</td>\n",
       "    </tr>\n",
       "    <tr>\n",
       "      <th>B</th>\n",
       "      <td>1.0</td>\n",
       "      <td>0.0</td>\n",
       "      <td>1.0</td>\n",
       "    </tr>\n",
       "    <tr>\n",
       "      <th>C</th>\n",
       "      <td>1.0</td>\n",
       "      <td>1.0</td>\n",
       "      <td>1.0</td>\n",
       "    </tr>\n",
       "    <tr>\n",
       "      <th>D</th>\n",
       "      <td>1.0</td>\n",
       "      <td>1.0</td>\n",
       "      <td>1.0</td>\n",
       "    </tr>\n",
       "    <tr>\n",
       "      <th>E</th>\n",
       "      <td>0.0</td>\n",
       "      <td>0.0</td>\n",
       "      <td>0.0</td>\n",
       "    </tr>\n",
       "  </tbody>\n",
       "</table>\n",
       "</div>"
      ],
      "text/plain": [
       "     C2   C3   C4\n",
       "C1               \n",
       "A   1.0  1.0  1.0\n",
       "B   1.0  0.0  1.0\n",
       "C   1.0  1.0  1.0\n",
       "D   1.0  1.0  1.0\n",
       "E   0.0  0.0  0.0"
      ]
     },
     "execution_count": 78,
     "metadata": {},
     "output_type": "execute_result"
    }
   ],
   "source": [
    "df2 = df1.set_index(\"C1\")\n",
    "df2"
   ]
  },
  {
   "cell_type": "code",
   "execution_count": 87,
   "metadata": {},
   "outputs": [
    {
     "data": {
      "text/html": [
       "<div>\n",
       "<style scoped>\n",
       "    .dataframe tbody tr th:only-of-type {\n",
       "        vertical-align: middle;\n",
       "    }\n",
       "\n",
       "    .dataframe tbody tr th {\n",
       "        vertical-align: top;\n",
       "    }\n",
       "\n",
       "    .dataframe thead th {\n",
       "        text-align: right;\n",
       "    }\n",
       "</style>\n",
       "<table border=\"1\" class=\"dataframe\">\n",
       "  <thead>\n",
       "    <tr style=\"text-align: right;\">\n",
       "      <th></th>\n",
       "      <th>C3</th>\n",
       "      <th>C4</th>\n",
       "    </tr>\n",
       "    <tr>\n",
       "      <th>C2</th>\n",
       "      <th></th>\n",
       "      <th></th>\n",
       "    </tr>\n",
       "  </thead>\n",
       "  <tbody>\n",
       "    <tr>\n",
       "      <th>1.0</th>\n",
       "      <td>1.0</td>\n",
       "      <td>1.0</td>\n",
       "    </tr>\n",
       "    <tr>\n",
       "      <th>1.0</th>\n",
       "      <td>0.0</td>\n",
       "      <td>1.0</td>\n",
       "    </tr>\n",
       "    <tr>\n",
       "      <th>1.0</th>\n",
       "      <td>1.0</td>\n",
       "      <td>1.0</td>\n",
       "    </tr>\n",
       "    <tr>\n",
       "      <th>1.0</th>\n",
       "      <td>1.0</td>\n",
       "      <td>1.0</td>\n",
       "    </tr>\n",
       "    <tr>\n",
       "      <th>0.0</th>\n",
       "      <td>0.0</td>\n",
       "      <td>0.0</td>\n",
       "    </tr>\n",
       "  </tbody>\n",
       "</table>\n",
       "</div>"
      ],
      "text/plain": [
       "      C3   C4\n",
       "C2           \n",
       "1.0  1.0  1.0\n",
       "1.0  0.0  1.0\n",
       "1.0  1.0  1.0\n",
       "1.0  1.0  1.0\n",
       "0.0  0.0  0.0"
      ]
     },
     "execution_count": 87,
     "metadata": {},
     "output_type": "execute_result"
    }
   ],
   "source": [
    "df2.set_index(\"C2\")"
   ]
  },
  {
   "cell_type": "code",
   "execution_count": 91,
   "metadata": {},
   "outputs": [
    {
     "data": {
      "text/html": [
       "<div>\n",
       "<style scoped>\n",
       "    .dataframe tbody tr th:only-of-type {\n",
       "        vertical-align: middle;\n",
       "    }\n",
       "\n",
       "    .dataframe tbody tr th {\n",
       "        vertical-align: top;\n",
       "    }\n",
       "\n",
       "    .dataframe thead th {\n",
       "        text-align: right;\n",
       "    }\n",
       "</style>\n",
       "<table border=\"1\" class=\"dataframe\">\n",
       "  <thead>\n",
       "    <tr style=\"text-align: right;\">\n",
       "      <th></th>\n",
       "      <th>C2</th>\n",
       "      <th>C3</th>\n",
       "      <th>C4</th>\n",
       "    </tr>\n",
       "  </thead>\n",
       "  <tbody>\n",
       "    <tr>\n",
       "      <th>0</th>\n",
       "      <td>1.0</td>\n",
       "      <td>1.0</td>\n",
       "      <td>1.0</td>\n",
       "    </tr>\n",
       "    <tr>\n",
       "      <th>1</th>\n",
       "      <td>1.0</td>\n",
       "      <td>0.0</td>\n",
       "      <td>1.0</td>\n",
       "    </tr>\n",
       "    <tr>\n",
       "      <th>2</th>\n",
       "      <td>1.0</td>\n",
       "      <td>1.0</td>\n",
       "      <td>1.0</td>\n",
       "    </tr>\n",
       "    <tr>\n",
       "      <th>3</th>\n",
       "      <td>1.0</td>\n",
       "      <td>1.0</td>\n",
       "      <td>1.0</td>\n",
       "    </tr>\n",
       "    <tr>\n",
       "      <th>4</th>\n",
       "      <td>0.0</td>\n",
       "      <td>0.0</td>\n",
       "      <td>0.0</td>\n",
       "    </tr>\n",
       "  </tbody>\n",
       "</table>\n",
       "</div>"
      ],
      "text/plain": [
       "    C2   C3   C4\n",
       "0  1.0  1.0  1.0\n",
       "1  1.0  0.0  1.0\n",
       "2  1.0  1.0  1.0\n",
       "3  1.0  1.0  1.0\n",
       "4  0.0  0.0  0.0"
      ]
     },
     "execution_count": 91,
     "metadata": {},
     "output_type": "execute_result"
    }
   ],
   "source": [
    "# df2.reset_index()\n",
    "df2.reset_index(drop=True)"
   ]
  },
  {
   "cell_type": "markdown",
   "metadata": {},
   "source": [
    "#### 2) 다중 인덱스 조작"
   ]
  },
  {
   "cell_type": "code",
   "execution_count": 93,
   "metadata": {},
   "outputs": [
    {
     "data": {
      "text/html": [
       "<div>\n",
       "<style scoped>\n",
       "    .dataframe tbody tr th:only-of-type {\n",
       "        vertical-align: middle;\n",
       "    }\n",
       "\n",
       "    .dataframe tbody tr th {\n",
       "        vertical-align: top;\n",
       "    }\n",
       "\n",
       "    .dataframe thead tr th {\n",
       "        text-align: left;\n",
       "    }\n",
       "</style>\n",
       "<table border=\"1\" class=\"dataframe\">\n",
       "  <thead>\n",
       "    <tr>\n",
       "      <th>Cidx1</th>\n",
       "      <th colspan=\"2\" halign=\"left\">A</th>\n",
       "      <th colspan=\"2\" halign=\"left\">B</th>\n",
       "    </tr>\n",
       "    <tr>\n",
       "      <th>Cidx2</th>\n",
       "      <th>C1</th>\n",
       "      <th>C2</th>\n",
       "      <th>C1</th>\n",
       "      <th>C2</th>\n",
       "    </tr>\n",
       "  </thead>\n",
       "  <tbody>\n",
       "    <tr>\n",
       "      <th>0</th>\n",
       "      <td>A</td>\n",
       "      <td>1.0</td>\n",
       "      <td>1.0</td>\n",
       "      <td>1.0</td>\n",
       "    </tr>\n",
       "    <tr>\n",
       "      <th>1</th>\n",
       "      <td>B</td>\n",
       "      <td>1.0</td>\n",
       "      <td>0.0</td>\n",
       "      <td>1.0</td>\n",
       "    </tr>\n",
       "    <tr>\n",
       "      <th>2</th>\n",
       "      <td>C</td>\n",
       "      <td>1.0</td>\n",
       "      <td>1.0</td>\n",
       "      <td>1.0</td>\n",
       "    </tr>\n",
       "    <tr>\n",
       "      <th>3</th>\n",
       "      <td>D</td>\n",
       "      <td>1.0</td>\n",
       "      <td>1.0</td>\n",
       "      <td>1.0</td>\n",
       "    </tr>\n",
       "    <tr>\n",
       "      <th>4</th>\n",
       "      <td>E</td>\n",
       "      <td>0.0</td>\n",
       "      <td>0.0</td>\n",
       "      <td>0.0</td>\n",
       "    </tr>\n",
       "  </tbody>\n",
       "</table>\n",
       "</div>"
      ],
      "text/plain": [
       "Cidx1  A         B     \n",
       "Cidx2 C1   C2   C1   C2\n",
       "0      A  1.0  1.0  1.0\n",
       "1      B  1.0  0.0  1.0\n",
       "2      C  1.0  1.0  1.0\n",
       "3      D  1.0  1.0  1.0\n",
       "4      E  0.0  0.0  0.0"
      ]
     },
     "execution_count": 93,
     "metadata": {},
     "output_type": "execute_result"
    }
   ],
   "source": [
    "##### 다중 컬럼\n",
    "\n",
    "np.random.seed(0)\n",
    "\n",
    "df2 = pd.DataFrame(np.vstack([list(\"ABCDE\"), np.round(np.random.rand(3, 5))]).T, \n",
    "            columns=[[\"A\", \"A\", \"B\", \"B\"], [\"C1\", \"C2\", \"C1\", \"C2\"]])\n",
    "\n",
    "df2\n",
    "\n",
    "df2.columns.names = [\"Cidx1\", \"Cidx2\"]\n",
    "df2"
   ]
  },
  {
   "cell_type": "code",
   "execution_count": 103,
   "metadata": {
    "collapsed": true
   },
   "outputs": [
    {
     "name": "stdout",
     "output_type": "stream",
     "text": [
      "1.0\n",
      "0    1.0\n",
      "1    0.0\n",
      "2    1.0\n",
      "3    1.0\n",
      "4    0.0\n",
      "Name: (B, C1), dtype: object\n",
      "------------------------\n",
      "1.0\n",
      "0    1.0\n",
      "1    0.0\n",
      "2    1.0\n",
      "3    1.0\n",
      "4    0.0\n",
      "Name: (B, C1), dtype: object\n",
      "------------------------\n",
      "0    1.0\n",
      "1    0.0\n",
      "2    1.0\n",
      "3    1.0\n",
      "4    0.0\n",
      "Name: (B, C1), dtype: object\n"
     ]
    }
   ],
   "source": [
    "# 인덱싱\n",
    "\n",
    "df2[(\"A\", \"C1\")]\n",
    "df2[(\"B\", \"C1\")]\n",
    "df2[(\"B\", \"C2\")]\n",
    "\n",
    "print(df2[(\"B\", \"C1\")][0])\n",
    "print(df2[(\"B\", \"C1\")][0:])\n",
    "\n",
    "print(\"------------------------\")\n",
    "\n",
    "print(df2.loc[0, (\"B\", \"C1\")])\n",
    "print(df2.loc[0:, (\"B\", \"C1\")])\n",
    "\n",
    "print(\"------------------------\")\n",
    "\n",
    "print(df2.iloc[0: , 2])"
   ]
  },
  {
   "cell_type": "code",
   "execution_count": 111,
   "metadata": {},
   "outputs": [
    {
     "data": {
      "text/html": [
       "<div>\n",
       "<style scoped>\n",
       "    .dataframe tbody tr th:only-of-type {\n",
       "        vertical-align: middle;\n",
       "    }\n",
       "\n",
       "    .dataframe tbody tr th {\n",
       "        vertical-align: top;\n",
       "    }\n",
       "\n",
       "    .dataframe thead tr th {\n",
       "        text-align: left;\n",
       "    }\n",
       "\n",
       "    .dataframe thead tr:last-of-type th {\n",
       "        text-align: right;\n",
       "    }\n",
       "</style>\n",
       "<table border=\"1\" class=\"dataframe\">\n",
       "  <thead>\n",
       "    <tr>\n",
       "      <th></th>\n",
       "      <th>Cidx1</th>\n",
       "      <th colspan=\"2\" halign=\"left\">A</th>\n",
       "      <th colspan=\"2\" halign=\"left\">B</th>\n",
       "    </tr>\n",
       "    <tr>\n",
       "      <th></th>\n",
       "      <th>Cidx2</th>\n",
       "      <th>C</th>\n",
       "      <th>D</th>\n",
       "      <th>C</th>\n",
       "      <th>D</th>\n",
       "    </tr>\n",
       "    <tr>\n",
       "      <th>Ridx1</th>\n",
       "      <th>Ridx2</th>\n",
       "      <th></th>\n",
       "      <th></th>\n",
       "      <th></th>\n",
       "      <th></th>\n",
       "    </tr>\n",
       "  </thead>\n",
       "  <tbody>\n",
       "    <tr>\n",
       "      <th rowspan=\"3\" valign=\"top\">M</th>\n",
       "      <th>id_1</th>\n",
       "      <td>0.24</td>\n",
       "      <td>0.93</td>\n",
       "      <td>0.61</td>\n",
       "      <td>0.54</td>\n",
       "    </tr>\n",
       "    <tr>\n",
       "      <th>id_2</th>\n",
       "      <td>0.59</td>\n",
       "      <td>0.73</td>\n",
       "      <td>0.31</td>\n",
       "      <td>0.40</td>\n",
       "    </tr>\n",
       "    <tr>\n",
       "      <th>id_3</th>\n",
       "      <td>0.21</td>\n",
       "      <td>0.19</td>\n",
       "      <td>0.94</td>\n",
       "      <td>0.74</td>\n",
       "    </tr>\n",
       "    <tr>\n",
       "      <th rowspan=\"3\" valign=\"top\">F</th>\n",
       "      <th>id_1</th>\n",
       "      <td>0.49</td>\n",
       "      <td>0.23</td>\n",
       "      <td>0.25</td>\n",
       "      <td>0.06</td>\n",
       "    </tr>\n",
       "    <tr>\n",
       "      <th>id_2</th>\n",
       "      <td>0.43</td>\n",
       "      <td>0.31</td>\n",
       "      <td>0.70</td>\n",
       "      <td>0.38</td>\n",
       "    </tr>\n",
       "    <tr>\n",
       "      <th>id_3</th>\n",
       "      <td>0.18</td>\n",
       "      <td>0.02</td>\n",
       "      <td>0.07</td>\n",
       "      <td>0.68</td>\n",
       "    </tr>\n",
       "  </tbody>\n",
       "</table>\n",
       "</div>"
      ],
      "text/plain": [
       "Cidx1           A           B      \n",
       "Cidx2           C     D     C     D\n",
       "Ridx1 Ridx2                        \n",
       "M     id_1   0.24  0.93  0.61  0.54\n",
       "      id_2   0.59  0.73  0.31  0.40\n",
       "      id_3   0.21  0.19  0.94  0.74\n",
       "F     id_1   0.49  0.23  0.25  0.06\n",
       "      id_2   0.43  0.31  0.70  0.38\n",
       "      id_3   0.18  0.02  0.07  0.68"
      ]
     },
     "execution_count": 111,
     "metadata": {},
     "output_type": "execute_result"
    }
   ],
   "source": [
    "##### 다중 컬럼과 다중 인덱스\n",
    "\n",
    "df3 = pd.DataFrame(np.round(np.random.rand(6, 4), 2),\n",
    "                  columns = [[\"A\", \"A\", \"B\", \"B\"], [\"C\", \"D\", \"C\", \"D\"]],\n",
    "                  index = [[\"M\", \"M\", \"M\", \"F\", \"F\", \"F\"], \n",
    "                           [\"id_\" + str(i+1) for i in range(3)] * 2])\n",
    "\n",
    "df3\n",
    "\n",
    "df3.columns.names = [\"Cidx1\", \"Cidx2\"]\n",
    "df3.index.names = [\"Ridx1\", \"Ridx2\"]\n",
    "df3"
   ]
  },
  {
   "cell_type": "code",
   "execution_count": 118,
   "metadata": {
    "collapsed": true
   },
   "outputs": [
    {
     "name": "stdout",
     "output_type": "stream",
     "text": [
      "Ridx1           M                 F            \n",
      "Ridx2        id_1  id_2  id_3  id_1  id_2  id_3\n",
      "Cidx1 Cidx2                                    \n",
      "A     C      0.24  0.59  0.21  0.49  0.43  0.18\n",
      "      D      0.93  0.73  0.19  0.23  0.31  0.02\n",
      "B     C      0.61  0.31  0.94  0.25  0.70  0.07\n",
      "      D      0.54  0.40  0.74  0.06  0.38  0.68\n",
      "------------------------------\n",
      "Cidx1                 A     B\n",
      "Ridx1 Ridx2 Cidx2            \n",
      "M     id_1  C      0.24  0.61\n",
      "            D      0.93  0.54\n",
      "      id_2  C      0.59  0.31\n",
      "            D      0.73  0.40\n",
      "      id_3  C      0.21  0.94\n",
      "            D      0.19  0.74\n",
      "F     id_1  C      0.49  0.25\n",
      "            D      0.23  0.06\n",
      "      id_2  C      0.43  0.70\n",
      "            D      0.31  0.38\n",
      "      id_3  C      0.18  0.07\n",
      "            D      0.02  0.68\n",
      "------------------------------\n"
     ]
    },
    {
     "data": {
      "text/html": [
       "<div>\n",
       "<style scoped>\n",
       "    .dataframe tbody tr th:only-of-type {\n",
       "        vertical-align: middle;\n",
       "    }\n",
       "\n",
       "    .dataframe tbody tr th {\n",
       "        vertical-align: top;\n",
       "    }\n",
       "\n",
       "    .dataframe thead tr th {\n",
       "        text-align: left;\n",
       "    }\n",
       "\n",
       "    .dataframe thead tr:last-of-type th {\n",
       "        text-align: right;\n",
       "    }\n",
       "</style>\n",
       "<table border=\"1\" class=\"dataframe\">\n",
       "  <thead>\n",
       "    <tr>\n",
       "      <th>Cidx1</th>\n",
       "      <th colspan=\"6\" halign=\"left\">A</th>\n",
       "      <th colspan=\"6\" halign=\"left\">B</th>\n",
       "    </tr>\n",
       "    <tr>\n",
       "      <th>Cidx2</th>\n",
       "      <th colspan=\"3\" halign=\"left\">C</th>\n",
       "      <th colspan=\"3\" halign=\"left\">D</th>\n",
       "      <th colspan=\"3\" halign=\"left\">C</th>\n",
       "      <th colspan=\"3\" halign=\"left\">D</th>\n",
       "    </tr>\n",
       "    <tr>\n",
       "      <th>Ridx2</th>\n",
       "      <th>id_1</th>\n",
       "      <th>id_2</th>\n",
       "      <th>id_3</th>\n",
       "      <th>id_1</th>\n",
       "      <th>id_2</th>\n",
       "      <th>id_3</th>\n",
       "      <th>id_1</th>\n",
       "      <th>id_2</th>\n",
       "      <th>id_3</th>\n",
       "      <th>id_1</th>\n",
       "      <th>id_2</th>\n",
       "      <th>id_3</th>\n",
       "    </tr>\n",
       "    <tr>\n",
       "      <th>Ridx1</th>\n",
       "      <th></th>\n",
       "      <th></th>\n",
       "      <th></th>\n",
       "      <th></th>\n",
       "      <th></th>\n",
       "      <th></th>\n",
       "      <th></th>\n",
       "      <th></th>\n",
       "      <th></th>\n",
       "      <th></th>\n",
       "      <th></th>\n",
       "      <th></th>\n",
       "    </tr>\n",
       "  </thead>\n",
       "  <tbody>\n",
       "    <tr>\n",
       "      <th>F</th>\n",
       "      <td>0.49</td>\n",
       "      <td>0.43</td>\n",
       "      <td>0.18</td>\n",
       "      <td>0.23</td>\n",
       "      <td>0.31</td>\n",
       "      <td>0.02</td>\n",
       "      <td>0.25</td>\n",
       "      <td>0.70</td>\n",
       "      <td>0.07</td>\n",
       "      <td>0.06</td>\n",
       "      <td>0.38</td>\n",
       "      <td>0.68</td>\n",
       "    </tr>\n",
       "    <tr>\n",
       "      <th>M</th>\n",
       "      <td>0.24</td>\n",
       "      <td>0.59</td>\n",
       "      <td>0.21</td>\n",
       "      <td>0.93</td>\n",
       "      <td>0.73</td>\n",
       "      <td>0.19</td>\n",
       "      <td>0.61</td>\n",
       "      <td>0.31</td>\n",
       "      <td>0.94</td>\n",
       "      <td>0.54</td>\n",
       "      <td>0.40</td>\n",
       "      <td>0.74</td>\n",
       "    </tr>\n",
       "  </tbody>\n",
       "</table>\n",
       "</div>"
      ],
      "text/plain": [
       "Cidx1     A                                   B                              \n",
       "Cidx2     C                 D                 C                 D            \n",
       "Ridx2  id_1  id_2  id_3  id_1  id_2  id_3  id_1  id_2  id_3  id_1  id_2  id_3\n",
       "Ridx1                                                                        \n",
       "F      0.49  0.43  0.18  0.23  0.31  0.02  0.25  0.70  0.07  0.06  0.38  0.68\n",
       "M      0.24  0.59  0.21  0.93  0.73  0.19  0.61  0.31  0.94  0.54  0.40  0.74"
      ]
     },
     "execution_count": 118,
     "metadata": {},
     "output_type": "execute_result"
    }
   ],
   "source": [
    "##### 행 인덱스와 열 인덱스를 교환 : stack() - 열을 행으로 , unstack() - 행을 열로\n",
    "\n",
    "print(df3.T)\n",
    "\n",
    "print(\"------------------------------\")\n",
    "\n",
    "df3.stack(\"Cidx1\")\n",
    "print(df3.stack(1))\n",
    "\n",
    "print(\"------------------------------\")\n",
    "\n",
    "df3.unstack(\"Ridx1\")\n",
    "df3.unstack(1)"
   ]
  },
  {
   "cell_type": "code",
   "execution_count": 125,
   "metadata": {},
   "outputs": [
    {
     "name": "stdout",
     "output_type": "stream",
     "text": [
      "Cidx1           A           B      \n",
      "Cidx2           C     D     C     D\n",
      "Ridx1 Ridx2                        \n",
      "M     id_1   0.24  0.93  0.61  0.54\n",
      "      id_2   0.59  0.73  0.31  0.40\n",
      "      id_3   0.21  0.19  0.94  0.74\n",
      "F     id_1   0.49  0.23  0.25  0.06\n",
      "      id_2   0.43  0.31  0.70  0.38\n",
      "      id_3   0.18  0.02  0.07  0.68\n",
      "============================================\n",
      "0.24\n",
      "--------------------------------------------\n",
      "Ridx1  Ridx2\n",
      "M      id_1     0.24\n",
      "       id_2     0.59\n",
      "       id_3     0.21\n",
      "F      id_1     0.49\n",
      "       id_2     0.43\n",
      "Name: (A, C), dtype: float64\n",
      "--------------------------------------------\n",
      "Cidx1  Cidx2\n",
      "A      C        0.24\n",
      "       D        0.93\n",
      "B      C        0.61\n",
      "       D        0.54\n",
      "Name: (M, id_1), dtype: float64\n",
      "--------------------------------------------\n"
     ]
    },
    {
     "data": {
      "text/html": [
       "<div>\n",
       "<style scoped>\n",
       "    .dataframe tbody tr th:only-of-type {\n",
       "        vertical-align: middle;\n",
       "    }\n",
       "\n",
       "    .dataframe tbody tr th {\n",
       "        vertical-align: top;\n",
       "    }\n",
       "\n",
       "    .dataframe thead tr th {\n",
       "        text-align: left;\n",
       "    }\n",
       "\n",
       "    .dataframe thead tr:last-of-type th {\n",
       "        text-align: right;\n",
       "    }\n",
       "</style>\n",
       "<table border=\"1\" class=\"dataframe\">\n",
       "  <thead>\n",
       "    <tr>\n",
       "      <th></th>\n",
       "      <th>Cidx1</th>\n",
       "      <th colspan=\"2\" halign=\"left\">A</th>\n",
       "      <th colspan=\"2\" halign=\"left\">B</th>\n",
       "    </tr>\n",
       "    <tr>\n",
       "      <th></th>\n",
       "      <th>Cidx2</th>\n",
       "      <th>C</th>\n",
       "      <th>D</th>\n",
       "      <th>C</th>\n",
       "      <th>D</th>\n",
       "    </tr>\n",
       "    <tr>\n",
       "      <th>Ridx1</th>\n",
       "      <th>Ridx2</th>\n",
       "      <th></th>\n",
       "      <th></th>\n",
       "      <th></th>\n",
       "      <th></th>\n",
       "    </tr>\n",
       "  </thead>\n",
       "  <tbody>\n",
       "    <tr>\n",
       "      <th rowspan=\"3\" valign=\"top\">M</th>\n",
       "      <th>id_1</th>\n",
       "      <td>0.24</td>\n",
       "      <td>0.93</td>\n",
       "      <td>0.61</td>\n",
       "      <td>0.54</td>\n",
       "    </tr>\n",
       "    <tr>\n",
       "      <th>id_2</th>\n",
       "      <td>0.59</td>\n",
       "      <td>0.73</td>\n",
       "      <td>0.31</td>\n",
       "      <td>0.40</td>\n",
       "    </tr>\n",
       "    <tr>\n",
       "      <th>id_3</th>\n",
       "      <td>0.21</td>\n",
       "      <td>0.19</td>\n",
       "      <td>0.94</td>\n",
       "      <td>0.74</td>\n",
       "    </tr>\n",
       "    <tr>\n",
       "      <th rowspan=\"3\" valign=\"top\">F</th>\n",
       "      <th>id_1</th>\n",
       "      <td>0.49</td>\n",
       "      <td>0.23</td>\n",
       "      <td>0.25</td>\n",
       "      <td>0.06</td>\n",
       "    </tr>\n",
       "    <tr>\n",
       "      <th>id_2</th>\n",
       "      <td>0.43</td>\n",
       "      <td>0.31</td>\n",
       "      <td>0.70</td>\n",
       "      <td>0.38</td>\n",
       "    </tr>\n",
       "    <tr>\n",
       "      <th>id_3</th>\n",
       "      <td>0.18</td>\n",
       "      <td>0.02</td>\n",
       "      <td>0.07</td>\n",
       "      <td>0.68</td>\n",
       "    </tr>\n",
       "    <tr>\n",
       "      <th>ALL</th>\n",
       "      <th>ALL</th>\n",
       "      <td>2.14</td>\n",
       "      <td>2.41</td>\n",
       "      <td>2.88</td>\n",
       "      <td>2.80</td>\n",
       "    </tr>\n",
       "  </tbody>\n",
       "</table>\n",
       "</div>"
      ],
      "text/plain": [
       "Cidx1           A           B      \n",
       "Cidx2           C     D     C     D\n",
       "Ridx1 Ridx2                        \n",
       "M     id_1   0.24  0.93  0.61  0.54\n",
       "      id_2   0.59  0.73  0.31  0.40\n",
       "      id_3   0.21  0.19  0.94  0.74\n",
       "F     id_1   0.49  0.23  0.25  0.06\n",
       "      id_2   0.43  0.31  0.70  0.38\n",
       "      id_3   0.18  0.02  0.07  0.68\n",
       "ALL   ALL    2.14  2.41  2.88  2.80"
      ]
     },
     "execution_count": 125,
     "metadata": {},
     "output_type": "execute_result"
    }
   ],
   "source": [
    "##### 인덱싱\n",
    "\n",
    "print(df3)\n",
    "print(\"============================================\")\n",
    "\n",
    "# 첫번째 행과 첫 번째 열에 있는 0.24값을 출력\n",
    "print(df3.loc[(\"M\", \"id_1\"), (\"A\", \"C\")])\n",
    "print(\"--------------------------------------------\")\n",
    "\n",
    "# 첫번째 열에 있는 0.24 ~ 0.43까지 출력\n",
    "print(df3.iloc[:5, 0])\n",
    "print(\"--------------------------------------------\")\n",
    "\n",
    "# 첫번째 행의 모든 컬럼값들을 출력\n",
    "print(df3.loc[(\"M\", \"id_1\"), :])\n",
    "print(\"--------------------------------------------\")\n",
    "\n",
    "# 맨 마지막 행에 \"ALL\"이라는 인덱스를 추가하여 각 열의 합을 출력\n",
    "df3.loc[(\"ALL\", \"ALL\"), :] = df3.sum()\n",
    "df3"
   ]
  },
  {
   "cell_type": "code",
   "execution_count": 128,
   "metadata": {
    "collapsed": true
   },
   "outputs": [
    {
     "data": {
      "text/html": [
       "<div>\n",
       "<style scoped>\n",
       "    .dataframe tbody tr th:only-of-type {\n",
       "        vertical-align: middle;\n",
       "    }\n",
       "\n",
       "    .dataframe tbody tr th {\n",
       "        vertical-align: top;\n",
       "    }\n",
       "\n",
       "    .dataframe thead tr th {\n",
       "        text-align: left;\n",
       "    }\n",
       "\n",
       "    .dataframe thead tr:last-of-type th {\n",
       "        text-align: right;\n",
       "    }\n",
       "</style>\n",
       "<table border=\"1\" class=\"dataframe\">\n",
       "  <thead>\n",
       "    <tr>\n",
       "      <th></th>\n",
       "      <th>Cidx2</th>\n",
       "      <th>C</th>\n",
       "      <th>D</th>\n",
       "      <th>C</th>\n",
       "      <th>D</th>\n",
       "    </tr>\n",
       "    <tr>\n",
       "      <th></th>\n",
       "      <th>Cidx1</th>\n",
       "      <th>A</th>\n",
       "      <th>A</th>\n",
       "      <th>B</th>\n",
       "      <th>B</th>\n",
       "    </tr>\n",
       "    <tr>\n",
       "      <th>Ridx1</th>\n",
       "      <th>Ridx2</th>\n",
       "      <th></th>\n",
       "      <th></th>\n",
       "      <th></th>\n",
       "      <th></th>\n",
       "    </tr>\n",
       "  </thead>\n",
       "  <tbody>\n",
       "    <tr>\n",
       "      <th rowspan=\"3\" valign=\"top\">M</th>\n",
       "      <th>id_1</th>\n",
       "      <td>0.24</td>\n",
       "      <td>0.93</td>\n",
       "      <td>0.61</td>\n",
       "      <td>0.54</td>\n",
       "    </tr>\n",
       "    <tr>\n",
       "      <th>id_2</th>\n",
       "      <td>0.59</td>\n",
       "      <td>0.73</td>\n",
       "      <td>0.31</td>\n",
       "      <td>0.40</td>\n",
       "    </tr>\n",
       "    <tr>\n",
       "      <th>id_3</th>\n",
       "      <td>0.21</td>\n",
       "      <td>0.19</td>\n",
       "      <td>0.94</td>\n",
       "      <td>0.74</td>\n",
       "    </tr>\n",
       "    <tr>\n",
       "      <th rowspan=\"3\" valign=\"top\">F</th>\n",
       "      <th>id_1</th>\n",
       "      <td>0.49</td>\n",
       "      <td>0.23</td>\n",
       "      <td>0.25</td>\n",
       "      <td>0.06</td>\n",
       "    </tr>\n",
       "    <tr>\n",
       "      <th>id_2</th>\n",
       "      <td>0.43</td>\n",
       "      <td>0.31</td>\n",
       "      <td>0.70</td>\n",
       "      <td>0.38</td>\n",
       "    </tr>\n",
       "    <tr>\n",
       "      <th>id_3</th>\n",
       "      <td>0.18</td>\n",
       "      <td>0.02</td>\n",
       "      <td>0.07</td>\n",
       "      <td>0.68</td>\n",
       "    </tr>\n",
       "    <tr>\n",
       "      <th>ALL</th>\n",
       "      <th>ALL</th>\n",
       "      <td>2.14</td>\n",
       "      <td>2.41</td>\n",
       "      <td>2.88</td>\n",
       "      <td>2.80</td>\n",
       "    </tr>\n",
       "  </tbody>\n",
       "</table>\n",
       "</div>"
      ],
      "text/plain": [
       "Cidx2           C     D     C     D\n",
       "Cidx1           A     A     B     B\n",
       "Ridx1 Ridx2                        \n",
       "M     id_1   0.24  0.93  0.61  0.54\n",
       "      id_2   0.59  0.73  0.31  0.40\n",
       "      id_3   0.21  0.19  0.94  0.74\n",
       "F     id_1   0.49  0.23  0.25  0.06\n",
       "      id_2   0.43  0.31  0.70  0.38\n",
       "      id_3   0.18  0.02  0.07  0.68\n",
       "ALL   ALL    2.14  2.41  2.88  2.80"
      ]
     },
     "execution_count": 128,
     "metadata": {},
     "output_type": "execute_result"
    }
   ],
   "source": [
    "##### 순서 교환 : swaplevel(i, j, axis=0)\n",
    "\n",
    "df4 = df3.swaplevel(\"Ridx1\", \"Ridx2\")\n",
    "df4\n",
    "\n",
    "df5 = df3.swaplevel(\"Cidx1\", \"Cidx2\", axis=1)\n",
    "df5"
   ]
  },
  {
   "cell_type": "code",
   "execution_count": 135,
   "metadata": {},
   "outputs": [
    {
     "name": "stdout",
     "output_type": "stream",
     "text": [
      "Cidx1           A           B      \n",
      "Cidx2           C     D     C     D\n",
      "Ridx1 Ridx2                        \n",
      "M     id_1   0.24  0.93  0.61  0.54\n",
      "      id_2   0.59  0.73  0.31  0.40\n",
      "      id_3   0.21  0.19  0.94  0.74\n",
      "F     id_1   0.49  0.23  0.25  0.06\n",
      "      id_2   0.43  0.31  0.70  0.38\n",
      "      id_3   0.18  0.02  0.07  0.68\n",
      "ALL   ALL    2.14  2.41  2.88  2.80\n",
      "===================================\n",
      "Cidx1           A           B      \n",
      "Cidx2           C     D     C     D\n",
      "Ridx1 Ridx2                        \n",
      "ALL   ALL    2.14  2.41  2.88  2.80\n",
      "F     id_1   0.49  0.23  0.25  0.06\n",
      "      id_2   0.43  0.31  0.70  0.38\n",
      "      id_3   0.18  0.02  0.07  0.68\n",
      "M     id_1   0.24  0.93  0.61  0.54\n",
      "      id_2   0.59  0.73  0.31  0.40\n",
      "      id_3   0.21  0.19  0.94  0.74\n",
      "-----------------------------------\n",
      "Cidx1           A           B      \n",
      "Cidx2           C     D     C     D\n",
      "Ridx1 Ridx2                        \n",
      "ALL   ALL    2.14  2.41  2.88  2.80\n",
      "F     id_1   0.49  0.23  0.25  0.06\n",
      "M     id_1   0.24  0.93  0.61  0.54\n",
      "F     id_2   0.43  0.31  0.70  0.38\n",
      "M     id_2   0.59  0.73  0.31  0.40\n",
      "F     id_3   0.18  0.02  0.07  0.68\n",
      "M     id_3   0.21  0.19  0.94  0.74\n",
      "-----------------------------------\n",
      "Cidx1           A     B     A     B\n",
      "Cidx2           C     C     D     D\n",
      "Ridx1 Ridx2                        \n",
      "M     id_1   0.24  0.61  0.93  0.54\n",
      "      id_2   0.59  0.31  0.73  0.40\n",
      "      id_3   0.21  0.94  0.19  0.74\n",
      "F     id_1   0.49  0.25  0.23  0.06\n",
      "      id_2   0.43  0.70  0.31  0.38\n",
      "      id_3   0.18  0.07  0.02  0.68\n",
      "ALL   ALL    2.14  2.88  2.41  2.80\n"
     ]
    }
   ],
   "source": [
    "##### 정렬 : sort_index(level)\n",
    "\n",
    "print(df3)\n",
    "print(\"===================================\")\n",
    "\n",
    "df3.sort_index(level=0)\n",
    "print(df3.sort_index(level=0, axis=0))\n",
    "print(\"-----------------------------------\")\n",
    "\n",
    "print(df3.sort_index(level=1))\n",
    "print(\"-----------------------------------\")\n",
    "\n",
    "# print(df3.sort_index(level=0, axis=1))\n",
    "print(df3.sort_index(level=1, axis=1))"
   ]
  },
  {
   "cell_type": "markdown",
   "metadata": {},
   "source": [
    "#### 3) 실습"
   ]
  },
  {
   "cell_type": "code",
   "execution_count": 136,
   "metadata": {},
   "outputs": [
    {
     "data": {
      "text/html": [
       "<div>\n",
       "<style scoped>\n",
       "    .dataframe tbody tr th:only-of-type {\n",
       "        vertical-align: middle;\n",
       "    }\n",
       "\n",
       "    .dataframe tbody tr th {\n",
       "        vertical-align: top;\n",
       "    }\n",
       "\n",
       "    .dataframe thead th {\n",
       "        text-align: right;\n",
       "    }\n",
       "</style>\n",
       "<table border=\"1\" class=\"dataframe\">\n",
       "  <thead>\n",
       "    <tr style=\"text-align: right;\">\n",
       "      <th></th>\n",
       "      <th>반</th>\n",
       "      <th>번호</th>\n",
       "      <th>국어</th>\n",
       "      <th>영어</th>\n",
       "      <th>수학</th>\n",
       "    </tr>\n",
       "  </thead>\n",
       "  <tbody>\n",
       "    <tr>\n",
       "      <th>0</th>\n",
       "      <td>A</td>\n",
       "      <td>1</td>\n",
       "      <td>79</td>\n",
       "      <td>55</td>\n",
       "      <td>57</td>\n",
       "    </tr>\n",
       "    <tr>\n",
       "      <th>1</th>\n",
       "      <td>A</td>\n",
       "      <td>2</td>\n",
       "      <td>67</td>\n",
       "      <td>77</td>\n",
       "      <td>45</td>\n",
       "    </tr>\n",
       "    <tr>\n",
       "      <th>2</th>\n",
       "      <td>B</td>\n",
       "      <td>1</td>\n",
       "      <td>88</td>\n",
       "      <td>44</td>\n",
       "      <td>76</td>\n",
       "    </tr>\n",
       "    <tr>\n",
       "      <th>3</th>\n",
       "      <td>A</td>\n",
       "      <td>3</td>\n",
       "      <td>68</td>\n",
       "      <td>67</td>\n",
       "      <td>68</td>\n",
       "    </tr>\n",
       "    <tr>\n",
       "      <th>4</th>\n",
       "      <td>B</td>\n",
       "      <td>2</td>\n",
       "      <td>92</td>\n",
       "      <td>86</td>\n",
       "      <td>89</td>\n",
       "    </tr>\n",
       "    <tr>\n",
       "      <th>5</th>\n",
       "      <td>B</td>\n",
       "      <td>3</td>\n",
       "      <td>54</td>\n",
       "      <td>45</td>\n",
       "      <td>67</td>\n",
       "    </tr>\n",
       "    <tr>\n",
       "      <th>6</th>\n",
       "      <td>B</td>\n",
       "      <td>4</td>\n",
       "      <td>67</td>\n",
       "      <td>78</td>\n",
       "      <td>99</td>\n",
       "    </tr>\n",
       "    <tr>\n",
       "      <th>7</th>\n",
       "      <td>A</td>\n",
       "      <td>4</td>\n",
       "      <td>88</td>\n",
       "      <td>58</td>\n",
       "      <td>78</td>\n",
       "    </tr>\n",
       "    <tr>\n",
       "      <th>8</th>\n",
       "      <td>B</td>\n",
       "      <td>5</td>\n",
       "      <td>97</td>\n",
       "      <td>90</td>\n",
       "      <td>89</td>\n",
       "    </tr>\n",
       "    <tr>\n",
       "      <th>9</th>\n",
       "      <td>A</td>\n",
       "      <td>5</td>\n",
       "      <td>85</td>\n",
       "      <td>67</td>\n",
       "      <td>90</td>\n",
       "    </tr>\n",
       "  </tbody>\n",
       "</table>\n",
       "</div>"
      ],
      "text/plain": [
       "   반  번호  국어  영어  수학\n",
       "0  A   1  79  55  57\n",
       "1  A   2  67  77  45\n",
       "2  B   1  88  44  76\n",
       "3  A   3  68  67  68\n",
       "4  B   2  92  86  89\n",
       "5  B   3  54  45  67\n",
       "6  B   4  67  78  99\n",
       "7  A   4  88  58  78\n",
       "8  B   5  97  90  89\n",
       "9  A   5  85  67  90"
      ]
     },
     "execution_count": 136,
     "metadata": {},
     "output_type": "execute_result"
    }
   ],
   "source": [
    "df_score1 = pd.DataFrame({\n",
    "    \"반\":[\"A\", \"A\", \"B\", \"A\", \"B\", \"B\", \"B\", \"A\", \"B\", \"A\"],\n",
    "    \"번호\" : [1, 2, 1, 3, 2, 3, 4, 4, 5, 5],\n",
    "    \"국어\" : [79, 67, 88, 68, 92, 54, 67, 88, 97, 85],\n",
    "    \"영어\" : [55, 77, 44, 67, 86, 45, 78, 58, 90, 67],\n",
    "    \"수학\" : [57, 45, 76, 68, 89, 67, 99, 78, 89, 90]\n",
    "})\n",
    "df_score1"
   ]
  },
  {
   "cell_type": "code",
   "execution_count": null,
   "metadata": {},
   "outputs": [],
   "source": [
    "##### 1. 1차 행 인덱스로 \"반\"을 2차 행 인덱스로 \"번호\"를 가지는 데이터 프레임 작성"
   ]
  },
  {
   "cell_type": "code",
   "execution_count": null,
   "metadata": {},
   "outputs": [],
   "source": [
    "##### 2. 학생의 평균을 나타내는 행을 오른쪽에 추가"
   ]
  },
  {
   "cell_type": "code",
   "execution_count": null,
   "metadata": {},
   "outputs": [],
   "source": [
    "##### 3. 행 인덱스로 \"번호\"를 1차 열 인덱스로 \"국어\", \"영어\", \"수학\"을, 2차 열 인덱스로 \"반\"을 가지는 데이터 프레임 작성"
   ]
  },
  {
   "cell_type": "code",
   "execution_count": null,
   "metadata": {},
   "outputs": [],
   "source": [
    "##### 4. 각 반별 각 과목의 평균을 나타내는 행을 아래에 추가"
   ]
  },
  {
   "cell_type": "markdown",
   "metadata": {},
   "source": [
    "---\n",
    "### 5. 데이터 프레임 합성(병합)\n",
    "\n",
    "+ merge()\n",
    "    - 두 데이터 프레임의 공통 열 또는 인덱스를 기준으로 두 개의 테이블을 합친다.\n",
    "    - 이 때 기준이 되는 열, 행의 데이터를 key라고 한다.\n",
    "    \n",
    "    \n",
    "+ concat()\n",
    "    - 기준열을 사용하지 않고 단순히 데이터를 연결"
   ]
  },
  {
   "cell_type": "markdown",
   "metadata": {},
   "source": [
    "#### 1) merge()"
   ]
  },
  {
   "cell_type": "code",
   "execution_count": 138,
   "metadata": {},
   "outputs": [
    {
     "name": "stdout",
     "output_type": "stream",
     "text": [
      "   고객번호   이름\n",
      "0  1001   둘리\n",
      "1  1002  도우너\n",
      "2  1003   또치\n",
      "3  1004   길동\n",
      "4  1005   희동\n",
      "5  1006  마이콜\n",
      "6  1007   영희\n",
      "=================================================================\n",
      "   고객번호      금액\n",
      "0  1001   10000\n",
      "1  1001   20000\n",
      "2  1005   15000\n",
      "3  1006    5000\n",
      "4  1008  100000\n",
      "5  1001   30000\n"
     ]
    }
   ],
   "source": [
    "df1 = pd.DataFrame({\n",
    "    \"고객번호\":[1001, 1002, 1003, 1004, 1005, 1006, 1007],\n",
    "    \"이름\":[\"둘리\", \"도우너\", \"또치\", \"길동\", \"희동\", \"마이콜\", \"영희\"]\n",
    "})\n",
    "print(df1)\n",
    "print(\"=================================================================\")\n",
    "df2 = pd.DataFrame({\n",
    "    \"고객번호\":[1001, 1001, 1005, 1006, 1008, 1001],\n",
    "    \"금액\":[10000, 20000, 15000, 5000, 100000, 30000]\n",
    "})\n",
    "print(df2)"
   ]
  },
  {
   "cell_type": "code",
   "execution_count": 142,
   "metadata": {},
   "outputs": [
    {
     "data": {
      "text/html": [
       "<div>\n",
       "<style scoped>\n",
       "    .dataframe tbody tr th:only-of-type {\n",
       "        vertical-align: middle;\n",
       "    }\n",
       "\n",
       "    .dataframe tbody tr th {\n",
       "        vertical-align: top;\n",
       "    }\n",
       "\n",
       "    .dataframe thead th {\n",
       "        text-align: right;\n",
       "    }\n",
       "</style>\n",
       "<table border=\"1\" class=\"dataframe\">\n",
       "  <thead>\n",
       "    <tr style=\"text-align: right;\">\n",
       "      <th></th>\n",
       "      <th>고객번호</th>\n",
       "      <th>이름</th>\n",
       "      <th>금액</th>\n",
       "    </tr>\n",
       "  </thead>\n",
       "  <tbody>\n",
       "    <tr>\n",
       "      <th>0</th>\n",
       "      <td>1001</td>\n",
       "      <td>둘리</td>\n",
       "      <td>10000.0</td>\n",
       "    </tr>\n",
       "    <tr>\n",
       "      <th>1</th>\n",
       "      <td>1001</td>\n",
       "      <td>둘리</td>\n",
       "      <td>20000.0</td>\n",
       "    </tr>\n",
       "    <tr>\n",
       "      <th>2</th>\n",
       "      <td>1001</td>\n",
       "      <td>둘리</td>\n",
       "      <td>30000.0</td>\n",
       "    </tr>\n",
       "    <tr>\n",
       "      <th>3</th>\n",
       "      <td>1002</td>\n",
       "      <td>도우너</td>\n",
       "      <td>NaN</td>\n",
       "    </tr>\n",
       "    <tr>\n",
       "      <th>4</th>\n",
       "      <td>1003</td>\n",
       "      <td>또치</td>\n",
       "      <td>NaN</td>\n",
       "    </tr>\n",
       "    <tr>\n",
       "      <th>5</th>\n",
       "      <td>1004</td>\n",
       "      <td>길동</td>\n",
       "      <td>NaN</td>\n",
       "    </tr>\n",
       "    <tr>\n",
       "      <th>6</th>\n",
       "      <td>1005</td>\n",
       "      <td>희동</td>\n",
       "      <td>15000.0</td>\n",
       "    </tr>\n",
       "    <tr>\n",
       "      <th>7</th>\n",
       "      <td>1006</td>\n",
       "      <td>마이콜</td>\n",
       "      <td>5000.0</td>\n",
       "    </tr>\n",
       "    <tr>\n",
       "      <th>8</th>\n",
       "      <td>1007</td>\n",
       "      <td>영희</td>\n",
       "      <td>NaN</td>\n",
       "    </tr>\n",
       "    <tr>\n",
       "      <th>9</th>\n",
       "      <td>1008</td>\n",
       "      <td>NaN</td>\n",
       "      <td>100000.0</td>\n",
       "    </tr>\n",
       "  </tbody>\n",
       "</table>\n",
       "</div>"
      ],
      "text/plain": [
       "   고객번호   이름        금액\n",
       "0  1001   둘리   10000.0\n",
       "1  1001   둘리   20000.0\n",
       "2  1001   둘리   30000.0\n",
       "3  1002  도우너       NaN\n",
       "4  1003   또치       NaN\n",
       "5  1004   길동       NaN\n",
       "6  1005   희동   15000.0\n",
       "7  1006  마이콜    5000.0\n",
       "8  1007   영희       NaN\n",
       "9  1008  NaN  100000.0"
      ]
     },
     "execution_count": 142,
     "metadata": {},
     "output_type": "execute_result"
    }
   ],
   "source": [
    "pd.merge(df1, df2) # inner join\n",
    "pd.merge(df1, df2, how=\"left\")\n",
    "pd.merge(df1, df2, how=\"right\")\n",
    "pd.merge(df1, df2, how=\"outer\") # full outer join"
   ]
  },
  {
   "cell_type": "code",
   "execution_count": 146,
   "metadata": {},
   "outputs": [
    {
     "name": "stdout",
     "output_type": "stream",
     "text": [
      "  고객명          날짜     데이터\n",
      "0  춘향  2019-01-01   20000\n",
      "1  춘향  2019-01-02   30000\n",
      "2  몽룡  2019-01-03  100000\n",
      "------------------------------\n",
      "  고객명 데이터\n",
      "0  춘향  여자\n",
      "1  몽룡  남자\n",
      "==============================\n"
     ]
    },
    {
     "data": {
      "text/html": [
       "<div>\n",
       "<style scoped>\n",
       "    .dataframe tbody tr th:only-of-type {\n",
       "        vertical-align: middle;\n",
       "    }\n",
       "\n",
       "    .dataframe tbody tr th {\n",
       "        vertical-align: top;\n",
       "    }\n",
       "\n",
       "    .dataframe thead th {\n",
       "        text-align: right;\n",
       "    }\n",
       "</style>\n",
       "<table border=\"1\" class=\"dataframe\">\n",
       "  <thead>\n",
       "    <tr style=\"text-align: right;\">\n",
       "      <th></th>\n",
       "      <th>고객명</th>\n",
       "      <th>날짜</th>\n",
       "      <th>데이터_x</th>\n",
       "      <th>데이터_y</th>\n",
       "    </tr>\n",
       "  </thead>\n",
       "  <tbody>\n",
       "    <tr>\n",
       "      <th>0</th>\n",
       "      <td>춘향</td>\n",
       "      <td>2019-01-01</td>\n",
       "      <td>20000</td>\n",
       "      <td>여자</td>\n",
       "    </tr>\n",
       "    <tr>\n",
       "      <th>1</th>\n",
       "      <td>춘향</td>\n",
       "      <td>2019-01-02</td>\n",
       "      <td>30000</td>\n",
       "      <td>여자</td>\n",
       "    </tr>\n",
       "    <tr>\n",
       "      <th>2</th>\n",
       "      <td>몽룡</td>\n",
       "      <td>2019-01-03</td>\n",
       "      <td>100000</td>\n",
       "      <td>남자</td>\n",
       "    </tr>\n",
       "  </tbody>\n",
       "</table>\n",
       "</div>"
      ],
      "text/plain": [
       "  고객명          날짜   데이터_x 데이터_y\n",
       "0  춘향  2019-01-01   20000    여자\n",
       "1  춘향  2019-01-02   30000    여자\n",
       "2  몽룡  2019-01-03  100000    남자"
      ]
     },
     "execution_count": 146,
     "metadata": {},
     "output_type": "execute_result"
    }
   ],
   "source": [
    "##### 키가 여러 개인 경우\n",
    "\n",
    "df1 = pd.DataFrame({\n",
    "    \"고객명\":[\"춘향\", \"춘향\", \"몽룡\"],\n",
    "    \"날짜\":[\"2019-01-01\", \"2019-01-02\", \"2019-01-03\"], \n",
    "    \"데이터\":[\"20000\", \"30000\", \"100000\"]\n",
    "})\n",
    "\n",
    "df2 = pd.DataFrame({\n",
    "    \"고객명\":[\"춘향\", \"몽룡\"],\n",
    "    \"데이터\":[\"여자\", \"남자\"]\n",
    "})\n",
    "\n",
    "print(df1)\n",
    "print(\"------------------------------\")\n",
    "print(df2)\n",
    "\n",
    "print(\"==============================\")\n",
    "\n",
    "pd.merge(df1, df2, on=\"고객명\")"
   ]
  },
  {
   "cell_type": "code",
   "execution_count": 148,
   "metadata": {},
   "outputs": [
    {
     "name": "stdout",
     "output_type": "stream",
     "text": [
      "   이름  성적\n",
      "0  영희   1\n",
      "1  철수   2\n",
      "2  철수   3\n",
      "------------------------------\n",
      "   성명  점수\n",
      "0  영희   4\n",
      "1  영희   5\n",
      "2  철수   6\n",
      "==============================\n"
     ]
    },
    {
     "data": {
      "text/html": [
       "<div>\n",
       "<style scoped>\n",
       "    .dataframe tbody tr th:only-of-type {\n",
       "        vertical-align: middle;\n",
       "    }\n",
       "\n",
       "    .dataframe tbody tr th {\n",
       "        vertical-align: top;\n",
       "    }\n",
       "\n",
       "    .dataframe thead th {\n",
       "        text-align: right;\n",
       "    }\n",
       "</style>\n",
       "<table border=\"1\" class=\"dataframe\">\n",
       "  <thead>\n",
       "    <tr style=\"text-align: right;\">\n",
       "      <th></th>\n",
       "      <th>이름</th>\n",
       "      <th>성적</th>\n",
       "      <th>성명</th>\n",
       "      <th>점수</th>\n",
       "    </tr>\n",
       "  </thead>\n",
       "  <tbody>\n",
       "    <tr>\n",
       "      <th>0</th>\n",
       "      <td>영희</td>\n",
       "      <td>1</td>\n",
       "      <td>영희</td>\n",
       "      <td>4</td>\n",
       "    </tr>\n",
       "    <tr>\n",
       "      <th>1</th>\n",
       "      <td>영희</td>\n",
       "      <td>1</td>\n",
       "      <td>영희</td>\n",
       "      <td>5</td>\n",
       "    </tr>\n",
       "    <tr>\n",
       "      <th>2</th>\n",
       "      <td>철수</td>\n",
       "      <td>2</td>\n",
       "      <td>철수</td>\n",
       "      <td>6</td>\n",
       "    </tr>\n",
       "    <tr>\n",
       "      <th>3</th>\n",
       "      <td>철수</td>\n",
       "      <td>3</td>\n",
       "      <td>철수</td>\n",
       "      <td>6</td>\n",
       "    </tr>\n",
       "  </tbody>\n",
       "</table>\n",
       "</div>"
      ],
      "text/plain": [
       "   이름  성적  성명  점수\n",
       "0  영희   1  영희   4\n",
       "1  영희   1  영희   5\n",
       "2  철수   2  철수   6\n",
       "3  철수   3  철수   6"
      ]
     },
     "execution_count": 148,
     "metadata": {},
     "output_type": "execute_result"
    }
   ],
   "source": [
    "##### 공통된 키가 없는 경우\n",
    "\n",
    "df1 = pd.DataFrame({\n",
    "    \"이름\":[\"영희\", \"철수\", \"철수\"],\n",
    "    \"성적\":[1, 2, 3]\n",
    "})\n",
    "\n",
    "df2 = pd.DataFrame({\n",
    "    \"성명\":[\"영희\", \"영희\", \"철수\"],\n",
    "    \"점수\":[4, 5, 6]\n",
    "})\n",
    "\n",
    "print(df1)\n",
    "print(\"------------------------------\")\n",
    "print(df2)\n",
    "\n",
    "print(\"==============================\")\n",
    "\n",
    "pd.merge(df1, df2, left_on=\"이름\", right_on=\"성명\")"
   ]
  },
  {
   "cell_type": "code",
   "execution_count": 150,
   "metadata": {},
   "outputs": [
    {
     "name": "stdout",
     "output_type": "stream",
     "text": [
      "   도시    연도       인구\n",
      "0  서울  2000  9853972\n",
      "1  서울  2005  9762546\n",
      "2  서울  2010  9631482\n",
      "3  부산  2000  3655437\n",
      "4  부산  2005  3512547\n",
      "------------------------------\n",
      "         데이터1  데이터2\n",
      "부산 2000     0     1\n",
      "   2005     2     3\n",
      "서울 2000     4     5\n",
      "   2005     6     7\n",
      "   2010     8     9\n",
      "   2015    10    11\n",
      "------------------------------\n",
      "===========================================================\n"
     ]
    },
    {
     "data": {
      "text/html": [
       "<div>\n",
       "<style scoped>\n",
       "    .dataframe tbody tr th:only-of-type {\n",
       "        vertical-align: middle;\n",
       "    }\n",
       "\n",
       "    .dataframe tbody tr th {\n",
       "        vertical-align: top;\n",
       "    }\n",
       "\n",
       "    .dataframe thead th {\n",
       "        text-align: right;\n",
       "    }\n",
       "</style>\n",
       "<table border=\"1\" class=\"dataframe\">\n",
       "  <thead>\n",
       "    <tr style=\"text-align: right;\">\n",
       "      <th></th>\n",
       "      <th>도시</th>\n",
       "      <th>연도</th>\n",
       "      <th>인구</th>\n",
       "      <th>데이터1</th>\n",
       "      <th>데이터2</th>\n",
       "    </tr>\n",
       "  </thead>\n",
       "  <tbody>\n",
       "    <tr>\n",
       "      <th>0</th>\n",
       "      <td>서울</td>\n",
       "      <td>2000</td>\n",
       "      <td>9853972</td>\n",
       "      <td>4</td>\n",
       "      <td>5</td>\n",
       "    </tr>\n",
       "    <tr>\n",
       "      <th>1</th>\n",
       "      <td>서울</td>\n",
       "      <td>2005</td>\n",
       "      <td>9762546</td>\n",
       "      <td>6</td>\n",
       "      <td>7</td>\n",
       "    </tr>\n",
       "    <tr>\n",
       "      <th>2</th>\n",
       "      <td>서울</td>\n",
       "      <td>2010</td>\n",
       "      <td>9631482</td>\n",
       "      <td>8</td>\n",
       "      <td>9</td>\n",
       "    </tr>\n",
       "    <tr>\n",
       "      <th>3</th>\n",
       "      <td>부산</td>\n",
       "      <td>2000</td>\n",
       "      <td>3655437</td>\n",
       "      <td>0</td>\n",
       "      <td>1</td>\n",
       "    </tr>\n",
       "    <tr>\n",
       "      <th>4</th>\n",
       "      <td>부산</td>\n",
       "      <td>2005</td>\n",
       "      <td>3512547</td>\n",
       "      <td>2</td>\n",
       "      <td>3</td>\n",
       "    </tr>\n",
       "  </tbody>\n",
       "</table>\n",
       "</div>"
      ],
      "text/plain": [
       "   도시    연도       인구  데이터1  데이터2\n",
       "0  서울  2000  9853972     4     5\n",
       "1  서울  2005  9762546     6     7\n",
       "2  서울  2010  9631482     8     9\n",
       "3  부산  2000  3655437     0     1\n",
       "4  부산  2005  3512547     2     3"
      ]
     },
     "execution_count": 150,
     "metadata": {},
     "output_type": "execute_result"
    }
   ],
   "source": [
    "##### 인덱스를 기준 열로 사용하는 경우(한쪽은 컬럼, 한쪽은 인덱스)\n",
    "\n",
    "df1 = pd.DataFrame({\n",
    "    '도시': ['서울', '서울', '서울', '부산', '부산'],\n",
    "    '연도': [2000, 2005, 2010, 2000, 2005],\n",
    "    '인구': [9853972, 9762546, 9631482, 3655437, 3512547]})\n",
    "print(df1)\n",
    "print(\"------------------------------\")\n",
    "\n",
    "\n",
    "df2 = pd.DataFrame(\n",
    "    np.arange(12).reshape((6, 2)),\n",
    "    index=[['부산', '부산', '서울', '서울', '서울', '서울'],\n",
    "           [2000, 2005, 2000, 2005, 2010, 2015]],\n",
    "    columns=['데이터1', '데이터2'])\n",
    "print(df2)\n",
    "print(\"------------------------------\")\n",
    "df2\n",
    "\n",
    "print(\"===========================================================\")\n",
    "\n",
    "pd.merge(df1, df2, left_on=[\"도시\", \"연도\"], right_index=True)"
   ]
  },
  {
   "cell_type": "code",
   "execution_count": 156,
   "metadata": {
    "scrolled": false
   },
   "outputs": [
    {
     "name": "stdout",
     "output_type": "stream",
     "text": [
      "    서울   부산\n",
      "a  1.0  2.0\n",
      "c  3.0  4.0\n",
      "e  5.0  6.0\n",
      "------------------------------\n",
      "     대구    광주\n",
      "b   7.0   8.0\n",
      "c   9.0  10.0\n",
      "d  11.0  12.0\n",
      "e  13.0  14.0\n",
      "========================================\n"
     ]
    },
    {
     "data": {
      "text/html": [
       "<div>\n",
       "<style scoped>\n",
       "    .dataframe tbody tr th:only-of-type {\n",
       "        vertical-align: middle;\n",
       "    }\n",
       "\n",
       "    .dataframe tbody tr th {\n",
       "        vertical-align: top;\n",
       "    }\n",
       "\n",
       "    .dataframe thead th {\n",
       "        text-align: right;\n",
       "    }\n",
       "</style>\n",
       "<table border=\"1\" class=\"dataframe\">\n",
       "  <thead>\n",
       "    <tr style=\"text-align: right;\">\n",
       "      <th></th>\n",
       "      <th>서울</th>\n",
       "      <th>부산</th>\n",
       "      <th>대구</th>\n",
       "      <th>광주</th>\n",
       "    </tr>\n",
       "  </thead>\n",
       "  <tbody>\n",
       "    <tr>\n",
       "      <th>a</th>\n",
       "      <td>1.0</td>\n",
       "      <td>2.0</td>\n",
       "      <td>NaN</td>\n",
       "      <td>NaN</td>\n",
       "    </tr>\n",
       "    <tr>\n",
       "      <th>b</th>\n",
       "      <td>NaN</td>\n",
       "      <td>NaN</td>\n",
       "      <td>7.0</td>\n",
       "      <td>8.0</td>\n",
       "    </tr>\n",
       "    <tr>\n",
       "      <th>c</th>\n",
       "      <td>3.0</td>\n",
       "      <td>4.0</td>\n",
       "      <td>9.0</td>\n",
       "      <td>10.0</td>\n",
       "    </tr>\n",
       "    <tr>\n",
       "      <th>d</th>\n",
       "      <td>NaN</td>\n",
       "      <td>NaN</td>\n",
       "      <td>11.0</td>\n",
       "      <td>12.0</td>\n",
       "    </tr>\n",
       "    <tr>\n",
       "      <th>e</th>\n",
       "      <td>5.0</td>\n",
       "      <td>6.0</td>\n",
       "      <td>13.0</td>\n",
       "      <td>14.0</td>\n",
       "    </tr>\n",
       "  </tbody>\n",
       "</table>\n",
       "</div>"
      ],
      "text/plain": [
       "    서울   부산    대구    광주\n",
       "a  1.0  2.0   NaN   NaN\n",
       "b  NaN  NaN   7.0   8.0\n",
       "c  3.0  4.0   9.0  10.0\n",
       "d  NaN  NaN  11.0  12.0\n",
       "e  5.0  6.0  13.0  14.0"
      ]
     },
     "execution_count": 156,
     "metadata": {},
     "output_type": "execute_result"
    }
   ],
   "source": [
    "##### 인덱스를 기준 열로 사용하는 경우(둘 다 인덱스인 경우)\n",
    "\n",
    "df1 = pd.DataFrame(\n",
    "    [[1., 2.], [3., 4.], [5., 6.]],\n",
    "    index=['a', 'c', 'e'],\n",
    "    columns=['서울', '부산'])\n",
    "print(df1)\n",
    "print(\"------------------------------\")\n",
    "\n",
    "\n",
    "df2 = pd.DataFrame(\n",
    "    [[7., 8.], [9., 10.], [11., 12.], [13, 14]],\n",
    "    index=['b', 'c', 'd', 'e'],\n",
    "    columns=['대구', '광주'])\n",
    "print(df2)\n",
    "print(\"========================================\")\n",
    "\n",
    "pd.merge(df1, df2, left_index=True, right_index=True)\n",
    "pd.merge(df1, df2, left_index=True, right_index=True, how=\"outer\")\n",
    "\n",
    "# merge 대신에 join() 사용 가능\n",
    "df1.join(df2, how=\"outer\")"
   ]
  },
  {
   "cell_type": "markdown",
   "metadata": {},
   "source": [
    "#### 2) concat()"
   ]
  },
  {
   "cell_type": "code",
   "execution_count": 158,
   "metadata": {},
   "outputs": [
    {
     "name": "stdout",
     "output_type": "stream",
     "text": [
      "A    0\n",
      "B    1\n",
      "dtype: int64\n",
      "A    2\n",
      "B    3\n",
      "C    4\n",
      "dtype: int64\n",
      "==================================\n"
     ]
    },
    {
     "data": {
      "text/plain": [
       "A    0\n",
       "B    1\n",
       "A    2\n",
       "B    3\n",
       "C    4\n",
       "dtype: int64"
      ]
     },
     "execution_count": 158,
     "metadata": {},
     "output_type": "execute_result"
    }
   ],
   "source": [
    "##### Series에서 사용\n",
    "\n",
    "s1 = pd.Series([0, 1], index=[\"A\", \"B\"])\n",
    "s2 = pd.Series([2, 3, 4], index=[\"A\", \"B\", \"C\"])\n",
    "\n",
    "print(s1)\n",
    "print(s2)\n",
    "print(\"==================================\")\n",
    "\n",
    "pd.concat([s1, s2])"
   ]
  },
  {
   "cell_type": "code",
   "execution_count": 162,
   "metadata": {},
   "outputs": [
    {
     "name": "stdout",
     "output_type": "stream",
     "text": [
      "   데이터1  데이터2\n",
      "a     0     1\n",
      "b     2     3\n",
      "c     4     5\n",
      "-------------------------------------\n",
      "   데이터3  데이터4\n",
      "a     5     6\n",
      "c     7     8\n",
      "======================================\n"
     ]
    },
    {
     "data": {
      "text/html": [
       "<div>\n",
       "<style scoped>\n",
       "    .dataframe tbody tr th:only-of-type {\n",
       "        vertical-align: middle;\n",
       "    }\n",
       "\n",
       "    .dataframe tbody tr th {\n",
       "        vertical-align: top;\n",
       "    }\n",
       "\n",
       "    .dataframe thead th {\n",
       "        text-align: right;\n",
       "    }\n",
       "</style>\n",
       "<table border=\"1\" class=\"dataframe\">\n",
       "  <thead>\n",
       "    <tr style=\"text-align: right;\">\n",
       "      <th></th>\n",
       "      <th>데이터1</th>\n",
       "      <th>데이터2</th>\n",
       "      <th>데이터3</th>\n",
       "      <th>데이터4</th>\n",
       "    </tr>\n",
       "  </thead>\n",
       "  <tbody>\n",
       "    <tr>\n",
       "      <th>a</th>\n",
       "      <td>0</td>\n",
       "      <td>1</td>\n",
       "      <td>5.0</td>\n",
       "      <td>6.0</td>\n",
       "    </tr>\n",
       "    <tr>\n",
       "      <th>b</th>\n",
       "      <td>2</td>\n",
       "      <td>3</td>\n",
       "      <td>NaN</td>\n",
       "      <td>NaN</td>\n",
       "    </tr>\n",
       "    <tr>\n",
       "      <th>c</th>\n",
       "      <td>4</td>\n",
       "      <td>5</td>\n",
       "      <td>7.0</td>\n",
       "      <td>8.0</td>\n",
       "    </tr>\n",
       "  </tbody>\n",
       "</table>\n",
       "</div>"
      ],
      "text/plain": [
       "   데이터1  데이터2  데이터3  데이터4\n",
       "a     0     1   5.0   6.0\n",
       "b     2     3   NaN   NaN\n",
       "c     4     5   7.0   8.0"
      ]
     },
     "execution_count": 162,
     "metadata": {},
     "output_type": "execute_result"
    }
   ],
   "source": [
    "##### DataFrame에서 사용\n",
    "\n",
    "df1 = pd.DataFrame(\n",
    "    np.arange(6).reshape(3, 2),\n",
    "    index=['a', 'b', 'c'],\n",
    "    columns=['데이터1', '데이터2'])\n",
    "\n",
    "print(df1)\n",
    "\n",
    "print(\"-------------------------------------\")\n",
    "\n",
    "df2 = pd.DataFrame(\n",
    "    5 + np.arange(4).reshape(2, 2),\n",
    "    index=['a', 'c'],\n",
    "    columns=['데이터3', '데이터4'])\n",
    "\n",
    "print(df2)\n",
    "\n",
    "print(\"======================================\")\n",
    "\n",
    "pd.concat([df1, df2], axis=0)\n",
    "pd.concat([df1, df2], axis=1)"
   ]
  },
  {
   "cell_type": "markdown",
   "metadata": {},
   "source": [
    "---\n",
    "### 6. 피봇 테이블과 그룹 분석\n",
    "\n",
    "+ pivot()\n",
    "    - DataFrame.pivot(index=None, columns=None, values=None)\n",
    "    \n",
    "\n",
    "+ groupby()\n",
    "    - DataFrame.groupby(by=None, axis=0, level=None, as_index=True, \n",
    "        sort=True, group_keys=True, squeeze=`<object object>`, observed=False, dropna=True)\n",
    "    \n",
    "    \n",
    "+ pivot_table()\n",
    "    - DataFrame.pivot_table(values=None, index=None, columns=None, aggfunc='mean', fill_value=None, margins=False, dropna=True, margins_name='All', observed=False)"
   ]
  },
  {
   "cell_type": "code",
   "execution_count": null,
   "metadata": {},
   "outputs": [],
   "source": []
  },
  {
   "cell_type": "code",
   "execution_count": null,
   "metadata": {},
   "outputs": [],
   "source": []
  },
  {
   "cell_type": "code",
   "execution_count": null,
   "metadata": {},
   "outputs": [],
   "source": []
  }
 ],
 "metadata": {
  "kernelspec": {
   "display_name": "Python 3",
   "language": "python",
   "name": "python3"
  },
  "language_info": {
   "codemirror_mode": {
    "name": "ipython",
    "version": 3
   },
   "file_extension": ".py",
   "mimetype": "text/x-python",
   "name": "python",
   "nbconvert_exporter": "python",
   "pygments_lexer": "ipython3",
   "version": "3.8.5"
  }
 },
 "nbformat": 4,
 "nbformat_minor": 4
}
