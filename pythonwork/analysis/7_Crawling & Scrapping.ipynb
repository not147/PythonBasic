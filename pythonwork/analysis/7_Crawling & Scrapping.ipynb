{
 "cells": [
  {
   "cell_type": "code",
   "execution_count": 1,
   "metadata": {},
   "outputs": [],
   "source": [
    "import numpy as np\n",
    "import pandas as pd\n",
    "import matplotlib.pyplot as plt\n",
    "\n",
    "import matplotlib.font_manager as fm\n",
    "font_name = fm.FontProperties(fname=\"C:/Windows/Fonts/malgun.ttf\").get_name()\n",
    "plt.rc(\"font\", family=font_name)\n",
    "\n",
    "import matplotlib as mlp\n",
    "mlp.rcParams[\"axes.unicode_minus\"] = False\n",
    "\n",
    "import seaborn as sns\n",
    "\n",
    "import warnings\n",
    "warnings.filterwarnings(\"ignore\")"
   ]
  },
  {
   "cell_type": "markdown",
   "metadata": {},
   "source": [
    "## XML(Extension Markup Language)\n",
    "\n",
    "https://docs.python.org/3/library/xml.etree.elementtree.html?highlight=xml#xml.etree.ElementTree.XML\n",
    "\n",
    "    1.특징\n",
    "        1) 메타 언어 : GML -> SGML -> XML\n",
    "        2) 데이터를 위한 언어\n",
    "        3) 데이터베이스 용도\n",
    "        4) 데이터 표준화 : 이 기종 시스템간의 정보교환, 웹서비스, 유비쿼터스, 사물인터넷 기타등등...\n",
    "    \n",
    "    2. 문법(물리적인 구성요소)\n",
    "        1) XML(.xml)\n",
    "        2) DTD(.dtd) : XML 작성을 위한 설계문서\n",
    "        3) XML Schema(.xsd) : XML 작성을 위한 설계문서\n",
    "        4) XSL(.xsl, xslt) : XML문서에 스타일을 입혀주는 언어\n",
    "        \n",
    "    3. 결과 문서의 종류\n",
    "        1) Well-Formed XML Document(잘 짜여진 문서)\n",
    "        2) Valid XML Document(유효한 문서)\n",
    "   \n",
    "    4. Element 문법\n",
    "        - 작성 규칙\n",
    "            a) 모든 XML문서는 반드시 단 하나의 루트 엘리먼트를 가진다.\n",
    "            b) 루트 엘리먼트는 여러 개의 자식 엘리먼트를 가질 수 있고\n",
    "                또 그 자식도 자신의 자식을 가질 수 있다.\n",
    "            c) 시작태그와 끝태그는 반드시 짝을 이루어야 한다.\n",
    "            d) \"<\"는 값으로 사용 불가. \">\"는 사용할 수 있으나 가급적 사용 금지\n",
    "            e) \"<\"와 \">\" 다음에 공백문자가 올 수 없으며 반드시 시작태그와 끝태그의 이름이 같아야 한다.\n",
    "\n",
    "        - 종류\n",
    "            a) 내용을 가지는 엘리먼트\n",
    "            b) 내용이 없는 엘리먼트\n",
    "\n",
    "        - 내용에 대한 종류\n",
    "            a) 문자 데이터\n",
    "            b) 자식 엘리먼트\n",
    "            c) 엔티티 또는 문자 참조\n",
    "            d) CDATA Section\n",
    "            e) 프로세싱 지시자\n",
    "            f) 주석 : <!-- 주석 내용 -->\n",
    "            g) 공백 문자열\n",
    "\n",
    "    5. DTD \n",
    "        - 종류\n",
    "            내부 DTD\n",
    "            외부 DTD\n",
    "        \n",
    "        - 구성 요소\n",
    "            엘리먼트 선언\n",
    "            속성(attribute) 선언\n",
    "            Entity 선언\n",
    "            Notation 선언\n",
    "            프로세싱 지시자\n",
    "            파라미터 엔티티 참조\n",
    "            주석\n",
    "            공백\n",
    "            conditional section\n",
    "\n",
    "        - 문서 유형 선언\n",
    "            <!DOCTYPE 루트엘리먼트명 SYSTEM 또는 PUBLIC \"식별자\">\n",
    "                DOCTYPE은 반드시 대문자\n",
    "                SYSTEM은 특정 단체나 업체내부에서 사용되는 경우\n",
    "                PUBLIC은 공개\n",
    "                식별자는 다운로드 받을 수 있는 경로\n",
    "                PUBLIC일 경우 추가된 식별자\n",
    "                +-//DTD를 개발 및 유지보수 업체명//DTD명 및 버전번호//사용된 언어\n",
    "\n",
    "        - 엘리먼트 선언\n",
    "            <!ELEMENT 엘리먼트명 컨텐트 유형>\n",
    "                컨텐트 유형\n",
    "                    #PCDATA\t: 내용으로 문자데이터만 갖는 엘리먼트\n",
    "                    자식 엘리먼트\n",
    "                        , : 작성 순서\n",
    "                        | : 선택\n",
    "                        ? : 생략하거나 한번만 작성\n",
    "                        + : 한번 이상\n",
    "                        * : 생략하거나 여러번 작성\n",
    "                        기호 없음 : 단 한번만 작성\n",
    "                    EMPTY\n",
    "                    MIXED : 문자데이터 또는 자식엘리먼트를 혼합형태\n",
    "                    ANY\n",
    "\n",
    "        - ATTRIBUTE 선언\n",
    "            <!ATTLIST 엘리먼트명 속성명 속성유형 디폴트선언>\n",
    "                속성 유형\n",
    "                    CDATA :  문자 데이터\n",
    "                    ENUMERATION\t: dtd에 나열된 값 중 하나가 와야 함\n",
    "                    ID : 유일한 값을 지정\n",
    "                    IDREF/IDREFS : ID값을 참조\n",
    "                    NMTOKEN/NMTOKENS : 이름 작성 규칙을 준수하는 데이터만 사용\n",
    "                    NOTATION : dtd에 명시적으로 선언된 notation만 사용가능\n",
    "                    ENTITY : dtd에 명시적으로 선언된 entity만 사용 가능\n",
    "                    \n",
    "        - validation check\n",
    "            https://www.xmlvalidation.com/\n",
    "\n",
    "    6. 네임 스페이스\n",
    "        CML\n",
    "        -----\n",
    "            <?xml version=1.0>\n",
    "            <정보>\n",
    "                <고유번호>111111-1111111</고유번호>\n",
    "                <이름>홍길동</이름>\n",
    "                ...\n",
    "            </정보>\n",
    "\n",
    "        PML\n",
    "        -----\n",
    "            <?xml version=1.0>\n",
    "            <정보>\n",
    "                <고유번호>LC100</고유번호>\n",
    "                <이름>캠코더</이름>\n",
    "                ...\n",
    "            </정보>\n",
    "\n",
    "        OML\n",
    "        -----\n",
    "            <?xml version=1.0>\n",
    "            <주문정보 xmlns:고객=\"http://www.a.com/2017/Custom\"\n",
    "                xmlns:상품=\"http://www.a.com/2017/Product\"\n",
    "                xmlns=\"http://www.a.com/2017/Order\">\n",
    "                <주문번호>1</주문번호>\n",
    "                <주문수량>10</주문수량>\n",
    "                <결제>\n",
    "                    <방법>현금</방법>\n",
    "                    <금액>10000000</금액>\n",
    "                </결제>\n",
    "\n",
    "                <고객:고유번호>111111-1111111</고객:고유번호>\n",
    "                <고객:이름>홍길동</고객:이름>\n",
    "\n",
    "                <상품:고유번호>LC100</상품:고유번호>\n",
    "                <상품:이름>캠코더</상품:이름>\n",
    "                ...\n",
    "            </주문정보>"
   ]
  },
  {
   "cell_type": "code",
   "execution_count": 1,
   "metadata": {},
   "outputs": [],
   "source": [
    "import xml.etree.ElementTree as elemTree\n",
    "\n",
    "##### XML을 사용하는 방법\n",
    "# 1. XML파일로 존재하는 경우 : parse()\n",
    "# 2. XML 문자열로 존재하는 경우 : fromstring()"
   ]
  },
  {
   "cell_type": "markdown",
   "metadata": {},
   "source": [
    "### 1. XML 데이터 불러오기"
   ]
  },
  {
   "cell_type": "code",
   "execution_count": 2,
   "metadata": {},
   "outputs": [
    {
     "data": {
      "text/plain": [
       "<xml.etree.ElementTree.ElementTree at 0x279340864f0>"
      ]
     },
     "execution_count": 2,
     "metadata": {},
     "output_type": "execute_result"
    }
   ],
   "source": [
    "tree1 = elemTree.parse(\"data/users.xml\")\n",
    "tree1"
   ]
  },
  {
   "cell_type": "code",
   "execution_count": 13,
   "metadata": {},
   "outputs": [
    {
     "data": {
      "text/plain": [
       "<Element 'users' at 0x00000279340C2CC0>"
      ]
     },
     "execution_count": 13,
     "metadata": {},
     "output_type": "execute_result"
    }
   ],
   "source": [
    "xmlstr = \"\"\"<?xml version=\"1.0\" encoding=\"utf-8\" ?>\n",
    "<users>\n",
    "    <user grade=\"gold\">\n",
    "            <name>Kim Cheol Soo</name>\n",
    "            <age>25</age>\n",
    "            <birthday>19940215</birthday>\n",
    "        </user>\n",
    "    <user grade=\"diamond\">\n",
    "            <name>Kim Yoo Mee</name>\n",
    "            <age>21</age>\n",
    "            <birthday>19980417</birthday>\n",
    "        </user>\n",
    "</users>\n",
    "\"\"\"\n",
    "\n",
    "tree2 = elemTree.fromstring(xmlstr)\n",
    "tree2"
   ]
  },
  {
   "cell_type": "markdown",
   "metadata": {},
   "source": [
    "### 2. XML 데이터 다루기"
   ]
  },
  {
   "cell_type": "markdown",
   "metadata": {},
   "source": [
    "#### 1) 태그명 검색"
   ]
  },
  {
   "cell_type": "code",
   "execution_count": 19,
   "metadata": {},
   "outputs": [
    {
     "name": "stdout",
     "output_type": "stream",
     "text": [
      "<Element 'user' at 0x0000027934090180>\n",
      "<class 'xml.etree.ElementTree.Element'>\n",
      "user\n",
      "{'grade': 'gold'}\n",
      "gold\n",
      "---------------------------------\n",
      "name\n",
      "{}\n",
      "Kim Cheol Soo\n",
      "---------------------------------\n",
      "age\n",
      "{}\n",
      "25\n"
     ]
    }
   ],
   "source": [
    "# data = tree1.find(\"user\")\n",
    "# data = tree1.find(\"user[1]\")\n",
    "data = tree1.find(\"user[2]\")\n",
    "\n",
    "##### Xpath : ./, ../, ...\n",
    "data = tree1.find(\"./user[1]\")\n",
    "\n",
    "print(data)\n",
    "print(type(data))\n",
    "dir(data)\n",
    "print(data.tag)\n",
    "print(data.attrib)\n",
    "print(data.get(\"grade\"))\n",
    "\n",
    "print(\"---------------------------------\")\n",
    "\n",
    "username = data.find(\"name\")\n",
    "print(username.tag)\n",
    "print(username.attrib)\n",
    "print(username.text)\n",
    "\n",
    "print(\"---------------------------------\")\n",
    "\n",
    "username = data.find(\"age\")\n",
    "print(username.tag)\n",
    "print(username.attrib)\n",
    "print(username.text)"
   ]
  },
  {
   "cell_type": "markdown",
   "metadata": {},
   "source": [
    "#### 2) 태그 조건으로 검색"
   ]
  },
  {
   "cell_type": "code",
   "execution_count": 27,
   "metadata": {},
   "outputs": [
    {
     "name": "stdout",
     "output_type": "stream",
     "text": [
      "{'grade': 'diamond'}\n",
      "['grade']\n",
      "[('grade', 'diamond')]\n"
     ]
    }
   ],
   "source": [
    "# data = tree1.find(\"./user[@grade]\")\n",
    "# data = tree1.find(\"./user[@grade][1]\")\n",
    "# data = tree1.find(\"./user[@grade][2]\")\n",
    "data = tree1.find(\"./user[@grade='diamond']\")\n",
    "\n",
    "print(data.attrib)\n",
    "print(data.keys())\n",
    "print(data.items())"
   ]
  },
  {
   "cell_type": "markdown",
   "metadata": {},
   "source": [
    "#### 3) 여러 개의 태그를 한꺼번에 가져오기"
   ]
  },
  {
   "cell_type": "code",
   "execution_count": 29,
   "metadata": {},
   "outputs": [
    {
     "name": "stdout",
     "output_type": "stream",
     "text": [
      "{'grade': 'gold'}\n",
      "Kim Cheol Soo\n",
      "{'grade': 'diamond'}\n",
      "Kim Yoo Mee\n"
     ]
    }
   ],
   "source": [
    "users = tree1.findall(\"./user\")\n",
    "users\n",
    "\n",
    "for user in users:\n",
    "    print(user.attrib)\n",
    "    print(user.find(\"name\").text)"
   ]
  },
  {
   "cell_type": "markdown",
   "metadata": {},
   "source": [
    "#### 4) document sample"
   ]
  },
  {
   "cell_type": "code",
   "execution_count": 45,
   "metadata": {},
   "outputs": [],
   "source": [
    "str = \"\"\"<?xml version=\"1.0\"?>\n",
    "<data>\n",
    "    <country name=\"Liechtenstein\">\n",
    "        <rank>1</rank>\n",
    "        <year>2008</year>\n",
    "        <gdppc>141100</gdppc>\n",
    "        <neighbor name=\"Austria\" direction=\"E\"/>\n",
    "        <neighbor name=\"Switzerland\" direction=\"W\"/>\n",
    "    </country>\n",
    "    <country name=\"Singapore\">\n",
    "        <rank>4</rank>\n",
    "        <year>2011</year>\n",
    "        <gdppc>59900</gdppc>\n",
    "        <neighbor name=\"Malaysia\" direction=\"N\"/>\n",
    "    </country>\n",
    "    <country name=\"Panama\">\n",
    "        <rank>68</rank>\n",
    "        <year>2011</year>\n",
    "        <gdppc>13600</gdppc>\n",
    "        <neighbor name=\"Costa Rica\" direction=\"W\"/>\n",
    "        <neighbor name=\"Colombia\" direction=\"E\"/>\n",
    "    </country>\n",
    "</data>\n",
    "\"\"\"\n",
    "\n",
    "tree3 = elemTree.fromstring(str)"
   ]
  },
  {
   "cell_type": "code",
   "execution_count": 46,
   "metadata": {},
   "outputs": [
    {
     "name": "stdout",
     "output_type": "stream",
     "text": [
      "Malaysia\n",
      "========================================\n",
      "W\n",
      "========================================\n",
      "141100\n",
      "========================================\n",
      "59900\n",
      "========================================\n",
      "13600\n",
      "========================================\n",
      "Austria\n",
      "Switzerland\n",
      "========================================\n",
      "Malaysia\n",
      "========================================\n",
      "Costa Rica\n",
      "Colombia\n",
      "========================================\n"
     ]
    }
   ],
   "source": [
    "# Singapore에 있는 이웃나라 이름은? Malaysia\n",
    "# Panama에 있는 이웃나라 중 Costa Rica의 방향은? W\n",
    "# 각 나라의 gdppc를 조회\n",
    "# 각 나라의 인접국가 조회\n",
    "\n",
    "# 1\n",
    "data = tree3.find(\"./country[@name = 'Singapore']\")\n",
    "username = data.find(\"neighbor\")\n",
    "print(username.get(\"name\"))\n",
    "print(\"=\"*40)\n",
    "\n",
    "# 2\n",
    "\n",
    "data = tree3.find(\"./country[@name = 'Panama']\")\n",
    "username = data.find(\"neighbor[@name = 'Costa Rica']\")\n",
    "print(username.get(\"direction\"))\n",
    "print(\"=\"*40)\n",
    "\n",
    "# 3\n",
    "\n",
    "countrys = tree3.findall(\"./country\")\n",
    "countrys\n",
    "\n",
    "for country in countrys:\n",
    "    username = country.find(\"gdppc\")\n",
    "    print(username.text)\n",
    "    print(\"=\"*40)\n",
    "\n",
    "# 4\n",
    "\n",
    "countrys = tree3.findall(\"./country\")\n",
    "countrys\n",
    "\n",
    "for country in countrys:\n",
    "    username = country.findall(\"neighbor\")\n",
    "    for user in username:\n",
    "        print(user.get(\"name\"))\n",
    "\n",
    "    print(\"=\"*40)\n"
   ]
  },
  {
   "cell_type": "code",
   "execution_count": 42,
   "metadata": {
    "collapsed": true
   },
   "outputs": [
    {
     "data": {
      "text/plain": [
       "'<?xml version=\"1.0\" encoding=\"utf-8\" ?>\\r\\n\\t\\t<rss version=\"2.0\" xmlns:dc=\"http://purl.org/dc/elements/1.1/\" xmlns:sy=\"http://purl.org/rss/1.0/modules/syndication/\" xmlns:admin=\"http://webns.net/mvcb/\" xmlns:rdf=\"http://www.w3.org/1999/02/22-rdf-syntax-ns#\">\\r\\n\\t\\t<channel>\\r\\n\\t\\t\\t<title>헬스경향 - 전체기사</title>\\r\\n\\t\\t\\t<link>http://www.k-health.com</link>\\r\\n\\t\\t\\t<description>헬스경향</description>\\r\\n\\t\\t\\t<language>ko</language>\\r\\n\\t\\t\\t<copyright>Copyright (c) www.k-health.com All rights reserved</copyright>\\r\\n\\t\\t\\t<lastBuildDate>2021-06-08 11:39:45</lastBuildDate>\\r\\n\\t\\t<item>\\r\\n\\t\\t\\t<title>유한킴벌리 “숙면의 소중함 되새겨요”</title>\\r\\n\\t\\t\\t<link>http://www.k-health.com/news/articleView.html?idxno=54058</link>\\r\\n\\t\\t\\t<section_code>S1N11</section_code><sub_section_code>S2N45</sub_section_code><serial_code>S1N11</serial_code>\\r\\n\\t\\t\\t<description><![CDATA[유한킴벌리가 20일까지 SNS를 통해 &lsquo;제 6회 우리 강산 푸르게 푸르게(우푸푸) 랜선 숲 속 꿀잠대회&rsquo; 지원자를 모집한다.\\r\\n\\r\\n\\r\\n\\r\\n유한킴벌리가 8일 &lsquo;제 6회 우리 강산 푸르게 푸르게(우푸푸) 랜선 숲 속 꿀잠대회&rsquo; 지원자를 모집한다고 밝혔다. \\r\\n\\r\\n숙면을 취할 자신이 있는 사람이라면 누구나 참여할 수 있으며 20일까지 우푸푸 인스타그램 또는 우푸푸 페이스북에서 지원하면 된다. \\r\\n\\r\\n꿀잠대회는 수면부족에 시달리는 바쁜 청년들에게 잠의 소중함과 숲이 주는 치유력을 되새기자는 취지로 2016년부터 진행되고 있다. \\r\\n\\r\\n이번 꿀잠대회는 코로나19 상황을 고려해 비대면 방식으로 실시간 중계된다. 참가자는 방역수칙 준수 하에 숲 속, 캠핑장, 차안, 방 등 가장 편한 장소에서 숙면을 취하는 방식이다.&nbsp;\\r\\n\\r\\n미밴드5를 통해 수면점수를 평가하며 상위 10명에게는 백화점상품권, 캠핑숙박권 등을 지급한다. 단 경쟁보다는 함께 즐기자는 의미에서 최종우승자 한 명은 무작위 추첨으로 선발한다. \\r\\n\\r\\n&nbsp;]]></description>\\r\\n\\t\\t\\t<author>김보람 기자</author>\\r\\n\\t\\t\\t<pubDate>2021-06-08 11:36:48</pubDate>\\r\\n\\t\\t\\t</item>\\r\\n\\t\\t\\t<item>\\r\\n\\t\\t\\t<title>고운세상코스메틱 &quot;친환경경영 힘쓸 것&quot;</title>\\r\\n\\t\\t\\t<link>http://www.k-health.com/news/articleView.html?idxno=54057</link>\\r\\n\\t\\t\\t<section_code>S1N13</section_code><sub_section_code>S2N75</sub_section_code><serial_code>S1N13</serial_code>\\r\\n\\t\\t\\t<description><![CDATA[고운세상코스메틱이 최근 탈플라스틱 실천의 일환으로&nbsp;&lsquo;고고챌린지&rsquo;에 참여했다.\\r\\n\\r\\n\\r\\n\\r\\n고운세상코스메틱이 8일 생활 속 플라스틱 줄이기를 위한 &lsquo;고고챌린지&rsquo;에 동참한다고 8일 밝혔다.\\r\\n\\r\\n고고챌린지는 환경부가 시작한 &lsquo;생활 속 탈(脫)플라스틱&#39; 실천운동이다. 생활 속에서 하지 말아야 할 행동과 할 수 있는 행동을 한 가지씩 약속하고 다음 주자를 지목하는 방식이다.\\r\\n\\r\\n한국콜마 안병준 대표에게 지목을 받은 고운세상코스메틱 이주호 부사장은 다음 주자로 클리오 윤성훈 부사장을 지목했다. 또 전 임직원과 함께 페트병 사용을 줄이고 친환경 소재의 제품 및 포장재를 확대할 것을 약속했다.\\r\\n\\r\\n고운세상코스메틱에 따르면 약속 이행을 위해 임직원에 페트병 생수 제공을 중단하고&nbsp;&#39;모베러웍스(Mobetterworks)&rsquo;와 제작한 친환경물품 &lsquo;제로 웨이스트 비기너 세트&rsquo;를 전 직원에게 제공했다.\\r\\n\\r\\n소비자들의 참여를 독려하기 위해 인스타그램 이벤트도&nbsp;13일까지 진행한다. 닥터지 공식 인스타그램에 생활 속 플라스틱을 줄이기 위한 실천 방법을 댓글로 달면 추첨을 통해 15명에게 제로 웨이스트 비기너 세트를 증정한다.\\r\\n\\r\\n이주호 부사장은 &ldquo;전 세계적으로 환경문제에 대한 관심이 매우 높은 가운데 플라스틱 사용을 줄이도록 권장하는 이번 고고챌린지에 동참하해 매우 기쁘다&rdquo;며 &ldquo;앞으로도 친환경 소재를 적용한 제품을 다양하게 선보이며 소비자들과 함께 착한 소비를 촉진하고&nbsp;친환경경영을 강화해 나가겠다&rdquo;라고 밝혔다.]]></description>\\r\\n\\t\\t\\t<author>김보람 기자</author>\\r\\n\\t\\t\\t<pubDate>2021-06-08 10:34:15</pubDate>\\r\\n\\t\\t\\t</item>\\r\\n\\t\\t\\t<item>\\r\\n\\t\\t\\t<title>[반려동물 건강이야기] 몸의 이상을 알려주는 신호 ‘강아지 탈모’</title>\\r\\n\\t\\t\\t<link>http://www.k-health.com/news/articleView.html?idxno=54056</link>\\r\\n\\t\\t\\t<section_code>S1N4</section_code><sub_section_code>S2N46</sub_section_code><serial_code>S1N4</serial_code>\\r\\n\\t\\t\\t<description><![CDATA[장봉환 굿모닝펫동물병원 대표원장\\r\\n\\r\\n\\r\\n강아지에게는 몸에서 털이 많이 빠지는&nbsp;털갈이 시기가 있어 탈모와 털갈이를 혼동하는 보호자가 많다. 반려견을 키우면서 강아지 털이 여기저기 흩날리면 &lsquo;벌써 털갈이 시기가 돌아왔나?&rsquo; 하며 대수롭지 않게 여기는 것도 사실이다. 하지만 털이 빠진 부위에서 다시 새로운 털이 자라지 않는다면 탈모를 의심해봐야 한다.\\r\\n\\r\\n탈모는 다양한 원인으로 털이 있어야 하는 부분에 털이 나지 않는 증상이다.&nbsp;이는 강아지 몸에 나타난 이상을 알아차릴 수 있게 해준다. 탈모를 치료하기 위해서는 원인에 대해 알고 그에 맞는 치료가 필요하다. 이번 칼럼에서는 강아지 탈모의 다양한 원인과 그에 따른 특징에 대해 알아보자.\\r\\n\\r\\n①호르몬성 질환\\r\\n\\r\\n갑상선기능저하증 또는 부신피질기능항진증(쿠싱증후군) 등의 호르몬성 질환으로 탈모가 발생하면 좌우대칭으로 털이 빠지는 특징을 보인다. 또 탈모와 함께 피부가 거칠어지고 털이 버석거리며 윤기를 잃는 증상도 함께 나타난다. 이 경우 전반적인 내과검사가 필요할 수 있고 원인에 따른 치료가 요구된다.\\r\\n\\r\\n②감염성 질환\\r\\n\\r\\n곰팡이균, 모낭충, 진드기, 벼룩 등에 감염돼 탈모가 발생하면 해당 부위에 부분적으로 상당히 많은 털이 빠지게 된다. 특히 피부사상균증(링웜)의 경우에는 동그란 모양으로 털이 빠지는 원형탈모가 특징적으로 나타난다. 평소 기생충 예방약을 통해 미리 예방할 수 있으니 미리미리 기생충 예방약을 복용하는 것을 추천한다.\\r\\n\\r\\n③알레르기\\r\\n\\r\\n사료를 바꾸고 나서 특정 원료로 인해 발생하는 식이 알레르기, 꽃가루 등과 같이 주변 환경에 의해 발생하는 환경 알레르기로 탈모가 발생하기도 한다. 알레르기로 생긴 탈모는 흔히 간지러움이 동반되는 편으로 해당 부위를 수시로 긁거나 핥는 증상도 함께 나타난다. 정확한 알레르기의 원인을 밝히기 위해서는 반드시 수의사와의 상담이 필요하다.\\r\\n\\r\\n이외에도 스트레스나, 영양 결핍, 면역력 저하 등에 의해서도 탈모가 나타날 수 있고 간혹 미용을 하고 난 후에도 탈모가 생길 수 있다. 강아지 탈모는 이렇게 다양한 원인으로 나타날 수 있으니 해당 증상이 나타나면 동물병원으로 내원해 탈모의 원인을 진단받고 빠르게 치료를 시작해야 한다.\\r\\n\\r\\n평소 반려견의 털을 빗질할 때 이곳저곳 살피며 몸에 탈모가 생겼는지 확인해주는 것이 좋다. 털의 상태가 평소와 다른지 잘 살피고 이상이 있다면 탈모 부위가 점점 더 커지기 전에 조기에 관리해주길 바란다.]]></description>\\r\\n\\t\\t\\t<author>장봉환 굿모닝펫동물병원 대표원장 l 정리·김보람 기자</author>\\r\\n\\t\\t\\t<pubDate>2021-06-08 09:28:24</pubDate>\\r\\n\\t\\t\\t</item>\\r\\n\\t\\t\\t<item>\\r\\n\\t\\t\\t<title>동아에스티, 온라인 심포지엄 ‘KDW 2021’개최</title>\\r\\n\\t\\t\\t<link>http://www.k-health.com/news/articleView.html?idxno=54055</link>\\r\\n\\t\\t\\t<section_code>S1N11</section_code><sub_section_code>S2N42</sub_section_code><serial_code>S1N11</serial_code>\\r\\n\\t\\t\\t<description><![CDATA[동아에스티가 전국의 의료진들을 대상으로 온라인 심포지엄 KDW 2021을 개최한다.\\r\\n\\r\\n\\r\\n\\r\\n동아에스티는 8일 전국의 의료진들을 대상으로 온라인 심포지엄 &lsquo;Korea Kisease Week(KDW) 2021&rsquo;을 개최한다고 밝혔다.\\r\\n\\r\\n이번 행사 주제는 기존의 제품 중심의 강의에서 탈피, 질환 중심의 강의로 구성됐으며 14일부터 18일까지 총 5일간 19시부터 진행된다.\\r\\n\\r\\n동아에스티는 다양한 정보 제공을 위해 질환 별로 최신 지견을 포함하는 총 20개의 강의가 준비됐으며 참여하는 의료진들이 관심분야에 따라 필요한 강의를 자유롭게 선택할 수 있도록 매일 2채널로 나눠 운영된다. 또 주제별 강연자들에게 사전에 질문을 등록할 수 있어 강의자와 시청자 간 충실한 질의응답을 주고받을 수 있다.\\r\\n\\r\\n행사의 상세 내용 확인과 사전 참가신청은 KDW 2021 온라인 홈페이지에서 가능하다. 사전등록을 진행한 의료진에게는 이메일과 문자로 접속가능한 행사홈페이지 URL이 통보될 예정이다.\\r\\n\\r\\n동아에스티 관계자는 &ldquo;온라인 심포지엄 KDW 2021은 진료현장에서 꼭 필요한 실전 강의 위주로 진행될 예정이다&rdquo;며 &ldquo;코로나19의 국가적 위기상황에서도 묵묵히 국민건강을 위해 헌신하고 있는 의료진들에게 이번 행사가 최신 의료지견을 접하는 소중한 기회가 되기를 희망한다&rdquo;고 말했다.]]></description>\\r\\n\\t\\t\\t<author>이원국 기자</author>\\r\\n\\t\\t\\t<pubDate>2021-06-08 09:23:52</pubDate>\\r\\n\\t\\t\\t</item>\\r\\n\\t\\t\\t<item>\\r\\n\\t\\t\\t<title>[한진우의 TV속 먹거리담론] 초밥에 필수 ‘염교’! 효능은?</title>\\r\\n\\t\\t\\t<link>http://www.k-health.com/news/articleView.html?idxno=54052</link>\\r\\n\\t\\t\\t<section_code>S1N4</section_code><sub_section_code>S2N46</sub_section_code><serial_code>S1N4</serial_code>\\r\\n\\t\\t\\t<description><![CDATA[한진우 인산한의원 원장\\r\\n\\r\\n\\r\\n초밥 먹을 때면 빠지지 않는 반찬이 있으니 바로 염교다. 염교는 부추속에 속하는 식물로 돼지파라고도 부른다. 일본에서는 매운 부추라는 뜻의 한자 이름을 랏쿄(辣韮)라고 발음하며&nbsp;이를 우리나라에서는 락교라고 부르는 것이다. 엄밀히 말하면 락교는 염교의 알뿌리를 식초에 절인 음식이다.\\r\\n\\r\\n한의학에서는 염교를 해(薤) 또는 해채(薤菜)라 불렀고 허(虛)한 것을 보(補)하는 기능이 있다고 설명한다. 이질(痢疾)이 있어 심한 설사를 할 때 염교로 죽을 쒀 먹기도 했다. 뱃속의 나쁜 기운을 제거하는 효능을 이용한 것이다.\\r\\n\\r\\n염교는 영양학적으로 칼륨, 칼슘 등 미네랄이 풍부하고 비타민 C도 다량 함유돼있다. 황화아릴이 많아&nbsp;피로해소과 활력증진에 도움이 된다.\\r\\n\\r\\n초밥 음식점에서만 먹던 염교 초절임을 만들어 먹어보자. 염교를 구입해 깨끗이 씻은 후 희 알뿌리(대가리)만 잘라 사용한다. 식초, 설탕, 소금, 맛술 등을 섞어 절임 물을 만든 후 염교에 부어 3일정도 스며들 시간만 기다리면 완성이다. 3일 후에 먹을 수 있지만 날짜가 지나면서 맛이 달라질 수 있으니 날짜별로 달라지는 맛을 즐기고 기록해보면 재미도 있을 것이다.]]></description>\\r\\n\\t\\t\\t<author>한진우 인산한의원 원장ㅣ정리·김보람 기자</author>\\r\\n\\t\\t\\t<pubDate>2021-06-08 09:21:00</pubDate>\\r\\n\\t\\t\\t</item>\\r\\n\\t\\t\\t<item>\\r\\n\\t\\t\\t<title>[눈치백단 캠페인 백내장 이야기] ⑤고령 백내장환자, 동반 안질환 조기발견해야 하는 이유</title>\\r\\n\\t\\t\\t<link>http://www.k-health.com/news/articleView.html?idxno=54051</link>\\r\\n\\t\\t\\t<section_code>S1N4</section_code><sub_section_code>S2N46</sub_section_code><serial_code>S1N4</serial_code>\\r\\n\\t\\t\\t<description><![CDATA[성경림 서울아산병원 안과 교수\\r\\n\\r\\n\\r\\n\\r\\n대한안과학회의 국내 조사에 따르면 70세&nbsp;이상 고령에서의 백내장 발병률은 무려 92.7%에 달한다1). 필자의 병원을 찾는 백내장환자도 대부분 70세&nbsp;이상의 고령환자다. 무엇보다 고령층 백내장수술 시에는 유의할 점이 한 가지 더 있다. 바로 &lsquo;백내장 이외의 다른 안질환을 동반하고 있는지&rsquo;다.\\r\\n\\r\\n고령의 백내장환자들은 녹내장이나 기타 망막질환 등을 보유하고 있는 경우가 많은데 특히 백내장과 녹내장을 함께 앓고 있는 환자들이 많다2). 백내장의 진행과정에서 녹내장이 유발될 확률도 있고 녹내장 치료에 사용되는 약물이나 수술이 백내장발생률을 증가시키기 때문이다2).\\r\\n\\r\\n문제는 녹내장 같은 동반 안질환이 있으면 환자의 망막기능이 전반적으로 저하돼 있어 일반적인 백내장수술보다 과정이 어렵고 수술결과도 기대에 못 미치는 경우가 발생한다는 것이다.\\r\\n\\r\\n실제로 국내의 한 연구에 따르면 백내장수술 후 시력이 스넬른 차트(시력 검사표의 일종) 기준으로 20/40 이상인(우리나라 시력 검사표 기준 약 0.5) 환자 비율을 확인했을 때 동반 안질환이 없는 경우 67.9%, 동반 안질환이 있는 경우 58.3%로 동반 안질환이 있는 환자군에서 시력이 더 나은 환자의 비율이 유의하게 낮았다3).\\r\\n\\r\\n하지만 녹내장 등 다른 안질환이 동반된 백내장환자라도 광학적 조건이 적합한 인공수정체를 사용하면 수술 후에도 보다 선명한 시야를 누릴 수 있다.\\r\\n\\r\\n예컨대 망막기능이 저하돼 있으면 망막에 초점이 맺힐 때 약간의 오차가 발생할 수 있는데 이를 줄여주는 기술이 적용된 인공수정체를 고려해 볼 수 있다. 또 사물의 명암과 색의 진하기 등을 보다 잘 구별할 수 있게 해주는 기능을 갖춘 인공수정체도 있다.&nbsp;\\r\\n\\r\\n다만 백내장환자나 가족은 이러한 인공수정체에 대한 정보를 얻는 데 한계가 있을 수밖에 없다. 따라서 사전에 전문의와 면밀한 상담을 통해 자신에게 맞는 올바른 수술법과 인공수정체에 대해 알아볼 것을 권장한다.\\r\\n\\r\\n무엇보다 가장 좋은 것은 정기적인 안과검진을 통해 본인에게 동반된 안질환을 조기에 발견하고 적절히 치료하는 것이다. 백내장은 눈이 노화되면서 자연스럽게 발생하며 수술로 치료할 수 있지만 다른 안질환이 동반될 경우 치료결과가 나빠질 수 있다는 점을 명심해야&nbsp;한다. 평소 눈 건강을 정기적으로 점검해 다른 안질환을 예방한다면 백내장이 발생해도 수술로 좋은 결과를 기대해 볼 수 있을 것이다.\\r\\n\\r\\n\\r\\n\\r\\n*&nbsp;눈치백단캠페인(눈 치료가 필요한 순간의 명백한&nbsp;단서)은 백내장, 안구건조증 등 안질환 발병률이 높은 50~70대와 그 가족들에게 &lsquo;눈치료가 필요한 순간의 명백한 단서&rsquo;를 제시함으로써 시력 및 눈 건강의 저하를 조기에 알아채고 적시에 치료 받도록 돕는 질환인식캠페인입니다.\\r\\n\\r\\n\\r\\n\\r\\n\\r\\n※ 참고자료\\r\\n\\r\\n1) Rim et al, Cataract subtype risk factors identified from the Korea National Health and Nutrition Examination survey 2008&ndash;2010, BMC Ophthalmology 2014, 14:4 (2014)\\r\\n\\r\\n2) 차순철 외. 녹내장과 백내장 수술. JOURNAL OF THE KOREAN GLAUCOMA SOCIETY. Volume 3.P40-43. (2014)\\r\\n\\r\\n3) 김신우 외. 초고령자의 백내장 수술시 술후 시력결과에 영향을 미치는 인자. 대한안과학회지 제 48 권 제 7 호 2007 J Korean Ophthalmol Soc 48(7):905-910. (2007)]]></description>\\r\\n\\t\\t\\t<author>성경림 서울아산병원 안과 교수ㅣ정리·장인선 기자</author>\\r\\n\\t\\t\\t<pubDate>2021-06-08 06:50:00</pubDate>\\r\\n\\t\\t\\t</item>\\r\\n\\t\\t\\t<item>\\r\\n\\t\\t\\t<title>미세먼지 심한 날, 코 세게 풀지 마세요</title>\\r\\n\\t\\t\\t<link>http://www.k-health.com/news/articleView.html?idxno=54050</link>\\r\\n\\t\\t\\t<section_code>S1N10</section_code><sub_section_code>S2N37</sub_section_code><serial_code>S1N10</serial_code>\\r\\n\\t\\t\\t<description><![CDATA[(왼쪽부터) 중앙대병원 이비인후과 김경수&middot;민현진 교수\\r\\n\\r\\n\\r\\n\\r\\n건강의 주적으로 꼽히는 미세먼지가 코피 발생에도 영향을 미치는 것으로 나타났다.\\r\\n\\r\\n중앙대병원 이비인후과 김경수&middot;민현진 교수팀의 연구결과에 따르면 소아와 성인 모두 미세먼지 농도가 높은 날 코피 발생위험도가 증가했다.\\r\\n\\r\\n\\r\\n\\r\\n월별 평균 미세먼지 농도와 월별 일평균 코피 환자수 그래프\\r\\n\\r\\n\\r\\n\\r\\n연구팀은 2015년부터 2019년까지 5년간 중앙대병원에 코피 발생으로 내원한 1577명의 소아와 성인환자들을 대상으로 온도, 습도 등의 기후인자와 미세먼지 농도와의 상관관계를 분석했다.\\r\\n\\r\\n\\r\\n\\r\\n월별 평균 미세먼지 농도와 월별 일평균 코피 환자수 비교표\\r\\n\\r\\n\\r\\n\\r\\n그 결과 연중 평균 미세먼지 농도가 높았던 1월(51.38&mu;g/m&sup3;), 2월(55.34&mu;g/m&sup3;), 3월(58.66&mu;g/m&sup3;)에 코피 발생으로 병원에 내원한 일평균 환자수는 각각 1.21명, 1.12명, 1.18명이었던 반면, 같은 기간 미세먼지 농도가 낮았던 7월(27.78&mu;g/m&sup3;), 8월(25.14&mu;g/m&sup3;), 9월(26.95&mu;g/m&sup3;)의 경우 일평균 환자수가 0.52명, 0.63명, 0.90명으로 미세먼지 농도가 높은 날 코피환자가 더 많은 것으로 나타났다.\\r\\n\\r\\n또 온도, 습도 등의 기후인자를 고려한 통계학적 분석을 통해서도 미세먼지의 농도가 높을 때 코피로 내원하는 환자의 숫자가 증가하는 것으로 나타났으며 성인과 소아 모두 미세먼지 농도가 코피 발생에 유의한 영향을 주는 인자라는 것이 확인됐다.\\r\\n\\r\\n연구팀은 &rdquo;미세먼지가 코점막에 작용해 조직학적 변화를 유발하고 염증관련물질을 증가시키는 것이 코피 발생에 영향을 미친 것으로 본다&ldquo;고 설명했다.\\r\\n\\r\\n\\r\\n\\r\\n&nbsp;미세먼지 농도가 코피 발생에 영향을 미치는 것으로 밝혀진 만큼 미세먼지가 심한 날에는 코에 심한 자극이 가지 않도록 각별한 주의가 필요하다(사진=클립아트코리아).&nbsp;\\r\\n\\r\\n\\r\\n\\r\\n코피는 코 점막 안에 있는 혈관이 파혈되면서 출혈이 발생하는 것으로 다양한 원인에 의해&nbsp;발생할 수 있다. 특히 날씨의 영향도 꽤 큰 것으로 알려졌다.&nbsp;\\r\\n\\r\\n대표적으로 건조한 환절기에는 콧속이 쉽게 말라 건조해지는데 이때 불편감에 코를 자주 만지면 혈관이 모인 부위가 자극되면서 출혈이 발생하는 것이다. 나이와 수면부족, 스트레스와 같은 생활 속 요인들도 콧속에서 분비되는 점액양을 감소시켜 점막을 건조하게 만든다.\\r\\n\\r\\n중앙대병원 이비인후과 민현진 교수는 &ldquo;지금까지 다양한 기후인자들과 코피의 발생이 연관 있다는 연구논문들은 보고된 바 있지만 미세먼지 농도를 고려한 코피와의 인과관계를 밝힌 연구는 드물었다&rdquo;며 &ldquo;미세먼지가 나쁜 날에는 야외활동 시 반드시 마스크를 착용하는 것은 물론, 코를 세게 푸는 등의 물리적 충격을 주지 않도록 주의가 필요할 것으로 보인다&rdquo;고 강조했다.\\r\\n\\r\\n한편 이번 연구결과는 &lsquo;미세먼지와 코피 발생 상관관계(Particulate Matter 10(PM10) Is Associated with Epistaxis in Children and Adults)&rsquo;라는 제목으로 SCI급 국제학술지 국제환경연구&middot;공중보건저널(International Journal of Environmental Research and Public Health) 최신호에 게재됐다.]]></description>\\r\\n\\t\\t\\t<author>장인선 기자</author>\\r\\n\\t\\t\\t<pubDate>2021-06-07 20:51:00</pubDate>\\r\\n\\t\\t\\t</item>\\r\\n\\t\\t\\t<item>\\r\\n\\t\\t\\t<title>“CUVIS-joint” of CUREXO supplied additionally to three medical institutions in Korea</title>\\r\\n\\t\\t\\t<link>http://www.k-health.com/news/articleView.html?idxno=54049</link>\\r\\n\\t\\t\\t<section_code>S1N11</section_code><sub_section_code>S2N58</sub_section_code><serial_code>S1N11</serial_code>\\r\\n\\t\\t\\t<description><![CDATA[CUVIS-joint was recently approved by the Ministry of Food and Drug Safety last June and received the Europe CE mark in March, and is currently in preparation for the US FDA approval. The photo shows CUVIS-joint getting installed in a medical institution.\\r\\n\\r\\n\\r\\n\\r\\n&ldquo;CUVIS-joint,&rdquo; an artificial joint surgery robot developed by CUREXO, is expected to be active in more domestic medical institutions.\\r\\n\\r\\nCUREXO announced the successful installation of &ldquo;CUVIS-joint&rdquo; at Jinju Seran Hospital, Ulsan Hibone Hospital, and Yonsei Knee &amp; Spine Hospital. This makes CUVIS-joint have a total of 11 units sold in May, including eight in Korea and three units overseas.\\r\\n\\r\\nCUVIS-joint, developed by CUREXO using its original technology, is the first Korean artificial joint surgery robot that has been commercialized 4th in the world. It allows the artificial joint to be inserted accurately by automatically cutting bones under the supervision of surgeons.\\r\\n\\r\\nCUVIS-joint provides a wider surgical area using a 6-axis vertical multi-joint Robot Arm that can rotate 360 degrees like a human arm and can use various implants through an open platform. The cutting range can be adjusted during surgery, providing an optimized surgery experience to patients.\\r\\n\\r\\nAccording to CUREXO, Jinju Seran Hospital has performed more than 4000 robot surgeries after installing &ldquo;ROBODOC,&rdquo; another artificial joint surgery robot of CUREXO, in 2010. The hospital decided to install CUVIS-joint because of its superior surgical results and patients&rsquo; recovery compared to those of manual surgery.\\r\\n\\r\\n&ldquo;CUVIS-joint released in the second half of last year provided optimal surgical results to both surgeons and patients and reduced surgical errors, side effects, and probabilities for revision surgery. Many artificial joint specialists are considering installing CUVIS-joint because of these reasons,&rdquo; said CEO Lee Jae Jun. &ldquo;Opportunities to supply the device to artificial joint clinics will expand since characteristics of open platforms allow us to contract with major global implant companies operating in Korea as well as domestic artificial joint implant companies.&rdquo;]]></description>\\r\\n\\t\\t\\t<author>글·장인선 기자ㅣ번역·이정진 인턴기자</author>\\r\\n\\t\\t\\t<pubDate>2021-06-07 19:46:37</pubDate>\\r\\n\\t\\t\\t</item>\\r\\n\\t\\t\\t<item>\\r\\n\\t\\t\\t<title>새로운 일상 시작될 7월…해수욕장 등 시설별 방역수칙은 지켜야</title>\\r\\n\\t\\t\\t<link>http://www.k-health.com/news/articleView.html?idxno=54048</link>\\r\\n\\t\\t\\t<section_code>S1N1</section_code><sub_section_code>S2N3</sub_section_code><serial_code>S1N1</serial_code>\\r\\n\\t\\t\\t<description><![CDATA[국내 코로나19 확진자수가 주말 영향에 400명대로 감소했다.\\r\\n\\r\\n\\r\\n\\r\\n\\r\\n\\r\\n\\r\\n\\r\\n방역 당국에 따르면 7일 0시 기준으로 확인된 국내 코로나19 확진자수는 총 485명이다. 이 중 국내 발생은 454명, 해외유입은 31명으로 확인됐으며 이로써 총 누적확진자수는 14만4637명으로 증가했다.\\r\\n\\r\\n\\r\\n\\r\\n\\r\\n\\r\\n\\r\\n\\r\\n현재 코로나19 확진자수는 큰 변동 없이 400~700명 선에서 증감을 반복하고 있다. 특히 다중이용시설, 가족 및 지인모임, 사업장 등 일상 속 감염이 지속되면서 국내 발생 확진자는 최근 1주간 1일 평균 578.4명으로 직전 1주(5.23~29)보다 16.1명(2.9%) 증가했다.\\r\\n\\r\\n여전히 가족, 지인, 동료 등 사람 간 접촉을 통한 감염사례도 계속되면서 선행확진자 접촉이 감염경로에서 큰 비중(44.5%)을 차지하고 있다.&nbsp;\\r\\n\\r\\n반면 고령층에 대한 예방접종이 확대되면서 치명률과 사망자수는 감소세를 유지 중이다. 더욱이 방역 당국은 6월 말이 되면 고령층을 중심으로 최대 1400만명의 인구가 백신접종을 완료, 위중증 환자 발생과 치명률 등이 더욱 감소할 것으로 전망했다.\\r\\n\\r\\n아울러 방역 당국은 휴가철이자 새로운 거리두기가 시행될 예정인&nbsp;7월을 대비해&nbsp;안전한 여름휴가 대책의 일환으로&nbsp;시설별 방역수칙을 공개했다.\\r\\n\\r\\n\\r\\n\\r\\n\\r\\n\\r\\n\\r\\n\\r\\n\\r\\n\\r\\n\\r\\n\\r\\n\\r\\n\\r\\n\\r\\n\\r\\n\\r\\n\\r\\n\\r\\n\\r\\n\\r\\n\\r\\n\\r\\n\\r\\n\\r\\n\\r\\n방역 당국은 &ldquo;올해 여름휴가철은 백신접종의 순차적인 진행과 함께 자율과 책임에 기반한 새로운 거리가 시행되는 등 일상 회복에 한 발짝 더 다가선 시기가 될 것&rdquo;이라며 &ldquo;단&nbsp;코로나19가&nbsp;유행 중인 상황인 만큼&nbsp;국민들이 경각심을 잃지 않고 안전한 여름휴가를 보낼 수 있도록 방역 정책 시행에 주력하겠다&rdquo;고 밝혔다.\\r\\n\\r\\n\\r\\n\\r\\n\\r\\n\\r\\n\\r\\n\\r\\n한편 오늘부터는 일반 60~74세 고령층과 30세 미만 군 장병에 대한 코로나19예방접종이 시행된다.\\r\\n\\r\\n60~74세 어르신은 아스트라제네카백신을, 30세 미만 군 장병은 화이자백신을 접종한다. 30세 이상 군 장병은 지난달 아스트라제네카백신을 접종했다.\\r\\n\\r\\n2분기 아스트라제네카백신 접종대상(사회필수인력(경찰, 소방, 해경 등), 취약시설 입소&middot;종사자, 만성신장질환자, 특수교육&middot;보육 종사자, 보건교사, 유치원&middot;어린이집&middot;초등학교(1&middot;2학년)교사 및 돌봄인력 등) 중 30세 미만은 화이자백신으로 오는 15일부터 전국 예방접종센터에서 접종할 예정이다. 이들은 7일부터 15일까지 온라인을 통해 예방접종 사전예약을 실시한다. 만일 예약이 조기마감(6월 중 약 20만명 접종)돼 초과수요가 확인되면 7월 중 추가 예약 및 접종을 실시할 예정이다.\\r\\n\\r\\n얀센백신은 10일부터 사전예약자를 대상으로 접종이 실시되며 모더나백신은 일부 지정된 병원급 이상 의료기관 종사자(30세 미만 신규입사자, 실습학생, 종사자 등)를 대상으로 6월 중순부터 접종이 실시될 예정이다.\\r\\n\\r\\n코로나19 예방접종 대응추진단은 &ldquo;6월 접종일정을 차질없이 추진해 상반기 접종목표 1300만명, 전 국민 25% 이상 접종을 조기에 달성할 계획&rdquo;이라며 &ldquo; 얀센백신을 포함한 경우 최대 1400만명 접종도 가능할 것으로 보인다&rdquo;고 전망했다.]]></description>\\r\\n\\t\\t\\t<author>장인선 기자</author>\\r\\n\\t\\t\\t<pubDate>2021-06-07 18:30:26</pubDate>\\r\\n\\t\\t\\t</item>\\r\\n\\t\\t\\t<item>\\r\\n\\t\\t\\t<title>가톨릭대 인천성모병원, 간이식수술 100례 달성</title>\\r\\n\\t\\t\\t<link>http://www.k-health.com/news/articleView.html?idxno=54047</link>\\r\\n\\t\\t\\t<section_code>S1N1</section_code><sub_section_code>S2N2</sub_section_code><serial_code>S1N1</serial_code>\\r\\n\\t\\t\\t<description><![CDATA[가톨릭대 인천성모병원이 최근 간이식수술 100례를 달성했다.\\r\\n\\r\\n\\r\\n\\r\\n가톨릭대 인천성모병원이 최근 간이식수술 100례를 달성했다고 밝혔다. 이는 2013년 1월 간이식수술을 시작한 지 8년 만이다.\\r\\n\\r\\n인천성모병원에 따르면 100번째 간이식수술을 받은 환자는 강대옥(62세) 씨다. 강대옥 씨는 최근 간암이 재발해 아들 강재선(32세)씨의 간을 기증 받아 간이식수술을 마쳤다.\\r\\n\\r\\n인천성모병원의 간이식 100례 중 뇌사자 간이식은 48건, 생체 간이식은 52건이다. 2014년에는 크기가 큰 간을 이식한 후 간절제를 성공적으로 시행한 사례를 세계 최초로 보고한 바 있다. 또 2018년부터 기증자와 수혜자의 혈액형이 달라도 안전하게 시행할 수 있는 혈액형불일치간이식을 시작했다.\\r\\n\\r\\n아울러 고난이도 수술인 생체 간이식 시 복강경을 통한 공여자 간 절제술(2020), 간-신장 동시 이식 수술(2020) 등을 시행하며 현재까지 이식 후 조기 담도합병증 0%를 기록했다.&nbsp;\\r\\n\\r\\n인천성모병원 장기이식센터 간이식팀은 간담췌외과 윤영철 교수, 소화기내과 남순우, 권정현 교수를 중심으로 중재방사선과, 진단검사의학과, 마취과, 영상의학과의 완벽한 협업으로 진행된다.&nbsp;병원은 &lsquo;수술의 꽃&rsquo;이라고도 불릴 만큼 중대한 간이식수술에 모든 의료진이 최선을 다하고 있다고 설명했다.&nbsp;\\r\\n\\r\\n윤영철&nbsp;교수는 &ldquo;이번 100번째 간이식을 받은 환자가 100세 이후까지 건강하게 자신에게 간을 준 가족들과 즐겁게 사셨으면 좋겠다&rdquo;며 &ldquo;앞으로도 말기 간질환을 앓고 있는 환자들이 다시 건강한 일상으로 돌아갈 수 있도록 많은 연구와 노력을 이어가겠다&rdquo;고 말했다.]]></description>\\r\\n\\t\\t\\t<author>김보람 기자</author>\\r\\n\\t\\t\\t<pubDate>2021-06-07 16:09:44</pubDate>\\r\\n\\t\\t\\t</item>\\r\\n\\t\\t\\t<item>\\r\\n\\t\\t\\t<title>연세의료원, 인재경영실장에 소화기내과 안상훈 교수 임명</title>\\r\\n\\t\\t\\t<link>http://www.k-health.com/news/articleView.html?idxno=54046</link>\\r\\n\\t\\t\\t<section_code>S1N8</section_code><sub_section_code>S2N31</sub_section_code><serial_code>S1N8</serial_code>\\r\\n\\t\\t\\t<description><![CDATA[연세의료원 인재경영실장에 소화기내과 안상훈 교수가 임명됐다.\\r\\n\\r\\n\\r\\n\\r\\n연세의료원은 7일 인재경영실장에 의대 안상훈 교수(소화기내과)를 임명했다.\\r\\n\\r\\n인재경영실은 연세의료원이 사람 중심의 경영을 위해 6월 초 신설한 부서다. 인재경영실은 산하에 인적자원개발센터를 두고 연세의료원의 인적자원에 관한 비전 수립, 그에 맞은 제도와 시스템을 구축하는 역할을 한다.\\r\\n\\r\\n윤동섭 연세의료원장은 &ldquo;우수한 인적자원을 확보하고 체계적이고 조직적인 교직원 역량개발 프로그램을 구축하도록 노력하겠다&rdquo;고 말했다.]]></description>\\r\\n\\t\\t\\t<author>이원국 기자</author>\\r\\n\\t\\t\\t<pubDate>2021-06-07 15:19:00</pubDate>\\r\\n\\t\\t\\t</item>\\r\\n\\t\\t\\t<item>\\r\\n\\t\\t\\t<title>[제철음식 즐기기] 필수아미노산·단백질 풍부하고 맛도 좋은 ‘암꽃게’</title>\\r\\n\\t\\t\\t<link>http://www.k-health.com/news/articleView.html?idxno=54044</link>\\r\\n\\t\\t\\t<section_code>S1N10</section_code><sub_section_code>S2N38</sub_section_code><serial_code>S1N10</serial_code>\\r\\n\\t\\t\\t<description><![CDATA[꽃게는 성장기 어린이뿐 아니라 노인 또는 회복기환자에게 두루 좋은 음식이다. 열을 가해도 영양성분은 그대로여서 기호에 맞게 다양한 요리로 즐길 수 있는 것도 장점이다(사진=클립아트코리아).&nbsp;&nbsp;\\r\\n\\r\\n\\r\\n\\r\\n꽃게는 꽃겟과에 속하는 갑각류로 본래 이름은 &lsquo;곶게&rsquo;다. 곶(串)은 육지에서 바다 쪽으로 돌출된 지형을 말하는데 꽃게 등딱지의 양옆 날카롭게 튀어나온 모양이 마치 곶과 같아 곶과 게를 합쳐 곶게라고 부르던 것이 된소리화를 겪어 꽃게가 된 것이다.\\r\\n\\r\\n꽃게는 수심 20~30m 깊이의 얕은 바다모래에 떼지어 산다.&nbsp;낮에는 숨어 있다가 주로 밤에 활동하는 꽃게는 우리나라, 일본, 중국 등지에 분포하며 국내에서는 서해와 남해에 많이 서식한다. 겨울에는 깊은 곳이나 먼바다에서 겨울잠을 자고 3월 하순부터 산란을 위해 얕은 바다로 이동해 6~8월에 산란하다.\\r\\n\\r\\n꽃게의 제철은 봄과 가을인데 산란을 앞둔 지금의 암꽃게가 흰살과 밝은 주황색알이 풍성하게 차올라 가장 맛있을 때다. 배 부분의 삼각형모양이 탑처럼 좁은 것이 숫게, 정삼각형에 가까운 것이 암게이다.\\r\\n\\r\\n꽃게는 몸에 검은 자주색의 푸른 무늬가 있으며 등딱지는 마름모꼴로 양쪽에 각각 9개의 톱날 모양 돌기가 있고 마지막 한 개는 매우 길다. 크고 긴 양 집게다리와 네 쌍의 다리가 있다. 특히 맨 뒤의 다리는 부채같이 넓어 다른 게들과 달리 물속에서 헤엄칠 수 있다. 봄 꽃게는 유자망(流刺網 : 해류흐름에 따라 그물을 흘려보내 헤엄치는 꽃게가 그물코에 걸리게 하는 방식)으로, 가을 꽃게는 통발로 잡는다.&nbsp;\\r\\n\\r\\n꽃게에는 필수아미노산이 풍부하고 양질의 단백질이 많이 함유돼 있는데 이는 소고기와 거의 비슷한 수준이다. 특히 성장에 필요한 아미노산인 &lsquo;라이신(lysine)&rsquo;을 풍부하게 함유, 라이신이 적게 함유된 곡류를 주식으로 하는 우리 국민들에게 영양보충가치가 높다.\\r\\n\\r\\n또 지질이 적어 담백하고 소화가 잘돼 성장기어린이나 회복기환자에게도 좋고 꽃게껍데기에 풍부한 &lsquo;키토산(chitosan)&rsquo;은 지방흡착과 이뇨작용에도 뛰어난 것으로 알려져 있다. 여기에 혈액 속 중성지방을 줄이는 &lsquo;타우린(taurine)&rsquo;도 풍부해 고혈압 및 동맥경화환자에게도 좋다.\\r\\n\\r\\n신선한 꽃게는 들었을 때 묵직하고 다리가 모두 붙어 있으며 배딱지가 우윳빛처럼 하얗고 등딱지는 선명한 청흑색 윤기가 흐르는 것이다. 냉동꽃게를 고를 때는 배의 삼각형부분이 하얗고 깨끗한지 확인해야 한다. 여기에 반점이나 검은 물질이 보이면 선도가 떨어지는 것. 또 녹은 것보다 단단하게 언 것이 좋으며 비린내가 심한 것은 피해야 한다.\\r\\n\\r\\n꽃게는 바닷가재, 새우처럼 열을 가하면 껍데기가 붉게 변한다. 이는 아스타산틴이(astaxanthin)라는 색소 때문인데 이 색소는 단백질과 결합해 있을 때 청록색을 띠지만 70℃ 이상 가열하면 단백질과 분리되면서 붉은색으로 변한다.&nbsp;\\r\\n\\r\\n단 색은 변해도 영양성분은 달라지지 않아 많은 응용요리가 가능하다. 이 색소는 물보다 기름에서 더 잘 분리되기 때문에 버터나 식용유를 이용해 꽃게를 요리하면 붉은색이 더 선명해진다. 아래 꽃게탕수 레시피를 활용해 보기에도 좋고 몸에도 좋은 요리를 만들어 보자.\\r\\n\\r\\n\\r\\nTip. 꽃게탕수 만들기(출처=국립수산과학원 수산물건강요리)\\r\\n\\r\\n재료 : 꽃게 400g, 사과 40g, 양파 50g, 레몬 20g, 전분 40g, 물 200g&nbsp;&nbsp;\\r\\n탕수소스 : 진간장 2T, 식초 4T, 꿀 2T, 소금 1T\\r\\n\\r\\n1. 꽃게를 먹기 좋게 잘라 소금으로 밑간한 뒤 전분을 살짝 뿌린다.\\r\\n2. 사과, 양파, 레몬을 0.5cm 두께로 나박하게 썬다.\\r\\n3. 식용유를 180℃로 가열해 꽃게를 노릇하게 튀겨낸다.\\r\\n4. 전분을 같은 양의 물에 풀어 전분물을 만든다.\\r\\n5. 양파와 사과를 볶다가 물, 진간장, 꿀, 식초, 소금을 넣어 끓인 뒤 전분물을 넣어 탕수소스를 만든다.\\r\\n6. 소스에 레몬을 넣고 한소끔 끓인다.\\r\\n7. 꽃게튀김을 접시에 담고 탕수소스를 뿌려 마무리한다.]]></description>\\r\\n\\t\\t\\t<author>추미현 객원기자</author>\\r\\n\\t\\t\\t<pubDate>2021-06-07 15:02:43</pubDate>\\r\\n\\t\\t\\t</item>\\r\\n\\t\\t\\t<item>\\r\\n\\t\\t\\t<title>칠곡경북대병원, 변이바러스 대처 위해 ‘코로나19 전용병상’ 확대 운용</title>\\r\\n\\t\\t\\t<link>http://www.k-health.com/news/articleView.html?idxno=54045</link>\\r\\n\\t\\t\\t<section_code>S1N1</section_code><sub_section_code>S2N2</sub_section_code><serial_code>S1N1</serial_code>\\r\\n\\t\\t\\t<description><![CDATA[칠곡경북대병원이 코로나19 확진자 급증과 변이바이러스 출몰로 &lsquo;코로나19 전용 병상&rsquo;을 확대&middot;운영키로 결정했다.\\r\\n\\r\\n\\r\\n\\r\\n칠곡경북대병원은 7일 최근 코로나19 확진자가 급증함에 따라 &lsquo;코로나19 전용 병상&rsquo;을 확대&middot;운영한다고 밝혔다.\\r\\n\\r\\n칠곡경북대병원은 지난해 12월 23일 대구&middot;경북 지역 유일의 &lsquo;코로나19 거점 전담병원&rsquo;으로 지정된 바 있다. 당시 칠곡경북대병원은 전체 병상의 약 30%인 200여병상을 비우고 이동형 음압기를 설치하는 등 코로나19환자를 위한 입원실로 개조했다. 또 고위험 중증환자 및 분만, 투석, 수술, 시술 등이 필요한 특수 환자를 대상으로 코로나19 전용 병상을 운영해 왔다.\\r\\n\\r\\n하지만 최근 변이바이러스에 의한 대구 코로나19 유행이 심해짐에 따라 5월 24일 코로나19 전용 병동을 추가 가동, 하루 74명의 확진자가 발생한 6월 3일 권태균 병원장의 주재로 칠곡경북대병원은 비상감염대책회의를 개최했다. 이에 칠곡경북대병원은 병상운영 추가확대에 이어 향후 기존의 감염내과 및 호흡기내과 의료진 외에도 가정의학과 의료진을 포함한 간호직, 의료 기술직 인력 등을 지원해 나갈 예정이다.\\r\\n\\r\\n또 코로나19 유행이 더욱 악화할 경우를 대비해 중수본과 지자체가 참여하는 권역공동대응상황실이 칠곡경북대병원에 설치됐다. 이에 칠곡경북대병원은 환자배정 및 진료지원 등 &lsquo;경북권역 감염병 거점 전담병원&rsquo;으로서 코로나19 대응에 중심업무를 담당하게 됐다.\\r\\n\\r\\n칠곡경북대병원 권태균 병원장은 &ldquo;칠곡경북대병원은 세계 최초로 드라이브스루(이동형)선별 진료소를 설치&middot;운영하고 생활치료센터를 지원, 대구 북구 예방접종 센터에 의료진을 파견하고 있다&rdquo;며 &ldquo;이번 병상확대를 기점으로 향후 병원 내부에 지역민을 위한 예방접종 센터를 설치해 코로나19 백신 접종에도 중추적인 역할을 담당할 예정이다&rdquo;라고 말했다.]]></description>\\r\\n\\t\\t\\t<author>이원국 기자</author>\\r\\n\\t\\t\\t<pubDate>2021-06-07 14:54:19</pubDate>\\r\\n\\t\\t\\t</item>\\r\\n\\t\\t\\t<item>\\r\\n\\t\\t\\t<title>Rô bốt phẫu thuật cột sống Curexo ‘CUVIS- spine’ đạt giấy chứng chỉ FDA Mỹ… trên toàn thế giới.</title>\\r\\n\\t\\t\\t<link>http://www.k-health.com/news/articleView.html?idxno=54043</link>\\r\\n\\t\\t\\t<section_code>S1N11</section_code><sub_section_code>S2N58</sub_section_code><serial_code>S1N11</serial_code>\\r\\n\\t\\t\\t<description><![CDATA[Curexo quyết t&acirc;m đẩy mạnh,tấn c&ocirc;ng thị trường thế giới với việc r&ocirc; b&ocirc;t phẫu thuật cột sống &lsquo; CUVIS- spine&rsquo; đạt giấy chứng nh&acirc;n FDA Mỹ tiếp sau chứng chỉ CE của Ch&acirc;u &Acirc;u v&agrave; trong nước\\r\\n\\r\\n\\r\\n\\r\\nCurexo cho biết &lsquo;CUVIS -Spine&rsquo; r&ocirc; bốt phẫu thuật cột sống được ph&aacute;t triển độc t&agrave;i đ&atilde; đạt giấy chứng chỉ FDA cục y dược thực phẩm Mỹ. Đ&acirc;y l&agrave; th&agrave;nh quả thứ 3 tiếp sau chứng nhận cục an to&agrave;n thực phẩm dược phẩm năm 2019, chứng chỉ CE Ch&acirc;u &Acirc;u năm 2020.\\r\\n\\r\\nHiện tại, CUVIS -spine đang được cung cấp cho 2 cơ quan y tế trong nước ( bệnh viện Severance đại học Yonsei), ở nước ngo&agrave;i th&igrave; đang cung cấp cho doanh nghiệp thiết bị y tế &Uacute;c, với việc đạt chứng chỉ FDA lần n&agrave;y c&oacute; thể cung cấp cho to&agrave;n thế giới.\\r\\n\\r\\nCUVIS- Spine l&agrave; r&ocirc; bốt phẫu thuật cột sống hướng dẫn để c&oacute; thể gắn ch&iacute;nh x&aacute;c v&iacute;t cột sống v&agrave;o vị tr&iacute; được kế hoạch sẵn khi thực hiện phẫu thuật như: chứng hẹp ống tủy sống.\\r\\n\\r\\nDựa v&agrave;o thiết bị cảm biến d&ograve; t&igrave;m vị tr&iacute; hiện tại, l&ecirc;n kế hoạch phẫu thuật v&agrave; sau đ&oacute; camera x&aacute;c định vị tr&iacute; gắn với thời gian thực tế đồng thời điều chỉnh vị tr&iacute; gắn tự động n&ecirc;n tất cả bệnh nh&acirc;n v&agrave; đội ngũ y tế c&oacute; thể giảm thiểu h&oacute;a thời gian hứng phải tia ph&oacute;ng xạ. Th&ecirc;m nữa, kh&ocirc;ng chỉ &aacute;p dụng h&igrave;nh ảnh 2 chiều m&agrave; c&ograve;n h&igrave;nh ảnh 3 chiều n&ecirc;n c&oacute; thể phẫu thuật ch&iacute;nh x&aacute;c hơn nữa. Khả năng tải plaform mở n&ecirc;n c&oacute; thể &aacute;p dụng v&agrave;o implant đa dạng.\\r\\n\\r\\nĐại diện Lee Jae Joon Curexo cho biết rằng &ldquo; Với việc đạt giấy chứng chỉ FDA Mỹ của CUVIS- Spine th&igrave; c&oacute; thể b&aacute;n tr&ecirc;n to&agrave;n thế giới cả Mỹ - thị trường y tế lớn nhất&rdquo;, &ldquo; Curexo x&uacute;c tiến r&ocirc; bốt y tế ti&ecirc;u biểu l&agrave; CUVIS- joint, CUVIS- spine v&agrave; Morning walk kh&ocirc;ng chỉ thị trường trong nước m&agrave; c&ograve;n cả Mỹ ,Ch&acirc;u &Acirc;u, n&acirc;ng cao vị thế r&ocirc; bốt y tế của H&agrave;n quốc.]]></description>\\r\\n\\t\\t\\t<author>장인선 기자</author>\\r\\n\\t\\t\\t<pubDate>2021-06-07 11:33:00</pubDate>\\r\\n\\t\\t\\t</item>\\r\\n\\t\\t\\t<item>\\r\\n\\t\\t\\t<title>동아에스티-밸류앤드트러스트, 척추측만증 보조기 독점판매 계약</title>\\r\\n\\t\\t\\t<link>http://www.k-health.com/news/articleView.html?idxno=54041</link>\\r\\n\\t\\t\\t<section_code>S1N11</section_code><sub_section_code>S2N42</sub_section_code><serial_code>S1N11</serial_code>\\r\\n\\t\\t\\t<description><![CDATA[동아에스티와 밸류앤드트러스트가 척추측만증 보조기 &lsquo;스파이나믹(Spinamic)&rsquo; 국내외 독점판매 계약을 체결했다.\\r\\n\\r\\n\\r\\n\\r\\n동아에스티는 7일 밸류앤드트러스트와 척추측만증보조기 &lsquo;스파이나믹(Spinamic)&rsquo; 국내외 독점판매 계약을 체결했다고 밝혔다.\\r\\n\\r\\n스파이니믹은 경성보조기의 교정원리와 연성보조기의 편의성을 겸비한 의복형 하이브리드 보조기다. 플라스틱형보조기 착용이 어려운&nbsp;경증단계 환자부터 성인 및 장애환자까지 넓은 범위에서 착용 가능하다.\\r\\n\\r\\n스파이니믹은 경성보조기와 동일하게 역휨, 역회전, 신장력의 필수 교정 원리를 다양한 밴드 및 패드로 구현됐다. 또 다이얼 장치를 조여 환자의 병증 개선에 따라 압박 강도를 조절할 수 있는 것이 특징이다. 이에 청소년의 성장 상태에 따라 커스터마이징이 가능하다는 장점을 갖고 있다. 이밖에도 기존의 플라스틱 보조기는 환자의 몸에 석고로 본을 떠 만들기에 제작기간이 최소 2주 이상 소요되지만 스파이나믹 보조기는 1~2일내로 제작 가능하다.\\r\\n\\r\\n동아에스티 관계자는 &ldquo;스파이나믹은 경성보조기와 연성보조기의 장점을 두루 갖췄다&rdquo;며 &ldquo;특히 청소년들의 성장상태에 따라 맞춤 조절이 가능하다는 장점도 갖춘만큼 척추측만증환자들이 보다 나은 일상생활을 보내길 바란다&rdquo;고 설명했다.\\r\\n\\r\\n한편 동아에스티 의료기기사업부는 심장수술용 인공판막, 유착방지제 등의 의료용 임플란트 부문과 동맥경화진단기, 전기수술기, 체외충격파 쇄석기, 양성자 치료장비 등의 의료장비 부문의 사업을 전재하고 있다.]]></description>\\r\\n\\t\\t\\t<author>이원국 기자</author>\\r\\n\\t\\t\\t<pubDate>2021-06-07 09:42:02</pubDate>\\r\\n\\t\\t\\t</item>\\r\\n\\t\\t\\t<item>\\r\\n\\t\\t\\t<title>파인헬스케어, ‘감염병 빅데이터 기반의 디지털헬스케어 플랫폼 사업’ 수행기관 선정</title>\\r\\n\\t\\t\\t<link>http://www.k-health.com/news/articleView.html?idxno=54040</link>\\r\\n\\t\\t\\t<section_code>S1N11</section_code><sub_section_code>S2N42</sub_section_code><serial_code>S1N11</serial_code>\\r\\n\\t\\t\\t<description><![CDATA[파인헬스케어가 &lsquo;감염병 빅데이터 기반의 디지털헬스케어 플랫폼 사업&rsquo;의 연구과제 수행기관에 선정됐다.\\r\\n\\r\\n\\r\\n\\r\\n파인헬스케어는 7일 &lsquo;감염병 빅데이터 기반의 디지털헬스케어 플랫폼 사업&rsquo;으로 세계보건기술연구기금 라이트펀드가 공모한 감염병 연구과제 수행기관에 선정됐다고 밝혔다.\\r\\n\\r\\n파인헬스케어는 이번 사업을 통해 전 세계를 대상으로 하는 국제보건 이니셔티브에 합류하게 됐다. 이는 최근 러시아, 카자흐스탄, 우즈베키스탄 등 신북방 CIS 주요국을 대상으로 활발히 진행해온 디지털플랫폼 기반의 원격진료, EMR 구축사업 등 ICT 의료 인프라 확충사업과 인도네시아 등 의료 서비스 취약국가의 보건 수준 개선을 목표로 진행됐던 E-Healthecare 사업의 연장선이다.\\r\\n\\r\\n이번 사업을 통해 파인헬스케어는 해외 일반 의료진의 감염병 진단의 효율성 향상을 지원하는 빅데이터 플랫폼 기반 감염병가이드라인을 개발, 해외 현지 의료기관에 보급할 계획이다. 특히 이번 사업의 핵심인 &lsquo;감염병 빅데이터&rsquo; 구축은 포스트코로나에 반드시 필요한 &lsquo;감염병 관리 시스템&rsquo;의 핵심 재료로 여겨지고 있다.\\r\\n\\r\\n파인헬스케어 책임연구원 임효빈 과장은 &ldquo;파인헬스케어는 라이트펀드와 함께하는 감염병 빅데이터 사업을 통해 글로벌 플랫폼 구축의 기초를 다질 계획&rdquo;이라며 &ldquo;이미 파인헬스케어가 많은 경험을 쌓아오며 준비해온 만큼 올해의 성공뿐 아니라 향후 의료빅데이터 플랫폼의 시작이 되는 시금석이 될 예정&rdquo;이라고 설명했다.]]></description>\\r\\n\\t\\t\\t<author>이원국 기자</author>\\r\\n\\t\\t\\t<pubDate>2021-06-07 09:27:48</pubDate>\\r\\n\\t\\t\\t</item>\\r\\n\\t\\t\\t<item>\\r\\n\\t\\t\\t<title>‘C형간염 국가검진’ 도입…한국은 언제 현실화될까</title>\\r\\n\\t\\t\\t<link>http://www.k-health.com/news/articleView.html?idxno=54039</link>\\r\\n\\t\\t\\t<section_code>S1N1</section_code><sub_section_code>S2N3</sub_section_code><serial_code>S1N1</serial_code>\\r\\n\\t\\t\\t<description><![CDATA[C형간염은 전 세계 바이러스성 간염 사망원인의 약 절반(48%)을 차지한다고 보고됐다. 무증상인 데다 예방백신이 없고 일상 속에서 쉽게 전파되지만 먹는 약으로 완치가 가능할 만큼 치료제 면에선 앞서 있다. WHO는 2030년 C형간염 퇴치 목표를 세우고 이에 적극 동참해줄 것을 전 세계에 강조하고 있다(사진=클립아트코리아).&nbsp; &nbsp;\\r\\n\\r\\n\\r\\n\\r\\n코로나19 종식에 전 세계의 눈이 쏠려 있지만 이미 코로나19 발병 전부터 오랜 시간 퇴치대상이 돼온 감염병이 있다. 바로 C형간염. 세계 여러 나라는 WHO의 2030년 C형간염 퇴치선포에 발맞춰 관리 정책을 발 빠르게 마련, 자국의 C형간염 퇴치에 총력을 기울이고 있다.\\r\\n\\r\\n특히 최근 미국의 새 대통령 바이든이 5월 19일을 &lsquo;국가 간염 검사의 날&rsquo;로 선포하면서 전 세계적으로 C형간염 퇴치 움직임이 가속화되는 분위기다. 이에 비하면 우리나라의 C형간염 정책은 제자리걸음. 하지만 최근 질병관리청 주도로 시행된 C형간염 무료검진 시범사업에서 비용효과성이 또 한 번 입증되면서 우리나라도 WHO의 목표에 발맞출 수 있을 것이란 희망의 목소리가 나오고 있다.\\r\\n\\r\\n■미국, 대만, 일본 등은 일찍이 고삐 당겨\\r\\n\\r\\n전 세계 여러 나라는 WHO의 퇴치 기조에 발맞춰 일찍이 자국의 C형간염 정책을 구축,&nbsp;시행 중이다.\\r\\n\\r\\n대표적으로 미국은 올해 초 &lsquo;바이러스성 간염 퇴치를 위한 5개년 종합계획(2021~2015)&rsquo;을 발표하고 체계적인 C형간염 관리에 들어갔다.\\r\\n\\r\\n현재 미국은 18세 이상~79세 이하 모든 성인에서 C형간염검사를 권고하고 있다. 특히 미국은 유병률이 0.07% 이상만 돼도 고위험군의 특정연령대만 검진하는 것보다 전 인구 항체검사가 더 비용효과적이며 유병률 1.0% 이상이면 선별검사를 하지 않은 것이 오히려 더 많은 비용을 초래한다는 연구결과를 발표한 바 있다.\\r\\n\\r\\n대만, 일본 등 아시아국가도 예외는 아니다. 일본은 2002년부터 C형간염 위험요인과 무관하게 모든 성인을 대상으로 C형간염 항체검사를 실시하고 있다. 대만은 WHO의 목표보다 5년이나 빠른 2025년을 C형간염 퇴치 목표 해로 세우고 이미 2016년 국가 차원의 C형간염 퇴치프로그램 부서를 조직, C형간염 퇴치를 위한 관련 정책 지침을 마련하고 45세 이상 검진 및 치료 지원을 진행 중이다.\\r\\n\\r\\n■무증상에 백신 없어도 먹는 약으로 완치\\r\\n\\r\\n이렇게 전 세계가 C형간염 퇴치에 고삐를 당기는 이유는 질병이 가진 고유 특성 때문. C형간염은 B형간염과 더불어 만성화돼 간경변, 간암 등 심각한 간질환을 일으킨다. 하지만 B형간염과 달리 국가검진항목에 포함돼 있지도, 예방백신이 있지도 않다. C형간염이 B형간염보다 만성진행확률이 훨씬 높은데도 말이다.\\r\\n\\r\\n증상도 없어 일상 속에서 쉽게 전파되는데 실제 보고된 바에 따르면 C형간염 증상을 느끼는 경우는 약 6%에 불과하며 C형간염바이러스 감염의 약 40%는 전파경로가 불분명한 상태다. 무증상 감염환자가 또 여러 사람을 감염시킬 수 있는 것이다.\\r\\n\\r\\n그래도 C형간염은 치료제 개발에 있어선 발전을 거듭, 현재 먹는 약으로 8~12주 정도 치료하면 100% 가까이 완치할 수 있다. 현재는 대상성 간경변증이 동반된 환자들도 8주 정도 하루에 한 번씩 경구용 항바이러스제를 복용하면 99%에 가까운 치료성공률로 완치 가능하다고 보고됐다.\\r\\n\\r\\n단 이를 위해서는 잠재된 수많은 C형간염환자를&nbsp;조기에 발견해 치료의 길로 이끄는 것이 중요하다. 전 세계 여러 나라가 국가적 차원의 검진대책을 마련하고 나선 이유다.\\r\\n\\r\\n■치료율 낮은 데다 무증상 잠재환자도 많아\\r\\n\\r\\n비록 학계의 노력으로 국내 C형간염 인식은 과거보단 높아진 편이다. 하지만 실질적인 정책으로 구체화되지 못하고 있어 문제라는 지적이다. C형간염은 간단한 혈액검사를 통해 감염여부를 확인할 수 있는데도 현재 바이러스성 간염 중 유일하게 C형간염만 국가검진항목에 포함돼 있지 않다.\\r\\n\\r\\n삼성서울병원 소화기내과 이준혁 교수는 &ldquo;국내에는 약 30만명의 C형간염환자가 있을 것으로 추정되는데 이들 중 실제 치료받은 환자 수는 약 20%에 불과하며 환자 대부분이 아직 진단되지 않은 무증상 잠재환자&rdquo;라며 &ldquo;질환 특성상 감염여부를 스스로 의심하기 어려운데도 조기에 검진받아 치료&middot;완치될 수 있는 기회마저 놓치고 있어 안타까운 상황&rdquo;이라고 말했다.\\r\\n\\r\\n■C형간염 국가검진, 비용효과성 지속 입증\\r\\n\\r\\n정부는 국내 C형간염환자가 너무 적어 비용 대비 비효율적이라는 입장이지만 전문가들은 우선 40세 이상만이라도 검사해야 한다고 주장한다. 이 연령대는 C형간염 발병위험이 높고 심각한 간질환으로의 이행이 빠르기 때문. 더 나아가 C형간염 단계에서 발견해 완치하면 국내에서 가장 높은 질병부담(높은 조기사망률 및 의료비용)질환 중 하나인 간경변증과&nbsp;간암도 예방,&nbsp;사회적비용을 크게 줄일 수&nbsp;있다는 설명이다. 특히 10년생존율이 23.8%에 불과한 간암은&nbsp;국내 암 사망 2위로&nbsp;사회경제적부담이 매우 큰 질환으로 꼽힌다.&nbsp;&nbsp;&nbsp;\\r\\n\\r\\n이미 C형간염 국가검진 도입 시 비용대비 효과성은 다수의 연구를 통해 지속적으로 입증돼왔다. 최근 질병관리청 주도로 대한간학회가 시행한 &lsquo;C형간염 무료검진 시범사업(2020년 9~10월&nbsp;1964년 대상으로 무료검진 시행)&rsquo; 결과에서도 C형간염 감염위험이 높아지는 40~65세 대상으로 검사하는 것은 비용효과적인 것으로 나타났다.\\r\\n\\r\\n이준혁 교수는 &ldquo;C형간염은 무증상인 데다 위중성에 비해 인지도가 낮아&nbsp;국가가 적극 나서 조기 발견을 위한 국민의&nbsp;행동을 촉구해야 한다&rdquo;며 &ldquo;무엇보다 우리나라는 전 세계 어디에도 없는 국가검진 인프라를 구축하고 있기 때문에 이를 기반으로 C형간염 잠재환자를 조기에 발굴&middot;치료한다면 사회경제적 부담 감소는 물론, 2030년 퇴치 목표도 달성할 수 있을 것&rdquo;이라고 강조했다.]]></description>\\r\\n\\t\\t\\t<author>장인선 기자</author>\\r\\n\\t\\t\\t<pubDate>2021-06-07 08:00:49</pubDate>\\r\\n\\t\\t\\t</item>\\r\\n\\t\\t\\t<item>\\r\\n\\t\\t\\t<title>[대비체와 함께 하는 미남미녀 따라잡기] 여름철 피부건강 지키는 셀프관리법</title>\\r\\n\\t\\t\\t<link>http://www.k-health.com/news/articleView.html?idxno=54036</link>\\r\\n\\t\\t\\t<section_code>S1N4</section_code><sub_section_code>S2N46</sub_section_code><serial_code>S1N4</serial_code>\\r\\n\\t\\t\\t<description><![CDATA[박상혁 대한비만미용체형학회 이사(이에스의원 원장)\\r\\n\\r\\n\\r\\n\\r\\n여름이 다가오면서 점점 기온이 오르고 비도 많이 오면 우리 피부엔 여러 문제가 발생한다. 얼굴에 유분기와 피지가 급증하고 이로 인해 기분이 저하되며 각종 피부트러블이 생기기도 쉽다.\\r\\n\\r\\n우선 여름에는 자외선으로부터 피부를 보호하는 것이 가장 중요하다. 외출 시 모자, 선글라스, 양산 등으로 자외선에 의한 피부 자극을 피하고 수시로 자외선차단제를 발라줘야 한다. 보통은 외출 전 한 번 바르고 말지만 3~4시간 간격으로 주기적으로 덧바르는 것이 효과가 더 좋다.\\r\\n\\r\\n이때 꼼꼼한 세안이 매우 중요하다. 습하고 더운 날씨에는 피지 분비가 활발해지면서 피부에 각종 오염물이나 노폐물이 달라붙기 쉬워지는데 여기에 자외선차단제까지 여러 번 덧바르면 피부트러블이 악화될 수 있어서다. 가급적 거품 입자가 작은 클렌징을 사용해 모공 속까지 깨끗이 세안하는 것이 바람직하다.\\r\\n\\r\\n세안을 할 때는 손에 힘을 주지 말고 가볍고 부드럽게 문질러야 한다. 또 턱밑과 귀까지 꼼꼼히 세안하는 것이 바람직하다. 특히 귀는 잘 때 베개에 직접 닿는 신체 부위이기 때문에 더 신경 써서 세안해야 한다. 턱밑에 묻은 선크림이나 스킨케어제품, 베이스 메이크업 등의 잔여물도 잘 닦아줘야 한다.\\r\\n\\r\\n세안에 대한 잘못된 상식으로 오히려 피부트러블이 발생하는 경우도 많다. 예컨대 피지 분비가 많은 지성피부는 세안을 자주 하는 것이 좋다는 말이 있는데 과한 세수는 오히려 수분을 빼앗아가기 때문에 하루 2~3회 정도가 적당하다.\\r\\n\\r\\n또 얼굴에 수분 미스트 제품으로 계속 물을 뿌려주는 것이 수분공급에 유리하다고 생각하지만&nbsp;이는 각질세포와 기름으로 이뤄진 피부 장벽을 제거해버려서 오히려 피부가 건조해질 수 있다.\\r\\n\\r\\n가장 적당한 피부 온도는 약 31도이다. 햇빛이나 높은 기온으로 인해 울긋불긋 붉게 달아오른 피부는 세안 후 냉찜질을 통해 진정시키는 것이 좋다. 물을 충분히 섭취해 피부에 수분을 공급해 주는 것도 도움이 된다.\\r\\n\\r\\n피부 상태에 따라 전문가의 진찰 후 의학적인 시술도 고려해볼 수 있다. 피부에 수분량을 늘리고 세포를 튼튼하게 해주는 스킨부스터가 대표적이다.\\r\\n\\r\\n스킨부스터는 진피층에 침투시키는 방법에 따라 여러 종류로 나뉜다. 그중 레가또 레이저는 시술 침이 피부 속으로 침투해 진피층에만 고주파 에너지를 전달,&nbsp;모공을 축소시키고 콜라겐 재생을 도와 피부에 탄력을 주고 피부 톤을 개선하는 효과가 탁월하다. 통증이 거의 없고 바로 일상에 복귀할 수 있다는 것도 장점이다.\\r\\n\\r\\n여름철 올바른 자외선차단제 사용과 꼼꼼한 세안은 피부 건강을 유지하고 피부트러블도 예방할 수 있는 원동력이다. 이러한 셀프케어만으로 관리하기 힘들다면 전문가와 상담 후 시술을 통해 건강하고 자신감 있는 피부를 만들 수 있다.\\r\\n\\r\\n단 시술 후에는 피부가 약해질 수 있어 사후 관리에도 꼼꼼히 신경써야 한다. 우선 자외선으로부터 피부를 잘 보호하고 야외에서 땀이 많이 나는 운동이나 사우나 이용, 음주 및 흡연 등은 삼가는 것이 바람직하다.]]></description>\\r\\n\\t\\t\\t<author>박상혁 대한비만미용체형학회 이사(이에스의원 원장)ㅣ정리·장인선 기자</author>\\r\\n\\t\\t\\t<pubDate>2021-06-07 07:30:00</pubDate>\\r\\n\\t\\t\\t</item>\\r\\n\\t\\t\\t<item>\\r\\n\\t\\t\\t<title>[카드뉴스] 고혈압관리\\xa0첫걸음\\xa0‘가정혈압’…스마트워치로도\\xa0OK!\\xa0</title>\\r\\n\\t\\t\\t<link>http://www.k-health.com/news/articleView.html?idxno=54038</link>\\r\\n\\t\\t\\t<section_code>S1N14</section_code><sub_section_code>S2N63</sub_section_code><serial_code>S1N14</serial_code>\\r\\n\\t\\t\\t<description><![CDATA[고혈압관리&nbsp;첫걸음&nbsp;&lsquo;가정혈압&rsquo;&hellip;스마트워치로도&nbsp;OK!&nbsp;\\r\\n\\r\\n가정혈압, 왜 중요할까\\r\\n&lsquo;가정혈압&rsquo;에 대해 한 번쯤 들어보셨을 겁니다. 가정혈압은 가정에서 의료인의 도움 없이 스스로 혈압계를 사용해 측정한 혈압으로 &lsquo;고혈압관리의 첫걸음&rsquo;이라고 불립니다. 현재&nbsp;자신의&nbsp;혈압이&nbsp;잘&nbsp;조절되고&nbsp;있는지&nbsp;직접&nbsp;확인함으로써&nbsp;스스로&nbsp;동기를&nbsp;부여할&nbsp;수&nbsp;있죠.&nbsp;\\r\\n\\r\\n또 진료실 혈압만으로는 쉽게 진단할 수 없는 백의고혈압(정상이다가도 의사를 만나면 긴장해서 혈압이 상승함), 가면고혈압(원래 혈압이 높은데 진료실에서는 정상으로 나오는 경우) 등을 판단해 고혈압관리에 활용할 수 있습니다.\\r\\n\\r\\n특히 가정혈압은 특정시간에 표준화된 조건으로 장기간 측정할 수 있어 24시간 측정하는 활동혈압보다 혈압의 변동성을 평가하기 적절하며 고혈압에 따른 장기손상 및 심혈관계질환 발생을 더 잘 예측할 수 있다고 알려졌습니다.\\r\\n\\r\\n측정방법 숙지하는 것이 먼저\\r\\n하지만 정확한 측정방법을 지키지 않으면 가정혈압도 오차가 발생합니다. 고혈압은 장기간 관리를 이어가야 하는 만큼 올바른 가정혈압 측정방법을 알아두는 것이 매우 중요합니다.\\r\\n\\r\\n아침, 저녁 각 2번 재기\\r\\n대한고혈압학회 소속 가정혈압포럼의 관리지침에 따르면 먼저 가정혈압은 아침, 저녁 각 2번씩 총 4번을 잽니다. 아침에는 약물 복용 전과 식전에, 저녁에는 잠자리에 들기 전 측정합니다.&nbsp;아침에 일어나자마자 혈압을 재기보단 화장실을 다녀온 다음 5분간 휴식 후 측정합니다. 저녁에는 되도록 샤워 전에 혈압을 측정하고 측정 30분 전에는 흡연과 카페인 섭취를 삼가야 합니다. &nbsp;\\r\\n\\r\\n2021 가정혈압 관리지침 발간\\r\\n대한고혈압학회 소속 가정혈압포럼은 정기적으로 가정혈압 관리지침을 개정해 발간하고 있는데요. 올해 개정된 관리지침에서는 올바른 가정혈압계 선택법과 모바일기기를 이용한 자가혈압 측정법에 대한 내용도 확인할 수 있습니다.\\r\\n&nbsp;\\r\\n올바른 혈압계 선택법\\r\\n먼저 가정혈압계는 진동법 자동혈압계로 공식적인 기관에서 검증된 혈압계를 사용해야 합니다. 위팔 자동혈압계로 재는 것이 정확하며 손목이나 손가락 자동혈압계는 상대적으로 정확도가 떨어져 권고되지 않습니다. 커프는 자신의 팔 굵기에 맞는 사이즈를 사용해야 하며 우선 양팔 혈압 차이를 확인 후 혈압 차가 크면 더 높은 혈압 값을 보이는 팔의 혈압을 측정합니다.\\r\\n\\r\\n스마트워치로도 혈압 측정 가능\\r\\n요즘은 스마트워치로도 혈압을 측정할 수 있습니다. 아직 해결해야 할 몇 가지 한계점들이 있지만 모바일기기를 사용하는 고령층이 늘어난 만큼 전문가들은 혈압 관리에서도 모바일기기가 유용하게 활용될 수 있을 것이라고 전망합니다.\\r\\n\\r\\n다만 스마트워치로 혈압을 측정할 때는 일반 혈압계와 병용해 혈압을 주기적으로 보정해야 합니다. 스마트워치의 임상연구에서는 환자들이 스마트워치를 이용해 혈압을 측정하는 동안 반대쪽 팔에서 일반 혈압계로 혈압을 동시에 측정, 양팔 간 차이를 보상할 수 있었는데요. 하지만 혼자 혈압을 측정하는 실제 상황에선 불가능한 일입니다.\\r\\n\\r\\n이에 대한고혈압학회에서는 스마트워치에서 혈압신호를 먼저 획득한 후 동일한 팔에서 일반 혈압계로 혈압을 측정, 보정하는 과정을 1~2분 간격으로 3회 정도 반복하라고 권고합니다.\\r\\n\\r\\n또 일반 혈압계로 혈압을 측정할 때는 커프에 의해 위팔 혈관이 눌렸다 풀리게 되는데 이 과정이 손목의 혈압 파형에 영향을 줄 수 있습니다. 따라서 스마트워치에서 신호를 먼저 획득한 다음 일반 혈압계로 혈압을 재서 수치를 보정해야 합니다.\\r\\n\\r\\n혈압 측정 전 화장실을 다녀오고 올바른 자세를 유지하는 건 일반 혈압계로 잴 때와 동일하게 준수해야 합니다. 스마트워치를 착용하는 팔을 바꾸거나 다른 사람이 스마트워치를 착용했을 경우에는 혈압을 재보정해야 하니 이 점도 꼭 주의해주세요!\\r\\n\\r\\n도움말 김철호 분당서울대병원 노인병내과 교수(대한고혈압학회 가정혈압포럼 회장)\\r\\n가정혈압은 효과적인 고혈압관리에 도움이 되지만 올바른 측정방법을 지켜야 혈압을 정확히 측정할 수 있습니다. 사소한 일처럼 느껴져도 고혈압관리에 큰 원동력이 되는 만큼 올바른 측정방법에 대해 꼭 먼저 숙지하시기 바랍니다.]]></description>\\r\\n\\t\\t\\t<author>장인선 기자</author>\\r\\n\\t\\t\\t<pubDate>2021-06-06 22:10:33</pubDate>\\r\\n\\t\\t\\t</item>\\r\\n\\t\\t\\t<item>\\r\\n\\t\\t\\t<title>[카드뉴스] 체중감량, 채찍질보다는 당근이 약!</title>\\r\\n\\t\\t\\t<link>http://www.k-health.com/news/articleView.html?idxno=54037</link>\\r\\n\\t\\t\\t<section_code>S1N14</section_code><sub_section_code>S2N63</sub_section_code><serial_code>S1N14</serial_code>\\r\\n\\t\\t\\t<description><![CDATA[체중감량, 채찍질보다는 당근이 약!\\r\\n\\r\\n타의로 체중감량, 포기도 빨라져\\r\\n자의가 아닌 타의로 체중감량에 나설 때가 있습니다. 바로 &lsquo;주변 사람들의 날카로운 말&rsquo; 때문인데요. 이처럼 자기만족이 아닌 비판받는 상황에서 벗어나고자 체중감량을 하는 경우, 건강에 무리를 주는 과격한 방법을 선택하기 쉽습니다. 이는 쉽게 좌절감에 빠지게 하거나 체중감량을 금방 포기하게 만듭니다.\\r\\n\\r\\n잦은 몸매 지적, 체중감량 실패확률&uarr;\\r\\n병원을 찾은 이민주 씨(가명). 163cm에 54kg로 정상 체중이었지만 당시 남자친구로부터 &lsquo;살 빼라&rsquo; &lsquo;허벅지가 굵다&rsquo;라고 계속 몸매지적을 받았습니다. 이에 그녀는 가녀린 몸매를 위해 무작정 굶거나 다양한 비만시술을 받는 등 갖은 노력을 다했는데요. 문제는 체중감량과 폭식을 반복하다 보니 체중이 40~70kg까지 널뛰는 현상이 발생한 것입니다. 그녀는 결국 남자친구와 헤어지고 나서야 &lsquo;다이어트 포기&rsquo;를 선언했습니다.\\r\\n\\r\\n걱정 속 감춰진 비난, 체중감량에 독\\r\\n전문가들은 걱정을 빙자한 &lsquo;비난&rsquo;은 체중감량에 전혀 도움이 되지 않는다고 말합니다. 타의로 시작한 체중감량은 장기간 실천하기 어려울뿐더러 특히 몸매지적으로 인한 스트레스는 오히려 체중감량에 부정적으로 작용하기 때문입니다. 누군가에게 &lsquo;살쪘다&rsquo; &lsquo;뚱뚱하다&rsquo;라고 낙인찍는 행위는 그 사람의 건강관리에 부정적이라는 연구결과도 많습니다.\\r\\n\\r\\n&lsquo;내 몸 사랑하기&rsquo;로 변하는 트렌드\\r\\n실제로 미국 플로리다주립대 연구팀에 따르면 연령, 성별, 교육수준 등과 무관하게 몸무게로 비난받은 사람은 그렇지 않은 사람에 비해 비만할 확률이 2.5배 높은 것으로 나타났습니다. 이에 따라 최근에는 자신의 몸을 사랑하자는 &lsquo;자기 몸 긍정주의&rsquo; 운동이 활발히 일어나고 있는데요. 특히 외모지적이 무례하다는 인식도 커지고 있습니다.\\r\\n\\r\\n가까울수록 지적보다 격려를\\r\\n무엇보다 타인의 체형을 스스럼없이 &lsquo;비난&rsquo;하거나 &lsquo;지적&rsquo;하지 않아야 한다는 점을 명심해야 합니다. 가족이나 가까운 지인이니까 솔직한 충고가 괜찮다는 생각은 버려야 합니다. 서양에서는 식습관, 운동습관, 비만 등 몸무게와 체형을 소재로 하는 대화인 &lsquo;팻 토크(fat talk)&rsquo;를 초등학생 때부터 지양하도록 교육하기도 합니다.\\r\\n\\r\\n도움말 손보드리 가정의학과전문의\\r\\n주변인의 비만이 진심으로 걱정된다면 말보다 실천으로 보여주는 것이 좋습니다. 저녁에 함께 운동하거나 다이어트 식단을 짜고 산책을 하는 등 비만치료에 도움이 되는 행동을 함께 실천하는 것입니다. 또 건강한 체중감량을 위해서는 긍정적인 마음가짐도 꼭 필요하다는 점, 잊지 마세요!]]></description>\\r\\n\\t\\t\\t<author>이원국 기자</author>\\r\\n\\t\\t\\t<pubDate>2021-06-06 22:02:27</pubDate>\\r\\n\\t\\t\\t</item>\\r\\n\\t\\t\\t<item>\\r\\n\\t\\t\\t<title>코로나19 확진자수, 주말 영향 다시 500명대로 감소</title>\\r\\n\\t\\t\\t<link>http://www.k-health.com/news/articleView.html?idxno=54035</link>\\r\\n\\t\\t\\t<section_code>S1N1</section_code><sub_section_code>S2N3</sub_section_code><serial_code>S1N1</serial_code>\\r\\n\\t\\t\\t<description><![CDATA[코로나19 확진자수가 주말 검사건수 감소의 영향으로 우선 500명대로 감소했다.\\r\\n\\r\\n방역 당국에 따르면 6일 0시 기준으로 확인된 코로나19 확진자수는 총 556명이다. 이 중 국내 발생은 541명, 해외유입은 15명이며 이로써 총 누적확진자수는 14만4152명으로 증가했다.\\r\\n\\r\\n코로나19는 400~700명 선에서 증감을 반복하면서 여전히 불안정한 상태다. 전국에서 일상 속 감염이 지속되면서 수도권은 물론, 대구, 부산, 경남 등 비수도권에서도 확진자가 증가한 상태며 제주 역시 확진자가 꾸준히 발생하고 있는 상황이다.\\r\\n\\r\\n방역 당국은 &ldquo;코로나19가 뚜렷한 변화 없이 증감을 반복하고 있는 만큼 현재는 언제 어디서든 경각심을 갖고 방역수칙을 준수하는 것이 무엇보다 중요하다&rdquo;며 &ldquo;특히 예방접종을 모두 완료하더라도 마스크 착용 등 기본적인 방역수칙은 꼭 준수해줄 것&rdquo;을 당부했다.\\r\\n\\r\\n\\r\\n\\r\\n\\r\\n\\r\\n\\r\\n\\r\\n한편 코로나19예방접종은 어제 하루 14만1000명이 예방접종을 완료, 지금까지 총 759만5072명이 1차 접종을(신규 접종자 13만8649명), 총 227만9596명이 2차 접종(신규 접종자 2351명)을 완료했다.\\r\\n\\r\\n60~74세 어르신 예방접종은 내일(7일)부터 개인별 접종일정에 따라 순차적으로 진행될 전망이다.\\r\\n\\r\\n추진단은 &ldquo;접종이 예정돼 있는 어르신은 컨디션을 잘 유지하고 접종 후 주의사항을 다시 한 번 숙지해줄 것&rdquo;을 당부하면서 &ldquo;혹시 모를 상황을 대비해 보호자와 동행할 것&rdquo;을&nbsp;권장했다.]]></description>\\r\\n\\t\\t\\t<author>장인선 기자</author>\\r\\n\\t\\t\\t<pubDate>2021-06-06 13:00:56</pubDate>\\r\\n\\t\\t\\t</item>\\r\\n\\t\\t\\t<item>\\r\\n\\t\\t\\t<title>[반려동물 건강이야기] 우리 강아지 배꼽은 참외배꼽? 배꼽탈장에 대해서...</title>\\r\\n\\t\\t\\t<link>http://www.k-health.com/news/articleView.html?idxno=54031</link>\\r\\n\\t\\t\\t<section_code>S1N14</section_code><sub_section_code>S2N64</sub_section_code><serial_code>S1N14</serial_code>\\r\\n\\t\\t\\t<description><![CDATA[&nbsp;\\r\\n\\r\\n#1.\\r\\n\\r\\n[반려동물 건강이야기]\\r\\n\\r\\n우리 강아지 배꼽은 참외배꼽?\\r\\n\\r\\n배꼽탈장\\r\\n\\r\\n[24시 안산 온누리동물메디컬센터 박한별 대표원장]\\r\\n\\r\\n배꼽이 튀어나온 반려견 두부,\\r\\n\\r\\n지금까지는 당연히 그래야 한다고만 생각했다네요.\\r\\n\\r\\n과연 그럴까요?\\r\\n\\r\\n오늘 두부의 사연을 통해서 가벼이 여기면 안 되는 &lsquo;배꼽탈장&rsquo;에 대해서\\r\\n\\r\\n알아보는 시간을 갖도록 해요.\\r\\n\\r\\n#2.\\r\\n\\r\\n(보리) 두부야~ 너 배꼽이 볼록하게 튀어나왔어!\\r\\n\\r\\n(두부) 내 배꼽? 원래 배꼽은 볼록한 거 아니야?\\r\\n\\r\\n(보리) 무슨 소리야~\\r\\n\\r\\n배꼽이 볼록하게 튀어나와 있다면\\r\\n\\r\\n&#39;배꼽탈장&#39;일 가능성이 크다구!\\r\\n\\r\\n&lt;지금 강아지의 배꼽을 체크해보세요&gt;\\r\\n\\r\\n&bull;배꼽이 어디 있지?\\r\\n\\r\\n배꼽을 찾기가 힘들어요.\\r\\n\\r\\n: 정상\\r\\n\\r\\n&bull;여기 배꼽이 볼록하게 나와 있네!\\r\\n\\r\\n: 검진 요망\\r\\n\\r\\n#3.\\r\\n\\r\\n■배꼽탈장\\r\\n\\r\\n강아지가 태어나기 전에는 탯줄이\\r\\n\\r\\n배꼽 부위에 있는 구멍으로 연결되어 있어요.\\r\\n\\r\\n태어난 후에는 이 구멍이 자연스럽게 닫히는데\\r\\n\\r\\n만약 구멍이 닫히지 않고 남아 있으면\\r\\n\\r\\n뱃속의 지방, 장기 등이 구멍 사이로 빠져나와\\r\\n\\r\\n배꼽탈장이 발생하는 것이랍니다.\\r\\n\\r\\n#4.\\r\\n\\r\\n(두부) 배꼽에만 탈장이 생기는 거야?\\r\\n\\r\\n(보리) 탈장은 신체 어느 곳에서나 발생할 수 있어!\\r\\n\\r\\n배꼽이 아닌 다른 부분이 부풀어도 탈장을 의심해봐야 해.\\r\\n\\r\\n&bull;사타구니가 부풀었다면? 서혜부탈장 신호!\\r\\n\\r\\n혈관과 신경이 지나다니는\\r\\n\\r\\n사타구니 안쪽의 작은 구멍을 통해\\r\\n\\r\\n장기가 빠져나오면서 탈장이 발생해요.\\r\\n\\r\\n&bull;엉덩이가 부풀었다면? 회음부탈장 신호!\\r\\n\\r\\n항문 주위의 근육이 약해지면 그 틈으로\\r\\n\\r\\n장기가 빠져나오면서 탈장이 발생해요.\\r\\n\\r\\n중성화하지 않은 수컷에게 많이 나타나요.\\r\\n\\r\\n#5.\\r\\n\\r\\n(두부) 그럼 탈장은 어떻게 치료해야 해?\\r\\n\\r\\n(보리) 탈장을 치료하기 위해서는 수술이 필요해!\\r\\n\\r\\n■탈장 수술\\r\\n\\r\\n탈장 부위의 피부 절개\\r\\n\\r\\n&rarr; 탈장된 장기를 원래 위치로 환납\\r\\n\\r\\n&rarr; 탈장이 일어난 결손 부위 봉합\\r\\n\\r\\n&rarr; 절개된 피부 봉합\\r\\n\\r\\n※배꼽탈장은 응급상황이 아니라면\\r\\n\\r\\n중성화수술&middot;스케일링처럼 마취가 필요할 때\\r\\n\\r\\n함께 수술하는 것을 추천해요.\\r\\n\\r\\n(보리) 수의사 선생님과 상담 필수!\\r\\n\\r\\n#6.\\r\\n\\r\\n(두부) 수술은 무서운데&hellip; 꼭 탈장 수술을 해야 할까?\\r\\n\\r\\n(보리) 너처럼 배꼽탈장이라면\\r\\n\\r\\n어린 강아지가 성장하면서\\r\\n\\r\\n탈장 부위가 서서히 닫히기도 해서\\r\\n\\r\\n상태를 지켜보는 경우도 있어.\\r\\n\\r\\n하지만 시간이 지나도 그대로라면 수술해야 해.\\r\\n\\r\\n[24시 안산 온누리동물메디컬센터 박한별 대표원장]\\r\\n\\r\\n장기가 탈출했다가 꼬이거나 복벽에 눌리면\\r\\n\\r\\n혈액순환이 차단되고 장폐색이 일어나\\r\\n\\r\\n괴사까지 진행되는 응급상황이 발생할 수 있어요.\\r\\n\\r\\n그러니 큰 수술로 이어지기 전에\\r\\n\\r\\n미리 수술 받는 것을 추천해요.\\r\\n\\r\\n#7.\\r\\n\\r\\n■이럴 때는 빨리 탈장 수술을 받아야 해요\\r\\n\\r\\n&bull;탈장 부위의 크기가 커요.\\r\\n\\r\\n&bull;탈장 부위가 단단해요.\\r\\n\\r\\n&bull;탈장 부위의 색이 변했어요.\\r\\n\\r\\n&bull;탈장 부위에 통증이 나타나요.\\r\\n\\r\\n(보리) 주요 장기가 탈장되었을 수 있다는 응급신호라구!\\r\\n\\r\\n#8.\\r\\n\\r\\n참외배꼽으로 오인할 수 있는 배꼽탈장.\\r\\n\\r\\n특히 강아지를 처음 키우는\\r\\n\\r\\n초보 보호자라면 그냥 지나치기 쉬워요.\\r\\n\\r\\n강아지의 볼록한 배꼽이 보내는\\r\\n\\r\\n배꼽탈장의 신호를 놓치지 마세요!\\r\\n\\r\\n| 기획 : 당신을 위한 건강신문 &lsquo;헬스경향&rsquo;\\r\\n\\r\\n| 제작 : 모바일 펫콘텐츠 뱅크 &lsquo;펫메이트&rsquo;\\r\\n\\r\\n| 자문 : 박한별 24시간 안산 온누리동물메디컬센터(안산동물병원) 대표원장\\r\\n\\r\\n| 정리 : 김보람 기자\\r\\n\\r\\nⓒshutterstock.com]]></description>\\r\\n\\t\\t\\t<author>김보람 기자</author>\\r\\n\\t\\t\\t<pubDate>2021-06-06 00:00:00</pubDate>\\r\\n\\t\\t\\t</item>\\r\\n\\t\\t\\t<item>\\r\\n\\t\\t\\t<title>코로나19 확진자수, 700명대로 증가…안정세 없이 증감 반복</title>\\r\\n\\t\\t\\t<link>http://www.k-health.com/news/articleView.html?idxno=54034</link>\\r\\n\\t\\t\\t<section_code>S1N1</section_code><sub_section_code>S2N3</sub_section_code><serial_code>S1N1</serial_code>\\r\\n\\t\\t\\t<description><![CDATA[주 중반 600명대를 유지하던 코로나19 확진자수가 700명대로 증가했다.\\r\\n\\r\\n방역 당국에 따르면 5일 0시 기준으로 확인된 코로나19 확진자수는 총 744명이다. 이 중 국내 발생은 725명, 해외유입은 19명으로 확인됐으며 이로써 총 누적확진자수는 14만3596명으로 증가했다.\\r\\n\\r\\n코로나19 예방접종은 순항 중이지만 일상 속 코로나19감염이 여전히 지속되면서 확진자수는 400~700명 선에서 불안한 상황을 보이고 있다. 특히 현재는 서울과 경기 등 확산세를 주도하고 있는 수도권뿐 아니라 대구, 경남 등 일부 비수도권 지역과 제주 등도 확진자수가 증가한 상황이다.\\r\\n\\r\\n방역 당국은 &ldquo;코로나19 예방접종이 순차적으로 잘 진행되고 있지만 코로나19 감염위험은 여전히 전국적으로 확산돼 있다는 점을 명심해야 한다&rdquo;며 &ldquo;특히 예방접종을 완료하더라도 마스크 착용과 다중이용시설 이용 시 방역수칙을 엄격히 준수해줄 것&rdquo;을 재차 당부했다.\\r\\n\\r\\n\\r\\n\\r\\n\\r\\n\\r\\n\\r\\n\\r\\n한편 코로나19 예방접종은 어제 하루 39만7345명이 접종을 완료해 현재까지 총 745만5726명이 1차 접종을, 총 227만7137명이 2차 접종을 완료했다.\\r\\n\\r\\n60~74세 고령층에 대한 예방접종 사전예약은 높은 예약률(80.6%)을 기록하며 3일부로 종료됐다. 이들에 대한 예방접종은 7일부터 순차적으로 진행될 예정이다.]]></description>\\r\\n\\t\\t\\t<author>장인선 기자</author>\\r\\n\\t\\t\\t<pubDate>2021-06-05 11:21:40</pubDate>\\r\\n\\t\\t\\t</item>\\r\\n\\t\\t\\t<item>\\r\\n\\t\\t\\t<title>[반려동물 건강이야기] 놓치기 쉬운 반려동물 구강건강, 잊지 말고 챙겨주세요!</title>\\r\\n\\t\\t\\t<link>http://www.k-health.com/news/articleView.html?idxno=54030</link>\\r\\n\\t\\t\\t<section_code>S1N4</section_code><sub_section_code>S2N46</sub_section_code><serial_code>S1N4</serial_code>\\r\\n\\t\\t\\t<description><![CDATA[신성우 오산 블루베어동물병원 대표원장\\r\\n\\r\\n\\r\\n많은 매스컴과 유튜브 등에 의해&nbsp;반려동물 건강에 대한 보호자들의 인식은 점점 높아지고 있다. 하지만 놓치고 있는 것 중 하나가&nbsp;바로 반려동물 치아다. 반려동물의 구강건강은 상대적으로 눈에 띄지 않기 때문일 것이다. 미국수의치과협회(AVDS)는&nbsp;생후 3년 이상인 반려견의 경우&nbsp;80%, 반려묘는 70%가 치주질환을 앓는다고 보고했다.\\r\\n\\r\\n보통 반려동물의 치아관리를 위해서는 매일 양치를 해줘야 한다고 알려져 있다. 하지만&nbsp;강아지, 고양이를 키우는 보호자 대부분은 이 비현실적인 대안에 한숨밖에 안 나온다&nbsp;매일 해줘야 한다는 것은 알겠는데 어떻게 매일 이 혈투를 벌여야 하는지 말이다.\\r\\n\\r\\n반려동물은 스스로 구강관리를 못할뿐더러 작은 통증에 사람처럼 말로 표현도 하지 못한다. 따라서 음식물(특히 사람이 먹는 테이블푸드나 습식을 먹는 반려동물은 더욱 심한 편이다)을 먹다 보면 플라크가 쌓이다 이 플라크가 제거되지 않으면 치석으로 진행된다. 이것이&nbsp;심화되면 아직 반려동물에게 티는 안 나지만&nbsp;보호자는&nbsp;서서히 느끼기 시작한다. 한쪽으로 안 씹으려 한다거나 치아에서 정말 인상 찌푸릴 정도의 입냄새가 시작되면서 말이다.\\r\\n\\r\\n여기서 관리를 해주지 않으면 나중에는 잇몸도 녹게 되면서 치아를 뽑아야 하는 상황에 빠진다. 사실 발치를 하게 되면 강아지나 고양이는 덜 불편해하는 반면,&nbsp;보호자는 치아가 빠진 모습을 보면서 굉장히 미안함을 느낀다. 관리를 조금만 해줬더라면, 내가 관심을 조금만 더 가졌더라면 하면서 말이다.\\r\\n\\r\\n따라서 반려동물의 치아 역시 주기적인 관리가 굉장히 중요하다. 이미 많이 진행된 상태에서는 고감도 치과엑스레이를 통해서 뿌리까지 확인 후&nbsp;스케일링으로 통증 및 염증을 유발하는 치아를 제거하는 것이 맞다. 하지만 아직 뿌리가 버텨주고 치아상태가 회복 가능성이 있다면 굳이 발치하지 않고 스케일링 후&nbsp;꾸준히&nbsp;관리할 수 있다. 물론 매일매일 양치질을 해주는 것이 가장 좋지만&nbsp;본원에서는 1~2달에 1번씩 간단한 치석 및 플라크 제거 이후 치아에 약물도포를 통해 치석이 쌓이는 기간과 세균증식시간을 최대한 늦추는 방법을 추천한다.\\r\\n\\r\\n필요하다면 스케일링과 발치를 하겠지만 그 전에 막을 수 있는 것은 막자는 예방수의학의 관점에서 접근하는 것이다. 치과치료에 마취는 필수불가결한 상황이지만 되도록이면 마취를 걸지 않고 증상완화 및 유지를 하는 것도 좋은 방법 중 하나라고 생각한다.\\r\\n\\r\\n보통 보호자는 반려동물이 먹는 것에 많이 집중한다. 왜냐하면 눈에 잘 보이고 아이의 상태변화를 확인할 수 있는 가장 직관적인 방법이기 때문이다. 반려동물의 구강관리가 잘되고 있는 상황에서&nbsp;맛있게 허겁지겁 먹는 모습을&nbsp;바라볼 때 수의사인 나로서도 저절로 미소가 지어진다.&nbsp;]]></description>\\r\\n\\t\\t\\t<author>신성우 화성 블루베어동물병원 대표원장 l 정리·김보람 기자</author>\\r\\n\\t\\t\\t<pubDate>2021-06-05 00:00:00</pubDate>\\r\\n\\t\\t\\t</item>\\r\\n\\t\\t\\t<item>\\r\\n\\t\\t\\t<title>진단 쉽지 않은 ‘협심증’…조기발견 이끌 한국인 예측모델 나왔다</title>\\r\\n\\t\\t\\t<link>http://www.k-health.com/news/articleView.html?idxno=54033</link>\\r\\n\\t\\t\\t<section_code>S1N10</section_code><sub_section_code>S2N37</sub_section_code><serial_code>S1N10</serial_code>\\r\\n\\t\\t\\t<description><![CDATA[협심증은 심근경색으로 악화 전 조기에 진단하는 것이 중요하지만 협심증의 전형적인 증상인 흉통은 다양한 원인에 의해 유발될 수 있는 증상으로 감별이 쉽지 않다(사진=클립아트코리아).\\r\\n\\r\\n\\r\\n\\r\\n대표적인 심혈관질환으로 꼽히는 &lsquo;협심증&rsquo;. 심장에 산소를 공급하는 관상동맥에 협착이 생겨 흉통을 유발하는 질환으로 치료가 늦어지면 심근경색으로 진행, 생명에 치명적인 결과를 초래할 수 있다.\\r\\n\\r\\n따라서 협심증은 조기에 정확한 진단 후 빨리&nbsp;치료를 시작해야 한다.&nbsp;문제는 흉통을 호소하는 협심증환자 중 많은 환자가 근골격계질환, 대상포진, 호흡기질환, 정신질환 등이 원인인 경우가 있어 협심증을 감별해내기가 쉽지 않다는 것.\\r\\n\\r\\n이러한 상황에서 최근 국내 의료진이 한국인 협심증 예측모델을 제시,&nbsp;협심증의&nbsp;조기발견&middot;치료에 한층 힘이 실릴 전망이다.&nbsp;\\r\\n\\r\\n고대안암병원은 최근 순환기내과 박성미 교수팀(조동혁&middot;박성미 교수)이 심전도 기반 QT간격을 활용한 예측법을 개발했다고 밝혔다. 이는 기존의 서양인 기준 협심증모델에 QT간격을 추가해 한국인 협심증의 예측력을 획기적으로 높일 수 있는 예측모델이다.\\r\\n\\r\\n기존의 협심증 예측모델은 환자의 나이, 성별, 흉통의 양상, 동반 심혈관질환을 근거로 협심증을 예측한다. 하지만 담당의사가 이를 기반으로 환자를 열심히 진료할지라도 협심증환자를 놓치는 경우가 있는데 이렇게 놓친 환자가 심혈관사망의 1/3을 차지한다는 연구결과가 보고될 만큼 기존 예측모델의 정확도는 높지 않다는 것이 문제점으로 지적돼왔다.\\r\\n\\r\\n\\r\\n\\r\\n박성미 교수는 &ldquo;심전도검사의 QT간격을 기반으로 한 예측모델은 전형적인 흉통환자는 물론, 비전형적인 흉통에 있어서도 협심증을 보다 정확히 감별해내는 데 도움이 될 것&rdquo;이라고 말했다.\\r\\n\\r\\n\\r\\n\\r\\n이에 예측력&nbsp;높은 모델 개발의 필요성이 요구되던 가운데 박성미 교수팀은 협심증환자들이 협심증이 없는 사람에 비해 QT간격이 크다는 점에 주목해 연구에 착수했다.\\r\\n\\r\\nQT간격은 심전도검사 항목 중 하나로 Q파의 시작에서 T파 끝까지의 시간을 말하며 심실이 수축하기 시작한 시점부터 이완을 마칠 때까지의 간격이다. 관상동맥이 협착되면 심근허혈이 유발되는데 이는&nbsp;심실 세포들의 재분극 시간을 다르게 해&nbsp;QT&nbsp;간격을 증가시킨다.&nbsp;\\r\\n\\r\\n박성미 교수팀은 2012년 1월부터 2018년 5월까지 흉부증상을 호소한 환자 1741명이 국내 11개 병원의 외래에서 측정한 심전도 QT간격을 확인했다. 연구결과 협심증환자에서 QT간격은 444msec, 비협심증환자에서 429msec로 유의한 차이를 나타났다.\\r\\n\\r\\n또 협착된 관상동맥의 수가 많고 협착정도가 심할수록 QT간격이 증가하는 것으로 나타났으며 QT간격의 증가는 증가하지 않은 환자에 비해 2.27배 협심증의 위험도가 높다는 것을 규명하는 등 임상에서 QT간격이 협심증 진단과정에서의 중요한 지표로 활용할 수 있다는 것을 시사했다.\\r\\n\\r\\n연구의 책임저자인 고대안암병원 순환기내과 박성미 교수는 &ldquo;심전도는 대부분의 의료기관에서 흉통 환자에게 시행할 수 있는 비교적 간단한 검사&rdquo;라며 &ldquo;이 연구결과는 비싼 비용이 드는 검사 없이도 협심증의 예측력을 높일 수 있다는 점에서 의미가 있으며 이 연구결과를 바탕으로 협심증환자를 보다 정확하게 진단하여 국민 건강에 도움이 되기를 바란다&ldquo;고 밝혔다.\\r\\n\\r\\n이어 박성미 교수는 &ldquo;특히 여성환자에서와 같이 비전형적인 흉통으로 내원하였을 때 서양인 남성을 기반으로 개발된 기존 예측모델로는 협심증에 대한 위험도를 예측하기가 어려웠다&rdquo;며 &ldquo;이번 연구로 개발된 예측모델의 적용을 통해 비전형적인 흉통의 진단정확도를 높이고 조기발견 및 치료로 예후를 개선할 수 있을 것&rdquo;이라고 전망했다.\\r\\n\\r\\n한편 이번 연구(Incremental value of QT interval for the prediction of obstructive coronary artery disease in patients with chest pain)는 한국인여성흉통등록사업연구(KoROSE)로 진행됐으며 SCI급 국제학술지인 Scientific Reports에 2021년 5월에 게재돼&nbsp;국내외 학계에 큰 주목을 받고 있다.]]></description>\\r\\n\\t\\t\\t<author>장인선 기자</author>\\r\\n\\t\\t\\t<pubDate>2021-06-04 21:51:00</pubDate>\\r\\n\\t\\t\\t</item>\\r\\n\\t\\t\\t<item>\\r\\n\\t\\t\\t<title>여행지에서 휴식과 건강을 선물로 받다</title>\\r\\n\\t\\t\\t<link>http://www.k-health.com/news/articleView.html?idxno=54029</link>\\r\\n\\t\\t\\t<section_code>S1N11</section_code><sub_section_code>S2N45</sub_section_code><serial_code>S1N11</serial_code>\\r\\n\\t\\t\\t<description><![CDATA[&middot; 숲, 천연화산암반수 등 자연 적극 활용\\r\\n\\r\\n&middot; 리조트 내에 가정의학과 전문의도 상주\\r\\n\\r\\n&middot; 자연주의치료로 휴양은 물론 건강까지 케어\\r\\n\\r\\n\\r\\n\\r\\n&lsquo;더 위&rsquo;는 5성급 호텔과 병원시설을 갖춘 국내 최초의 프리미엄 헬스리조트로 &lsquo;웰니스센터&rsquo;와 &lsquo;메디컬스파센터&rsquo; 등 다양한 프로그램을 운영하고 있다.\\r\\n\\r\\n\\r\\n\\r\\n대한민국 건강&middot;의료산업의 선도기업을 직접 탐방해 생생한 현장의 목소리를 듣는 &lsquo;기업탐방&rsquo;코너입니다. 이번에는 코로나19로 인해 답답한 가슴을 시원하게 만들어 준다는 제주도 &lsquo;헬스리조트 더 위(THE WE, 이하 더 위)&rsquo;를 방문했습니다. 더 위는 단순히 휴식만을 제공하는 것이 아니라 건강까지 채워주는 곳입니다. &lt;편집자 주&gt;\\r\\n\\r\\n&ldquo;아이고 멀리서 오느라 애쓰셨습니다. 청정지역에 오신 걸 환영합니다&rdquo;라는 환영인사와 함께 리조트 소개가 이어졌다. 헬스리조트 더 위는 한라산 숲속에 자리해 탐방 내내 푸른 나무들로 힐링을 체험할 수 있다. 제주공항에서 자동차로 약 1시간 떨어진 곳에 위치한 더 위는 한라산 자락에 위치해 습도가 적당하고 피톤치드를 받을 수 있는 가장 좋은 고도에 자리 잡았다.\\r\\n\\r\\n더 위는 5성급 호텔과 병원시설을 갖춘 국내 최초의 프리미엄 헬스리조트로 &lsquo;웰니스센터&rsquo;와 &lsquo;메디컬스파센터&rsquo;에서 휴식과 건강을 지켜줄 다양한 프로그램을 운영하고 있다. 리조트에 사용되는 모든 물은 한라산 지하암반에서 올라온 천연화산암반수로 몸에 이상적인 중탄산과 바나듐, 마그네슘 등이 다량 함유돼 몸속 노폐물 제거와 피로회복, 피부미용에 도움을 준다.\\r\\n\\r\\n\\r\\n\\r\\n더 위는 숲을 이용한 &lsquo;위, 위드유(WE, with you)힐링 포레스트&rsquo;를 마련, 자연이 주는 음이온, 산소, 경관, 소리, 햇빛 등을 체험할 수 있다는 장점을 갖고 있다.\\r\\n\\r\\n\\r\\n\\r\\n■피톤치드 가득한 힐링 산책길\\r\\n\\r\\n더 위는 한라산 청정지역에 21만 평방미터에 달하는 숲을 보유해 자연이 주는 음이온, 산소, 경관, 소리, 햇빛 등을 온몸으로 체험할 수 있다. 여기에 인체공학적으로 설계된 다양한 산책로는 건강과 함께 더할 바 없는 쾌적함까지 선물해 그야말로 힐링 여행으로 손색이 없다. 약 1km에 달하는 진입로부터 산림테라피, 자연치유를 피부로 느낄 수 있다. 숲에는 계절에 따라 벚꽃, 철쭉, 산수국, 관중, 참꽃나무, 동백 등 다양한 제주 토종식물을 만날 수 있다.\\r\\n\\r\\n숲을 이용한 대표적 프로그램은 &lsquo;위, 위드유(WE, with you) 힐링 포레스트&rsquo; 숲 투어다. 매일 아침 진행하고 있으며 전문 숲해설사의 안내에 따라 원시림을 온전히 보존한 도래숲, 사계가 아름다운 해암숲을 둘러볼 수 있다. 또 &lsquo;메가와티 가든&rsquo;에서 이뤄지는 숲체험과 숲명상도 체험할 수 있다. 여기에 숲속 가든에서 나뭇가지가 바람에 흔들리는 소리, 새들의 지저귀는 소리, 시냇물 흐르는 소리 등 자연의 소리를 느끼며 진행하는 숲 요가프로그램도 매력적이다.\\r\\n\\r\\n무엇보다 천연화산암반수를 이용한 웰니스 프로그램인 &lsquo;해암 하이드로&rsquo; 프로그램도 빼놓을 수 없다. 자궁을 형상화한 돔 형태로 특수설계된 &lsquo;아쿠아 메디테이션 풀&rsquo;에서 진행되는 이 프로그램은 부유기를 이용해 몸을 물 위에 띄운 상태에서 진행된다. 스트레칭과 지압을 통해 심신안정과 긴장 완화, 스트레스 해소, 우울감 완화와 불면증 개선에 도움을 준다.\\r\\n\\r\\n실제로 프로그램 진행 시 물 위에 뜬 상태에서 깜박 잠이 드는 이들도 종종 있으며 &ldquo;신비로운 경험&rdquo;이라든가 &ldquo;세상에 이런 프로그램이 있었나요&rdquo;라고 후기를 작성하는 사람이 많다는 관계자의 설명이 이어졌다.\\r\\n\\r\\n개인적으로 추위에 민감해 &lsquo;추우면 어쩌지&rsquo;하는 불안도 있었지만 이는 기우에 불과했다. 아쿠아 메디테이션 풀은 34~37도 사이의 온도를 연중 유지하고 있어 걱정하지 않아도 될 듯.\\r\\n\\r\\n또 각기 다른 6가지의 기능성 풀에서 이뤄지는 &lsquo;아쿠아 서킷(Aqua Circuit)&rsquo;은 물의 압력을 이용하는 장치들을 통해 신진대사 촉진, 피부탄력 증가, 근육강화 및 이완 등의 효과를 제공한다.\\r\\n\\r\\n\\r\\n\\r\\n&lsquo;해암 하이드로&rsquo; 는 자궁을 형상화한 돔 형태로 특수설계된 &lsquo;아쿠아 메디테이션 풀&rsquo;에서 진행되는 프로그램이다. 해암 하이드로는 심신안정과 긴장 완화, 스트레스 해소, 우울감 완화와 불면증 개선에 도움을 준다.\\r\\n\\r\\n\\r\\n\\r\\n■물에서 이뤄지는 매력적인 운동기회\\r\\n\\r\\n물속에서 이뤄지는 &lsquo;아쿠아 엑서사이즈(Aqua Exercise)&rsquo;도 매우 흥미롭다. 아쿠아 누들, 아쿠아 덤벨, 하이드로 톤, 하이드로 부츠 등 다양한 운동기구를 이용해 진행되는데 근력강화, 관절 유연성, 밸런스기능 향상에 효과적인 수중운동프로그램으로 꾸준히 할수록 건강에 도움이 된다. 또 물 위에 서핑보드를 띄워 놓고 요가를 하는 &lsquo;서핑 요가&rsquo;는 코어근육 단련, 체형교정, 유연성 향상에 도움을 줘 인기가 높다는 설명이다.\\r\\n\\r\\n\\r\\n\\r\\n더 위 리조트 내에는 가정의학과 전문의가 상주하는 건강증진센터와 성형외과 전문의가 상주하는 병원이 있어 안전한 휴가를 보낼 수 있다.\\r\\n\\r\\n\\r\\n\\r\\n■자연주의치료 도입한 &lsquo;메디컬 스파센터&rsquo;\\r\\n\\r\\n메디컬 스파센터는 진통, 해열, 항경련, 배설촉진, 발열, 진정과 수면, 자극과 강장, 발한 등에 효과적인 자연주의치료법을 도입했다. 먼저 고객과의 개별상담을 통해 건강상태에 맞춰 본인에게 가장 최적화된 프로그램을 선정한다. 이후 전문트레이너가 정확하고 체계적인 트리트먼트를 제공한다.\\r\\n\\r\\n메디컬 스파센터의 대프로그램인 &lsquo;온열치료&rsquo;는 적외선과 원적외선을 이용해 체내면역시스템을 활성화시키는 프로그램으로 피부미용 및 해독, 면역력증강, 항노화작용, 전신근육의 통증조절 및 기능강화의 4단계로 이뤄져 있다.\\r\\n\\r\\n게다가 리조트 내에 가정의학과 전문의가 상주하는 건강증진센터와 성형외과 전문의가 상주하는 병원이 있어 더욱 마음 놓고 즐길 수 있다는 것도 장점이다.\\r\\n\\r\\n\\r\\n\\r\\n더 위는 2017년에는 국내 최초 유럽의 환경경영심사제도인 &lsquo;EMAS&rsquo;(이마스)인증을 받았으며 한국관광공사가 선정한 21~22년 웰니스 추천관광지로 선정된 바 있다.\\r\\n\\r\\n\\r\\n\\r\\n■한국관광공사, 웰니스 추천관광지 선정\\r\\n\\r\\n더 위호텔은 세계적으로 통용되는 여행전문사이트인 트립어드바이저에서 4년 연속 트래블러즈 초이스에 선정됐으며 이에 앞서 한국관광공사가 선정한 21~22년 웰니스 추천관광지로 선정된 바 있다. 지난 2017년에는 국내에서 처음으로 유럽의 환경경영심사제도인 &lsquo;EMAS&rsquo;(이마스)인증을 받아 환경경영시스템을 인정받은 친환경호텔이기도 하다.\\r\\n\\r\\n우권영 센터장 &ldquo;최근 신체와 정신의 여유로움, 안락함을 지향하는 &lsquo;웰니스&rsquo;가 새로운 트렌드로 떠오르고 있는데 미래가치가 높은 웰니스 프로그램을 상시 운영하고 있다&rdquo;며 &ldquo;천연자원을 활용한 자연주의테라피와 휴양, 뷰티를 넘어 건강까지 증진시키는 국내 유일의 프리미엄 &lsquo;헬스 리조트&rsquo;가 되기 위해 더욱 노력하겠다&rdquo;고 말했다.]]></description>\\r\\n\\t\\t\\t<author>한정선 기자</author>\\r\\n\\t\\t\\t<pubDate>2021-06-04 17:33:00</pubDate>\\r\\n\\t\\t\\t</item>\\r\\n\\t\\t\\t<item>\\r\\n\\t\\t\\t<title>[좌담] 계절 관계없이 줄줄 흐르는 땀 ‘다한증’</title>\\r\\n\\t\\t\\t<link>http://www.k-health.com/news/articleView.html?idxno=54028</link>\\r\\n\\t\\t\\t<section_code>S1N10</section_code><sub_section_code>S2N37</sub_section_code><serial_code>S1N10</serial_code>\\r\\n\\t\\t\\t<description><![CDATA[&middot; 유전에 의한 원발성 국소다한증\\r\\n\\r\\n&middot; 신경손상에 따른 속발성 다한증\\r\\n\\r\\n&middot; 호르몬, 감정, 스트레스 등 연관\\r\\n\\r\\n&middot; 카페인 피하고 유산소운동 추천\\r\\n\\r\\n\\r\\n\\r\\n왼쪽부터 한정선 헬스경향 기자, 허창훈 분당서울대병원 피부과 교수, 김현조 순천향대병원 피부과 외래교수(CNP차앤박피부과 천안불당점 원장).\\r\\n\\r\\n\\r\\n\\r\\n여름이 유난히 두려운 사람이 있다. 바로 시도 때도 없이 흐르는 땀이 고민인 &lsquo;다한증&rsquo;환자. 겨드랑이는 물론 맵거나 짠 음식을 먹을 때도 땀이 비 오듯 흐르는 탓에 사회생활에 지장을 줄 정도다. 더욱이 많은 사람을 만나는 사람의 경우 악수조차 곤혹스럽기만 하다. 게다가 이는 기온이 오르는 여름에만 나타나는 일시적인 증상도 아니다.\\r\\n\\r\\n하지만 다한증은 치료 가능한 피부질환이라는 사실을 아는 사람이 드물다. 현재 다한증치료를 위한 다양한 치료법이 발전하고 있어 정확히 진단하고 빨리 치료만 한다면 삶의 질을 더욱 높일 수 있다. 허창훈 분당서울대병원 피부과 교수, 김현조 피부과전문의(CN차앤박피부과 천안불당점 원장)와의 좌담을 통해 다한증에 대해 폭넓게 알아봤다.\\r\\n\\r\\n한정선 기자 : 다한증의 증상과 원인은 무엇입니까.\\r\\n\\r\\n허창훈 교수 : 누구나 체온이 올라가면 수분이 증발해 정상체온을 유지하기 위해 땀이 나옵니다. 하지만 생리적으로 필요한 땀의 양보다 더 많이 나오는 것을 다한증이라고 합니다. 땀샘은 크게 다한증과 관련된 에크린한선과 겨드랑이, 비뇨생식기 부위에 분포해 불쾌한 냄새와 관련 있는 아포크린한선으로 나뉩니다. 교감신경의 작용에 의해 나오는 땀은 호르몬, 감정, 스트레스 등과 연관돼 있습니다.\\r\\n\\r\\n한정선 기자 : 다한증진단은 어떻게 이뤄집니까.\\r\\n\\r\\n허창훈 교수 : 시도 때도 없이 흘리는 땀으로 쉽게 진단할 수 있습니다. 특히 땀이 나는 부위를 결정하고 땀의 양을 정량화하기 위해 몇 가지 테스트를 하는데 가장 많이 사용되는 방법은 &lsquo;전분-요오드검사(starch-iodine test)&rsquo;입니다.\\r\\n\\r\\n요오드용액을 바른 뒤 녹말가루를 뿌리면 땀이 발생하는 부위가 보라색으로 변해 땀이 나는 부위를 확인할 수 있습니다. 또 거름종이를 이용해 땀을 흡수시켜 중량을 재거나 발한측정기 등을 통해 측정할 수도 있습니다. 다한증진단을 위한 절대적 수치는 없지만 대부분 겨드랑이는 50mg/min, 손바닥은 20mg/min 이상이면 병으로 봅니다.\\r\\n\\r\\n\\r\\n\\r\\n다한증은 필요한 땀의 양보다 더 많이 나오는 증상을 말하는데 호르몬, 감정, 스트레스 등과 연관돼 있다.\\r\\n\\r\\n\\r\\n\\r\\n한정선 기자 : 다한증 종류는 어떤 것들이 있습니까.\\r\\n\\r\\n허창훈 교수 : 다한증은 원발성 국소다한증과 속발성 다한증으로 나눌 수 있습니다. 원발성 국소다한증은 손바닥, 발바닥, 겨드랑이 등 국소부위에만 땀이 나는 현상으로 유전적 요소가 강합니다. 속발성 다한증은 신경손상에 의해 이차적으로 발생하며 당뇨에 의한 말초신경병증 또는 복합부위통증증후군 등에서 볼 수 있습니다. 뇌손상 후에도 병변 반대 측에 다한증이 생기거나 내분비 이상 등에 의해서도 발생할 수 있습니다.\\r\\n\\r\\n한정선 기자 : 다한증을 치료하지 않고 방치할 경우 어떤 위험이 있습니까.\\r\\n\\r\\n허창훈 교수 : 다한증을 치료하려는 가장 큰 이유는 사회적인 문제입니다. 땀을 많이 흘릴 경우 불결하다는 인식은 물론 땀과 함께 증식된 미생물이 불쾌한 냄새를 만드는 경우가 있어 대인기피증까지 생길 수 있습니다. 간혹 심한 경우 측정 시험지가 젖을 정도여서 일상생활이 거의 불가능한 사례도 있습니다.\\r\\n\\r\\n한정선 기자 : 다한증은 어떻게 치료하나요?\\r\\n\\r\\n김현조 전문의 : 손과 발에 발생하는 원발성 국소다한증의 경우 교감신경을 절제하는 수술을 할 수 있습니다. 교감신경은 긴장할 때 항진되고 발한을 유도하는 신경으로 이를 절단해 땀 분비를 저하시키는 수술법입니다.\\r\\n\\r\\n예전에는 피부를 직접 절개해 교감신경을 절제했지만 최근에는 내시경을 이용해 흉추와 요추의 교감신경을 절제하거나 클립으로 묶어 차단하기 때문에 흉터 등의 부작용을 줄일 수 있습니다. 이밖에 겨드랑이다한증의 경우 땀샘을 긁어내 없애는 &lsquo;소파술&rsquo;이나 지방조직 사이에 존재하는 땀샘을 지방흡입과 함께 없애는 &lsquo;지방흡입술&rsquo;도 있습니다.\\r\\n\\r\\n\\r\\n\\r\\n&lsquo;전분-요오드검사(starch-iodine test)&rsquo;는 땀이 나는 부위를 결정하고 땀의 양을 정량화하기 위한 검사다. 전분-요오드검사는 땀이 발생하는 부위에 요오드용액을 바른 뒤 녹말가루를 뿌린다. 이때 땀이 발생하는 부위는 보라색으로 변한다.\\r\\n\\r\\n\\r\\n\\r\\n한정선 기자 : 다한증 수술의 부작용은 어떤 것이 있는지요?\\r\\n\\r\\n허창훈 교수 : 교감신경절제술의 경우 간혹 &lsquo;보상성 다한증&rsquo;이 발생할 수 있습니다. 예컨대 손바닥의 땀 분비가 줄어든 만큼 가슴, 등, 허벅지, 종아리 등 땀이 나지 않던 부위에서 땀의 양이 늘어나는 현상입니다. 이는 일종의 인체방어기전으로 이런 부작용이 나타날 경우 다른 치료법을 선택해 위에 추가치료를 해야 합니다. 또 소파술이나 지방흡입술의 경우 창상감염과 피부괴사, 피부변색 등이 발생할 수 있습니다.\\r\\n\\r\\n한정선 기자 : 다한증을 치료하는 방법으로 수술 외에 어떤 방법이 있습니까?\\r\\n\\r\\n김현조 전문의 : 일반적으로 ▲바르는 약 ▲경구복용약 ▲이온영동요법 ▲극초단파치료 ▲보툴리눔톡신주사 등이 있습니다. 바르는 약은 &lsquo;알루미늄염&rsquo;이 가장 일반적인데 매일 도포할 경우 작열감, 이상감각, 자극감 등 부작용이 발생할 수 있습니다. 또 항콜린성약물인 경구복용약은 구강건조증, 시력조절장애, 소변정체, 변비, 기억장애 등의 부작용이 있어 신중하게 사용해야 합니다.\\r\\n\\r\\n이밖에 이온영동요법은 물이 담긴 수조에 손바닥 또는 발바닥을 넣고 약한 전류를 흘려 치료하는 방법으로 아직 정확한 원리는 밝혀지지 않았습니다. 현재 약 81%의 환자가 효과를 보고 있지만 치료시간이 길고 홍반, 작열감, 물집 등이 발생할 수 있습니다. 또 임산부나 심박조율기를 사용하는 경우 주의해야 합니다.\\r\\n\\r\\n한정선 기자 : 보툴리눔톡신주사법은 어떤 원리를 이용한 것입니까?\\r\\n\\r\\n김현조 전문의 : 아세틸콜린은 땀샘에서 땀을 분비하도록 신호하는 신경전달물질입니다. 이때 보툴리눔톡신을 땀이 나는 부위에 주사하면 아세틸콜린의 분비를 줄여 땀 분비를 억제합니다. 최근 보툴리눔톡신주사의 간편성 때문에 다한증치료법으로 많이 선호합니다. 시술시간이 짧고 한번 시술로 4~6개월 간 효과가 지속됩니다. 또 비보험인 주름치료와 달리 다한증은 증상에 따라 실비보험적용이 가능해 시술비 부담을 줄일 수 있습니다.\\r\\n\\r\\n단 손이나 발바닥에 주사할 경우 심한 통증을 수반한다는 단점이 있습니다. 이를 개선하기 위해 시술 전 신경마취를 하거나 공기압을 이용한 약물전달기를 통해 통증을 경감시키기도 합니다. 또 주사부위가 너무 넓거나 양이 많으면 보툴리눔독소의 영향으로 근육도 약해질 수 있어 악기를 연주하거나 손을 예민하게 조절해야 하는 일을 한다면 주의해야 합니다.\\r\\n\\r\\n\\r\\n\\r\\n다한증 치료에는 ▲바르는 약 ▲경구약 ▲이온영동요법 ▲극초단파치료 ▲보툴리눔톡신주사 등이 사용된다. 이중 보툴리눔톡신주사가&nbsp;간편성 때문에 다한증치료법으로 가장 많이 사용된다.&nbsp;\\r\\n\\r\\n\\r\\n\\r\\n한정선 기자 : 의료기기를 이용해 다한증을 치료하는 방법도 있나요?\\r\\n\\r\\n김현조 전문의 : 고주파와 레이저 중간 정도 되는 &lsquo;극초단파(microwave)&rsquo;를 이용해 땀샘을 제거하는 방법이 있습니다. 극초단파는 전자레인지에 사용되는 전자기파로 음식물의 물분자를 빠르게 움직여 온도를 올려 음식을 익힙니다. 땀도 물로 이뤄져 있어 인체조직에 극초단파를 쬐면 땀분비가 많은 부위의 온도가 올라가 땀샘이 선택적으로 파괴되는 원리입니다.\\r\\n\\r\\n단 의료기기이다 보니 보툴리눔톡신주사에 비해 치료비가 높다는 단점이 있습니다. 또 겨드랑이는 시술 후 3~4일 정도 지속되는 묵직함과 피부괴사 같은 부작용도 드물게 나타납니다. 따라서 극초단파를 이용한 치료법은 보툴리눔톡신주사치료에 반응이 적거나 장기적으로 효과를 유지하고자 하는 환자에게 권유합니다.\\r\\n\\r\\n한정선 기자 : 다한증을 예방하는 방법은 무엇입니까.\\r\\n\\r\\n김현조 전문의 : 긴장이나 스트레스는 다한증을 악화시키기 때문에 평소 긍정적인 마음으로 생활하려 노력하고 스트레스 해소를 위한 걷기, 산책 등 가벼운 유산소운동을 추천합니다. 또 교감신경을 자극할 수 있는 술과 커피, 홍차 등 카페인이 많이 함유된 음료나 지나치게 맵고 짠 음식은 자제하는 것이 좋습니다. 비만 역시 다한증을 악화시킬 수 있어 체중을 적절히 관리해야 합니다.]]></description>\\r\\n\\t\\t\\t<author>한정선 기자</author>\\r\\n\\t\\t\\t<pubDate>2021-06-04 16:06:00</pubDate>\\r\\n\\t\\t\\t</item>\\r\\n\\t\\t\\t<item>\\r\\n\\t\\t\\t<title>“치매극복 가능성 보여… 비약물적 치료효과 주목”</title>\\r\\n\\t\\t\\t<link>http://www.k-health.com/news/articleView.html?idxno=54027</link>\\r\\n\\t\\t\\t<section_code>S1N3</section_code><sub_section_code>S2N41</sub_section_code><serial_code>S1N3</serial_code>\\r\\n\\t\\t\\t<description><![CDATA[저강도집중초음파,&nbsp;알츠하이머병 치료효과 확인\\r\\n\\t전두엽기능 및&nbsp;포도당대사 상승, 뇌신경물질 분비\\r\\n\\t약물치료와 비약물적치료 병행해 치료효과 높여야\\r\\n\\r\\n\\r\\n\\r\\n\\r\\n정용안 교수는 &ldquo;최근 알츠하이머병 치료기술이 발전하면서 치매정복에 희망이 보인다&rdquo;며 &ldquo;알츠하이머병은 조기 진단과 치료가 가장 중요한 만큼 적극 치료에 임하기 바란다&rdquo;고 당부했다.&nbsp;\\r\\n\\r\\n\\r\\n\\r\\n초음파자극으로 알츠하이머병(치매)을 치료할 수 있는 길이 열렸다. 현재 알츠하이머병은 완치방법이 없어&nbsp;약물로 진행속도를 늦출 수밖에 없다. 그런데 최근&nbsp;초음파자극으로 알츠하이머병을 치료할 수 있다는 연구가 발표되면서 대안으로 주목받고 있다.\\r\\n\\r\\n가톨릭대 인천성모병원 정용안&middot;송인욱 교수팀은&nbsp;저강도집중초음파를 통한 알츠하이머병 개선효과를 확인, &lsquo;알츠하이머병환자에 대한 저강도 집중초음파 자극시스템의 탐색 임상연구&rsquo;를 SCI(E) 학술지 &lsquo;ULTRASONOGRAPHY&rsquo;에 발표했다. 이에 핵의학과 정용안 교수를 만나봤다.&nbsp;\\r\\n\\r\\n- 초음파자극으로&nbsp;알츠하이머병을 치료할 수 있다고.\\r\\n\\r\\n&lsquo;베타아밀로이드&rsquo;라는 단백질은 알츠하이머병을 유발하는 요인 중 하나다.&nbsp;베타아밀로이드가 뇌에 축적되면서&nbsp;신경독성을 유발해 알츠하이머병이 발생하는 것이다. 이 베타아밀로이드를 제거할&nbsp;치료제가&nbsp;연구되고 있다. 하지만 약물치료는 부작용 우려가 있어&nbsp;전기, 자기장, 초음파 세 가지가 효과적인 대안으로 여겨진다. 그 중에서도 초음파는 뇌의 정확한 위치를 선택해 직접 자극할 수 있는 장점이 있다.&nbsp;\\r\\n\\r\\n- 연구는 어떻게 진행됐는가.&nbsp;\\r\\n\\r\\n연구에서는 베타아밀로이드가 가장 먼저 쌓이는 해마 오른쪽 부위를 정확히 표적해&nbsp;저강도집중초음파를 3분 동안 자극했다. 자극 후 실시한 신경심리검사 결과 환자들의 기억력, 실행기능, 인지기능 등이 상승하는 것을 확인할 수 있었다. 또&nbsp;뇌신경전달물질이 뇌에 분비되는 것으로 나타났다. 구체적인 치료효과와 안전성등은 현재 연구 중이다.&nbsp;\\r\\n\\r\\n- 어떤 의의가 있을까.&nbsp;\\r\\n\\r\\n이번 연구는&nbsp;최초로&nbsp;의료기기를 통해 뇌의 알츠하이머 개선효과를 확인했다는 데 의의가 있다. 특히 탐색임상에서 전두엽기능이&nbsp;향상된 것으로 나타났다. 전두엽기능이 좋아지면 환자의 대인관계가 개선돼 알츠하이머병 치료에 도움을 줄 수 있다.&nbsp;또 초음파로 자극한 해마의 포도당대사가 상승했다. 포도당대사가 활발해지면 혈류가 촉진돼 뇌기능이 향상된다. 향후 치료가 상용화 된다면 약물치료와 병행해 효과를 더욱 높이고 약물부작용을 줄일&nbsp;것으로 기대한다.&nbsp;\\r\\n\\r\\n\\r\\n\\r\\n알츠하이머병 환자 해마 오른쪽 부위에 저강도집중초음파를 자극하는 모습.\\r\\n\\r\\n\\r\\n\\r\\n- 부작용 우려는 없는가.\\r\\n\\r\\n비침습적 방식이지만 뇌를 직접 자극하기 때문에 간혹 두통, 피부발적 등이 나타날 수 있다. 앞으로 부작용에 대해서는 더 확인이 필요하지만 지금까지 다른 심각한 위해반응은 없었다.&nbsp;\\r\\n\\r\\n- 또 국가&nbsp;치매연구개발사업&rsquo;&nbsp;세부과제를 수주했다고.&nbsp;\\r\\n\\r\\n치매연구개발사업에서는 초음파로 뇌혈관장벽을 열어주는 방법을 찾고 있다.&nbsp;뇌혈관장벽은 약물이 뇌혈관에 전달되는 것을 방해한다. 따라서&nbsp;뇌혈관장벽을 여는 것이 치매치료에서 가장 중요한 과제다. 뇌혈관장벽이 열려 약물이 원활히 전달된다면 투여해야 하는 약물의 양도 줄어 부작용도 감소할 것이다.\\r\\n\\r\\n- 치매치료에서 중요한 것은 무엇일까.\\r\\n\\r\\n알츠하이머병은 현재 완치가 불가능한 병이다. 조기진단을 통해 최대한&nbsp;진행속도를 늦추는 것이 가장 중요하다. 특히 약물과 비약물치료를 복합적으로 병행하는 것이 효과적이다. 앞으로도 다양한 비약물적 치료가&nbsp;개발되는 것도 필요하다. 다양한 전문가들이 모여 목소리를 내고 함께 방법을 모색할 자리가 더욱 마련되길 바란다.&nbsp;\\r\\n\\r\\n- 알츠하이머병 환자들에게 당부하고 싶은 말은.&nbsp;\\r\\n\\r\\n과학이 발전하면서 치매극복에 대한 가능성도 커졌다. 치료제에 대한 연구가 활발히 진행중이며 국가에서도 환자들을 위해 다양한 프로그램을 지원한다. 알츠하이머병을 발견했다면 좌절하지 말고 적극적으로 치료에 임하기 바란다.]]></description>\\r\\n\\t\\t\\t<author>김보람 기자</author>\\r\\n\\t\\t\\t<pubDate>2021-06-04 15:36:00</pubDate>\\r\\n\\t\\t\\t</item>\\r\\n\\t\\t\\t<item>\\r\\n\\t\\t\\t<title>코로나19 확진자수, 연일 600명대…대구·제주 등도 증가세</title>\\r\\n\\t\\t\\t<link>http://www.k-health.com/news/articleView.html?idxno=54026</link>\\r\\n\\t\\t\\t<section_code>S1N1</section_code><sub_section_code>S2N3</sub_section_code><serial_code>S1N1</serial_code>\\r\\n\\t\\t\\t<description><![CDATA[코로나19 확진자수가 3일 연속 600명대에서 정체되고 있다.\\r\\n\\r\\n방역 당국에 따르면 4일 0시 기준으로 발생한 국내 코로나19확진자수는 총 695명이다. 이 중 국내 발생은 674명, 해외유입은 21명으로 확인됐으며 이로써 총 누적확진자수는 14만2852명으로 증가했다.\\r\\n\\r\\n서울과 경기 등 수도권 확진자수는 각각 200명대로 증가세를 유지 중이며 대구, 경남, 제주 등도 확진자수가 크게 증가한 상태다.\\r\\n\\r\\n방역 당국은 &ldquo;연일 600명대 신규 환자가 발생하는 가운데 대구&middot;제주지역도 변이바이러스를 포함해 지역감염이 지속되고 있다&rdquo;며 &ldquo;특히 이동량이 많은 주말에는 거리두기와 방역수칙에 더욱 경각심을 가져줄 것&rdquo;을 재차 당부했다.\\r\\n\\r\\n\\r\\n\\r\\n\\r\\n\\r\\n\\r\\n\\r\\n한편 지속 순항 중인 코로나19 예방접종은 아스트라네제카 백신 사전예약자, 화이자백신 접종대상자 등을 감안하면 상반기 1300만명+&alpha; 접종과 전 국민 25% 이상 접종목표를 조기에 달성할 수 있을 것이라는 설명이다.\\r\\n\\r\\n\\r\\n\\r\\n\\r\\n\\r\\n\\r\\n\\r\\n코로나19예방접종 대응추진단(이하 추진단)에 따르면 4일 0시 기준으로 약 709만명(아스트라제네카백신 455만명, 화이자백신 254만명)이 1차 접종을 완료(13.8%)했다. 또 어제부로 60~74세 어르신 예방접종 사전예약을 종료한 결과 약 733만명이 예약을 완료, 80.6%로 높은 사전예약률을&nbsp;달성했다.\\r\\n\\r\\n추진단은 &ldquo;치명률이 높은 어르신들에서 높은 예방접종 사전예약률을 기록한 것은 의미가 크다&rdquo;며 &ldquo;일상 회복에 한 발짝 더 다가설 수 있도록 차질 없이 어르신들의 예방접종을 진행하겠다&rdquo;고 밝혔다.\\r\\n\\r\\n한편 유치원 교직원&middot;어린이집&middot;초등 1&middot;2학년 교사 및 돌봄인력(대상자 38만명, 사전예약자 약 31만명)은 접종계획이 조정돼 다른 초&middot;중&middot;고교 교직원(약 70만명)과 함께 7~8월 중 접종을 실시할 예정이다.\\r\\n\\r\\n이는 지난 6월 2일 발표된 2학기 전면등교 계획에 따라 접종기간이 비교적 짧은 mRNA백신(화이자3주, 모더나4주) 접종을 통해 8월 말 학교 개학에 차질이 없도록 하기 위함이다.\\r\\n\\r\\n방역 당국은 &ldquo;변경된 접종일정을 개인별로 안내해 현장의 혼선을 최소화할 계획&rdquo;이라며 &ldquo;이번 접종계획 조정을 통해 모든 선생님이 여름방학 중 예방접종을 완료, 2학기는 보다 안전한 교육환경을 조성할 수 있을 것으로 기대한다&rdquo;고 전했다.]]></description>\\r\\n\\t\\t\\t<author>장인선 기자</author>\\r\\n\\t\\t\\t<pubDate>2021-06-04 15:09:00</pubDate>\\r\\n\\t\\t\\t</item>\\r\\n\\t\\t\\t<item>\\r\\n\\t\\t\\t<title>고대안암병원 천식환경보건센터, ‘건강보호학생 관리방안’ 매뉴얼 발표</title>\\r\\n\\t\\t\\t<link>http://www.k-health.com/news/articleView.html?idxno=54025</link>\\r\\n\\t\\t\\t<section_code>S1N1</section_code><sub_section_code>S2N2</sub_section_code><serial_code>S1N1</serial_code>\\r\\n\\t\\t\\t<description><![CDATA[고대안암병원 천식환경보건센터가 서울시 초&middot;중&middot;고 &lsquo;건강보호학생 관리방안&rsquo; 매뉴얼을 발표했다.\\r\\n\\r\\n\\r\\n\\r\\n고대안암병원 천식환경보건센터는 4일 서울특별시 교육청 교육 연구 정보원과 교육 정책 연구소의 위탁을 받아 서울시 초&middot;중&middot;고 &lsquo;건강보호학생 관리방안&rsquo; 매뉴얼을 발표했다.\\r\\n\\r\\n그동안 국내외에서 제작된 여러 기저질환과 관련한 학생 건강관리지침들이 이미 일선 학교에 제공됐지만 내용이 너무 전문적이고 방대해 의료인이 아닌 현장교사들이 이해하고 활용하기에는 한계가 있다는 지적이 있었다.\\r\\n\\r\\n이에 서울시 교육청은 학교 현장에서 교사들이 기저질환으로 인해 학교생활에 어려움이 있는 건강보호학생들을 관리 및 지도하는 방법에서 현실적인 어려움을 인식하고 주의 및 관리가 필요한 학생들의 관리방법에 대한 표준화된 서식을 제공하고자 고대안암병원 환경보건센터에 개발을 요청했다. 새로 개발한 매뉴얼은 심장질환 및 돌연사, 알레르기질환, 당뇨병 등 3가지 주제를 담고 있다.\\r\\n\\r\\n고대안암병원 천식환경보건센터 관계자는 &ldquo;건강보호학생 관리방안은 2021년부터 서울시 일선 초&middot;중&middot;고등학교에 배포될 예정이며 추후 활용 및 성과 결과에 따라 서울시 교육청과의 협업을 이어나가겠다&rdquo;고 설명했다.]]></description>\\r\\n\\t\\t\\t<author>이원국 기자</author>\\r\\n\\t\\t\\t<pubDate>2021-06-04 14:43:00</pubDate>\\r\\n\\t\\t\\t</item>\\r\\n\\t\\t\\t<item>\\r\\n\\t\\t\\t<title>더위에 달아오른 두피, 효과적인 관리법은?</title>\\r\\n\\t\\t\\t<link>http://www.k-health.com/news/articleView.html?idxno=54020</link>\\r\\n\\t\\t\\t<section_code>S1N13</section_code><sub_section_code>S2N75</sub_section_code><serial_code>S1N13</serial_code>\\r\\n\\t\\t\\t<description><![CDATA[두피는 우리 몸에서 가장 많이 자외선을 쐬는 부위로 기온과 습도에 매우 민감하다. 특히 여름에는 땀과 피지가 활발하게 분비돼 자주 씻어내지 않으면 지루성두피염, 탈모 등의 문제가 발생할 수 있다. 따라서 두피전용제품으로 꼼꼼하게 관리해주는 것이 중요하다.\\r\\n\\r\\n■먼저 노폐물 꼼꼼히 제거!\\r\\n\\r\\n\\r\\n\\r\\n라벨영 &lsquo;쇼킹두피샴푸바&rsquo;는 두피냄새와 노폐물, 지나친 피지등을 효과적으로 제거해주는 두피전용 샴푸바이다.&nbsp;&nbsp;\\r\\n\\r\\n\\r\\n\\r\\n라벨영의 &lsquo;쇼킹두피샴푸바&rsquo;는 각종 두피문제를 해결하기 위해 특별히 고안된 두피전용 샴푸바이다. 피지분비 조절 및 노폐물제거에 도움이 되는 멘톨과 탄산수 성분이 함유됐다. 티트리, 녹차, 솔잎 성분은 자극으로부터 예민해진 두피를 순하게 진정시킨다. 또 레몬오일에서 나는 상큼한 향이 여름철 두피냄새를 효과적으로 제거하고 기분전환을 돕는다.\\r\\n\\r\\n특히 두피모공을 막아 각종 문제를 유발할 수 있는 화학성분을 철저히 배제, 최소한의 정제수와 85%이상의 영양성분으로 구성됐다. 각종 자극으로 예민한 두피에도 사용할 수 있으며 쫀득하고 풍성한 거품은 두피의 미세한 노폐물을 씻어낸다.\\r\\n\\r\\n■다음은 두피 자극 달래주기!\\r\\n\\r\\n\\r\\n\\r\\n르네휘테르&nbsp;&rsquo;아스테라 프레시 수딩 세럼&rsquo;은 두피온도를 즉각 낮춰 자극받은 두피와 모발을 진정시킨다.\\r\\n\\r\\n\\r\\n\\r\\n두피 노폐물을 씻어냈다면 외부 자극으로 열이 오른 두피를 진정시켜줄 차례다. 르네휘테르의 &lsquo;아스테라 프레시 수딩 세럼&rsquo;은 국화추출물인 아스테라세아가 두피 자극을 달래 두피온도를 즉각 2.5도 낮춰준다. 민트와 유칼립투스 성분은 두피 열을 내리고 가려움증을 개선해준다. 뾰족한 용기 끝부분으로 두피를 마사지하면 보다 효과적으로 진정효과를 볼 수 있다. 씻어낼 필요가 없어 수시로 사용할 수 있는 제품이다.\\r\\n\\r\\n■마지막은 풍부한 영양공급!\\r\\n\\r\\n\\r\\n\\r\\n클로란 &lsquo;피오니 핑크젤리 두피 진정팩&rsquo;은 두피와 모발에 풍부한 영양을 공급해준다.\\r\\n\\r\\n\\r\\n\\r\\n두피에 영양까지 공급해야 마침내 건강한 두피로 거듭날 수 있다. 클로란의 &lsquo;피오니 핑크젤리 두피 진정팬&rsquo;은 모발과 두피를 동시에 관리할 수 있는 제품이다. 최대 49도 이하 저온에서 압착한 천연추출물로 본연의 효능을 온전히 담았다. 베타인과 글리세린 성분은 모발에 수분을 즉각 공급해 윤기를 부여한다. 샴푸 후 두피와 모발에 도포한 뒤 손가락으로 마사지하고 2~3분 후 씻어내면 된다.]]></description>\\r\\n\\t\\t\\t<author>김보람 기자</author>\\r\\n\\t\\t\\t<pubDate>2021-06-04 14:37:14</pubDate>\\r\\n\\t\\t\\t</item>\\r\\n\\t\\t\\t<item>\\r\\n\\t\\t\\t<title>인공관절수술, 미룰수록 합병증위험만 쑥↑</title>\\r\\n\\t\\t\\t<link>http://www.k-health.com/news/articleView.html?idxno=54024</link>\\r\\n\\t\\t\\t<section_code>S1N10</section_code><sub_section_code>S2N37</sub_section_code><serial_code>S1N10</serial_code>\\r\\n\\t\\t\\t<description><![CDATA[노년기 단골질환 퇴행성관절염. 비교적 초기에 발견하면 약물, 주사치료 등으로 증상을 관리할 수 있지만 연골이 이미 닳아서 회복이 불가능한 말기 상태라면 인공관절로 교체하는 수술이 필요하다. 하지만 코로나19 감염은 물론,&nbsp;인공관절수술 자체에 대한 우려로 수술을 망설이는 환자들이 많다.\\r\\n\\r\\n인공관절수술은 관절 겉면을 금속으로 씌워주고 그 사이에 특수 플라스틱이나 세라믹을 삽입, 매끈하게 움직일 수 있게 하는 수술이다. 자신의 뼈는 그대로 보존하기 때문에 의학적 용어로는 &lsquo;관절치환술&rsquo;이라고 부르며 무릎뿐 아니라 고관절에도 시행한다.\\r\\n\\r\\n서울특별시 서남병원 인공관절센터 김영후 센터장은 &ldquo;닳아진 연골은 다시 회복이 불가능하기 때문에 관절염 말기환자들은 인공관절수술이 유일한 치료&rdquo;라며 &ldquo;단 인공관절수술에도 적기가&nbsp;있다는 것을 기억해야한다&rdquo;고 강조했다.\\r\\n\\r\\n실제로 인공관절수술시기를 놓치면 통증이 심해지는 것은 물론, 향후에는 아예 수술이 어려워지며 수술해도&nbsp;회복과 재활에&nbsp;더 오랜 시간이&nbsp;걸린다.&nbsp;무엇보다 가장 큰 문제는&nbsp;움직이지 못하면서 여러 치명적인 합병증이 발생할 수 있다는 것.&nbsp;&nbsp;\\r\\n\\r\\n김영후 센터장은 &ldquo;거동이 어려워 누워서 오랫동안 생활하다 보면 식사 중 사레가 쉽게 들리고 흡인성폐렴의 원인이 될 수도 있다&rdquo;며 &ldquo;이밖에&nbsp;혈액순환이 안 되면서 정맥에 혈전이 생기는 정맥혈전증이 발생, 심한 경우 폐경색 등으로 악화돼 사망위험이 높아진다&rdquo;고 말했다.\\r\\n\\r\\n\\r\\n\\r\\n인공관절수술을 받아야 하는 상태인데도 무작정 수술을 미루면 통증이 심해지는 것은 물론, 걷지 못하게 되면서 여러 가지 치명적인 합병증이 발생할 수 있다(사진=클립아트코리아).&nbsp;&nbsp;\\r\\n\\r\\n\\r\\n\\r\\n비록 젊을 때의 쌩쌩한 관절로 되돌아가는 건 아니지만 인공관절수술은 수술 중에서도 성공률과 만족도가 매우 높다고 알려졌다. 무엇보다 수술 후에는 최소한 안 아프게 걸을 수 있어 산책과 장보기 등 평범한&nbsp;일상생활이 가능해진다.&nbsp;이러한 일상생활은 노년기 삶의 질을 유지하는 데도 큰 도움이 된다.&nbsp;\\r\\n\\r\\n당뇨병, 고혈압, 심장병 등의 기저질환이 있는 고령층도 적절한 내과적치료 후 얼마든지 수술이 가능하다. 김영후 센터장은 &ldquo;기저질환이 있으면 수술이 안 된다는&nbsp;편견이 있지만 환자가 수술 후 충분히 걸을 수 있을 것으로 예상된다면&nbsp;적절한 내과적치료 후 수술을 시행하는 것이 좋다&rdquo;고 설명했다.\\r\\n\\r\\n이어 &ldquo;인공관절수술은 대개 하루 반 정도가 지나면 관절범위운동과 보행, 화장실을 다녀올 수 있을 정도로 회복되며 보행연습을 시작해 특이사항이 없는 경우 수술 후 14일경 퇴원한다&rdquo;며 &ldquo;보행능력을 유지하면서 노년기 평범한 일상생활을 누리는 것은 만성질환 관리와 우울감 등을 벗어나는 데도 큰 도움이 될 것&rdquo;이라고&nbsp;강조했다.]]></description>\\r\\n\\t\\t\\t<author>장인선 기자</author>\\r\\n\\t\\t\\t<pubDate>2021-06-04 14:35:00</pubDate>\\r\\n\\t\\t\\t</item>\\r\\n\\t\\t\\t<item>\\r\\n\\t\\t\\t<title>세브란스병원, ‘두개저내시경센터’ 리뉴얼로 정밀의료에 성큼</title>\\r\\n\\t\\t\\t<link>http://www.k-health.com/news/articleView.html?idxno=54023</link>\\r\\n\\t\\t\\t<section_code>S1N1</section_code><sub_section_code>S2N2</sub_section_code><serial_code>S1N1</serial_code>\\r\\n\\t\\t\\t<description><![CDATA[세브란스병원이 두개저종양 맞춤형치료를 제공하고자 &lsquo;두개저내시경센터&rsquo;를 리뉴얼 오픈했다.\\r\\n\\r\\n\\r\\n\\r\\n세브란스병원은 1일 두개저종양 맞춤형치료를 제공하고자 &lsquo;두개저내시경센터&rsquo;를 새로 오픈했다.\\r\\n\\r\\n두개저내시경센터는 신경외과, 이비인후과, 안과, 성형외과, 방사선종양학과, 영상의학과, 종양내과 등 7개 임상과 15명의 전문의로 구성돼 있다. 두개저는 뇌가 얹혀 있는 두개골 바닥을 뜻한다. 문제는 이 부위에 종양이 발생할 경우 뇌신경과 혈관으로 인해 치료가 매우 어렵다는 것이다.\\r\\n\\r\\n두개저종양에는 두개저의 가장 깊숙한 &lsquo;사대&rsquo;라는 곳에서 발생해 두개저를 광범위하게 침습하는 척삭종 외에도 뇌하수체종양, 후각신경아세포종, 청신경초종, 뇌수막종, 부신경절종양, 안와종양 등이 포함돼 있다. 또 두개골의 안쪽 부분이 아닌 바깥쪽에서 종양이 두개저를 침범할 때도 있다. 이 경우 코, 귀 등 두경부에서 발생하는 각종 종양에 관해 전문적인 팀에 의한 치료가 필요하다.\\r\\n\\r\\n과거에는 머리를 열고 두개저종양 제거술을 진행했지만 최근에는 안전하고 효율적인 내시경수술이 주를 이루고 있다. 내시경수술은 코와 귀 등에 내시경을 삽입해 수술한다. 체내 자연적으로 존재하는 공간을 통해 접근하기 때문에 오랜 시간 소요되지 않으며 개두술로 접근하기 어려운 위치에 쉽게 접근할 수 있다는 장점을 갖고 있다.\\r\\n\\r\\n단 수술에서 가장 중요한 것이 숙련된 의료진들의 협업이다. 수술이 매우 좁은 공간에서 이뤄지고 각종 뇌신경과 혈관을 보호해야 하기 때문에 숙련된 술기를 가진 외과 전문의가 필요하다. 또 후각상실과 같은 합병증을 최소화하기 위해 이비인후과의 전문성 또한 요구되며 뇌신경과 뇌혈관의 보존에서는 신경외과의 역할이 절대적이다. 이밖에도 종양 제거 후 재건을 하는 과정에서는 성형외과의 도움이 필요하다.\\r\\n\\r\\n이에 두개저내시경센터 소속 의료진들은 실제 센터가 생기기 전 월 1회 다학제 협력회의를 진행해 왔다. 약 1시간 넘게 진행되는 회의에서는 수술이 매우 어려운 환자 사례에 대해 신경외과, 이비인후과, 안과, 성형외과, 방사선종양학과, 영상의학과, 종양내과 의료진들이 환자중심의 최적화된 치료가 가능하도록 논의한다.\\r\\n\\r\\n두개저내시경센터를 이끄는 장종희 센터장(신경외과 교수)은 &ldquo;최고 수준의 여러 과 전문가들이 협력해 고난도질환인 두개저종양과 질환들을 치료한다&rdquo;며 &ldquo;두개저종양에 대한 체계적 치료체계를 구축해 세브란스병원 두 개저내시경센터가 두 개저종양치료의 국내 메카로 자리매김할 수 있도록 최손을 다하겠다&rdquo;고 말했다.]]></description>\\r\\n\\t\\t\\t<author>이원국 기자</author>\\r\\n\\t\\t\\t<pubDate>2021-06-04 14:13:25</pubDate>\\r\\n\\t\\t\\t</item>\\r\\n\\t\\t\\t<item>\\r\\n\\t\\t\\t<title>“운동 후 뻐근한 몸 시원하게”…토트넘 ‘소닉 보스웰리아 크림’ 국내 첫선</title>\\r\\n\\t\\t\\t<link>http://www.k-health.com/news/articleView.html?idxno=54022</link>\\r\\n\\t\\t\\t<section_code>S1N13</section_code><sub_section_code>S2N75</sub_section_code><serial_code>S1N13</serial_code>\\r\\n\\t\\t\\t<description><![CDATA[손흥민 선수 소속팀인 잉글랜드 프리미어리그(EPL) 토트넘 화장품이 국내 첫선을 보인다.\\r\\n\\r\\n에스고인터내셔널은 오늘(4일) NS홈쇼핑에서 보스웰리아 추출물이 함유된 토트넘 홋스퍼 &lsquo;소닉 보스웰리아 크림&rsquo;의 첫 론칭 특가방송을 진행한다고 밝혔다.\\r\\n\\r\\n에스고인터내셔널은 손흥민 선수의 소속팀인 잉글랜드 프리미어리그(EPL) 토트넘 홋스퍼와 공식 라이선스 계약을 맺고 소닉 보스웰리아 크림을 정식 출시했다.\\r\\n\\r\\n보스웰리아 추출물은 &lsquo;관절 및 연골건강에 도움을 줄 수 있음&rsquo;의 내용으로 식품의약품안전처로부터 건강기능식품 기능성원료로 인정받았다.\\r\\n\\r\\n\\r\\n\\r\\n관절건강에 도움을 줄 수 있는 보스웰리아 추출물을 함유한 토트넘 홋스퍼 &lsquo;소닉 보스웰리아 크림&rsquo;이 홈쇼핑을 통해 국내에도 첫선을 보인다.\\r\\n\\r\\n\\r\\n\\r\\n에스고인터내셔널에 따르면 이번 제품에는 보스웰리아추출물이 무려 1만ppm(1%) 함유됐다. 홈트와 스트레칭, 근육운동, 웨이트닝 전후 언제나 사용할 수 있으며 특히 운동 전후 어깨, 종아리, 무릎 관절부위를 중심으로 원하는 곳에 적당량 마사지하듯 발라주면 열감과 시원함을 느낄 수 있다. 또 뭉친 근육의 피로를 풀어주는 데 도움을 준다.\\r\\n\\r\\n이밖에도 신체 부위에 빠르게 흡수돼 촉촉하면서도 끈적임이 덜한 제품으로 4계절 내내 사용이 가능하다. 부드러우면서 수분감과 발림성이 좋고 바르면 후끈 열이 발생하면서 시간이 지날수록 시원함을 느낄 수 있어 여름에는 특히 효과적이다.\\r\\n\\r\\n이밖에 할미꽃추출물, 요엽후박나무껍질추출물, 백선뿌리추출물 등 특허 받은 자연유래 성분이 함유돼 건강한 피부로 가꾸는 데 도움을 준다. 피부 미용에 도움을 주는 마테잎추출물도 함유, 피부 탄력 증진도 기대할 수 있다.\\r\\n\\r\\n실제로 소닉 보스웰리아 크림은 코어덤 피부과학연구소를 통해 피부 일차자극 테스트를 완료한 바 있다. 인체적용시험에서도 피부 온도 감소(쿨링), 피부 보습, 피부 탄력 개선, 일시적인 피부 온도 증가, 피부 뻣뻣함 릴렉스에 대한 효과를 모두 확인했다.\\r\\n\\r\\n에스고인터내셔널 유병영 대표는 &ldquo;토트넘크림은 NS소싱팀과 에스테르의 깐깐한 연구진이 5개월에 걸쳐 성분과 제형감을 개발해 피부에 최적화시킨&nbsp;제품&rdquo;이라며 &ldquo;크림의 본래 기능뿐 아니라 피부탄력과 보습기능이 추가된 것도 차별화된 점&rdquo;이라고 설명했다.&nbsp;이어 &ldquo;첫 론칭을 기념해 제품을 보다 할인된 가격에 만나볼 수 있으니 많은 관심 부탁드린다&rdquo;고 덧붙였다.\\r\\n\\r\\n한편 토트넘 홋스퍼 소닉 보스웰리아 크림은 60ml, 30ml 2가지로 출시됐으며&nbsp;30ml는 한손에 들어오는 크기로 운동과 이동 시 휴대하기 더욱 편리하다.]]></description>\\r\\n\\t\\t\\t<author>장인선 기자</author>\\r\\n\\t\\t\\t<pubDate>2021-06-04 13:40:00</pubDate>\\r\\n\\t\\t\\t</item>\\r\\n\\t\\t\\t<item>\\r\\n\\t\\t\\t<title>[반려동물 건강이야기] 가려워서 괴로운 만성 지간염, 수술이 필요할 수도!</title>\\r\\n\\t\\t\\t<link>http://www.k-health.com/news/articleView.html?idxno=54021</link>\\r\\n\\t\\t\\t<section_code>S1N4</section_code><sub_section_code>S2N46</sub_section_code><serial_code>S1N4</serial_code>\\r\\n\\t\\t\\t<description><![CDATA[김담 시흥 은계지구 고래동물병원 외과원장\\r\\n\\r\\n\\r\\n올해 4월 미국 하버드 의대 연구진이 만성 가려움증을 일으키는 분자 메커니즘을 발견했다고 발표했다. 기존에&nbsp;만성 가려움증은&nbsp;확실한 치료법이 없어&nbsp;대증처치에 의존해야 했지만 이제 효과적인 치료 방법을&nbsp;찾게 될 가능성이 있는 것이다. 가려움증은 피부를 긁거나 문지르고 싶은 욕망을 일으키는 불쾌한 감각이다. 가려움증이 생명에 직접적인 영향을 주지는 않지만 일상생활에 지장을 주거나 이차감염으로 인해 참기 힘든 고통을 줄 수 있다.\\r\\n\\r\\n사람도 참기 힘든 가려움증은 반려동물이라고 다르지 않다. 피부병이 생기면 병변 부위가 가려워 피부를 핥거나 긁기 시작한다. 심한 경우 너무 핥아서 붓고 피가 나거나 발톱으로 긁다 상처가 감염되기도 한다. 특히 지간염은 다양한 원인으로 발가락에 염증이 발생하고 염증으로 가려움증이 심해져 계속 핥다가 악화되는 악순환이 반복되기도 한다.\\r\\n\\r\\n지간염이 생기는 원인은 이물, 과민반응, 기생충, 세균감염, 곰팡이감염 등으로 다양하며 음식에 의한 알레르기나 아토피성피부염에 의해서도 발생할 수 있다. 프렌치 불도그, 잉글리시 불도그처럼 발가락 사이에 털이 짧다면 털이 자극돼 발가락 사이에 만성 염증반응이 발생할 수 있다. 추가로 체중이 많이 나가거나 관절문제로 인해 체중이 쏠리는 발에서도 지간염이 생길 수 있다. 자가면역반응으로 발생하는 경우도 있으며 이는 피부 조직검사를 통해 확인한다.\\r\\n\\r\\n지간염이 생기면 나타나는 가장 큰 증상은 가려움증으로 인해 발을 핥거나 계속 씹는 것이다. 계속해서 발을 핥거나 씹으면 발이 습해져 세균이나 곰팡이가 번식하기 쉬운 환경이 된다. 이로 인해 이차감염이 발생하고 가려움증은 더 심해져 나중에는 아파하기도 한다.\\r\\n\\r\\n원인에 따른 적절한 치료가 진행된다면 치료기간은 길지만 치료할 수 있다. 소독과 국소적인 연고 처치가 필요하고 추가로 감염 처치를 위해 내복약을 먹기도 해야 하며 통증관리도 이뤄져야 한다. 알레르기나 아토피는 먹는 약이나 가려움증을 완화해주는 주사처치도 할 수 있다. 종에 따라&nbsp;체중감량도 필요하다. 하지만 꾸준한 치료와 장기적인 관리에도 지간염이 재발하거나 악화할 수 있고 삶의 질을 높여주기 위해 수술적인 치료가 필요한 상황도 있다.\\r\\n\\r\\n특히 발바닥에서부터 유래돼 발등으로 터져 나오는 염증은 피부가 잘 아물다가도 반복적으로 터져 출혈이 나서 내원하는 일이 많다.\\r\\n\\r\\n\\r\\n\\r\\n출처: uclos DD, Hargis AM, Hanley PW. Pathogenesis of canine interdigital palmar and plantar comedones and follicular cysts, and their response to laser surgery. Veterinary dermatology. 2008 Jun;19(3):134-41\\r\\n\\r\\n\\r\\n\\r\\n다음 사례는 8살 시추가 타원에서 내과적으로 관리 받다가 완전히 치료되지 않고 몇 년 동안 염증이 지속해 발등이 터지고 아무는 것이 반복되다 병원에 온 것이다. 기존 검사를 통해 잘 관리하고 있었지만&nbsp;완치되지 않고 너무 괴로워해 염증부위를 완전히 제거하는 수술적 치료가 진행됐고 수술 이후&nbsp;가려움증 없이 재발하지 않고 잘 유지되고 있다.\\r\\n\\r\\n\\r\\n\\r\\n\\r\\n\\r\\n\\r\\n\\r\\n만성적인 지간염에 의한 가려움증은 심하면 잠을 못 잘 정도로 가려워하고 아파해 반려동물의 삶의 질을 떨어뜨릴 수 있다. 원인에 따라 내과적인 관리부터 해보고 개선이 없으면 수술적인 방법까지 고려해 반려동물들이 아파하지 않고 건강한 삶을 살 수 있게 꾸준한 치료와 관리가 필요하다.]]></description>\\r\\n\\t\\t\\t<author>김담 고래동물병원 외과원장 l 정리·김보람 기자</author>\\r\\n\\t\\t\\t<pubDate>2021-06-04 13:35:53</pubDate>\\r\\n\\t\\t\\t</item>\\r\\n\\t\\t\\t<item>\\r\\n\\t\\t\\t<title>동아에스티, 바이오시밀러 ‘DMB-3115’ 임상1상 완료</title>\\r\\n\\t\\t\\t<link>http://www.k-health.com/news/articleView.html?idxno=54019</link>\\r\\n\\t\\t\\t<section_code>S1N11</section_code><sub_section_code>S2N42</sub_section_code><serial_code>S1N11</serial_code>\\r\\n\\t\\t\\t<description><![CDATA[동아에스티가 스텔라라 바이오시밀러 &lsquo;DMB-3115&rsquo;의 유럽 임상1상을 성공적으로 마무리했다.\\r\\n\\r\\n\\r\\n\\r\\n동아에스티는 4일 스텔라라 바이오시밀러 &lsquo;DMB-3115&rsquo;의 유럽 임상1상을 성공적으로 완료했다고 밝혔다.\\r\\n\\r\\n유럽 임상1상은 건강한 성인 296명을 대상으로 DMB-3115와 유럽, 미국에서 사용되는 스텔라라의 피하 투여 시 약동학적 특정, 안전성 및 면역원성을 비교했다. 임상결과 DMB-3115는 스텔라라와 약동학적 변수 지표 기준에서 생물학적 동등성이 입증됐다. 또 안전성 및 면역원성에서 유의한 차이가 없었다.\\r\\n\\r\\n얀센이 개발한 스텔라라는 면역매개물질 인터루킨-12와 인터루킨-23의 p40 서브유닛을 차단해 염증세포의 활성화를 억제하는 바이오의약품이다. 판상건선과 건선성관절염, 크론병 및 궤양성대장염과 같은 염증성질환치료제다.\\r\\n\\r\\n동아쏘시오홀딩스와 메이지세이카파마는 2013년부터 DMB-3115의 공동개발을 추진해 왔으며 지난해 7월 동아에스티로 개발 및 상헙화에 관한 권리가 이전됐다. 현재는 동아에스티와 메이지세이카파마가 공동개발을 진행 중이다.\\r\\n\\r\\n동아에스티는 올해 1분기 미국에서 임상3상을 시작했다. 이어 유럽은 폴란드, 에스토니아, 라트비아에서 임상3상을 개시하며 순조롭게 글로벌 임상3상을 진행하고 있다. 유럽에서는 총 9개국에서 순차적으로 진행될 예정이다.\\r\\n\\r\\n글로벌 임상3상은 동아쏘시오홀딩스 계열사인 디엠바이오에서 생산한 임상시료를 사용해 중등도에서 중증의 만성판성환자를 대상으로 DMB-3115와 스텔라라의 피하 투여 시 유효성, 안전성, 면역원성을 비교하기 위해 무작위 배정, 이중눈가림, 다기관, 평행비교, 활성대조시험이 실시된다.\\r\\n\\r\\n동아에스티 관계자는 &ldquo;유럽 임상1상 결과에서 바이오시밀러인 DMB-3115과 스텔라라와 동등하다는 것을 입증하면서 임상3상의 성공 가능성도 높아졌다고 판단된다&rdquo;며 &ldquo;조속한 시일 내에 글로벌 임상3상을 성공적으로 끝마쳐 우수한 품질과 경제성을 갖춘 바이오의약품을 전 세계에 공급하겠다&rdquo;고 설명했다.]]></description>\\r\\n\\t\\t\\t<author>이원국 기자</author>\\r\\n\\t\\t\\t<pubDate>2021-06-04 11:37:53</pubDate>\\r\\n\\t\\t\\t</item>\\r\\n\\t\\t\\t<item>\\r\\n\\t\\t\\t<title>동국대의료원 김동억 교수 연구팀, 국가 연구과제 수주</title>\\r\\n\\t\\t\\t<link>http://www.k-health.com/news/articleView.html?idxno=54018</link>\\r\\n\\t\\t\\t<section_code>S1N1</section_code><sub_section_code>S2N2</sub_section_code><serial_code>S1N1</serial_code>\\r\\n\\t\\t\\t<description><![CDATA[동국대의료원 신경과 김동억 교수(뇌졸중 중점 의과학연구소장)\\r\\n\\r\\n\\r\\n\\r\\n동국대의료원은 신경과 뇌졸중센터 김동억 교수 연구팀이 3일 과학정보통신부, 교육부가 주관하는 &lsquo;2021년 대학중점연구소 지원사업&rsquo;에 선정됐다고 밝혔다.\\r\\n\\r\\n이번 사업은 이공분야 대학부설연구소의 특성화･전문화를 유도, 우수한 신진연구 인력을 육성하도록 지원하려는 목적이다.\\r\\n\\r\\n이로써 동국대의료원 뇌졸중 중점 의과학연구소(김동억 소장)는 &lsquo;뇌혈관질환 혈액-면역계&rsquo; 연구에 국비 70억 원, 지자체 및 대학에서 13억 4000만 원 등 총 82억7천만원을 지원받게 된다. 연구기간은 2021년 6월부터 2030년 2월까지 총 9년이다.\\r\\n\\r\\n이번 연구에는 알레르기내과 김우경 교수, 안과 박철용 교수, 신경과 류위선 교수, 의공학교실 남기창 교수 등이 김동억 소장 등이 참여한다.&nbsp;\\r\\n\\r\\n연구팀은 이번 과제 수행을 통해 국제적 수준의 뇌혈관질환 기초-중개 연구 인프라를 확보하고 고양시 바이오 의료 거점연구소의 역할도 수행할 계획이다.\\r\\n\\r\\n김동억 교수는 &ldquo;6년 간 하버드의대와 수행한 연구재단 글로벌 연구실 과제의 뇌혈전증 연구 성과가 뇌졸중 중점연구소 사업으로 곧바로 연계돼 기쁘고 앞으로 9년간 뇌경색 및 뇌출혈 연구에 매진하겠다&rdquo;며 &ldquo;동국대학교와 고양시의 연구비 대응자금 지원에 감사하며 국민세금으로 지원되는 뇌혈관질환 분야 첫 중점연구소가 훌륭한 성과를 낼 수 있도록 최선을 다하겠다&rdquo;고 말했다.\\r\\n\\r\\n한편 동국대의료원 뇌졸중 중점 의과학연구소는 동국대 BT분야 특성화 방향에 부합하는 국제 수준의 의생명과학 연구성과 도출을 목적으로 2006년 5월 개소했으며 동국대학교의 대표적인 의생명과학 연구소이다.]]></description>\\r\\n\\t\\t\\t<author>김보람 기자</author>\\r\\n\\t\\t\\t<pubDate>2021-06-04 10:53:48</pubDate>\\r\\n\\t\\t\\t</item>\\r\\n\\t\\t\\t<item>\\r\\n\\t\\t\\t<title>휴먼피부임상시험센터, 금천 나눔의 전당에 이름 올라</title>\\r\\n\\t\\t\\t<link>http://www.k-health.com/news/articleView.html?idxno=54017</link>\\r\\n\\t\\t\\t<section_code>S1N13</section_code><sub_section_code>S2N75</sub_section_code><serial_code>S1N13</serial_code>\\r\\n\\t\\t\\t<description><![CDATA[휴먼피부임상시험센터가 최근 &lsquo;금천 나눔의 전당&rsquo;에 이름을 올렸다. 왼쪽부터 금천구 유성훈 구청장, 휴먼피부임상시험센터 정희정 대표\\r\\n\\r\\n\\r\\n\\r\\n휴먼피부임상시험센터가 4일 &lsquo;금천 나눔의 전당&rsquo;에 이름을 올렸다고 밝혔다.\\r\\n\\r\\n금천 나눔의 전당은 기부자들의 뜻을 기리고 기부문화를 확산시키고자 서울시 금천구가 설치한 곳이다.\\r\\n\\r\\n개인은 3000만원, 기업 및 단체는 5000만원 이상 또는 현물 1억 원 이상을 기부하거나 약정한 경우 나눔의 전당에 이름이 등재되고 현액식에 초대받는다.\\r\\n\\r\\n휴먼피부임상시험센터 정희정 대표는 &ldquo;어려운 환경 속에서도 꿋꿋이 자신의 뜻을 펼치는 이웃들에게 힘을 보태주고 싶다&rdquo;며 &ldquo;내년까지 금천구에 6천만원을 기부할 것&rdquo;이라고 말했다.\\r\\n\\r\\n한편 휴먼피부임상센터는 금천구 2021 희망온돌 따듯한 겨울나기 1,000만원, 금천구 이웃돕기 사업 2,000만원, 금천장애인종합복지관 500만원 등을 기부하고&nbsp;금천구 푸드뱅크마켓센터 화장품기부를&nbsp;진행한 바 있다.]]></description>\\r\\n\\t\\t\\t<author>김보람 기자</author>\\r\\n\\t\\t\\t<pubDate>2021-06-04 09:26:00</pubDate>\\r\\n\\t\\t\\t</item>\\r\\n\\t\\t\\t<item>\\r\\n\\t\\t\\t<title>한국중앙자원봉사센터, 행정정보시스템 사용자 온라인 교육 실시</title>\\r\\n\\t\\t\\t<link>http://www.k-health.com/news/articleView.html?idxno=54016</link>\\r\\n\\t\\t\\t<section_code>S1N11</section_code><sub_section_code>S2N45</sub_section_code><serial_code>S1N11</serial_code>\\r\\n\\t\\t\\t<description><![CDATA[한국중앙자원봉사센터가 센터 관리자 1600명을 대상으로 행정정보시스템 사용자 교육을 진행했다.\\r\\n\\r\\n\\r\\n\\r\\n한국중앙자원봉사센터(이하 센터)는 지난 1일부터 3일간 전국 245개 자원봉사센터의 관리자를 대상으로 기관 운영의 투명성과 책무성을 강화하기 위해 &lsquo;2021 행정정보시스템 사용자 교육&rsquo;을 진행했다고 밝혔다.\\r\\n\\r\\n이번 교육은 코로나19 확산 방지를 위해 비대면 온라인으로 진행된다. 센터는 전자결재시스템 및 회계&middot;인사 관리 시스템 활용과 관련한 내용을 학습, 자원봉사센터 관리자들의 업무 효율성을 증진하고 전자결재 시스템 사용 환경을 정착시키기 위해 이번 교육을 마련했다고 전했다.\\r\\n\\r\\n교육은 행정&middot;회계정보시스템을 이용하고 있는 센터의 관리자 1600명을 대상으로 진행되며 시스템 신규 이용자를 대상으로 한 기초 교육(사원정보 관리, 기관정보 관리, 시스템 관리, 예산편성 등)과 함께 기존 이용자를 대상으로 한 보수 교육(예산신청/승인, 예산집행, 전표관리 등)으로 나눠 진행된다.\\r\\n\\r\\n아울러 센터는 행정정보시스템 이용에 관한 질의응답을 통해 시스템 이용에 관한 불편사항을 접수, 개선함으로써 이용자들의 편의성을 증진하고 더 나아가 향후 시스템 사용 센터의 수를 증가시킨다는 계획이다.\\r\\n\\r\\n권미영 센터장은 &rdquo;행정정보시스템 사용자 교육은 자원봉사센터 종사자의 행정업무 수행의 편의성과 효율성을 증진하고 공문서 기록관리 기반을 마련함과 동시에, 기관 운영의 투명성을 제고하기 위해 추진되는 사업&ldquo;이라며 &rdquo;이번 교육을 통해 자원봉사 관리자들의 행정기록 관리역량이 강화되길 바란다&ldquo;고 말했다.]]></description>\\r\\n\\t\\t\\t<author>장인선 기자</author>\\r\\n\\t\\t\\t<pubDate>2021-06-04 08:33:00</pubDate>\\r\\n\\t\\t\\t</item>\\r\\n\\t\\t\\t<item>\\r\\n\\t\\t\\t<title>애니메디솔루션, ‘이노핏 프렌즈’로 소비자에게 한 발짝 더</title>\\r\\n\\t\\t\\t<link>http://www.k-health.com/news/articleView.html?idxno=54015</link>\\r\\n\\t\\t\\t<section_code>S1N11</section_code><sub_section_code>S2N58</sub_section_code><serial_code>S1N11</serial_code>\\r\\n\\t\\t\\t<description><![CDATA[애니메디솔루션은 오늘 이노핏 프렌즈 1기 수료식을 개최하고 한 달간 활약해준 이들에게 수료증과 격려의 메시지를 전달했다.&nbsp;\\r\\n\\r\\n\\r\\n\\r\\n맞춤형 의료기기 전문기업 애니메디솔루션(이하 애니메디)이 SNS 마케터 &lsquo;이노핏 프렌즈&rsquo; 1기 활동을 성공적으로 마무리했다고 밝혔다.\\r\\n\\r\\n애니메디는 지난 4월 맞춤형 코 보형물 &lsquo;이노핏(innofit)&rsquo;과 관련된 다양한 홍보활동을 진행, 소비자 대상 브랜드 및 제품의 인지고를 제고하고자 이노핏 프렌즈를 선발한 바 있다.\\r\\n\\r\\n패션&middot;성형&middot;뷰티에 관심이 많은 총 3명의 이노핏 프렌즈는 약 한 달간 ▲코 보형물 시장 분석 ▲인플루언서 강의 ▲프로필 사진 촬영 등 다양한 활동을 진행했다.\\r\\n\\r\\n애니메디는 오늘(3일) 이노핏 프렌즈의 활동 종료를 기념하는 자리를 마련해&nbsp;이들의 노고를 격려하고 앞으로의 길을 응원했다.\\r\\n\\r\\n애니메디 마케팅팀 관계자는 &ldquo;이번 &lsquo;이노핏 프렌즈&rsquo; 1기 활동이 성황리에 마무리되면서 코 보형물 시장과 이노핏에 대한 의미 있는 인사이트를 얻을 수 있었다&rdquo;며 &ldquo;앞으로도 다양한 홍보&middot;마케팅 활동을 전개해 나가겠다&rdquo;고 밝혔다.\\r\\n\\r\\n한편&nbsp;애니메디는&nbsp;오는 7월 가상성형 체험 공간 &lsquo;이노핏 랩&rsquo;의 확장 이전을 계획하고 있다.&nbsp;]]></description>\\r\\n\\t\\t\\t<author>한정선 기자</author>\\r\\n\\t\\t\\t<pubDate>2021-06-03 19:53:49</pubDate>\\r\\n\\t\\t\\t</item>\\r\\n\\t\\t\\t<item>\\r\\n\\t\\t\\t<title>[서울만큼 잘하는 지역병원] 제주한라병원 “제주도, 의료 독립국을 만들겠습니다!”</title>\\r\\n\\t\\t\\t<link>http://www.k-health.com/news/articleView.html?idxno=54014</link>\\r\\n\\t\\t\\t<section_code>S1N1</section_code><sub_section_code>S2N2</sub_section_code><serial_code>S1N1</serial_code>\\r\\n\\t\\t\\t<description><![CDATA[수술건수&middot;성공률 서울 대형병원 못지않은 심혈관센터\\r\\n제주권역외상센터, 365일 중증외상환자 지킴이 활동\\r\\n의료혜택서 소외된 지역주민에 나눔봉사활동 실천해\\r\\n\\r\\n본지가 지방의료 활성화를 위해 야심차게 시작한 &lsquo;서울만큼 잘하는 지역병원&rsquo;의 이번 대상은 제주한라병원입니다. 제주한라병원은 환자의 생명과 건강을 내 몸처럼 돌본다는 뜻의 &lsquo;이명아명&rsquo;(爾命我命)을 원훈으로 1983년 12개 진료과목 150병상 규모로 개원했습니다.&nbsp;\\r\\n\\r\\n제주한라병원은 섬이라는 열악한 지리적 여건 속에서도 지역 내 최상의 진료서비스를 제공하기 위해 끊임없이 노력한 결과 현재 지하 2층, 지상 10층 규모의 건물 2동에&nbsp;2개의 권역센터 및 17개의 전문센터, 25개 진료과와&nbsp;586병상을 운영, 명실상부한 제주도 대표병원으로 거듭났습니다. 김성수 병원장의 안내로 병원 곳곳을 둘러봤습니다. &lt;편집자 주&gt;\\r\\n\\r\\n\\r\\n\\r\\n김성수 병원장은 지친 기색 없이 원내 곳곳을 자세히 소개하면서 기자를 이끌었다. 가히 &lsquo;제주도를 의료 독립국으로 만들겠다&rsquo;는 당찬 포부를 내세운 수장다웠다.\\r\\n\\r\\n\\r\\n\\r\\n비행기 밖으로 보이는 풍경이 낯설다. 코로나19로 인해 실로 오랜만에 비행기 몸을 실었다. 공항에 내리자마자 에메랄드빛 하늘과 야자수, 제주의 상징인 돌하르방이 반긴다. 고작 한 시간 만에 다른 나라에 온 듯한 착각도 잠시, 바쁜 일정 탓에 여유를 느낄 시간도 없이 제주한라병원으로 이동했다.&nbsp;\\r\\n\\r\\n처음 접한 제주한라병원은 마치 휴양지에서 접한 병원인 것 같았다. 실제로 제주한라병원은 국가원수나 VIP가 제주를 방문할 때 긴급진료병원으로 지정돼 제주도 내 최고의료기관으로 인정받고 있을 뿐 아니라 여행지에서의 급한 사고에도 단단히 대비하고 있는 셈이다.\\r\\n\\r\\n2011년 7월 권역응급의료센터로 지정된 후 2013년 응급의료기관평가에서 전국 1위를 기록하고 2015년에도 2위를 기록하는 등 높은 평가를 받고 있는 제주한라병원. 여기에 관광도시의 이점을 최대한 살려 의료관광에도 힘을 쏟고 있다.&nbsp;\\r\\n\\r\\n2010년 &lsquo;제주특별자치도 의료관광 선도병원&rsquo;으로 지정된 후 특히 중국 현지병원 및 의료기기 회사 등과 MOU를 체결해 의료국제화를 추진하고 있다. 이어 2014년 한라산에 인접한 중산간 자락에 20만㎡ 규모의 헬스리조트 &lsquo;더위(THE WE&rsquo;)를 건립했다. 더위는 호텔과 병원의 융합공간으로 호텔에 머물면서 건강검진, 수치료, 피부성형 등을 받을 수 있는 신개념공간이다.\\r\\n\\r\\n병원 투어 전 김성수 병원장의 철학과 비전을 들을 수 있었다. &ldquo;제주도를 의료독립국으로 만들겠습니다.&rdquo; 힘주어 전달하는 그의 눈에서 굳은 결의와 함께 지역의료에 대한 기대감이 더욱 높아졌다.\\r\\n\\r\\n\\r\\n\\r\\n김성수 제주한라병원장의 신념이 깃든 신장투석실 전경.\\r\\n\\r\\n\\r\\n\\r\\n■수익보다는 도민 건강 위한 &rsquo;신장투석실&rsquo;\\r\\n\\r\\n김성수 병원장의 전공은 신장내과다. 중앙대병원 재직 당시 투석을 위해 서울까지 올라오는 도민들을 보고 &rsquo;내가 고향에 내려가면 신장투석실은 꼭 만들어 내겠다&lsquo;라고 다짐하고 시작한 게 1984년이다.\\r\\n\\r\\n제주한라병원 신장투석실은 제주도 최초의 신장투석실로 주 2~3번씩 꼬박 4~5시간을 병원에서 지내야 하는 환자들을 위한 김성수 병원장의 굳은 신념이 만들어낸 결과다.&nbsp;\\r\\n\\r\\n당시 교통편도 불편한 상황에서 서울로 왕복하면서 신장투석하는 제주도민들을 보며 경제적 파탄은 물론, 가족까지 무너지는 걸 보며 안타까운 마음에 &rsquo;투석하지 못해서 사망하는 제주도민은 더 이상 없어야겠다&lsquo;고 굳게 마음먹었던 것.&nbsp;\\r\\n\\r\\n일렬로&nbsp;늘어선 침대의 마지막 시선은 제주도 푸른 바다다. 오랫동안 지친 신장투석환자들의 마음까지 치료하려는 병원장의 진한 마음이 느껴졌다.&nbsp; &nbsp;&nbsp;\\r\\n\\r\\n■심혈관질환치료 메카 &lsquo;심혈관센터&rsquo;\\r\\n\\r\\n처음 병원장의 안내를 받아 심혈관센터로 가기 전 제주도에서 유일한 인간유전자정보 전체를 빠르게 읽어내는 기술을 기반으로 한 유전정보검사(NGS)기관에 대한 짧은 설명이 이뤄졌다.&nbsp;\\r\\n\\r\\n이어 심혈관센터에 도착해 지금까지 4000례에 이르는 심뇌혈관질환중재시술을 진행한 이야기가 이어졌다. 이곳은 2007년 개심수술을 시작으로 2008년에는 27주 만에 860g으로 태어난 미숙아를 1600g으로 성장시켜 7cm 미만의 영아심장수술도 성공했다. 현재 연간수술건수는 물론 성공률 역시 서울의 대형병원과 비교해도 손색없을 정도다.&nbsp;\\r\\n\\r\\n센터는 2009년 최첨단 컴퓨터단층촬영기(CT)인 &lsquo;소마톰 드라이브(SOMATOM Drive) 256채널&rsquo;을 국내에서 두 번째로 도입해 응급을 요하는 심장수술 등 심뇌혈관치료성공률을 크게 높였으며 2011년 심혈관중재시술 인증기관 및 인증의로 공인받았다. 또 2012년 심장부정맥치료를 위한 &lsquo;심장전기생리검사기&rsquo;를 도입, 가동 1년 만에 100례 시술을 달성한데 이어 &lsquo;디지털혈관조영기&rsquo;를 추가 도입하는 등 심혈관질환중재술의 영역을 더욱 확장했다.\\r\\n\\r\\n\\r\\n\\r\\n김성수 병원장이 권역외상센터 내 하이브리드시설에 대해 설명하고 있다. 하이브리드시설은 혈관중재시술과 외과수술을 동시에 진행하는 시스템으로 응급상황에 보다 신속히 대응할 수 있다.\\r\\n\\r\\n\\r\\n\\r\\n■중증뇌질환특성화센터 지정 &lsquo;뇌혈관센터&rsquo;\\r\\n\\r\\n심혈관센터의 맞은 편에 위치한 뇌혈관센터는 2010년 정부로부터 &lsquo;중증뇌질환특성화센터&rsquo;로 지정받아 긴급시술이 가능한 ▲전문의 ▲장비 ▲진료시스템이 체계적으로 가동되고 있었다. 이에 구축 24시간 전문의가 상주하면서 &lsquo;급성기 출혈성뇌혈관질환&rsquo;과 &lsquo;허혈성뇌혈관질환&rsquo;에 신속하게 대응하고 있다는 설명이다.&nbsp;\\r\\n\\r\\n또 2012년 제주도 최초의 신경외과수련병원으로 지정돼 도에서 유일하게 지속적으로 신경외과 전문의를 배출하고 있다. 매년 1000건 이상의 신경외과수술은 물론 매년 100여 건의 뇌동맥류 및 뇌혈관기형수술, 권역외상센터 관련 두부 및 척추외상수술을 시행하고 있다.&nbsp;\\r\\n\\r\\n혈관조영기를 이용한 뇌동맥혈관조영술은 물론 컴퓨터와 적외선카메라를 통해 환자의 병변위치를 정확히 파악해주는 미래형 최첨단 수술시스템인 &lsquo;자동항법영상수술장비&rsquo;도 도입했다. 또 2020년 통계청이 발표한 &lsquo;뇌혈관질환 시도별 사망률&rsquo;에서 제주도가 전국 최저를 기록한 것은 제주한라병원의 심-뇌혈관질환센터의 역할이 매우 컸다. 건강보험심사평가원의 &lsquo;급성기 뇌졸중적정성평가&rsquo;에서 6년 연속 1등급을 받기도 했다.&nbsp;&nbsp;\\r\\n\\r\\n실제로 약 5년 전 중국 관광객이 불의의 사고로 신속하게 뇌혈관센터에서 응급수술을 마친 뒤 대략 6개월 정도 입원해 회복한 뒤 고국으로 돌아간 후담이 이어졌다. 이후 매해 제주한라병원을 찾아 진료를 본다고.&nbsp;\\r\\n\\r\\n\\r\\n\\r\\n도내 중증외상환자의 생명을 지키는 데 큰 원동력이 되고 있는 제주권역외상센터.&nbsp;\\r\\n\\r\\n\\r\\n\\r\\n■중증외상환자 든든한 지킴이 &lsquo;제주권역외상센터&rsquo;\\r\\n\\r\\n한껏 자신감 가득차 이동한 곳은 병원에서 가장 자랑하는 &lsquo;제주권역외상센터&rsquo;다. 현재 제주도는 상주인구 67만여 명의 중소규모 도시지만 지속적으로 인구가 증가하고 있으며 연간 1000만 명이 넘는 국내외 관광객이 찾는 지역이다. 이로 인해 렌터카, 전세버스, 선박, 항공 등 교통수단의 증가로 사고발생가능성과 실제발생건수도 늘고 있다. 특히 해양스포츠와 산악 레저가 가능해 각종 재난사고로 인한 중증외상환자 발생가능성이 높다.\\r\\n\\r\\n하지만 섬이라는 특성상 의료자원 및 시설은 물론 외상분야의 기반이 내륙에 비해 취약했다. 이에 제주한라병원은 2016년 11월 보건복지부 공모를 통해 제주권역외상센터 우선대상자로 지정받은 후 국비 80억원 등 총사업비 약 200억원을 투입해 병원리모델링 및 외상센터 개설을 추진했다. 그 결과 현재 도민은 물론 관광객의 건강을 책임지고 있다.&nbsp;\\r\\n\\r\\n지난해 3월 공식적으로 문을 연 제주권역외상센터는 도내 중증외상환자의 생명을 지키는 든든한 지킴이역할을 하고 있다. 1년여 동안 900여 건의 크고 작은 중증외상환자를 책임지면서&nbsp;사망률을 낮추는 데 힘쓰고 있다. 최근엔 지역특성을 반영한 제주지역외상체계 구축을 위한 가이드라인을 도내 모든 응급유관기관과 공유, 중증외상환자의 신속한 이송 및 처치를 위한 지역 내 응급기관 간 협업체계를 마련하기도 했다.&nbsp;&nbsp;\\r\\n\\r\\n&ldquo;제주도에서 유일한 하이브리드시설을 갖춘 곳은 우리뿐&rdquo;이라며 &ldquo;응급상황에 대비한 투자를 아끼지 않아 현재 많은 지역주민과 관광객의 긴급상황에 대처가 가능하기 때문에 섬이라서 응급치료가 어려울 거라는 걱정은 하지 않아도 된다&rdquo;고 말했다. 이어 직접 하이브리드시설 안 장비와 시스템을 일일이 설명하는 김성수 병원장의 목소리에 자부심이 묻어났다.&nbsp;\\r\\n\\r\\n현재 제주권역외상센터는 ▲소생실 ▲진료구역 ▲외상통제실 ▲중환자실(20병상) ▲전용수술실(2곳) ▲전용병동(40병상) 등을 갖춰 365일 하루 24시간 내내 중증외상환자 도착 즉시 수술은 물론 모든 처치가 가능하다. 1분 1초가 생명과 직결되는 외상센터의 특성상 ▲외상응급 ▲외상외과 ▲외상흉부 ▲외상신경 등 분야별로 세부전문의를 확보하고 있다. 또 ▲엑스레이촬영실 ▲CT촬영실 ▲혈관조영실 등 중증외상환자 전용의료기기를 별도로 갖췄다.\\r\\n\\r\\n\\r\\n\\r\\n김성수 병원장이 또 하나의 자랑거리인 암센터에 대해 설명하고 있다. 제주한라병원 암센터는 산하에 11개의 세부 암 전문클리닉을 운영하고 있으며 최신 암 치료기술을 구현할 수 있는 최첨단장비를 구축, 암환자들의 든든한 버팀목이 되고 있다.&nbsp;\\r\\n\\r\\n\\r\\n\\r\\n■심평원 진료평가 연속 1등급 &lsquo;암센터&rsquo;\\r\\n\\r\\n김성수 병원장은 짧지 않은 시간 직접 설명하며 걸어다니느라 지칠 만도 한데 전혀 피곤한 기색없이 씩씩하게 암센터로 행했다. 제주한라병원은 2000년을 기점으로 11개 암 전문클리닉을 통해 수술은 물론 치료까지 전인적 관리가 가능한 전문암센터를 구축했다.&nbsp;\\r\\n\\r\\n2002년 백혈병환자 등 소아암환자를 전문으로 치료하는 골수이식센터를 시작으로 2008년 꿈의 암 진단기로 불리던 &rsquo;PET-CT&lsquo;를 2008년부터 가동했다. 이후 2010년 &rsquo;자가말초 조혈모세포이식&lsquo;을 처음으로 성공, 도내 백혈병치료가능성을 열어 지역병원에서는 쉽게 도전하기 어려웠던 백혈병치료를 안정적으로 수행할 수 있는 시스템을 성공적으로 정착시켰다.&nbsp;\\r\\n\\r\\n2011년엔 국내에서 세 번째로 최첨단 방사선암치료기인 RMAB(Rapid Multi Arc with Brainlap)를 도입했다. 현재 제주한라병원은 암 종류 및 유형에 따라 복강경 또는 내시경수술, 간종양에 영양을 공급하는 동맥을 찾아 항암제를 투여하는 간동맥색전술, 방사선치료 등을 시행하고 있다. 그 결과 건강보험심사평가원의 ▲유방암 ▲대장암 ▲폐암 ▲위암 진료평가에서 연속 1등급을 받았다.\\r\\n\\r\\n■의료봉사로 소외되기 쉬운 이웃사랑 실천\\r\\n\\r\\n제주한라병원은 의료혜택에서 소외되기 쉬운 농어촌지역 어르신을 위한 의료봉사활동으로 이웃사랑을 실천하고 있다. 상대적으로 의료사각지대에 놓인 지역주민의 건강증진에 보탬이 되고 싶어서다. 이를 위해 2007년 사랑의 의료봉사단을 꾸려 제주 한림읍을 시작으로 약 10여 년 동안 농어촌지역 60여 곳을 방문해 거동이 힘든 어르신 5000여명에게 의료혜택을 제공하고 있다.&nbsp;\\r\\n\\r\\n또 19세 미만의 아동 및 청소년, 지적장애인 등을 대상으로 의료 및 심리, 법률적 지원도 아끼지 않고 있다. 김성수 병원장은 2019년부터 민주평화통일자문회의 제주지역부의장을 맡아 남북교류협력에 힘을 보태고 있다. 이러한 헌신적인 봉사로 적십자회원 유공장인 은장과 금장에 이어 명예장을 수상한 바 있다.]]></description>\\r\\n\\t\\t\\t<author>한정선 기자</author>\\r\\n\\t\\t\\t<pubDate>2021-06-03 19:45:00</pubDate>\\r\\n\\t\\t\\t</item>\\r\\n\\t\\t\\t<item>\\r\\n\\t\\t\\t<title>코로나19 확진자수, 600명대 지속…60세 이상 예방접종 예약률 77% 달해</title>\\r\\n\\t\\t\\t<link>http://www.k-health.com/news/articleView.html?idxno=54012</link>\\r\\n\\t\\t\\t<section_code>S1N1</section_code><sub_section_code>S2N3</sub_section_code><serial_code>S1N1</serial_code>\\r\\n\\t\\t\\t<description><![CDATA[코로나19 확진자수가 어제에 이어 600명대를 유지했다.\\r\\n\\r\\n방역 당국에 따르면 3일 0시 기준으로 확인된 코로나19 확진자수는 681명이다. 이 중 국내 발생은 672명, 해외유입은 9명으로 확인됐으며 이로써 총 누적확진자수는 14만2157명으로 증가했다.\\r\\n\\r\\n주 중반에 접어들자 코로나19 확진자수는 다시 증가 양상을 보이고 있다. 서울과 경기 등 확산세를 주도하고 있는 수도권 역시 200명대로 환자가 증가한 상태다.\\r\\n\\r\\n방역 당국은 &ldquo;일상 속 감염이 지속되고 있는 상태로 연장된 거리두기와 방역수칙을 철저히 준수하고 예방접종을 완료하더라도 마스크 착용 등 기본적인 방역수칙을 꼭 준수해줄 것&rdquo;을 재차 당부했다.\\r\\n\\r\\n\\r\\n\\r\\n\\r\\n\\r\\n\\r\\n\\r\\n한편 코로나19 예방접종은 지속 순항 중인 가운데 60세 이상 어르신 등의 코로나19 예방접종 사전예약자는 총 736만명으로 예약률은 77.7%에 달했다. 70~74세 어르신은 80%를 넘었으며 사전예약은 오늘까지 가능하다. 온라인은 24시까지 예약할 수 있다.\\r\\n\\r\\n\\r\\n\\r\\n\\r\\n\\r\\n\\r\\n\\r\\n오늘까지 예약하지 못한 60세 이상 어르신은 코로나19 예방접종 의료기관을 직접 방문 또는 전화해 잔량이 남아있는 경우에 한해 접종이 가능하다. 이후에는 전 국민이 접종이 완료된 후에야 접종기회를 얻을 수 있어 사전예약기간 안에 예약 후 접종하는 것이 가장 좋다.\\r\\n\\r\\n추진단은 &ldquo;그간 고령층 예방접종 사전예약률이 빠르게 상승해왔다&rdquo;며 &ldquo;고령층에서의 예방접종 효과와 일상 회복을 위해 접종기간을 놓치지 말고 접종해줄 것&rdquo;을 당부했다.\\r\\n\\r\\n아울러 추진단은 &ldquo;6월부터 예방접종을 받은 어르신들을 중심으로 경로당 및 복지관 프로그램 재개와 요양병원 면회 등이 가능해진 만큼 시설 내 방역관리와 마스크 착용 등에 더욱 신경 써 줄 것&rdquo;을 덧붙여 당부했다.\\r\\n\\r\\n한편 내일(4일)부터는 잔여 백신(아스트라제네카 백신) 운영 방식이 일부 변경될 전망이다.\\r\\n\\r\\n잔여 백신이 발생하면 의료기관이 예방접종시스템에 당일 잔여 백신량을 등록, 카카오와 네이버앱을 통해 공개하고 희망자가 이를 선택해 당일 예약하도록 하는 방식으로 운영되는 것. 기존에는 의료기관이 개별적으로 희망자를 접수받아 예비명단으로 접종대상자를 관리했다(기존에 의료기관에서 마련한 예비명단은 잔여백신 예약서비스 시범운영이 끝나는 9일까지 유예기간을 두고 사용 가능).\\r\\n\\r\\n다만 앱을 이용하기 어려운 60세 이상 연령층은 기존 방식과 같이 예외적으로 의료기관에 전화로 예비명단에 이름을 등록하면 잔여백신 발생 시 접종이 가능하도록 할 예정이다.]]></description>\\r\\n\\t\\t\\t<author>장인선 기자</author>\\r\\n\\t\\t\\t<pubDate>2021-06-03 17:23:48</pubDate>\\r\\n\\t\\t\\t</item>\\r\\n\\t\\t\\t<item>\\r\\n\\t\\t\\t<title>[헬스경향TV] “지방재배치시술, 결과 만족스러워도 경과 지켜보세요”</title>\\r\\n\\t\\t\\t<link>http://www.k-health.com/news/articleView.html?idxno=54011</link>\\r\\n\\t\\t\\t<section_code>S1N12</section_code><serial_code>S1N12</serial_code>\\r\\n\\t\\t\\t<description><![CDATA[]]></description>\\r\\n\\t\\t\\t<author>김보람 기자</author>\\r\\n\\t\\t\\t<pubDate>2021-06-03 17:13:38</pubDate>\\r\\n\\t\\t\\t</item>\\r\\n\\t\\t\\t<item>\\r\\n\\t\\t\\t<title>신장이식, 최소절개수술로 환자 삶의 질↑</title>\\r\\n\\t\\t\\t<link>http://www.k-health.com/news/articleView.html?idxno=54004</link>\\r\\n\\t\\t\\t<section_code>S1N10</section_code><sub_section_code>S2N37</sub_section_code><serial_code>S1N10</serial_code>\\r\\n\\t\\t\\t<description><![CDATA[기존 신장이식수술(왼쪽)과 최소절개신장이식술(오른쪽)으로 인한 흉터.\\r\\n\\r\\n\\r\\n\\r\\n신장이식은 만성신부전환자에게 건강한 신장을 심어주는 수술이다. 환자&nbsp;삶의 질을 높이지만 흉터, 통증 등의 문제도 뒤따랐다. 그런데 최근 기존보다 작은 부위를 절개해 시행하는 최소절개신장이식수술이 환자의 만족도를 크게 높이고 있다.\\r\\n\\r\\n■정상생활 가능하지만 통증, 흉터있어&nbsp;&nbsp;\\r\\n\\r\\n만성신부전은 신장이 망가져&nbsp;전신에 여러가지 문제가&nbsp;나타나는 병이다. 이때 혈액‧복막투석치료나 신장이식으로 신장기능을 대체해야 한다. 특히 신장이식은 투석치료보다 부작용 발생위험이 적으면서&nbsp;환자가 일상생활을 정상적으로 할 수 있게 해준다.\\r\\n\\r\\n현재 신장이식은 신장을 좌측 또는 우측 하복부에 20~25cm의 절개창을 내 시행하는 것이 일반적이다. 이는 절개창이 커 흉터가 남고 통증도 심하다는 단점이 있다. 이에 복강경이나 로봇도 점차 활용되고 있지만 보편적으로 적용되기까지는 상당한 시일이 걸릴 것으로 예상된다.\\r\\n\\r\\n■절개창 절반 줄여 만족도 향상&nbsp;\\r\\n\\r\\n이러한 상황에서 가톨릭대 서울성모병원 혈관이식외과 박순철 교수는 문인성 명예교수와 함께 2006년부터 피부를 10cm정도만 절개하는 최소절개신장이식수술로 환자 삶의 질을 높이고&nbsp;있다. 지금까지 시술 건수는 약 50례에 달한다. 체질량지수 25 이하 환자 중&nbsp;일부가&nbsp;대상이다.&nbsp;\\r\\n\\r\\n최소절개신장이식술은 기존의 수술방법과&nbsp;환자의 이식신(이식받은 신장) 기능, 생존율, 합병증에 있어 통계적으로 차이가 없는 것이 밝혀졌다. 이는 2008년 국제이식 학술지 &lsquo;Transplantation Proceeding&rsquo;에 보고됐다. 2016년에는 중장기적 이식신장과 환자예후 등 전반적인 이식성적이 Chinese Medical Journal에 게재됐다.\\r\\n\\r\\n박순철 교수는 &ldquo;환자의 만족도가 커 적용범위를 점차 늘려가고 있다&rdquo;며 &ldquo;지속적인 연구로 보다 많은 환자들이 최소절개신장이식술을 받을 수 있게 노력하겠다&rdquo;고 말했다.]]></description>\\r\\n\\t\\t\\t<author>김보람 기자</author>\\r\\n\\t\\t\\t<pubDate>2021-06-03 16:10:47</pubDate>\\r\\n\\t\\t\\t</item>\\r\\n\\t\\t\\t<item>\\r\\n\\t\\t\\t<title>[반려동물 건강이야기] 반려동물과 오래 동행하기, 건강검진에 달렸다!</title>\\r\\n\\t\\t\\t<link>http://www.k-health.com/news/articleView.html?idxno=54010</link>\\r\\n\\t\\t\\t<section_code>S1N4</section_code><sub_section_code>S2N46</sub_section_code><serial_code>S1N4</serial_code>\\r\\n\\t\\t\\t<description><![CDATA[류진 울산 원헬스동물의료센터(동물병원) 영상과장\\r\\n\\r\\n\\r\\n처음 반려동물을 집에 데리고 왔을 때의 설렘과 중성화수술을 결정하고 나서 잠이 오지 않을 만큼 했던 걱정. 나를 매 순간 웃고 울게 만드는 소중한 생명에 대한 사랑의 깊이는 반려동물을 키워보지 않은 사람은 가늠하기 쉽지 않다. 사랑하는 반려동물이 조금이라도 아프면 보호자는 자책하게 된다. 아프면 아프다고 말을 해주면 좋겠지만 이 사랑스러운 반려동물들은 아프더라도 숨기려 하거나 별다른 증상 없이 모르고 지내다가 큰 병이 될 때가 많다.\\r\\n\\r\\n사람보다 짧은 시간을 사는 반려동물은 구토, 설사, 기침 등 뚜렷한 임상증상이 없어도 종양, 퇴행성관절염, 후천적심장병, 비뇨기계질환을 안고 산다. 아무리 경험 많은 수의사도 반려동물이 서서히 진행되는 질환을 앓을 때는 가벼운 문진과 신체검사만으로는 놓치기가 쉽다. 반려동물은 나에게는 늘 아기 같지만 나이가 7살만 돼도 사람나이로 50살에 가까워져 당연한 이야기다. 따라서 집에서 매번 식욕, 활력, 배변, 배뇨를 꼼꼼히 평가하는 것만큼이나 정기검진이 중요하다.\\r\\n\\r\\n검진시기에 대해서는 명확히 정해진 가이드라인이 있는 것은 아니다. 하지만 5살 이하는 최소 1년에 1회씩 간단한 검진을 추천한다. 해당시기 건강한 개체에게는 심장사상충항원검사와 최소항목의 혈청검사, 혈구검사가 포함된 혈액검사가 권장되며 흉/복부 방사선검사를 통해 기본정보를 얻을 수 있다.\\r\\n\\r\\n국내에서는 소형견종의 슬개골탈구 빈도가 높은 편으로 이전 검사에서 슬개골탈구 진단을 받은 이력이 있다면 건강검진에 방사선검사를 포함해 진행하는 것이 좋다. 슬개골탈구는 신체검사로 확진할 수 있지만 탈구로 발생하는 주변 관절병증은 방사선검사로만 알 수 있기 때문이다.\\r\\n\\r\\n중성화하지 않은 개체는 비뇨기계질환의 위험성이 그렇지 않은 개체보다 크므로 비뇨기계평가용 초음파검사도 추천된다. 건강검진에서 정상으로 나온 자료는 동일 동물병원에서 지속해서 관리받는다면 소장하지 않아도 상관없지만 여러 동물병원을 이용한다면 소장하고 있는 것이 좋다.\\r\\n\\r\\n이후 대략 10살까지도 특별히 임상증상이 없다면 1년에 한 번씩 검진 받는 것을 권장한다. 이때도 혈액검사, 방사선검사, 초음파검사, 요검사는 기본항목으로 포함된다. 다만 이때부터는 퇴행성질환이 드러나기 시작해 혈액검사 항목이 늘어나며 초음파검사를 통한 복부장기 전체평가가 필요하다. 방사선검사도 흉‧복부뿐만 아니라 상황에 따라 고관절, 무릎부위도 포함된다. 동물병원에 따라서 갑상선호르몬도 평가한다.\\r\\n\\r\\n11살 이후부터는 노화속도가 더 빨라져 6개월에 1회씩 건강검진이 권장된다. 이처럼 평가하는 항목이 많아지면 검사시간도 늘어나 시간적 여유가 넉넉한 날에 예약하는 것이 권장된다. 보호자는 반려동물을 최소 8시간 이상 금식시켜야 하는데 이때 반려동물이 안쓰러워 금식 직전에 평소보다 간식을 많이 준다면 혈액검사에 혼란을 줄 수 있다. 따라서 평소대로 급여하는 것이 중요하다. 또 문진 때 이전 수술병력과 3일 이상의 장기입원 이력 등을 수의사에게 알려준다면 검사결과 해석에도 도움이 된다.\\r\\n\\r\\n고양이는 동물병원에 대한 스트레스가 개보다 더 심하기 때문에 보호자도 동물병원에 가는 것을 아주 힘들어한다. 하지만 만성질환 진행은 개보다 더 잘 드러나지 않기 때문에 최소한 5살 이후에는 주기적인 평가가 필요하다. 평소에 뚜껑이 분리된 케이지를 고양이가 좋아할 만한 담요와 함께 두고 간식을 그 장소에서 급여해 케이지 수송에 대한 공포심을 줄이거나,고양이 대기실이 분리된 동물병원을 이용하거나, 사전에 진정제를 처방받아서 내원 전에 고양이에게 미리 먹이는 등의 노력을 해서 반려동물의 스트레스를 줄여야 한다.\\r\\n\\r\\n고양이도 검진항목은 개와 거의 유사하나 백혈병‧면역부전바이러스 항원검사가 권장되며 동물병원에 따라 심장질환 키트검사, 갑상샘호르몬검사를 선제적으로 포함할 수 있다. 후자는 노령고양이에게서 간과하기 쉬운 비대성심근병증, 갑상샘기능항진증을 감별할 수 있으므로 필자는 나이가 든 고양이라면 적어도 한 번 정도는 검사받기를 추천한다.\\r\\n\\r\\n물론 이렇게 열심히 건강검진을 해도 모든 질환을 100% 막을 수가 없다. 아주 정밀한 검사 기계라고 해도 드물게 오류가 발생할 수 있고 또 기계가 정상이라고 해도 간이나 콩팥은 50%의 손상에도 정상으로 보이는 때가 많아서 상황을 간과할 수 있기 때문이다. 하지만 건강검진으로 반려동물 상태를 전반적으로 알고 관리하는 것과 모르고 있다가 질환이 진행되는 것은 매우 큰 차이가 있다. 검진은 병이 크게 진행되지 않도록 또는 질환 관리를 얼마나 잘하고 있는지 중간평가를 해주는 것이다.\\r\\n\\r\\n세상에는 다양한 보호자와 반려동물이 있다. 하지만 지나간 후회를 겪는 마음은 모두 같았다. 바빠서 미리 챙기지 못했다는 핑계나 알면서도 괜찮을 거라고 애써 외면했던 마음은 반려동물을 아꼈던 만큼 더 큰 후회로 오기 마련이다. 소중한 부모님, 자식들을 챙겨주듯이 반려동물도 잊지 말고 생각해주는 시간이 되길 바란다.]]></description>\\r\\n\\t\\t\\t<author>류진 원헬스동물의료센터 영상과장 l 정리‧김보람 기자</author>\\r\\n\\t\\t\\t<pubDate>2021-06-03 14:46:00</pubDate>\\r\\n\\t\\t\\t</item>\\r\\n\\t\\t\\t<item>\\r\\n\\t\\t\\t<title>국립암센터, 우즈베키스탄에 암병원 건립 노하우 전수</title>\\r\\n\\t\\t\\t<link>http://www.k-health.com/news/articleView.html?idxno=54009</link>\\r\\n\\t\\t\\t<section_code>S1N1</section_code><sub_section_code>S2N2</sub_section_code><serial_code>S1N1</serial_code>\\r\\n\\t\\t\\t<description><![CDATA[우즈베키스탄 정부관계자가 한국을 방문, 국내의료기관과 첨단복합단지를 둘러볼 예정이다.\\r\\n\\r\\n\\r\\n\\r\\n국립암센터는&nbsp;3일 우즈베키스탄 보건의료 관계자들이 국립암병원 건립&middot;운영 노하우를 배우고자 본원을 방문했다고 밝혔다.&nbsp;\\r\\n\\r\\n우즈베키스탄은 수도 타슈켄트에 의료선진국의 기술을 도입한 암병원 건립을 추진하고 있다. 이에 보건부 등 정부관계자가 한국을 방문, 국내의료기관과 첨단복합단지를 둘러볼 예정이다. 이 날 보건부 장차관, 건설부 차관 등 10여 명의 방문단은 의료기관 중 첫 번째로 국립암센터를 방문했다.\\r\\n\\r\\n방문단은 국립암센터 건립과정과 운영현황에 대한 설명을 듣고 차별화된 스마트 병원 시스템, 양성자치료기 등 주요 첨단시설을 둘러봤다. 이어 4만여 개의 동결조직을 저장하는 초저온탱크 26기를 보유한 바이오뱅크 등을 방문, 현황과 발전방안을 논의했다.\\r\\n\\r\\n국립암센터 서홍관 원장은 &ldquo;개원 20주년을 맞이한 국립암센터가 지난 20년간 암 극복을 위해 달성한 성과와 현황을 잘 전수해 우즈벡 암병원 건립에 도움이 되고 향후 한-우즈벡 보건의료 분야 협력 활성화에도 기여하길 바란다&rdquo;라고 말했다.\\r\\n\\r\\n하지바예프 장관은 &ldquo;최첨단 시스템을 갖춘 공공의료기관으로서 한국 국립암센터의 독보적인 경쟁력을 확인한 소중한 기회로 우즈베키스탄 최초의 국립 암병원 건립에 매우 유용한 노하우를 배울 수 있었다&rdquo;라고 전했다.]]></description>\\r\\n\\t\\t\\t<author>김보람 기자</author>\\r\\n\\t\\t\\t<pubDate>2021-06-03 14:41:15</pubDate>\\r\\n\\t\\t\\t</item>\\r\\n\\t\\t\\t<item>\\r\\n\\t\\t\\t<title>피부암수술, 3D프린팅기술로 정확도 높인다</title>\\r\\n\\t\\t\\t<link>http://www.k-health.com/news/articleView.html?idxno=54006</link>\\r\\n\\t\\t\\t<section_code>S1N10</section_code><sub_section_code>S2N37</sub_section_code><serial_code>S1N10</serial_code>\\r\\n\\t\\t\\t<description><![CDATA[최근 3D프린터를 활용한 수술가이드를 피부암, 유방암, 신장암 등에 적용하는 연구가 활발히 진행되고 있다. 특히 3D프린터는 피부암의 수술안전성과 정확성을 높여 환자의 만족도를 크게 높일 것으로 기대된다.&nbsp;\\r\\n\\r\\n■최소 절제로 정확히 종양 제거해야&nbsp;\\r\\n\\r\\n피부암은 수술 시 절제범위를 정확히 결정해야 피부를 최대한 보존하고 재발가능성을 줄인다. 특히 얼굴에 피부암이 있으면 최소절제로 종양만 떼어내야 외관상 보기가 좋다.\\r\\n\\r\\n현재 피부암수술은 주로 모즈미세도식과 피막절제 방식으로 진행된다. 모즈미세도식수술은 정상피부를 최소한 절제하지만 수술시간이 길어 비교적 작은 크기의 피부암에만 적용할 수 있다. 피막절제술은 피부에 나타난 병변형상에 의존한다. 따라서 신경관이나 연골, 배아 융합 평면을 따라 깊게 형성된 피부암까지 고려할 수 없다.&nbsp;\\r\\n\\r\\n■3D피부암수술가이드로 세밀한 수술 기대\\r\\n\\r\\n이러한 한계를 보완하기 위해 최근 서울아산병원 성형외과 최종우&middot;융합의학과 김남국 교수팀이 피부암병변을 입체적으로 보여주는 맞춤형 3D피부암수술가이드를 개발했다.&nbsp;\\r\\n\\r\\n\\r\\n\\r\\n\\r\\n\\r\\n\\r\\n\\r\\n마취 후 환자의 얼굴에 3D피부암수술가이드를 씌우면 피부 속 종양부위가 입체적으로 드러난다. 집도의는 이 가이드를 따라 종양크기에 맞는 절제범위를 표시, 암병변을 세밀하게 제거할 수 있다.&nbsp;\\r\\n\\r\\n연구팀은&nbsp;신체팬텀을 만들어 가이드의 정확성을 측정한다. 측정은&nbsp;컴퓨터단층촬영(CT)과&nbsp;자기공명영상(MRI)을 통해 이뤄지며&nbsp;병변의 침범부위가 확인되는 경우&nbsp;가로세로 폭 외에 깊이까지 고려할 수 있어 정확한 절제범위를 설정할 수 있다.&nbsp;\\r\\n\\r\\n연구팀은 이를 통해 개별 환자에게 맞는 세밀한&nbsp;수술계획을 수립할 수 있을 것으로 기대했다. 또 정상피부의 지나친&nbsp;절제나 일부 부정확한 절제가 최소화돼 수술시간도 줄어들고 안전성은 높아질 것으로 봤다.&nbsp;단 영상으로 보이지 않는 작은 피부암까지 가이드를 적용하기에는 한계가 있다.&nbsp;\\r\\n\\r\\n\\r\\n\\r\\n왼쪽부터 서울아산병원 성형외과 최종우 교수, 융합의학과 김남국 교수\\r\\n\\r\\n\\r\\n\\r\\n최종우 교수는 &ldquo;3D프린터를 활용하면&nbsp;정확한 절제 연을 확보할 수 있기 때문에 정상 피부를 보존하면서 재수술, 재발 가능성을 낮출 수 있다&rdquo;며 &ldquo;또&nbsp;심미적인 효과를 증진해 수술 후 환자의 삶의 질 향상에도 크게 기여한다&rdquo;고&nbsp;설명했다.&nbsp;\\r\\n\\r\\n김남국 교수는 &ldquo;이번 연구는 피부암을 정확히 절제할 수 있는 3D프린팅수술가이드를 제작하고 정교한 신체팬텀을 통해 정확성을 평가한 데 의의가 있다&ldquo;며&nbsp;&ldquo;향후 환자 맞춤형 3D프린팅의료기기를 다양한 영역에 적용해 환자와 의사에게 도움이 될 수 있도록 연구를 지속하겠다&rdquo;고 말했다.\\r\\n\\r\\n한편 이번 연구는 과학기술논문인용색인(SCI)급 국제학술지인 &lsquo;사이언티픽 리포트(Scientific Reports)&rsquo; 최근호에 개재됐다.]]></description>\\r\\n\\t\\t\\t<author>김보람 기자</author>\\r\\n\\t\\t\\t<pubDate>2021-06-03 14:39:22</pubDate>\\r\\n\\t\\t\\t</item>\\r\\n\\t\\t\\t<item>\\r\\n\\t\\t\\t<title>GC녹십자웰빙, 국내 최초 구강용해필름형 셀레늄 보충제 출시</title>\\r\\n\\t\\t\\t<link>http://www.k-health.com/news/articleView.html?idxno=54008</link>\\r\\n\\t\\t\\t<section_code>S1N11</section_code><sub_section_code>S2N42</sub_section_code><serial_code>S1N11</serial_code>\\r\\n\\t\\t\\t<description><![CDATA[GC녹십자웰빙이 구강용해필름(이하 ODF)제형에 셀레늄을 추가한 &lsquo;지씨웰빙셀레늄ODF&rsquo;을 출시했다.\\r\\n\\r\\n\\r\\n\\r\\nGC녹십자웰빙은 3일 국내 최초로 구강용해필름(이하 ODF)제형에 셀레늄을 추가한 &lsquo;지씨웰빙셀레늄ODF&rsquo;을 출시했다고 밝혔다.\\r\\n\\r\\nODF제형은 정제 복용을 어려워하는 노인, 소아, 삼킴장애환자들의 복약순응도를 높일 뿐 아니라 액상형제제 대비 함량 정확성, 휴대 편의성이 개선돼 치료효과까지 높일 수 있다.\\r\\n\\r\\n또 지씨웰빙셀레늄ODF에는 면역력 증강뿐 아니라 독성물질로부터 세포를 보호하는 셀레늄이 함유돼 있다. 실제로 셀레늄은 암요양병원에서 방사선치료의 부작용 및 항암제 내성 경감과 치료 부위에 발생하는 정맥염 및 부종 예방을 위해 처방되고 있다.\\r\\n\\r\\nGC녹십자웰빙 김재왕 본부장은 &ldquo;지씨웰빙셀레늄ODF는 간편한 섭취방법과 휴대성을 강점으로 기존 제품 대비 확실한 차별성을 갖고 있다&rdquo;고 설명했다.]]></description>\\r\\n\\t\\t\\t<author>이원국 기자</author>\\r\\n\\t\\t\\t<pubDate>2021-06-03 14:35:06</pubDate>\\r\\n\\t\\t\\t</item>\\r\\n\\t\\t\\t<item>\\r\\n\\t\\t\\t<title>대웅제약, ‘탈모치료 장기지속형 주사제’ 3자간 MOU 체결</title>\\r\\n\\t\\t\\t<link>http://www.k-health.com/news/articleView.html?idxno=54007</link>\\r\\n\\t\\t\\t<section_code>S1N11</section_code><sub_section_code>S2N42</sub_section_code><serial_code>S1N11</serial_code>\\r\\n\\t\\t\\t<description><![CDATA[대웅제약과 인벤티지랩, 위더스제약이 &lsquo;탈모치료 장기지속형 주사제&rsquo;의 개발을 위해 3자간 업무협약을 맺었다.\\r\\n\\r\\n\\r\\n\\r\\n대웅제약은 3일 인벤티지랩&middot;위더스제약과 &lsquo;탈모치료 장기지속형 주사제&rsquo;의 개발&middot;생산&middot;판매를 위한 3자간 업무협약을 맺었다고 밝혔다.\\r\\n\\r\\n장기지속형 주사제는 매일 약을 먹을 필요 없이 최대 3개월에 한 번만 주사를 맞으면 된다. 특히 탈모치료제는 복용 시 약사 지시에 따라 정해진 양을 제때 복용하는 &lsquo;복용순응도&rsquo;가 중요한데 장기지속형 주사제는 편리함과 안정적이다. 현재 임상시험에 쓰일 약물은 모두 생산을 마친 상태로 3사는 7월부터 호주에서 1상을 시작해 2023년 국내 발매를 목표로 한다.\\r\\n\\r\\n이에 이번 협약으로 대웅제약은 임상3상&middot; 허가&middot;판매를 담당하며 인벤티지랩은 전임상&middot;임상1상&middot;제품생산 지원 업무를, 위더스제약은 제품생산을 전담한다.\\r\\n\\r\\n대웅제약 전승호 대표는 &ldquo;최고의 기술력을 가진 두 파트너사와 협력할 수 있어 든든하다&rdquo;며 &ldquo;장기지속형 탈모치료제를 개발함으로써 매일 탈모약을 복용해야 하는 탈모인들의 불편을 덜겠다&rdquo;고 말했다.]]></description>\\r\\n\\t\\t\\t<author>이원국 기자</author>\\r\\n\\t\\t\\t<pubDate>2021-06-03 14:25:57</pubDate>\\r\\n\\t\\t\\t</item>\\r\\n\\t\\t\\t<item>\\r\\n\\t\\t\\t<title>고도비만치료 주도자는 ‘환자’…의료진은 든든한 지원군 돼야</title>\\r\\n\\t\\t\\t<link>http://www.k-health.com/news/articleView.html?idxno=54005</link>\\r\\n\\t\\t\\t<section_code>S1N3</section_code><sub_section_code>S2N41</sub_section_code><serial_code>S1N3</serial_code>\\r\\n\\t\\t\\t<description><![CDATA[전숙 교수(왼쪽)와 박대근 교수가 최근 비만대사수술을 받은 환자의 상태를 살펴보면서 다음 치료계획에 대해 논의하고 있다.&nbsp;&nbsp;\\r\\n\\r\\n\\r\\n\\r\\n대한민국이 갈수록 무거워지고 있다. 최근 국민건강보험공단의 통계(2016~2018 일반 건강검진대상자 검진결과)에 따르면 우리나라의 비만율은 3년 새 약 5%, 고도비만율은 무려 약 20%로 증가했다.&nbsp;\\r\\n\\r\\n특히 고도비만(체질량지수&ge;35㎏/㎡)은 단순히 과체중이 문제가 아닌, 뒤따르는 다양한 합병증&nbsp;때문에 생명이 크게 위협받는다. 여러 진료과가 의기투합하는 이른바 &lsquo;다학제진료&rsquo;가 필수적인 이유다. 경희대병원 비만대사클리닉 전숙 내분비내과 교수와 박대근 외과 교수를 만나 자세한 이야기를 들었다.&nbsp;\\r\\n\\r\\n- 비만율이 계속 증가세입니다. 심지어 고도비만율 증가 폭은 비만율을 앞섰는데요.\\r\\n\\r\\n전숙 교수(이하 전) : 이미 비만한 사람들이 체중관리가 잘 안 되면서 고도비만으로 악화된 측면도 있는 것 같습니다. 서구화된 식습관과 활동량 감소 등으로 소아비만이 늘고 이것이 결국 성인비만으로 이어지는 것도 한몫했죠. 최근에는 코로나19로 활동량이 더 줄면서 아이, 어른할 것 없이 체중이 평균&nbsp;3~5kg까지&nbsp;늘었다는 얘기도&nbsp;나오고 있습니다.&nbsp;\\r\\n\\r\\n박대근 교수(이하 박) : 수면시간이 점점 뒤로 밀리면서 야식섭취가 늘어난 영향도 큰 것 같습니다. 매스컴과 유튜브 등을 통한 &lsquo;먹방&rsquo; 열풍도 음식에 대한 호기심과 식욕을 끊임없이 자극하고 있죠.&nbsp;\\r\\n\\r\\n\\r\\n\\r\\n박대근 교수는 &ldquo;다학제진료는 고도비만환자가 비만대사수술에 적합한지 판단하는 데도 매우 중요한 역할을 한다&rdquo;고 강조했다.\\r\\n\\r\\n\\r\\n\\r\\n- 고도비만은 반드시 의학적 치료가 필요하다고 들었습니다. 진료에 참여하는 과도 한둘이 아닌데 그 이유가 궁금합니다.&nbsp;&nbsp;\\r\\n\\r\\n전 : 한마디로 매우 복합적인 문제가 얽혀 있어서입니다. 고도비만은 고혈압, 당뇨병 같은 내과적질환부터 수면무호흡증, 관절질환 등 다양한 합병증이 뒤따라옵니다. 따라서 처음부터 여러 진료과가 머리를 맞대 치료계획을 세워야 합니다.&nbsp;\\r\\n\\r\\n박 : 고도비만의 가장 효과적인 치료방법은 비만대사수술로 알려졌습니다. 하지만 엄연히 적응증*이 정해져 있어 모든 고도비만환자가 수술받을 수 있는 건 아닙니다. 따라서 비만대사수술에 적합한 환자를 잘 선택하는 것이 매우 중요합니다. 이때 환자의 동반질환 유무도 고려해야 해서&nbsp;여러 진료과와의 협업이 꼭 필요합니다.&nbsp;&nbsp;\\r\\n\\r\\n\\r\\n*비만대사수술 적응증(2019년부터 건강보험도 적용)&nbsp;\\r\\n\\r\\n▲체질량지수(BMI)가 35kg/㎡이상 이거나 ▲체질량지수가 30kg/㎡이상이면서&nbsp;동반질환(고혈압,&nbsp;저환기종,&nbsp;수면무호흡증,&nbsp;관절질환,&nbsp;비알콜성지방간,&nbsp;위식도역류증,&nbsp;제2형당뇨,&nbsp;고지혈증,&nbsp;천식,&nbsp;심근병증,&nbsp;관상동맥질환,&nbsp;다낭성난소증후군,&nbsp;가뇌종양 등 대사와 관련된 합병증)을 동반하는 경우 ▲체질량지수가 27.5kg/㎡이상이며 혈당조절이 되지 않는 제2형 당뇨환자\\r\\n\\r\\n\\r\\n- 기저질환이 있으면 비만대사수술이 위험할 것이라고 생각했는데 오히려 기저질환 개선효과도 있다고 들었습니다. 정말 그런가요?&nbsp;\\r\\n\\r\\n전 : 비만대사수술은 고혈압, 당뇨병뿐 아니라 장기적으로 심혈관질환도 해결해줄 수 있는 근본적인 치료법으로 효과를 입증받았습니다. 실제로 수술 후 체중이 줄면서 당뇨약 가짓수가 줄거나 인슐린 주사를 아예 맞지 않게 된 환자도 있습니다. 숨쉬기 불편해했던 환자 한 분은 그렇게 하고 싶었던 순례길 여행도 거뜬히 하고 왔더군요. 삶의 질이 높아지니 건강관리에 대한 동기부여도 아무래도 더 확실히 되겠지요.&nbsp;\\r\\n\\r\\n박 : 심혈관계에 문제가 있는 환자들은 비만대사수술이 조심스러울 수 있는데요. 이 경우에는 조금 일찍 입원해 컨디션관리를 엄격하게 진행합니다. 수술 전부터 체계적으로 관리하면 안전하게 수술받을 수 있는 것은 물론, 수술 후 체중감소를 통해 심혈관질환도 개선할 수 있습니다.&nbsp;\\r\\n\\r\\n\\r\\n\\r\\n전숙 교수는 &ldquo;의료진은 지원군 역할을 할 뿐 결국 치료 성공 열쇠를 쥐고 있는 건 환자&rdquo;라고 말했다.\\r\\n\\r\\n\\r\\n\\r\\n- 의료진의 협업뿐 아니라 환자와의 호흡도 매우 중요할 것 같습니다. 의료진과 환자는 각각 어떤 역할을 해야 하나요?\\r\\n\\r\\n전 :&nbsp;사실 고도비만 치료의 주도자는 환자입니다. 의료진은 환자가 올바른 방향으로 갈 수 있도록 서포트(지원)해주는 역할이죠. 이때 환자는 원하는 정보만 듣고 자기주장을 내세워선 안 됩니다.&nbsp;또 비만의 모든 치료는 식이&middot;운동요법을 전제로 하기 때문에 수술 후에도 본인이 의지를 갖고 생활관리를 잘해야 합니다. 사람은 적응의 동물인지라 수술 후 식사패턴을 조금씩 회복하면 다시 살이 찝니다.&nbsp; &nbsp;\\r\\n\\r\\n박 : 비만대사수술 후 보통 6개월 후면 목표 체중에 도달한다고 보는데요. 이 6개월간 잘 관리해 최대한 체중을 낮춰놔야 장기적으로 효과를 유지할 수 있습니다. 의료진은 수술부위 관리와 식단조절 등 놓치고 있는 부분은 없는지 꼼꼼히 점검하고 환자는 이에 발맞춰 치료의 끈을 놓지 않는 것이 중요합니다.&nbsp;\\r\\n\\r\\n- 여러 병원에서 다학제진료를 시행하고 있는데 경희대병원만의 특장점이 궁금합니다.&nbsp;\\r\\n\\r\\n박 : 어느 특정 한 과가 주도적으로 이끌어간다기보다 모든 과의 역할이 고루 잘 분배돼 있습니다. 의료진마다 스케줄이 달라 한자리에 모이기 쉽지 않은데 저희는 어떤 경우에도 꼭 다학제진료실에 모여 치료방법을 논의합니다. 이때는 환자도 필수로 참석해 의료진과 자유롭게 소통한답니다.&nbsp;&nbsp; &nbsp; &nbsp;\\r\\n\\r\\n전 : 물론 어느 한 과가 주도하는 다학제진료도 나름의 장점이 있겠지요. 저희도 다년간 쌓아온 다학제진료 노하우를 발판 삼아 훗날에는&nbsp;외과를 필두로 좀 더 확장된 다학제진료를 할 생각도 있답니다.&nbsp;\\r\\n\\r\\n- 요즘은 워낙 고도비만치료기관이 많아져서 환자들이 혼란스러울 듯합니다. 어떤 곳을 선택해야 하는지 조언 부탁드립니다.\\r\\n\\r\\n전 : 재차 강조하지만 고도비만은 매우 복합적인 문제가 얽혀 있는 질병입니다. 따라서 환자의 동반문제를 세심하게 파악해&nbsp;이를 두루 관리할 수 있는 다학제진료시스템이 갖춰진 곳을&nbsp;선택해야 합니다.&nbsp;\\r\\n\\r\\n박 : 비만대사수술은 적응증에 해당하는 환자에서만 효과적이라는 점을 다시 한 번 강조하고 싶습니다. 정확한 검사와 진단으로 수술적응증을 잘 판별할 수 있는 곳을 선택하세요. 또&nbsp;수술 후에도 지속적인 관리가 필요한 만큼 영양상담과 환자교육 같은 수술 후 관리시스템이 잘 갖춰져 있는지도 살펴보면 좋겠네요.&nbsp;&nbsp;\\r\\n\\r\\n\\r\\nTIP. 비만대사수술 이것만은!&nbsp;\\r\\n\\r\\n1. 배가 아프거나 수술부위에 열이 나면 바로 병원 방문하기\\r\\n2. 퇴원 전 교육받은 식사관리법 잘 실천하기&nbsp;\\r\\n3. 무난한 걷기운동이라도 절대 무리하지 않기(체력이 많이 드는 근력운동은 수술 후 최소 두세 달 지나서 시작)\\r\\n4. 본인이 치료과정의 주도자라고 생각하고 생활습관 싹 바꾸기\\r\\n5. 비만대사수술이 불가능하더라도 포기하지 말기(약물치료 등 다른 치료방법 충분히 고려할 수 있음)&nbsp; &nbsp;&nbsp;\\r\\n\\r\\n\\r\\n\\r\\n\\r\\n\\r\\n경희대병원 내분비내과 전숙 교수와 외과 박대근 교수.\\r\\n\\r\\n\\r\\n\\r\\n※ 전숙 교수는?\\r\\n\\r\\n경희대병원 내분비내과장으로 당뇨병, 비만,&nbsp;갑상선질환 등을 전문으로 진료하고 있다. 수많은 환자의 든든한 서포터(지원군)로서 환자가 치료과정에서 주도적인 역할을 잘할 수 있게 한다.&nbsp;체중관리에 있어 절대 서두르지 말 것을 강조하며 의지가 약한&nbsp;환자들에게는&nbsp;동기를 부여받을 수 있도록 실제&nbsp;성공사례들을 생생하게 얘기해주는 편이다.&nbsp;&nbsp;&nbsp;\\r\\n\\r\\n※ 박대근 교수는?\\r\\n\\r\\n경희대병원 외과 교수로 비만대사수술클리닉에서 고도비만수술을 맡고 있다. 그간 쌓아온 수술노하우를 기반으로 다양한 케이스의 환자들을 안전하게 수술하고 있으며 수술 전부터 수술 후까지 세심한 관리로 환자가 치료 끈을 놓지 않게 하는 데 주력하고 있다.&nbsp;]]></description>\\r\\n\\t\\t\\t<author>장인선 기자</author>\\r\\n\\t\\t\\t<pubDate>2021-06-03 13:38:00</pubDate>\\r\\n\\t\\t\\t</item>\\r\\n\\t\\t\\t\\t</channel>\\r\\n\\t\\t</rss>\\r\\n\\t\\t'"
      ]
     },
     "execution_count": 42,
     "metadata": {},
     "output_type": "execute_result"
    }
   ],
   "source": [
    "import requests as req\n",
    "health = req.get(\"http://www.k-health.com/rss/allArticle.xml\")\n",
    "tree4 = health.text"
   ]
  },
  {
   "cell_type": "markdown",
   "metadata": {},
   "source": [
    "---\n",
    "\n",
    "## 2. JSON(Javascript Object Notaion)"
   ]
  },
  {
   "cell_type": "code",
   "execution_count": 50,
   "metadata": {},
   "outputs": [],
   "source": [
    "import json\n",
    "\n",
    "# dumps()  : 데이터를 저장\n",
    "# loads()  : 데이터를 불러올 때"
   ]
  },
  {
   "cell_type": "code",
   "execution_count": 59,
   "metadata": {},
   "outputs": [
    {
     "name": "stdout",
     "output_type": "stream",
     "text": [
      "<class 'dict'>\n",
      "{'name': '홍길동', 'birth': '0519', 'age': 20}\n",
      "----------------------------------------------\n",
      "<class 'str'>\n",
      "{\n",
      "  \"name\": \"\\ud64d\\uae38\\ub3d9\",\n",
      "  \"birth\": \"0519\",\n",
      "  \"age\": 20\n",
      "}\n",
      "----------------------------------------------\n",
      "[1, 2, 3]\n",
      "<class 'str'>\n",
      "----------------------------------------------\n",
      "{'name': '홍길동', 'birth': '0519', 'age': 20}\n",
      "<class 'dict'>\n"
     ]
    }
   ],
   "source": [
    "j1 = {\"name\":\"홍길동\", \"birth\":\"0519\", \"age\":20}\n",
    "print(type(j1))\n",
    "print(j1)\n",
    "\n",
    "print(\"----------------------------------------------\")\n",
    "\n",
    "# j2 = json.dumps(j1)\n",
    "j2 = json.dumps(j1, indent=2)\n",
    "print(type(j2))\n",
    "print(j2)\n",
    "\n",
    "print(\"----------------------------------------------\")\n",
    "\n",
    "###### 리스트나 튜플로 json으로 변환\n",
    "# j3 = json.dumps([1, 2, 3])\n",
    "j3 = json.dumps((1, 2, 3))\n",
    "print(j3)\n",
    "print(type(j3))\n",
    "\n",
    "print(\"----------------------------------------------\")\n",
    "\n",
    "j4 = json.loads(j2)\n",
    "print(j4)\n",
    "print(type(j4))"
   ]
  },
  {
   "cell_type": "code",
   "execution_count": 61,
   "metadata": {},
   "outputs": [
    {
     "name": "stdout",
     "output_type": "stream",
     "text": [
      "<class 'str'>\n"
     ]
    }
   ],
   "source": [
    "obj = \"\"\"\n",
    "{\n",
    "\t\"id\": \"0001\",\n",
    "\t\"type\": \"donut\",\n",
    "\t\"name\": \"Cake\",\n",
    "\t\"ppu\": 0.55,\n",
    "\t\"batters\":\n",
    "\t\t{\n",
    "\t\t\t\"batter\":\n",
    "\t\t\t\t[\n",
    "\t\t\t\t\t{ \"id\": \"1001\", \"type\": \"Regular\" },\n",
    "\t\t\t\t\t{ \"id\": \"1002\", \"type\": \"Chocolate\" },\n",
    "\t\t\t\t\t{ \"id\": \"1003\", \"type\": \"Blueberry\" },\n",
    "\t\t\t\t\t{ \"id\": \"1004\", \"type\": \"Devil's Food\" }\n",
    "\t\t\t\t]\n",
    "\t\t},\n",
    "\t\"topping\":\n",
    "\t\t[\n",
    "\t\t\t{ \"id\": \"5001\", \"type\": \"None\" },\n",
    "\t\t\t{ \"id\": \"5002\", \"type\": \"Glazed\" },\n",
    "\t\t\t{ \"id\": \"5005\", \"type\": \"Sugar\" },\n",
    "\t\t\t{ \"id\": \"5007\", \"type\": \"Powdered Sugar\" },\n",
    "\t\t\t{ \"id\": \"5006\", \"type\": \"Chocolate with Sprinkles\" },\n",
    "\t\t\t{ \"id\": \"5003\", \"type\": \"Chocolate\" },\n",
    "\t\t\t{ \"id\": \"5004\", \"type\": \"Maple\" }\n",
    "\t\t]\n",
    "}\n",
    "\"\"\"\n",
    "\n",
    "print(type(obj))"
   ]
  },
  {
   "cell_type": "code",
   "execution_count": 68,
   "metadata": {},
   "outputs": [
    {
     "name": "stdout",
     "output_type": "stream",
     "text": [
      "<class 'dict'>\n",
      "{'id': '0001', 'type': 'donut', 'name': 'Cake', 'ppu': 0.55, 'batters': {'batter': [{'id': '1001', 'type': 'Regular'}, {'id': '1002', 'type': 'Chocolate'}, {'id': '1003', 'type': 'Blueberry'}, {'id': '1004', 'type': \"Devil's Food\"}]}, 'topping': [{'id': '5001', 'type': 'None'}, {'id': '5002', 'type': 'Glazed'}, {'id': '5005', 'type': 'Sugar'}, {'id': '5007', 'type': 'Powdered Sugar'}, {'id': '5006', 'type': 'Chocolate with Sprinkles'}, {'id': '5003', 'type': 'Chocolate'}, {'id': '5004', 'type': 'Maple'}]}\n",
      "-----------------------------------------------------------\n",
      "0001\n",
      "-----------------------------------------------------------\n",
      "1001\n"
     ]
    }
   ],
   "source": [
    "result = json.loads(obj)\n",
    "print(type(result))\n",
    "print(result)\n",
    "\n",
    "print(\"-----------------------------------------------------------\")\n",
    "\n",
    "print(result[\"id\"])\n",
    "\n",
    "print(\"-----------------------------------------------------------\")\n",
    "\n",
    "print(result[\"batters\"][\"batter\"][0][\"id\"])"
   ]
  },
  {
   "cell_type": "markdown",
   "metadata": {},
   "source": [
    "---\n",
    "\n",
    "## BeautifulSoup"
   ]
  },
  {
   "cell_type": "markdown",
   "metadata": {},
   "source": [
    "#### 1) 웹 소스 가져오기"
   ]
  },
  {
   "cell_type": "code",
   "execution_count": 69,
   "metadata": {},
   "outputs": [],
   "source": [
    "from urllib.request import urlopen"
   ]
  },
  {
   "cell_type": "code",
   "execution_count": 78,
   "metadata": {
    "collapsed": true
   },
   "outputs": [
    {
     "name": "stdout",
     "output_type": "stream",
     "text": [
      "<class 'http.client.HTTPResponse'>\n",
      "<class 'bytes'>\n",
      "b'<!doctype html><html itemscope=\"\" itemtype=\"http://schema.org/WebPage\" lang=\"ko\"><head><meta content=\"text/html; charset=UTF-8\" http-equiv=\"Content-Type\"><meta content=\"/images/branding/googleg/1x/googleg_standard_color_128dp.png\" itemprop=\"image\"><title>Google</title><script nonce=\"4C3O4Rt6rakJVGXjq/dvTg==\">(function(){window.google={kEI:\\'Bhe_YPzNDMXbhwOmg4CQDA\\',kEXPI:\\'0,772215,1,530320,56873,954,5104,207,4804,926,1390,383,246,5,1354,5251,16231,10,1106274,1197694,558,31,328984,51224,16114,28684,17572,4859,1361,9290,3021,2823,14765,4020,978,4091,9137,2054,1793,4192,6430,14528,4517,2777,919,5081,1593,1279,2212,530,149,1103,840,517,5780,108,3406,606,2023,1777,520,14670,3227,2845,7,4773,7581,5096,7876,4929,108,3407,908,2,941,2614,2397,10745,3,576,1835,4624,149,5990,7985,4,1528,2304,1242,5220,577,1791,2893,2014,4067,14308,2658,4242,519,914,1026,40,616,30,5616,8012,1590,715,638,1494,5586,3772,6763,665,2145,376,3297,2539,4094,18,3120,6,908,3,3541,1,4174,5771,4765,1816,281,912,5996,1501,5249,432,552,4788,2,1394,2806,1715,2,3057,2017,521,2,1,3,447,2270,3798,2,564,1340,1338,515,2,76,626,906,355,1,1,1096,926,91,2275,56,114,463,697,1076,1939,1101,56,406,2095,537,1065,3653,106,1513,452,2,1040,1160,475,2019,31,542,1619,2,2,1719,291,210,393,1,836,94,2213,505,1196,1381,17,3,98,937,573,460,3,180,2,103,235,204,3,75,34,14,896,585,783,138,2024,182,334,27,394,1177,271,1652,735,618,169,585,514,246,1430,171,763,68,2,5635169,183,3,8,32,63,155,46,5996825,16,30,2799326,1324,882,444,1,2,80,1,1796,1,9,2,2551,1,748,141,795,563,1,4265,1,1,2,1331,3299,843,2609,155,17,13,72,139,4,2,20,2,169,13,19,46,5,39,96,284,4,4,4,4,4,4,8,4,4,4,24,196,29,2,2,1,2,1,2,2,7,4,1,2,2,2,2,2,2,70,283,378,30,49,13,43,20,42,38,23955263,4010273,268,1678,157,26464,2,2377,3,120,3,344,3,213,7,1108,493,593\\',kBL:\\'EbXx\\'};google.sn=\\'webhp\\';google.kHL=\\'ko\\';})();(function(){\\nvar f=this||self;var h,k=[];function l(a){for(var b;a&&(!a.getAttribute||!(b=a.getAttribute(\"eid\")));)a=a.parentNode;return b||h}function m(a){for(var b=null;a&&(!a.getAttribute||!(b=a.getAttribute(\"leid\")));)a=a.parentNode;return b}\\nfunction n(a,b,c,d,g){var e=\"\";c||-1!==b.search(\"&ei=\")||(e=\"&ei=\"+l(d),-1===b.search(\"&lei=\")&&(d=m(d))&&(e+=\"&lei=\"+d));d=\"\";!c&&f._cshid&&-1===b.search(\"&cshid=\")&&\"slh\"!==a&&(d=\"&cshid=\"+f._cshid);c=c||\"/\"+(g||\"gen_204\")+\"?atyp=i&ct=\"+a+\"&cad=\"+b+e+\"&zx=\"+Date.now()+d;/^http:/i.test(c)&&\"https:\"===window.location.protocol&&(google.ml&&google.ml(Error(\"a\"),!1,{src:c,glmm:1}),c=\"\");return c};h=google.kEI;google.getEI=l;google.getLEI=m;google.ml=function(){return null};google.log=function(a,b,c,d,g){if(c=n(a,b,c,d,g)){a=new Image;var e=k.length;k[e]=a;a.onerror=a.onload=a.onabort=function(){delete k[e]};a.src=c}};google.logUrl=n;}).call(this);(function(){\\ngoogle.y={};google.sy=[];google.x=function(a,b){if(a)var c=a.id;else{do c=Math.random();while(google.y[c])}google.y[c]=[a,b];return!1};google.sx=function(a){google.sy.push(a)};google.lm=[];google.plm=function(a){google.lm.push.apply(google.lm,a)};google.lq=[];google.load=function(a,b,c){google.lq.push([[a],b,c])};google.loadAll=function(a,b){google.lq.push([a,b])};google.bx=!1;google.lx=function(){};}).call(this);google.f={};(function(){\\ndocument.documentElement.addEventListener(\"submit\",function(b){var a;if(a=b.target){var c=a.getAttribute(\"data-submitfalse\");a=\"1\"==c||\"q\"==c&&!a.elements.q.value?!0:!1}else a=!1;a&&(b.preventDefault(),b.stopPropagation())},!0);document.documentElement.addEventListener(\"click\",function(b){var a;a:{for(a=b.target;a&&a!=document.documentElement;a=a.parentElement)if(\"A\"==a.tagName){a=\"1\"==a.getAttribute(\"data-nohref\");break a}a=!1}a&&b.preventDefault()},!0);}).call(this);</script><style>#gbar,#guser{font-size:13px;padding-top:1px !important;}#gbar{height:22px}#guser{padding-bottom:7px !important;text-align:right}.gbh,.gbd{border-top:1px solid #c9d7f1;font-size:1px}.gbh{height:0;position:absolute;top:24px;width:100%}@media all{.gb1{height:22px;margin-right:.5em;vertical-align:top}#gbar{float:left}}a.gb1,a.gb4{text-decoration:underline !important}a.gb1,a.gb4{color:#00c !important}.gbi .gb4{color:#dd8e27 !important}.gbf .gb4{color:#900 !important}\\n</style><style>body,td,a,p,.h{font-family:&#44404;&#47548;,&#46027;&#50880;,arial,sans-serif}.ko{font-size:9pt}body{margin:0;overflow-y:scroll}#gog{padding:3px 8px 0}td{line-height:.8em}.gac_m td{line-height:17px}form{margin-bottom:20px}.h{color:#1558d6}em{font-weight:bold;font-style:normal}.lst{height:25px;width:496px}.gsfi,.lst{font:18px arial,sans-serif}.gsfs{font:17px arial,sans-serif}.ds{display:inline-box;display:inline-block;margin:3px 0 4px;margin-left:4px}input{font-family:inherit}body{background:#fff;color:#000}a{color:#4b11a8;text-decoration:none}a:hover,a:active{text-decoration:underline}.fl a{color:#1558d6}a:visited{color:#4b11a8}.sblc{padding-top:5px}.sblc a{display:block;margin:2px 0;margin-left:13px;font-size:11px}.lsbb{background:#f8f9fa;border:solid 1px;border-color:#dadce0 #70757a #70757a #dadce0;height:30px}.lsbb{display:block}#WqQANb a{display:inline-block;margin:0 12px}.lsb{background:url(/images/nav_logo229.png) 0 -261px repeat-x;border:none;color:#000;cursor:pointer;height:30px;margin:0;outline:0;font:15px arial,sans-serif;vertical-align:top}.lsb:active{background:#dadce0}.lst:focus{outline:none}.tiah{width:458px}</style><script nonce=\"4C3O4Rt6rakJVGXjq/dvTg==\"></script></head><body bgcolor=\"#fff\"><script nonce=\"4C3O4Rt6rakJVGXjq/dvTg==\">(function(){var src=\\'/images/nav_logo229.png\\';var iesg=false;document.body.onload = function(){window.n && window.n();if (document.images){new Image().src=src;}\\nif (!iesg){document.f&&document.f.q.focus();document.gbqf&&document.gbqf.q.focus();}\\n}\\n})();</script><div id=\"mngb\"><div id=gbar><nobr><b class=gb1>&#44160;&#49353;</b> <a class=gb1 href=\"http://www.google.co.kr/imghp?hl=ko&tab=wi\">&#51060;&#48120;&#51648;</a> <a class=gb1 href=\"http://maps.google.co.kr/maps?hl=ko&tab=wl\">&#51648;&#46020;</a> <a class=gb1 href=\"https://play.google.com/?hl=ko&tab=w8\">Play</a> <a class=gb1 href=\"http://www.youtube.com/?gl=KR&tab=w1\">YouTube</a> <a class=gb1 href=\"https://news.google.com/?tab=wn\">&#45684;&#49828;</a> <a class=gb1 href=\"https://mail.google.com/mail/?tab=wm\">Gmail</a> <a class=gb1 href=\"https://drive.google.com/?tab=wo\">&#46300;&#46972;&#51060;&#48652;</a> <a class=gb1 style=\"text-decoration:none\" href=\"https://www.google.co.kr/intl/ko/about/products?tab=wh\"><u>&#45908;&#48372;&#44592;</u> &raquo;</a></nobr></div><div id=guser width=100%><nobr><span id=gbn class=gbi></span><span id=gbf class=gbf></span><span id=gbe></span><a href=\"http://www.google.co.kr/history/optout?hl=ko\" class=gb4>&#50937; &#44592;&#47197;</a> | <a  href=\"/preferences?hl=ko\" class=gb4>&#49444;&#51221;</a> | <a target=_top id=gb_70 href=\"https://accounts.google.com/ServiceLogin?hl=ko&passive=true&continue=http://www.google.com/&ec=GAZAAQ\" class=gb4>&#47196;&#44536;&#51064;</a></nobr></div><div class=gbh style=left:0></div><div class=gbh style=right:0></div></div><center><br clear=\"all\" id=\"lgpd\"><div id=\"lga\"><img alt=\"Google\" height=\"92\" src=\"/images/branding/googlelogo/1x/googlelogo_white_background_color_272x92dp.png\" style=\"padding:28px 0 14px\" width=\"272\" id=\"hplogo\"><br><br></div><form action=\"/search\" name=\"f\"><table cellpadding=\"0\" cellspacing=\"0\"><tr valign=\"top\"><td width=\"25%\">&nbsp;</td><td align=\"center\" nowrap=\"\"><input name=\"ie\" value=\"ISO-8859-1\" type=\"hidden\"><input value=\"ko\" name=\"hl\" type=\"hidden\"><input name=\"source\" type=\"hidden\" value=\"hp\"><input name=\"biw\" type=\"hidden\"><input name=\"bih\" type=\"hidden\"><div class=\"ds\" style=\"height:32px;margin:4px 0\"><div style=\"position:relative;zoom:1\"><input class=\"lst tiah\" style=\"margin:0;padding:5px 8px 0 6px;vertical-align:top;color:#000;padding-right:38px\" autocomplete=\"off\" value=\"\" title=\"Google &#44160;&#49353;\" maxlength=\"2048\" name=\"q\" size=\"57\"><img src=\"/textinputassistant/tia.png\" style=\"position:absolute;cursor:pointer;right:5px;top:4px;z-index:300\" data-script-url=\"/textinputassistant/11/ko_tia.js\" id=\"tsuid1\" alt=\"\" height=\"23\" width=\"27\"><script nonce=\"4C3O4Rt6rakJVGXjq/dvTg==\">(function(){var id=\\'tsuid1\\';document.getElementById(id).onclick = function(){var s = document.createElement(\\'script\\');s.src = this.getAttribute(\\'data-script-url\\');(document.getElementById(\\'xjsc\\')||document.body).appendChild(s);};})();</script></div></div><br style=\"line-height:0\"><span class=\"ds\"><span class=\"lsbb\"><input class=\"lsb\" value=\"Google &#44160;&#49353;\" name=\"btnG\" type=\"submit\"></span></span><span class=\"ds\"><span class=\"lsbb\"><input class=\"lsb\" id=\"tsuid2\" value=\"I&#8217;m Feeling Lucky\" name=\"btnI\" type=\"submit\"><script nonce=\"4C3O4Rt6rakJVGXjq/dvTg==\">(function(){var id=\\'tsuid2\\';document.getElementById(id).onclick = function(){if (this.form.q.value){this.checked = 1;if (this.form.iflsig)this.form.iflsig.disabled = false;}\\nelse top.location=\\'/doodles/\\';};})();</script><input value=\"AINFCbYAAAAAYL8lFm-4wdwg7HCdvmHNNFEyLvcyVqTU\" name=\"iflsig\" type=\"hidden\"></span></span></td><td class=\"fl sblc\" align=\"left\" nowrap=\"\" width=\"25%\"><a href=\"/advanced_search?hl=ko&amp;authuser=0\">&#44256;&#44553;&#44160;&#49353;</a></td></tr></table><input id=\"gbv\" name=\"gbv\" type=\"hidden\" value=\"1\"><script nonce=\"4C3O4Rt6rakJVGXjq/dvTg==\">(function(){\\nvar a,b=\"1\";if(document&&document.getElementById)if(\"undefined\"!=typeof XMLHttpRequest)b=\"2\";else if(\"undefined\"!=typeof ActiveXObject){var c,d,e=[\"MSXML2.XMLHTTP.6.0\",\"MSXML2.XMLHTTP.3.0\",\"MSXML2.XMLHTTP\",\"Microsoft.XMLHTTP\"];for(c=0;d=e[c++];)try{new ActiveXObject(d),b=\"2\"}catch(h){}}a=b;if(\"2\"==a&&-1==location.search.indexOf(\"&gbv=2\")){var f=google.gbvu,g=document.getElementById(\"gbv\");g&&(g.value=a);f&&window.setTimeout(function(){location.href=f},0)};}).call(this);</script></form><div id=\"gac_scont\"></div><div style=\"font-size:83%;min-height:3.5em\"><br></div><span id=\"footer\"><div style=\"font-size:10pt\"><div style=\"margin:19px auto;text-align:center\" id=\"WqQANb\"><a href=\"/intl/ko/ads/\">&#44305;&#44256; &#54532;&#47196;&#44536;&#47016;</a><a href=\"http://www.google.co.kr/intl/ko/services/\">&#48708;&#51592;&#45768;&#49828; &#49556;&#47336;&#49496;</a><a href=\"/intl/ko/about.html\">Google &#51221;&#48372;</a><a href=\"http://www.google.com/setprefdomain?prefdom=KR&amp;prev=http://www.google.co.kr/&amp;sig=K_nEDWxG-ij0FnXQjIHZUr1ZYrYEg%3D\">Google.co.kr</a></div></div><p style=\"font-size:8pt;color:#70757a\">&copy; 2021 - <a href=\"/intl/ko/policies/privacy/\">&#44060;&#51064;&#51221;&#48372;&#52376;&#47532;&#48169;&#52840;</a> - <a href=\"/intl/ko/policies/terms/\">&#50557;&#44288;</a></p></span></center><script nonce=\"4C3O4Rt6rakJVGXjq/dvTg==\">(function(){window.google.cdo={height:0,width:0};(function(){\\nvar a=window.innerWidth,b=window.innerHeight;if(!a||!b){var c=window.document,d=\"CSS1Compat\"==c.compatMode?c.documentElement:c.body;a=d.clientWidth;b=d.clientHeight}a&&b&&(a!=google.cdo.width||b!=google.cdo.height)&&google.log(\"\",\"\",\"/client_204?&atyp=i&biw=\"+a+\"&bih=\"+b+\"&ei=\"+google.kEI);}).call(this);})();</script> <script nonce=\"4C3O4Rt6rakJVGXjq/dvTg==\">(function(){google.xjs={ck:\\'\\',cs:\\'\\',excm:[],pml:false};})();</script>  <script nonce=\"4C3O4Rt6rakJVGXjq/dvTg==\">(function(){var u=\\'/xjs/_/js/k\\\\x3dxjs.hp.en.xDcA8u803nE.O/m\\\\x3dsb_he,d/am\\\\x3dAHgCLA/d\\\\x3d1/ed\\\\x3d1/rs\\\\x3dACT90oF27WD4-dw0LjiPx4g-0FJbOQ8O4g\\';\\nvar e=this||self,f=function(a){return a};var g;var l=function(a,b){this.g=b===h?a:\"\"};l.prototype.toString=function(){return this.g+\"\"};var h={};function m(){var a=u;google.lx=function(){n(a);google.lx=function(){}};google.bx||google.lx()}\\nfunction n(a){google.timers&&google.timers.load&&google.tick&&google.tick(\"load\",\"xjsls\");var b=document;var c=\"SCRIPT\";\"application/xhtml+xml\"===b.contentType&&(c=c.toLowerCase());c=b.createElement(c);if(void 0===g){b=null;var k=e.trustedTypes;if(k&&k.createPolicy){try{b=k.createPolicy(\"goog#html\",{createHTML:f,createScript:f,createScriptURL:f})}catch(p){e.console&&e.console.error(p.message)}g=b}else g=b}a=(b=g)?b.createScriptURL(a):a;a=new l(a,h);c.src=a instanceof l&&a.constructor===l?a.g:\"type_error:TrustedResourceUrl\";var d;a=(c.ownerDocument&&c.ownerDocument.defaultView||window).document;(d=(a=null===(d=a.querySelector)||void 0===d?void 0:d.call(a,\"script[nonce]\"))?a.nonce||a.getAttribute(\"nonce\")||\"\":\"\")&&c.setAttribute(\"nonce\",d);document.body.appendChild(c);google.psa=!0};setTimeout(function(){m()},0);})();(function(){window.google.xjsu=\\'/xjs/_/js/k\\\\x3dxjs.hp.en.xDcA8u803nE.O/m\\\\x3dsb_he,d/am\\\\x3dAHgCLA/d\\\\x3d1/ed\\\\x3d1/rs\\\\x3dACT90oF27WD4-dw0LjiPx4g-0FJbOQ8O4g\\';})();function _DumpException(e){throw e;}\\nfunction _F_installCss(c){}\\n(function(){google.jl={attn:false,blt:\\'none\\',dw:false,emtn:0,ine:false,lls:\\'default\\',pdt:0,snet:true,ubm:false,uwp:true};})();(function(){var pmc=\\'{\\\\x22d\\\\x22:{},\\\\x22sb_he\\\\x22:{\\\\x22agen\\\\x22:true,\\\\x22cgen\\\\x22:true,\\\\x22client\\\\x22:\\\\x22heirloom-hp\\\\x22,\\\\x22dh\\\\x22:true,\\\\x22dhqt\\\\x22:true,\\\\x22ds\\\\x22:\\\\x22\\\\x22,\\\\x22ffql\\\\x22:\\\\x22ko\\\\x22,\\\\x22fl\\\\x22:true,\\\\x22host\\\\x22:\\\\x22google.com\\\\x22,\\\\x22isbh\\\\x22:28,\\\\x22jsonp\\\\x22:true,\\\\x22msgs\\\\x22:{\\\\x22cibl\\\\x22:\\\\x22&#44160;&#49353;&#50612; &#51648;&#50864;&#44592;\\\\x22,\\\\x22dym\\\\x22:\\\\x22&#51060;&#44163;&#51012; &#52286;&#51004;&#49512;&#45208;&#50836;?\\\\x22,\\\\x22lcky\\\\x22:\\\\x22I&#8217;m Feeling Lucky\\\\x22,\\\\x22lml\\\\x22:\\\\x22&#51088;&#49464;&#55176; &#50508;&#50500;&#48372;&#44592;\\\\x22,\\\\x22oskt\\\\x22:\\\\x22&#51077;&#47141; &#46020;&#44396;\\\\x22,\\\\x22psrc\\\\x22:\\\\x22&#44160;&#49353;&#50612;&#44032; \\\\\\\\u003Ca href\\\\x3d\\\\\\\\\\\\x22/history\\\\\\\\\\\\x22\\\\\\\\u003E&#50937; &#44592;&#47197;\\\\\\\\u003C/a\\\\\\\\u003E&#50640;&#49436; &#49325;&#51228;&#46104;&#50632;&#49845;&#45768;&#45796;.\\\\x22,\\\\x22psrl\\\\x22:\\\\x22&#49325;&#51228;\\\\x22,\\\\x22sbit\\\\x22:\\\\x22&#51060;&#48120;&#51648;&#47196; &#44160;&#49353;\\\\x22,\\\\x22srch\\\\x22:\\\\x22Google &#44160;&#49353;\\\\x22},\\\\x22nrft\\\\x22:false,\\\\x22ovr\\\\x22:{},\\\\x22pq\\\\x22:\\\\x22\\\\x22,\\\\x22refpd\\\\x22:true,\\\\x22refspre\\\\x22:true,\\\\x22rfs\\\\x22:[],\\\\x22sbas\\\\x22:\\\\x220 3px 8px 0 rgba(0,0,0,0.2),0 0 0 1px rgba(0,0,0,0.08)\\\\x22,\\\\x22sbpl\\\\x22:16,\\\\x22sbpr\\\\x22:16,\\\\x22scd\\\\x22:10,\\\\x22stok\\\\x22:\\\\x22XGcjqgj6-oGtZ-U-eyBg6-7qA6A\\\\x22,\\\\x22uhde\\\\x22:false}}\\';google.pmc=JSON.parse(pmc);})();</script>        </body></html>'\n"
     ]
    }
   ],
   "source": [
    "google = urlopen(\"http://google.com\")\n",
    "print(type(google))\n",
    "\n",
    "html = google.read()\n",
    "print(type(html))\n",
    "print(html)\n"
   ]
  },
  {
   "cell_type": "code",
   "execution_count": 85,
   "metadata": {},
   "outputs": [
    {
     "name": "stdout",
     "output_type": "stream",
     "text": [
      "URL Error 입니다. <urlopen error [Errno 11001] getaddrinfo failed>\n"
     ]
    }
   ],
   "source": [
    "from urllib.error import HTTPError, URLError\n",
    "\n",
    "try:\n",
    "    naver = urlopen(\"https://www.naverabcde.com/index.jsp\")\n",
    "except HTTPError as e:\n",
    "    print(\"HTTP Error 입니다.\", e)\n",
    "except URLError as e:\n",
    "    print(\"URL Error 입니다.\", e)\n",
    "else:\n",
    "    print(naver.read())"
   ]
  },
  {
   "cell_type": "code",
   "execution_count": null,
   "metadata": {},
   "outputs": [],
   "source": []
  },
  {
   "cell_type": "code",
   "execution_count": null,
   "metadata": {},
   "outputs": [],
   "source": []
  },
  {
   "cell_type": "code",
   "execution_count": null,
   "metadata": {},
   "outputs": [],
   "source": []
  },
  {
   "cell_type": "code",
   "execution_count": null,
   "metadata": {},
   "outputs": [],
   "source": []
  },
  {
   "cell_type": "code",
   "execution_count": null,
   "metadata": {},
   "outputs": [],
   "source": []
  },
  {
   "cell_type": "code",
   "execution_count": null,
   "metadata": {},
   "outputs": [],
   "source": []
  },
  {
   "cell_type": "code",
   "execution_count": null,
   "metadata": {},
   "outputs": [],
   "source": []
  },
  {
   "cell_type": "code",
   "execution_count": null,
   "metadata": {},
   "outputs": [],
   "source": []
  },
  {
   "cell_type": "code",
   "execution_count": null,
   "metadata": {},
   "outputs": [],
   "source": []
  },
  {
   "cell_type": "code",
   "execution_count": null,
   "metadata": {},
   "outputs": [],
   "source": []
  },
  {
   "cell_type": "code",
   "execution_count": null,
   "metadata": {},
   "outputs": [],
   "source": []
  },
  {
   "cell_type": "code",
   "execution_count": null,
   "metadata": {},
   "outputs": [],
   "source": []
  },
  {
   "cell_type": "code",
   "execution_count": null,
   "metadata": {},
   "outputs": [],
   "source": []
  },
  {
   "cell_type": "code",
   "execution_count": null,
   "metadata": {},
   "outputs": [],
   "source": []
  },
  {
   "cell_type": "code",
   "execution_count": null,
   "metadata": {},
   "outputs": [],
   "source": []
  },
  {
   "cell_type": "code",
   "execution_count": null,
   "metadata": {},
   "outputs": [],
   "source": []
  },
  {
   "cell_type": "code",
   "execution_count": null,
   "metadata": {},
   "outputs": [],
   "source": []
  },
  {
   "cell_type": "code",
   "execution_count": null,
   "metadata": {},
   "outputs": [],
   "source": []
  },
  {
   "cell_type": "code",
   "execution_count": null,
   "metadata": {},
   "outputs": [],
   "source": []
  },
  {
   "cell_type": "code",
   "execution_count": null,
   "metadata": {},
   "outputs": [],
   "source": []
  },
  {
   "cell_type": "code",
   "execution_count": null,
   "metadata": {},
   "outputs": [],
   "source": []
  },
  {
   "cell_type": "code",
   "execution_count": null,
   "metadata": {},
   "outputs": [],
   "source": []
  },
  {
   "cell_type": "code",
   "execution_count": null,
   "metadata": {},
   "outputs": [],
   "source": []
  },
  {
   "cell_type": "code",
   "execution_count": null,
   "metadata": {},
   "outputs": [],
   "source": []
  },
  {
   "cell_type": "code",
   "execution_count": null,
   "metadata": {},
   "outputs": [],
   "source": []
  },
  {
   "cell_type": "code",
   "execution_count": null,
   "metadata": {},
   "outputs": [],
   "source": []
  },
  {
   "cell_type": "code",
   "execution_count": null,
   "metadata": {},
   "outputs": [],
   "source": []
  },
  {
   "cell_type": "code",
   "execution_count": null,
   "metadata": {},
   "outputs": [],
   "source": []
  },
  {
   "cell_type": "code",
   "execution_count": null,
   "metadata": {},
   "outputs": [],
   "source": []
  },
  {
   "cell_type": "code",
   "execution_count": null,
   "metadata": {},
   "outputs": [],
   "source": []
  },
  {
   "cell_type": "code",
   "execution_count": null,
   "metadata": {},
   "outputs": [],
   "source": []
  },
  {
   "cell_type": "code",
   "execution_count": null,
   "metadata": {},
   "outputs": [],
   "source": []
  },
  {
   "cell_type": "code",
   "execution_count": null,
   "metadata": {},
   "outputs": [],
   "source": []
  },
  {
   "cell_type": "code",
   "execution_count": null,
   "metadata": {},
   "outputs": [],
   "source": []
  },
  {
   "cell_type": "code",
   "execution_count": null,
   "metadata": {},
   "outputs": [],
   "source": []
  },
  {
   "cell_type": "code",
   "execution_count": null,
   "metadata": {},
   "outputs": [],
   "source": []
  },
  {
   "cell_type": "code",
   "execution_count": null,
   "metadata": {},
   "outputs": [],
   "source": []
  },
  {
   "cell_type": "code",
   "execution_count": null,
   "metadata": {},
   "outputs": [],
   "source": []
  },
  {
   "cell_type": "code",
   "execution_count": null,
   "metadata": {},
   "outputs": [],
   "source": []
  },
  {
   "cell_type": "code",
   "execution_count": null,
   "metadata": {},
   "outputs": [],
   "source": []
  },
  {
   "cell_type": "code",
   "execution_count": null,
   "metadata": {},
   "outputs": [],
   "source": []
  },
  {
   "cell_type": "code",
   "execution_count": null,
   "metadata": {},
   "outputs": [],
   "source": []
  },
  {
   "cell_type": "code",
   "execution_count": null,
   "metadata": {},
   "outputs": [],
   "source": []
  },
  {
   "cell_type": "code",
   "execution_count": null,
   "metadata": {},
   "outputs": [],
   "source": []
  },
  {
   "cell_type": "code",
   "execution_count": null,
   "metadata": {},
   "outputs": [],
   "source": []
  },
  {
   "cell_type": "code",
   "execution_count": null,
   "metadata": {},
   "outputs": [],
   "source": []
  },
  {
   "cell_type": "code",
   "execution_count": null,
   "metadata": {},
   "outputs": [],
   "source": []
  },
  {
   "cell_type": "code",
   "execution_count": null,
   "metadata": {},
   "outputs": [],
   "source": []
  },
  {
   "cell_type": "code",
   "execution_count": null,
   "metadata": {},
   "outputs": [],
   "source": []
  },
  {
   "cell_type": "code",
   "execution_count": null,
   "metadata": {},
   "outputs": [],
   "source": []
  },
  {
   "cell_type": "code",
   "execution_count": null,
   "metadata": {},
   "outputs": [],
   "source": []
  },
  {
   "cell_type": "code",
   "execution_count": null,
   "metadata": {},
   "outputs": [],
   "source": []
  },
  {
   "cell_type": "code",
   "execution_count": null,
   "metadata": {},
   "outputs": [],
   "source": []
  },
  {
   "cell_type": "code",
   "execution_count": null,
   "metadata": {},
   "outputs": [],
   "source": []
  },
  {
   "cell_type": "code",
   "execution_count": null,
   "metadata": {},
   "outputs": [],
   "source": []
  },
  {
   "cell_type": "code",
   "execution_count": null,
   "metadata": {},
   "outputs": [],
   "source": []
  },
  {
   "cell_type": "code",
   "execution_count": null,
   "metadata": {},
   "outputs": [],
   "source": []
  },
  {
   "cell_type": "code",
   "execution_count": null,
   "metadata": {},
   "outputs": [],
   "source": []
  },
  {
   "cell_type": "code",
   "execution_count": null,
   "metadata": {},
   "outputs": [],
   "source": []
  },
  {
   "cell_type": "code",
   "execution_count": null,
   "metadata": {},
   "outputs": [],
   "source": []
  },
  {
   "cell_type": "code",
   "execution_count": null,
   "metadata": {},
   "outputs": [],
   "source": []
  },
  {
   "cell_type": "code",
   "execution_count": null,
   "metadata": {},
   "outputs": [],
   "source": []
  },
  {
   "cell_type": "code",
   "execution_count": null,
   "metadata": {},
   "outputs": [],
   "source": []
  },
  {
   "cell_type": "code",
   "execution_count": null,
   "metadata": {},
   "outputs": [],
   "source": []
  },
  {
   "cell_type": "code",
   "execution_count": null,
   "metadata": {},
   "outputs": [],
   "source": []
  },
  {
   "cell_type": "code",
   "execution_count": null,
   "metadata": {},
   "outputs": [],
   "source": []
  },
  {
   "cell_type": "code",
   "execution_count": null,
   "metadata": {},
   "outputs": [],
   "source": []
  },
  {
   "cell_type": "code",
   "execution_count": null,
   "metadata": {},
   "outputs": [],
   "source": []
  },
  {
   "cell_type": "code",
   "execution_count": null,
   "metadata": {},
   "outputs": [],
   "source": []
  },
  {
   "cell_type": "code",
   "execution_count": null,
   "metadata": {},
   "outputs": [],
   "source": []
  },
  {
   "cell_type": "code",
   "execution_count": null,
   "metadata": {},
   "outputs": [],
   "source": []
  },
  {
   "cell_type": "code",
   "execution_count": null,
   "metadata": {},
   "outputs": [],
   "source": []
  },
  {
   "cell_type": "code",
   "execution_count": null,
   "metadata": {},
   "outputs": [],
   "source": []
  },
  {
   "cell_type": "code",
   "execution_count": null,
   "metadata": {},
   "outputs": [],
   "source": []
  },
  {
   "cell_type": "code",
   "execution_count": null,
   "metadata": {},
   "outputs": [],
   "source": []
  },
  {
   "cell_type": "code",
   "execution_count": null,
   "metadata": {},
   "outputs": [],
   "source": []
  }
 ],
 "metadata": {
  "kernelspec": {
   "display_name": "Python 3",
   "language": "python",
   "name": "python3"
  },
  "language_info": {
   "codemirror_mode": {
    "name": "ipython",
    "version": 3
   },
   "file_extension": ".py",
   "mimetype": "text/x-python",
   "name": "python",
   "nbconvert_exporter": "python",
   "pygments_lexer": "ipython3",
   "version": "3.8.5"
  }
 },
 "nbformat": 4,
 "nbformat_minor": 4
}
