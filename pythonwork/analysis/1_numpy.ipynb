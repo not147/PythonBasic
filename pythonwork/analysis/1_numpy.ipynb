{
 "cells": [
  {
   "cell_type": "markdown",
   "metadata": {},
   "source": [
    "## 특징\n",
    "\n",
    "+ 벡터 및 행렬 연산과 관련된 편리한 기능을 제공(선형 대수 관련)\n",
    "+ 리스트에 비해 빠르고 메모리를 효율적으로 사용할 수 있는 배열(ndarray) 제공\n",
    "+ 반복문 없이 데이터 배열에 대한 처리를 지원(인덱싱, 질의)\n",
    "+ http://www.numpy.org"
   ]
  },
  {
   "cell_type": "code",
   "execution_count": 2,
   "metadata": {},
   "outputs": [],
   "source": [
    "import numpy as np"
   ]
  },
  {
   "cell_type": "markdown",
   "metadata": {},
   "source": [
    "### 1. 1차원 배열"
   ]
  },
  {
   "cell_type": "code",
   "execution_count": 12,
   "metadata": {},
   "outputs": [
    {
     "name": "stdout",
     "output_type": "stream",
     "text": [
      "[1, 2, 3, 4, 5, 10, 20, '가', '나']\n",
      "<class 'list'>\n"
     ]
    }
   ],
   "source": [
    "a1 = [1, 2, 3, 4, 5, 10, 20, \"가\", \"나\"]\n",
    "print(a1)\n",
    "print(type(a1))\n",
    "# print(a1.shape)\n",
    "# print(a1.dtype)"
   ]
  },
  {
   "cell_type": "code",
   "execution_count": 10,
   "metadata": {},
   "outputs": [
    {
     "name": "stdout",
     "output_type": "stream",
     "text": [
      "['1' '2' '3' '4' '5' '10' '20' '가' '나']\n",
      "<class 'numpy.ndarray'>\n",
      "(9,)\n",
      "<U11\n"
     ]
    }
   ],
   "source": [
    "a2 = np.array([1, 2, 3, 4, 5, 10, 20, \"가\", \"나\"])\n",
    "print(a2)\n",
    "print(type(a2))\n",
    "print(a2.shape)\n",
    "print(a2.dtype)"
   ]
  },
  {
   "cell_type": "code",
   "execution_count": 15,
   "metadata": {},
   "outputs": [
    {
     "name": "stdout",
     "output_type": "stream",
     "text": [
      "[ 1.  2.  3.  4.  5. 10. 20. 30. 40.]\n",
      "float64\n"
     ]
    }
   ],
   "source": [
    "a3 = np.array([1, 2, 3, 4, 5, 10, 20, \"30\", \"40\"], float)\n",
    "print(a3)\n",
    "print(a3.dtype)"
   ]
  },
  {
   "cell_type": "code",
   "execution_count": 20,
   "metadata": {},
   "outputs": [
    {
     "name": "stdout",
     "output_type": "stream",
     "text": [
      ">i4\n",
      "int32\n",
      ">i8\n",
      "int64\n"
     ]
    }
   ],
   "source": [
    "a4 = np.dtype(\">i4\")\n",
    "print(a4)\n",
    "print(a4.name)\n",
    "\n",
    "a5 = np.dtype(\">i8\")\n",
    "print(a5)\n",
    "print(a5.name)"
   ]
  },
  {
   "cell_type": "code",
   "execution_count": 23,
   "metadata": {},
   "outputs": [
    {
     "name": "stdout",
     "output_type": "stream",
     "text": [
      "[0, 1, 2, 3, 4, 5, 6, 7, 8, 9, 0, 1, 2, 3, 4, 5, 6, 7, 8, 9]\n"
     ]
    }
   ],
   "source": [
    "# 벡터화 연산\n",
    "\n",
    "data1 = [0, 1, 2, 3, 4, 5, 6, 7, 8, 9]\n",
    "print(data1 * 2)\n",
    "# print(data1 - 2)"
   ]
  },
  {
   "cell_type": "code",
   "execution_count": 26,
   "metadata": {},
   "outputs": [
    {
     "name": "stdout",
     "output_type": "stream",
     "text": [
      "[ 0  2  4  6  8 10 12 14 16 18]\n",
      "[-2 -1  0  1  2  3  4  5  6  7]\n",
      "[ 2  3  4  5  6  7  8  9 10 11]\n"
     ]
    }
   ],
   "source": [
    "data2 = np.array(data1)\n",
    "print(data2 * 2)\n",
    "print(data2 - 2)\n",
    "print(data2 + 2)"
   ]
  },
  {
   "cell_type": "code",
   "execution_count": 28,
   "metadata": {},
   "outputs": [
    {
     "name": "stdout",
     "output_type": "stream",
     "text": [
      "0 1\n"
     ]
    }
   ],
   "source": [
    "# 인덱스 접근\n",
    "print(data2[0], data2[1])"
   ]
  },
  {
   "cell_type": "markdown",
   "metadata": {},
   "source": [
    "### 2. 2차원 배열"
   ]
  },
  {
   "cell_type": "code",
   "execution_count": 31,
   "metadata": {},
   "outputs": [
    {
     "name": "stdout",
     "output_type": "stream",
     "text": [
      "[[1 2 3]\n",
      " [4 5 6]]\n",
      "(2, 3)\n",
      "int32\n"
     ]
    }
   ],
   "source": [
    "arr = np.array([[1, 2, 3], \n",
    "                [4, 5, 6]])\n",
    "print(arr)\n",
    "print(arr.shape)\n",
    "print(arr.dtype)"
   ]
  },
  {
   "cell_type": "code",
   "execution_count": 35,
   "metadata": {},
   "outputs": [
    {
     "name": "stdout",
     "output_type": "stream",
     "text": [
      "[1 2 3]\n",
      "2\n",
      "-------------------\n",
      "2\n",
      "3\n"
     ]
    }
   ],
   "source": [
    "# 접근\n",
    "print(arr[0])\n",
    "print(arr[0][1])\n",
    "print(\"-------------------\")\n",
    "print(len(arr))\n",
    "print(len(arr[0]))"
   ]
  },
  {
   "cell_type": "code",
   "execution_count": null,
   "metadata": {},
   "outputs": [],
   "source": []
  },
  {
   "cell_type": "code",
   "execution_count": null,
   "metadata": {},
   "outputs": [],
   "source": []
  }
 ],
 "metadata": {
  "kernelspec": {
   "display_name": "Python 3",
   "language": "python",
   "name": "python3"
  },
  "language_info": {
   "codemirror_mode": {
    "name": "ipython",
    "version": 3
   },
   "file_extension": ".py",
   "mimetype": "text/x-python",
   "name": "python",
   "nbconvert_exporter": "python",
   "pygments_lexer": "ipython3",
   "version": "3.8.5"
  }
 },
 "nbformat": 4,
 "nbformat_minor": 4
}
